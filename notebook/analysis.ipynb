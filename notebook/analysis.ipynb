{
 "cells": [
  {
   "cell_type": "markdown",
   "id": "ccc73338",
   "metadata": {},
   "source": [
    "# Análise Avançada dos Dados dos Professores\n",
    "\n",
    "Este notebook realiza análises avançadas dos dados dos professores a partir do arquivo JSON."
   ]
  },
  {
   "cell_type": "code",
   "execution_count": 6,
   "id": "96895423",
   "metadata": {},
   "outputs": [],
   "source": [
    "import sys\n",
    "\n",
    "sys.path.append(\"..\")\n",
    "\n",
    "import json\n",
    "import os\n",
    "from collections import Counter, defaultdict\n",
    "from typing import Any\n",
    "from statistics import mean, median, stdev\n",
    "from dataclasses import dataclass\n",
    "from scripts.parse_profiles import (\n",
    "    ProfessorData,\n",
    "    Identificacao,\n",
    "    Endereco,\n",
    "    Formacao,\n",
    "    PosDoutorado,\n",
    "    FormacaoComplementar,\n",
    "    VinculoInstitucional,\n",
    "    Projeto,\n",
    "    ProducaoBibliografica,\n",
    ")\n",
    "import pandas as pd"
   ]
  },
  {
   "cell_type": "code",
   "execution_count": 7,
   "id": "daf4afd0",
   "metadata": {},
   "outputs": [],
   "source": [
    "@dataclass\n",
    "class AnalysisResult:\n",
    "    \"\"\"Container for analysis results with metadata.\"\"\"\n",
    "\n",
    "    name: str\n",
    "    data: dict[str, Any]\n",
    "    description: str"
   ]
  },
  {
   "cell_type": "code",
   "execution_count": 8,
   "id": "d2a1712a",
   "metadata": {},
   "outputs": [],
   "source": [
    "def load_professores_data(json_path: str) -> list[ProfessorData]:\n",
    "    \"\"\"\n",
    "    Loads and parses the professores.json file into a list of ProfessorData objects.\n",
    "\n",
    "    Args:\n",
    "        json_path (str): Path to the JSON file.\n",
    "\n",
    "    Returns:\n",
    "        List[ProfessorData]: List of parsed ProfessorData instances.\n",
    "\n",
    "    Raises:\n",
    "        FileNotFoundError: If the file does not exist.\n",
    "        ValueError: If JSON parsing fails.\n",
    "    \"\"\"\n",
    "    if not os.path.exists(json_path):\n",
    "        raise FileNotFoundError(f\"Arquivo não encontrado: {json_path}\")\n",
    "\n",
    "    with open(json_path, encoding=\"utf-8\") as f:\n",
    "        try:\n",
    "            data = json.load(f)\n",
    "        except json.JSONDecodeError as e:\n",
    "            raise ValueError(f\"Erro ao decodificar JSON: {e}\")\n",
    "\n",
    "    professores: list[ProfessorData] = []\n",
    "    for item in data:\n",
    "        # Parse each field into the corresponding dataclass\n",
    "        identificacao = Identificacao(**item[\"identificacao\"])\n",
    "        endereco = Endereco(**item[\"endereco\"])\n",
    "        resumo = item[\"resumo\"]\n",
    "        formacao_academica = [Formacao(**f) for f in item[\"formacao_academica\"]]\n",
    "        pos_doutorado = [PosDoutorado(**p) for p in item[\"pos_doutorado\"]]\n",
    "        formacao_complementar = [\n",
    "            FormacaoComplementar(**fc) for fc in item[\"formacao_complementar\"]\n",
    "        ]\n",
    "        atuacao_profissional = [\n",
    "            VinculoInstitucional(**ap) for ap in item[\"atuacao_profissional\"]\n",
    "        ]\n",
    "        projetos_pesquisa = [Projeto(**pp) for pp in item[\"projetos_pesquisa\"]]\n",
    "        projetos_extensao = [Projeto(**pe) for pe in item[\"projetos_extensao\"]]\n",
    "        producao_bibliografica = [\n",
    "            ProducaoBibliografica(**pb) for pb in item[\"producao_bibliografica\"]\n",
    "        ]\n",
    "        coautores_publicacoes = item[\"coautores_publicacoes\"]\n",
    "        colaboradores_projetos = item[\"colaboradores_projetos\"]\n",
    "\n",
    "        professor = ProfessorData(\n",
    "            identificacao=identificacao,\n",
    "            endereco=endereco,\n",
    "            resumo=resumo,\n",
    "            formacao_academica=formacao_academica,\n",
    "            pos_doutorado=pos_doutorado,\n",
    "            formacao_complementar=formacao_complementar,\n",
    "            atuacao_profissional=atuacao_profissional,\n",
    "            projetos_pesquisa=projetos_pesquisa,\n",
    "            projetos_extensao=projetos_extensao,\n",
    "            producao_bibliografica=producao_bibliografica,\n",
    "            coautores_publicacoes=coautores_publicacoes,\n",
    "            colaboradores_projetos=colaboradores_projetos,\n",
    "        )\n",
    "        professores.append(professor)\n",
    "\n",
    "    return professores"
   ]
  },
  {
   "cell_type": "code",
   "execution_count": 9,
   "id": "57d929e3",
   "metadata": {},
   "outputs": [
    {
     "name": "stdout",
     "output_type": "stream",
     "text": [
      "Total de professores carregados: 50\n",
      "Primeiro professor (exemplo):\n",
      "Adriana Carla Damasceno\n"
     ]
    }
   ],
   "source": [
    "# Carregar os dados dos professores\n",
    "json_path = \"../data/professores.json\"\n",
    "professores = load_professores_data(json_path)\n",
    "print(f\"Total de professores carregados: {len(professores)}\")\n",
    "print(\"Primeiro professor (exemplo):\")\n",
    "print(professores[0].identificacao.nome if professores else \"Nenhum dado\")"
   ]
  },
  {
   "cell_type": "code",
   "execution_count": 10,
   "id": "b80622cf",
   "metadata": {},
   "outputs": [],
   "source": [
    "def _calculate_experience_years(professores: list[ProfessorData]) -> list[float]:\n",
    "    \"\"\"Helper to calculate approximate years of experience from atuacao_profissional.\"\"\"\n",
    "    experiences = []\n",
    "    for p in professores:\n",
    "        years = 0.0\n",
    "        for vinc in p.atuacao_profissional:\n",
    "            # Simple heuristic: assume 1 year per vinculo if period is vague\n",
    "            if vinc.periodo:\n",
    "                years += 1.0  # Placeholder; enhance with date parsing if needed\n",
    "        experiences.append(years)\n",
    "    return experiences"
   ]
  },
  {
   "cell_type": "code",
   "execution_count": 11,
   "id": "71a3d3c8",
   "metadata": {},
   "outputs": [],
   "source": [
    "def analyze_enhanced_basic_stats(professores: list[ProfessorData]) -> AnalysisResult:\n",
    "    \"\"\"\n",
    "    Performs enhanced basic statistical analyses, including experience metrics.\n",
    "\n",
    "    Returns:\n",
    "        AnalysisResult: Enhanced stats with experience averages.\n",
    "    \"\"\"\n",
    "    total_professores = len(professores)\n",
    "    if total_professores == 0:\n",
    "        return AnalysisResult(\n",
    "            name=\"enhanced_basic_stats\", data={}, description=\"No data available.\"\n",
    "        )\n",
    "\n",
    "    nacionalidades = Counter(\n",
    "        p.identificacao.pais_nacionalidade\n",
    "        for p in professores\n",
    "        if p.identificacao.pais_nacionalidade\n",
    "    )\n",
    "    with_orcid = sum(1 for p in professores if p.identificacao.orcid_id)\n",
    "    experiences = _calculate_experience_years(professores)\n",
    "    avg_experience = mean(experiences) if experiences else 0.0\n",
    "    median_experience = median(experiences) if experiences else 0.0\n",
    "\n",
    "    return AnalysisResult(\n",
    "        name=\"enhanced_basic_stats\",\n",
    "        data={\n",
    "            \"total_professores\": total_professores,\n",
    "            \"nacionalidades\": dict(nacionalidades),\n",
    "            \"professores_com_orcid\": with_orcid,\n",
    "            \"percentual_com_orcid\": (with_orcid / total_professores * 100),\n",
    "            \"media_anos_experiencia\": avg_experience,\n",
    "            \"mediana_anos_experiencia\": median_experience,\n",
    "        },\n",
    "        description=\"Basic stats with experience metrics.\",\n",
    "    )"
   ]
  },
  {
   "cell_type": "code",
   "execution_count": 12,
   "id": "d1c91c5c",
   "metadata": {},
   "outputs": [
    {
     "name": "stdout",
     "output_type": "stream",
     "text": [
      "### Estatísticas Básicas Aprimoradas\n",
      "**Descrição:** Basic stats with experience metrics.\n",
      "\n"
     ]
    },
    {
     "data": {
      "application/vnd.microsoft.datawrangler.viewer.v0+json": {
       "columns": [
        {
         "name": "index",
         "rawType": "int64",
         "type": "integer"
        },
        {
         "name": "Métrica",
         "rawType": "object",
         "type": "string"
        },
        {
         "name": "Valor",
         "rawType": "float64",
         "type": "float"
        }
       ],
       "ref": "df37dcd2-9bf1-436a-b3e6-742f0ebbd281",
       "rows": [
        [
         "0",
         "Total de Professores",
         "50.0"
        ],
        [
         "1",
         "Professores com ORCID",
         "14.0"
        ],
        [
         "2",
         "Percentual com ORCID (%)",
         "28.0"
        ],
        [
         "3",
         "Média Anos de Experiência",
         "5.58"
        ],
        [
         "4",
         "Mediana Anos de Experiência",
         "5.0"
        ]
       ],
       "shape": {
        "columns": 2,
        "rows": 5
       }
      },
      "text/html": [
       "<div>\n",
       "<style scoped>\n",
       "    .dataframe tbody tr th:only-of-type {\n",
       "        vertical-align: middle;\n",
       "    }\n",
       "\n",
       "    .dataframe tbody tr th {\n",
       "        vertical-align: top;\n",
       "    }\n",
       "\n",
       "    .dataframe thead th {\n",
       "        text-align: right;\n",
       "    }\n",
       "</style>\n",
       "<table border=\"1\" class=\"dataframe\">\n",
       "  <thead>\n",
       "    <tr style=\"text-align: right;\">\n",
       "      <th></th>\n",
       "      <th>Métrica</th>\n",
       "      <th>Valor</th>\n",
       "    </tr>\n",
       "  </thead>\n",
       "  <tbody>\n",
       "    <tr>\n",
       "      <th>0</th>\n",
       "      <td>Total de Professores</td>\n",
       "      <td>50.00</td>\n",
       "    </tr>\n",
       "    <tr>\n",
       "      <th>1</th>\n",
       "      <td>Professores com ORCID</td>\n",
       "      <td>14.00</td>\n",
       "    </tr>\n",
       "    <tr>\n",
       "      <th>2</th>\n",
       "      <td>Percentual com ORCID (%)</td>\n",
       "      <td>28.00</td>\n",
       "    </tr>\n",
       "    <tr>\n",
       "      <th>3</th>\n",
       "      <td>Média Anos de Experiência</td>\n",
       "      <td>5.58</td>\n",
       "    </tr>\n",
       "    <tr>\n",
       "      <th>4</th>\n",
       "      <td>Mediana Anos de Experiência</td>\n",
       "      <td>5.00</td>\n",
       "    </tr>\n",
       "  </tbody>\n",
       "</table>\n",
       "</div>"
      ],
      "text/plain": [
       "                       Métrica  Valor\n",
       "0         Total de Professores  50.00\n",
       "1        Professores com ORCID  14.00\n",
       "2     Percentual com ORCID (%)  28.00\n",
       "3    Média Anos de Experiência   5.58\n",
       "4  Mediana Anos de Experiência   5.00"
      ]
     },
     "metadata": {},
     "output_type": "display_data"
    },
    {
     "name": "stdout",
     "output_type": "stream",
     "text": [
      "\n",
      "**Distribuição de Nacionalidades:**\n"
     ]
    },
    {
     "data": {
      "application/vnd.microsoft.datawrangler.viewer.v0+json": {
       "columns": [
        {
         "name": "Nacionalidade",
         "rawType": "object",
         "type": "string"
        },
        {
         "name": "Contagem",
         "rawType": "int64",
         "type": "integer"
        }
       ],
       "ref": "3c43de83-e159-40b3-937e-e7483f6b0f31",
       "rows": [
        [
         "Brasil",
         "47"
        ],
        [
         "Peru",
         "2"
        ]
       ],
       "shape": {
        "columns": 1,
        "rows": 2
       }
      },
      "text/html": [
       "<div>\n",
       "<style scoped>\n",
       "    .dataframe tbody tr th:only-of-type {\n",
       "        vertical-align: middle;\n",
       "    }\n",
       "\n",
       "    .dataframe tbody tr th {\n",
       "        vertical-align: top;\n",
       "    }\n",
       "\n",
       "    .dataframe thead th {\n",
       "        text-align: right;\n",
       "    }\n",
       "</style>\n",
       "<table border=\"1\" class=\"dataframe\">\n",
       "  <thead>\n",
       "    <tr style=\"text-align: right;\">\n",
       "      <th></th>\n",
       "      <th>Contagem</th>\n",
       "    </tr>\n",
       "    <tr>\n",
       "      <th>Nacionalidade</th>\n",
       "      <th></th>\n",
       "    </tr>\n",
       "  </thead>\n",
       "  <tbody>\n",
       "    <tr>\n",
       "      <th>Brasil</th>\n",
       "      <td>47</td>\n",
       "    </tr>\n",
       "    <tr>\n",
       "      <th>Peru</th>\n",
       "      <td>2</td>\n",
       "    </tr>\n",
       "  </tbody>\n",
       "</table>\n",
       "</div>"
      ],
      "text/plain": [
       "               Contagem\n",
       "Nacionalidade          \n",
       "Brasil               47\n",
       "Peru                  2"
      ]
     },
     "metadata": {},
     "output_type": "display_data"
    }
   ],
   "source": [
    "# Executar análise de estatísticas básicas aprimoradas\n",
    "basic_stats = analyze_enhanced_basic_stats(professores)\n",
    "\n",
    "# Apresentar resultados de forma profissional usando pandas\n",
    "\n",
    "print(\"### Estatísticas Básicas Aprimoradas\")\n",
    "print(f\"**Descrição:** {basic_stats.description}\")\n",
    "print()\n",
    "\n",
    "# Dados principais\n",
    "main_data = {\n",
    "    \"Métrica\": [\n",
    "        \"Total de Professores\",\n",
    "        \"Professores com ORCID\",\n",
    "        \"Percentual com ORCID (%)\",\n",
    "        \"Média Anos de Experiência\",\n",
    "        \"Mediana Anos de Experiência\",\n",
    "    ],\n",
    "    \"Valor\": [\n",
    "        basic_stats.data[\"total_professores\"],\n",
    "        basic_stats.data[\"professores_com_orcid\"],\n",
    "        round(basic_stats.data[\"percentual_com_orcid\"], 2),\n",
    "        round(basic_stats.data[\"media_anos_experiencia\"], 2),\n",
    "        round(basic_stats.data[\"mediana_anos_experiencia\"], 2),\n",
    "    ],\n",
    "}\n",
    "df_main = pd.DataFrame(main_data)\n",
    "display(df_main)\n",
    "\n",
    "print()\n",
    "print(\"**Distribuição de Nacionalidades:**\")\n",
    "if basic_stats.data[\"nacionalidades\"]:\n",
    "    df_nac = pd.DataFrame.from_dict(\n",
    "        basic_stats.data[\"nacionalidades\"], orient=\"index\", columns=[\"Contagem\"]\n",
    "    )\n",
    "    df_nac.index.name = \"Nacionalidade\"\n",
    "    display(df_nac.sort_values(\"Contagem\", ascending=False))\n",
    "else:\n",
    "    print(\"Nenhuma nacionalidade registrada.\")"
   ]
  },
  {
   "cell_type": "code",
   "execution_count": 13,
   "id": "f0384df2",
   "metadata": {},
   "outputs": [],
   "source": [
    "def analyze_enhanced_formacao(professores: list[ProfessorData]) -> AnalysisResult:\n",
    "    \"\"\"\n",
    "    Analyzes academic qualifications with institution distribution and graduation years.\n",
    "\n",
    "    Returns:\n",
    "        AnalysisResult: Detailed formation analysis.\n",
    "    \"\"\"\n",
    "    tipos_formacao = Counter()\n",
    "    institutions = Counter()\n",
    "    graduation_years = []\n",
    "    for p in professores:\n",
    "        for f in p.formacao_academica:\n",
    "            tipos_formacao[f.tipo_formacao] += 1\n",
    "            # Extract institution from descricao_formacao (heuristic)\n",
    "            if \"Universidade\" in f.descricao_formacao:\n",
    "                inst = (\n",
    "                    f.descricao_formacao.split(\"Universidade\")[1].split(\",\")[0].strip()\n",
    "                )\n",
    "                institutions[inst] += 1\n",
    "            # Extract year if available\n",
    "            import re\n",
    "\n",
    "            year_match = re.search(r\"\\b(19|20)\\d{2}\\b\", f.periodo)\n",
    "            if year_match:\n",
    "                graduation_years.append(int(year_match.group(0)))\n",
    "\n",
    "    avg_graduation_year = mean(graduation_years) if graduation_years else None\n",
    "    total_pos_doutorado = sum(len(p.pos_doutorado) for p in professores)\n",
    "\n",
    "    return AnalysisResult(\n",
    "        name=\"enhanced_formacao\",\n",
    "        data={\n",
    "            \"tipos_formacao_academica\": dict(tipos_formacao),\n",
    "            \"distribuicao_instituicoes\": dict(institutions),\n",
    "            \"media_ano_formatura\": avg_graduation_year,\n",
    "            \"total_pos_doutorado\": total_pos_doutorado,\n",
    "        },\n",
    "        description=\"Formation analysis with institutions and years.\",\n",
    "    )"
   ]
  },
  {
   "cell_type": "code",
   "execution_count": 14,
   "id": "2ecb26c0",
   "metadata": {},
   "outputs": [
    {
     "name": "stdout",
     "output_type": "stream",
     "text": [
      "### Análise de Formação Acadêmica\n",
      "**Descrição:** Formation analysis with institutions and years.\n",
      "\n"
     ]
    },
    {
     "data": {
      "application/vnd.microsoft.datawrangler.viewer.v0+json": {
       "columns": [
        {
         "name": "index",
         "rawType": "int64",
         "type": "integer"
        },
        {
         "name": "Métrica",
         "rawType": "object",
         "type": "string"
        },
        {
         "name": "Valor",
         "rawType": "float64",
         "type": "float"
        }
       ],
       "ref": "33e07a89-21c3-4e18-a2e5-8fdd71c60e9f",
       "rows": [
        [
         "0",
         "Média Ano de Formatura",
         "1999.96"
        ],
        [
         "1",
         "Total Pós-Doutorado",
         "21.0"
        ]
       ],
       "shape": {
        "columns": 2,
        "rows": 2
       }
      },
      "text/html": [
       "<div>\n",
       "<style scoped>\n",
       "    .dataframe tbody tr th:only-of-type {\n",
       "        vertical-align: middle;\n",
       "    }\n",
       "\n",
       "    .dataframe tbody tr th {\n",
       "        vertical-align: top;\n",
       "    }\n",
       "\n",
       "    .dataframe thead th {\n",
       "        text-align: right;\n",
       "    }\n",
       "</style>\n",
       "<table border=\"1\" class=\"dataframe\">\n",
       "  <thead>\n",
       "    <tr style=\"text-align: right;\">\n",
       "      <th></th>\n",
       "      <th>Métrica</th>\n",
       "      <th>Valor</th>\n",
       "    </tr>\n",
       "  </thead>\n",
       "  <tbody>\n",
       "    <tr>\n",
       "      <th>0</th>\n",
       "      <td>Média Ano de Formatura</td>\n",
       "      <td>1999.96</td>\n",
       "    </tr>\n",
       "    <tr>\n",
       "      <th>1</th>\n",
       "      <td>Total Pós-Doutorado</td>\n",
       "      <td>21.00</td>\n",
       "    </tr>\n",
       "  </tbody>\n",
       "</table>\n",
       "</div>"
      ],
      "text/plain": [
       "                  Métrica    Valor\n",
       "0  Média Ano de Formatura  1999.96\n",
       "1     Total Pós-Doutorado    21.00"
      ]
     },
     "metadata": {},
     "output_type": "display_data"
    },
    {
     "name": "stdout",
     "output_type": "stream",
     "text": [
      "\n",
      "**Tipos de Formação Acadêmica:**\n"
     ]
    },
    {
     "data": {
      "application/vnd.microsoft.datawrangler.viewer.v0+json": {
       "columns": [
        {
         "name": "Tipo",
         "rawType": "object",
         "type": "string"
        },
        {
         "name": "Contagem",
         "rawType": "int64",
         "type": "integer"
        }
       ],
       "ref": "c9c7c45d-5234-40dc-9864-8a7850eba51b",
       "rows": [
        [
         "Graduação",
         "53"
        ],
        [
         "Doutorado",
         "50"
        ],
        [
         "Mestrado",
         "48"
        ],
        [
         "Técnico/Profissionalizante",
         "9"
        ],
        [
         "Não identificado",
         "5"
        ],
        [
         "Especialização",
         "4"
        ],
        [
         "Aperfeiçoamento",
         "1"
        ]
       ],
       "shape": {
        "columns": 1,
        "rows": 7
       }
      },
      "text/html": [
       "<div>\n",
       "<style scoped>\n",
       "    .dataframe tbody tr th:only-of-type {\n",
       "        vertical-align: middle;\n",
       "    }\n",
       "\n",
       "    .dataframe tbody tr th {\n",
       "        vertical-align: top;\n",
       "    }\n",
       "\n",
       "    .dataframe thead th {\n",
       "        text-align: right;\n",
       "    }\n",
       "</style>\n",
       "<table border=\"1\" class=\"dataframe\">\n",
       "  <thead>\n",
       "    <tr style=\"text-align: right;\">\n",
       "      <th></th>\n",
       "      <th>Contagem</th>\n",
       "    </tr>\n",
       "    <tr>\n",
       "      <th>Tipo</th>\n",
       "      <th></th>\n",
       "    </tr>\n",
       "  </thead>\n",
       "  <tbody>\n",
       "    <tr>\n",
       "      <th>Graduação</th>\n",
       "      <td>53</td>\n",
       "    </tr>\n",
       "    <tr>\n",
       "      <th>Doutorado</th>\n",
       "      <td>50</td>\n",
       "    </tr>\n",
       "    <tr>\n",
       "      <th>Mestrado</th>\n",
       "      <td>48</td>\n",
       "    </tr>\n",
       "    <tr>\n",
       "      <th>Técnico/Profissionalizante</th>\n",
       "      <td>9</td>\n",
       "    </tr>\n",
       "    <tr>\n",
       "      <th>Não identificado</th>\n",
       "      <td>5</td>\n",
       "    </tr>\n",
       "    <tr>\n",
       "      <th>Especialização</th>\n",
       "      <td>4</td>\n",
       "    </tr>\n",
       "    <tr>\n",
       "      <th>Aperfeiçoamento</th>\n",
       "      <td>1</td>\n",
       "    </tr>\n",
       "  </tbody>\n",
       "</table>\n",
       "</div>"
      ],
      "text/plain": [
       "                            Contagem\n",
       "Tipo                                \n",
       "Graduação                         53\n",
       "Doutorado                         50\n",
       "Mestrado                          48\n",
       "Técnico/Profissionalizante         9\n",
       "Não identificado                   5\n",
       "Especialização                     4\n",
       "Aperfeiçoamento                    1"
      ]
     },
     "metadata": {},
     "output_type": "display_data"
    },
    {
     "name": "stdout",
     "output_type": "stream",
     "text": [
      "\n",
      "**Distribuição de Instituições:**\n"
     ]
    },
    {
     "data": {
      "application/vnd.microsoft.datawrangler.viewer.v0+json": {
       "columns": [
        {
         "name": "Instituição",
         "rawType": "object",
         "type": "string"
        },
        {
         "name": "Contagem",
         "rawType": "int64",
         "type": "integer"
        }
       ],
       "ref": "719ad3aa-5cad-4578-b6e0-fbc4d3027741",
       "rows": [
        [
         "Federal da Paraíba",
         "48"
        ],
        [
         "Federal de Pernambuco",
         "24"
        ],
        [
         "Federal de Campina Grande",
         "20"
        ],
        [
         "Federal do Rio de Janeiro",
         "9"
        ],
        [
         "Federal do Rio Grande do Norte",
         "6"
        ],
        [
         "Católica do Rio de Janeiro",
         "5"
        ],
        [
         "Federal do Rio Grande do Sul",
         "4"
        ],
        [
         "de São Paulo",
         "3"
        ],
        [
         "Federal Fluminense",
         "3"
        ],
        [
         "Federal do Paraná",
         "2"
        ],
        [
         "Estadual Paulista Júlio de Mesquita Filho",
         "2"
        ],
        [
         "Federal do Ceará",
         "2"
        ],
        [
         "Federal do Rio Grande",
         "1"
        ],
        [
         "Regional do Noroeste do Estado do RS",
         "1"
        ],
        [
         "Federal Rural do Semi-Árido",
         "1"
        ],
        [
         "Federal de Juiz de Fora",
         "1"
        ],
        [
         "Federal de Viçosa",
         "1"
        ],
        [
         "de Brasília",
         "1"
        ],
        [
         "Estadual de Feira de Santana",
         "1"
        ],
        [
         "de Coimbra",
         "1"
        ],
        [
         "do Estado do Rio de Janeiro",
         "1"
        ],
        [
         "Estadual do Ceará",
         "1"
        ]
       ],
       "shape": {
        "columns": 1,
        "rows": 22
       }
      },
      "text/html": [
       "<div>\n",
       "<style scoped>\n",
       "    .dataframe tbody tr th:only-of-type {\n",
       "        vertical-align: middle;\n",
       "    }\n",
       "\n",
       "    .dataframe tbody tr th {\n",
       "        vertical-align: top;\n",
       "    }\n",
       "\n",
       "    .dataframe thead th {\n",
       "        text-align: right;\n",
       "    }\n",
       "</style>\n",
       "<table border=\"1\" class=\"dataframe\">\n",
       "  <thead>\n",
       "    <tr style=\"text-align: right;\">\n",
       "      <th></th>\n",
       "      <th>Contagem</th>\n",
       "    </tr>\n",
       "    <tr>\n",
       "      <th>Instituição</th>\n",
       "      <th></th>\n",
       "    </tr>\n",
       "  </thead>\n",
       "  <tbody>\n",
       "    <tr>\n",
       "      <th>Federal da Paraíba</th>\n",
       "      <td>48</td>\n",
       "    </tr>\n",
       "    <tr>\n",
       "      <th>Federal de Pernambuco</th>\n",
       "      <td>24</td>\n",
       "    </tr>\n",
       "    <tr>\n",
       "      <th>Federal de Campina Grande</th>\n",
       "      <td>20</td>\n",
       "    </tr>\n",
       "    <tr>\n",
       "      <th>Federal do Rio de Janeiro</th>\n",
       "      <td>9</td>\n",
       "    </tr>\n",
       "    <tr>\n",
       "      <th>Federal do Rio Grande do Norte</th>\n",
       "      <td>6</td>\n",
       "    </tr>\n",
       "    <tr>\n",
       "      <th>Católica do Rio de Janeiro</th>\n",
       "      <td>5</td>\n",
       "    </tr>\n",
       "    <tr>\n",
       "      <th>Federal do Rio Grande do Sul</th>\n",
       "      <td>4</td>\n",
       "    </tr>\n",
       "    <tr>\n",
       "      <th>de São Paulo</th>\n",
       "      <td>3</td>\n",
       "    </tr>\n",
       "    <tr>\n",
       "      <th>Federal Fluminense</th>\n",
       "      <td>3</td>\n",
       "    </tr>\n",
       "    <tr>\n",
       "      <th>Federal do Paraná</th>\n",
       "      <td>2</td>\n",
       "    </tr>\n",
       "    <tr>\n",
       "      <th>Estadual Paulista Júlio de Mesquita Filho</th>\n",
       "      <td>2</td>\n",
       "    </tr>\n",
       "    <tr>\n",
       "      <th>Federal do Ceará</th>\n",
       "      <td>2</td>\n",
       "    </tr>\n",
       "    <tr>\n",
       "      <th>Federal do Rio Grande</th>\n",
       "      <td>1</td>\n",
       "    </tr>\n",
       "    <tr>\n",
       "      <th>Regional do Noroeste do Estado do RS</th>\n",
       "      <td>1</td>\n",
       "    </tr>\n",
       "    <tr>\n",
       "      <th>Federal Rural do Semi-Árido</th>\n",
       "      <td>1</td>\n",
       "    </tr>\n",
       "    <tr>\n",
       "      <th>Federal de Juiz de Fora</th>\n",
       "      <td>1</td>\n",
       "    </tr>\n",
       "    <tr>\n",
       "      <th>Federal de Viçosa</th>\n",
       "      <td>1</td>\n",
       "    </tr>\n",
       "    <tr>\n",
       "      <th>de Brasília</th>\n",
       "      <td>1</td>\n",
       "    </tr>\n",
       "    <tr>\n",
       "      <th>Estadual de Feira de Santana</th>\n",
       "      <td>1</td>\n",
       "    </tr>\n",
       "    <tr>\n",
       "      <th>de Coimbra</th>\n",
       "      <td>1</td>\n",
       "    </tr>\n",
       "    <tr>\n",
       "      <th>do Estado do Rio de Janeiro</th>\n",
       "      <td>1</td>\n",
       "    </tr>\n",
       "    <tr>\n",
       "      <th>Estadual do Ceará</th>\n",
       "      <td>1</td>\n",
       "    </tr>\n",
       "  </tbody>\n",
       "</table>\n",
       "</div>"
      ],
      "text/plain": [
       "                                           Contagem\n",
       "Instituição                                        \n",
       "Federal da Paraíba                               48\n",
       "Federal de Pernambuco                            24\n",
       "Federal de Campina Grande                        20\n",
       "Federal do Rio de Janeiro                         9\n",
       "Federal do Rio Grande do Norte                    6\n",
       "Católica do Rio de Janeiro                        5\n",
       "Federal do Rio Grande do Sul                      4\n",
       "de São Paulo                                      3\n",
       "Federal Fluminense                                3\n",
       "Federal do Paraná                                 2\n",
       "Estadual Paulista Júlio de Mesquita Filho         2\n",
       "Federal do Ceará                                  2\n",
       "Federal do Rio Grande                             1\n",
       "Regional do Noroeste do Estado do RS              1\n",
       "Federal Rural do Semi-Árido                       1\n",
       "Federal de Juiz de Fora                           1\n",
       "Federal de Viçosa                                 1\n",
       "de Brasília                                       1\n",
       "Estadual de Feira de Santana                      1\n",
       "de Coimbra                                        1\n",
       "do Estado do Rio de Janeiro                       1\n",
       "Estadual do Ceará                                 1"
      ]
     },
     "metadata": {},
     "output_type": "display_data"
    }
   ],
   "source": [
    "# Executar análise de formação acadêmica aprimorada\n",
    "formacao_stats = analyze_enhanced_formacao(professores)\n",
    "\n",
    "print(\"### Análise de Formação Acadêmica\")\n",
    "print(f\"**Descrição:** {formacao_stats.description}\")\n",
    "print()\n",
    "\n",
    "# Dados principais\n",
    "main_data = {\n",
    "    \"Métrica\": [\"Média Ano de Formatura\", \"Total Pós-Doutorado\"],\n",
    "    \"Valor\": [\n",
    "        round(formacao_stats.data[\"media_ano_formatura\"], 2)\n",
    "        if formacao_stats.data[\"media_ano_formatura\"]\n",
    "        else \"N/A\",\n",
    "        formacao_stats.data[\"total_pos_doutorado\"],\n",
    "    ],\n",
    "}\n",
    "df_main = pd.DataFrame(main_data)\n",
    "display(df_main)\n",
    "\n",
    "print()\n",
    "print(\"**Tipos de Formação Acadêmica:**\")\n",
    "if formacao_stats.data[\"tipos_formacao_academica\"]:\n",
    "    df_tipos = pd.DataFrame.from_dict(\n",
    "        formacao_stats.data[\"tipos_formacao_academica\"],\n",
    "        orient=\"index\",\n",
    "        columns=[\"Contagem\"],\n",
    "    )\n",
    "    df_tipos.index.name = \"Tipo\"\n",
    "    display(df_tipos.sort_values(\"Contagem\", ascending=False))\n",
    "else:\n",
    "    print(\"Nenhum tipo registrado.\")\n",
    "\n",
    "print()\n",
    "print(\"**Distribuição de Instituições:**\")\n",
    "if formacao_stats.data[\"distribuicao_instituicoes\"]:\n",
    "    df_inst = pd.DataFrame.from_dict(\n",
    "        formacao_stats.data[\"distribuicao_instituicoes\"],\n",
    "        orient=\"index\",\n",
    "        columns=[\"Contagem\"],\n",
    "    )\n",
    "    df_inst.index.name = \"Instituição\"\n",
    "    display(df_inst.sort_values(\"Contagem\", ascending=False))\n",
    "else:\n",
    "    print(\"Nenhuma instituição registrada.\")"
   ]
  },
  {
   "cell_type": "code",
   "execution_count": 15,
   "id": "e1ec9b1c",
   "metadata": {},
   "outputs": [],
   "source": [
    "def analyze_publication_impact(professores: list[ProfessorData]) -> AnalysisResult:\n",
    "    \"\"\"\n",
    "    Analyzes publication impact and classifies productions into the required categories:\n",
    "    - Artigos completos publicados em periódicos\n",
    "    - Trabalhos completos publicados em anais de congressos\n",
    "    - Resumos expandidos publicados em anais de congressos\n",
    "    - Resumos publicados em anais de congressos\n",
    "\n",
    "    Uses heuristic keyword matching on title and venue fields. Returns counts,\n",
    "    averages and top venues as before, plus per-category examples.\n",
    "    \"\"\"\n",
    "    total_producoes = sum(len(p.producao_bibliografica) for p in professores)\n",
    "    pub_counts = [len(p.producao_bibliografica) for p in professores]\n",
    "    avg_publications = mean(pub_counts) if pub_counts else 0.0\n",
    "    median_publications = median(pub_counts) if pub_counts else 0.0\n",
    "\n",
    "    # Prepare category buckets\n",
    "    categories: dict[str, list[ProducaoBibliografica]] = {\n",
    "        \"artigos_periodicos\": [],\n",
    "        \"trabalhos_anais\": [],\n",
    "        \"resumos_expandido\": [],\n",
    "        \"resumos_anais\": [],\n",
    "        \"outros\": [],\n",
    "    }\n",
    "\n",
    "    # Keyword heuristics (lowercase)\n",
    "    expanded_kw = [\"resumo expandido\", \"resumo ampliado\", \"expanded abstract\"]\n",
    "    abstract_kw = [\"resumo\", \"abstract\"]\n",
    "    proceedings_kw = [\n",
    "        \"anais\",\n",
    "        \"proceedings\",\n",
    "        \"proceeding\",\n",
    "        \"congresso\",\n",
    "        \"conference\",\n",
    "        \"simposio\",\n",
    "        \"simpósio\",\n",
    "    ]\n",
    "    journal_kw = [\"revista\", \"journal\", \"periódico\", \"periodico\"]\n",
    "\n",
    "    for p in professores:\n",
    "        for pub in p.producao_bibliografica:\n",
    "            title = (pub.titulo or \"\").lower()\n",
    "            venue = (pub.revista or \"\").lower()\n",
    "            text = f\"{title} {venue}\".strip()\n",
    "\n",
    "            # Priority: expanded abstract -> journal (if explicit venue) -> proceedings -> abstract -> others\n",
    "            assigned = False\n",
    "            if any(k in text for k in expanded_kw):\n",
    "                categories[\"resumos_expandido\"].append(pub)\n",
    "                assigned = True\n",
    "            elif (pub.revista and any(k in venue for k in journal_kw)) or (\n",
    "                any(k in text for k in journal_kw) and pub.revista\n",
    "            ):\n",
    "                # treat items with an explicit venue (revista/journal) as journal articles\n",
    "                categories[\"artigos_periodicos\"].append(pub)\n",
    "                assigned = True\n",
    "            elif any(k in text for k in proceedings_kw):\n",
    "                categories[\"trabalhos_anais\"].append(pub)\n",
    "                assigned = True\n",
    "            elif any(k in text for k in abstract_kw):\n",
    "                # Avoid double counting expanded abstracts (already handled above)\n",
    "                if not any(k in text for k in expanded_kw):\n",
    "                    categories[\"resumos_anais\"].append(pub)\n",
    "                    assigned = True\n",
    "\n",
    "            if not assigned:\n",
    "                categories[\"outros\"].append(pub)\n",
    "\n",
    "    counts = {k: len(v) for k, v in categories.items()}\n",
    "\n",
    "    # Co-author diversity\n",
    "    all_coautores = set()\n",
    "    coauthor_counts = []\n",
    "    for p in professores:\n",
    "        all_coautores.update(p.coautores_publicacoes)\n",
    "        coauthor_counts.append(len(p.coautores_publicacoes))\n",
    "    unique_coautores = len(all_coautores)\n",
    "    avg_coauthors_per_prof = mean(coauthor_counts) if coauthor_counts else 0.0\n",
    "\n",
    "    # Venue diversity (top 10)\n",
    "    venues = Counter()\n",
    "    for p in professores:\n",
    "        for pub in p.producao_bibliografica:\n",
    "            if pub.revista:\n",
    "                venues[pub.revista] += 1\n",
    "\n",
    "    # Provide a few example titles for each requested category\n",
    "    sample_titles = {\n",
    "        cat: [getattr(pub, \"titulo\", \"\") for pub in pubs[:5]]\n",
    "        for cat, pubs in categories.items()\n",
    "    }\n",
    "\n",
    "    return AnalysisResult(\n",
    "        name=\"publication_impact\",\n",
    "        data={\n",
    "            \"total_producoes_bibliograficas\": total_producoes,\n",
    "            \"media_publicacoes_por_professor\": avg_publications,\n",
    "            \"mediana_publicacoes_por_professor\": median_publications,\n",
    "            \"unique_coautores\": unique_coautores,\n",
    "            \"media_coautores_por_professor\": avg_coauthors_per_prof,\n",
    "            \"diversidade_venues\": dict(venues.most_common(10)),  # Top 10\n",
    "            # Required category counts\n",
    "            \"Artigos_completos_periodicos\": counts[\"artigos_periodicos\"],\n",
    "            \"Trabalhos_completos_anais_congressos\": counts[\"trabalhos_anais\"],\n",
    "            \"Resumos_expandidos_anais_congressos\": counts[\"resumos_expandido\"],\n",
    "            \"Resumos_anais_congressos\": counts[\"resumos_anais\"],\n",
    "            \"outros_producoes\": counts[\"outros\"],\n",
    "            \"exemplos_por_categoria\": sample_titles,\n",
    "        },\n",
    "        description=\"Publication impact with co-authors and categorized production types.\",\n",
    "    )"
   ]
  },
  {
   "cell_type": "code",
   "execution_count": 16,
   "id": "e04e59b4",
   "metadata": {},
   "outputs": [
    {
     "name": "stdout",
     "output_type": "stream",
     "text": [
      "### Análise de Impacto de Publicações\n",
      "**Descrição:** Publication impact with co-authors and categorized production types.\n",
      "\n"
     ]
    },
    {
     "data": {
      "application/vnd.microsoft.datawrangler.viewer.v0+json": {
       "columns": [
        {
         "name": "index",
         "rawType": "int64",
         "type": "integer"
        },
        {
         "name": "Métrica",
         "rawType": "object",
         "type": "string"
        },
        {
         "name": "Valor",
         "rawType": "float64",
         "type": "float"
        }
       ],
       "ref": "cef9f5ca-6fec-4383-99f9-b68b53727571",
       "rows": [
        [
         "0",
         "Total Produções Bibliográficas",
         "3921.0"
        ],
        [
         "1",
         "Média Publicações por Professor",
         "78.42"
        ],
        [
         "2",
         "Mediana Publicações por Professor",
         "50.5"
        ],
        [
         "3",
         "Coautores Únicos",
         "3958.0"
        ],
        [
         "4",
         "Média Coautores por Professor",
         "91.34"
        ],
        [
         "5",
         "Artigos completos (periódicos)",
         "0.0"
        ],
        [
         "6",
         "Trabalhos completos (anais de congressos)",
         "1793.0"
        ],
        [
         "7",
         "Resumos expandidos (anais de congressos)",
         "0.0"
        ],
        [
         "8",
         "Resumos (anais de congressos)",
         "76.0"
        ]
       ],
       "shape": {
        "columns": 2,
        "rows": 9
       }
      },
      "text/html": [
       "<div>\n",
       "<style scoped>\n",
       "    .dataframe tbody tr th:only-of-type {\n",
       "        vertical-align: middle;\n",
       "    }\n",
       "\n",
       "    .dataframe tbody tr th {\n",
       "        vertical-align: top;\n",
       "    }\n",
       "\n",
       "    .dataframe thead th {\n",
       "        text-align: right;\n",
       "    }\n",
       "</style>\n",
       "<table border=\"1\" class=\"dataframe\">\n",
       "  <thead>\n",
       "    <tr style=\"text-align: right;\">\n",
       "      <th></th>\n",
       "      <th>Métrica</th>\n",
       "      <th>Valor</th>\n",
       "    </tr>\n",
       "  </thead>\n",
       "  <tbody>\n",
       "    <tr>\n",
       "      <th>0</th>\n",
       "      <td>Total Produções Bibliográficas</td>\n",
       "      <td>3921.00</td>\n",
       "    </tr>\n",
       "    <tr>\n",
       "      <th>1</th>\n",
       "      <td>Média Publicações por Professor</td>\n",
       "      <td>78.42</td>\n",
       "    </tr>\n",
       "    <tr>\n",
       "      <th>2</th>\n",
       "      <td>Mediana Publicações por Professor</td>\n",
       "      <td>50.50</td>\n",
       "    </tr>\n",
       "    <tr>\n",
       "      <th>3</th>\n",
       "      <td>Coautores Únicos</td>\n",
       "      <td>3958.00</td>\n",
       "    </tr>\n",
       "    <tr>\n",
       "      <th>4</th>\n",
       "      <td>Média Coautores por Professor</td>\n",
       "      <td>91.34</td>\n",
       "    </tr>\n",
       "    <tr>\n",
       "      <th>5</th>\n",
       "      <td>Artigos completos (periódicos)</td>\n",
       "      <td>0.00</td>\n",
       "    </tr>\n",
       "    <tr>\n",
       "      <th>6</th>\n",
       "      <td>Trabalhos completos (anais de congressos)</td>\n",
       "      <td>1793.00</td>\n",
       "    </tr>\n",
       "    <tr>\n",
       "      <th>7</th>\n",
       "      <td>Resumos expandidos (anais de congressos)</td>\n",
       "      <td>0.00</td>\n",
       "    </tr>\n",
       "    <tr>\n",
       "      <th>8</th>\n",
       "      <td>Resumos (anais de congressos)</td>\n",
       "      <td>76.00</td>\n",
       "    </tr>\n",
       "  </tbody>\n",
       "</table>\n",
       "</div>"
      ],
      "text/plain": [
       "                                     Métrica    Valor\n",
       "0             Total Produções Bibliográficas  3921.00\n",
       "1            Média Publicações por Professor    78.42\n",
       "2          Mediana Publicações por Professor    50.50\n",
       "3                           Coautores Únicos  3958.00\n",
       "4              Média Coautores por Professor    91.34\n",
       "5             Artigos completos (periódicos)     0.00\n",
       "6  Trabalhos completos (anais de congressos)  1793.00\n",
       "7   Resumos expandidos (anais de congressos)     0.00\n",
       "8              Resumos (anais de congressos)    76.00"
      ]
     },
     "metadata": {},
     "output_type": "display_data"
    },
    {
     "name": "stdout",
     "output_type": "stream",
     "text": [
      "\n",
      "**Top 10 Diversidade de Veículos:**\n",
      "Nenhum veículo registrado.\n",
      "\n",
      "**Exemplos por categoria (até 5 títulos):**)\n",
      "\n",
      "artigos_periodicos: 0 exemplos\n",
      "\n",
      "trabalhos_anais: 5 exemplos\n",
      " - Programa ?Servidoras que Transformam? - Cursos de Formação Intensiva em Programação Python para Servidoras Públicas: Um Relato de Experiência. In: WOMEN IN INFORMATION TECHNOLOGY (WIT), 2024, Brasília. ANAIS DO WOMEN IN INFORMATION TECHNOLOGY (WIT), 2024. v. 18. p. 12-23.\n",
      " - Engenharia de Software com metodologias ativas no ensino remoto: eficácia percebida e satisfação do aluno em foco. In: Workshop de Informática na Escola, 2022, Brasil. Anais do XXVIII Workshop de Informática na Escola (WIE 2022), 2022. v. XXVIII. p. 122.\n",
      " - Análise dos motivos para o desuso de recursos computacionais por professores de escolas públicas. In: XXV Workshop de Informática na Escola, 2019, Brasília. Anais do XXV Workshop de Informática na Escola (WIE 2019), 2019. v. XXV. p. 859-868.\n",
      " - A multicriteria approach for selection of agile methodologies in software development projects. In: 2016 IEEE International Conference on Systems, Man, and Cybernetics (SMC), 2016, Budapest. 2016 IEEE International Conference on Systems, Man, and Cybernetics (SMC), 2016. p. 002056.\n",
      " - Symbolic Test Case Generation of Compositional Real-Time Systems Driven by Interruptions. In: IEEE Symposium on Real-time Computing, 2015, AUCKLAND. Proceedings of the IEEE Symposium on Real-time Computing, 2015. v. 18. p. 228-235.\n",
      "\n",
      "resumos_expandido: 0 exemplos\n",
      "\n",
      "resumos_anais: 5 exemplos\n",
      " - A Mechanized Strategy for Safe Abstraction of CSP Specifications. Lecture Notes in Computer Science. 1ed.: Springer Berlin Heidelberg, 2009, v. 5902, p. 118-133.\n",
      " - An approach for power and performance evaluation of reconfigurable SoC at mixed abstraction levels. In: 2011 6th International Workshop on Reconfigurable CommunicationCentric SystemsonChip (ReCoSoC), 2011, Montpellier. 6th International Workshop on Reconfigurable Communication-Centric Systems-on-Chip (ReCoSoC). v. 1. p. 1-12.\n",
      " - Leis de conservação: Teoria e Aplicações. In: XXVI Encontro de Iniciação Científica da UFPB, 2018, Joao Pessoa. Resumos do XXVI Encontro de Iniciação Científica da UFPB, 2018. v. unico.\n",
      " - O problema de Riemann para um modelo matematico de um escoamento trifasico com dados de injecao aguas-gas e dados de producao gas-oleo. In: XXXIII CNMAC, 2010, Aguas de Lindoia. Caderno de Resumos do XXXIII CNMAC, 2010. v. CDROM.\n",
      " - Traveling Waves for a Combustion Model in Porous Media. In: XXXIII CNMAC, 2010, Aguas de Lindoia. Caderno de Resumos do XXXIII CNMAC, 2010. v. CDROM.\n",
      "\n",
      "outros: 5 exemplos\n",
      " - Supporting the choice of the best-fit agile model using FITradeoff. PESQUISA OPERACIONAL (IMPRESSO) , v. 43, p. 1-25, 2023.\n",
      " - Descrevendo o uso dos computadores nas escolas públicas da Paraíba. Revista Brasileira de Informática na Educação (RBIE) , v. 24, p. 47, 2017.\n",
      " - Testing real-time systems from compositional symbolic specifications. INTERNATIONAL JOURNAL ON SOFTWARE TOOLS FOR TECHNOLOGY TRANSFER (INTERNET) , v. 19, p. 53-71, 2017.\n",
      " - SELECIONANDO MODELOS DE SOFTWARE AUTOMATICAMENTE A PARTIR DE MéTODOS MULTICRITéRIO. INSID MAGAZINE.\n",
      " - Ensinando o pensamento computacional usando linguagens de programação no Alto Sertão da Paraíba. In: XXIV Workshop de Informática na Escola, 2018, Fortaleza, 2018. v. XXIV. p. 660.\n"
     ]
    }
   ],
   "source": [
    "# Executar análise de impacto de publicações\n",
    "pub_impact = analyze_publication_impact(professores)\n",
    "\n",
    "print(\"### Análise de Impacto de Publicações\")\n",
    "print(f\"**Descrição:** {pub_impact.description}\")\n",
    "print()\n",
    "\n",
    "# Dados principais (inclui agora as quatro categorias solicitadas)\n",
    "main_data = {\n",
    "    \"Métrica\": [\n",
    "        \"Total Produções Bibliográficas\",\n",
    "        \"Média Publicações por Professor\",\n",
    "        \"Mediana Publicações por Professor\",\n",
    "        \"Coautores Únicos\",\n",
    "        \"Média Coautores por Professor\",\n",
    "        \"Artigos completos (periódicos)\",\n",
    "        \"Trabalhos completos (anais de congressos)\",\n",
    "        \"Resumos expandidos (anais de congressos)\",\n",
    "        \"Resumos (anais de congressos)\",\n",
    "    ],\n",
    "    \"Valor\": [\n",
    "        pub_impact.data[\"total_producoes_bibliograficas\"],\n",
    "        round(pub_impact.data[\"media_publicacoes_por_professor\"], 2),\n",
    "        round(pub_impact.data[\"mediana_publicacoes_por_professor\"], 2),\n",
    "        pub_impact.data[\"unique_coautores\"],\n",
    "        round(pub_impact.data[\"media_coautores_por_professor\"], 2),\n",
    "        pub_impact.data[\"Artigos_completos_periodicos\"],\n",
    "        pub_impact.data[\"Trabalhos_completos_anais_congressos\"],\n",
    "        pub_impact.data[\"Resumos_expandidos_anais_congressos\"],\n",
    "        pub_impact.data[\"Resumos_anais_congressos\"],\n",
    "    ],\n",
    "}\n",
    "df_main = pd.DataFrame(main_data)\n",
    "display(df_main)\n",
    "\n",
    "print()\n",
    "print(\"**Top 10 Diversidade de Veículos:**\")\n",
    "if pub_impact.data[\"diversidade_venues\"]:\n",
    "    df_venues = pd.DataFrame.from_dict(\n",
    "        pub_impact.data[\"diversidade_venues\"], orient=\"index\", columns=[\"Contagem\"]\n",
    "    )\n",
    "    df_venues.index.name = \"Veículo\"\n",
    "    display(df_venues.sort_values(\"Contagem\", ascending=False))\n",
    "else:\n",
    "    print(\"Nenhum veículo registrado.\")\n",
    "\n",
    "print()\n",
    "print(\"**Exemplos por categoria (até 5 títulos):**)\")\n",
    "for cat, titles in pub_impact.data.get(\"exemplos_por_categoria\", {}).items():\n",
    "    print(f\"\\n{cat}: {len(titles)} exemplos\")\n",
    "    for t in titles:\n",
    "        print(f\" - {t}\")"
   ]
  },
  {
   "cell_type": "code",
   "execution_count": 17,
   "id": "2a7d392f",
   "metadata": {},
   "outputs": [],
   "source": [
    "def analyze_project_trends(professores: list[ProfessorData]) -> AnalysisResult:\n",
    "    \"\"\"\n",
    "    Analyzes projects with trends over time and collaboration metrics.\n",
    "\n",
    "    Returns:\n",
    "        AnalysisResult: Project analysis with trends.\n",
    "    \"\"\"\n",
    "    total_pesquisa = sum(len(p.projetos_pesquisa) for p in professores)\n",
    "    total_extensao = sum(len(p.projetos_extensao) for p in professores)\n",
    "\n",
    "    # Status/nature for research\n",
    "    status_pesquisa = Counter()\n",
    "    natureza_pesquisa = Counter()\n",
    "    project_years = Counter()\n",
    "    collaborators = set()\n",
    "    for p in professores:\n",
    "        for proj in p.projetos_pesquisa:\n",
    "            if proj.situacao:\n",
    "                status_pesquisa[proj.situacao] += 1\n",
    "            if proj.natureza:\n",
    "                natureza_pesquisa[proj.natureza] += 1\n",
    "            # Extract year if available\n",
    "            import re\n",
    "\n",
    "            year_match = re.search(r\"\\b(19|20)\\d{2}\\b\", proj.periodo)\n",
    "            if year_match:\n",
    "                project_years[int(year_match.group(0))] += 1\n",
    "            collaborators.update(proj.integrantes)\n",
    "\n",
    "    # Same for extension\n",
    "    status_extensao = Counter()\n",
    "    natureza_extensao = Counter()\n",
    "    for p in professores:\n",
    "        for proj in p.projetos_extensao:\n",
    "            if proj.situacao:\n",
    "                status_extensao[proj.situacao] += 1\n",
    "            if proj.natureza:\n",
    "                natureza_extensao[proj.natureza] += 1\n",
    "\n",
    "    return AnalysisResult(\n",
    "        name=\"project_trends\",\n",
    "        data={\n",
    "            \"total_projetos_pesquisa\": total_pesquisa,\n",
    "            \"total_projetos_extensao\": total_extensao,\n",
    "            \"status_projetos_pesquisa\": dict(status_pesquisa),\n",
    "            \"natureza_projetos_pesquisa\": dict(natureza_pesquisa),\n",
    "            \"status_projetos_extensao\": dict(status_extensao),\n",
    "            \"natureza_projetos_extensao\": dict(natureza_extensao),\n",
    "            \"projetos_por_ano\": dict(project_years),\n",
    "            \"unique_colaboradores_projetos\": len(collaborators),\n",
    "        },\n",
    "        description=\"Project analysis with time trends and collaborations.\",\n",
    "    )"
   ]
  },
  {
   "cell_type": "code",
   "execution_count": 18,
   "id": "2841db35",
   "metadata": {},
   "outputs": [
    {
     "name": "stdout",
     "output_type": "stream",
     "text": [
      "### Análise de Tendências de Projetos\n",
      "**Descrição:** Project analysis with time trends and collaborations.\n",
      "\n"
     ]
    },
    {
     "data": {
      "application/vnd.microsoft.datawrangler.viewer.v0+json": {
       "columns": [
        {
         "name": "index",
         "rawType": "int64",
         "type": "integer"
        },
        {
         "name": "Métrica",
         "rawType": "object",
         "type": "string"
        },
        {
         "name": "Valor",
         "rawType": "int64",
         "type": "integer"
        }
       ],
       "ref": "d3c35f71-50dd-4d6f-8c60-5d175d1265da",
       "rows": [
        [
         "0",
         "Total Projetos de Pesquisa",
         "782"
        ],
        [
         "1",
         "Total Projetos de Extensão",
         "320"
        ],
        [
         "2",
         "Colaboradores Únicos em Projetos",
         "969"
        ]
       ],
       "shape": {
        "columns": 2,
        "rows": 3
       }
      },
      "text/html": [
       "<div>\n",
       "<style scoped>\n",
       "    .dataframe tbody tr th:only-of-type {\n",
       "        vertical-align: middle;\n",
       "    }\n",
       "\n",
       "    .dataframe tbody tr th {\n",
       "        vertical-align: top;\n",
       "    }\n",
       "\n",
       "    .dataframe thead th {\n",
       "        text-align: right;\n",
       "    }\n",
       "</style>\n",
       "<table border=\"1\" class=\"dataframe\">\n",
       "  <thead>\n",
       "    <tr style=\"text-align: right;\">\n",
       "      <th></th>\n",
       "      <th>Métrica</th>\n",
       "      <th>Valor</th>\n",
       "    </tr>\n",
       "  </thead>\n",
       "  <tbody>\n",
       "    <tr>\n",
       "      <th>0</th>\n",
       "      <td>Total Projetos de Pesquisa</td>\n",
       "      <td>782</td>\n",
       "    </tr>\n",
       "    <tr>\n",
       "      <th>1</th>\n",
       "      <td>Total Projetos de Extensão</td>\n",
       "      <td>320</td>\n",
       "    </tr>\n",
       "    <tr>\n",
       "      <th>2</th>\n",
       "      <td>Colaboradores Únicos em Projetos</td>\n",
       "      <td>969</td>\n",
       "    </tr>\n",
       "  </tbody>\n",
       "</table>\n",
       "</div>"
      ],
      "text/plain": [
       "                            Métrica  Valor\n",
       "0        Total Projetos de Pesquisa    782\n",
       "1        Total Projetos de Extensão    320\n",
       "2  Colaboradores Únicos em Projetos    969"
      ]
     },
     "metadata": {},
     "output_type": "display_data"
    },
    {
     "name": "stdout",
     "output_type": "stream",
     "text": [
      "\n",
      "**Status Projetos de Pesquisa:**\n"
     ]
    },
    {
     "data": {
      "application/vnd.microsoft.datawrangler.viewer.v0+json": {
       "columns": [
        {
         "name": "Status",
         "rawType": "object",
         "type": "string"
        },
        {
         "name": "Contagem",
         "rawType": "int64",
         "type": "integer"
        }
       ],
       "ref": "6c4a38b1-dea2-4496-a43c-fda28bd61f85",
       "rows": [
        [
         "Concluído",
         "266"
        ],
        [
         "Em andamento",
         "104"
        ],
        [
         "Desativado",
         "6"
        ]
       ],
       "shape": {
        "columns": 1,
        "rows": 3
       }
      },
      "text/html": [
       "<div>\n",
       "<style scoped>\n",
       "    .dataframe tbody tr th:only-of-type {\n",
       "        vertical-align: middle;\n",
       "    }\n",
       "\n",
       "    .dataframe tbody tr th {\n",
       "        vertical-align: top;\n",
       "    }\n",
       "\n",
       "    .dataframe thead th {\n",
       "        text-align: right;\n",
       "    }\n",
       "</style>\n",
       "<table border=\"1\" class=\"dataframe\">\n",
       "  <thead>\n",
       "    <tr style=\"text-align: right;\">\n",
       "      <th></th>\n",
       "      <th>Contagem</th>\n",
       "    </tr>\n",
       "    <tr>\n",
       "      <th>Status</th>\n",
       "      <th></th>\n",
       "    </tr>\n",
       "  </thead>\n",
       "  <tbody>\n",
       "    <tr>\n",
       "      <th>Concluído</th>\n",
       "      <td>266</td>\n",
       "    </tr>\n",
       "    <tr>\n",
       "      <th>Em andamento</th>\n",
       "      <td>104</td>\n",
       "    </tr>\n",
       "    <tr>\n",
       "      <th>Desativado</th>\n",
       "      <td>6</td>\n",
       "    </tr>\n",
       "  </tbody>\n",
       "</table>\n",
       "</div>"
      ],
      "text/plain": [
       "              Contagem\n",
       "Status                \n",
       "Concluído          266\n",
       "Em andamento       104\n",
       "Desativado           6"
      ]
     },
     "metadata": {},
     "output_type": "display_data"
    },
    {
     "name": "stdout",
     "output_type": "stream",
     "text": [
      "\n",
      "**Natureza Projetos de Pesquisa:**\n"
     ]
    },
    {
     "data": {
      "application/vnd.microsoft.datawrangler.viewer.v0+json": {
       "columns": [
        {
         "name": "Natureza",
         "rawType": "object",
         "type": "string"
        },
        {
         "name": "Contagem",
         "rawType": "int64",
         "type": "integer"
        }
       ],
       "ref": "51b9e6dd-0e46-47dd-9d3e-5e48ef861c31",
       "rows": [
        [
         "Pesquisa",
         "376"
        ]
       ],
       "shape": {
        "columns": 1,
        "rows": 1
       }
      },
      "text/html": [
       "<div>\n",
       "<style scoped>\n",
       "    .dataframe tbody tr th:only-of-type {\n",
       "        vertical-align: middle;\n",
       "    }\n",
       "\n",
       "    .dataframe tbody tr th {\n",
       "        vertical-align: top;\n",
       "    }\n",
       "\n",
       "    .dataframe thead th {\n",
       "        text-align: right;\n",
       "    }\n",
       "</style>\n",
       "<table border=\"1\" class=\"dataframe\">\n",
       "  <thead>\n",
       "    <tr style=\"text-align: right;\">\n",
       "      <th></th>\n",
       "      <th>Contagem</th>\n",
       "    </tr>\n",
       "    <tr>\n",
       "      <th>Natureza</th>\n",
       "      <th></th>\n",
       "    </tr>\n",
       "  </thead>\n",
       "  <tbody>\n",
       "    <tr>\n",
       "      <th>Pesquisa</th>\n",
       "      <td>376</td>\n",
       "    </tr>\n",
       "  </tbody>\n",
       "</table>\n",
       "</div>"
      ],
      "text/plain": [
       "          Contagem\n",
       "Natureza          \n",
       "Pesquisa       376"
      ]
     },
     "metadata": {},
     "output_type": "display_data"
    },
    {
     "name": "stdout",
     "output_type": "stream",
     "text": [
      "\n",
      "**Status Projetos de Extensão:**\n"
     ]
    },
    {
     "data": {
      "application/vnd.microsoft.datawrangler.viewer.v0+json": {
       "columns": [
        {
         "name": "Status",
         "rawType": "object",
         "type": "string"
        },
        {
         "name": "Contagem",
         "rawType": "int64",
         "type": "integer"
        }
       ],
       "ref": "f2c025ee-187c-494f-90d0-b36d75a76859",
       "rows": [
        [
         "Concluído",
         "124"
        ],
        [
         "Em andamento",
         "30"
        ],
        [
         "Desativado",
         "2"
        ]
       ],
       "shape": {
        "columns": 1,
        "rows": 3
       }
      },
      "text/html": [
       "<div>\n",
       "<style scoped>\n",
       "    .dataframe tbody tr th:only-of-type {\n",
       "        vertical-align: middle;\n",
       "    }\n",
       "\n",
       "    .dataframe tbody tr th {\n",
       "        vertical-align: top;\n",
       "    }\n",
       "\n",
       "    .dataframe thead th {\n",
       "        text-align: right;\n",
       "    }\n",
       "</style>\n",
       "<table border=\"1\" class=\"dataframe\">\n",
       "  <thead>\n",
       "    <tr style=\"text-align: right;\">\n",
       "      <th></th>\n",
       "      <th>Contagem</th>\n",
       "    </tr>\n",
       "    <tr>\n",
       "      <th>Status</th>\n",
       "      <th></th>\n",
       "    </tr>\n",
       "  </thead>\n",
       "  <tbody>\n",
       "    <tr>\n",
       "      <th>Concluído</th>\n",
       "      <td>124</td>\n",
       "    </tr>\n",
       "    <tr>\n",
       "      <th>Em andamento</th>\n",
       "      <td>30</td>\n",
       "    </tr>\n",
       "    <tr>\n",
       "      <th>Desativado</th>\n",
       "      <td>2</td>\n",
       "    </tr>\n",
       "  </tbody>\n",
       "</table>\n",
       "</div>"
      ],
      "text/plain": [
       "              Contagem\n",
       "Status                \n",
       "Concluído          124\n",
       "Em andamento        30\n",
       "Desativado           2"
      ]
     },
     "metadata": {},
     "output_type": "display_data"
    },
    {
     "name": "stdout",
     "output_type": "stream",
     "text": [
      "\n",
      "**Natureza Projetos de Extensão:**\n"
     ]
    },
    {
     "data": {
      "application/vnd.microsoft.datawrangler.viewer.v0+json": {
       "columns": [
        {
         "name": "Natureza",
         "rawType": "object",
         "type": "string"
        },
        {
         "name": "Contagem",
         "rawType": "int64",
         "type": "integer"
        }
       ],
       "ref": "86385669-a3bf-438e-b6e8-7f9b93d4cd82",
       "rows": [
        [
         "Extensão",
         "156"
        ]
       ],
       "shape": {
        "columns": 1,
        "rows": 1
       }
      },
      "text/html": [
       "<div>\n",
       "<style scoped>\n",
       "    .dataframe tbody tr th:only-of-type {\n",
       "        vertical-align: middle;\n",
       "    }\n",
       "\n",
       "    .dataframe tbody tr th {\n",
       "        vertical-align: top;\n",
       "    }\n",
       "\n",
       "    .dataframe thead th {\n",
       "        text-align: right;\n",
       "    }\n",
       "</style>\n",
       "<table border=\"1\" class=\"dataframe\">\n",
       "  <thead>\n",
       "    <tr style=\"text-align: right;\">\n",
       "      <th></th>\n",
       "      <th>Contagem</th>\n",
       "    </tr>\n",
       "    <tr>\n",
       "      <th>Natureza</th>\n",
       "      <th></th>\n",
       "    </tr>\n",
       "  </thead>\n",
       "  <tbody>\n",
       "    <tr>\n",
       "      <th>Extensão</th>\n",
       "      <td>156</td>\n",
       "    </tr>\n",
       "  </tbody>\n",
       "</table>\n",
       "</div>"
      ],
      "text/plain": [
       "          Contagem\n",
       "Natureza          \n",
       "Extensão       156"
      ]
     },
     "metadata": {},
     "output_type": "display_data"
    },
    {
     "name": "stdout",
     "output_type": "stream",
     "text": [
      "\n",
      "**Projetos por Ano:**\n"
     ]
    },
    {
     "data": {
      "application/vnd.microsoft.datawrangler.viewer.v0+json": {
       "columns": [
        {
         "name": "Ano",
         "rawType": "int64",
         "type": "integer"
        },
        {
         "name": "Contagem",
         "rawType": "int64",
         "type": "integer"
        }
       ],
       "ref": "fe9799ee-e13b-4449-b8ad-419ebe04c04e",
       "rows": [
        [
         "1995",
         "2"
        ],
        [
         "1996",
         "1"
        ],
        [
         "1997",
         "3"
        ],
        [
         "1998",
         "3"
        ],
        [
         "2000",
         "1"
        ],
        [
         "2001",
         "4"
        ],
        [
         "2002",
         "8"
        ],
        [
         "2003",
         "12"
        ],
        [
         "2004",
         "11"
        ],
        [
         "2005",
         "18"
        ],
        [
         "2006",
         "10"
        ],
        [
         "2007",
         "12"
        ],
        [
         "2008",
         "15"
        ],
        [
         "2009",
         "14"
        ],
        [
         "2010",
         "21"
        ],
        [
         "2011",
         "15"
        ],
        [
         "2012",
         "16"
        ],
        [
         "2013",
         "25"
        ],
        [
         "2014",
         "7"
        ],
        [
         "2015",
         "9"
        ],
        [
         "2016",
         "12"
        ],
        [
         "2017",
         "12"
        ],
        [
         "2018",
         "19"
        ],
        [
         "2019",
         "25"
        ],
        [
         "2020",
         "18"
        ],
        [
         "2021",
         "27"
        ],
        [
         "2022",
         "17"
        ],
        [
         "2023",
         "23"
        ],
        [
         "2024",
         "13"
        ],
        [
         "2025",
         "3"
        ]
       ],
       "shape": {
        "columns": 1,
        "rows": 30
       }
      },
      "text/html": [
       "<div>\n",
       "<style scoped>\n",
       "    .dataframe tbody tr th:only-of-type {\n",
       "        vertical-align: middle;\n",
       "    }\n",
       "\n",
       "    .dataframe tbody tr th {\n",
       "        vertical-align: top;\n",
       "    }\n",
       "\n",
       "    .dataframe thead th {\n",
       "        text-align: right;\n",
       "    }\n",
       "</style>\n",
       "<table border=\"1\" class=\"dataframe\">\n",
       "  <thead>\n",
       "    <tr style=\"text-align: right;\">\n",
       "      <th></th>\n",
       "      <th>Contagem</th>\n",
       "    </tr>\n",
       "    <tr>\n",
       "      <th>Ano</th>\n",
       "      <th></th>\n",
       "    </tr>\n",
       "  </thead>\n",
       "  <tbody>\n",
       "    <tr>\n",
       "      <th>1995</th>\n",
       "      <td>2</td>\n",
       "    </tr>\n",
       "    <tr>\n",
       "      <th>1996</th>\n",
       "      <td>1</td>\n",
       "    </tr>\n",
       "    <tr>\n",
       "      <th>1997</th>\n",
       "      <td>3</td>\n",
       "    </tr>\n",
       "    <tr>\n",
       "      <th>1998</th>\n",
       "      <td>3</td>\n",
       "    </tr>\n",
       "    <tr>\n",
       "      <th>2000</th>\n",
       "      <td>1</td>\n",
       "    </tr>\n",
       "    <tr>\n",
       "      <th>2001</th>\n",
       "      <td>4</td>\n",
       "    </tr>\n",
       "    <tr>\n",
       "      <th>2002</th>\n",
       "      <td>8</td>\n",
       "    </tr>\n",
       "    <tr>\n",
       "      <th>2003</th>\n",
       "      <td>12</td>\n",
       "    </tr>\n",
       "    <tr>\n",
       "      <th>2004</th>\n",
       "      <td>11</td>\n",
       "    </tr>\n",
       "    <tr>\n",
       "      <th>2005</th>\n",
       "      <td>18</td>\n",
       "    </tr>\n",
       "    <tr>\n",
       "      <th>2006</th>\n",
       "      <td>10</td>\n",
       "    </tr>\n",
       "    <tr>\n",
       "      <th>2007</th>\n",
       "      <td>12</td>\n",
       "    </tr>\n",
       "    <tr>\n",
       "      <th>2008</th>\n",
       "      <td>15</td>\n",
       "    </tr>\n",
       "    <tr>\n",
       "      <th>2009</th>\n",
       "      <td>14</td>\n",
       "    </tr>\n",
       "    <tr>\n",
       "      <th>2010</th>\n",
       "      <td>21</td>\n",
       "    </tr>\n",
       "    <tr>\n",
       "      <th>2011</th>\n",
       "      <td>15</td>\n",
       "    </tr>\n",
       "    <tr>\n",
       "      <th>2012</th>\n",
       "      <td>16</td>\n",
       "    </tr>\n",
       "    <tr>\n",
       "      <th>2013</th>\n",
       "      <td>25</td>\n",
       "    </tr>\n",
       "    <tr>\n",
       "      <th>2014</th>\n",
       "      <td>7</td>\n",
       "    </tr>\n",
       "    <tr>\n",
       "      <th>2015</th>\n",
       "      <td>9</td>\n",
       "    </tr>\n",
       "    <tr>\n",
       "      <th>2016</th>\n",
       "      <td>12</td>\n",
       "    </tr>\n",
       "    <tr>\n",
       "      <th>2017</th>\n",
       "      <td>12</td>\n",
       "    </tr>\n",
       "    <tr>\n",
       "      <th>2018</th>\n",
       "      <td>19</td>\n",
       "    </tr>\n",
       "    <tr>\n",
       "      <th>2019</th>\n",
       "      <td>25</td>\n",
       "    </tr>\n",
       "    <tr>\n",
       "      <th>2020</th>\n",
       "      <td>18</td>\n",
       "    </tr>\n",
       "    <tr>\n",
       "      <th>2021</th>\n",
       "      <td>27</td>\n",
       "    </tr>\n",
       "    <tr>\n",
       "      <th>2022</th>\n",
       "      <td>17</td>\n",
       "    </tr>\n",
       "    <tr>\n",
       "      <th>2023</th>\n",
       "      <td>23</td>\n",
       "    </tr>\n",
       "    <tr>\n",
       "      <th>2024</th>\n",
       "      <td>13</td>\n",
       "    </tr>\n",
       "    <tr>\n",
       "      <th>2025</th>\n",
       "      <td>3</td>\n",
       "    </tr>\n",
       "  </tbody>\n",
       "</table>\n",
       "</div>"
      ],
      "text/plain": [
       "      Contagem\n",
       "Ano           \n",
       "1995         2\n",
       "1996         1\n",
       "1997         3\n",
       "1998         3\n",
       "2000         1\n",
       "2001         4\n",
       "2002         8\n",
       "2003        12\n",
       "2004        11\n",
       "2005        18\n",
       "2006        10\n",
       "2007        12\n",
       "2008        15\n",
       "2009        14\n",
       "2010        21\n",
       "2011        15\n",
       "2012        16\n",
       "2013        25\n",
       "2014         7\n",
       "2015         9\n",
       "2016        12\n",
       "2017        12\n",
       "2018        19\n",
       "2019        25\n",
       "2020        18\n",
       "2021        27\n",
       "2022        17\n",
       "2023        23\n",
       "2024        13\n",
       "2025         3"
      ]
     },
     "metadata": {},
     "output_type": "display_data"
    }
   ],
   "source": [
    "# Executar análise de tendências de projetos\n",
    "project_trends = analyze_project_trends(professores)\n",
    "\n",
    "print(\"### Análise de Tendências de Projetos\")\n",
    "print(f\"**Descrição:** {project_trends.description}\")\n",
    "print()\n",
    "\n",
    "# Dados principais\n",
    "main_data = {\n",
    "    \"Métrica\": [\n",
    "        \"Total Projetos de Pesquisa\",\n",
    "        \"Total Projetos de Extensão\",\n",
    "        \"Colaboradores Únicos em Projetos\",\n",
    "    ],\n",
    "    \"Valor\": [\n",
    "        project_trends.data[\"total_projetos_pesquisa\"],\n",
    "        project_trends.data[\"total_projetos_extensao\"],\n",
    "        project_trends.data[\"unique_colaboradores_projetos\"],\n",
    "    ],\n",
    "}\n",
    "df_main = pd.DataFrame(main_data)\n",
    "display(df_main)\n",
    "\n",
    "print()\n",
    "print(\"**Status Projetos de Pesquisa:**\")\n",
    "if project_trends.data[\"status_projetos_pesquisa\"]:\n",
    "    df_status_pesq = pd.DataFrame.from_dict(\n",
    "        project_trends.data[\"status_projetos_pesquisa\"],\n",
    "        orient=\"index\",\n",
    "        columns=[\"Contagem\"],\n",
    "    )\n",
    "    df_status_pesq.index.name = \"Status\"\n",
    "    display(df_status_pesq.sort_values(\"Contagem\", ascending=False))\n",
    "\n",
    "print()\n",
    "print(\"**Natureza Projetos de Pesquisa:**\")\n",
    "if project_trends.data[\"natureza_projetos_pesquisa\"]:\n",
    "    df_nat_pesq = pd.DataFrame.from_dict(\n",
    "        project_trends.data[\"natureza_projetos_pesquisa\"],\n",
    "        orient=\"index\",\n",
    "        columns=[\"Contagem\"],\n",
    "    )\n",
    "    df_nat_pesq.index.name = \"Natureza\"\n",
    "    display(df_nat_pesq.sort_values(\"Contagem\", ascending=False))\n",
    "\n",
    "print()\n",
    "print(\"**Status Projetos de Extensão:**\")\n",
    "if project_trends.data[\"status_projetos_extensao\"]:\n",
    "    df_status_ext = pd.DataFrame.from_dict(\n",
    "        project_trends.data[\"status_projetos_extensao\"],\n",
    "        orient=\"index\",\n",
    "        columns=[\"Contagem\"],\n",
    "    )\n",
    "    df_status_ext.index.name = \"Status\"\n",
    "    display(df_status_ext.sort_values(\"Contagem\", ascending=False))\n",
    "\n",
    "print()\n",
    "print(\"**Natureza Projetos de Extensão:**\")\n",
    "if project_trends.data[\"natureza_projetos_extensao\"]:\n",
    "    df_nat_ext = pd.DataFrame.from_dict(\n",
    "        project_trends.data[\"natureza_projetos_extensao\"],\n",
    "        orient=\"index\",\n",
    "        columns=[\"Contagem\"],\n",
    "    )\n",
    "    df_nat_ext.index.name = \"Natureza\"\n",
    "    display(df_nat_ext.sort_values(\"Contagem\", ascending=False))\n",
    "\n",
    "print()\n",
    "print(\"**Projetos por Ano:**\")\n",
    "if project_trends.data[\"projetos_por_ano\"]:\n",
    "    df_anos = pd.DataFrame.from_dict(\n",
    "        project_trends.data[\"projetos_por_ano\"], orient=\"index\", columns=[\"Contagem\"]\n",
    "    )\n",
    "    df_anos.index.name = \"Ano\"\n",
    "    display(df_anos.sort_index())\n",
    "else:\n",
    "    print(\"Nenhum ano registrado.\")"
   ]
  },
  {
   "cell_type": "code",
   "execution_count": 19,
   "id": "3dde8a64",
   "metadata": {},
   "outputs": [],
   "source": [
    "def analyze_keyword_themes(professores: list[ProfessorData]) -> AnalysisResult:\n",
    "    \"\"\"\n",
    "    Analyzes keywords from summaries with TF-IDF-like weighting and themes.\n",
    "\n",
    "    Returns:\n",
    "        AnalysisResult: Keyword analysis with themes.\n",
    "    \"\"\"\n",
    "    stop_words = {\n",
    "        \"de\",\n",
    "        \"da\",\n",
    "        \"do\",\n",
    "        \"em\",\n",
    "        \"na\",\n",
    "        \"no\",\n",
    "        \"a\",\n",
    "        \"o\",\n",
    "        \"e\",\n",
    "        \"com\",\n",
    "        \"para\",\n",
    "        \"como\",\n",
    "        \"que\",\n",
    "        \"seu\",\n",
    "        \"sua\",\n",
    "        \"é\",\n",
    "        \"são\",\n",
    "        \"foi\",\n",
    "        \"ser\",\n",
    "        \"ter\",\n",
    "        \"pelo\",\n",
    "        \"pela\",\n",
    "        \"nos\",\n",
    "        \"nas\",\n",
    "        \"um\",\n",
    "        \"uma\",\n",
    "        \"os\",\n",
    "        \"as\",\n",
    "    }\n",
    "    word_freq = Counter()\n",
    "    doc_count = len(professores)\n",
    "    for p in professores:\n",
    "        words = p.resumo.lower().split()\n",
    "        doc_words = set()\n",
    "        for word in words:\n",
    "            word = word.strip(\".,;!?\")\n",
    "            if word and word not in stop_words and len(word) > 3:\n",
    "                word_freq[word] += 1\n",
    "                doc_words.add(word)\n",
    "\n",
    "    # Simple TF-IDF proxy: frequency / doc_count\n",
    "    tfidf_scores = {word: freq / doc_count for word, freq in word_freq.items()}\n",
    "    top_keywords = sorted(tfidf_scores.items(), key=lambda x: x[1], reverse=True)[:10]\n",
    "\n",
    "    # Thematic clustering (simple keyword-based)\n",
    "    themes = defaultdict(int)\n",
    "    for word, score in top_keywords:\n",
    "        if any(k in word for k in [\"pesquisa\", \"projeto\", \"ciencia\"]):\n",
    "            themes[\"Pesquisa\"] += 1\n",
    "        elif any(k in word for k in [\"ensino\", \"educacao\", \"aluno\"]):\n",
    "            themes[\"Ensino\"] += 1\n",
    "        else:\n",
    "            themes[\"Outros\"] += 1\n",
    "\n",
    "    return AnalysisResult(\n",
    "        name=\"keyword_themes\",\n",
    "        data={\n",
    "            \"top_palavras_chave\": top_keywords,\n",
    "            \"temas_principais\": dict(themes),\n",
    "        },\n",
    "        description=\"Keyword analysis with thematic insights.\",\n",
    "    )"
   ]
  },
  {
   "cell_type": "code",
   "execution_count": 20,
   "id": "2d894f59",
   "metadata": {},
   "outputs": [
    {
     "name": "stdout",
     "output_type": "stream",
     "text": [
      "### Análise de Temas de Palavras-Chave\n",
      "**Descrição:** Keyword analysis with thematic insights.\n",
      "\n",
      "**Top Palavras-Chave:**\n"
     ]
    },
    {
     "data": {
      "application/vnd.microsoft.datawrangler.viewer.v0+json": {
       "columns": [
        {
         "name": "index",
         "rawType": "int64",
         "type": "integer"
        },
        {
         "name": "Palavra",
         "rawType": "object",
         "type": "string"
        },
        {
         "name": "Pontuação TF-IDF",
         "rawType": "float64",
         "type": "float"
        }
       ],
       "ref": "fb8c8141-faa9-4a82-886c-5fc44b7ecb2b",
       "rows": [
        [
         "0",
         "universidade",
         "3.04"
        ],
        [
         "1",
         "computação",
         "2.78"
        ],
        [
         "2",
         "federal",
         "2.76"
        ],
        [
         "3",
         "ciência",
         "1.56"
        ],
        [
         "4",
         "engenharia",
         "1.4"
        ],
        [
         "5",
         "paraíba",
         "1.38"
        ],
        [
         "6",
         "área",
         "1.08"
        ],
        [
         "7",
         "sistemas",
         "1.08"
        ],
        [
         "8",
         "informática",
         "0.94"
        ],
        [
         "9",
         "professor",
         "0.84"
        ]
       ],
       "shape": {
        "columns": 2,
        "rows": 10
       }
      },
      "text/html": [
       "<div>\n",
       "<style scoped>\n",
       "    .dataframe tbody tr th:only-of-type {\n",
       "        vertical-align: middle;\n",
       "    }\n",
       "\n",
       "    .dataframe tbody tr th {\n",
       "        vertical-align: top;\n",
       "    }\n",
       "\n",
       "    .dataframe thead th {\n",
       "        text-align: right;\n",
       "    }\n",
       "</style>\n",
       "<table border=\"1\" class=\"dataframe\">\n",
       "  <thead>\n",
       "    <tr style=\"text-align: right;\">\n",
       "      <th></th>\n",
       "      <th>Palavra</th>\n",
       "      <th>Pontuação TF-IDF</th>\n",
       "    </tr>\n",
       "  </thead>\n",
       "  <tbody>\n",
       "    <tr>\n",
       "      <th>0</th>\n",
       "      <td>universidade</td>\n",
       "      <td>3.04</td>\n",
       "    </tr>\n",
       "    <tr>\n",
       "      <th>1</th>\n",
       "      <td>computação</td>\n",
       "      <td>2.78</td>\n",
       "    </tr>\n",
       "    <tr>\n",
       "      <th>2</th>\n",
       "      <td>federal</td>\n",
       "      <td>2.76</td>\n",
       "    </tr>\n",
       "    <tr>\n",
       "      <th>3</th>\n",
       "      <td>ciência</td>\n",
       "      <td>1.56</td>\n",
       "    </tr>\n",
       "    <tr>\n",
       "      <th>4</th>\n",
       "      <td>engenharia</td>\n",
       "      <td>1.40</td>\n",
       "    </tr>\n",
       "    <tr>\n",
       "      <th>5</th>\n",
       "      <td>paraíba</td>\n",
       "      <td>1.38</td>\n",
       "    </tr>\n",
       "    <tr>\n",
       "      <th>6</th>\n",
       "      <td>área</td>\n",
       "      <td>1.08</td>\n",
       "    </tr>\n",
       "    <tr>\n",
       "      <th>7</th>\n",
       "      <td>sistemas</td>\n",
       "      <td>1.08</td>\n",
       "    </tr>\n",
       "    <tr>\n",
       "      <th>8</th>\n",
       "      <td>informática</td>\n",
       "      <td>0.94</td>\n",
       "    </tr>\n",
       "    <tr>\n",
       "      <th>9</th>\n",
       "      <td>professor</td>\n",
       "      <td>0.84</td>\n",
       "    </tr>\n",
       "  </tbody>\n",
       "</table>\n",
       "</div>"
      ],
      "text/plain": [
       "        Palavra  Pontuação TF-IDF\n",
       "0  universidade              3.04\n",
       "1    computação              2.78\n",
       "2       federal              2.76\n",
       "3       ciência              1.56\n",
       "4    engenharia              1.40\n",
       "5       paraíba              1.38\n",
       "6          área              1.08\n",
       "7      sistemas              1.08\n",
       "8   informática              0.94\n",
       "9     professor              0.84"
      ]
     },
     "metadata": {},
     "output_type": "display_data"
    },
    {
     "name": "stdout",
     "output_type": "stream",
     "text": [
      "\n",
      "**Temas Principais:**\n"
     ]
    },
    {
     "data": {
      "application/vnd.microsoft.datawrangler.viewer.v0+json": {
       "columns": [
        {
         "name": "Tema",
         "rawType": "object",
         "type": "string"
        },
        {
         "name": "Contagem",
         "rawType": "int64",
         "type": "integer"
        }
       ],
       "ref": "7b70548b-6e49-4a81-8007-76651817ab6d",
       "rows": [
        [
         "Outros",
         "10"
        ]
       ],
       "shape": {
        "columns": 1,
        "rows": 1
       }
      },
      "text/html": [
       "<div>\n",
       "<style scoped>\n",
       "    .dataframe tbody tr th:only-of-type {\n",
       "        vertical-align: middle;\n",
       "    }\n",
       "\n",
       "    .dataframe tbody tr th {\n",
       "        vertical-align: top;\n",
       "    }\n",
       "\n",
       "    .dataframe thead th {\n",
       "        text-align: right;\n",
       "    }\n",
       "</style>\n",
       "<table border=\"1\" class=\"dataframe\">\n",
       "  <thead>\n",
       "    <tr style=\"text-align: right;\">\n",
       "      <th></th>\n",
       "      <th>Contagem</th>\n",
       "    </tr>\n",
       "    <tr>\n",
       "      <th>Tema</th>\n",
       "      <th></th>\n",
       "    </tr>\n",
       "  </thead>\n",
       "  <tbody>\n",
       "    <tr>\n",
       "      <th>Outros</th>\n",
       "      <td>10</td>\n",
       "    </tr>\n",
       "  </tbody>\n",
       "</table>\n",
       "</div>"
      ],
      "text/plain": [
       "        Contagem\n",
       "Tema            \n",
       "Outros        10"
      ]
     },
     "metadata": {},
     "output_type": "display_data"
    }
   ],
   "source": [
    "# Executar análise de temas de palavras-chave\n",
    "keyword_themes = analyze_keyword_themes(professores)\n",
    "\n",
    "print(\"### Análise de Temas de Palavras-Chave\")\n",
    "print(f\"**Descrição:** {keyword_themes.description}\")\n",
    "print()\n",
    "\n",
    "print(\"**Top Palavras-Chave:**\")\n",
    "if keyword_themes.data[\"top_palavras_chave\"]:\n",
    "    df_keywords = pd.DataFrame(\n",
    "        keyword_themes.data[\"top_palavras_chave\"],\n",
    "        columns=[\"Palavra\", \"Pontuação TF-IDF\"],\n",
    "    )\n",
    "    display(df_keywords)\n",
    "else:\n",
    "    print(\"Nenhuma palavra-chave encontrada.\")\n",
    "\n",
    "print()\n",
    "print(\"**Temas Principais:**\")\n",
    "if keyword_themes.data[\"temas_principais\"]:\n",
    "    df_temas = pd.DataFrame.from_dict(\n",
    "        keyword_themes.data[\"temas_principais\"], orient=\"index\", columns=[\"Contagem\"]\n",
    "    )\n",
    "    df_temas.index.name = \"Tema\"\n",
    "    display(df_temas.sort_values(\"Contagem\", ascending=False))\n",
    "else:\n",
    "    print(\"Nenhum tema identificado.\")"
   ]
  },
  {
   "cell_type": "code",
   "execution_count": 21,
   "id": "1552eb9f",
   "metadata": {},
   "outputs": [],
   "source": [
    "def analyze_correlations_expanded(professores: list[ProfessorData]) -> AnalysisResult:\n",
    "    \"\"\"\n",
    "    Analyzes expanded correlations, including experience and projects.\n",
    "\n",
    "    Returns:\n",
    "        AnalysisResult: Correlation insights.\n",
    "    \"\"\"\n",
    "    experiences = _calculate_experience_years(professores)\n",
    "    pubs_with_orcid = [\n",
    "        len(p.producao_bibliografica) for p in professores if p.identificacao.orcid_id\n",
    "    ]\n",
    "    pubs_without_orcid = [\n",
    "        len(p.producao_bibliografica)\n",
    "        for p in professores\n",
    "        if not p.identificacao.orcid_id\n",
    "    ]\n",
    "    avg_pubs_with_orcid = mean(pubs_with_orcid) if pubs_with_orcid else 0.0\n",
    "    avg_pubs_without_orcid = mean(pubs_without_orcid) if pubs_without_orcid else 0.0\n",
    "\n",
    "    # Correlation with experience\n",
    "    exp_pubs = [\n",
    "        (exp, len(p.producao_bibliografica)) for exp, p in zip(experiences, professores)\n",
    "    ]\n",
    "    corr_exp_pubs = (\n",
    "        stdev([x[0] for x in exp_pubs]) * stdev([x[1] for x in exp_pubs])\n",
    "        if len(exp_pubs) > 1\n",
    "        else 0.0\n",
    "    )  # Placeholder for correlation\n",
    "\n",
    "    return AnalysisResult(\n",
    "        name=\"correlations_expanded\",\n",
    "        data={\n",
    "            \"media_publicacoes_com_orcid\": avg_pubs_with_orcid,\n",
    "            \"media_publicacoes_sem_orcid\": avg_pubs_without_orcid,\n",
    "            \"diferenca_media_orcid\": avg_pubs_with_orcid - avg_pubs_without_orcid,\n",
    "            \"correlacao_experiencia_publicacoes\": corr_exp_pubs,\n",
    "        },\n",
    "        description=\"Expanded correlations with experience.\",\n",
    "    )"
   ]
  },
  {
   "cell_type": "code",
   "execution_count": 22,
   "id": "dbd0720b",
   "metadata": {},
   "outputs": [
    {
     "name": "stdout",
     "output_type": "stream",
     "text": [
      "### Análise de Correlações Expandidas\n",
      "**Descrição:** Expanded correlations with experience.\n",
      "\n"
     ]
    },
    {
     "data": {
      "application/vnd.microsoft.datawrangler.viewer.v0+json": {
       "columns": [
        {
         "name": "index",
         "rawType": "int64",
         "type": "integer"
        },
        {
         "name": "Métrica",
         "rawType": "object",
         "type": "string"
        },
        {
         "name": "Valor",
         "rawType": "float64",
         "type": "float"
        }
       ],
       "ref": "7391448e-d3e2-43a7-8e3c-8497f498ed9e",
       "rows": [
        [
         "0",
         "Média Publicações com ORCID",
         "134.5"
        ],
        [
         "1",
         "Média Publicações sem ORCID",
         "56.61"
        ],
        [
         "2",
         "Diferença Média ORCID",
         "77.89"
        ],
        [
         "3",
         "Correlação Experiência-Publicações",
         "320.0541"
        ]
       ],
       "shape": {
        "columns": 2,
        "rows": 4
       }
      },
      "text/html": [
       "<div>\n",
       "<style scoped>\n",
       "    .dataframe tbody tr th:only-of-type {\n",
       "        vertical-align: middle;\n",
       "    }\n",
       "\n",
       "    .dataframe tbody tr th {\n",
       "        vertical-align: top;\n",
       "    }\n",
       "\n",
       "    .dataframe thead th {\n",
       "        text-align: right;\n",
       "    }\n",
       "</style>\n",
       "<table border=\"1\" class=\"dataframe\">\n",
       "  <thead>\n",
       "    <tr style=\"text-align: right;\">\n",
       "      <th></th>\n",
       "      <th>Métrica</th>\n",
       "      <th>Valor</th>\n",
       "    </tr>\n",
       "  </thead>\n",
       "  <tbody>\n",
       "    <tr>\n",
       "      <th>0</th>\n",
       "      <td>Média Publicações com ORCID</td>\n",
       "      <td>134.5000</td>\n",
       "    </tr>\n",
       "    <tr>\n",
       "      <th>1</th>\n",
       "      <td>Média Publicações sem ORCID</td>\n",
       "      <td>56.6100</td>\n",
       "    </tr>\n",
       "    <tr>\n",
       "      <th>2</th>\n",
       "      <td>Diferença Média ORCID</td>\n",
       "      <td>77.8900</td>\n",
       "    </tr>\n",
       "    <tr>\n",
       "      <th>3</th>\n",
       "      <td>Correlação Experiência-Publicações</td>\n",
       "      <td>320.0541</td>\n",
       "    </tr>\n",
       "  </tbody>\n",
       "</table>\n",
       "</div>"
      ],
      "text/plain": [
       "                              Métrica     Valor\n",
       "0         Média Publicações com ORCID  134.5000\n",
       "1         Média Publicações sem ORCID   56.6100\n",
       "2               Diferença Média ORCID   77.8900\n",
       "3  Correlação Experiência-Publicações  320.0541"
      ]
     },
     "metadata": {},
     "output_type": "display_data"
    }
   ],
   "source": [
    "# Executar análise de correlações expandidas\n",
    "correlations = analyze_correlations_expanded(professores)\n",
    "\n",
    "print(\"### Análise de Correlações Expandidas\")\n",
    "print(f\"**Descrição:** {correlations.description}\")\n",
    "print()\n",
    "\n",
    "# Dados principais\n",
    "main_data = {\n",
    "    \"Métrica\": [\n",
    "        \"Média Publicações com ORCID\",\n",
    "        \"Média Publicações sem ORCID\",\n",
    "        \"Diferença Média ORCID\",\n",
    "        \"Correlação Experiência-Publicações\",\n",
    "    ],\n",
    "    \"Valor\": [\n",
    "        round(correlations.data[\"media_publicacoes_com_orcid\"], 2),\n",
    "        round(correlations.data[\"media_publicacoes_sem_orcid\"], 2),\n",
    "        round(correlations.data[\"diferenca_media_orcid\"], 2),\n",
    "        round(correlations.data[\"correlacao_experiencia_publicacoes\"], 4),\n",
    "    ],\n",
    "}\n",
    "df_main = pd.DataFrame(main_data)\n",
    "display(df_main)"
   ]
  }
 ],
 "metadata": {
  "kernelspec": {
   "display_name": "python-starter (3.13.5)",
   "language": "python",
   "name": "python3"
  },
  "language_info": {
   "codemirror_mode": {
    "name": "ipython",
    "version": 3
   },
   "file_extension": ".py",
   "mimetype": "text/x-python",
   "name": "python",
   "nbconvert_exporter": "python",
   "pygments_lexer": "ipython3",
   "version": "3.13.5"
  }
 },
 "nbformat": 4,
 "nbformat_minor": 5
}
