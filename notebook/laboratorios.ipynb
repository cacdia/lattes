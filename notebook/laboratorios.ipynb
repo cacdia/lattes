{
 "cells": [
  {
   "cell_type": "markdown",
   "id": "282fad96",
   "metadata": {},
   "source": [
    "# Professores do Centro de Informática (CI) - UFPB"
   ]
  },
  {
   "cell_type": "markdown",
   "id": "ad7c5964",
   "metadata": {},
   "source": [
    "### Contribuição dos Laboratórios\n",
    "\n",
    "Os laboratórios do Centro de Informática (CI) da Universidade Federal da Paraíba (UFPB) são mais do que apenas espaços físicos equipados com tecnologia; eles são o alicerce fundamental para a formação acadêmica e profissional de alunos e o desenvolvimento de pesquisas de ponta por professores.\n",
    "\n",
    "Espaço de Colaboração e Estudo: Os laboratórios funcionam como um ambiente dinâmico para o trabalho em grupo. Eles facilitam a colaboração em projetos de disciplinas, a preparação para maratonas de programação e o estudo em equipe. Essa interação fomenta o desenvolvimento de habilidades interpessoais e cria uma comunidade de aprendizado ativa e solidária.\n",
    "\n",
    "Ambiente para Pesquisa Avançada: Os laboratórios são o epicentro da pesquisa no CI. Eles fornecem o ambiente controlado e os equipamentos de alto desempenho necessários para a execução de experimentos, simulações e a criação de protótipos. Isso é vital para a produção de conhecimento científico, a publicação de artigos e a participação em conferências de renome."
   ]
  },
  {
   "cell_type": "markdown",
   "id": "65ed905b",
   "metadata": {},
   "source": [
    "### Laboratórios do CI UFPB\n",
    "\n",
    "-  LAVID - Laboratório de Aplicações de Vídeo Digital\n",
    "\n",
    "- LASER - Laboratório de Engenharia de Sistemas e Robótica\n",
    "\n",
    "- ARIA - Laboratório de Aplicações em Inteligência Artificial \n",
    "\n",
    "- LARQSS - Laboratório de Arquitetura  e Sistemas de Software\n",
    "\n",
    "- LASIC - Laboratório de Arquitetura, Sistemas Integráveis e Circuitos\n",
    "\n",
    "- LUMO - Laboratório de Computação Ubíqua e Móvel \n",
    "\n",
    "- LIAA - Laboratório de Inteligência Artificial Aplicada\n",
    "\n",
    "- LMI - Laboratório de Medidas e Instrumentação \n",
    "\n",
    "- LAR - Laboratório de Redes\n",
    "\n",
    "- LASID - Laboratório de Sistemas Digitais\n",
    "\n",
    "- TRIL - Laboratório \n",
    "\n"
   ]
  },
  {
   "cell_type": "code",
   "execution_count": 1,
   "id": "1a174903",
   "metadata": {},
   "outputs": [
    {
     "data": {
      "application/vnd.microsoft.datawrangler.viewer.v0+json": {
       "columns": [
        {
         "name": "index",
         "rawType": "int64",
         "type": "integer"
        },
        {
         "name": "Nome dos Professores",
         "rawType": "object",
         "type": "string"
        },
        {
         "name": "Código(Busca Textual)",
         "rawType": "object",
         "type": "string"
        },
        {
         "name": "Laboratório",
         "rawType": "object",
         "type": "string"
        }
       ],
       "ref": "d7c54b8f-1de3-4567-81b0-0bedb1d270d8",
       "rows": [
        [
         "0",
         "Adriana Carla Damasceno",
         "K4779892D6",
         "0"
        ],
        [
         "1",
         "Alan Kelon Oliveira de Moraes",
         "K4737108H3",
         "0"
        ],
        [
         "2",
         "Alisson Vasconcelos de Brito",
         "K4771491H5",
         "LASER"
        ],
        [
         "3",
         "Alvaro Francisco de Castro Medeiros",
         "K4785721D4",
         "0"
        ],
        [
         "4",
         "Ana Paula Pintado Wyse",
         "K4706066H6",
         "0"
        ],
        [
         "5",
         "Anand Subramanian",
         "K4710265H7",
         "LASER"
        ],
        [
         "6",
         "Andrei de Araujo Formiga",
         "K4760254T0",
         "0"
        ],
        [
         "7",
         "Andréa Vanessa Rocha",
         "K4764833P6",
         "0"
        ],
        [
         "8",
         "Aparecido Jesuino de Souza",
         "K4783219Y7",
         "0"
        ],
        [
         "9",
         "Augusto de Holanda Barreto Martins Tavares",
         "K4331689T3",
         "LASER"
        ],
        [
         "10",
         "Bruno Jefferson de Sousa Pessoa",
         "K4731627T6",
         "LASER"
        ],
        [
         "11",
         "Bruno Petrato Bruck",
         "K4420886H0",
         "LASER"
        ],
        [
         "12",
         "Camila Mara Vital Barros",
         "K4718140D4",
         "0"
        ],
        [
         "13",
         "Carlos Alberto Nunes Machado",
         "K4751398Y3",
         "0"
        ],
        [
         "14",
         "Carlos Eduardo Coelho Freire Batista",
         "K4702645T2",
         "LAVID"
        ],
        [
         "15",
         "Christian Azambuja Pagot",
         "K4792938P3",
         "0"
        ],
        [
         "16",
         "Clauirton de Albuquerque Siebra",
         "K4795433D9",
         "0"
        ],
        [
         "17",
         "Daniela Coelho Batista Guedes Pereira",
         "K4797543A4",
         "ARIA"
        ],
        [
         "18",
         "Danielle Rousy Dias Ricarte",
         "K4769237D9",
         "0"
        ],
        [
         "19",
         "Davi Henrique dos Santos",
         "K4350311E6",
         "LASER"
        ],
        [
         "20",
         "Derzu Omaia",
         "K4758735Y6",
         "LAVID"
        ],
        [
         "21",
         "Ed Porto Bezerra",
         "K4784200Z1",
         "0"
        ],
        [
         "22",
         "Elizabet Maria Spohr de Medeiros",
         "K4723856J6",
         "0"
        ],
        [
         "23",
         "Eudisley Gomes dos Anjos",
         "K4188451H5",
         "0"
        ],
        [
         "24",
         "Ewerton Monteiro Salvador",
         "K4753755A7",
         "LASER"
        ],
        [
         "25",
         "Felipe Antonio Garcia Moreno",
         "K4735356D7",
         "0"
        ],
        [
         "26",
         "Fernando Menezes Matos",
         "K4706031Y8",
         "0"
        ],
        [
         "27",
         "Francisco de Assis Coutinho Souto",
         "K4760252P9",
         "0"
        ],
        [
         "28",
         "Gilberto Farias de Sousa Filho",
         "K4734611J5",
         "LASER"
        ],
        [
         "29",
         "Giorgia de Oliveira Mattos",
         "K4773994P4",
         "LAR"
        ],
        [
         "30",
         "Glêdson Elias da Silveira",
         "K4782320H5",
         "0"
        ],
        [
         "31",
         "Gustavo Charles Peixoto de Oliveira",
         "K4209595D9",
         "TRIL"
        ],
        [
         "32",
         "Gustavo Henrique Matos Bezerra Motta",
         "K4784786H2",
         "0"
        ],
        [
         "33",
         "Hamilton Soares da Silva",
         "K4783161H7",
         "0"
        ],
        [
         "34",
         "Henrique Thadeu Baltar de Medeiros Cabral Moraes",
         "K4774269T5",
         "0"
        ],
        [
         "35",
         "Hugo Leonardo Davi de Souza Cavalcante",
         "K4763113D6",
         "LMI"
        ],
        [
         "36",
         "Iguatemi Eduardo da Fonseca",
         "K4767707H8",
         "0"
        ],
        [
         "37",
         "Jairo Rocha de Faria",
         "K4768367E7",
         "0"
        ],
        [
         "38",
         "Jose Antonio Gomes de Lima",
         "K4796175Z4",
         "0"
        ],
        [
         "39",
         "José Miguel Aroztegui Massera",
         "K4113111E3",
         "0"
        ],
        [
         "40",
         "Josilene Aires Moreira",
         "K4785723U7",
         "0"
        ],
        [
         "41",
         "Kely Diana Villacorta Villacorta",
         "K4139750Z6",
         "0"
        ],
        [
         "42",
         "Leandro Carlos de Souza",
         "K4509046Z2",
         "0"
        ],
        [
         "43",
         "Leonardo Vidal Batista",
         "K4782685P8",
         "LAVID"
        ],
        [
         "44",
         "Liliane dos Santos Machado",
         "K4701351Y7",
         "LABTEVE"
        ],
        [
         "45",
         "Lincoln David Nery e Silva",
         "K4734680Z2",
         "0"
        ],
        [
         "46",
         "Luciano Sales Barros",
         "K4761458A7",
         "0"
        ],
        [
         "47",
         "Lucidio dos Anjos Formiga Cabral",
         "K4728178P6",
         "LASER"
        ],
        [
         "48",
         "Marcelo Iury de Sousa Oliveira",
         "K4773815H5",
         "ARIA/LAVID"
        ],
        [
         "49",
         "Mardson Freitas de Amorim",
         "K4787292A8",
         "LMI"
        ]
       ],
       "shape": {
        "columns": 3,
        "rows": 67
       }
      },
      "text/html": [
       "<div>\n",
       "<style scoped>\n",
       "    .dataframe tbody tr th:only-of-type {\n",
       "        vertical-align: middle;\n",
       "    }\n",
       "\n",
       "    .dataframe tbody tr th {\n",
       "        vertical-align: top;\n",
       "    }\n",
       "\n",
       "    .dataframe thead th {\n",
       "        text-align: right;\n",
       "    }\n",
       "</style>\n",
       "<table border=\"1\" class=\"dataframe\">\n",
       "  <thead>\n",
       "    <tr style=\"text-align: right;\">\n",
       "      <th></th>\n",
       "      <th>Nome dos Professores</th>\n",
       "      <th>Código(Busca Textual)</th>\n",
       "      <th>Laboratório</th>\n",
       "    </tr>\n",
       "  </thead>\n",
       "  <tbody>\n",
       "    <tr>\n",
       "      <th>0</th>\n",
       "      <td>Adriana Carla Damasceno</td>\n",
       "      <td>K4779892D6</td>\n",
       "      <td>0</td>\n",
       "    </tr>\n",
       "    <tr>\n",
       "      <th>1</th>\n",
       "      <td>Alan Kelon Oliveira de Moraes</td>\n",
       "      <td>K4737108H3</td>\n",
       "      <td>0</td>\n",
       "    </tr>\n",
       "    <tr>\n",
       "      <th>2</th>\n",
       "      <td>Alisson Vasconcelos de Brito</td>\n",
       "      <td>K4771491H5</td>\n",
       "      <td>LASER</td>\n",
       "    </tr>\n",
       "    <tr>\n",
       "      <th>3</th>\n",
       "      <td>Alvaro Francisco de Castro Medeiros</td>\n",
       "      <td>K4785721D4</td>\n",
       "      <td>0</td>\n",
       "    </tr>\n",
       "    <tr>\n",
       "      <th>4</th>\n",
       "      <td>Ana Paula Pintado Wyse</td>\n",
       "      <td>K4706066H6</td>\n",
       "      <td>0</td>\n",
       "    </tr>\n",
       "    <tr>\n",
       "      <th>...</th>\n",
       "      <td>...</td>\n",
       "      <td>...</td>\n",
       "      <td>...</td>\n",
       "    </tr>\n",
       "    <tr>\n",
       "      <th>62</th>\n",
       "      <td>Valdecir Becker</td>\n",
       "      <td>K4762824E2</td>\n",
       "      <td>LIM</td>\n",
       "    </tr>\n",
       "    <tr>\n",
       "      <th>63</th>\n",
       "      <td>Veronica Maria Lima Silva</td>\n",
       "      <td>K4278407D6</td>\n",
       "      <td>LASER</td>\n",
       "    </tr>\n",
       "    <tr>\n",
       "      <th>64</th>\n",
       "      <td>Vitor Meneghetti Ugulino de Araujo</td>\n",
       "      <td>K4420302H7</td>\n",
       "      <td>0</td>\n",
       "    </tr>\n",
       "    <tr>\n",
       "      <th>65</th>\n",
       "      <td>Yuri de Almeida Malheiros Barbosa</td>\n",
       "      <td>K4264378P1</td>\n",
       "      <td>ARIA</td>\n",
       "    </tr>\n",
       "    <tr>\n",
       "      <th>66</th>\n",
       "      <td>Yuska Paola Costa Aguiar</td>\n",
       "      <td>K4263619H9</td>\n",
       "      <td>ARIA/LAVID</td>\n",
       "    </tr>\n",
       "  </tbody>\n",
       "</table>\n",
       "<p>67 rows × 3 columns</p>\n",
       "</div>"
      ],
      "text/plain": [
       "                   Nome dos Professores Código(Busca Textual) Laboratório\n",
       "0               Adriana Carla Damasceno            K4779892D6           0\n",
       "1         Alan Kelon Oliveira de Moraes            K4737108H3           0\n",
       "2          Alisson Vasconcelos de Brito            K4771491H5       LASER\n",
       "3   Alvaro Francisco de Castro Medeiros            K4785721D4           0\n",
       "4                Ana Paula Pintado Wyse            K4706066H6           0\n",
       "..                                  ...                   ...         ...\n",
       "62                      Valdecir Becker            K4762824E2         LIM\n",
       "63            Veronica Maria Lima Silva            K4278407D6       LASER\n",
       "64   Vitor Meneghetti Ugulino de Araujo            K4420302H7           0\n",
       "65    Yuri de Almeida Malheiros Barbosa            K4264378P1        ARIA\n",
       "66             Yuska Paola Costa Aguiar            K4263619H9  ARIA/LAVID\n",
       "\n",
       "[67 rows x 3 columns]"
      ]
     },
     "execution_count": 1,
     "metadata": {},
     "output_type": "execute_result"
    }
   ],
   "source": [
    "### Visualização tabular dos professores, códigos e laboratórios\n",
    "\n",
    "import pandas as pd\n",
    "\n",
    "df = pd.read_csv(\"../data/prof_labs.csv\")\n",
    "df.fillna(\"\", inplace=True)\n",
    "df.head(69)"
   ]
  }
 ],
 "metadata": {
  "kernelspec": {
   "display_name": "python-starter (3.13.5)",
   "language": "python",
   "name": "python3"
  },
  "language_info": {
   "codemirror_mode": {
    "name": "ipython",
    "version": 3
   },
   "file_extension": ".py",
   "mimetype": "text/x-python",
   "name": "python",
   "nbconvert_exporter": "python",
   "pygments_lexer": "ipython3",
   "version": "3.13.5"
  }
 },
 "nbformat": 4,
 "nbformat_minor": 5
}
