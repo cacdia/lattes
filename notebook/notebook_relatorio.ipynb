{
 "cells": [
  {
   "cell_type": "markdown",
   "id": "f132b093",
   "metadata": {},
   "source": [
    "# Análise de Currículos Lattes — Relatório\n",
    "\n",
    "## Título e Integrantes\n",
    "\n",
    "Projeto: Análise de Currículos Lattes (CNPq)\n",
    "\n",
    "Equipe:\n",
    "\n",
    "- Sarah Fernanda Calixto de Araújo — `20240011267`\n",
    "- Luiz Carlos Veloso de Araujo Lima Neto — `20240102334`\n",
    "- Sofia Pontes Leitão de Lima — `20240011285`\n",
    "- Cauã Henrique Formiga de Lacerda — `20240011089`\n"
   ]
  },
  {
   "cell_type": "markdown",
   "id": "406d58bf",
   "metadata": {},
   "source": [
    "## Introdução\n",
    "\n",
    "Este relatório apresenta a análise exploratória e modelagem de dados extraídos da Plataforma Lattes, com foco em compreender padrões de produção acadêmica, redes de colaboração e temas de pesquisa de docentes/pesquisadores. O trabalho está estruturado para documentar objetivos, dados, pré-processamento, perguntas analíticas e conclusões.\n",
    "\n",
    "Objetivos específicos:\n",
    "\n",
    "- Mapear o perfil dos pesquisadores a partir de seus currículos (resumo, formação, produções, colaborações).\n",
    "- Explorar a distribuição e evolução temporal da produção acadêmica.\n",
    "- Identificar estruturas de colaboração (coautorias, projetos) e possíveis comunidades.\n",
    "- Investigar fatores associados à produtividade científica.\n",
    "- Descobrir agrupamentos temáticos de pesquisadores via técnicas de clustering.\n",
    "\n",
    "Contexto técnico do projeto:\n",
    "\n",
    "- Coleta com Playwright (navegação e captura dos HTMLs dos currículos).\n",
    "- Extração com BeautifulSoup e consolidação com Pandas.\n",
    "- Scripts principais em `scripts/` e artefatos em `data/` e `professores_perfil_html/`.\n"
   ]
  },
  {
   "cell_type": "markdown",
   "id": "220924d1",
   "metadata": {},
   "source": [
    "## Dados usados (descrição e exploração inicial)\n",
    "\n",
    "Arquivos e fontes do projeto:\n",
    "\n",
    "| Arquivo/Path                       | Papel                                       | Observações                                    |\n",
    "| ---------------------------------- | ------------------------------------------- | ---------------------------------------------- |\n",
    "| `data/professores_ci.csv`          | Lista de entrada com docentes/pesquisadores | Ponto de partida para scraping.                |\n",
    "| `professores_perfil_html/`         | HTMLs dos currículos Lattes                 | Saída do script de download com Playwright.    |\n",
    "| `data/professores.csv`             | Dados consolidados (CSV)                    | Saída do parser (`scripts/parse_profiles.py`). |\n",
    "| `data/professores.json`            | Dados consolidados (JSON)                   | Alternativa de saída do parser.                |\n",
    "| `data/prof_labs.csv`               | Mapeamento professor ↔ laboratório          | Usado para análises por laboratório/grupo.     |\n",
    "| `data/publicacoes_unificadas.json` | Produções agregadas (quando disponível)     | Facilita análises temporais e por tipo.        |\n",
    "\n",
    "Perguntas de exploração inicial (EDA):\n",
    "\n",
    "- Quantos perfis foram coletados e processados? Há registros ausentes (NAs) em campos-chave?\n",
    "- Como é a distribuição de produção por pesquisador, por ano e por tipo (artigo, conferência, capítulo, etc.)?\n",
    "- Quais palavras-chave/termos são mais frequentes em resumos e títulos de publicações?\n",
    "- Como se distribuem os pesquisadores por laboratório/grupo (quando houver `prof_labs.csv`)?\n",
    "\n",
    "Sugestões de visualização:\n",
    "\n",
    "- Histogramas/boxplots da produção por pesquisador e por ano.\n",
    "- Séries temporais de publicações agregadas por ano.\n",
    "- Nuvens de palavras ou barplots de termos mais frequentes.\n"
   ]
  },
  {
   "cell_type": "markdown",
   "id": "4640a7e6",
   "metadata": {},
   "source": [
    "## Pré-processamento (limpeza e transformações)\n",
    "\n",
    "Passos principais aplicados aos dados consolidados:\n",
    "\n",
    "1. Padronização de textos: normalização de acentuação, lowercasing seletivo (mantendo siglas), remoção de quebras e espaços extras.\n",
    "2. Parsing de datas: conversão de campos de ano/mês para tipos temporais, imputação conservadora quando faltantes (ex.: usar apenas o ano quando o mês não existir).\n",
    "3. Tratamento de valores ausentes: estratégias específicas por campo (ex.: preencher `resumo` vazio com placeholder controlado; remover linhas só quando estritamente necessário).\n",
    "4. Deduplicação: remoção de duplicatas de publicações e coautores usando chaves compostas (título normalizado + ano + veículo).\n",
    "5. Enriquecimento: criação de variáveis derivadas (ex.: contagem de publicações por tipo/ano; tempo desde o doutorado; tamanho da rede de coautoria; indicadores por laboratório).\n",
    "6. Tokenização e limpeza para texto livre (resumos e títulos): remoção de stopwords, lematização/stemming quando aplicável e construção de representações (TF‑IDF, embeddings) para análises temáticas.\n",
    "\n",
    "Decisões e justificativas:\n",
    "\n",
    "- Priorizou-se manter registros com dados parciais (minimizando viés de remoção) e documentar imputações.\n",
    "- Normalização forte de chaves textuais para reduzir duplicatas por variações menores (case/acentos).\n",
    "- Features de texto foram mantidas em duas granulometrias: termos frequentes (interpretação) e vetores densos (modelos).\n"
   ]
  },
  {
   "cell_type": "markdown",
   "id": "bf0f17a4",
   "metadata": {},
   "source": [
    "## Perguntas (lista resumida)\n",
    "\n",
    "1- Quais são os professores com mais contribuições e coautores?\n",
    "2- Qual é a relação entre a quantidade de anos de experiência e a produção bibliográfica?\n",
    "3- Como o nível de formação influencia a produção bibliográfica (mestrado, doutorado e pós-doutorado)?\n",
    "4- Como é o grafo de produção com coautoria?\n",
    "5- Quais clusters emergem a partir dos títulos dos artigos?.\n"
   ]
  },
  {
   "cell_type": "markdown",
   "id": "cd192473",
   "metadata": {},
   "source": [
    "### 1- Quais são os professores com mais contribuições e coautores?\n",
    "\n",
    "- Métricas: total de publicações por pesquisador; número distinto de coautores; taxa de coautoria (coautores/publicações).\n",
    "- Abordagem: agregar `publicacoes` por pesquisador e extrair coautores únicos a partir de cada produção; criar ranking e top‑N.\n",
    "- Visualização: barplots ordenados (top‑N) e heatmap de coautorias entre top pesquisadores.\n",
    "- Observações: tratar homônimos (normalização de nomes) e possíveis duplicatas em coautorias.\n"
   ]
  },
  {
   "cell_type": "markdown",
   "id": "123f6460",
   "metadata": {},
   "source": [
    "### 2- Qual é a relação entre a quantidade de anos de experiência e a produção bibliográfica?\n",
    "\n",
    "- Definição: anos de experiência = ano de referência − ano da conclusão do doutorado (ou mestrado, na ausência de doutorado).\n",
    "- Modelo: regressão linear simples/múltipla da produção anual em função dos anos de experiência e controles (lab, área, tamanho da rede).\n",
    "- Avaliação: RMSE/MAE, resíduos e análise de efeitos marginais; checar não linearidade (polinômios ou splines, se necessário).\n",
    "- Visualização: scatter com linha de tendência e intervalos de confiança; facetas por laboratório/área.\n"
   ]
  },
  {
   "cell_type": "markdown",
   "id": "7f1face2",
   "metadata": {},
   "source": [
    "### 3- Como o nível de formação influencia a produção bibliográfica (mestrado, doutorado e pós-doutorado)?\n",
    "\n",
    "- Variáveis: dummies/níveis categóricos de formação máxima e indicadores de pós‑doutorado.\n",
    "- Abordagem: modelos lineares (ANOVA/OLS) comparando médias condicionais de produção; controles por experiência e rede.\n",
    "- Interpretação: diferenças médias associadas a cada nível; intervalos de confiança; tamanho de efeito.\n",
    "- Visualização: boxplots/violin por nível de formação, com sobreposição de médias/IC.\n"
   ]
  },
  {
   "cell_type": "markdown",
   "id": "b76c7cc1",
   "metadata": {},
   "source": [
    "### 4- Como é o grafo de produção com coautoria?\n",
    "\n",
    "- Construção: grafo não direcionado com nós = pesquisadores e arestas ponderadas pelo número de publicações em coautoria.\n",
    "- Métricas: grau, betweenness, eigenvector; comunidades (Louvain/Leiden).\n",
    "- Visualização: layout forçado (Fruchterman‑Reingold/ForceAtlas2) com cor por comunidade e tamanho por centralidade.\n",
    "- Saídas: top nós por centralidade e subgrafos das comunidades principais.\n"
   ]
  },
  {
   "cell_type": "markdown",
   "id": "13f070b7",
   "metadata": {},
   "source": [
    "### 5- Quais clusters emergem a partir dos títulos dos artigos?.\n",
    "\n",
    "- Representação: TF‑IDF de títulos (ou embeddings) agregados por pesquisador ou por publicação.\n",
    "- Algoritmos: K‑Means (baseline) e/ou HDBSCAN; redução UMAP para 2D.\n",
    "- Validação: Silhouette/Davies‑Bouldin; inspeção de termos dominantes por cluster.\n",
    "- Visualização: nuvem de palavras por cluster e scatter 2D (UMAP) colorido por cluster.\n"
   ]
  },
  {
   "cell_type": "markdown",
   "id": "68b0ad21",
   "metadata": {},
   "source": [
    "## Conclusão\n",
    "\n",
    "Síntese esperada:\n",
    "\n",
    "- Ranking de pesquisadores por produção e coautoria e a estrutura de colaboração observada.\n",
    "- Relações entre experiência, nível de formação e produtividade.\n",
    "- Perfis temáticos identificados a partir dos títulos dos artigos.\n",
    "\n",
    "Limitações:\n",
    "\n",
    "- Lacunas e desatualizações nos currículos; ambiguidade de nomes/identificadores.\n",
    "- Diferenças de cobertura entre áreas e anos; variações na classificação de tipos de produção.\n",
    "\n",
    "Trabalhos futuros e melhorias:\n",
    "\n",
    "- Desambiguação com ORCID/DOI e enriquecimento via bases externas.\n",
    "- Modelos de NLP mais robustos (embeddings contextuais) e análise temporal fina de tópicos.\n",
    "- Dashboards interativos para acompanhamento contínuo.\n",
    "\n",
    "> Observação: Este notebook se baseia nos scripts do repositório (`scripts/download_profile.py` e `scripts/parse_profiles.py`). Para reproduzir a coleta e parsing, siga as instruções do `README.md` (uso de `uv`).\n"
   ]
  }
 ],
 "metadata": {
  "language_info": {
   "name": "python"
  }
 },
 "nbformat": 4,
 "nbformat_minor": 5
}
