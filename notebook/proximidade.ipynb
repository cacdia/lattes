{
 "cells": [
  {
   "cell_type": "code",
   "execution_count": 33,
   "id": "47c4a209",
   "metadata": {},
   "outputs": [],
   "source": [
    "import json\n",
    "from sklearn.feature_extraction.text import TfidfVectorizer\n",
    "from sklearn.decomposition import PCA\n",
    "import matplotlib.pyplot as plt\n",
    "import plotly.express as px\n",
    "from rapidfuzz import fuzz\n",
    "from collections import defaultdict"
   ]
  },
  {
   "cell_type": "code",
   "execution_count": 34,
   "id": "44174e3b",
   "metadata": {},
   "outputs": [],
   "source": [
    "with open(\"../data/professores.json\", encoding=\"utf-8\") as f:\n",
    "    professores = json.load(f)"
   ]
  },
  {
   "cell_type": "code",
   "execution_count": 35,
   "id": "cff9416f",
   "metadata": {},
   "outputs": [],
   "source": [
    "def calcular_proximidade(professores):\n",
    "    resultados = []\n",
    "    for prof in professores:\n",
    "        nome = prof[\"identificacao\"][\"nome\"]\n",
    "        nomes_citacao = prof[\"identificacao\"].get(\"nomes_citacao\", [])\n",
    "        for nome_citacao in nomes_citacao:\n",
    "            score = int(fuzz.token_set_ratio(nome, nome_citacao))\n",
    "            resultados.append(\n",
    "                {\"nome\": nome, \"nome_citacao\": nome_citacao, \"proximidade\": score}\n",
    "            )\n",
    "    return resultados"
   ]
  },
  {
   "cell_type": "code",
   "execution_count": 36,
   "id": "a748c46d",
   "metadata": {},
   "outputs": [],
   "source": [
    "resultados = calcular_proximidade(professores)"
   ]
  },
  {
   "cell_type": "code",
   "execution_count": 37,
   "id": "950c5485",
   "metadata": {},
   "outputs": [
    {
     "name": "stdout",
     "output_type": "stream",
     "text": [
      "{'nome': 'Adriana Carla Damasceno', 'nome_citacao': 'ADRIANA DAMASCENO', 'proximidade': 15}\n",
      "{'nome': 'Adriana Carla Damasceno', 'nome_citacao': 'DAMASCENO, ADRIANA', 'proximidade': 14}\n",
      "{'nome': 'Adriana Carla Damasceno', 'nome_citacao': 'DAMASCENO, ADRIANA C.', 'proximidade': 22}\n",
      "{'nome': 'Adriana Carla Damasceno', 'nome_citacao': 'DAMASCENO, A. C.', 'proximidade': 25}\n",
      "{'nome': 'Alan Kelon Oliveira de Moraes', 'nome_citacao': 'MORAES, A. K. O.', 'proximidade': 31}\n",
      "{'nome': 'Alan Kelon Oliveira de Moraes', 'nome_citacao': 'MORAES, ALAN', 'proximidade': 19}\n",
      "{'nome': 'Alan Kelon Oliveira de Moraes', 'nome_citacao': 'MORAES, A.', 'proximidade': 20}\n",
      "{'nome': 'Alisson Vasconcelos de Brito', 'nome_citacao': 'BRITO, ALISSON VASCONCELOS DE', 'proximidade': 17}\n",
      "{'nome': 'Alisson Vasconcelos de Brito', 'nome_citacao': 'BRITO, ALISSON V.', 'proximidade': 22}\n",
      "{'nome': 'Alisson Vasconcelos de Brito', 'nome_citacao': 'ALISSON, V.B.', 'proximidade': 14}\n",
      "{'nome': 'Alisson Vasconcelos de Brito', 'nome_citacao': 'BRITO, ALISSON V', 'proximidade': 22}\n",
      "{'nome': 'Alisson Vasconcelos de Brito', 'nome_citacao': 'BRITO, A. V.', 'proximidade': 25}\n",
      "{'nome': 'Alisson Vasconcelos de Brito', 'nome_citacao': 'DE BRITO, ALISSON VASCONCELOS', 'proximidade': 17}\n",
      "{'nome': 'Alisson Vasconcelos de Brito', 'nome_citacao': 'ALISSON VASCONCELOS BRITO', 'proximidade': 18}\n",
      "{'nome': 'Alisson Vasconcelos de Brito', 'nome_citacao': 'BRITO, ALISSON', 'proximidade': 14}\n",
      "{'nome': 'Alisson Vasconcelos de Brito', 'nome_citacao': 'VASCONCELOS BRITO, ALISSON', 'proximidade': 18}\n",
      "{'nome': 'Alisson Vasconcelos de Brito', 'nome_citacao': 'BRITO, ALISSON VASCONCELOS', 'proximidade': 18}\n",
      "{'nome': 'Alvaro Francisco de Castro Medeiros', 'nome_citacao': 'MEDEIROS, A. F. C.', 'proximidade': 26}\n",
      "{'nome': 'Ana Paula Pintado Wyse', 'nome_citacao': 'WYSE, ANA PAULA PINTADO', 'proximidade': 31}\n",
      "{'nome': 'Ana Paula Pintado Wyse', 'nome_citacao': 'WYSE, A. P. P.', 'proximidade': 30}\n",
      "{'nome': 'Ana Paula Pintado Wyse', 'nome_citacao': 'WYSE, A. P.', 'proximidade': 30}\n",
      "{'nome': 'Ana Paula Pintado Wyse', 'nome_citacao': 'WYSE, ANA PAULA', 'proximidade': 27}\n",
      "{'nome': 'Ana Paula Pintado Wyse', 'nome_citacao': 'WYSE, ANA PAULA P.', 'proximidade': 35}\n",
      "{'nome': 'Anand Subramanian', 'nome_citacao': 'SUBRAMANIAN, A.', 'proximidade': 18}\n",
      "{'nome': 'Anand Subramanian', 'nome_citacao': 'SUBRAMANIAN, ANAND', 'proximidade': 17}\n",
      "{'nome': 'Andrei de Araujo Formiga', 'nome_citacao': 'FORMIGA, A. A.', 'proximidade': 17}\n",
      "{'nome': 'Andréa Vanessa Rocha', 'nome_citacao': 'ROCHA, ANDRÉA VANESSA', 'proximidade': 24}\n",
      "{'nome': 'Andréa Vanessa Rocha', 'nome_citacao': 'ROCHA, ANDRÉA V.', 'proximidade': 27}\n",
      "{'nome': 'Antônio José Boness dos Santos', 'nome_citacao': 'SANTOS, A. J. B.', 'proximidade': 30}\n",
      "{'nome': 'Antônio José Boness dos Santos', 'nome_citacao': 'DOS SANTOS, ANTONIO JOSÉ BONESS', 'proximidade': 22}\n",
      "{'nome': 'Antônio José Boness dos Santos', 'nome_citacao': 'SANTOS, ANTÔNIO J. B.', 'proximidade': 27}\n",
      "{'nome': 'Antônio José Boness dos Santos', 'nome_citacao': 'SANTOS, ANTÔNIO JOSÉ BONESS DOS', 'proximidade': 22}\n",
      "{'nome': 'Antônio José Boness dos Santos', 'nome_citacao': 'DOS SANTOS, ANTÔNIO J.B.', 'proximidade': 22}\n",
      "{'nome': 'Antônio José Boness dos Santos', 'nome_citacao': \"SANTOS, ANTONIO JOSE' BONESS DOS\", 'proximidade': 22}\n",
      "{'nome': 'Antônio José Boness dos Santos', 'nome_citacao': 'DOS SANTOS,  ANTÔNIO J. B.', 'proximidade': 25}\n",
      "{'nome': 'Antônio José Boness dos Santos', 'nome_citacao': 'SANTOS, ANTONIO JOSÉ BONESS DOS', 'proximidade': 22}\n",
      "{'nome': 'Antônio José Boness dos Santos', 'nome_citacao': 'SANTOS, A.J.B.', 'proximidade': 18}\n",
      "{'nome': 'Antônio José Boness dos Santos', 'nome_citacao': 'SANTOS, ANTÔNIO JOSÉ BONESS', 'proximidade': 24}\n",
      "{'nome': 'Antônio José Boness dos Santos', 'nome_citacao': 'SANTOS, ANTONIO', 'proximidade': 13}\n",
      "{'nome': 'Antônio José Boness dos Santos', 'nome_citacao': 'DOS SANTOS, ANTONIO J. B.', 'proximidade': 25}\n",
      "{'nome': 'Antônio José Boness dos Santos', 'nome_citacao': \"DOS SANTOS, ANTO'NIO\", 'proximidade': 16}\n",
      "{'nome': 'Aparecido Jesuino de Souza', 'nome_citacao': 'SOUZA, APARECIDO J.', 'proximidade': 22}\n",
      "{'nome': 'Aparecido Jesuino de Souza', 'nome_citacao': 'DE SOUZA, APARECIDO JESUINO', 'proximidade': 18}\n",
      "{'nome': 'Aparecido Jesuino de Souza', 'nome_citacao': 'DE SOUZA, APARECIDO J.', 'proximidade': 20}\n",
      "{'nome': 'Aparecido Jesuino de Souza', 'nome_citacao': 'A. J. DESOUZA', 'proximidade': 20}\n",
      "{'nome': 'Aparecido Jesuino de Souza', 'nome_citacao': 'SOUZA, APARECIDO J. DE', 'proximidade': 20}\n",
      "{'nome': 'Aparecido Jesuino de Souza', 'nome_citacao': 'DE SOUZA, APARECIDO', 'proximidade': 17}\n",
      "{'nome': 'Aparecido Jesuino de Souza', 'nome_citacao': 'A. J. DE SOUZA', 'proximidade': 25}\n",
      "{'nome': 'Aparecido Jesuino de Souza', 'nome_citacao': 'DE SOUZA, A. J.', 'proximidade': 24}\n",
      "{'nome': 'Aparecido Jesuino de Souza', 'nome_citacao': 'SOUZA, A. J. DE', 'proximidade': 24}\n",
      "{'nome': 'Aparecido Jesuino de Souza', 'nome_citacao': 'J. DE SOUZA, A.', 'proximidade': 24}\n",
      "{'nome': 'Bruno Jefferson de Sousa Pessoa', 'nome_citacao': 'PESSOA, BRUNO JEFFERSON DE S.', 'proximidade': 23}\n",
      "{'nome': 'Bruno Jefferson de Sousa Pessoa', 'nome_citacao': 'PESSOA, B. J. S.', 'proximidade': 29}\n",
      "{'nome': 'Bruno Jefferson de Sousa Pessoa', 'nome_citacao': 'PESSOA, BRUNO JEFFERSON DE SOUSA', 'proximidade': 22}\n",
      "{'nome': 'Bruno Jefferson de Sousa Pessoa', 'nome_citacao': 'PESSOA, BRUNO J.S.', 'proximidade': 24}\n",
      "{'nome': 'Bruno Petrato Bruck', 'nome_citacao': 'BRUCK, B.P.', 'proximidade': 20}\n",
      "{'nome': 'Bruno Petrato Bruck', 'nome_citacao': 'BRUCK, BRUNO', 'proximidade': 19}\n",
      "{'nome': 'Bruno Petrato Bruck', 'nome_citacao': 'BRUCK, BRUNO P.', 'proximidade': 29}\n",
      "{'nome': 'Bruno Petrato Bruck', 'nome_citacao': 'BRUCK, BRUNO PETRATO', 'proximidade': 25}\n",
      "{'nome': 'Camila Mara Vital Barros', 'nome_citacao': 'BARROS, C. M. V.', 'proximidade': 35}\n",
      "{'nome': 'Camila Mara Vital Barros', 'nome_citacao': 'BARROS, CAMILA MARA VITAL', 'proximidade': 28}\n",
      "{'nome': 'Camila Mara Vital Barros', 'nome_citacao': 'MARA VITAL BARROS, CAMILA', 'proximidade': 28}\n",
      "{'nome': 'Camila Mara Vital Barros', 'nome_citacao': 'BARROS, CAMILA', 'proximidade': 21}\n",
      "{'nome': 'Carlos Alberto Nunes Machado', 'nome_citacao': 'MACHADO, C. A. N.', 'proximidade': 31}\n",
      "{'nome': 'Carlos Alberto Nunes Machado', 'nome_citacao': 'MACHADO, CARLOS ALBERTO NUNES', 'proximidade': 24}\n",
      "{'nome': 'Carlos Eduardo Coelho Freire Batista', 'nome_citacao': 'BATISTA, CARLOS EDUARDO FREIRE', 'proximidade': 21}\n",
      "{'nome': 'Carlos Eduardo Coelho Freire Batista', 'nome_citacao': 'BATISTA, CARLOS', 'proximidade': 11}\n",
      "{'nome': 'Carlos Eduardo Coelho Freire Batista', 'nome_citacao': 'BATISTA, C. E. C. F.', 'proximidade': 26}\n",
      "{'nome': 'Carlos Eduardo Coelho Freire Batista', 'nome_citacao': 'BATISTA, CARLOS E. C. F.', 'proximidade': 30}\n",
      "{'nome': 'Carlos Eduardo Coelho Freire Batista', 'nome_citacao': 'BATISTA, CARLOS EDUARDO COELHO FREIRE', 'proximidade': 24}\n",
      "{'nome': 'Carlos Eduardo Coelho Freire Batista', 'nome_citacao': 'EDUARDO COELHO FREIRE BATISTA, CARLOS', 'proximidade': 24}\n",
      "{'nome': 'Carlos Eduardo Coelho Freire Batista', 'nome_citacao': 'BATISTA, CARLOS EDUARDO', 'proximidade': 16}\n",
      "{'nome': 'Christian Azambuja Pagot', 'nome_citacao': 'PAGOT, CHRISTIAN', 'proximidade': 15}\n",
      "{'nome': 'Christian Azambuja Pagot', 'nome_citacao': 'PAGOT, C. A.', 'proximidade': 27}\n",
      "{'nome': 'Clauirton de Albuquerque Siebra', 'nome_citacao': 'SIEBRA, CLAUIRTON', 'proximidade': 12}\n",
      "{'nome': 'Clauirton de Albuquerque Siebra', 'nome_citacao': 'DE ALBUQUERQUE SIEBRA, CLAUIRTON', 'proximidade': 15}\n",
      "{'nome': 'Clauirton de Albuquerque Siebra', 'nome_citacao': 'SIEBRA, C. A.', 'proximidade': 22}\n",
      "{'nome': 'Clauirton de Albuquerque Siebra', 'nome_citacao': 'SIEBRA, CLAUIRTON A.', 'proximidade': 19}\n",
      "{'nome': 'Clauirton de Albuquerque Siebra', 'nome_citacao': 'CLAUIRTON DE ALBUQUERQUE SIEBRA', 'proximidade': 16}\n",
      "{'nome': 'Clauirton de Albuquerque Siebra', 'nome_citacao': 'SIEBRA, C.', 'proximidade': 14}\n",
      "{'nome': 'Clauirton de Albuquerque Siebra', 'nome_citacao': 'SIEBRA, CLAUIRTON DE ALBUQUERQUE', 'proximidade': 15}\n",
      "{'nome': 'Clauirton de Albuquerque Siebra', 'nome_citacao': 'SIEBRA, CLAUIRTON ALBUQUERQUE', 'proximidade': 16}\n",
      "{'nome': 'Clauirton de Albuquerque Siebra', 'nome_citacao': 'CLAUIRTON SIEBRA', 'proximidade': 12}\n",
      "{'nome': 'Clauirton de Albuquerque Siebra', 'nome_citacao': 'SIEBRA, CLAUIRTON A', 'proximidade': 20}\n",
      "{'nome': 'Daniela Coelho Batista Guedes Pereira', 'nome_citacao': 'BATISTA, D. C. F', 'proximidade': 22}\n",
      "{'nome': 'Daniela Coelho Batista Guedes Pereira', 'nome_citacao': 'DANIELA C. B. G. PEREIRA', 'proximidade': 29}\n",
      "{'nome': 'Daniela Coelho Batista Guedes Pereira', 'nome_citacao': 'DANIELA COELHO BATISTA', 'proximidade': 16}\n",
      "{'nome': 'Daniela Coelho Batista Guedes Pereira', 'nome_citacao': 'DANIELA COELHO FREIRE BATISTA', 'proximidade': 18}\n",
      "{'nome': 'Danielle Rousy Dias Ricarte', 'nome_citacao': 'RICARTE, DANIELLE ROUSY D.', 'proximidade': 26}\n",
      "{'nome': 'Danielle Rousy Dias Ricarte', 'nome_citacao': 'ROUSY DIAS DA SILVA, DANIELLE', 'proximidade': 21}\n",
      "{'nome': 'Danielle Rousy Dias Ricarte', 'nome_citacao': 'SILVA, DANIELLE', 'proximidade': 9}\n",
      "{'nome': 'Danielle Rousy Dias Ricarte', 'nome_citacao': 'RICARTE, DANIELLE ROUSY DIAS', 'proximidade': 25}\n",
      "{'nome': 'Danielle Rousy Dias Ricarte', 'nome_citacao': 'RICARTE, DANIELLE R. D.', 'proximidade': 28}\n",
      "{'nome': 'Danielle Rousy Dias Ricarte', 'nome_citacao': 'SILVA, D. R. D.', 'proximidade': 20}\n",
      "{'nome': 'Danielle Rousy Dias Ricarte', 'nome_citacao': 'RICARTE, D. R. D', 'proximidade': 32}\n",
      "{'nome': 'Danielle Rousy Dias Ricarte', 'nome_citacao': 'DANIELLE ROUSY D. RICARTE', 'proximidade': 26}\n",
      "{'nome': 'Danielle Rousy Dias Ricarte', 'nome_citacao': 'ROUSY DIAS RICARTE, DANIELLE', 'proximidade': 25}\n",
      "{'nome': 'Danielle Rousy Dias Ricarte', 'nome_citacao': 'RICARTE, D. R. D.', 'proximidade': 24}\n",
      "{'nome': 'Danielle Rousy Dias Ricarte', 'nome_citacao': 'DANIELLE ROUSY DIAS RICARTE', 'proximidade': 25}\n",
      "{'nome': 'Derzu Omaia', 'nome_citacao': 'OMAIA, DERZU', 'proximidade': 26}\n",
      "{'nome': 'Ed Porto Bezerra', 'nome_citacao': 'ED PORTO BEZERRA', 'proximidade': 31}\n",
      "{'nome': 'Ed Porto Bezerra', 'nome_citacao': 'BEZERRA, ED', 'proximidade': 22}\n",
      "{'nome': 'Ed Porto Bezerra', 'nome_citacao': 'ED BEZERRA', 'proximidade': 23}\n",
      "{'nome': 'Ed Porto Bezerra', 'nome_citacao': 'ED PORTO', 'proximidade': 25}\n",
      "{'nome': 'Ed Porto Bezerra', 'nome_citacao': 'PORTO, ED', 'proximidade': 24}\n",
      "{'nome': 'Ed Porto Bezerra', 'nome_citacao': 'BEZERRA, E. P.', 'proximidade': 33}\n",
      "{'nome': 'Ed Porto Bezerra', 'nome_citacao': 'BEZERRA ED', 'proximidade': 23}\n",
      "{'nome': 'Ed Porto Bezerra', 'nome_citacao': 'BEZERRA, ED PORTO', 'proximidade': 30}\n",
      "{'nome': 'Elizabet Maria Spohr de Medeiros', 'nome_citacao': 'MEDEIROS, E. M. S.', 'proximidade': 28}\n",
      "{'nome': 'Eudisley Gomes dos Anjos', 'nome_citacao': 'ANJOS, EUDISLEY GOMES DOS', 'proximidade': 20}\n",
      "{'nome': 'Eudisley Gomes dos Anjos', 'nome_citacao': 'GOMES DOS ANJOS, EUDISLEY', 'proximidade': 20}\n",
      "{'nome': 'Eudisley Gomes dos Anjos', 'nome_citacao': 'ANJOS, E. G.', 'proximidade': 27}\n",
      "{'nome': 'Eudisley Gomes dos Anjos', 'nome_citacao': 'ANJOS, EUDISLEY', 'proximidade': 15}\n",
      "{'nome': 'Felipe Antonio Garcia Moreno', 'nome_citacao': 'MORENO, F. A. G.', 'proximidade': 31}\n",
      "{'nome': 'Felipe Antonio Garcia Moreno', 'nome_citacao': 'MORENO, FELIPE A. G.', 'proximidade': 29}\n",
      "{'nome': 'Felipe Antonio Garcia Moreno', 'nome_citacao': 'MORENO, FELIPE GARCIA', 'proximidade': 20}\n",
      "{'nome': 'Francisco de Assis Coutinho Souto', 'nome_citacao': 'SOUTO, FRANCISCO DE ASSIS COUTINHO', 'proximidade': 20}\n",
      "{'nome': 'Gilberto Farias de Sousa Filho', 'nome_citacao': 'SOUSA FILHO, GILBERTO F.', 'proximidade': 25}\n",
      "{'nome': 'Gilberto Farias de Sousa Filho', 'nome_citacao': 'DE SOUSA FILHO, GILBERTO FARIAS', 'proximidade': 22}\n",
      "{'nome': 'Gilberto Farias de Sousa Filho', 'nome_citacao': 'SOUSA FILHO, G. F.', 'proximidade': 29}\n",
      "{'nome': 'Gilberto Farias de Sousa Filho', 'nome_citacao': 'DE SOUSA, GILBERTO F.', 'proximidade': 23}\n",
      "{'nome': 'Gilberto Farias de Sousa Filho', 'nome_citacao': 'SOUSA FILHO, GILBERTO FARIAS DE', 'proximidade': 22}\n",
      "{'nome': 'Gilberto Farias de Sousa Filho', 'nome_citacao': 'FILHO, GILBERTO FARIAS DE SOUSA', 'proximidade': 22}\n",
      "{'nome': 'Gilberto Farias de Sousa Filho', 'nome_citacao': 'DE SOUSA FILHO, GILBERTO F.', 'proximidade': 24}\n",
      "{'nome': 'Giorgia de Oliveira Mattos', 'nome_citacao': 'O. MATTOS, GIORGIA', 'proximidade': 22}\n",
      "{'nome': 'Giorgia de Oliveira Mattos', 'nome_citacao': 'MATTOS, GIORGIA', 'proximidade': 19}\n",
      "{'nome': 'Giorgia de Oliveira Mattos', 'nome_citacao': 'MATTOS, GIORGIA DE OLIVEIRA', 'proximidade': 18}\n",
      "{'nome': 'Giorgia de Oliveira Mattos', 'nome_citacao': 'OLIVEIRA MATTOS, GIORGIA', 'proximidade': 20}\n",
      "{'nome': 'Giorgia de Oliveira Mattos', 'nome_citacao': 'MATTOS, GIORGIA O.', 'proximidade': 22}\n",
      "{'nome': 'Glêdson Elias da Silveira', 'nome_citacao': 'ELIAS, G.', 'proximidade': 17}\n",
      "{'nome': 'Glêdson Elias da Silveira', 'nome_citacao': 'ELIAS, GLEDSON', 'proximidade': 20}\n",
      "{'nome': 'Gustavo Charles Peixoto de Oliveira', 'nome_citacao': 'OLIVEIRA, G.', 'proximidade': 12}\n",
      "{'nome': 'Gustavo Charles Peixoto de Oliveira', 'nome_citacao': 'PEIXOTO DE OLIVEIRA, GUSTAVO', 'proximidade': 19}\n",
      "{'nome': 'Gustavo Charles Peixoto de Oliveira', 'nome_citacao': 'OLIVEIRA, GUSTAVO P.', 'proximidade': 18}\n",
      "{'nome': 'Gustavo Charles Peixoto de Oliveira', 'nome_citacao': 'CHARLES PEIXOTO DE OLIVEIRA, GUSTAVO', 'proximidade': 19}\n",
      "{'nome': 'Gustavo Charles Peixoto de Oliveira', 'nome_citacao': 'OLIVEIRA, G. P.', 'proximidade': 20}\n",
      "{'nome': 'Gustavo Charles Peixoto de Oliveira', 'nome_citacao': 'PEIXOTO DE OLIVEIRA, GUSTAVO CHARLES', 'proximidade': 19}\n",
      "{'nome': 'Gustavo Charles Peixoto de Oliveira', 'nome_citacao': 'OLIVEIRA, G. C. P.', 'proximidade': 26}\n",
      "{'nome': 'Gustavo Charles Peixoto de Oliveira', 'nome_citacao': 'OLIVEIRA, GUSTAVO CHARLES', 'proximidade': 16}\n",
      "{'nome': 'Gustavo Charles Peixoto de Oliveira', 'nome_citacao': 'OLIVEIRA, G.P.', 'proximidade': 12}\n",
      "{'nome': 'Gustavo Charles Peixoto de Oliveira', 'nome_citacao': 'OLIVEIRA, GUSTAVO CHARLES PEIXOTO DE', 'proximidade': 19}\n",
      "{'nome': 'Gustavo Henrique Matos Bezerra Motta', 'nome_citacao': 'MOTTA, G. H. M. B.', 'proximidade': 33}\n",
      "{'nome': 'Gustavo Henrique Matos Bezerra Motta', 'nome_citacao': 'GUSTAVO MOTTA', 'proximidade': 12}\n",
      "{'nome': 'Gustavo Henrique Matos Bezerra Motta', 'nome_citacao': 'MOTTA, GUSTAVO H. M. B.', 'proximidade': 30}\n",
      "{'nome': 'Gustavo Henrique Matos Bezerra Motta', 'nome_citacao': 'MOTTA, GUSTAVO HENRIQUE MATOS BEZERRA', 'proximidade': 24}\n",
      "{'nome': 'Gustavo Henrique Matos Bezerra Motta', 'nome_citacao': 'MOTTA, GUSTAVO H.M.B.', 'proximidade': 21}\n",
      "{'nome': 'Gustavo Henrique Matos Bezerra Motta', 'nome_citacao': 'MOTTA, GUSTAVO', 'proximidade': 12}\n",
      "{'nome': 'Gustavo Henrique Matos Bezerra Motta', 'nome_citacao': 'MATOS BEZERRA MOTTA, GUSTAVO HENRIQUE', 'proximidade': 24}\n",
      "{'nome': 'José Miguel Aroztegui Massera', 'nome_citacao': 'AROZTEGUI, M.', 'proximidade': 14}\n",
      "{'nome': 'José Miguel Aroztegui Massera', 'nome_citacao': 'AROZTEGUI, MIGUEL', 'proximidade': 13}\n",
      "{'nome': 'José Miguel Aroztegui Massera', 'nome_citacao': 'AROZTEGUI, JOSÉ MIGUEL', 'proximidade': 19}\n",
      "{'nome': 'Kely Diana Villacorta Villacorta', 'nome_citacao': 'VILLACORTA, K. D. V.', 'proximidade': 24}\n",
      "{'nome': 'Kely Diana Villacorta Villacorta', 'nome_citacao': 'VILLACORTA, KELY DIANA', 'proximidade': 23}\n",
      "{'nome': 'Kely Diana Villacorta Villacorta', 'nome_citacao': 'VILLACORTA, KELY D. V.', 'proximidade': 23}\n",
      "{'nome': 'Kely Diana Villacorta Villacorta', 'nome_citacao': 'VILLACORTA, KELY D.V.', 'proximidade': 23}\n",
      "{'nome': 'Leandro Carlos de Souza', 'nome_citacao': 'CARLOS DE SOUZA, LEANDRO', 'proximidade': 21}\n",
      "{'nome': 'Leandro Carlos de Souza', 'nome_citacao': 'DE SOUZA, LEANDRO CARLOS', 'proximidade': 21}\n",
      "{'nome': 'Leandro Carlos de Souza', 'nome_citacao': 'DE SOUZA, LEANDRO C.', 'proximidade': 23}\n",
      "{'nome': 'Leandro Carlos de Souza', 'nome_citacao': 'SOUZA, LEANDRO', 'proximidade': 16}\n",
      "{'nome': 'Leandro Carlos de Souza', 'nome_citacao': 'SOUZA, LEANDRO CARLOS DE', 'proximidade': 21}\n",
      "{'nome': 'Leandro Carlos de Souza', 'nome_citacao': 'SOUZA, LEANDRO CARLOS', 'proximidade': 22}\n",
      "{'nome': 'Leandro Carlos de Souza', 'nome_citacao': 'SOUZA, L.C.', 'proximidade': 17}\n",
      "{'nome': 'Leandro Carlos de Souza', 'nome_citacao': 'SOUZA, LEANDRO C.', 'proximidade': 25}\n",
      "{'nome': 'Liliane dos Santos Machado', 'nome_citacao': 'LILIANE DOS SANTOS MACHADO', 'proximidade': 19}\n",
      "{'nome': 'Liliane dos Santos Machado', 'nome_citacao': 'DOS SANTOS MACHADO, LILIANE', 'proximidade': 18}\n",
      "{'nome': 'Liliane dos Santos Machado', 'nome_citacao': 'MACHADO, LILIANEDOS SANTOS', 'proximidade': 19}\n",
      "{'nome': 'Liliane dos Santos Machado', 'nome_citacao': 'MACHADO, LILIANE S.', 'proximidade': 22}\n",
      "{'nome': 'Liliane dos Santos Machado', 'nome_citacao': 'MACHADO, LILIANE DOS SANTOS', 'proximidade': 18}\n",
      "{'nome': 'Liliane dos Santos Machado', 'nome_citacao': 'LILIANE S. MACHADO', 'proximidade': 22}\n",
      "{'nome': 'Liliane dos Santos Machado', 'nome_citacao': 'LILIANE DOS S. MACHADO', 'proximidade': 20}\n",
      "{'nome': 'Liliane dos Santos Machado', 'nome_citacao': 'MACHADO, LILIANE', 'proximidade': 14}\n",
      "{'nome': 'Liliane dos Santos Machado', 'nome_citacao': 'DOS S. MACHADO, LILIANE', 'proximidade': 20}\n",
      "{'nome': 'Liliane dos Santos Machado', 'nome_citacao': 'MACHADO, LILIANE SANTOS', 'proximidade': 20}\n",
      "{'nome': 'Liliane dos Santos Machado', 'nome_citacao': 'MACHADO, LILIANE DOS S.', 'proximidade': 20}\n",
      "{'nome': 'Liliane dos Santos Machado', 'nome_citacao': 'MACHADO, LILIANE S', 'proximidade': 22}\n",
      "{'nome': 'Liliane dos Santos Machado', 'nome_citacao': 'S. MACHADO, LILIANE', 'proximidade': 22}\n",
      "{'nome': 'Lincoln David Nery e Silva', 'nome_citacao': 'SILVA, L. D. N. E.', 'proximidade': 31}\n",
      "{'nome': 'Lincoln David Nery e Silva', 'nome_citacao': 'NERY E SILVA, LINCOLN DAVID', 'proximidade': 26}\n",
      "{'nome': 'Lincoln David Nery e Silva', 'nome_citacao': 'L. DAVID', 'proximidade': 17}\n",
      "{'nome': 'Lincoln David Nery e Silva', 'nome_citacao': 'SILVA, L. D. N.', 'proximidade': 34}\n",
      "{'nome': 'Lincoln David Nery e Silva', 'nome_citacao': 'DAVID, LINCOLN', 'proximidade': 20}\n",
      "{'nome': 'Lincoln David Nery e Silva', 'nome_citacao': 'DAVID, L.', 'proximidade': 17}\n",
      "{'nome': 'Lincoln David Nery e Silva', 'nome_citacao': 'DAVID NERY E SILVA, LINCOLN', 'proximidade': 26}\n",
      "{'nome': 'Lincoln David Nery e Silva', 'nome_citacao': 'SILVA, L. D.', 'proximidade': 26}\n",
      "{'nome': 'Luciano Sales Barros', 'nome_citacao': 'BARROS, LUCIANO', 'proximidade': 17}\n",
      "{'nome': 'Luciano Sales Barros', 'nome_citacao': 'SALES BARROS, LUCIANO', 'proximidade': 24}\n",
      "{'nome': 'Luciano Sales Barros', 'nome_citacao': 'LUCIANO S. BARROS', 'proximidade': 27}\n",
      "{'nome': 'Luciano Sales Barros', 'nome_citacao': 'S. BARROS, LUCIANO', 'proximidade': 26}\n",
      "{'nome': 'Luciano Sales Barros', 'nome_citacao': 'BARROS, L. S.', 'proximidade': 30}\n",
      "{'nome': 'Luciano Sales Barros', 'nome_citacao': 'L. S. BARROS', 'proximidade': 31}\n",
      "{'nome': 'Luciano Sales Barros', 'nome_citacao': 'BARROS, L.S.', 'proximidade': 25}\n",
      "{'nome': 'Luciano Sales Barros', 'nome_citacao': 'BARROS, LUCIANO S.', 'proximidade': 26}\n",
      "{'nome': 'Luciano Sales Barros', 'nome_citacao': 'LUCIANO SALES BARROS', 'proximidade': 25}\n",
      "{'nome': 'Luciano Sales Barros', 'nome_citacao': 'BARROS, LUCIANO SALES', 'proximidade': 24}\n",
      "{'nome': 'Lucidio dos Anjos Formiga Cabral', 'nome_citacao': 'CABRAL, LUCIDIO A', 'proximidade': 20}\n",
      "{'nome': 'Lucidio dos Anjos Formiga Cabral', 'nome_citacao': 'CABRAL, LUCÍDIO DOS ANJOS F.', 'proximidade': 23}\n",
      "{'nome': 'Lucidio dos Anjos Formiga Cabral', 'nome_citacao': 'DOS ANJOS FORMIGA CABRAL, LUCÍDIO', 'proximidade': 21}\n",
      "{'nome': 'Lucidio dos Anjos Formiga Cabral', 'nome_citacao': 'LUCIDIO DOS A. F. CABRAL', 'proximidade': 25}\n",
      "{'nome': 'Lucidio dos Anjos Formiga Cabral', 'nome_citacao': 'CABRAL, LUCIDIO A.F.', 'proximidade': 19}\n",
      "{'nome': 'Lucidio dos Anjos Formiga Cabral', 'nome_citacao': 'CABRAL, LUCÍDIO A. F.', 'proximidade': 26}\n",
      "{'nome': 'Lucidio dos Anjos Formiga Cabral', 'nome_citacao': 'CABRAL, LUCÍDIO DOS A. F.', 'proximidade': 24}\n",
      "{'nome': 'Lucidio dos Anjos Formiga Cabral', 'nome_citacao': 'CABRAL, LUCIDIO A.', 'proximidade': 20}\n",
      "{'nome': 'Lucidio dos Anjos Formiga Cabral', 'nome_citacao': 'CABRAL, L. A. F.', 'proximidade': 29}\n",
      "{'nome': 'Lucidio dos Anjos Formiga Cabral', 'nome_citacao': 'CABRAL, LUCÍDIO ANJOS FORMIGA', 'proximidade': 22}\n",
      "{'nome': 'Lucidio dos Anjos Formiga Cabral', 'nome_citacao': 'DOS ANJOS F. CABRAL, LUCÍDIO', 'proximidade': 23}\n",
      "{'nome': 'Lucidio dos Anjos Formiga Cabral', 'nome_citacao': 'DOS ANJOS F. CABRAL, LUCIDIO', 'proximidade': 23}\n",
      "{'nome': 'Lucidio dos Anjos Formiga Cabral', 'nome_citacao': 'CABRAL, LUCIDIO ANJOS FORMIGA', 'proximidade': 22}\n",
      "{'nome': 'Lucidio dos Anjos Formiga Cabral', 'nome_citacao': 'CABRAL, LUCIDIO DOS A. F.', 'proximidade': 24}\n",
      "{'nome': 'Lucidio dos Anjos Formiga Cabral', 'nome_citacao': 'CABRAL, LUCÍDIO DOS ANJOS FORMIGA', 'proximidade': 21}\n",
      "{'nome': 'Lucidio dos Anjos Formiga Cabral', 'nome_citacao': 'CABRAL, LUCIDIO A. F.', 'proximidade': 26}\n",
      "{'nome': 'Lucidio dos Anjos Formiga Cabral', 'nome_citacao': 'DOS ANJOS FORMIGA CABRAL, LUCIDIO', 'proximidade': 21}\n",
      "{'nome': 'Marcelo Iury de Sousa Oliveira', 'nome_citacao': 'OLIVEIRA, MARCELO IURY S.', 'proximidade': 25}\n",
      "{'nome': 'Marcelo Iury de Sousa Oliveira', 'nome_citacao': 'OLIVEIRA, MARCELO IURY DE SOUSA', 'proximidade': 22}\n",
      "{'nome': 'Moises Dantas dos Santos', 'nome_citacao': 'SANTOS, M. D', 'proximidade': 27}\n",
      "{'nome': 'Moises Dantas dos Santos', 'nome_citacao': 'SANTOS, MOISÉS DANTAS DOS', 'proximidade': 20}\n",
      "{'nome': 'Moises Dantas dos Santos', 'nome_citacao': 'SANTOS, M.D.', 'proximidade': 16}\n",
      "{'nome': 'Moises Dantas dos Santos', 'nome_citacao': 'SANTOS, M. D.', 'proximidade': 27}\n",
      "{'nome': 'Moises Dantas dos Santos', 'nome_citacao': 'DOS SANTOS, MOISÉS DANTAS', 'proximidade': 20}\n",
      "{'nome': 'Moises Dantas dos Santos', 'nome_citacao': 'MOISES DANTAS DOS SANTOS', 'proximidade': 20}\n",
      "{'nome': 'Moises Dantas dos Santos', 'nome_citacao': 'SANTOS, MOISÉS D.', 'proximidade': 24}\n",
      "{'nome': 'Natasha Correia Queiroz Lino', 'nome_citacao': 'LINO, NATASHA C.Q.', 'proximidade': 21}\n",
      "{'nome': 'Natasha Correia Queiroz Lino', 'nome_citacao': 'LINO, N. C. Q.', 'proximidade': 33}\n",
      "{'nome': 'Natasha Correia Queiroz Lino', 'nome_citacao': 'LINO, NATASHA C Q', 'proximidade': 31}\n",
      "{'nome': 'Natasha Correia Queiroz Lino', 'nome_citacao': 'LINO, NATASHA C. Q.', 'proximidade': 29}\n",
      "{'nome': 'Natasha Correia Queiroz Lino', 'nome_citacao': 'LINO, NATASHA CORREIA QUEIROZ', 'proximidade': 24}\n",
      "{'nome': 'Natasha Correia Queiroz Lino', 'nome_citacao': 'LINO, NATASHA', 'proximidade': 14}\n",
      "{'nome': 'Raoni Kulesza', 'nome_citacao': 'ABÁSOLO, MARÍA JOSÉ, KULESZA, RAONI', 'proximidade': 12}\n",
      "{'nome': 'Raoni Kulesza', 'nome_citacao': 'ABÁSOLO, M. J.', 'proximidade': 7}\n",
      "{'nome': 'Raoni Kulesza', 'nome_citacao': 'MARÍA JOSÉ ABÁSOLO, RAONI KULESZA', 'proximidade': 13}\n",
      "{'nome': 'Raoni Kulesza', 'nome_citacao': 'MARÍA JOSÉ ABÁSOLO', 'proximidade': 12}\n",
      "{'nome': 'Raoni Kulesza', 'nome_citacao': 'KULESZA, R.', 'proximidade': 25}\n",
      "{'nome': 'Raoni Kulesza', 'nome_citacao': 'KULESZA, RAONI', 'proximidade': 22}\n",
      "{'nome': 'Raoni Kulesza', 'nome_citacao': 'ABÁSOLO, M. J., KULESZA, R.', 'proximidade': 15}\n",
      "{'nome': 'Roberto Quirino do Nascimento', 'nome_citacao': 'NASCIMENTO, ROBERTO QUIRINO', 'proximidade': 17}\n",
      "{'nome': 'Roberto Quirino do Nascimento', 'nome_citacao': 'QUIRINO DO NASCIMENTO, ROBERTO', 'proximidade': 16}\n",
      "{'nome': 'Roberto Quirino do Nascimento', 'nome_citacao': 'NASCIMENTO, ROBERTO QUIRINO DO', 'proximidade': 16}\n",
      "{'nome': 'Roberto Quirino do Nascimento', 'nome_citacao': 'DO NASCIMENTO, ROBERTO QUIRINO', 'proximidade': 16}\n",
      "{'nome': 'Roberto Quirino do Nascimento', 'nome_citacao': 'NASCIMENTO, R. Q.', 'proximidade': 21}\n",
      "{'nome': 'Sérgio de Carvalho Bezerra', 'nome_citacao': 'BEZERRA, SÉRGIO C.', 'proximidade': 22}\n",
      "{'nome': 'Sérgio de Carvalho Bezerra', 'nome_citacao': 'S.C.BEZERRA', 'proximidade': 5}\n",
      "{'nome': 'Sérgio de Carvalho Bezerra', 'nome_citacao': 'S. DE CARVALHO', 'proximidade': 15}\n",
      "{'nome': 'Sérgio de Carvalho Bezerra', 'nome_citacao': 'SÉRGIO DE CARVALHO BEZERRA', 'proximidade': 19}\n",
      "{'nome': 'Sérgio de Carvalho Bezerra', 'nome_citacao': 'S. CARVALHO', 'proximidade': 16}\n",
      "{'nome': 'Sérgio de Carvalho Bezerra', 'nome_citacao': 'DE CARVALHO BEZERRA, SÉRGIO', 'proximidade': 18}\n",
      "{'nome': 'Sérgio de Carvalho Bezerra', 'nome_citacao': 'BEZERRA, SÉRGIO', 'proximidade': 14}\n",
      "{'nome': 'Sérgio de Carvalho Bezerra', 'nome_citacao': 'BEZERRA,S. DE C', 'proximidade': 19}\n",
      "{'nome': 'Tatiana Araújo Simões', 'nome_citacao': 'SIMÕES, T.A.', 'proximidade': 18}\n",
      "{'nome': 'Tatiana Araújo Simões', 'nome_citacao': 'SIMÕES, TATIANA A.', 'proximidade': 25}\n",
      "{'nome': 'Tatiana Araújo Simões', 'nome_citacao': 'SIMOES, T. A.', 'proximidade': 29}\n",
      "{'nome': 'Teobaldo Leite Bulhões Júnior', 'nome_citacao': 'JÚNIOR, TEOBALDO L. BULHÕES', 'proximidade': 25}\n",
      "{'nome': 'Teobaldo Leite Bulhões Júnior', 'nome_citacao': 'BULHÕES, T.', 'proximidade': 20}\n",
      "{'nome': 'Teobaldo Leite Bulhões Júnior', 'nome_citacao': 'BULHÕES JÚNIOR, T. L.', 'proximidade': 28}\n",
      "{'nome': 'Teobaldo Leite Bulhões Júnior', 'nome_citacao': 'BULHÕES, TEOBALDO', 'proximidade': 17}\n",
      "{'nome': 'Thaís Gaudencio do Rêgo', 'nome_citacao': 'REGO, THAIS', 'proximidade': 17}\n",
      "{'nome': 'Thaís Gaudencio do Rêgo', 'nome_citacao': 'GAUDENCIO, THAÍS', 'proximidade': 15}\n",
      "{'nome': 'Thaís Gaudencio do Rêgo', 'nome_citacao': 'RÊGO, THAIS GAUDENCIO DO', 'proximidade': 21}\n",
      "{'nome': 'Thaís Gaudencio do Rêgo', 'nome_citacao': 'G. DO RÊGO, THAÍS', 'proximidade': 25}\n",
      "{'nome': 'Thaís Gaudencio do Rêgo', 'nome_citacao': 'REGO, THAIS G. DO', 'proximidade': 25}\n",
      "{'nome': 'Thaís Gaudencio do Rêgo', 'nome_citacao': 'DO RÃªGO, THAÃ\\xadS G', 'proximidade': 24}\n",
      "{'nome': 'Thaís Gaudencio do Rêgo', 'nome_citacao': 'DO REGO, TG', 'proximidade': 23}\n",
      "{'nome': 'Thaís Gaudencio do Rêgo', 'nome_citacao': 'DO REGO, THAIS G.', 'proximidade': 25}\n",
      "{'nome': 'Thaís Gaudencio do Rêgo', 'nome_citacao': 'DO RÊGO, THAÍS GAUDENCIO', 'proximidade': 21}\n",
      "{'nome': 'Thaís Gaudencio do Rêgo', 'nome_citacao': 'RÊGO, THAIS G.', 'proximidade': 27}\n",
      "{'nome': 'Thaís Gaudencio do Rêgo', 'nome_citacao': 'RÊGO, THAÍS GAUDÊNCIO DO', 'proximidade': 21}\n",
      "{'nome': 'Thaís Gaudencio do Rêgo', 'nome_citacao': 'DO REGO, THAIS G', 'proximidade': 25}\n",
      "{'nome': 'Thaís Gaudencio do Rêgo', 'nome_citacao': 'DO RÊGO, T.G.', 'proximidade': 22}\n",
      "{'nome': 'Thaís Gaudencio do Rêgo', 'nome_citacao': 'DO REGO, THAÍS G.', 'proximidade': 25}\n",
      "{'nome': 'Thaís Gaudencio do Rêgo', 'nome_citacao': 'GAUDENCIO, THAIS', 'proximidade': 15}\n",
      "{'nome': 'Thaís Gaudencio do Rêgo', 'nome_citacao': 'RÊGO, THAÍS GAUDENCIO DO', 'proximidade': 21}\n",
      "{'nome': 'Thaís Gaudencio do Rêgo', 'nome_citacao': 'GAUDÊNCIO, THAÍS', 'proximidade': 15}\n",
      "{'nome': 'Thaís Gaudencio do Rêgo', 'nome_citacao': 'DO RÃªGO, THAÃ\\xadS G.', 'proximidade': 23}\n",
      "{'nome': 'Thaís Gaudencio do Rêgo', 'nome_citacao': 'DO RÊGO, THAÍS G.', 'proximidade': 25}\n",
      "{'nome': 'Thaís Gaudencio do Rêgo', 'nome_citacao': 'RÊGO, THAIS GAUDÊNCIO', 'proximidade': 22}\n",
      "{'nome': 'Tiago Maritan Ugulino de Araújo', 'nome_citacao': 'ARAÚJO, TIAGO MARITAN U.', 'proximidade': 25}\n",
      "{'nome': 'Tiago Maritan Ugulino de Araújo', 'nome_citacao': 'DE ARAUJO, TIAGO MARITAN U.', 'proximidade': 24}\n",
      "{'nome': 'Tiago Maritan Ugulino de Araújo', 'nome_citacao': 'ARAUJO, TIAGO MARITAN UGULINO', 'proximidade': 23}\n",
      "{'nome': 'Tiago Maritan Ugulino de Araújo', 'nome_citacao': 'ARAÚJO, TIAGO MARITAN U. DE', 'proximidade': 24}\n",
      "{'nome': 'Tiago Maritan Ugulino de Araújo', 'nome_citacao': 'ARAÚJO, TIAGO M.U.', 'proximidade': 20}\n",
      "{'nome': 'Tiago Maritan Ugulino de Araújo', 'nome_citacao': 'ARAÚJO, TIAGO', 'proximidade': 13}\n",
      "{'nome': 'Tiago Maritan Ugulino de Araújo', 'nome_citacao': 'UGULINO DE ARAUJO, TIAGO MARITAN', 'proximidade': 22}\n",
      "{'nome': 'Tiago Maritan Ugulino de Araújo', 'nome_citacao': 'DE ARAUJO, TIAGO M.U.', 'proximidade': 19}\n",
      "{'nome': 'Tiago Maritan Ugulino de Araújo', 'nome_citacao': 'DE ARAÚJO, TIAGO MARITAN UGULINO', 'proximidade': 22}\n",
      "{'nome': 'Tiago Maritan Ugulino de Araújo', 'nome_citacao': 'ARAUJO, TIAGO MARITAN U.', 'proximidade': 25}\n",
      "{'nome': 'Tiago Maritan Ugulino de Araújo', 'nome_citacao': 'ARAÚJO, TIAGO MARITAN UGULINO', 'proximidade': 23}\n",
      "{'nome': 'Tiago Maritan Ugulino de Araújo', 'nome_citacao': 'UGULINO DE ARAÚJO, TIAGO MARITAN', 'proximidade': 22}\n",
      "{'nome': 'Tiago Maritan Ugulino de Araújo', 'nome_citacao': 'ARAÚJO, TIAGO M. U. DE', 'proximidade': 26}\n",
      "{'nome': 'Tiago Maritan Ugulino de Araújo', 'nome_citacao': 'DE ARAÚJO, TIAGO MARITAN', 'proximidade': 18}\n",
      "{'nome': 'Tiago Maritan Ugulino de Araújo', 'nome_citacao': 'MARITAN, TIAGO', 'proximidade': 13}\n",
      "{'nome': 'Tiago Maritan Ugulino de Araújo', 'nome_citacao': 'ARAÚJO, T. M. U. DE', 'proximidade': 28}\n",
      "{'nome': 'Tiago Maritan Ugulino de Araújo', 'nome_citacao': 'ARAÚJO, TIAGO MARITAN UGULINO DE', 'proximidade': 22}\n",
      "{'nome': 'Tiago Maritan Ugulino de Araújo', 'nome_citacao': 'ARAÚJO, TIAGO M.U. DE', 'proximidade': 19}\n",
      "{'nome': 'Tiago Maritan Ugulino de Araújo', 'nome_citacao': 'ARAUJO, TIAGO MARITAN UGULINO DE', 'proximidade': 22}\n",
      "{'nome': 'Tiago Maritan Ugulino de Araújo', 'nome_citacao': 'ARAÚJO, T. M. U.', 'proximidade': 29}\n",
      "{'nome': 'Vitor Meneghetti Ugulino de Araujo', 'nome_citacao': 'ARAUJO, V. M. U.', 'proximidade': 28}\n",
      "{'nome': 'Vitor Meneghetti Ugulino de Araujo', 'nome_citacao': 'ARAÚJO, VITOR MENEGHETTI UGULINO DE', 'proximidade': 20}\n",
      "{'nome': 'Yuri de Almeida Malheiros Barbosa', 'nome_citacao': 'MALHEIROS, YURI', 'proximidade': 12}\n",
      "{'nome': 'Yuri de Almeida Malheiros Barbosa', 'nome_citacao': 'MALHEIROS, YURI B', 'proximidade': 20}\n",
      "{'nome': 'Yuri de Almeida Malheiros Barbosa', 'nome_citacao': 'MALHEIROS, Y.', 'proximidade': 13}\n",
      "{'nome': 'Yuri de Almeida Malheiros Barbosa', 'nome_citacao': 'MALHEIROS, Y', 'proximidade': 13}\n",
      "{'nome': 'Yuri de Almeida Malheiros Barbosa', 'nome_citacao': 'MALHEIROS, YURI B.', 'proximidade': 19}\n",
      "{'nome': 'Yuri de Almeida Malheiros Barbosa', 'nome_citacao': 'BARBOSA, Y. A. M.', 'proximidade': 28}\n",
      "{'nome': 'Yuri de Almeida Malheiros Barbosa', 'nome_citacao': 'ALMEIDA, YURI A.', 'proximidade': 20}\n",
      "{'nome': 'Yuri de Almeida Malheiros Barbosa', 'nome_citacao': 'BARBOSA, YURI DE ALMEIDA MALHEIROS', 'proximidade': 20}\n",
      "{'nome': 'Yuska Paola Costa Aguiar', 'nome_citacao': 'AGUIAR, YUSKA PAOLA COSTA', 'proximidade': 28}\n",
      "{'nome': 'Yuska Paola Costa Aguiar', 'nome_citacao': 'AGUIAR, YUSKA P. C.', 'proximidade': 32}\n",
      "{'nome': 'Yuska Paola Costa Aguiar', 'nome_citacao': 'YUSKA PAOLA COSTA AGUIAR', 'proximidade': 29}\n",
      "{'nome': 'Yuska Paola Costa Aguiar', 'nome_citacao': 'YUSKA PAOLA COSTA', 'proximidade': 24}\n",
      "{'nome': 'Yuska Paola Costa Aguiar', 'nome_citacao': 'YUSKA P. C. AGUIAR', 'proximidade': 33}\n",
      "{'nome': 'Yuska Paola Costa Aguiar', 'nome_citacao': 'AGUIAR, YUSKA', 'proximidade': 16}\n",
      "{'nome': 'Yuska Paola Costa Aguiar', 'nome_citacao': 'AGUIAR, YUSKA PAOLA', 'proximidade': 23}\n",
      "{'nome': 'Yuska Paola Costa Aguiar', 'nome_citacao': 'YUSKA PAOLA AGUIAR', 'proximidade': 23}\n",
      "{'nome': 'Yuska Paola Costa Aguiar', 'nome_citacao': 'COSTA AGUIAR, YUSKA PAOLA', 'proximidade': 28}\n",
      "{'nome': 'Yuska Paola Costa Aguiar', 'nome_citacao': 'COSTA, YUSKA PAOLA', 'proximidade': 23}\n",
      "{'nome': 'Yuska Paola Costa Aguiar', 'nome_citacao': 'AGUIAR, Y. P. C.', 'proximidade': 35}\n"
     ]
    }
   ],
   "source": [
    "for r in resultados[: len(resultados)]:\n",
    "    print(r)"
   ]
  },
  {
   "cell_type": "code",
   "execution_count": 38,
   "id": "fc220b5e",
   "metadata": {},
   "outputs": [],
   "source": [
    "nome_professor = \"Teobaldo Leite Bulhões Júnior\"\n",
    "dados_prof = [r for r in resultados if r[\"nome\"] == nome_professor]\n",
    "nomes = [nome_professor] + [d[\"nome_citacao\"] for d in dados_prof]\n",
    "\n",
    "vectorizer = TfidfVectorizer()\n",
    "X = vectorizer.fit_transform(nomes)\n",
    "\n",
    "\n",
    "pca = PCA(n_components=2)\n",
    "X_2d = pca.fit_transform(X.toarray())"
   ]
  },
  {
   "cell_type": "code",
   "execution_count": 39,
   "id": "0d2dbb64",
   "metadata": {},
   "outputs": [
    {
     "data": {
      "image/png": "[encoded data removed]",
      "text/plain": [
       "<Figure size 800x600 with 1 Axes>"
      ]
     },
     "metadata": {},
     "output_type": "display_data"
    }
   ],
   "source": [
    "plt.figure(figsize=(8, 6))\n",
    "plt.scatter(X_2d[:, 0], X_2d[:, 1], color=\"skyblue\")\n",
    "for i, nome in enumerate(nomes):\n",
    "    plt.text(X_2d[i, 0], X_2d[i, 1], nome, fontsize=10)\n",
    "plt.title(f\"Localização dos nomes de citação para {nome_professor}\")\n",
    "plt.xlabel(\"PCA 1\")\n",
    "plt.ylabel(\"PCA 2\")\n",
    "plt.tight_layout()\n",
    "plt.show()"
   ]
  },
  {
   "cell_type": "code",
   "execution_count": 40,
   "id": "5680cf94",
   "metadata": {},
   "outputs": [
    {
     "data": {
      "application/vnd.plotly.v1+json": {
       "config": {
        "plotlyServerURL": "https://plot.ly"
       },
       "data": [
        {
         "hovertemplate": "%{text}",
         "legendgroup": "",
         "marker": {
          "color": "#636efa",
          "size": 10,
          "symbol": "circle"
         },
         "mode": "markers+text",
         "name": "",
         "orientation": "v",
         "showlegend": false,
         "text": [
          "Adriana Carla Damasceno",
          "ADRIANA DAMASCENO",
          "DAMASCENO, ADRIANA",
          "DAMASCENO, ADRIANA C.",
          "DAMASCENO, A. C.",
          "Alan Kelon Oliveira de Moraes",
          "MORAES, A. K. O.",
          "MORAES, ALAN",
          "MORAES, A.",
          "Alisson Vasconcelos de Brito",
          "BRITO, ALISSON VASCONCELOS DE",
          "BRITO, ALISSON V.",
          "ALISSON, V.B.",
          "BRITO, ALISSON V",
          "BRITO, A. V.",
          "DE BRITO, ALISSON VASCONCELOS",
          "ALISSON VASCONCELOS BRITO",
          "BRITO, ALISSON",
          "VASCONCELOS BRITO, ALISSON",
          "BRITO, ALISSON VASCONCELOS",
          "Alvaro Francisco de Castro Medeiros",
          "MEDEIROS, A. F. C.",
          "Ana Paula Pintado Wyse",
          "WYSE, ANA PAULA PINTADO",
          "WYSE, A. P. P.",
          "WYSE, A. P.",
          "WYSE, ANA PAULA",
          "WYSE, ANA PAULA P.",
          "Anand Subramanian",
          "SUBRAMANIAN, A.",
          "SUBRAMANIAN, ANAND",
          "Andrei de Araujo Formiga",
          "FORMIGA, A. A.",
          "Andréa Vanessa Rocha",
          "ROCHA, ANDRÉA VANESSA",
          "ROCHA, ANDRÉA V.",
          "Antônio José Boness dos Santos",
          "SANTOS, A. J. B.",
          "DOS SANTOS, ANTONIO JOSÉ BONESS",
          "SANTOS, ANTÔNIO J. B.",
          "SANTOS, ANTÔNIO JOSÉ BONESS DOS",
          "DOS SANTOS, ANTÔNIO J.B.",
          "SANTOS, ANTONIO JOSE' BONESS DOS",
          "DOS SANTOS,  ANTÔNIO J. B.",
          "SANTOS, ANTONIO JOSÉ BONESS DOS",
          "SANTOS, A.J.B.",
          "SANTOS, ANTÔNIO JOSÉ BONESS",
          "SANTOS, ANTONIO",
          "DOS SANTOS, ANTONIO J. B.",
          "DOS SANTOS, ANTO'NIO",
          "Aparecido Jesuino de Souza",
          "SOUZA, APARECIDO J.",
          "DE SOUZA, APARECIDO JESUINO",
          "DE SOUZA, APARECIDO J.",
          "A. J. DESOUZA",
          "SOUZA, APARECIDO J. DE",
          "DE SOUZA, APARECIDO",
          "A. J. DE SOUZA",
          "DE SOUZA, A. J.",
          "SOUZA, A. J. DE",
          "J. DE SOUZA, A."
         ],
         "textposition": "top center",
         "type": "scatter",
         "x": {
          "bdata": "KcQi9ED5sj/EZm/oAsC0P6Jmb+gCwLQ/c2Zv6ALAtD8EKWvrK5OyP26oG9agqJi/HQr6A11YrD/6LYE+IsqqPx0K+gNdWKw/swdmUcr25L+0B2ZRyvbkv6z7SAB2S+K/P87UODck2b+s+0gAdkvivz3O1Dg3JNm/swdmUcr25L82QA/L53jjv6v7SAB2S+K/NUAPy+d44781QA/L53jjv1qRgaZLMJ2/5vduW+jRpT/NQM+1fu61P81Az7V+7rU/sVNeujAitD+xU166MCK0P9kuJwFmaLY/2S4nAWZotj+wTHh0kmetP1M5hIEVOaw/sEx4dJJnrT+DDROg8R+kv9vJKigTS6U/jAaQfxoPrj+MBpB/Gg+uPyG2MTcfTK0/7gxBQilr4z9VQTWwbe/eP4Mi7CeVb+I/ePRgSUoC4D/uDEFCKWvjPyWL/ZvbVeI/e+a05SlL3j8li/2b21XiP4Mi7CeVb+I/VUE1sG3v3j/3QbsI8DvhP4lMeOlOi9w/DaLNaMrr4D9bagS+pYbUP2DgdKNq98q/hDADn9CGxL9g4HSjavfKv9hve6rjmNC/p7Uhrj64pj/Yb3uq45jQv9hve6rjmNC/67dxjP8p0b/rt3GM/ynRv+u3cYz/KdG/7LdxjP8p0b8=",
          "dtype": "f8"
         },
         "xaxis": "x",
         "y": {
          "bdata": "/ek71v9xVD84gv54GIlWPx6B/ngYiVY/JoP+eBiJVj/BbBbAS/lTPwTYQiBOcsA/DRfa7s9ziD9EKRYwKgKPP1wW2u7Pc4g/6oP3BA5S1b/mg/cEDlLVv2KMEAiIbeG/LVKp6qei2L9ijBAIiG3hvzFSqeqnoti/5YP3BA5S1b/8QCnpV87hv2KMEAiIbeG/+0Ap6VfO4b/7QCnpV87hvzYx6iNO3b4/9iK7vBQagj/A50K6QSBYP8DnQrpBIFg/Dbi6Ac3zVT8NuLoBzfNVP3cySZi7sFg/dzJJmLuwWD9jDqRzJFpOP8NZRAPbBk0/Yw6kcyRaTj9Oxuv5SLLBP4KbhiNRaYc/+59UQZceTz/7n1RBlx5PP+n+iyuDQ04/J1UNtWGvyL8jr6dsbivDv+P+6tPTTce/uHyDQbT7w78nVQ21Ya/Iv+K/o9gBKMe/815ErHDKwr/iv6PYASjHv+P+6tPTTce/I6+nbG4rw78l7MdN0bbFv8rr86uFjMG/mJ2Y+0osxb9pZUc8Eyi4v87eV9etZ+Q/Kc7frHQK5D/O3lfXrWfkP76IlRt5vec/4+qYprXNRj+/iJUbeb3nP7+IlRt5vec/iXYhV9YP5j+JdiFX1g/mP4l2IVfWD+Y/iXYhV9YP5j8=",
          "dtype": "f8"
         },
         "yaxis": "y"
        }
       ],
       "layout": {
        "legend": {
         "tracegroupgap": 0
        },
        "template": {
         "data": {
          "bar": [
           {
            "error_x": {
             "color": "#2a3f5f"
            },
            "error_y": {
             "color": "#2a3f5f"
            },
            "marker": {
             "line": {
              "color": "#E5ECF6",
              "width": 0.5
             },
             "pattern": {
              "fillmode": "overlay",
              "size": 10,
              "solidity": 0.2
             }
            },
            "type": "bar"
           }
          ],
          "barpolar": [
           {
            "marker": {
             "line": {
              "color": "#E5ECF6",
              "width": 0.5
             },
             "pattern": {
              "fillmode": "overlay",
              "size": 10,
              "solidity": 0.2
             }
            },
            "type": "barpolar"
           }
          ],
          "carpet": [
           {
            "aaxis": {
             "endlinecolor": "#2a3f5f",
             "gridcolor": "white",
             "linecolor": "white",
             "minorgridcolor": "white",
             "startlinecolor": "#2a3f5f"
            },
            "baxis": {
             "endlinecolor": "#2a3f5f",
             "gridcolor": "white",
             "linecolor": "white",
             "minorgridcolor": "white",
             "startlinecolor": "#2a3f5f"
            },
            "type": "carpet"
           }
          ],
          "choropleth": [
           {
            "colorbar": {
             "outlinewidth": 0,
             "ticks": ""
            },
            "type": "choropleth"
           }
          ],
          "contour": [
           {
            "colorbar": {
             "outlinewidth": 0,
             "ticks": ""
            },
            "colorscale": [
             [
              0,
              "#0d0887"
             ],
             [
              0.1111111111111111,
              "#46039f"
             ],
             [
              0.2222222222222222,
              "#7201a8"
             ],
             [
              0.3333333333333333,
              "#9c179e"
             ],
             [
              0.4444444444444444,
              "#bd3786"
             ],
             [
              0.5555555555555556,
              "#d8576b"
             ],
             [
              0.6666666666666666,
              "#ed7953"
             ],
             [
              0.7777777777777778,
              "#fb9f3a"
             ],
             [
              0.8888888888888888,
              "#fdca26"
             ],
             [
              1,
              "#f0f921"
             ]
            ],
            "type": "contour"
           }
          ],
          "contourcarpet": [
           {
            "colorbar": {
             "outlinewidth": 0,
             "ticks": ""
            },
            "type": "contourcarpet"
           }
          ],
          "heatmap": [
           {
            "colorbar": {
             "outlinewidth": 0,
             "ticks": ""
            },
            "colorscale": [
             [
              0,
              "#0d0887"
             ],
             [
              0.1111111111111111,
              "#46039f"
             ],
             [
              0.2222222222222222,
              "#7201a8"
             ],
             [
              0.3333333333333333,
              "#9c179e"
             ],
             [
              0.4444444444444444,
              "#bd3786"
             ],
             [
              0.5555555555555556,
              "#d8576b"
             ],
             [
              0.6666666666666666,
              "#ed7953"
             ],
             [
              0.7777777777777778,
              "#fb9f3a"
             ],
             [
              0.8888888888888888,
              "#fdca26"
             ],
             [
              1,
              "#f0f921"
             ]
            ],
            "type": "heatmap"
           }
          ],
          "histogram": [
           {
            "marker": {
             "pattern": {
              "fillmode": "overlay",
              "size": 10,
              "solidity": 0.2
             }
            },
            "type": "histogram"
           }
          ],
          "histogram2d": [
           {
            "colorbar": {
             "outlinewidth": 0,
             "ticks": ""
            },
            "colorscale": [
             [
              0,
              "#0d0887"
             ],
             [
              0.1111111111111111,
              "#46039f"
             ],
             [
              0.2222222222222222,
              "#7201a8"
             ],
             [
              0.3333333333333333,
              "#9c179e"
             ],
             [
              0.4444444444444444,
              "#bd3786"
             ],
             [
              0.5555555555555556,
              "#d8576b"
             ],
             [
              0.6666666666666666,
              "#ed7953"
             ],
             [
              0.7777777777777778,
              "#fb9f3a"
             ],
             [
              0.8888888888888888,
              "#fdca26"
             ],
             [
              1,
              "#f0f921"
             ]
            ],
            "type": "histogram2d"
           }
          ],
          "histogram2dcontour": [
           {
            "colorbar": {
             "outlinewidth": 0,
             "ticks": ""
            },
            "colorscale": [
             [
              0,
              "#0d0887"
             ],
             [
              0.1111111111111111,
              "#46039f"
             ],
             [
              0.2222222222222222,
              "#7201a8"
             ],
             [
              0.3333333333333333,
              "#9c179e"
             ],
             [
              0.4444444444444444,
              "#bd3786"
             ],
             [
              0.5555555555555556,
              "#d8576b"
             ],
             [
              0.6666666666666666,
              "#ed7953"
             ],
             [
              0.7777777777777778,
              "#fb9f3a"
             ],
             [
              0.8888888888888888,
              "#fdca26"
             ],
             [
              1,
              "#f0f921"
             ]
            ],
            "type": "histogram2dcontour"
           }
          ],
          "mesh3d": [
           {
            "colorbar": {
             "outlinewidth": 0,
             "ticks": ""
            },
            "type": "mesh3d"
           }
          ],
          "parcoords": [
           {
            "line": {
             "colorbar": {
              "outlinewidth": 0,
              "ticks": ""
             }
            },
            "type": "parcoords"
           }
          ],
          "pie": [
           {
            "automargin": true,
            "type": "pie"
           }
          ],
          "scatter": [
           {
            "fillpattern": {
             "fillmode": "overlay",
             "size": 10,
             "solidity": 0.2
            },
            "type": "scatter"
           }
          ],
          "scatter3d": [
           {
            "line": {
             "colorbar": {
              "outlinewidth": 0,
              "ticks": ""
             }
            },
            "marker": {
             "colorbar": {
              "outlinewidth": 0,
              "ticks": ""
             }
            },
            "type": "scatter3d"
           }
          ],
          "scattercarpet": [
           {
            "marker": {
             "colorbar": {
              "outlinewidth": 0,
              "ticks": ""
             }
            },
            "type": "scattercarpet"
           }
          ],
          "scattergeo": [
           {
            "marker": {
             "colorbar": {
              "outlinewidth": 0,
              "ticks": ""
             }
            },
            "type": "scattergeo"
           }
          ],
          "scattergl": [
           {
            "marker": {
             "colorbar": {
              "outlinewidth": 0,
              "ticks": ""
             }
            },
            "type": "scattergl"
           }
          ],
          "scattermap": [
           {
            "marker": {
             "colorbar": {
              "outlinewidth": 0,
              "ticks": ""
             }
            },
            "type": "scattermap"
           }
          ],
          "scattermapbox": [
           {
            "marker": {
             "colorbar": {
              "outlinewidth": 0,
              "ticks": ""
             }
            },
            "type": "scattermapbox"
           }
          ],
          "scatterpolar": [
           {
            "marker": {
             "colorbar": {
              "outlinewidth": 0,
              "ticks": ""
             }
            },
            "type": "scatterpolar"
           }
          ],
          "scatterpolargl": [
           {
            "marker": {
             "colorbar": {
              "outlinewidth": 0,
              "ticks": ""
             }
            },
            "type": "scatterpolargl"
           }
          ],
          "scatterternary": [
           {
            "marker": {
             "colorbar": {
              "outlinewidth": 0,
              "ticks": ""
             }
            },
            "type": "scatterternary"
           }
          ],
          "surface": [
           {
            "colorbar": {
             "outlinewidth": 0,
             "ticks": ""
            },
            "colorscale": [
             [
              0,
              "#0d0887"
             ],
             [
              0.1111111111111111,
              "#46039f"
             ],
             [
              0.2222222222222222,
              "#7201a8"
             ],
             [
              0.3333333333333333,
              "#9c179e"
             ],
             [
              0.4444444444444444,
              "#bd3786"
             ],
             [
              0.5555555555555556,
              "#d8576b"
             ],
             [
              0.6666666666666666,
              "#ed7953"
             ],
             [
              0.7777777777777778,
              "#fb9f3a"
             ],
             [
              0.8888888888888888,
              "#fdca26"
             ],
             [
              1,
              "#f0f921"
             ]
            ],
            "type": "surface"
           }
          ],
          "table": [
           {
            "cells": {
             "fill": {
              "color": "#EBF0F8"
             },
             "line": {
              "color": "white"
             }
            },
            "header": {
             "fill": {
              "color": "#C8D4E3"
             },
             "line": {
              "color": "white"
             }
            },
            "type": "table"
           }
          ]
         },
         "layout": {
          "annotationdefaults": {
           "arrowcolor": "#2a3f5f",
           "arrowhead": 0,
           "arrowwidth": 1
          },
          "autotypenumbers": "strict",
          "coloraxis": {
           "colorbar": {
            "outlinewidth": 0,
            "ticks": ""
           }
          },
          "colorscale": {
           "diverging": [
            [
             0,
             "#8e0152"
            ],
            [
             0.1,
             "#c51b7d"
            ],
            [
             0.2,
             "#de77ae"
            ],
            [
             0.3,
             "#f1b6da"
            ],
            [
             0.4,
             "#fde0ef"
            ],
            [
             0.5,
             "#f7f7f7"
            ],
            [
             0.6,
             "#e6f5d0"
            ],
            [
             0.7,
             "#b8e186"
            ],
            [
             0.8,
             "#7fbc41"
            ],
            [
             0.9,
             "#4d9221"
            ],
            [
             1,
             "#276419"
            ]
           ],
           "sequential": [
            [
             0,
             "#0d0887"
            ],
            [
             0.1111111111111111,
             "#46039f"
            ],
            [
             0.2222222222222222,
             "#7201a8"
            ],
            [
             0.3333333333333333,
             "#9c179e"
            ],
            [
             0.4444444444444444,
             "#bd3786"
            ],
            [
             0.5555555555555556,
             "#d8576b"
            ],
            [
             0.6666666666666666,
             "#ed7953"
            ],
            [
             0.7777777777777778,
             "#fb9f3a"
            ],
            [
             0.8888888888888888,
             "#fdca26"
            ],
            [
             1,
             "#f0f921"
            ]
           ],
           "sequentialminus": [
            [
             0,
             "#0d0887"
            ],
            [
             0.1111111111111111,
             "#46039f"
            ],
            [
             0.2222222222222222,
             "#7201a8"
            ],
            [
             0.3333333333333333,
             "#9c179e"
            ],
            [
             0.4444444444444444,
             "#bd3786"
            ],
            [
             0.5555555555555556,
             "#d8576b"
            ],
            [
             0.6666666666666666,
             "#ed7953"
            ],
            [
             0.7777777777777778,
             "#fb9f3a"
            ],
            [
             0.8888888888888888,
             "#fdca26"
            ],
            [
             1,
             "#f0f921"
            ]
           ]
          },
          "colorway": [
           "#636efa",
           "#EF553B",
           "#00cc96",
           "#ab63fa",
           "#FFA15A",
           "#19d3f3",
           "#FF6692",
           "#B6E880",
           "#FF97FF",
           "#FECB52"
          ],
          "font": {
           "color": "#2a3f5f"
          },
          "geo": {
           "bgcolor": "white",
           "lakecolor": "white",
           "landcolor": "#E5ECF6",
           "showlakes": true,
           "showland": true,
           "subunitcolor": "white"
          },
          "hoverlabel": {
           "align": "left"
          },
          "hovermode": "closest",
          "mapbox": {
           "style": "light"
          },
          "paper_bgcolor": "white",
          "plot_bgcolor": "#E5ECF6",
          "polar": {
           "angularaxis": {
            "gridcolor": "white",
            "linecolor": "white",
            "ticks": ""
           },
           "bgcolor": "#E5ECF6",
           "radialaxis": {
            "gridcolor": "white",
            "linecolor": "white",
            "ticks": ""
           }
          },
          "scene": {
           "xaxis": {
            "backgroundcolor": "#E5ECF6",
            "gridcolor": "white",
            "gridwidth": 2,
            "linecolor": "white",
            "showbackground": true,
            "ticks": "",
            "zerolinecolor": "white"
           },
           "yaxis": {
            "backgroundcolor": "#E5ECF6",
            "gridcolor": "white",
            "gridwidth": 2,
            "linecolor": "white",
            "showbackground": true,
            "ticks": "",
            "zerolinecolor": "white"
           },
           "zaxis": {
            "backgroundcolor": "#E5ECF6",
            "gridcolor": "white",
            "gridwidth": 2,
            "linecolor": "white",
            "showbackground": true,
            "ticks": "",
            "zerolinecolor": "white"
           }
          },
          "shapedefaults": {
           "line": {
            "color": "#2a3f5f"
           }
          },
          "ternary": {
           "aaxis": {
            "gridcolor": "white",
            "linecolor": "white",
            "ticks": ""
           },
           "baxis": {
            "gridcolor": "white",
            "linecolor": "white",
            "ticks": ""
           },
           "bgcolor": "#E5ECF6",
           "caxis": {
            "gridcolor": "white",
            "linecolor": "white",
            "ticks": ""
           }
          },
          "title": {
           "x": 0.05
          },
          "xaxis": {
           "automargin": true,
           "gridcolor": "white",
           "linecolor": "white",
           "ticks": "",
           "title": {
            "standoff": 15
           },
           "zerolinecolor": "white",
           "zerolinewidth": 2
          },
          "yaxis": {
           "automargin": true,
           "gridcolor": "white",
           "linecolor": "white",
           "ticks": "",
           "title": {
            "standoff": 15
           },
           "zerolinecolor": "white",
           "zerolinewidth": 2
          }
         }
        },
        "title": {
         "text": "Localização dos nomes de citação - Professores com 'A'"
        },
        "xaxis": {
         "anchor": "y",
         "domain": [
          0,
          1
         ],
         "title": {
          "text": "PCA 1"
         }
        },
        "yaxis": {
         "anchor": "x",
         "domain": [
          0,
          1
         ],
         "title": {
          "text": "PCA 2"
         }
        }
       }
      }
     },
     "metadata": {},
     "output_type": "display_data"
    },
    {
     "name": "stdout",
     "output_type": "stream",
     "text": [
      "\n",
      "Professores e nomes de citação do grupo 'A':\n",
      "- Adriana Carla Damasceno  (PCA: 0.074, 0.001)\n",
      "    • ADRIANA DAMASCENO  (PCA: 0.081, 0.001)\n",
      "    • DAMASCENO, ADRIANA  (PCA: 0.081, 0.001)\n",
      "    • DAMASCENO, ADRIANA C.  (PCA: 0.081, 0.001)\n",
      "    • DAMASCENO, A. C.  (PCA: 0.073, 0.001)\n",
      "- Alan Kelon Oliveira de Moraes  (PCA: -0.024, 0.128)\n",
      "    • MORAES, A. K. O.  (PCA: 0.055, 0.012)\n",
      "    • MORAES, ALAN  (PCA: 0.052, 0.015)\n",
      "    • MORAES, A.  (PCA: 0.055, 0.012)\n",
      "- Alisson Vasconcelos de Brito  (PCA: -0.655, -0.333)\n",
      "    • BRITO, ALISSON VASCONCELOS DE  (PCA: -0.655, -0.333)\n",
      "    • BRITO, ALISSON V.  (PCA: -0.572, -0.545)\n",
      "    • ALISSON, V.B.  (PCA: -0.393, -0.385)\n",
      "    • BRITO, ALISSON V  (PCA: -0.572, -0.545)\n",
      "    • BRITO, A. V.  (PCA: -0.393, -0.385)\n",
      "    • DE BRITO, ALISSON VASCONCELOS  (PCA: -0.655, -0.333)\n",
      "    • ALISSON VASCONCELOS BRITO  (PCA: -0.609, -0.556)\n",
      "    • BRITO, ALISSON  (PCA: -0.572, -0.545)\n",
      "    • VASCONCELOS BRITO, ALISSON  (PCA: -0.609, -0.556)\n",
      "    • BRITO, ALISSON VASCONCELOS  (PCA: -0.609, -0.556)\n",
      "- Alvaro Francisco de Castro Medeiros  (PCA: -0.029, 0.121)\n",
      "    • MEDEIROS, A. F. C.  (PCA: 0.043, 0.009)\n",
      "- Ana Paula Pintado Wyse  (PCA: 0.086, 0.001)\n",
      "    • WYSE, ANA PAULA PINTADO  (PCA: 0.086, 0.001)\n",
      "    • WYSE, A. P. P.  (PCA: 0.079, 0.001)\n",
      "    • WYSE, A. P.  (PCA: 0.079, 0.001)\n",
      "    • WYSE, ANA PAULA  (PCA: 0.088, 0.002)\n",
      "    • WYSE, ANA PAULA P.  (PCA: 0.088, 0.002)\n",
      "- Anand Subramanian  (PCA: 0.057, 0.001)\n",
      "    • SUBRAMANIAN, A.  (PCA: 0.055, 0.001)\n",
      "    • SUBRAMANIAN, ANAND  (PCA: 0.057, 0.001)\n",
      "- Andrei de Araujo Formiga  (PCA: -0.039, 0.138)\n",
      "    • FORMIGA, A. A.  (PCA: 0.042, 0.011)\n",
      "- Andréa Vanessa Rocha  (PCA: 0.059, 0.001)\n",
      "    • ROCHA, ANDRÉA VANESSA  (PCA: 0.059, 0.001)\n",
      "    • ROCHA, ANDRÉA V.  (PCA: 0.057, 0.001)\n",
      "- Antônio José Boness dos Santos  (PCA: 0.607, -0.193)\n",
      "    • SANTOS, A. J. B.  (PCA: 0.483, -0.150)\n",
      "    • DOS SANTOS, ANTONIO JOSÉ BONESS  (PCA: 0.576, -0.182)\n",
      "    • SANTOS, ANTÔNIO J. B.  (PCA: 0.500, -0.156)\n",
      "    • SANTOS, ANTÔNIO JOSÉ BONESS DOS  (PCA: 0.607, -0.193)\n",
      "    • DOS SANTOS, ANTÔNIO J.B.  (PCA: 0.573, -0.181)\n",
      "    • SANTOS, ANTONIO JOSE' BONESS DOS  (PCA: 0.473, -0.147)\n",
      "    • DOS SANTOS,  ANTÔNIO J. B.  (PCA: 0.573, -0.181)\n",
      "    • SANTOS, ANTONIO JOSÉ BONESS DOS  (PCA: 0.576, -0.182)\n",
      "    • SANTOS, A.J.B.  (PCA: 0.483, -0.150)\n",
      "    • SANTOS, ANTÔNIO JOSÉ BONESS  (PCA: 0.539, -0.170)\n",
      "    • SANTOS, ANTONIO  (PCA: 0.446, -0.137)\n",
      "    • DOS SANTOS, ANTONIO J. B.  (PCA: 0.529, -0.165)\n",
      "    • DOS SANTOS, ANTO'NIO  (PCA: 0.321, -0.094)\n",
      "- Aparecido Jesuino de Souza  (PCA: -0.211, 0.638)\n",
      "    • SOUZA, APARECIDO J.  (PCA: -0.160, 0.626)\n",
      "    • DE SOUZA, APARECIDO JESUINO  (PCA: -0.211, 0.638)\n",
      "    • DE SOUZA, APARECIDO J.  (PCA: -0.259, 0.742)\n",
      "    • A. J. DESOUZA  (PCA: 0.044, 0.001)\n",
      "    • SOUZA, APARECIDO J. DE  (PCA: -0.259, 0.742)\n",
      "    • DE SOUZA, APARECIDO  (PCA: -0.259, 0.742)\n",
      "    • A. J. DE SOUZA  (PCA: -0.268, 0.689)\n",
      "    • DE SOUZA, A. J.  (PCA: -0.268, 0.689)\n",
      "    • SOUZA, A. J. DE  (PCA: -0.268, 0.689)\n",
      "    • J. DE SOUZA, A.  (PCA: -0.268, 0.689)\n"
     ]
    },
    {
     "data": {
      "application/vnd.plotly.v1+json": {
       "config": {
        "plotlyServerURL": "https://plot.ly"
       },
       "data": [
        {
         "hovertemplate": "%{text}",
         "legendgroup": "",
         "marker": {
          "color": "#636efa",
          "size": 10,
          "symbol": "circle"
         },
         "mode": "markers+text",
         "name": "",
         "orientation": "v",
         "showlegend": false,
         "text": [
          "Bruno Jefferson de Sousa Pessoa",
          "PESSOA, BRUNO JEFFERSON DE S.",
          "PESSOA, B. J. S.",
          "PESSOA, BRUNO JEFFERSON DE SOUSA",
          "PESSOA, BRUNO J.S.",
          "Bruno Petrato Bruck",
          "BRUCK, B.P.",
          "BRUCK, BRUNO",
          "BRUCK, BRUNO P.",
          "BRUCK, BRUNO PETRATO"
         ],
         "textposition": "top center",
         "type": "scatter",
         "x": {
          "bdata": "FIDpFjTQ47+kD246qeniv7ReQrYpuOG/DYDpFjTQ479dXlJyhn3Zv8SeRFhuQOE/RY4C4ZXV4z/saBDjRVXhP+xoEONFVeE/w55EWG5A4T8=",
          "dtype": "f8"
         },
         "xaxis": "x",
         "y": {
          "bdata": "KZsjYw0l2r9NKjXY3sDNv2V7nLUsV+U/I5sjYw0l2r9DI1RhTVjgP3SjyYiFLZW/LoIj9SuTj7+hhfSqf0iiv6GF9Kp/SKK/UqPJiIUtlb8=",
          "dtype": "f8"
         },
         "yaxis": "y"
        }
       ],
       "layout": {
        "legend": {
         "tracegroupgap": 0
        },
        "template": {
         "data": {
          "bar": [
           {
            "error_x": {
             "color": "#2a3f5f"
            },
            "error_y": {
             "color": "#2a3f5f"
            },
            "marker": {
             "line": {
              "color": "#E5ECF6",
              "width": 0.5
             },
             "pattern": {
              "fillmode": "overlay",
              "size": 10,
              "solidity": 0.2
             }
            },
            "type": "bar"
           }
          ],
          "barpolar": [
           {
            "marker": {
             "line": {
              "color": "#E5ECF6",
              "width": 0.5
             },
             "pattern": {
              "fillmode": "overlay",
              "size": 10,
              "solidity": 0.2
             }
            },
            "type": "barpolar"
           }
          ],
          "carpet": [
           {
            "aaxis": {
             "endlinecolor": "#2a3f5f",
             "gridcolor": "white",
             "linecolor": "white",
             "minorgridcolor": "white",
             "startlinecolor": "#2a3f5f"
            },
            "baxis": {
             "endlinecolor": "#2a3f5f",
             "gridcolor": "white",
             "linecolor": "white",
             "minorgridcolor": "white",
             "startlinecolor": "#2a3f5f"
            },
            "type": "carpet"
           }
          ],
          "choropleth": [
           {
            "colorbar": {
             "outlinewidth": 0,
             "ticks": ""
            },
            "type": "choropleth"
           }
          ],
          "contour": [
           {
            "colorbar": {
             "outlinewidth": 0,
             "ticks": ""
            },
            "colorscale": [
             [
              0,
              "#0d0887"
             ],
             [
              0.1111111111111111,
              "#46039f"
             ],
             [
              0.2222222222222222,
              "#7201a8"
             ],
             [
              0.3333333333333333,
              "#9c179e"
             ],
             [
              0.4444444444444444,
              "#bd3786"
             ],
             [
              0.5555555555555556,
              "#d8576b"
             ],
             [
              0.6666666666666666,
              "#ed7953"
             ],
             [
              0.7777777777777778,
              "#fb9f3a"
             ],
             [
              0.8888888888888888,
              "#fdca26"
             ],
             [
              1,
              "#f0f921"
             ]
            ],
            "type": "contour"
           }
          ],
          "contourcarpet": [
           {
            "colorbar": {
             "outlinewidth": 0,
             "ticks": ""
            },
            "type": "contourcarpet"
           }
          ],
          "heatmap": [
           {
            "colorbar": {
             "outlinewidth": 0,
             "ticks": ""
            },
            "colorscale": [
             [
              0,
              "#0d0887"
             ],
             [
              0.1111111111111111,
              "#46039f"
             ],
             [
              0.2222222222222222,
              "#7201a8"
             ],
             [
              0.3333333333333333,
              "#9c179e"
             ],
             [
              0.4444444444444444,
              "#bd3786"
             ],
             [
              0.5555555555555556,
              "#d8576b"
             ],
             [
              0.6666666666666666,
              "#ed7953"
             ],
             [
              0.7777777777777778,
              "#fb9f3a"
             ],
             [
              0.8888888888888888,
              "#fdca26"
             ],
             [
              1,
              "#f0f921"
             ]
            ],
            "type": "heatmap"
           }
          ],
          "histogram": [
           {
            "marker": {
             "pattern": {
              "fillmode": "overlay",
              "size": 10,
              "solidity": 0.2
             }
            },
            "type": "histogram"
           }
          ],
          "histogram2d": [
           {
            "colorbar": {
             "outlinewidth": 0,
             "ticks": ""
            },
            "colorscale": [
             [
              0,
              "#0d0887"
             ],
             [
              0.1111111111111111,
              "#46039f"
             ],
             [
              0.2222222222222222,
              "#7201a8"
             ],
             [
              0.3333333333333333,
              "#9c179e"
             ],
             [
              0.4444444444444444,
              "#bd3786"
             ],
             [
              0.5555555555555556,
              "#d8576b"
             ],
             [
              0.6666666666666666,
              "#ed7953"
             ],
             [
              0.7777777777777778,
              "#fb9f3a"
             ],
             [
              0.8888888888888888,
              "#fdca26"
             ],
             [
              1,
              "#f0f921"
             ]
            ],
            "type": "histogram2d"
           }
          ],
          "histogram2dcontour": [
           {
            "colorbar": {
             "outlinewidth": 0,
             "ticks": ""
            },
            "colorscale": [
             [
              0,
              "#0d0887"
             ],
             [
              0.1111111111111111,
              "#46039f"
             ],
             [
              0.2222222222222222,
              "#7201a8"
             ],
             [
              0.3333333333333333,
              "#9c179e"
             ],
             [
              0.4444444444444444,
              "#bd3786"
             ],
             [
              0.5555555555555556,
              "#d8576b"
             ],
             [
              0.6666666666666666,
              "#ed7953"
             ],
             [
              0.7777777777777778,
              "#fb9f3a"
             ],
             [
              0.8888888888888888,
              "#fdca26"
             ],
             [
              1,
              "#f0f921"
             ]
            ],
            "type": "histogram2dcontour"
           }
          ],
          "mesh3d": [
           {
            "colorbar": {
             "outlinewidth": 0,
             "ticks": ""
            },
            "type": "mesh3d"
           }
          ],
          "parcoords": [
           {
            "line": {
             "colorbar": {
              "outlinewidth": 0,
              "ticks": ""
             }
            },
            "type": "parcoords"
           }
          ],
          "pie": [
           {
            "automargin": true,
            "type": "pie"
           }
          ],
          "scatter": [
           {
            "fillpattern": {
             "fillmode": "overlay",
             "size": 10,
             "solidity": 0.2
            },
            "type": "scatter"
           }
          ],
          "scatter3d": [
           {
            "line": {
             "colorbar": {
              "outlinewidth": 0,
              "ticks": ""
             }
            },
            "marker": {
             "colorbar": {
              "outlinewidth": 0,
              "ticks": ""
             }
            },
            "type": "scatter3d"
           }
          ],
          "scattercarpet": [
           {
            "marker": {
             "colorbar": {
              "outlinewidth": 0,
              "ticks": ""
             }
            },
            "type": "scattercarpet"
           }
          ],
          "scattergeo": [
           {
            "marker": {
             "colorbar": {
              "outlinewidth": 0,
              "ticks": ""
             }
            },
            "type": "scattergeo"
           }
          ],
          "scattergl": [
           {
            "marker": {
             "colorbar": {
              "outlinewidth": 0,
              "ticks": ""
             }
            },
            "type": "scattergl"
           }
          ],
          "scattermap": [
           {
            "marker": {
             "colorbar": {
              "outlinewidth": 0,
              "ticks": ""
             }
            },
            "type": "scattermap"
           }
          ],
          "scattermapbox": [
           {
            "marker": {
             "colorbar": {
              "outlinewidth": 0,
              "ticks": ""
             }
            },
            "type": "scattermapbox"
           }
          ],
          "scatterpolar": [
           {
            "marker": {
             "colorbar": {
              "outlinewidth": 0,
              "ticks": ""
             }
            },
            "type": "scatterpolar"
           }
          ],
          "scatterpolargl": [
           {
            "marker": {
             "colorbar": {
              "outlinewidth": 0,
              "ticks": ""
             }
            },
            "type": "scatterpolargl"
           }
          ],
          "scatterternary": [
           {
            "marker": {
             "colorbar": {
              "outlinewidth": 0,
              "ticks": ""
             }
            },
            "type": "scatterternary"
           }
          ],
          "surface": [
           {
            "colorbar": {
             "outlinewidth": 0,
             "ticks": ""
            },
            "colorscale": [
             [
              0,
              "#0d0887"
             ],
             [
              0.1111111111111111,
              "#46039f"
             ],
             [
              0.2222222222222222,
              "#7201a8"
             ],
             [
              0.3333333333333333,
              "#9c179e"
             ],
             [
              0.4444444444444444,
              "#bd3786"
             ],
             [
              0.5555555555555556,
              "#d8576b"
             ],
             [
              0.6666666666666666,
              "#ed7953"
             ],
             [
              0.7777777777777778,
              "#fb9f3a"
             ],
             [
              0.8888888888888888,
              "#fdca26"
             ],
             [
              1,
              "#f0f921"
             ]
            ],
            "type": "surface"
           }
          ],
          "table": [
           {
            "cells": {
             "fill": {
              "color": "#EBF0F8"
             },
             "line": {
              "color": "white"
             }
            },
            "header": {
             "fill": {
              "color": "#C8D4E3"
             },
             "line": {
              "color": "white"
             }
            },
            "type": "table"
           }
          ]
         },
         "layout": {
          "annotationdefaults": {
           "arrowcolor": "#2a3f5f",
           "arrowhead": 0,
           "arrowwidth": 1
          },
          "autotypenumbers": "strict",
          "coloraxis": {
           "colorbar": {
            "outlinewidth": 0,
            "ticks": ""
           }
          },
          "colorscale": {
           "diverging": [
            [
             0,
             "#8e0152"
            ],
            [
             0.1,
             "#c51b7d"
            ],
            [
             0.2,
             "#de77ae"
            ],
            [
             0.3,
             "#f1b6da"
            ],
            [
             0.4,
             "#fde0ef"
            ],
            [
             0.5,
             "#f7f7f7"
            ],
            [
             0.6,
             "#e6f5d0"
            ],
            [
             0.7,
             "#b8e186"
            ],
            [
             0.8,
             "#7fbc41"
            ],
            [
             0.9,
             "#4d9221"
            ],
            [
             1,
             "#276419"
            ]
           ],
           "sequential": [
            [
             0,
             "#0d0887"
            ],
            [
             0.1111111111111111,
             "#46039f"
            ],
            [
             0.2222222222222222,
             "#7201a8"
            ],
            [
             0.3333333333333333,
             "#9c179e"
            ],
            [
             0.4444444444444444,
             "#bd3786"
            ],
            [
             0.5555555555555556,
             "#d8576b"
            ],
            [
             0.6666666666666666,
             "#ed7953"
            ],
            [
             0.7777777777777778,
             "#fb9f3a"
            ],
            [
             0.8888888888888888,
             "#fdca26"
            ],
            [
             1,
             "#f0f921"
            ]
           ],
           "sequentialminus": [
            [
             0,
             "#0d0887"
            ],
            [
             0.1111111111111111,
             "#46039f"
            ],
            [
             0.2222222222222222,
             "#7201a8"
            ],
            [
             0.3333333333333333,
             "#9c179e"
            ],
            [
             0.4444444444444444,
             "#bd3786"
            ],
            [
             0.5555555555555556,
             "#d8576b"
            ],
            [
             0.6666666666666666,
             "#ed7953"
            ],
            [
             0.7777777777777778,
             "#fb9f3a"
            ],
            [
             0.8888888888888888,
             "#fdca26"
            ],
            [
             1,
             "#f0f921"
            ]
           ]
          },
          "colorway": [
           "#636efa",
           "#EF553B",
           "#00cc96",
           "#ab63fa",
           "#FFA15A",
           "#19d3f3",
           "#FF6692",
           "#B6E880",
           "#FF97FF",
           "#FECB52"
          ],
          "font": {
           "color": "#2a3f5f"
          },
          "geo": {
           "bgcolor": "white",
           "lakecolor": "white",
           "landcolor": "#E5ECF6",
           "showlakes": true,
           "showland": true,
           "subunitcolor": "white"
          },
          "hoverlabel": {
           "align": "left"
          },
          "hovermode": "closest",
          "mapbox": {
           "style": "light"
          },
          "paper_bgcolor": "white",
          "plot_bgcolor": "#E5ECF6",
          "polar": {
           "angularaxis": {
            "gridcolor": "white",
            "linecolor": "white",
            "ticks": ""
           },
           "bgcolor": "#E5ECF6",
           "radialaxis": {
            "gridcolor": "white",
            "linecolor": "white",
            "ticks": ""
           }
          },
          "scene": {
           "xaxis": {
            "backgroundcolor": "#E5ECF6",
            "gridcolor": "white",
            "gridwidth": 2,
            "linecolor": "white",
            "showbackground": true,
            "ticks": "",
            "zerolinecolor": "white"
           },
           "yaxis": {
            "backgroundcolor": "#E5ECF6",
            "gridcolor": "white",
            "gridwidth": 2,
            "linecolor": "white",
            "showbackground": true,
            "ticks": "",
            "zerolinecolor": "white"
           },
           "zaxis": {
            "backgroundcolor": "#E5ECF6",
            "gridcolor": "white",
            "gridwidth": 2,
            "linecolor": "white",
            "showbackground": true,
            "ticks": "",
            "zerolinecolor": "white"
           }
          },
          "shapedefaults": {
           "line": {
            "color": "#2a3f5f"
           }
          },
          "ternary": {
           "aaxis": {
            "gridcolor": "white",
            "linecolor": "white",
            "ticks": ""
           },
           "baxis": {
            "gridcolor": "white",
            "linecolor": "white",
            "ticks": ""
           },
           "bgcolor": "#E5ECF6",
           "caxis": {
            "gridcolor": "white",
            "linecolor": "white",
            "ticks": ""
           }
          },
          "title": {
           "x": 0.05
          },
          "xaxis": {
           "automargin": true,
           "gridcolor": "white",
           "linecolor": "white",
           "ticks": "",
           "title": {
            "standoff": 15
           },
           "zerolinecolor": "white",
           "zerolinewidth": 2
          },
          "yaxis": {
           "automargin": true,
           "gridcolor": "white",
           "linecolor": "white",
           "ticks": "",
           "title": {
            "standoff": 15
           },
           "zerolinecolor": "white",
           "zerolinewidth": 2
          }
         }
        },
        "title": {
         "text": "Localização dos nomes de citação - Professores com 'B'"
        },
        "xaxis": {
         "anchor": "y",
         "domain": [
          0,
          1
         ],
         "title": {
          "text": "PCA 1"
         }
        },
        "yaxis": {
         "anchor": "x",
         "domain": [
          0,
          1
         ],
         "title": {
          "text": "PCA 2"
         }
        }
       }
      }
     },
     "metadata": {},
     "output_type": "display_data"
    },
    {
     "name": "stdout",
     "output_type": "stream",
     "text": [
      "\n",
      "Professores e nomes de citação do grupo 'B':\n",
      "- Bruno Jefferson de Sousa Pessoa  (PCA: -0.619, -0.409)\n",
      "    • PESSOA, BRUNO JEFFERSON DE S.  (PCA: -0.591, -0.232)\n",
      "    • PESSOA, B. J. S.  (PCA: -0.554, 0.667)\n",
      "    • PESSOA, BRUNO JEFFERSON DE SOUSA  (PCA: -0.619, -0.409)\n",
      "    • PESSOA, BRUNO J.S.  (PCA: -0.398, 0.511)\n",
      "- Bruno Petrato Bruck  (PCA: 0.539, -0.021)\n",
      "    • BRUCK, B.P.  (PCA: 0.620, -0.015)\n",
      "    • BRUCK, BRUNO  (PCA: 0.542, -0.036)\n",
      "    • BRUCK, BRUNO P.  (PCA: 0.542, -0.036)\n",
      "    • BRUCK, BRUNO PETRATO  (PCA: 0.539, -0.021)\n"
     ]
    },
    {
     "data": {
      "application/vnd.plotly.v1+json": {
       "config": {
        "plotlyServerURL": "https://plot.ly"
       },
       "data": [
        {
         "hovertemplate": "%{text}",
         "legendgroup": "",
         "marker": {
          "color": "#636efa",
          "size": 10,
          "symbol": "circle"
         },
         "mode": "markers+text",
         "name": "",
         "orientation": "v",
         "showlegend": false,
         "text": [
          "Camila Mara Vital Barros",
          "BARROS, C. M. V.",
          "BARROS, CAMILA MARA VITAL",
          "MARA VITAL BARROS, CAMILA",
          "BARROS, CAMILA",
          "Carlos Alberto Nunes Machado",
          "MACHADO, C. A. N.",
          "MACHADO, CARLOS ALBERTO NUNES",
          "Carlos Eduardo Coelho Freire Batista",
          "BATISTA, CARLOS EDUARDO FREIRE",
          "BATISTA, CARLOS",
          "BATISTA, C. E. C. F.",
          "BATISTA, CARLOS E. C. F.",
          "BATISTA, CARLOS EDUARDO COELHO FREIRE",
          "EDUARDO COELHO FREIRE BATISTA, CARLOS",
          "BATISTA, CARLOS EDUARDO",
          "Christian Azambuja Pagot",
          "PAGOT, CHRISTIAN",
          "PAGOT, C. A.",
          "Clauirton de Albuquerque Siebra",
          "SIEBRA, CLAUIRTON",
          "DE ALBUQUERQUE SIEBRA, CLAUIRTON",
          "SIEBRA, C. A.",
          "SIEBRA, CLAUIRTON A.",
          "CLAUIRTON DE ALBUQUERQUE SIEBRA",
          "SIEBRA, C.",
          "SIEBRA, CLAUIRTON DE ALBUQUERQUE",
          "SIEBRA, CLAUIRTON ALBUQUERQUE",
          "CLAUIRTON SIEBRA",
          "SIEBRA, CLAUIRTON A"
         ],
         "textposition": "top center",
         "type": "scatter",
         "x": {
          "bdata": "D+ea9rHnyb/aKq/ikJzFv/zmmvax58m/Euea9rHnyb9GZ1EHtBDIv/eAa0Vxy9G/cAY/VlL9wr/3gGtFccvRvxdnfbfj8+K/hcAhHB8o47/sjkSxjxrivx9ENMjozdy/7I5EsY8a4r8XZ3234/Pivxdnfbfj8+K/NlLI8nXn4r/1n9lb3JDAv49hR9g18MC/0U7oOmdRwL9LFsG7mGzjP76WyQ89tOQ/SxbBu5hs4z/fcK+Aq+7eP76WyQ89tOQ/SxbBu5hs4z/fcK+Aq+7eP0sWwbuYbOM/cEtdN8zt4z++lskPPbTkP76WyQ89tOQ/",
          "dtype": "f8"
         },
         "xaxis": "x",
         "y": {
          "bdata": "qp3bmeMz6j/U1AiPuyLjP6ud25njM+o/qp3bmeMz6j8u7uIKfhbnP1iOsNo9Z6A/6TREZ4gkwz82jrDaPWegPxDvh9WyK9u/kv+AqlpQ27+JM8Q0sNfXv6dxaGheT9G/iTPENLDX178Q74fVsivbvxDvh9WyK9u/rb4hI2NP2r/TVutAuIHMP17Lp6uGgs0/aaYc8gTPyz8hibWSR1XCv68jbEypDcS/IYm1kkdVwr9JQDl5nKi3v68jbEypDcS/IYm1kkdVwr9JQDl5nKi3vyGJtZJHVcK/+Pgvm3IHw7+vI2xMqQ3Ev68jbEypDcS/",
          "dtype": "f8"
         },
         "yaxis": "y"
        }
       ],
       "layout": {
        "legend": {
         "tracegroupgap": 0
        },
        "template": {
         "data": {
          "bar": [
           {
            "error_x": {
             "color": "#2a3f5f"
            },
            "error_y": {
             "color": "#2a3f5f"
            },
            "marker": {
             "line": {
              "color": "#E5ECF6",
              "width": 0.5
             },
             "pattern": {
              "fillmode": "overlay",
              "size": 10,
              "solidity": 0.2
             }
            },
            "type": "bar"
           }
          ],
          "barpolar": [
           {
            "marker": {
             "line": {
              "color": "#E5ECF6",
              "width": 0.5
             },
             "pattern": {
              "fillmode": "overlay",
              "size": 10,
              "solidity": 0.2
             }
            },
            "type": "barpolar"
           }
          ],
          "carpet": [
           {
            "aaxis": {
             "endlinecolor": "#2a3f5f",
             "gridcolor": "white",
             "linecolor": "white",
             "minorgridcolor": "white",
             "startlinecolor": "#2a3f5f"
            },
            "baxis": {
             "endlinecolor": "#2a3f5f",
             "gridcolor": "white",
             "linecolor": "white",
             "minorgridcolor": "white",
             "startlinecolor": "#2a3f5f"
            },
            "type": "carpet"
           }
          ],
          "choropleth": [
           {
            "colorbar": {
             "outlinewidth": 0,
             "ticks": ""
            },
            "type": "choropleth"
           }
          ],
          "contour": [
           {
            "colorbar": {
             "outlinewidth": 0,
             "ticks": ""
            },
            "colorscale": [
             [
              0,
              "#0d0887"
             ],
             [
              0.1111111111111111,
              "#46039f"
             ],
             [
              0.2222222222222222,
              "#7201a8"
             ],
             [
              0.3333333333333333,
              "#9c179e"
             ],
             [
              0.4444444444444444,
              "#bd3786"
             ],
             [
              0.5555555555555556,
              "#d8576b"
             ],
             [
              0.6666666666666666,
              "#ed7953"
             ],
             [
              0.7777777777777778,
              "#fb9f3a"
             ],
             [
              0.8888888888888888,
              "#fdca26"
             ],
             [
              1,
              "#f0f921"
             ]
            ],
            "type": "contour"
           }
          ],
          "contourcarpet": [
           {
            "colorbar": {
             "outlinewidth": 0,
             "ticks": ""
            },
            "type": "contourcarpet"
           }
          ],
          "heatmap": [
           {
            "colorbar": {
             "outlinewidth": 0,
             "ticks": ""
            },
            "colorscale": [
             [
              0,
              "#0d0887"
             ],
             [
              0.1111111111111111,
              "#46039f"
             ],
             [
              0.2222222222222222,
              "#7201a8"
             ],
             [
              0.3333333333333333,
              "#9c179e"
             ],
             [
              0.4444444444444444,
              "#bd3786"
             ],
             [
              0.5555555555555556,
              "#d8576b"
             ],
             [
              0.6666666666666666,
              "#ed7953"
             ],
             [
              0.7777777777777778,
              "#fb9f3a"
             ],
             [
              0.8888888888888888,
              "#fdca26"
             ],
             [
              1,
              "#f0f921"
             ]
            ],
            "type": "heatmap"
           }
          ],
          "histogram": [
           {
            "marker": {
             "pattern": {
              "fillmode": "overlay",
              "size": 10,
              "solidity": 0.2
             }
            },
            "type": "histogram"
           }
          ],
          "histogram2d": [
           {
            "colorbar": {
             "outlinewidth": 0,
             "ticks": ""
            },
            "colorscale": [
             [
              0,
              "#0d0887"
             ],
             [
              0.1111111111111111,
              "#46039f"
             ],
             [
              0.2222222222222222,
              "#7201a8"
             ],
             [
              0.3333333333333333,
              "#9c179e"
             ],
             [
              0.4444444444444444,
              "#bd3786"
             ],
             [
              0.5555555555555556,
              "#d8576b"
             ],
             [
              0.6666666666666666,
              "#ed7953"
             ],
             [
              0.7777777777777778,
              "#fb9f3a"
             ],
             [
              0.8888888888888888,
              "#fdca26"
             ],
             [
              1,
              "#f0f921"
             ]
            ],
            "type": "histogram2d"
           }
          ],
          "histogram2dcontour": [
           {
            "colorbar": {
             "outlinewidth": 0,
             "ticks": ""
            },
            "colorscale": [
             [
              0,
              "#0d0887"
             ],
             [
              0.1111111111111111,
              "#46039f"
             ],
             [
              0.2222222222222222,
              "#7201a8"
             ],
             [
              0.3333333333333333,
              "#9c179e"
             ],
             [
              0.4444444444444444,
              "#bd3786"
             ],
             [
              0.5555555555555556,
              "#d8576b"
             ],
             [
              0.6666666666666666,
              "#ed7953"
             ],
             [
              0.7777777777777778,
              "#fb9f3a"
             ],
             [
              0.8888888888888888,
              "#fdca26"
             ],
             [
              1,
              "#f0f921"
             ]
            ],
            "type": "histogram2dcontour"
           }
          ],
          "mesh3d": [
           {
            "colorbar": {
             "outlinewidth": 0,
             "ticks": ""
            },
            "type": "mesh3d"
           }
          ],
          "parcoords": [
           {
            "line": {
             "colorbar": {
              "outlinewidth": 0,
              "ticks": ""
             }
            },
            "type": "parcoords"
           }
          ],
          "pie": [
           {
            "automargin": true,
            "type": "pie"
           }
          ],
          "scatter": [
           {
            "fillpattern": {
             "fillmode": "overlay",
             "size": 10,
             "solidity": 0.2
            },
            "type": "scatter"
           }
          ],
          "scatter3d": [
           {
            "line": {
             "colorbar": {
              "outlinewidth": 0,
              "ticks": ""
             }
            },
            "marker": {
             "colorbar": {
              "outlinewidth": 0,
              "ticks": ""
             }
            },
            "type": "scatter3d"
           }
          ],
          "scattercarpet": [
           {
            "marker": {
             "colorbar": {
              "outlinewidth": 0,
              "ticks": ""
             }
            },
            "type": "scattercarpet"
           }
          ],
          "scattergeo": [
           {
            "marker": {
             "colorbar": {
              "outlinewidth": 0,
              "ticks": ""
             }
            },
            "type": "scattergeo"
           }
          ],
          "scattergl": [
           {
            "marker": {
             "colorbar": {
              "outlinewidth": 0,
              "ticks": ""
             }
            },
            "type": "scattergl"
           }
          ],
          "scattermap": [
           {
            "marker": {
             "colorbar": {
              "outlinewidth": 0,
              "ticks": ""
             }
            },
            "type": "scattermap"
           }
          ],
          "scattermapbox": [
           {
            "marker": {
             "colorbar": {
              "outlinewidth": 0,
              "ticks": ""
             }
            },
            "type": "scattermapbox"
           }
          ],
          "scatterpolar": [
           {
            "marker": {
             "colorbar": {
              "outlinewidth": 0,
              "ticks": ""
             }
            },
            "type": "scatterpolar"
           }
          ],
          "scatterpolargl": [
           {
            "marker": {
             "colorbar": {
              "outlinewidth": 0,
              "ticks": ""
             }
            },
            "type": "scatterpolargl"
           }
          ],
          "scatterternary": [
           {
            "marker": {
             "colorbar": {
              "outlinewidth": 0,
              "ticks": ""
             }
            },
            "type": "scatterternary"
           }
          ],
          "surface": [
           {
            "colorbar": {
             "outlinewidth": 0,
             "ticks": ""
            },
            "colorscale": [
             [
              0,
              "#0d0887"
             ],
             [
              0.1111111111111111,
              "#46039f"
             ],
             [
              0.2222222222222222,
              "#7201a8"
             ],
             [
              0.3333333333333333,
              "#9c179e"
             ],
             [
              0.4444444444444444,
              "#bd3786"
             ],
             [
              0.5555555555555556,
              "#d8576b"
             ],
             [
              0.6666666666666666,
              "#ed7953"
             ],
             [
              0.7777777777777778,
              "#fb9f3a"
             ],
             [
              0.8888888888888888,
              "#fdca26"
             ],
             [
              1,
              "#f0f921"
             ]
            ],
            "type": "surface"
           }
          ],
          "table": [
           {
            "cells": {
             "fill": {
              "color": "#EBF0F8"
             },
             "line": {
              "color": "white"
             }
            },
            "header": {
             "fill": {
              "color": "#C8D4E3"
             },
             "line": {
              "color": "white"
             }
            },
            "type": "table"
           }
          ]
         },
         "layout": {
          "annotationdefaults": {
           "arrowcolor": "#2a3f5f",
           "arrowhead": 0,
           "arrowwidth": 1
          },
          "autotypenumbers": "strict",
          "coloraxis": {
           "colorbar": {
            "outlinewidth": 0,
            "ticks": ""
           }
          },
          "colorscale": {
           "diverging": [
            [
             0,
             "#8e0152"
            ],
            [
             0.1,
             "#c51b7d"
            ],
            [
             0.2,
             "#de77ae"
            ],
            [
             0.3,
             "#f1b6da"
            ],
            [
             0.4,
             "#fde0ef"
            ],
            [
             0.5,
             "#f7f7f7"
            ],
            [
             0.6,
             "#e6f5d0"
            ],
            [
             0.7,
             "#b8e186"
            ],
            [
             0.8,
             "#7fbc41"
            ],
            [
             0.9,
             "#4d9221"
            ],
            [
             1,
             "#276419"
            ]
           ],
           "sequential": [
            [
             0,
             "#0d0887"
            ],
            [
             0.1111111111111111,
             "#46039f"
            ],
            [
             0.2222222222222222,
             "#7201a8"
            ],
            [
             0.3333333333333333,
             "#9c179e"
            ],
            [
             0.4444444444444444,
             "#bd3786"
            ],
            [
             0.5555555555555556,
             "#d8576b"
            ],
            [
             0.6666666666666666,
             "#ed7953"
            ],
            [
             0.7777777777777778,
             "#fb9f3a"
            ],
            [
             0.8888888888888888,
             "#fdca26"
            ],
            [
             1,
             "#f0f921"
            ]
           ],
           "sequentialminus": [
            [
             0,
             "#0d0887"
            ],
            [
             0.1111111111111111,
             "#46039f"
            ],
            [
             0.2222222222222222,
             "#7201a8"
            ],
            [
             0.3333333333333333,
             "#9c179e"
            ],
            [
             0.4444444444444444,
             "#bd3786"
            ],
            [
             0.5555555555555556,
             "#d8576b"
            ],
            [
             0.6666666666666666,
             "#ed7953"
            ],
            [
             0.7777777777777778,
             "#fb9f3a"
            ],
            [
             0.8888888888888888,
             "#fdca26"
            ],
            [
             1,
             "#f0f921"
            ]
           ]
          },
          "colorway": [
           "#636efa",
           "#EF553B",
           "#00cc96",
           "#ab63fa",
           "#FFA15A",
           "#19d3f3",
           "#FF6692",
           "#B6E880",
           "#FF97FF",
           "#FECB52"
          ],
          "font": {
           "color": "#2a3f5f"
          },
          "geo": {
           "bgcolor": "white",
           "lakecolor": "white",
           "landcolor": "#E5ECF6",
           "showlakes": true,
           "showland": true,
           "subunitcolor": "white"
          },
          "hoverlabel": {
           "align": "left"
          },
          "hovermode": "closest",
          "mapbox": {
           "style": "light"
          },
          "paper_bgcolor": "white",
          "plot_bgcolor": "#E5ECF6",
          "polar": {
           "angularaxis": {
            "gridcolor": "white",
            "linecolor": "white",
            "ticks": ""
           },
           "bgcolor": "#E5ECF6",
           "radialaxis": {
            "gridcolor": "white",
            "linecolor": "white",
            "ticks": ""
           }
          },
          "scene": {
           "xaxis": {
            "backgroundcolor": "#E5ECF6",
            "gridcolor": "white",
            "gridwidth": 2,
            "linecolor": "white",
            "showbackground": true,
            "ticks": "",
            "zerolinecolor": "white"
           },
           "yaxis": {
            "backgroundcolor": "#E5ECF6",
            "gridcolor": "white",
            "gridwidth": 2,
            "linecolor": "white",
            "showbackground": true,
            "ticks": "",
            "zerolinecolor": "white"
           },
           "zaxis": {
            "backgroundcolor": "#E5ECF6",
            "gridcolor": "white",
            "gridwidth": 2,
            "linecolor": "white",
            "showbackground": true,
            "ticks": "",
            "zerolinecolor": "white"
           }
          },
          "shapedefaults": {
           "line": {
            "color": "#2a3f5f"
           }
          },
          "ternary": {
           "aaxis": {
            "gridcolor": "white",
            "linecolor": "white",
            "ticks": ""
           },
           "baxis": {
            "gridcolor": "white",
            "linecolor": "white",
            "ticks": ""
           },
           "bgcolor": "#E5ECF6",
           "caxis": {
            "gridcolor": "white",
            "linecolor": "white",
            "ticks": ""
           }
          },
          "title": {
           "x": 0.05
          },
          "xaxis": {
           "automargin": true,
           "gridcolor": "white",
           "linecolor": "white",
           "ticks": "",
           "title": {
            "standoff": 15
           },
           "zerolinecolor": "white",
           "zerolinewidth": 2
          },
          "yaxis": {
           "automargin": true,
           "gridcolor": "white",
           "linecolor": "white",
           "ticks": "",
           "title": {
            "standoff": 15
           },
           "zerolinecolor": "white",
           "zerolinewidth": 2
          }
         }
        },
        "title": {
         "text": "Localização dos nomes de citação - Professores com 'C'"
        },
        "xaxis": {
         "anchor": "y",
         "domain": [
          0,
          1
         ],
         "title": {
          "text": "PCA 1"
         }
        },
        "yaxis": {
         "anchor": "x",
         "domain": [
          0,
          1
         ],
         "title": {
          "text": "PCA 2"
         }
        }
       }
      }
     },
     "metadata": {},
     "output_type": "display_data"
    },
    {
     "name": "stdout",
     "output_type": "stream",
     "text": [
      "\n",
      "Professores e nomes de citação do grupo 'C':\n",
      "- Camila Mara Vital Barros  (PCA: -0.202, 0.819)\n",
      "    • BARROS, C. M. V.  (PCA: -0.169, 0.598)\n",
      "    • BARROS, CAMILA MARA VITAL  (PCA: -0.202, 0.819)\n",
      "    • MARA VITAL BARROS, CAMILA  (PCA: -0.202, 0.819)\n",
      "    • BARROS, CAMILA  (PCA: -0.188, 0.721)\n",
      "- Carlos Alberto Nunes Machado  (PCA: -0.278, 0.032)\n",
      "    • MACHADO, C. A. N.  (PCA: -0.148, 0.150)\n",
      "    • MACHADO, CARLOS ALBERTO NUNES  (PCA: -0.278, 0.032)\n",
      "- Carlos Eduardo Coelho Freire Batista  (PCA: -0.592, -0.425)\n",
      "    • BATISTA, CARLOS EDUARDO FREIRE  (PCA: -0.599, -0.427)\n",
      "    • BATISTA, CARLOS  (PCA: -0.566, -0.373)\n",
      "    • BATISTA, C. E. C. F.  (PCA: -0.450, -0.270)\n",
      "    • BATISTA, CARLOS E. C. F.  (PCA: -0.566, -0.373)\n",
      "    • BATISTA, CARLOS EDUARDO COELHO FREIRE  (PCA: -0.592, -0.425)\n",
      "    • EDUARDO COELHO FREIRE BATISTA, CARLOS  (PCA: -0.592, -0.425)\n",
      "    • BATISTA, CARLOS EDUARDO  (PCA: -0.591, -0.411)\n",
      "- Christian Azambuja Pagot  (PCA: -0.129, 0.223)\n",
      "    • PAGOT, CHRISTIAN  (PCA: -0.132, 0.231)\n",
      "    • PAGOT, C. A.  (PCA: -0.127, 0.217)\n",
      "- Clauirton de Albuquerque Siebra  (PCA: 0.607, -0.143)\n",
      "    • SIEBRA, CLAUIRTON  (PCA: 0.647, -0.157)\n",
      "    • DE ALBUQUERQUE SIEBRA, CLAUIRTON  (PCA: 0.607, -0.143)\n",
      "    • SIEBRA, C. A.  (PCA: 0.483, -0.092)\n",
      "    • SIEBRA, CLAUIRTON A.  (PCA: 0.647, -0.157)\n",
      "    • CLAUIRTON DE ALBUQUERQUE SIEBRA  (PCA: 0.607, -0.143)\n",
      "    • SIEBRA, C.  (PCA: 0.483, -0.092)\n",
      "    • SIEBRA, CLAUIRTON DE ALBUQUERQUE  (PCA: 0.607, -0.143)\n",
      "    • SIEBRA, CLAUIRTON ALBUQUERQUE  (PCA: 0.623, -0.149)\n",
      "    • CLAUIRTON SIEBRA  (PCA: 0.647, -0.157)\n",
      "    • SIEBRA, CLAUIRTON A  (PCA: 0.647, -0.157)\n"
     ]
    },
    {
     "data": {
      "application/vnd.plotly.v1+json": {
       "config": {
        "plotlyServerURL": "https://plot.ly"
       },
       "data": [
        {
         "hovertemplate": "%{text}",
         "legendgroup": "",
         "marker": {
          "color": "#636efa",
          "size": 10,
          "symbol": "circle"
         },
         "mode": "markers+text",
         "name": "",
         "orientation": "v",
         "showlegend": false,
         "text": [
          "Daniela Coelho Batista Guedes Pereira",
          "BATISTA, D. C. F",
          "DANIELA C. B. G. PEREIRA",
          "DANIELA COELHO BATISTA",
          "DANIELA COELHO FREIRE BATISTA",
          "Danielle Rousy Dias Ricarte",
          "RICARTE, DANIELLE ROUSY D.",
          "ROUSY DIAS DA SILVA, DANIELLE",
          "SILVA, DANIELLE",
          "RICARTE, DANIELLE ROUSY DIAS",
          "RICARTE, DANIELLE R. D.",
          "SILVA, D. R. D.",
          "RICARTE, D. R. D",
          "DANIELLE ROUSY D. RICARTE",
          "ROUSY DIAS RICARTE, DANIELLE",
          "RICARTE, D. R. D.",
          "DANIELLE ROUSY DIAS RICARTE",
          "Derzu Omaia",
          "OMAIA, DERZU"
         ],
         "textposition": "top center",
         "type": "scatter",
         "x": {
          "bdata": "DffPsxso5r9NHEtRZSjiv2TqHwPEReG/sORyx/cI579ABvnQnojlv2L+1Tkam+E/s7hICZPK4D+OG1auvFPAP+XO1U2N2LG/Yv7VORqb4T9w35S6ZybbP7A2YiDxKtO/lbldDGbV0j+zuEgJk8rgP2L+1Tkam+E/lbldDGbV0j9i/tU5GpvhP0JdlDSyhtq/Ql2UNLKG2r8=",
          "dtype": "f8"
         },
         "xaxis": "x",
         "y": {
          "bdata": "Ov7W/JVY2L/7BOr2VDLQv9ZDngb92Mq/Zl0ZH/C+2r8MJpZLbMnXv07tsWbJXqy/J86EJL8iu7+IV1fgChDeP9hbBxy/G+Q/SO2xZslerL9uTHPd0ffAvwiWIaNu6OU/0eKG9on50r8nzoQkvyK7v0jtsWbJXqy/0eKG9on50r9I7bFmyV6sv7dNHinIJeA/t00eKcgl4D8=",
          "dtype": "f8"
         },
         "yaxis": "y"
        }
       ],
       "layout": {
        "legend": {
         "tracegroupgap": 0
        },
        "template": {
         "data": {
          "bar": [
           {
            "error_x": {
             "color": "#2a3f5f"
            },
            "error_y": {
             "color": "#2a3f5f"
            },
            "marker": {
             "line": {
              "color": "#E5ECF6",
              "width": 0.5
             },
             "pattern": {
              "fillmode": "overlay",
              "size": 10,
              "solidity": 0.2
             }
            },
            "type": "bar"
           }
          ],
          "barpolar": [
           {
            "marker": {
             "line": {
              "color": "#E5ECF6",
              "width": 0.5
             },
             "pattern": {
              "fillmode": "overlay",
              "size": 10,
              "solidity": 0.2
             }
            },
            "type": "barpolar"
           }
          ],
          "carpet": [
           {
            "aaxis": {
             "endlinecolor": "#2a3f5f",
             "gridcolor": "white",
             "linecolor": "white",
             "minorgridcolor": "white",
             "startlinecolor": "#2a3f5f"
            },
            "baxis": {
             "endlinecolor": "#2a3f5f",
             "gridcolor": "white",
             "linecolor": "white",
             "minorgridcolor": "white",
             "startlinecolor": "#2a3f5f"
            },
            "type": "carpet"
           }
          ],
          "choropleth": [
           {
            "colorbar": {
             "outlinewidth": 0,
             "ticks": ""
            },
            "type": "choropleth"
           }
          ],
          "contour": [
           {
            "colorbar": {
             "outlinewidth": 0,
             "ticks": ""
            },
            "colorscale": [
             [
              0,
              "#0d0887"
             ],
             [
              0.1111111111111111,
              "#46039f"
             ],
             [
              0.2222222222222222,
              "#7201a8"
             ],
             [
              0.3333333333333333,
              "#9c179e"
             ],
             [
              0.4444444444444444,
              "#bd3786"
             ],
             [
              0.5555555555555556,
              "#d8576b"
             ],
             [
              0.6666666666666666,
              "#ed7953"
             ],
             [
              0.7777777777777778,
              "#fb9f3a"
             ],
             [
              0.8888888888888888,
              "#fdca26"
             ],
             [
              1,
              "#f0f921"
             ]
            ],
            "type": "contour"
           }
          ],
          "contourcarpet": [
           {
            "colorbar": {
             "outlinewidth": 0,
             "ticks": ""
            },
            "type": "contourcarpet"
           }
          ],
          "heatmap": [
           {
            "colorbar": {
             "outlinewidth": 0,
             "ticks": ""
            },
            "colorscale": [
             [
              0,
              "#0d0887"
             ],
             [
              0.1111111111111111,
              "#46039f"
             ],
             [
              0.2222222222222222,
              "#7201a8"
             ],
             [
              0.3333333333333333,
              "#9c179e"
             ],
             [
              0.4444444444444444,
              "#bd3786"
             ],
             [
              0.5555555555555556,
              "#d8576b"
             ],
             [
              0.6666666666666666,
              "#ed7953"
             ],
             [
              0.7777777777777778,
              "#fb9f3a"
             ],
             [
              0.8888888888888888,
              "#fdca26"
             ],
             [
              1,
              "#f0f921"
             ]
            ],
            "type": "heatmap"
           }
          ],
          "histogram": [
           {
            "marker": {
             "pattern": {
              "fillmode": "overlay",
              "size": 10,
              "solidity": 0.2
             }
            },
            "type": "histogram"
           }
          ],
          "histogram2d": [
           {
            "colorbar": {
             "outlinewidth": 0,
             "ticks": ""
            },
            "colorscale": [
             [
              0,
              "#0d0887"
             ],
             [
              0.1111111111111111,
              "#46039f"
             ],
             [
              0.2222222222222222,
              "#7201a8"
             ],
             [
              0.3333333333333333,
              "#9c179e"
             ],
             [
              0.4444444444444444,
              "#bd3786"
             ],
             [
              0.5555555555555556,
              "#d8576b"
             ],
             [
              0.6666666666666666,
              "#ed7953"
             ],
             [
              0.7777777777777778,
              "#fb9f3a"
             ],
             [
              0.8888888888888888,
              "#fdca26"
             ],
             [
              1,
              "#f0f921"
             ]
            ],
            "type": "histogram2d"
           }
          ],
          "histogram2dcontour": [
           {
            "colorbar": {
             "outlinewidth": 0,
             "ticks": ""
            },
            "colorscale": [
             [
              0,
              "#0d0887"
             ],
             [
              0.1111111111111111,
              "#46039f"
             ],
             [
              0.2222222222222222,
              "#7201a8"
             ],
             [
              0.3333333333333333,
              "#9c179e"
             ],
             [
              0.4444444444444444,
              "#bd3786"
             ],
             [
              0.5555555555555556,
              "#d8576b"
             ],
             [
              0.6666666666666666,
              "#ed7953"
             ],
             [
              0.7777777777777778,
              "#fb9f3a"
             ],
             [
              0.8888888888888888,
              "#fdca26"
             ],
             [
              1,
              "#f0f921"
             ]
            ],
            "type": "histogram2dcontour"
           }
          ],
          "mesh3d": [
           {
            "colorbar": {
             "outlinewidth": 0,
             "ticks": ""
            },
            "type": "mesh3d"
           }
          ],
          "parcoords": [
           {
            "line": {
             "colorbar": {
              "outlinewidth": 0,
              "ticks": ""
             }
            },
            "type": "parcoords"
           }
          ],
          "pie": [
           {
            "automargin": true,
            "type": "pie"
           }
          ],
          "scatter": [
           {
            "fillpattern": {
             "fillmode": "overlay",
             "size": 10,
             "solidity": 0.2
            },
            "type": "scatter"
           }
          ],
          "scatter3d": [
           {
            "line": {
             "colorbar": {
              "outlinewidth": 0,
              "ticks": ""
             }
            },
            "marker": {
             "colorbar": {
              "outlinewidth": 0,
              "ticks": ""
             }
            },
            "type": "scatter3d"
           }
          ],
          "scattercarpet": [
           {
            "marker": {
             "colorbar": {
              "outlinewidth": 0,
              "ticks": ""
             }
            },
            "type": "scattercarpet"
           }
          ],
          "scattergeo": [
           {
            "marker": {
             "colorbar": {
              "outlinewidth": 0,
              "ticks": ""
             }
            },
            "type": "scattergeo"
           }
          ],
          "scattergl": [
           {
            "marker": {
             "colorbar": {
              "outlinewidth": 0,
              "ticks": ""
             }
            },
            "type": "scattergl"
           }
          ],
          "scattermap": [
           {
            "marker": {
             "colorbar": {
              "outlinewidth": 0,
              "ticks": ""
             }
            },
            "type": "scattermap"
           }
          ],
          "scattermapbox": [
           {
            "marker": {
             "colorbar": {
              "outlinewidth": 0,
              "ticks": ""
             }
            },
            "type": "scattermapbox"
           }
          ],
          "scatterpolar": [
           {
            "marker": {
             "colorbar": {
              "outlinewidth": 0,
              "ticks": ""
             }
            },
            "type": "scatterpolar"
           }
          ],
          "scatterpolargl": [
           {
            "marker": {
             "colorbar": {
              "outlinewidth": 0,
              "ticks": ""
             }
            },
            "type": "scatterpolargl"
           }
          ],
          "scatterternary": [
           {
            "marker": {
             "colorbar": {
              "outlinewidth": 0,
              "ticks": ""
             }
            },
            "type": "scatterternary"
           }
          ],
          "surface": [
           {
            "colorbar": {
             "outlinewidth": 0,
             "ticks": ""
            },
            "colorscale": [
             [
              0,
              "#0d0887"
             ],
             [
              0.1111111111111111,
              "#46039f"
             ],
             [
              0.2222222222222222,
              "#7201a8"
             ],
             [
              0.3333333333333333,
              "#9c179e"
             ],
             [
              0.4444444444444444,
              "#bd3786"
             ],
             [
              0.5555555555555556,
              "#d8576b"
             ],
             [
              0.6666666666666666,
              "#ed7953"
             ],
             [
              0.7777777777777778,
              "#fb9f3a"
             ],
             [
              0.8888888888888888,
              "#fdca26"
             ],
             [
              1,
              "#f0f921"
             ]
            ],
            "type": "surface"
           }
          ],
          "table": [
           {
            "cells": {
             "fill": {
              "color": "#EBF0F8"
             },
             "line": {
              "color": "white"
             }
            },
            "header": {
             "fill": {
              "color": "#C8D4E3"
             },
             "line": {
              "color": "white"
             }
            },
            "type": "table"
           }
          ]
         },
         "layout": {
          "annotationdefaults": {
           "arrowcolor": "#2a3f5f",
           "arrowhead": 0,
           "arrowwidth": 1
          },
          "autotypenumbers": "strict",
          "coloraxis": {
           "colorbar": {
            "outlinewidth": 0,
            "ticks": ""
           }
          },
          "colorscale": {
           "diverging": [
            [
             0,
             "#8e0152"
            ],
            [
             0.1,
             "#c51b7d"
            ],
            [
             0.2,
             "#de77ae"
            ],
            [
             0.3,
             "#f1b6da"
            ],
            [
             0.4,
             "#fde0ef"
            ],
            [
             0.5,
             "#f7f7f7"
            ],
            [
             0.6,
             "#e6f5d0"
            ],
            [
             0.7,
             "#b8e186"
            ],
            [
             0.8,
             "#7fbc41"
            ],
            [
             0.9,
             "#4d9221"
            ],
            [
             1,
             "#276419"
            ]
           ],
           "sequential": [
            [
             0,
             "#0d0887"
            ],
            [
             0.1111111111111111,
             "#46039f"
            ],
            [
             0.2222222222222222,
             "#7201a8"
            ],
            [
             0.3333333333333333,
             "#9c179e"
            ],
            [
             0.4444444444444444,
             "#bd3786"
            ],
            [
             0.5555555555555556,
             "#d8576b"
            ],
            [
             0.6666666666666666,
             "#ed7953"
            ],
            [
             0.7777777777777778,
             "#fb9f3a"
            ],
            [
             0.8888888888888888,
             "#fdca26"
            ],
            [
             1,
             "#f0f921"
            ]
           ],
           "sequentialminus": [
            [
             0,
             "#0d0887"
            ],
            [
             0.1111111111111111,
             "#46039f"
            ],
            [
             0.2222222222222222,
             "#7201a8"
            ],
            [
             0.3333333333333333,
             "#9c179e"
            ],
            [
             0.4444444444444444,
             "#bd3786"
            ],
            [
             0.5555555555555556,
             "#d8576b"
            ],
            [
             0.6666666666666666,
             "#ed7953"
            ],
            [
             0.7777777777777778,
             "#fb9f3a"
            ],
            [
             0.8888888888888888,
             "#fdca26"
            ],
            [
             1,
             "#f0f921"
            ]
           ]
          },
          "colorway": [
           "#636efa",
           "#EF553B",
           "#00cc96",
           "#ab63fa",
           "#FFA15A",
           "#19d3f3",
           "#FF6692",
           "#B6E880",
           "#FF97FF",
           "#FECB52"
          ],
          "font": {
           "color": "#2a3f5f"
          },
          "geo": {
           "bgcolor": "white",
           "lakecolor": "white",
           "landcolor": "#E5ECF6",
           "showlakes": true,
           "showland": true,
           "subunitcolor": "white"
          },
          "hoverlabel": {
           "align": "left"
          },
          "hovermode": "closest",
          "mapbox": {
           "style": "light"
          },
          "paper_bgcolor": "white",
          "plot_bgcolor": "#E5ECF6",
          "polar": {
           "angularaxis": {
            "gridcolor": "white",
            "linecolor": "white",
            "ticks": ""
           },
           "bgcolor": "#E5ECF6",
           "radialaxis": {
            "gridcolor": "white",
            "linecolor": "white",
            "ticks": ""
           }
          },
          "scene": {
           "xaxis": {
            "backgroundcolor": "#E5ECF6",
            "gridcolor": "white",
            "gridwidth": 2,
            "linecolor": "white",
            "showbackground": true,
            "ticks": "",
            "zerolinecolor": "white"
           },
           "yaxis": {
            "backgroundcolor": "#E5ECF6",
            "gridcolor": "white",
            "gridwidth": 2,
            "linecolor": "white",
            "showbackground": true,
            "ticks": "",
            "zerolinecolor": "white"
           },
           "zaxis": {
            "backgroundcolor": "#E5ECF6",
            "gridcolor": "white",
            "gridwidth": 2,
            "linecolor": "white",
            "showbackground": true,
            "ticks": "",
            "zerolinecolor": "white"
           }
          },
          "shapedefaults": {
           "line": {
            "color": "#2a3f5f"
           }
          },
          "ternary": {
           "aaxis": {
            "gridcolor": "white",
            "linecolor": "white",
            "ticks": ""
           },
           "baxis": {
            "gridcolor": "white",
            "linecolor": "white",
            "ticks": ""
           },
           "bgcolor": "#E5ECF6",
           "caxis": {
            "gridcolor": "white",
            "linecolor": "white",
            "ticks": ""
           }
          },
          "title": {
           "x": 0.05
          },
          "xaxis": {
           "automargin": true,
           "gridcolor": "white",
           "linecolor": "white",
           "ticks": "",
           "title": {
            "standoff": 15
           },
           "zerolinecolor": "white",
           "zerolinewidth": 2
          },
          "yaxis": {
           "automargin": true,
           "gridcolor": "white",
           "linecolor": "white",
           "ticks": "",
           "title": {
            "standoff": 15
           },
           "zerolinecolor": "white",
           "zerolinewidth": 2
          }
         }
        },
        "title": {
         "text": "Localização dos nomes de citação - Professores com 'D'"
        },
        "xaxis": {
         "anchor": "y",
         "domain": [
          0,
          1
         ],
         "title": {
          "text": "PCA 1"
         }
        },
        "yaxis": {
         "anchor": "x",
         "domain": [
          0,
          1
         ],
         "title": {
          "text": "PCA 2"
         }
        }
       }
      }
     },
     "metadata": {},
     "output_type": "display_data"
    },
    {
     "name": "stdout",
     "output_type": "stream",
     "text": [
      "\n",
      "Professores e nomes de citação do grupo 'D':\n",
      "- Daniela Coelho Batista Guedes Pereira  (PCA: -0.692, -0.380)\n",
      "    • BATISTA, D. C. F  (PCA: -0.567, -0.253)\n",
      "    • DANIELA C. B. G. PEREIRA  (PCA: -0.540, -0.210)\n",
      "    • DANIELA COELHO BATISTA  (PCA: -0.720, -0.418)\n",
      "    • DANIELA COELHO FREIRE BATISTA  (PCA: -0.673, -0.372)\n",
      "- Danielle Rousy Dias Ricarte  (PCA: 0.550, -0.055)\n",
      "    • RICARTE, DANIELLE ROUSY D.  (PCA: 0.525, -0.106)\n",
      "    • ROUSY DIAS DA SILVA, DANIELLE  (PCA: 0.128, 0.470)\n",
      "    • SILVA, DANIELLE  (PCA: -0.070, 0.628)\n",
      "    • RICARTE, DANIELLE ROUSY DIAS  (PCA: 0.550, -0.055)\n",
      "    • RICARTE, DANIELLE R. D.  (PCA: 0.424, -0.133)\n",
      "    • SILVA, D. R. D.  (PCA: -0.299, 0.685)\n",
      "    • RICARTE, D. R. D  (PCA: 0.294, -0.296)\n",
      "    • DANIELLE ROUSY D. RICARTE  (PCA: 0.525, -0.106)\n",
      "    • ROUSY DIAS RICARTE, DANIELLE  (PCA: 0.550, -0.055)\n",
      "    • RICARTE, D. R. D.  (PCA: 0.294, -0.296)\n",
      "    • DANIELLE ROUSY DIAS RICARTE  (PCA: 0.550, -0.055)\n",
      "- Derzu Omaia  (PCA: -0.414, 0.505)\n",
      "    • OMAIA, DERZU  (PCA: -0.414, 0.505)\n"
     ]
    },
    {
     "data": {
      "application/vnd.plotly.v1+json": {
       "config": {
        "plotlyServerURL": "https://plot.ly"
       },
       "data": [
        {
         "hovertemplate": "%{text}",
         "legendgroup": "",
         "marker": {
          "color": "#636efa",
          "size": 10,
          "symbol": "circle"
         },
         "mode": "markers+text",
         "name": "",
         "orientation": "v",
         "showlegend": false,
         "text": [
          "Ed Porto Bezerra",
          "ED PORTO BEZERRA",
          "BEZERRA, ED",
          "ED BEZERRA",
          "ED PORTO",
          "PORTO, ED",
          "BEZERRA, E. P.",
          "BEZERRA ED",
          "BEZERRA, ED PORTO",
          "Elizabet Maria Spohr de Medeiros",
          "MEDEIROS, E. M. S.",
          "Eudisley Gomes dos Anjos",
          "ANJOS, EUDISLEY GOMES DOS",
          "GOMES DOS ANJOS, EUDISLEY",
          "ANJOS, E. G.",
          "ANJOS, EUDISLEY"
         ],
         "textposition": "top center",
         "type": "scatter",
         "x": {
          "bdata": "0CpYTP624T/UKlhM/rbhP9RXwSySbt8/1FfBLJJu3z+AcaGfqRHZP4BxoZ+pEdk/doH/KbKo0j/VV8Eskm7fP9EqWEz+tuE/vwYIXFNMzr/IBghcU0zOv8VYpPkLwem/xVik+QvB6b/FWKT5C8HpvzU7wFizXuO/jW0a6dfo5r8=",
          "dtype": "f8"
         },
         "xaxis": "x",
         "y": {
          "bdata": "VaTg+86Gx79NpOD7zobHv2kVUgSllLQ/fBVSBKWUtD98Yb/E94bUv3xhv8T3htS/RoVV01uz0j9xFVIEpZS0P1Kk4PvOhse/PnLpl6x+6T87cumXrH7pP3j1tPGYzc+/ePW08ZjNz7949bTxmM3Pv0pm00xSVKa/uI9+feiMwr8=",
          "dtype": "f8"
         },
         "yaxis": "y"
        }
       ],
       "layout": {
        "legend": {
         "tracegroupgap": 0
        },
        "template": {
         "data": {
          "bar": [
           {
            "error_x": {
             "color": "#2a3f5f"
            },
            "error_y": {
             "color": "#2a3f5f"
            },
            "marker": {
             "line": {
              "color": "#E5ECF6",
              "width": 0.5
             },
             "pattern": {
              "fillmode": "overlay",
              "size": 10,
              "solidity": 0.2
             }
            },
            "type": "bar"
           }
          ],
          "barpolar": [
           {
            "marker": {
             "line": {
              "color": "#E5ECF6",
              "width": 0.5
             },
             "pattern": {
              "fillmode": "overlay",
              "size": 10,
              "solidity": 0.2
             }
            },
            "type": "barpolar"
           }
          ],
          "carpet": [
           {
            "aaxis": {
             "endlinecolor": "#2a3f5f",
             "gridcolor": "white",
             "linecolor": "white",
             "minorgridcolor": "white",
             "startlinecolor": "#2a3f5f"
            },
            "baxis": {
             "endlinecolor": "#2a3f5f",
             "gridcolor": "white",
             "linecolor": "white",
             "minorgridcolor": "white",
             "startlinecolor": "#2a3f5f"
            },
            "type": "carpet"
           }
          ],
          "choropleth": [
           {
            "colorbar": {
             "outlinewidth": 0,
             "ticks": ""
            },
            "type": "choropleth"
           }
          ],
          "contour": [
           {
            "colorbar": {
             "outlinewidth": 0,
             "ticks": ""
            },
            "colorscale": [
             [
              0,
              "#0d0887"
             ],
             [
              0.1111111111111111,
              "#46039f"
             ],
             [
              0.2222222222222222,
              "#7201a8"
             ],
             [
              0.3333333333333333,
              "#9c179e"
             ],
             [
              0.4444444444444444,
              "#bd3786"
             ],
             [
              0.5555555555555556,
              "#d8576b"
             ],
             [
              0.6666666666666666,
              "#ed7953"
             ],
             [
              0.7777777777777778,
              "#fb9f3a"
             ],
             [
              0.8888888888888888,
              "#fdca26"
             ],
             [
              1,
              "#f0f921"
             ]
            ],
            "type": "contour"
           }
          ],
          "contourcarpet": [
           {
            "colorbar": {
             "outlinewidth": 0,
             "ticks": ""
            },
            "type": "contourcarpet"
           }
          ],
          "heatmap": [
           {
            "colorbar": {
             "outlinewidth": 0,
             "ticks": ""
            },
            "colorscale": [
             [
              0,
              "#0d0887"
             ],
             [
              0.1111111111111111,
              "#46039f"
             ],
             [
              0.2222222222222222,
              "#7201a8"
             ],
             [
              0.3333333333333333,
              "#9c179e"
             ],
             [
              0.4444444444444444,
              "#bd3786"
             ],
             [
              0.5555555555555556,
              "#d8576b"
             ],
             [
              0.6666666666666666,
              "#ed7953"
             ],
             [
              0.7777777777777778,
              "#fb9f3a"
             ],
             [
              0.8888888888888888,
              "#fdca26"
             ],
             [
              1,
              "#f0f921"
             ]
            ],
            "type": "heatmap"
           }
          ],
          "histogram": [
           {
            "marker": {
             "pattern": {
              "fillmode": "overlay",
              "size": 10,
              "solidity": 0.2
             }
            },
            "type": "histogram"
           }
          ],
          "histogram2d": [
           {
            "colorbar": {
             "outlinewidth": 0,
             "ticks": ""
            },
            "colorscale": [
             [
              0,
              "#0d0887"
             ],
             [
              0.1111111111111111,
              "#46039f"
             ],
             [
              0.2222222222222222,
              "#7201a8"
             ],
             [
              0.3333333333333333,
              "#9c179e"
             ],
             [
              0.4444444444444444,
              "#bd3786"
             ],
             [
              0.5555555555555556,
              "#d8576b"
             ],
             [
              0.6666666666666666,
              "#ed7953"
             ],
             [
              0.7777777777777778,
              "#fb9f3a"
             ],
             [
              0.8888888888888888,
              "#fdca26"
             ],
             [
              1,
              "#f0f921"
             ]
            ],
            "type": "histogram2d"
           }
          ],
          "histogram2dcontour": [
           {
            "colorbar": {
             "outlinewidth": 0,
             "ticks": ""
            },
            "colorscale": [
             [
              0,
              "#0d0887"
             ],
             [
              0.1111111111111111,
              "#46039f"
             ],
             [
              0.2222222222222222,
              "#7201a8"
             ],
             [
              0.3333333333333333,
              "#9c179e"
             ],
             [
              0.4444444444444444,
              "#bd3786"
             ],
             [
              0.5555555555555556,
              "#d8576b"
             ],
             [
              0.6666666666666666,
              "#ed7953"
             ],
             [
              0.7777777777777778,
              "#fb9f3a"
             ],
             [
              0.8888888888888888,
              "#fdca26"
             ],
             [
              1,
              "#f0f921"
             ]
            ],
            "type": "histogram2dcontour"
           }
          ],
          "mesh3d": [
           {
            "colorbar": {
             "outlinewidth": 0,
             "ticks": ""
            },
            "type": "mesh3d"
           }
          ],
          "parcoords": [
           {
            "line": {
             "colorbar": {
              "outlinewidth": 0,
              "ticks": ""
             }
            },
            "type": "parcoords"
           }
          ],
          "pie": [
           {
            "automargin": true,
            "type": "pie"
           }
          ],
          "scatter": [
           {
            "fillpattern": {
             "fillmode": "overlay",
             "size": 10,
             "solidity": 0.2
            },
            "type": "scatter"
           }
          ],
          "scatter3d": [
           {
            "line": {
             "colorbar": {
              "outlinewidth": 0,
              "ticks": ""
             }
            },
            "marker": {
             "colorbar": {
              "outlinewidth": 0,
              "ticks": ""
             }
            },
            "type": "scatter3d"
           }
          ],
          "scattercarpet": [
           {
            "marker": {
             "colorbar": {
              "outlinewidth": 0,
              "ticks": ""
             }
            },
            "type": "scattercarpet"
           }
          ],
          "scattergeo": [
           {
            "marker": {
             "colorbar": {
              "outlinewidth": 0,
              "ticks": ""
             }
            },
            "type": "scattergeo"
           }
          ],
          "scattergl": [
           {
            "marker": {
             "colorbar": {
              "outlinewidth": 0,
              "ticks": ""
             }
            },
            "type": "scattergl"
           }
          ],
          "scattermap": [
           {
            "marker": {
             "colorbar": {
              "outlinewidth": 0,
              "ticks": ""
             }
            },
            "type": "scattermap"
           }
          ],
          "scattermapbox": [
           {
            "marker": {
             "colorbar": {
              "outlinewidth": 0,
              "ticks": ""
             }
            },
            "type": "scattermapbox"
           }
          ],
          "scatterpolar": [
           {
            "marker": {
             "colorbar": {
              "outlinewidth": 0,
              "ticks": ""
             }
            },
            "type": "scatterpolar"
           }
          ],
          "scatterpolargl": [
           {
            "marker": {
             "colorbar": {
              "outlinewidth": 0,
              "ticks": ""
             }
            },
            "type": "scatterpolargl"
           }
          ],
          "scatterternary": [
           {
            "marker": {
             "colorbar": {
              "outlinewidth": 0,
              "ticks": ""
             }
            },
            "type": "scatterternary"
           }
          ],
          "surface": [
           {
            "colorbar": {
             "outlinewidth": 0,
             "ticks": ""
            },
            "colorscale": [
             [
              0,
              "#0d0887"
             ],
             [
              0.1111111111111111,
              "#46039f"
             ],
             [
              0.2222222222222222,
              "#7201a8"
             ],
             [
              0.3333333333333333,
              "#9c179e"
             ],
             [
              0.4444444444444444,
              "#bd3786"
             ],
             [
              0.5555555555555556,
              "#d8576b"
             ],
             [
              0.6666666666666666,
              "#ed7953"
             ],
             [
              0.7777777777777778,
              "#fb9f3a"
             ],
             [
              0.8888888888888888,
              "#fdca26"
             ],
             [
              1,
              "#f0f921"
             ]
            ],
            "type": "surface"
           }
          ],
          "table": [
           {
            "cells": {
             "fill": {
              "color": "#EBF0F8"
             },
             "line": {
              "color": "white"
             }
            },
            "header": {
             "fill": {
              "color": "#C8D4E3"
             },
             "line": {
              "color": "white"
             }
            },
            "type": "table"
           }
          ]
         },
         "layout": {
          "annotationdefaults": {
           "arrowcolor": "#2a3f5f",
           "arrowhead": 0,
           "arrowwidth": 1
          },
          "autotypenumbers": "strict",
          "coloraxis": {
           "colorbar": {
            "outlinewidth": 0,
            "ticks": ""
           }
          },
          "colorscale": {
           "diverging": [
            [
             0,
             "#8e0152"
            ],
            [
             0.1,
             "#c51b7d"
            ],
            [
             0.2,
             "#de77ae"
            ],
            [
             0.3,
             "#f1b6da"
            ],
            [
             0.4,
             "#fde0ef"
            ],
            [
             0.5,
             "#f7f7f7"
            ],
            [
             0.6,
             "#e6f5d0"
            ],
            [
             0.7,
             "#b8e186"
            ],
            [
             0.8,
             "#7fbc41"
            ],
            [
             0.9,
             "#4d9221"
            ],
            [
             1,
             "#276419"
            ]
           ],
           "sequential": [
            [
             0,
             "#0d0887"
            ],
            [
             0.1111111111111111,
             "#46039f"
            ],
            [
             0.2222222222222222,
             "#7201a8"
            ],
            [
             0.3333333333333333,
             "#9c179e"
            ],
            [
             0.4444444444444444,
             "#bd3786"
            ],
            [
             0.5555555555555556,
             "#d8576b"
            ],
            [
             0.6666666666666666,
             "#ed7953"
            ],
            [
             0.7777777777777778,
             "#fb9f3a"
            ],
            [
             0.8888888888888888,
             "#fdca26"
            ],
            [
             1,
             "#f0f921"
            ]
           ],
           "sequentialminus": [
            [
             0,
             "#0d0887"
            ],
            [
             0.1111111111111111,
             "#46039f"
            ],
            [
             0.2222222222222222,
             "#7201a8"
            ],
            [
             0.3333333333333333,
             "#9c179e"
            ],
            [
             0.4444444444444444,
             "#bd3786"
            ],
            [
             0.5555555555555556,
             "#d8576b"
            ],
            [
             0.6666666666666666,
             "#ed7953"
            ],
            [
             0.7777777777777778,
             "#fb9f3a"
            ],
            [
             0.8888888888888888,
             "#fdca26"
            ],
            [
             1,
             "#f0f921"
            ]
           ]
          },
          "colorway": [
           "#636efa",
           "#EF553B",
           "#00cc96",
           "#ab63fa",
           "#FFA15A",
           "#19d3f3",
           "#FF6692",
           "#B6E880",
           "#FF97FF",
           "#FECB52"
          ],
          "font": {
           "color": "#2a3f5f"
          },
          "geo": {
           "bgcolor": "white",
           "lakecolor": "white",
           "landcolor": "#E5ECF6",
           "showlakes": true,
           "showland": true,
           "subunitcolor": "white"
          },
          "hoverlabel": {
           "align": "left"
          },
          "hovermode": "closest",
          "mapbox": {
           "style": "light"
          },
          "paper_bgcolor": "white",
          "plot_bgcolor": "#E5ECF6",
          "polar": {
           "angularaxis": {
            "gridcolor": "white",
            "linecolor": "white",
            "ticks": ""
           },
           "bgcolor": "#E5ECF6",
           "radialaxis": {
            "gridcolor": "white",
            "linecolor": "white",
            "ticks": ""
           }
          },
          "scene": {
           "xaxis": {
            "backgroundcolor": "#E5ECF6",
            "gridcolor": "white",
            "gridwidth": 2,
            "linecolor": "white",
            "showbackground": true,
            "ticks": "",
            "zerolinecolor": "white"
           },
           "yaxis": {
            "backgroundcolor": "#E5ECF6",
            "gridcolor": "white",
            "gridwidth": 2,
            "linecolor": "white",
            "showbackground": true,
            "ticks": "",
            "zerolinecolor": "white"
           },
           "zaxis": {
            "backgroundcolor": "#E5ECF6",
            "gridcolor": "white",
            "gridwidth": 2,
            "linecolor": "white",
            "showbackground": true,
            "ticks": "",
            "zerolinecolor": "white"
           }
          },
          "shapedefaults": {
           "line": {
            "color": "#2a3f5f"
           }
          },
          "ternary": {
           "aaxis": {
            "gridcolor": "white",
            "linecolor": "white",
            "ticks": ""
           },
           "baxis": {
            "gridcolor": "white",
            "linecolor": "white",
            "ticks": ""
           },
           "bgcolor": "#E5ECF6",
           "caxis": {
            "gridcolor": "white",
            "linecolor": "white",
            "ticks": ""
           }
          },
          "title": {
           "x": 0.05
          },
          "xaxis": {
           "automargin": true,
           "gridcolor": "white",
           "linecolor": "white",
           "ticks": "",
           "title": {
            "standoff": 15
           },
           "zerolinecolor": "white",
           "zerolinewidth": 2
          },
          "yaxis": {
           "automargin": true,
           "gridcolor": "white",
           "linecolor": "white",
           "ticks": "",
           "title": {
            "standoff": 15
           },
           "zerolinecolor": "white",
           "zerolinewidth": 2
          }
         }
        },
        "title": {
         "text": "Localização dos nomes de citação - Professores com 'E'"
        },
        "xaxis": {
         "anchor": "y",
         "domain": [
          0,
          1
         ],
         "title": {
          "text": "PCA 1"
         }
        },
        "yaxis": {
         "anchor": "x",
         "domain": [
          0,
          1
         ],
         "title": {
          "text": "PCA 2"
         }
        }
       }
      }
     },
     "metadata": {},
     "output_type": "display_data"
    },
    {
     "name": "stdout",
     "output_type": "stream",
     "text": [
      "\n",
      "Professores e nomes de citação do grupo 'E':\n",
      "- Ed Porto Bezerra  (PCA: 0.554, -0.184)\n",
      "    • ED PORTO BEZERRA  (PCA: 0.554, -0.184)\n",
      "    • BEZERRA, ED  (PCA: 0.491, 0.080)\n",
      "    • ED BEZERRA  (PCA: 0.491, 0.080)\n",
      "    • ED PORTO  (PCA: 0.392, -0.321)\n",
      "    • PORTO, ED  (PCA: 0.392, -0.321)\n",
      "    • BEZERRA, E. P.  (PCA: 0.292, 0.292)\n",
      "    • BEZERRA ED  (PCA: 0.491, 0.080)\n",
      "    • BEZERRA, ED PORTO  (PCA: 0.554, -0.184)\n",
      "- Elizabet Maria Spohr de Medeiros  (PCA: -0.237, 0.797)\n",
      "    • MEDEIROS, E. M. S.  (PCA: -0.237, 0.797)\n",
      "- Eudisley Gomes dos Anjos  (PCA: -0.805, -0.248)\n",
      "    • ANJOS, EUDISLEY GOMES DOS  (PCA: -0.805, -0.248)\n",
      "    • GOMES DOS ANJOS, EUDISLEY  (PCA: -0.805, -0.248)\n",
      "    • ANJOS, E. G.  (PCA: -0.605, -0.044)\n",
      "    • ANJOS, EUDISLEY  (PCA: -0.716, -0.145)\n"
     ]
    },
    {
     "data": {
      "application/vnd.plotly.v1+json": {
       "config": {
        "plotlyServerURL": "https://plot.ly"
       },
       "data": [
        {
         "hovertemplate": "%{text}",
         "legendgroup": "",
         "marker": {
          "color": "#636efa",
          "size": 10,
          "symbol": "circle"
         },
         "mode": "markers+text",
         "name": "",
         "orientation": "v",
         "showlegend": false,
         "text": [
          "Felipe Antonio Garcia Moreno",
          "MORENO, F. A. G.",
          "MORENO, FELIPE A. G.",
          "MORENO, FELIPE GARCIA",
          "Francisco de Assis Coutinho Souto",
          "SOUTO, FRANCISCO DE ASSIS COUTINHO"
         ],
         "textposition": "top center",
         "type": "scatter",
         "x": {
          "bdata": "oIWW0EUu2z9T1eg6gRfXP186K1S9GN4/e9LodDXd3j/x2SR17s7rv/HZJHXuzuu/",
          "dtype": "f8"
         },
         "xaxis": "x",
         "y": {
          "bdata": "r2J30B8V3j/iDuoQHeTjvz6A4ZQqjcS/EjgwmQ6X0T/BGOoUCBWTP8EY6hQIFZM/",
          "dtype": "f8"
         },
         "yaxis": "y"
        }
       ],
       "layout": {
        "legend": {
         "tracegroupgap": 0
        },
        "template": {
         "data": {
          "bar": [
           {
            "error_x": {
             "color": "#2a3f5f"
            },
            "error_y": {
             "color": "#2a3f5f"
            },
            "marker": {
             "line": {
              "color": "#E5ECF6",
              "width": 0.5
             },
             "pattern": {
              "fillmode": "overlay",
              "size": 10,
              "solidity": 0.2
             }
            },
            "type": "bar"
           }
          ],
          "barpolar": [
           {
            "marker": {
             "line": {
              "color": "#E5ECF6",
              "width": 0.5
             },
             "pattern": {
              "fillmode": "overlay",
              "size": 10,
              "solidity": 0.2
             }
            },
            "type": "barpolar"
           }
          ],
          "carpet": [
           {
            "aaxis": {
             "endlinecolor": "#2a3f5f",
             "gridcolor": "white",
             "linecolor": "white",
             "minorgridcolor": "white",
             "startlinecolor": "#2a3f5f"
            },
            "baxis": {
             "endlinecolor": "#2a3f5f",
             "gridcolor": "white",
             "linecolor": "white",
             "minorgridcolor": "white",
             "startlinecolor": "#2a3f5f"
            },
            "type": "carpet"
           }
          ],
          "choropleth": [
           {
            "colorbar": {
             "outlinewidth": 0,
             "ticks": ""
            },
            "type": "choropleth"
           }
          ],
          "contour": [
           {
            "colorbar": {
             "outlinewidth": 0,
             "ticks": ""
            },
            "colorscale": [
             [
              0,
              "#0d0887"
             ],
             [
              0.1111111111111111,
              "#46039f"
             ],
             [
              0.2222222222222222,
              "#7201a8"
             ],
             [
              0.3333333333333333,
              "#9c179e"
             ],
             [
              0.4444444444444444,
              "#bd3786"
             ],
             [
              0.5555555555555556,
              "#d8576b"
             ],
             [
              0.6666666666666666,
              "#ed7953"
             ],
             [
              0.7777777777777778,
              "#fb9f3a"
             ],
             [
              0.8888888888888888,
              "#fdca26"
             ],
             [
              1,
              "#f0f921"
             ]
            ],
            "type": "contour"
           }
          ],
          "contourcarpet": [
           {
            "colorbar": {
             "outlinewidth": 0,
             "ticks": ""
            },
            "type": "contourcarpet"
           }
          ],
          "heatmap": [
           {
            "colorbar": {
             "outlinewidth": 0,
             "ticks": ""
            },
            "colorscale": [
             [
              0,
              "#0d0887"
             ],
             [
              0.1111111111111111,
              "#46039f"
             ],
             [
              0.2222222222222222,
              "#7201a8"
             ],
             [
              0.3333333333333333,
              "#9c179e"
             ],
             [
              0.4444444444444444,
              "#bd3786"
             ],
             [
              0.5555555555555556,
              "#d8576b"
             ],
             [
              0.6666666666666666,
              "#ed7953"
             ],
             [
              0.7777777777777778,
              "#fb9f3a"
             ],
             [
              0.8888888888888888,
              "#fdca26"
             ],
             [
              1,
              "#f0f921"
             ]
            ],
            "type": "heatmap"
           }
          ],
          "histogram": [
           {
            "marker": {
             "pattern": {
              "fillmode": "overlay",
              "size": 10,
              "solidity": 0.2
             }
            },
            "type": "histogram"
           }
          ],
          "histogram2d": [
           {
            "colorbar": {
             "outlinewidth": 0,
             "ticks": ""
            },
            "colorscale": [
             [
              0,
              "#0d0887"
             ],
             [
              0.1111111111111111,
              "#46039f"
             ],
             [
              0.2222222222222222,
              "#7201a8"
             ],
             [
              0.3333333333333333,
              "#9c179e"
             ],
             [
              0.4444444444444444,
              "#bd3786"
             ],
             [
              0.5555555555555556,
              "#d8576b"
             ],
             [
              0.6666666666666666,
              "#ed7953"
             ],
             [
              0.7777777777777778,
              "#fb9f3a"
             ],
             [
              0.8888888888888888,
              "#fdca26"
             ],
             [
              1,
              "#f0f921"
             ]
            ],
            "type": "histogram2d"
           }
          ],
          "histogram2dcontour": [
           {
            "colorbar": {
             "outlinewidth": 0,
             "ticks": ""
            },
            "colorscale": [
             [
              0,
              "#0d0887"
             ],
             [
              0.1111111111111111,
              "#46039f"
             ],
             [
              0.2222222222222222,
              "#7201a8"
             ],
             [
              0.3333333333333333,
              "#9c179e"
             ],
             [
              0.4444444444444444,
              "#bd3786"
             ],
             [
              0.5555555555555556,
              "#d8576b"
             ],
             [
              0.6666666666666666,
              "#ed7953"
             ],
             [
              0.7777777777777778,
              "#fb9f3a"
             ],
             [
              0.8888888888888888,
              "#fdca26"
             ],
             [
              1,
              "#f0f921"
             ]
            ],
            "type": "histogram2dcontour"
           }
          ],
          "mesh3d": [
           {
            "colorbar": {
             "outlinewidth": 0,
             "ticks": ""
            },
            "type": "mesh3d"
           }
          ],
          "parcoords": [
           {
            "line": {
             "colorbar": {
              "outlinewidth": 0,
              "ticks": ""
             }
            },
            "type": "parcoords"
           }
          ],
          "pie": [
           {
            "automargin": true,
            "type": "pie"
           }
          ],
          "scatter": [
           {
            "fillpattern": {
             "fillmode": "overlay",
             "size": 10,
             "solidity": 0.2
            },
            "type": "scatter"
           }
          ],
          "scatter3d": [
           {
            "line": {
             "colorbar": {
              "outlinewidth": 0,
              "ticks": ""
             }
            },
            "marker": {
             "colorbar": {
              "outlinewidth": 0,
              "ticks": ""
             }
            },
            "type": "scatter3d"
           }
          ],
          "scattercarpet": [
           {
            "marker": {
             "colorbar": {
              "outlinewidth": 0,
              "ticks": ""
             }
            },
            "type": "scattercarpet"
           }
          ],
          "scattergeo": [
           {
            "marker": {
             "colorbar": {
              "outlinewidth": 0,
              "ticks": ""
             }
            },
            "type": "scattergeo"
           }
          ],
          "scattergl": [
           {
            "marker": {
             "colorbar": {
              "outlinewidth": 0,
              "ticks": ""
             }
            },
            "type": "scattergl"
           }
          ],
          "scattermap": [
           {
            "marker": {
             "colorbar": {
              "outlinewidth": 0,
              "ticks": ""
             }
            },
            "type": "scattermap"
           }
          ],
          "scattermapbox": [
           {
            "marker": {
             "colorbar": {
              "outlinewidth": 0,
              "ticks": ""
             }
            },
            "type": "scattermapbox"
           }
          ],
          "scatterpolar": [
           {
            "marker": {
             "colorbar": {
              "outlinewidth": 0,
              "ticks": ""
             }
            },
            "type": "scatterpolar"
           }
          ],
          "scatterpolargl": [
           {
            "marker": {
             "colorbar": {
              "outlinewidth": 0,
              "ticks": ""
             }
            },
            "type": "scatterpolargl"
           }
          ],
          "scatterternary": [
           {
            "marker": {
             "colorbar": {
              "outlinewidth": 0,
              "ticks": ""
             }
            },
            "type": "scatterternary"
           }
          ],
          "surface": [
           {
            "colorbar": {
             "outlinewidth": 0,
             "ticks": ""
            },
            "colorscale": [
             [
              0,
              "#0d0887"
             ],
             [
              0.1111111111111111,
              "#46039f"
             ],
             [
              0.2222222222222222,
              "#7201a8"
             ],
             [
              0.3333333333333333,
              "#9c179e"
             ],
             [
              0.4444444444444444,
              "#bd3786"
             ],
             [
              0.5555555555555556,
              "#d8576b"
             ],
             [
              0.6666666666666666,
              "#ed7953"
             ],
             [
              0.7777777777777778,
              "#fb9f3a"
             ],
             [
              0.8888888888888888,
              "#fdca26"
             ],
             [
              1,
              "#f0f921"
             ]
            ],
            "type": "surface"
           }
          ],
          "table": [
           {
            "cells": {
             "fill": {
              "color": "#EBF0F8"
             },
             "line": {
              "color": "white"
             }
            },
            "header": {
             "fill": {
              "color": "#C8D4E3"
             },
             "line": {
              "color": "white"
             }
            },
            "type": "table"
           }
          ]
         },
         "layout": {
          "annotationdefaults": {
           "arrowcolor": "#2a3f5f",
           "arrowhead": 0,
           "arrowwidth": 1
          },
          "autotypenumbers": "strict",
          "coloraxis": {
           "colorbar": {
            "outlinewidth": 0,
            "ticks": ""
           }
          },
          "colorscale": {
           "diverging": [
            [
             0,
             "#8e0152"
            ],
            [
             0.1,
             "#c51b7d"
            ],
            [
             0.2,
             "#de77ae"
            ],
            [
             0.3,
             "#f1b6da"
            ],
            [
             0.4,
             "#fde0ef"
            ],
            [
             0.5,
             "#f7f7f7"
            ],
            [
             0.6,
             "#e6f5d0"
            ],
            [
             0.7,
             "#b8e186"
            ],
            [
             0.8,
             "#7fbc41"
            ],
            [
             0.9,
             "#4d9221"
            ],
            [
             1,
             "#276419"
            ]
           ],
           "sequential": [
            [
             0,
             "#0d0887"
            ],
            [
             0.1111111111111111,
             "#46039f"
            ],
            [
             0.2222222222222222,
             "#7201a8"
            ],
            [
             0.3333333333333333,
             "#9c179e"
            ],
            [
             0.4444444444444444,
             "#bd3786"
            ],
            [
             0.5555555555555556,
             "#d8576b"
            ],
            [
             0.6666666666666666,
             "#ed7953"
            ],
            [
             0.7777777777777778,
             "#fb9f3a"
            ],
            [
             0.8888888888888888,
             "#fdca26"
            ],
            [
             1,
             "#f0f921"
            ]
           ],
           "sequentialminus": [
            [
             0,
             "#0d0887"
            ],
            [
             0.1111111111111111,
             "#46039f"
            ],
            [
             0.2222222222222222,
             "#7201a8"
            ],
            [
             0.3333333333333333,
             "#9c179e"
            ],
            [
             0.4444444444444444,
             "#bd3786"
            ],
            [
             0.5555555555555556,
             "#d8576b"
            ],
            [
             0.6666666666666666,
             "#ed7953"
            ],
            [
             0.7777777777777778,
             "#fb9f3a"
            ],
            [
             0.8888888888888888,
             "#fdca26"
            ],
            [
             1,
             "#f0f921"
            ]
           ]
          },
          "colorway": [
           "#636efa",
           "#EF553B",
           "#00cc96",
           "#ab63fa",
           "#FFA15A",
           "#19d3f3",
           "#FF6692",
           "#B6E880",
           "#FF97FF",
           "#FECB52"
          ],
          "font": {
           "color": "#2a3f5f"
          },
          "geo": {
           "bgcolor": "white",
           "lakecolor": "white",
           "landcolor": "#E5ECF6",
           "showlakes": true,
           "showland": true,
           "subunitcolor": "white"
          },
          "hoverlabel": {
           "align": "left"
          },
          "hovermode": "closest",
          "mapbox": {
           "style": "light"
          },
          "paper_bgcolor": "white",
          "plot_bgcolor": "#E5ECF6",
          "polar": {
           "angularaxis": {
            "gridcolor": "white",
            "linecolor": "white",
            "ticks": ""
           },
           "bgcolor": "#E5ECF6",
           "radialaxis": {
            "gridcolor": "white",
            "linecolor": "white",
            "ticks": ""
           }
          },
          "scene": {
           "xaxis": {
            "backgroundcolor": "#E5ECF6",
            "gridcolor": "white",
            "gridwidth": 2,
            "linecolor": "white",
            "showbackground": true,
            "ticks": "",
            "zerolinecolor": "white"
           },
           "yaxis": {
            "backgroundcolor": "#E5ECF6",
            "gridcolor": "white",
            "gridwidth": 2,
            "linecolor": "white",
            "showbackground": true,
            "ticks": "",
            "zerolinecolor": "white"
           },
           "zaxis": {
            "backgroundcolor": "#E5ECF6",
            "gridcolor": "white",
            "gridwidth": 2,
            "linecolor": "white",
            "showbackground": true,
            "ticks": "",
            "zerolinecolor": "white"
           }
          },
          "shapedefaults": {
           "line": {
            "color": "#2a3f5f"
           }
          },
          "ternary": {
           "aaxis": {
            "gridcolor": "white",
            "linecolor": "white",
            "ticks": ""
           },
           "baxis": {
            "gridcolor": "white",
            "linecolor": "white",
            "ticks": ""
           },
           "bgcolor": "#E5ECF6",
           "caxis": {
            "gridcolor": "white",
            "linecolor": "white",
            "ticks": ""
           }
          },
          "title": {
           "x": 0.05
          },
          "xaxis": {
           "automargin": true,
           "gridcolor": "white",
           "linecolor": "white",
           "ticks": "",
           "title": {
            "standoff": 15
           },
           "zerolinecolor": "white",
           "zerolinewidth": 2
          },
          "yaxis": {
           "automargin": true,
           "gridcolor": "white",
           "linecolor": "white",
           "ticks": "",
           "title": {
            "standoff": 15
           },
           "zerolinecolor": "white",
           "zerolinewidth": 2
          }
         }
        },
        "title": {
         "text": "Localização dos nomes de citação - Professores com 'F'"
        },
        "xaxis": {
         "anchor": "y",
         "domain": [
          0,
          1
         ],
         "title": {
          "text": "PCA 1"
         }
        },
        "yaxis": {
         "anchor": "x",
         "domain": [
          0,
          1
         ],
         "title": {
          "text": "PCA 2"
         }
        }
       }
      }
     },
     "metadata": {},
     "output_type": "display_data"
    },
    {
     "name": "stdout",
     "output_type": "stream",
     "text": [
      "\n",
      "Professores e nomes de citação do grupo 'F':\n",
      "- Felipe Antonio Garcia Moreno  (PCA: 0.425, 0.470)\n",
      "    • MORENO, F. A. G.  (PCA: 0.361, -0.622)\n",
      "    • MORENO, FELIPE A. G.  (PCA: 0.470, -0.161)\n",
      "    • MORENO, FELIPE GARCIA  (PCA: 0.482, 0.275)\n",
      "- Francisco de Assis Coutinho Souto  (PCA: -0.869, 0.019)\n",
      "    • SOUTO, FRANCISCO DE ASSIS COUTINHO  (PCA: -0.869, 0.019)\n"
     ]
    },
    {
     "data": {
      "application/vnd.plotly.v1+json": {
       "config": {
        "plotlyServerURL": "https://plot.ly"
       },
       "data": [
        {
         "hovertemplate": "%{text}",
         "legendgroup": "",
         "marker": {
          "color": "#636efa",
          "size": 10,
          "symbol": "circle"
         },
         "mode": "markers+text",
         "name": "",
         "orientation": "v",
         "showlegend": false,
         "text": [
          "Gilberto Farias de Sousa Filho",
          "SOUSA FILHO, GILBERTO F.",
          "DE SOUSA FILHO, GILBERTO FARIAS",
          "SOUSA FILHO, G. F.",
          "DE SOUSA, GILBERTO F.",
          "SOUSA FILHO, GILBERTO FARIAS DE",
          "FILHO, GILBERTO FARIAS DE SOUSA",
          "DE SOUSA FILHO, GILBERTO F.",
          "Giorgia de Oliveira Mattos",
          "O. MATTOS, GIORGIA",
          "MATTOS, GIORGIA",
          "MATTOS, GIORGIA DE OLIVEIRA",
          "OLIVEIRA MATTOS, GIORGIA",
          "MATTOS, GIORGIA O.",
          "Glêdson Elias da Silveira",
          "ELIAS, G.",
          "ELIAS, GLEDSON",
          "Gustavo Charles Peixoto de Oliveira",
          "OLIVEIRA, G.",
          "PEIXOTO DE OLIVEIRA, GUSTAVO",
          "OLIVEIRA, GUSTAVO P.",
          "CHARLES PEIXOTO DE OLIVEIRA, GUSTAVO",
          "OLIVEIRA, G. P.",
          "PEIXOTO DE OLIVEIRA, GUSTAVO CHARLES",
          "OLIVEIRA, G. C. P.",
          "OLIVEIRA, GUSTAVO CHARLES",
          "OLIVEIRA, G.P.",
          "OLIVEIRA, GUSTAVO CHARLES PEIXOTO DE",
          "Gustavo Henrique Matos Bezerra Motta",
          "MOTTA, G. H. M. B.",
          "GUSTAVO MOTTA",
          "MOTTA, GUSTAVO H. M. B.",
          "MOTTA, GUSTAVO HENRIQUE MATOS BEZERRA",
          "MOTTA, GUSTAVO H.M.B.",
          "MOTTA, GUSTAVO",
          "MATOS BEZERRA MOTTA, GUSTAVO HENRIQUE"
         ],
         "textposition": "top center",
         "type": "scatter",
         "x": {
          "bdata": "XMEaIfbn6T+ftH+S5CfpP13BGiH25+k/5KqCRJ445T/u8JBmlgnlP2HBGiH25+k/X8EaIfbn6T8H+VuE/i7pPw+gsBzJmL2/e4AvrJVPnL9lgC+slU+cvxKgsBzJmL2/hnyDghWxyr9vgC+slU+cv3mSzsiF/Ks/HBtjJmK0rT8EfjavWQOtP3DfAl9bidO/AziXsygi2L8bS52DW9HRvxaePSkHz92/bt8CX1uJ078DOJezKCLYv3DfAl9bidO/AziXsygi2L838wPdbmzavwM4l7MoIti/bt8CX1uJ0790Phx1fLzHv2zt2qzPhsO/l+ePQeLu0r+X549B4u7Sv3Q+HHV8vMe/mOePQeLu0r+Y549B4u7Sv3Q+HHV8vMe/",
          "dtype": "f8"
         },
         "xaxis": "x",
         "y": {
          "bdata": "lnciRix8dz/y/mJ/LFqqP3R2IkYsfHc/KbxEjuZ4qj+wTWnXlfmPv2x2IkYsfHc/unYiRix8dz+rAQ7qNRZNv2+I88Ui2OK/rA6Kh5vr27+tDoqHm+vbv3KI88Ui2OK/TTyc6pEV47+tDoqHm+vbv/p5hsCuM6k/y/KB1cb6qj+w65gzd0WqP+X5VIBb072/+GSQzEax27+ni4YPOtW8v+MQeqULVq2/4/lUgFvTvb/4ZJDMRrHbv+b5VIBb072/+GSQzEax27+y9+IEwL2wv/hkkMxGsdu/5vlUgFvTvb+yUIClsubiPziKfXAwNeQ/xaANjzPK5j/FoA2PM8rmP7JQgKWy5uI/xKANjzPK5j/EoA2PM8rmP7BQgKWy5uI/",
          "dtype": "f8"
         },
         "yaxis": "y"
        }
       ],
       "layout": {
        "legend": {
         "tracegroupgap": 0
        },
        "template": {
         "data": {
          "bar": [
           {
            "error_x": {
             "color": "#2a3f5f"
            },
            "error_y": {
             "color": "#2a3f5f"
            },
            "marker": {
             "line": {
              "color": "#E5ECF6",
              "width": 0.5
             },
             "pattern": {
              "fillmode": "overlay",
              "size": 10,
              "solidity": 0.2
             }
            },
            "type": "bar"
           }
          ],
          "barpolar": [
           {
            "marker": {
             "line": {
              "color": "#E5ECF6",
              "width": 0.5
             },
             "pattern": {
              "fillmode": "overlay",
              "size": 10,
              "solidity": 0.2
             }
            },
            "type": "barpolar"
           }
          ],
          "carpet": [
           {
            "aaxis": {
             "endlinecolor": "#2a3f5f",
             "gridcolor": "white",
             "linecolor": "white",
             "minorgridcolor": "white",
             "startlinecolor": "#2a3f5f"
            },
            "baxis": {
             "endlinecolor": "#2a3f5f",
             "gridcolor": "white",
             "linecolor": "white",
             "minorgridcolor": "white",
             "startlinecolor": "#2a3f5f"
            },
            "type": "carpet"
           }
          ],
          "choropleth": [
           {
            "colorbar": {
             "outlinewidth": 0,
             "ticks": ""
            },
            "type": "choropleth"
           }
          ],
          "contour": [
           {
            "colorbar": {
             "outlinewidth": 0,
             "ticks": ""
            },
            "colorscale": [
             [
              0,
              "#0d0887"
             ],
             [
              0.1111111111111111,
              "#46039f"
             ],
             [
              0.2222222222222222,
              "#7201a8"
             ],
             [
              0.3333333333333333,
              "#9c179e"
             ],
             [
              0.4444444444444444,
              "#bd3786"
             ],
             [
              0.5555555555555556,
              "#d8576b"
             ],
             [
              0.6666666666666666,
              "#ed7953"
             ],
             [
              0.7777777777777778,
              "#fb9f3a"
             ],
             [
              0.8888888888888888,
              "#fdca26"
             ],
             [
              1,
              "#f0f921"
             ]
            ],
            "type": "contour"
           }
          ],
          "contourcarpet": [
           {
            "colorbar": {
             "outlinewidth": 0,
             "ticks": ""
            },
            "type": "contourcarpet"
           }
          ],
          "heatmap": [
           {
            "colorbar": {
             "outlinewidth": 0,
             "ticks": ""
            },
            "colorscale": [
             [
              0,
              "#0d0887"
             ],
             [
              0.1111111111111111,
              "#46039f"
             ],
             [
              0.2222222222222222,
              "#7201a8"
             ],
             [
              0.3333333333333333,
              "#9c179e"
             ],
             [
              0.4444444444444444,
              "#bd3786"
             ],
             [
              0.5555555555555556,
              "#d8576b"
             ],
             [
              0.6666666666666666,
              "#ed7953"
             ],
             [
              0.7777777777777778,
              "#fb9f3a"
             ],
             [
              0.8888888888888888,
              "#fdca26"
             ],
             [
              1,
              "#f0f921"
             ]
            ],
            "type": "heatmap"
           }
          ],
          "histogram": [
           {
            "marker": {
             "pattern": {
              "fillmode": "overlay",
              "size": 10,
              "solidity": 0.2
             }
            },
            "type": "histogram"
           }
          ],
          "histogram2d": [
           {
            "colorbar": {
             "outlinewidth": 0,
             "ticks": ""
            },
            "colorscale": [
             [
              0,
              "#0d0887"
             ],
             [
              0.1111111111111111,
              "#46039f"
             ],
             [
              0.2222222222222222,
              "#7201a8"
             ],
             [
              0.3333333333333333,
              "#9c179e"
             ],
             [
              0.4444444444444444,
              "#bd3786"
             ],
             [
              0.5555555555555556,
              "#d8576b"
             ],
             [
              0.6666666666666666,
              "#ed7953"
             ],
             [
              0.7777777777777778,
              "#fb9f3a"
             ],
             [
              0.8888888888888888,
              "#fdca26"
             ],
             [
              1,
              "#f0f921"
             ]
            ],
            "type": "histogram2d"
           }
          ],
          "histogram2dcontour": [
           {
            "colorbar": {
             "outlinewidth": 0,
             "ticks": ""
            },
            "colorscale": [
             [
              0,
              "#0d0887"
             ],
             [
              0.1111111111111111,
              "#46039f"
             ],
             [
              0.2222222222222222,
              "#7201a8"
             ],
             [
              0.3333333333333333,
              "#9c179e"
             ],
             [
              0.4444444444444444,
              "#bd3786"
             ],
             [
              0.5555555555555556,
              "#d8576b"
             ],
             [
              0.6666666666666666,
              "#ed7953"
             ],
             [
              0.7777777777777778,
              "#fb9f3a"
             ],
             [
              0.8888888888888888,
              "#fdca26"
             ],
             [
              1,
              "#f0f921"
             ]
            ],
            "type": "histogram2dcontour"
           }
          ],
          "mesh3d": [
           {
            "colorbar": {
             "outlinewidth": 0,
             "ticks": ""
            },
            "type": "mesh3d"
           }
          ],
          "parcoords": [
           {
            "line": {
             "colorbar": {
              "outlinewidth": 0,
              "ticks": ""
             }
            },
            "type": "parcoords"
           }
          ],
          "pie": [
           {
            "automargin": true,
            "type": "pie"
           }
          ],
          "scatter": [
           {
            "fillpattern": {
             "fillmode": "overlay",
             "size": 10,
             "solidity": 0.2
            },
            "type": "scatter"
           }
          ],
          "scatter3d": [
           {
            "line": {
             "colorbar": {
              "outlinewidth": 0,
              "ticks": ""
             }
            },
            "marker": {
             "colorbar": {
              "outlinewidth": 0,
              "ticks": ""
             }
            },
            "type": "scatter3d"
           }
          ],
          "scattercarpet": [
           {
            "marker": {
             "colorbar": {
              "outlinewidth": 0,
              "ticks": ""
             }
            },
            "type": "scattercarpet"
           }
          ],
          "scattergeo": [
           {
            "marker": {
             "colorbar": {
              "outlinewidth": 0,
              "ticks": ""
             }
            },
            "type": "scattergeo"
           }
          ],
          "scattergl": [
           {
            "marker": {
             "colorbar": {
              "outlinewidth": 0,
              "ticks": ""
             }
            },
            "type": "scattergl"
           }
          ],
          "scattermap": [
           {
            "marker": {
             "colorbar": {
              "outlinewidth": 0,
              "ticks": ""
             }
            },
            "type": "scattermap"
           }
          ],
          "scattermapbox": [
           {
            "marker": {
             "colorbar": {
              "outlinewidth": 0,
              "ticks": ""
             }
            },
            "type": "scattermapbox"
           }
          ],
          "scatterpolar": [
           {
            "marker": {
             "colorbar": {
              "outlinewidth": 0,
              "ticks": ""
             }
            },
            "type": "scatterpolar"
           }
          ],
          "scatterpolargl": [
           {
            "marker": {
             "colorbar": {
              "outlinewidth": 0,
              "ticks": ""
             }
            },
            "type": "scatterpolargl"
           }
          ],
          "scatterternary": [
           {
            "marker": {
             "colorbar": {
              "outlinewidth": 0,
              "ticks": ""
             }
            },
            "type": "scatterternary"
           }
          ],
          "surface": [
           {
            "colorbar": {
             "outlinewidth": 0,
             "ticks": ""
            },
            "colorscale": [
             [
              0,
              "#0d0887"
             ],
             [
              0.1111111111111111,
              "#46039f"
             ],
             [
              0.2222222222222222,
              "#7201a8"
             ],
             [
              0.3333333333333333,
              "#9c179e"
             ],
             [
              0.4444444444444444,
              "#bd3786"
             ],
             [
              0.5555555555555556,
              "#d8576b"
             ],
             [
              0.6666666666666666,
              "#ed7953"
             ],
             [
              0.7777777777777778,
              "#fb9f3a"
             ],
             [
              0.8888888888888888,
              "#fdca26"
             ],
             [
              1,
              "#f0f921"
             ]
            ],
            "type": "surface"
           }
          ],
          "table": [
           {
            "cells": {
             "fill": {
              "color": "#EBF0F8"
             },
             "line": {
              "color": "white"
             }
            },
            "header": {
             "fill": {
              "color": "#C8D4E3"
             },
             "line": {
              "color": "white"
             }
            },
            "type": "table"
           }
          ]
         },
         "layout": {
          "annotationdefaults": {
           "arrowcolor": "#2a3f5f",
           "arrowhead": 0,
           "arrowwidth": 1
          },
          "autotypenumbers": "strict",
          "coloraxis": {
           "colorbar": {
            "outlinewidth": 0,
            "ticks": ""
           }
          },
          "colorscale": {
           "diverging": [
            [
             0,
             "#8e0152"
            ],
            [
             0.1,
             "#c51b7d"
            ],
            [
             0.2,
             "#de77ae"
            ],
            [
             0.3,
             "#f1b6da"
            ],
            [
             0.4,
             "#fde0ef"
            ],
            [
             0.5,
             "#f7f7f7"
            ],
            [
             0.6,
             "#e6f5d0"
            ],
            [
             0.7,
             "#b8e186"
            ],
            [
             0.8,
             "#7fbc41"
            ],
            [
             0.9,
             "#4d9221"
            ],
            [
             1,
             "#276419"
            ]
           ],
           "sequential": [
            [
             0,
             "#0d0887"
            ],
            [
             0.1111111111111111,
             "#46039f"
            ],
            [
             0.2222222222222222,
             "#7201a8"
            ],
            [
             0.3333333333333333,
             "#9c179e"
            ],
            [
             0.4444444444444444,
             "#bd3786"
            ],
            [
             0.5555555555555556,
             "#d8576b"
            ],
            [
             0.6666666666666666,
             "#ed7953"
            ],
            [
             0.7777777777777778,
             "#fb9f3a"
            ],
            [
             0.8888888888888888,
             "#fdca26"
            ],
            [
             1,
             "#f0f921"
            ]
           ],
           "sequentialminus": [
            [
             0,
             "#0d0887"
            ],
            [
             0.1111111111111111,
             "#46039f"
            ],
            [
             0.2222222222222222,
             "#7201a8"
            ],
            [
             0.3333333333333333,
             "#9c179e"
            ],
            [
             0.4444444444444444,
             "#bd3786"
            ],
            [
             0.5555555555555556,
             "#d8576b"
            ],
            [
             0.6666666666666666,
             "#ed7953"
            ],
            [
             0.7777777777777778,
             "#fb9f3a"
            ],
            [
             0.8888888888888888,
             "#fdca26"
            ],
            [
             1,
             "#f0f921"
            ]
           ]
          },
          "colorway": [
           "#636efa",
           "#EF553B",
           "#00cc96",
           "#ab63fa",
           "#FFA15A",
           "#19d3f3",
           "#FF6692",
           "#B6E880",
           "#FF97FF",
           "#FECB52"
          ],
          "font": {
           "color": "#2a3f5f"
          },
          "geo": {
           "bgcolor": "white",
           "lakecolor": "white",
           "landcolor": "#E5ECF6",
           "showlakes": true,
           "showland": true,
           "subunitcolor": "white"
          },
          "hoverlabel": {
           "align": "left"
          },
          "hovermode": "closest",
          "mapbox": {
           "style": "light"
          },
          "paper_bgcolor": "white",
          "plot_bgcolor": "#E5ECF6",
          "polar": {
           "angularaxis": {
            "gridcolor": "white",
            "linecolor": "white",
            "ticks": ""
           },
           "bgcolor": "#E5ECF6",
           "radialaxis": {
            "gridcolor": "white",
            "linecolor": "white",
            "ticks": ""
           }
          },
          "scene": {
           "xaxis": {
            "backgroundcolor": "#E5ECF6",
            "gridcolor": "white",
            "gridwidth": 2,
            "linecolor": "white",
            "showbackground": true,
            "ticks": "",
            "zerolinecolor": "white"
           },
           "yaxis": {
            "backgroundcolor": "#E5ECF6",
            "gridcolor": "white",
            "gridwidth": 2,
            "linecolor": "white",
            "showbackground": true,
            "ticks": "",
            "zerolinecolor": "white"
           },
           "zaxis": {
            "backgroundcolor": "#E5ECF6",
            "gridcolor": "white",
            "gridwidth": 2,
            "linecolor": "white",
            "showbackground": true,
            "ticks": "",
            "zerolinecolor": "white"
           }
          },
          "shapedefaults": {
           "line": {
            "color": "#2a3f5f"
           }
          },
          "ternary": {
           "aaxis": {
            "gridcolor": "white",
            "linecolor": "white",
            "ticks": ""
           },
           "baxis": {
            "gridcolor": "white",
            "linecolor": "white",
            "ticks": ""
           },
           "bgcolor": "#E5ECF6",
           "caxis": {
            "gridcolor": "white",
            "linecolor": "white",
            "ticks": ""
           }
          },
          "title": {
           "x": 0.05
          },
          "xaxis": {
           "automargin": true,
           "gridcolor": "white",
           "linecolor": "white",
           "ticks": "",
           "title": {
            "standoff": 15
           },
           "zerolinecolor": "white",
           "zerolinewidth": 2
          },
          "yaxis": {
           "automargin": true,
           "gridcolor": "white",
           "linecolor": "white",
           "ticks": "",
           "title": {
            "standoff": 15
           },
           "zerolinecolor": "white",
           "zerolinewidth": 2
          }
         }
        },
        "title": {
         "text": "Localização dos nomes de citação - Professores com 'G'"
        },
        "xaxis": {
         "anchor": "y",
         "domain": [
          0,
          1
         ],
         "title": {
          "text": "PCA 1"
         }
        },
        "yaxis": {
         "anchor": "x",
         "domain": [
          0,
          1
         ],
         "title": {
          "text": "PCA 2"
         }
        }
       }
      }
     },
     "metadata": {},
     "output_type": "display_data"
    },
    {
     "name": "stdout",
     "output_type": "stream",
     "text": [
      "\n",
      "Professores e nomes de citação do grupo 'G':\n",
      "- Gilberto Farias de Sousa Filho  (PCA: 0.810, 0.006)\n",
      "    • SOUSA FILHO, GILBERTO F.  (PCA: 0.786, 0.051)\n",
      "    • DE SOUSA FILHO, GILBERTO FARIAS  (PCA: 0.810, 0.006)\n",
      "    • SOUSA FILHO, G. F.  (PCA: 0.663, 0.052)\n",
      "    • DE SOUSA, GILBERTO F.  (PCA: 0.657, -0.016)\n",
      "    • SOUSA FILHO, GILBERTO FARIAS DE  (PCA: 0.810, 0.006)\n",
      "    • FILHO, GILBERTO FARIAS DE SOUSA  (PCA: 0.810, 0.006)\n",
      "    • DE SOUSA FILHO, GILBERTO F.  (PCA: 0.787, -0.001)\n",
      "- Giorgia de Oliveira Mattos  (PCA: -0.116, -0.589)\n",
      "    • O. MATTOS, GIORGIA  (PCA: -0.028, -0.436)\n",
      "    • MATTOS, GIORGIA  (PCA: -0.028, -0.436)\n",
      "    • MATTOS, GIORGIA DE OLIVEIRA  (PCA: -0.116, -0.589)\n",
      "    • OLIVEIRA MATTOS, GIORGIA  (PCA: -0.209, -0.596)\n",
      "    • MATTOS, GIORGIA O.  (PCA: -0.028, -0.436)\n",
      "- Glêdson Elias da Silveira  (PCA: 0.055, 0.049)\n",
      "    • ELIAS, G.  (PCA: 0.058, 0.053)\n",
      "    • ELIAS, GLEDSON  (PCA: 0.057, 0.051)\n",
      "- Gustavo Charles Peixoto de Oliveira  (PCA: -0.305, -0.117)\n",
      "    • OLIVEIRA, G.  (PCA: -0.377, -0.433)\n",
      "    • PEIXOTO DE OLIVEIRA, GUSTAVO  (PCA: -0.278, -0.113)\n",
      "    • OLIVEIRA, GUSTAVO P.  (PCA: -0.466, -0.057)\n",
      "    • CHARLES PEIXOTO DE OLIVEIRA, GUSTAVO  (PCA: -0.305, -0.117)\n",
      "    • OLIVEIRA, G. P.  (PCA: -0.377, -0.433)\n",
      "    • PEIXOTO DE OLIVEIRA, GUSTAVO CHARLES  (PCA: -0.305, -0.117)\n",
      "    • OLIVEIRA, G. C. P.  (PCA: -0.377, -0.433)\n",
      "    • OLIVEIRA, GUSTAVO CHARLES  (PCA: -0.413, -0.065)\n",
      "    • OLIVEIRA, G.P.  (PCA: -0.377, -0.433)\n",
      "    • OLIVEIRA, GUSTAVO CHARLES PEIXOTO DE  (PCA: -0.305, -0.117)\n",
      "- Gustavo Henrique Matos Bezerra Motta  (PCA: -0.185, 0.591)\n",
      "    • MOTTA, G. H. M. B.  (PCA: -0.153, 0.631)\n",
      "    • GUSTAVO MOTTA  (PCA: -0.296, 0.712)\n",
      "    • MOTTA, GUSTAVO H. M. B.  (PCA: -0.296, 0.712)\n",
      "    • MOTTA, GUSTAVO HENRIQUE MATOS BEZERRA  (PCA: -0.185, 0.591)\n",
      "    • MOTTA, GUSTAVO H.M.B.  (PCA: -0.296, 0.712)\n",
      "    • MOTTA, GUSTAVO  (PCA: -0.296, 0.712)\n",
      "    • MATOS BEZERRA MOTTA, GUSTAVO HENRIQUE  (PCA: -0.185, 0.591)\n"
     ]
    },
    {
     "data": {
      "application/vnd.plotly.v1+json": {
       "config": {
        "plotlyServerURL": "https://plot.ly"
       },
       "data": [
        {
         "hovertemplate": "%{text}",
         "legendgroup": "",
         "marker": {
          "color": "#636efa",
          "size": 10,
          "symbol": "circle"
         },
         "mode": "markers+text",
         "name": "",
         "orientation": "v",
         "showlegend": false,
         "text": [
          "José Miguel Aroztegui Massera",
          "AROZTEGUI, M.",
          "AROZTEGUI, MIGUEL",
          "AROZTEGUI, JOSÉ MIGUEL"
         ],
         "textposition": "top center",
         "type": "scatter",
         "x": {
          "bdata": "7ZP7UueQ3z9nfBmvKgPkv7Pnek/xkcS/vdj0sma+0j8=",
          "dtype": "f8"
         },
         "xaxis": "x",
         "y": {
          "bdata": "bGHT4+/k0r889DSn8MjQv12H+oiXotk/kZwbBJIWxD8=",
          "dtype": "f8"
         },
         "yaxis": "y"
        }
       ],
       "layout": {
        "legend": {
         "tracegroupgap": 0
        },
        "template": {
         "data": {
          "bar": [
           {
            "error_x": {
             "color": "#2a3f5f"
            },
            "error_y": {
             "color": "#2a3f5f"
            },
            "marker": {
             "line": {
              "color": "#E5ECF6",
              "width": 0.5
             },
             "pattern": {
              "fillmode": "overlay",
              "size": 10,
              "solidity": 0.2
             }
            },
            "type": "bar"
           }
          ],
          "barpolar": [
           {
            "marker": {
             "line": {
              "color": "#E5ECF6",
              "width": 0.5
             },
             "pattern": {
              "fillmode": "overlay",
              "size": 10,
              "solidity": 0.2
             }
            },
            "type": "barpolar"
           }
          ],
          "carpet": [
           {
            "aaxis": {
             "endlinecolor": "#2a3f5f",
             "gridcolor": "white",
             "linecolor": "white",
             "minorgridcolor": "white",
             "startlinecolor": "#2a3f5f"
            },
            "baxis": {
             "endlinecolor": "#2a3f5f",
             "gridcolor": "white",
             "linecolor": "white",
             "minorgridcolor": "white",
             "startlinecolor": "#2a3f5f"
            },
            "type": "carpet"
           }
          ],
          "choropleth": [
           {
            "colorbar": {
             "outlinewidth": 0,
             "ticks": ""
            },
            "type": "choropleth"
           }
          ],
          "contour": [
           {
            "colorbar": {
             "outlinewidth": 0,
             "ticks": ""
            },
            "colorscale": [
             [
              0,
              "#0d0887"
             ],
             [
              0.1111111111111111,
              "#46039f"
             ],
             [
              0.2222222222222222,
              "#7201a8"
             ],
             [
              0.3333333333333333,
              "#9c179e"
             ],
             [
              0.4444444444444444,
              "#bd3786"
             ],
             [
              0.5555555555555556,
              "#d8576b"
             ],
             [
              0.6666666666666666,
              "#ed7953"
             ],
             [
              0.7777777777777778,
              "#fb9f3a"
             ],
             [
              0.8888888888888888,
              "#fdca26"
             ],
             [
              1,
              "#f0f921"
             ]
            ],
            "type": "contour"
           }
          ],
          "contourcarpet": [
           {
            "colorbar": {
             "outlinewidth": 0,
             "ticks": ""
            },
            "type": "contourcarpet"
           }
          ],
          "heatmap": [
           {
            "colorbar": {
             "outlinewidth": 0,
             "ticks": ""
            },
            "colorscale": [
             [
              0,
              "#0d0887"
             ],
             [
              0.1111111111111111,
              "#46039f"
             ],
             [
              0.2222222222222222,
              "#7201a8"
             ],
             [
              0.3333333333333333,
              "#9c179e"
             ],
             [
              0.4444444444444444,
              "#bd3786"
             ],
             [
              0.5555555555555556,
              "#d8576b"
             ],
             [
              0.6666666666666666,
              "#ed7953"
             ],
             [
              0.7777777777777778,
              "#fb9f3a"
             ],
             [
              0.8888888888888888,
              "#fdca26"
             ],
             [
              1,
              "#f0f921"
             ]
            ],
            "type": "heatmap"
           }
          ],
          "histogram": [
           {
            "marker": {
             "pattern": {
              "fillmode": "overlay",
              "size": 10,
              "solidity": 0.2
             }
            },
            "type": "histogram"
           }
          ],
          "histogram2d": [
           {
            "colorbar": {
             "outlinewidth": 0,
             "ticks": ""
            },
            "colorscale": [
             [
              0,
              "#0d0887"
             ],
             [
              0.1111111111111111,
              "#46039f"
             ],
             [
              0.2222222222222222,
              "#7201a8"
             ],
             [
              0.3333333333333333,
              "#9c179e"
             ],
             [
              0.4444444444444444,
              "#bd3786"
             ],
             [
              0.5555555555555556,
              "#d8576b"
             ],
             [
              0.6666666666666666,
              "#ed7953"
             ],
             [
              0.7777777777777778,
              "#fb9f3a"
             ],
             [
              0.8888888888888888,
              "#fdca26"
             ],
             [
              1,
              "#f0f921"
             ]
            ],
            "type": "histogram2d"
           }
          ],
          "histogram2dcontour": [
           {
            "colorbar": {
             "outlinewidth": 0,
             "ticks": ""
            },
            "colorscale": [
             [
              0,
              "#0d0887"
             ],
             [
              0.1111111111111111,
              "#46039f"
             ],
             [
              0.2222222222222222,
              "#7201a8"
             ],
             [
              0.3333333333333333,
              "#9c179e"
             ],
             [
              0.4444444444444444,
              "#bd3786"
             ],
             [
              0.5555555555555556,
              "#d8576b"
             ],
             [
              0.6666666666666666,
              "#ed7953"
             ],
             [
              0.7777777777777778,
              "#fb9f3a"
             ],
             [
              0.8888888888888888,
              "#fdca26"
             ],
             [
              1,
              "#f0f921"
             ]
            ],
            "type": "histogram2dcontour"
           }
          ],
          "mesh3d": [
           {
            "colorbar": {
             "outlinewidth": 0,
             "ticks": ""
            },
            "type": "mesh3d"
           }
          ],
          "parcoords": [
           {
            "line": {
             "colorbar": {
              "outlinewidth": 0,
              "ticks": ""
             }
            },
            "type": "parcoords"
           }
          ],
          "pie": [
           {
            "automargin": true,
            "type": "pie"
           }
          ],
          "scatter": [
           {
            "fillpattern": {
             "fillmode": "overlay",
             "size": 10,
             "solidity": 0.2
            },
            "type": "scatter"
           }
          ],
          "scatter3d": [
           {
            "line": {
             "colorbar": {
              "outlinewidth": 0,
              "ticks": ""
             }
            },
            "marker": {
             "colorbar": {
              "outlinewidth": 0,
              "ticks": ""
             }
            },
            "type": "scatter3d"
           }
          ],
          "scattercarpet": [
           {
            "marker": {
             "colorbar": {
              "outlinewidth": 0,
              "ticks": ""
             }
            },
            "type": "scattercarpet"
           }
          ],
          "scattergeo": [
           {
            "marker": {
             "colorbar": {
              "outlinewidth": 0,
              "ticks": ""
             }
            },
            "type": "scattergeo"
           }
          ],
          "scattergl": [
           {
            "marker": {
             "colorbar": {
              "outlinewidth": 0,
              "ticks": ""
             }
            },
            "type": "scattergl"
           }
          ],
          "scattermap": [
           {
            "marker": {
             "colorbar": {
              "outlinewidth": 0,
              "ticks": ""
             }
            },
            "type": "scattermap"
           }
          ],
          "scattermapbox": [
           {
            "marker": {
             "colorbar": {
              "outlinewidth": 0,
              "ticks": ""
             }
            },
            "type": "scattermapbox"
           }
          ],
          "scatterpolar": [
           {
            "marker": {
             "colorbar": {
              "outlinewidth": 0,
              "ticks": ""
             }
            },
            "type": "scatterpolar"
           }
          ],
          "scatterpolargl": [
           {
            "marker": {
             "colorbar": {
              "outlinewidth": 0,
              "ticks": ""
             }
            },
            "type": "scatterpolargl"
           }
          ],
          "scatterternary": [
           {
            "marker": {
             "colorbar": {
              "outlinewidth": 0,
              "ticks": ""
             }
            },
            "type": "scatterternary"
           }
          ],
          "surface": [
           {
            "colorbar": {
             "outlinewidth": 0,
             "ticks": ""
            },
            "colorscale": [
             [
              0,
              "#0d0887"
             ],
             [
              0.1111111111111111,
              "#46039f"
             ],
             [
              0.2222222222222222,
              "#7201a8"
             ],
             [
              0.3333333333333333,
              "#9c179e"
             ],
             [
              0.4444444444444444,
              "#bd3786"
             ],
             [
              0.5555555555555556,
              "#d8576b"
             ],
             [
              0.6666666666666666,
              "#ed7953"
             ],
             [
              0.7777777777777778,
              "#fb9f3a"
             ],
             [
              0.8888888888888888,
              "#fdca26"
             ],
             [
              1,
              "#f0f921"
             ]
            ],
            "type": "surface"
           }
          ],
          "table": [
           {
            "cells": {
             "fill": {
              "color": "#EBF0F8"
             },
             "line": {
              "color": "white"
             }
            },
            "header": {
             "fill": {
              "color": "#C8D4E3"
             },
             "line": {
              "color": "white"
             }
            },
            "type": "table"
           }
          ]
         },
         "layout": {
          "annotationdefaults": {
           "arrowcolor": "#2a3f5f",
           "arrowhead": 0,
           "arrowwidth": 1
          },
          "autotypenumbers": "strict",
          "coloraxis": {
           "colorbar": {
            "outlinewidth": 0,
            "ticks": ""
           }
          },
          "colorscale": {
           "diverging": [
            [
             0,
             "#8e0152"
            ],
            [
             0.1,
             "#c51b7d"
            ],
            [
             0.2,
             "#de77ae"
            ],
            [
             0.3,
             "#f1b6da"
            ],
            [
             0.4,
             "#fde0ef"
            ],
            [
             0.5,
             "#f7f7f7"
            ],
            [
             0.6,
             "#e6f5d0"
            ],
            [
             0.7,
             "#b8e186"
            ],
            [
             0.8,
             "#7fbc41"
            ],
            [
             0.9,
             "#4d9221"
            ],
            [
             1,
             "#276419"
            ]
           ],
           "sequential": [
            [
             0,
             "#0d0887"
            ],
            [
             0.1111111111111111,
             "#46039f"
            ],
            [
             0.2222222222222222,
             "#7201a8"
            ],
            [
             0.3333333333333333,
             "#9c179e"
            ],
            [
             0.4444444444444444,
             "#bd3786"
            ],
            [
             0.5555555555555556,
             "#d8576b"
            ],
            [
             0.6666666666666666,
             "#ed7953"
            ],
            [
             0.7777777777777778,
             "#fb9f3a"
            ],
            [
             0.8888888888888888,
             "#fdca26"
            ],
            [
             1,
             "#f0f921"
            ]
           ],
           "sequentialminus": [
            [
             0,
             "#0d0887"
            ],
            [
             0.1111111111111111,
             "#46039f"
            ],
            [
             0.2222222222222222,
             "#7201a8"
            ],
            [
             0.3333333333333333,
             "#9c179e"
            ],
            [
             0.4444444444444444,
             "#bd3786"
            ],
            [
             0.5555555555555556,
             "#d8576b"
            ],
            [
             0.6666666666666666,
             "#ed7953"
            ],
            [
             0.7777777777777778,
             "#fb9f3a"
            ],
            [
             0.8888888888888888,
             "#fdca26"
            ],
            [
             1,
             "#f0f921"
            ]
           ]
          },
          "colorway": [
           "#636efa",
           "#EF553B",
           "#00cc96",
           "#ab63fa",
           "#FFA15A",
           "#19d3f3",
           "#FF6692",
           "#B6E880",
           "#FF97FF",
           "#FECB52"
          ],
          "font": {
           "color": "#2a3f5f"
          },
          "geo": {
           "bgcolor": "white",
           "lakecolor": "white",
           "landcolor": "#E5ECF6",
           "showlakes": true,
           "showland": true,
           "subunitcolor": "white"
          },
          "hoverlabel": {
           "align": "left"
          },
          "hovermode": "closest",
          "mapbox": {
           "style": "light"
          },
          "paper_bgcolor": "white",
          "plot_bgcolor": "#E5ECF6",
          "polar": {
           "angularaxis": {
            "gridcolor": "white",
            "linecolor": "white",
            "ticks": ""
           },
           "bgcolor": "#E5ECF6",
           "radialaxis": {
            "gridcolor": "white",
            "linecolor": "white",
            "ticks": ""
           }
          },
          "scene": {
           "xaxis": {
            "backgroundcolor": "#E5ECF6",
            "gridcolor": "white",
            "gridwidth": 2,
            "linecolor": "white",
            "showbackground": true,
            "ticks": "",
            "zerolinecolor": "white"
           },
           "yaxis": {
            "backgroundcolor": "#E5ECF6",
            "gridcolor": "white",
            "gridwidth": 2,
            "linecolor": "white",
            "showbackground": true,
            "ticks": "",
            "zerolinecolor": "white"
           },
           "zaxis": {
            "backgroundcolor": "#E5ECF6",
            "gridcolor": "white",
            "gridwidth": 2,
            "linecolor": "white",
            "showbackground": true,
            "ticks": "",
            "zerolinecolor": "white"
           }
          },
          "shapedefaults": {
           "line": {
            "color": "#2a3f5f"
           }
          },
          "ternary": {
           "aaxis": {
            "gridcolor": "white",
            "linecolor": "white",
            "ticks": ""
           },
           "baxis": {
            "gridcolor": "white",
            "linecolor": "white",
            "ticks": ""
           },
           "bgcolor": "#E5ECF6",
           "caxis": {
            "gridcolor": "white",
            "linecolor": "white",
            "ticks": ""
           }
          },
          "title": {
           "x": 0.05
          },
          "xaxis": {
           "automargin": true,
           "gridcolor": "white",
           "linecolor": "white",
           "ticks": "",
           "title": {
            "standoff": 15
           },
           "zerolinecolor": "white",
           "zerolinewidth": 2
          },
          "yaxis": {
           "automargin": true,
           "gridcolor": "white",
           "linecolor": "white",
           "ticks": "",
           "title": {
            "standoff": 15
           },
           "zerolinecolor": "white",
           "zerolinewidth": 2
          }
         }
        },
        "title": {
         "text": "Localização dos nomes de citação - Professores com 'J'"
        },
        "xaxis": {
         "anchor": "y",
         "domain": [
          0,
          1
         ],
         "title": {
          "text": "PCA 1"
         }
        },
        "yaxis": {
         "anchor": "x",
         "domain": [
          0,
          1
         ],
         "title": {
          "text": "PCA 2"
         }
        }
       }
      }
     },
     "metadata": {},
     "output_type": "display_data"
    },
    {
     "name": "stdout",
     "output_type": "stream",
     "text": [
      "\n",
      "Professores e nomes de citação do grupo 'J':\n",
      "- José Miguel Aroztegui Massera  (PCA: 0.493, -0.295)\n",
      "    • AROZTEGUI, M.  (PCA: -0.625, -0.262)\n",
      "    • AROZTEGUI, MIGUEL  (PCA: -0.161, 0.401)\n",
      "    • AROZTEGUI, JOSÉ MIGUEL  (PCA: 0.293, 0.157)\n"
     ]
    },
    {
     "data": {
      "application/vnd.plotly.v1+json": {
       "config": {
        "plotlyServerURL": "https://plot.ly"
       },
       "data": [
        {
         "hovertemplate": "%{text}",
         "legendgroup": "",
         "marker": {
          "color": "#636efa",
          "size": 10,
          "symbol": "circle"
         },
         "mode": "markers+text",
         "name": "",
         "orientation": "v",
         "showlegend": false,
         "text": [
          "Kely Diana Villacorta Villacorta",
          "VILLACORTA, K. D. V.",
          "VILLACORTA, KELY DIANA",
          "VILLACORTA, KELY D. V.",
          "VILLACORTA, KELY D.V."
         ],
         "textposition": "top center",
         "type": "scatter",
         "x": {
          "bdata": "t+NhIVtj0D+TzD6PNjHfv6Ktp24GwuA/YHJybzG2wr9gcnJvMbbCvw==",
          "dtype": "f8"
         },
         "xaxis": "x",
         "y": {
          "bdata": "yyanC2eTyb9F8y+Xl5javwyaVHxbeLe/lFYM/jCg1j+UVgz+MKDWPw==",
          "dtype": "f8"
         },
         "yaxis": "y"
        }
       ],
       "layout": {
        "legend": {
         "tracegroupgap": 0
        },
        "template": {
         "data": {
          "bar": [
           {
            "error_x": {
             "color": "#2a3f5f"
            },
            "error_y": {
             "color": "#2a3f5f"
            },
            "marker": {
             "line": {
              "color": "#E5ECF6",
              "width": 0.5
             },
             "pattern": {
              "fillmode": "overlay",
              "size": 10,
              "solidity": 0.2
             }
            },
            "type": "bar"
           }
          ],
          "barpolar": [
           {
            "marker": {
             "line": {
              "color": "#E5ECF6",
              "width": 0.5
             },
             "pattern": {
              "fillmode": "overlay",
              "size": 10,
              "solidity": 0.2
             }
            },
            "type": "barpolar"
           }
          ],
          "carpet": [
           {
            "aaxis": {
             "endlinecolor": "#2a3f5f",
             "gridcolor": "white",
             "linecolor": "white",
             "minorgridcolor": "white",
             "startlinecolor": "#2a3f5f"
            },
            "baxis": {
             "endlinecolor": "#2a3f5f",
             "gridcolor": "white",
             "linecolor": "white",
             "minorgridcolor": "white",
             "startlinecolor": "#2a3f5f"
            },
            "type": "carpet"
           }
          ],
          "choropleth": [
           {
            "colorbar": {
             "outlinewidth": 0,
             "ticks": ""
            },
            "type": "choropleth"
           }
          ],
          "contour": [
           {
            "colorbar": {
             "outlinewidth": 0,
             "ticks": ""
            },
            "colorscale": [
             [
              0,
              "#0d0887"
             ],
             [
              0.1111111111111111,
              "#46039f"
             ],
             [
              0.2222222222222222,
              "#7201a8"
             ],
             [
              0.3333333333333333,
              "#9c179e"
             ],
             [
              0.4444444444444444,
              "#bd3786"
             ],
             [
              0.5555555555555556,
              "#d8576b"
             ],
             [
              0.6666666666666666,
              "#ed7953"
             ],
             [
              0.7777777777777778,
              "#fb9f3a"
             ],
             [
              0.8888888888888888,
              "#fdca26"
             ],
             [
              1,
              "#f0f921"
             ]
            ],
            "type": "contour"
           }
          ],
          "contourcarpet": [
           {
            "colorbar": {
             "outlinewidth": 0,
             "ticks": ""
            },
            "type": "contourcarpet"
           }
          ],
          "heatmap": [
           {
            "colorbar": {
             "outlinewidth": 0,
             "ticks": ""
            },
            "colorscale": [
             [
              0,
              "#0d0887"
             ],
             [
              0.1111111111111111,
              "#46039f"
             ],
             [
              0.2222222222222222,
              "#7201a8"
             ],
             [
              0.3333333333333333,
              "#9c179e"
             ],
             [
              0.4444444444444444,
              "#bd3786"
             ],
             [
              0.5555555555555556,
              "#d8576b"
             ],
             [
              0.6666666666666666,
              "#ed7953"
             ],
             [
              0.7777777777777778,
              "#fb9f3a"
             ],
             [
              0.8888888888888888,
              "#fdca26"
             ],
             [
              1,
              "#f0f921"
             ]
            ],
            "type": "heatmap"
           }
          ],
          "histogram": [
           {
            "marker": {
             "pattern": {
              "fillmode": "overlay",
              "size": 10,
              "solidity": 0.2
             }
            },
            "type": "histogram"
           }
          ],
          "histogram2d": [
           {
            "colorbar": {
             "outlinewidth": 0,
             "ticks": ""
            },
            "colorscale": [
             [
              0,
              "#0d0887"
             ],
             [
              0.1111111111111111,
              "#46039f"
             ],
             [
              0.2222222222222222,
              "#7201a8"
             ],
             [
              0.3333333333333333,
              "#9c179e"
             ],
             [
              0.4444444444444444,
              "#bd3786"
             ],
             [
              0.5555555555555556,
              "#d8576b"
             ],
             [
              0.6666666666666666,
              "#ed7953"
             ],
             [
              0.7777777777777778,
              "#fb9f3a"
             ],
             [
              0.8888888888888888,
              "#fdca26"
             ],
             [
              1,
              "#f0f921"
             ]
            ],
            "type": "histogram2d"
           }
          ],
          "histogram2dcontour": [
           {
            "colorbar": {
             "outlinewidth": 0,
             "ticks": ""
            },
            "colorscale": [
             [
              0,
              "#0d0887"
             ],
             [
              0.1111111111111111,
              "#46039f"
             ],
             [
              0.2222222222222222,
              "#7201a8"
             ],
             [
              0.3333333333333333,
              "#9c179e"
             ],
             [
              0.4444444444444444,
              "#bd3786"
             ],
             [
              0.5555555555555556,
              "#d8576b"
             ],
             [
              0.6666666666666666,
              "#ed7953"
             ],
             [
              0.7777777777777778,
              "#fb9f3a"
             ],
             [
              0.8888888888888888,
              "#fdca26"
             ],
             [
              1,
              "#f0f921"
             ]
            ],
            "type": "histogram2dcontour"
           }
          ],
          "mesh3d": [
           {
            "colorbar": {
             "outlinewidth": 0,
             "ticks": ""
            },
            "type": "mesh3d"
           }
          ],
          "parcoords": [
           {
            "line": {
             "colorbar": {
              "outlinewidth": 0,
              "ticks": ""
             }
            },
            "type": "parcoords"
           }
          ],
          "pie": [
           {
            "automargin": true,
            "type": "pie"
           }
          ],
          "scatter": [
           {
            "fillpattern": {
             "fillmode": "overlay",
             "size": 10,
             "solidity": 0.2
            },
            "type": "scatter"
           }
          ],
          "scatter3d": [
           {
            "line": {
             "colorbar": {
              "outlinewidth": 0,
              "ticks": ""
             }
            },
            "marker": {
             "colorbar": {
              "outlinewidth": 0,
              "ticks": ""
             }
            },
            "type": "scatter3d"
           }
          ],
          "scattercarpet": [
           {
            "marker": {
             "colorbar": {
              "outlinewidth": 0,
              "ticks": ""
             }
            },
            "type": "scattercarpet"
           }
          ],
          "scattergeo": [
           {
            "marker": {
             "colorbar": {
              "outlinewidth": 0,
              "ticks": ""
             }
            },
            "type": "scattergeo"
           }
          ],
          "scattergl": [
           {
            "marker": {
             "colorbar": {
              "outlinewidth": 0,
              "ticks": ""
             }
            },
            "type": "scattergl"
           }
          ],
          "scattermap": [
           {
            "marker": {
             "colorbar": {
              "outlinewidth": 0,
              "ticks": ""
             }
            },
            "type": "scattermap"
           }
          ],
          "scattermapbox": [
           {
            "marker": {
             "colorbar": {
              "outlinewidth": 0,
              "ticks": ""
             }
            },
            "type": "scattermapbox"
           }
          ],
          "scatterpolar": [
           {
            "marker": {
             "colorbar": {
              "outlinewidth": 0,
              "ticks": ""
             }
            },
            "type": "scatterpolar"
           }
          ],
          "scatterpolargl": [
           {
            "marker": {
             "colorbar": {
              "outlinewidth": 0,
              "ticks": ""
             }
            },
            "type": "scatterpolargl"
           }
          ],
          "scatterternary": [
           {
            "marker": {
             "colorbar": {
              "outlinewidth": 0,
              "ticks": ""
             }
            },
            "type": "scatterternary"
           }
          ],
          "surface": [
           {
            "colorbar": {
             "outlinewidth": 0,
             "ticks": ""
            },
            "colorscale": [
             [
              0,
              "#0d0887"
             ],
             [
              0.1111111111111111,
              "#46039f"
             ],
             [
              0.2222222222222222,
              "#7201a8"
             ],
             [
              0.3333333333333333,
              "#9c179e"
             ],
             [
              0.4444444444444444,
              "#bd3786"
             ],
             [
              0.5555555555555556,
              "#d8576b"
             ],
             [
              0.6666666666666666,
              "#ed7953"
             ],
             [
              0.7777777777777778,
              "#fb9f3a"
             ],
             [
              0.8888888888888888,
              "#fdca26"
             ],
             [
              1,
              "#f0f921"
             ]
            ],
            "type": "surface"
           }
          ],
          "table": [
           {
            "cells": {
             "fill": {
              "color": "#EBF0F8"
             },
             "line": {
              "color": "white"
             }
            },
            "header": {
             "fill": {
              "color": "#C8D4E3"
             },
             "line": {
              "color": "white"
             }
            },
            "type": "table"
           }
          ]
         },
         "layout": {
          "annotationdefaults": {
           "arrowcolor": "#2a3f5f",
           "arrowhead": 0,
           "arrowwidth": 1
          },
          "autotypenumbers": "strict",
          "coloraxis": {
           "colorbar": {
            "outlinewidth": 0,
            "ticks": ""
           }
          },
          "colorscale": {
           "diverging": [
            [
             0,
             "#8e0152"
            ],
            [
             0.1,
             "#c51b7d"
            ],
            [
             0.2,
             "#de77ae"
            ],
            [
             0.3,
             "#f1b6da"
            ],
            [
             0.4,
             "#fde0ef"
            ],
            [
             0.5,
             "#f7f7f7"
            ],
            [
             0.6,
             "#e6f5d0"
            ],
            [
             0.7,
             "#b8e186"
            ],
            [
             0.8,
             "#7fbc41"
            ],
            [
             0.9,
             "#4d9221"
            ],
            [
             1,
             "#276419"
            ]
           ],
           "sequential": [
            [
             0,
             "#0d0887"
            ],
            [
             0.1111111111111111,
             "#46039f"
            ],
            [
             0.2222222222222222,
             "#7201a8"
            ],
            [
             0.3333333333333333,
             "#9c179e"
            ],
            [
             0.4444444444444444,
             "#bd3786"
            ],
            [
             0.5555555555555556,
             "#d8576b"
            ],
            [
             0.6666666666666666,
             "#ed7953"
            ],
            [
             0.7777777777777778,
             "#fb9f3a"
            ],
            [
             0.8888888888888888,
             "#fdca26"
            ],
            [
             1,
             "#f0f921"
            ]
           ],
           "sequentialminus": [
            [
             0,
             "#0d0887"
            ],
            [
             0.1111111111111111,
             "#46039f"
            ],
            [
             0.2222222222222222,
             "#7201a8"
            ],
            [
             0.3333333333333333,
             "#9c179e"
            ],
            [
             0.4444444444444444,
             "#bd3786"
            ],
            [
             0.5555555555555556,
             "#d8576b"
            ],
            [
             0.6666666666666666,
             "#ed7953"
            ],
            [
             0.7777777777777778,
             "#fb9f3a"
            ],
            [
             0.8888888888888888,
             "#fdca26"
            ],
            [
             1,
             "#f0f921"
            ]
           ]
          },
          "colorway": [
           "#636efa",
           "#EF553B",
           "#00cc96",
           "#ab63fa",
           "#FFA15A",
           "#19d3f3",
           "#FF6692",
           "#B6E880",
           "#FF97FF",
           "#FECB52"
          ],
          "font": {
           "color": "#2a3f5f"
          },
          "geo": {
           "bgcolor": "white",
           "lakecolor": "white",
           "landcolor": "#E5ECF6",
           "showlakes": true,
           "showland": true,
           "subunitcolor": "white"
          },
          "hoverlabel": {
           "align": "left"
          },
          "hovermode": "closest",
          "mapbox": {
           "style": "light"
          },
          "paper_bgcolor": "white",
          "plot_bgcolor": "#E5ECF6",
          "polar": {
           "angularaxis": {
            "gridcolor": "white",
            "linecolor": "white",
            "ticks": ""
           },
           "bgcolor": "#E5ECF6",
           "radialaxis": {
            "gridcolor": "white",
            "linecolor": "white",
            "ticks": ""
           }
          },
          "scene": {
           "xaxis": {
            "backgroundcolor": "#E5ECF6",
            "gridcolor": "white",
            "gridwidth": 2,
            "linecolor": "white",
            "showbackground": true,
            "ticks": "",
            "zerolinecolor": "white"
           },
           "yaxis": {
            "backgroundcolor": "#E5ECF6",
            "gridcolor": "white",
            "gridwidth": 2,
            "linecolor": "white",
            "showbackground": true,
            "ticks": "",
            "zerolinecolor": "white"
           },
           "zaxis": {
            "backgroundcolor": "#E5ECF6",
            "gridcolor": "white",
            "gridwidth": 2,
            "linecolor": "white",
            "showbackground": true,
            "ticks": "",
            "zerolinecolor": "white"
           }
          },
          "shapedefaults": {
           "line": {
            "color": "#2a3f5f"
           }
          },
          "ternary": {
           "aaxis": {
            "gridcolor": "white",
            "linecolor": "white",
            "ticks": ""
           },
           "baxis": {
            "gridcolor": "white",
            "linecolor": "white",
            "ticks": ""
           },
           "bgcolor": "#E5ECF6",
           "caxis": {
            "gridcolor": "white",
            "linecolor": "white",
            "ticks": ""
           }
          },
          "title": {
           "x": 0.05
          },
          "xaxis": {
           "automargin": true,
           "gridcolor": "white",
           "linecolor": "white",
           "ticks": "",
           "title": {
            "standoff": 15
           },
           "zerolinecolor": "white",
           "zerolinewidth": 2
          },
          "yaxis": {
           "automargin": true,
           "gridcolor": "white",
           "linecolor": "white",
           "ticks": "",
           "title": {
            "standoff": 15
           },
           "zerolinecolor": "white",
           "zerolinewidth": 2
          }
         }
        },
        "title": {
         "text": "Localização dos nomes de citação - Professores com 'K'"
        },
        "xaxis": {
         "anchor": "y",
         "domain": [
          0,
          1
         ],
         "title": {
          "text": "PCA 1"
         }
        },
        "yaxis": {
         "anchor": "x",
         "domain": [
          0,
          1
         ],
         "title": {
          "text": "PCA 2"
         }
        }
       }
      }
     },
     "metadata": {},
     "output_type": "display_data"
    },
    {
     "name": "stdout",
     "output_type": "stream",
     "text": [
      "\n",
      "Professores e nomes de citação do grupo 'K':\n",
      "- Kely Diana Villacorta Villacorta  (PCA: 0.256, -0.200)\n",
      "    • VILLACORTA, K. D. V.  (PCA: -0.487, -0.416)\n",
      "    • VILLACORTA, KELY DIANA  (PCA: 0.524, -0.092)\n",
      "    • VILLACORTA, KELY D. V.  (PCA: -0.146, 0.354)\n",
      "    • VILLACORTA, KELY D.V.  (PCA: -0.146, 0.354)\n"
     ]
    },
    {
     "data": {
      "application/vnd.plotly.v1+json": {
       "config": {
        "plotlyServerURL": "https://plot.ly"
       },
       "data": [
        {
         "hovertemplate": "%{text}",
         "legendgroup": "",
         "marker": {
          "color": "#636efa",
          "size": 10,
          "symbol": "circle"
         },
         "mode": "markers+text",
         "name": "",
         "orientation": "v",
         "showlegend": false,
         "text": [
          "Leandro Carlos de Souza",
          "CARLOS DE SOUZA, LEANDRO",
          "DE SOUZA, LEANDRO CARLOS",
          "DE SOUZA, LEANDRO C.",
          "SOUZA, LEANDRO",
          "SOUZA, LEANDRO CARLOS DE",
          "SOUZA, LEANDRO CARLOS",
          "SOUZA, L.C.",
          "SOUZA, LEANDRO C.",
          "Liliane dos Santos Machado",
          "LILIANE DOS SANTOS MACHADO",
          "DOS SANTOS MACHADO, LILIANE",
          "MACHADO, LILIANEDOS SANTOS",
          "MACHADO, LILIANE S.",
          "MACHADO, LILIANE DOS SANTOS",
          "LILIANE S. MACHADO",
          "LILIANE DOS S. MACHADO",
          "MACHADO, LILIANE",
          "DOS S. MACHADO, LILIANE",
          "MACHADO, LILIANE SANTOS",
          "MACHADO, LILIANE DOS S.",
          "MACHADO, LILIANE S",
          "S. MACHADO, LILIANE",
          "Lincoln David Nery e Silva",
          "SILVA, L. D. N. E.",
          "NERY E SILVA, LINCOLN DAVID",
          "L. DAVID",
          "SILVA, L. D. N.",
          "DAVID, LINCOLN",
          "DAVID, L.",
          "DAVID NERY E SILVA, LINCOLN",
          "SILVA, L. D.",
          "Luciano Sales Barros",
          "BARROS, LUCIANO",
          "SALES BARROS, LUCIANO",
          "LUCIANO S. BARROS",
          "S. BARROS, LUCIANO",
          "BARROS, L. S.",
          "L. S. BARROS",
          "BARROS, L.S.",
          "BARROS, LUCIANO S.",
          "LUCIANO SALES BARROS",
          "BARROS, LUCIANO SALES",
          "Lucidio dos Anjos Formiga Cabral",
          "CABRAL, LUCIDIO A",
          "CABRAL, LUCÍDIO DOS ANJOS F.",
          "DOS ANJOS FORMIGA CABRAL, LUCÍDIO",
          "LUCIDIO DOS A. F. CABRAL",
          "CABRAL, LUCIDIO A.F.",
          "CABRAL, LUCÍDIO A. F.",
          "CABRAL, LUCÍDIO DOS A. F.",
          "CABRAL, LUCIDIO A.",
          "CABRAL, L. A. F.",
          "CABRAL, LUCÍDIO ANJOS FORMIGA",
          "DOS ANJOS F. CABRAL, LUCÍDIO",
          "DOS ANJOS F. CABRAL, LUCIDIO",
          "CABRAL, LUCIDIO ANJOS FORMIGA",
          "CABRAL, LUCIDIO DOS A. F.",
          "CABRAL, LUCÍDIO DOS ANJOS FORMIGA",
          "CABRAL, LUCIDIO A. F.",
          "DOS ANJOS FORMIGA CABRAL, LUCIDIO"
         ],
         "textposition": "top center",
         "type": "scatter",
         "x": {
          "bdata": "3pLRm13HwL/qktGbXcfAv+WS0Ztdx8C/zGffQKMTwL84C04XhT+/v+uS0Ztdx8C/1GffQKMTwL/o8+rhdPO5v1MLTheFP7+/TfOsrMfR5j9S86ysx9HmP1DzrKzH0eY/UgHguG811j9HtfuUt0vpP0/zrKzH0eY/R7X7lLdL6T/UAN/t3iznP0e1+5S3S+k/1ADf7d4s5z/+7fOgBoznP9QA3+3eLOc/R7X7lLdL6T9HtfuUt0vpPzfksWFFNbW/p58+M8LVsb835LFhRTW1v9tX6UVXH7G/p58+M8LVsb+2C3IfLgqyv9tX6UVXH7G/N+SxYUU1tb+nnz4zwtWxv7cjB7hc4s6/esRT5a860L+3Iwe4XOLOv3rEU+WvOtC/esRT5a860L/7GvzkjOnLv/sa/OSM6cu/+xr85Izpy796xFPlrzrQv7cjB7hc4s6/tyMHuFzizr/UZ0WoFoXUv9Cf/NmQJ9m/EJ6GEZZ7z79ioNXyUDvRv9j7n7tWYNG/z5/82ZAn2b/SOwBDMwHTv0i0XRYRW8m/0p/82ZAn2b+yANyDd/3UvxwZqfimaNW/DJ6GEZZ7z79+fC5yTanTv/Vba21aHdm/2fufu1Zg0b9hoNXyUDvRv9Kf/NmQJ9m/1WdFqBaF1L8=",
          "dtype": "f8"
         },
         "xaxis": "x",
         "y": {
          "bdata": "ZGwOzXAj0r9abA7NcCPSv1xsDs1wI9K/2Yir2shY0b+UV1Y3MtXQv1psDs1wI9K/3oir2shY0b9fg4TGQLbLv5NXVjcy1dC/VdD3CGI2wj9f0PcIYjbCP1nQ9whiNsI/MWbNBZPlnL/FVA31TN+YP1jQ9whiNsI/uVQN9UzfmD8Ng+cbKeXFP7xUDfVM35g/DoPnGynlxT/GQeaNrJSXPwyD5xsp5cU/ulQN9UzfmD+6VA31TN+YP1bR5qr5sMW/MqJbHVMbwr9W0eaq+bDFv1zyFTI+WcG/MqJbHVMbwr9iZndwxFTCv1zyFTI+WcG/VtHmqvmwxb8yolsdUxvCv2ajfPEFQuO/4l8urx1H5L9mo3zxBULjv+JfLq8dR+S/4l8urx1H5L/+cpq2/lDhv/5ymrb+UOG//nKatv5Q4b/iXy6vHUfkv2ajfPEFQuO/ZqN88QVC47//Hy2MfNjiP4TrARZV198/vA50OklB4D8iH0qkznzgP9Lsn0Q6NeI/hOsBFlXX3z+jRPJr8mzXPxYiKZ2cR90/g+sBFlXX3z9TSw2QWWvZP6dV0RhjPNw/vA50OklB4D++bjuA/CPjP9vb0rr5oeA/0eyfRDo14j8hH0qkznzgP4PrARZV198//x8tjHzY4j8=",
          "dtype": "f8"
         },
         "yaxis": "y"
        }
       ],
       "layout": {
        "legend": {
         "tracegroupgap": 0
        },
        "template": {
         "data": {
          "bar": [
           {
            "error_x": {
             "color": "#2a3f5f"
            },
            "error_y": {
             "color": "#2a3f5f"
            },
            "marker": {
             "line": {
              "color": "#E5ECF6",
              "width": 0.5
             },
             "pattern": {
              "fillmode": "overlay",
              "size": 10,
              "solidity": 0.2
             }
            },
            "type": "bar"
           }
          ],
          "barpolar": [
           {
            "marker": {
             "line": {
              "color": "#E5ECF6",
              "width": 0.5
             },
             "pattern": {
              "fillmode": "overlay",
              "size": 10,
              "solidity": 0.2
             }
            },
            "type": "barpolar"
           }
          ],
          "carpet": [
           {
            "aaxis": {
             "endlinecolor": "#2a3f5f",
             "gridcolor": "white",
             "linecolor": "white",
             "minorgridcolor": "white",
             "startlinecolor": "#2a3f5f"
            },
            "baxis": {
             "endlinecolor": "#2a3f5f",
             "gridcolor": "white",
             "linecolor": "white",
             "minorgridcolor": "white",
             "startlinecolor": "#2a3f5f"
            },
            "type": "carpet"
           }
          ],
          "choropleth": [
           {
            "colorbar": {
             "outlinewidth": 0,
             "ticks": ""
            },
            "type": "choropleth"
           }
          ],
          "contour": [
           {
            "colorbar": {
             "outlinewidth": 0,
             "ticks": ""
            },
            "colorscale": [
             [
              0,
              "#0d0887"
             ],
             [
              0.1111111111111111,
              "#46039f"
             ],
             [
              0.2222222222222222,
              "#7201a8"
             ],
             [
              0.3333333333333333,
              "#9c179e"
             ],
             [
              0.4444444444444444,
              "#bd3786"
             ],
             [
              0.5555555555555556,
              "#d8576b"
             ],
             [
              0.6666666666666666,
              "#ed7953"
             ],
             [
              0.7777777777777778,
              "#fb9f3a"
             ],
             [
              0.8888888888888888,
              "#fdca26"
             ],
             [
              1,
              "#f0f921"
             ]
            ],
            "type": "contour"
           }
          ],
          "contourcarpet": [
           {
            "colorbar": {
             "outlinewidth": 0,
             "ticks": ""
            },
            "type": "contourcarpet"
           }
          ],
          "heatmap": [
           {
            "colorbar": {
             "outlinewidth": 0,
             "ticks": ""
            },
            "colorscale": [
             [
              0,
              "#0d0887"
             ],
             [
              0.1111111111111111,
              "#46039f"
             ],
             [
              0.2222222222222222,
              "#7201a8"
             ],
             [
              0.3333333333333333,
              "#9c179e"
             ],
             [
              0.4444444444444444,
              "#bd3786"
             ],
             [
              0.5555555555555556,
              "#d8576b"
             ],
             [
              0.6666666666666666,
              "#ed7953"
             ],
             [
              0.7777777777777778,
              "#fb9f3a"
             ],
             [
              0.8888888888888888,
              "#fdca26"
             ],
             [
              1,
              "#f0f921"
             ]
            ],
            "type": "heatmap"
           }
          ],
          "histogram": [
           {
            "marker": {
             "pattern": {
              "fillmode": "overlay",
              "size": 10,
              "solidity": 0.2
             }
            },
            "type": "histogram"
           }
          ],
          "histogram2d": [
           {
            "colorbar": {
             "outlinewidth": 0,
             "ticks": ""
            },
            "colorscale": [
             [
              0,
              "#0d0887"
             ],
             [
              0.1111111111111111,
              "#46039f"
             ],
             [
              0.2222222222222222,
              "#7201a8"
             ],
             [
              0.3333333333333333,
              "#9c179e"
             ],
             [
              0.4444444444444444,
              "#bd3786"
             ],
             [
              0.5555555555555556,
              "#d8576b"
             ],
             [
              0.6666666666666666,
              "#ed7953"
             ],
             [
              0.7777777777777778,
              "#fb9f3a"
             ],
             [
              0.8888888888888888,
              "#fdca26"
             ],
             [
              1,
              "#f0f921"
             ]
            ],
            "type": "histogram2d"
           }
          ],
          "histogram2dcontour": [
           {
            "colorbar": {
             "outlinewidth": 0,
             "ticks": ""
            },
            "colorscale": [
             [
              0,
              "#0d0887"
             ],
             [
              0.1111111111111111,
              "#46039f"
             ],
             [
              0.2222222222222222,
              "#7201a8"
             ],
             [
              0.3333333333333333,
              "#9c179e"
             ],
             [
              0.4444444444444444,
              "#bd3786"
             ],
             [
              0.5555555555555556,
              "#d8576b"
             ],
             [
              0.6666666666666666,
              "#ed7953"
             ],
             [
              0.7777777777777778,
              "#fb9f3a"
             ],
             [
              0.8888888888888888,
              "#fdca26"
             ],
             [
              1,
              "#f0f921"
             ]
            ],
            "type": "histogram2dcontour"
           }
          ],
          "mesh3d": [
           {
            "colorbar": {
             "outlinewidth": 0,
             "ticks": ""
            },
            "type": "mesh3d"
           }
          ],
          "parcoords": [
           {
            "line": {
             "colorbar": {
              "outlinewidth": 0,
              "ticks": ""
             }
            },
            "type": "parcoords"
           }
          ],
          "pie": [
           {
            "automargin": true,
            "type": "pie"
           }
          ],
          "scatter": [
           {
            "fillpattern": {
             "fillmode": "overlay",
             "size": 10,
             "solidity": 0.2
            },
            "type": "scatter"
           }
          ],
          "scatter3d": [
           {
            "line": {
             "colorbar": {
              "outlinewidth": 0,
              "ticks": ""
             }
            },
            "marker": {
             "colorbar": {
              "outlinewidth": 0,
              "ticks": ""
             }
            },
            "type": "scatter3d"
           }
          ],
          "scattercarpet": [
           {
            "marker": {
             "colorbar": {
              "outlinewidth": 0,
              "ticks": ""
             }
            },
            "type": "scattercarpet"
           }
          ],
          "scattergeo": [
           {
            "marker": {
             "colorbar": {
              "outlinewidth": 0,
              "ticks": ""
             }
            },
            "type": "scattergeo"
           }
          ],
          "scattergl": [
           {
            "marker": {
             "colorbar": {
              "outlinewidth": 0,
              "ticks": ""
             }
            },
            "type": "scattergl"
           }
          ],
          "scattermap": [
           {
            "marker": {
             "colorbar": {
              "outlinewidth": 0,
              "ticks": ""
             }
            },
            "type": "scattermap"
           }
          ],
          "scattermapbox": [
           {
            "marker": {
             "colorbar": {
              "outlinewidth": 0,
              "ticks": ""
             }
            },
            "type": "scattermapbox"
           }
          ],
          "scatterpolar": [
           {
            "marker": {
             "colorbar": {
              "outlinewidth": 0,
              "ticks": ""
             }
            },
            "type": "scatterpolar"
           }
          ],
          "scatterpolargl": [
           {
            "marker": {
             "colorbar": {
              "outlinewidth": 0,
              "ticks": ""
             }
            },
            "type": "scatterpolargl"
           }
          ],
          "scatterternary": [
           {
            "marker": {
             "colorbar": {
              "outlinewidth": 0,
              "ticks": ""
             }
            },
            "type": "scatterternary"
           }
          ],
          "surface": [
           {
            "colorbar": {
             "outlinewidth": 0,
             "ticks": ""
            },
            "colorscale": [
             [
              0,
              "#0d0887"
             ],
             [
              0.1111111111111111,
              "#46039f"
             ],
             [
              0.2222222222222222,
              "#7201a8"
             ],
             [
              0.3333333333333333,
              "#9c179e"
             ],
             [
              0.4444444444444444,
              "#bd3786"
             ],
             [
              0.5555555555555556,
              "#d8576b"
             ],
             [
              0.6666666666666666,
              "#ed7953"
             ],
             [
              0.7777777777777778,
              "#fb9f3a"
             ],
             [
              0.8888888888888888,
              "#fdca26"
             ],
             [
              1,
              "#f0f921"
             ]
            ],
            "type": "surface"
           }
          ],
          "table": [
           {
            "cells": {
             "fill": {
              "color": "#EBF0F8"
             },
             "line": {
              "color": "white"
             }
            },
            "header": {
             "fill": {
              "color": "#C8D4E3"
             },
             "line": {
              "color": "white"
             }
            },
            "type": "table"
           }
          ]
         },
         "layout": {
          "annotationdefaults": {
           "arrowcolor": "#2a3f5f",
           "arrowhead": 0,
           "arrowwidth": 1
          },
          "autotypenumbers": "strict",
          "coloraxis": {
           "colorbar": {
            "outlinewidth": 0,
            "ticks": ""
           }
          },
          "colorscale": {
           "diverging": [
            [
             0,
             "#8e0152"
            ],
            [
             0.1,
             "#c51b7d"
            ],
            [
             0.2,
             "#de77ae"
            ],
            [
             0.3,
             "#f1b6da"
            ],
            [
             0.4,
             "#fde0ef"
            ],
            [
             0.5,
             "#f7f7f7"
            ],
            [
             0.6,
             "#e6f5d0"
            ],
            [
             0.7,
             "#b8e186"
            ],
            [
             0.8,
             "#7fbc41"
            ],
            [
             0.9,
             "#4d9221"
            ],
            [
             1,
             "#276419"
            ]
           ],
           "sequential": [
            [
             0,
             "#0d0887"
            ],
            [
             0.1111111111111111,
             "#46039f"
            ],
            [
             0.2222222222222222,
             "#7201a8"
            ],
            [
             0.3333333333333333,
             "#9c179e"
            ],
            [
             0.4444444444444444,
             "#bd3786"
            ],
            [
             0.5555555555555556,
             "#d8576b"
            ],
            [
             0.6666666666666666,
             "#ed7953"
            ],
            [
             0.7777777777777778,
             "#fb9f3a"
            ],
            [
             0.8888888888888888,
             "#fdca26"
            ],
            [
             1,
             "#f0f921"
            ]
           ],
           "sequentialminus": [
            [
             0,
             "#0d0887"
            ],
            [
             0.1111111111111111,
             "#46039f"
            ],
            [
             0.2222222222222222,
             "#7201a8"
            ],
            [
             0.3333333333333333,
             "#9c179e"
            ],
            [
             0.4444444444444444,
             "#bd3786"
            ],
            [
             0.5555555555555556,
             "#d8576b"
            ],
            [
             0.6666666666666666,
             "#ed7953"
            ],
            [
             0.7777777777777778,
             "#fb9f3a"
            ],
            [
             0.8888888888888888,
             "#fdca26"
            ],
            [
             1,
             "#f0f921"
            ]
           ]
          },
          "colorway": [
           "#636efa",
           "#EF553B",
           "#00cc96",
           "#ab63fa",
           "#FFA15A",
           "#19d3f3",
           "#FF6692",
           "#B6E880",
           "#FF97FF",
           "#FECB52"
          ],
          "font": {
           "color": "#2a3f5f"
          },
          "geo": {
           "bgcolor": "white",
           "lakecolor": "white",
           "landcolor": "#E5ECF6",
           "showlakes": true,
           "showland": true,
           "subunitcolor": "white"
          },
          "hoverlabel": {
           "align": "left"
          },
          "hovermode": "closest",
          "mapbox": {
           "style": "light"
          },
          "paper_bgcolor": "white",
          "plot_bgcolor": "#E5ECF6",
          "polar": {
           "angularaxis": {
            "gridcolor": "white",
            "linecolor": "white",
            "ticks": ""
           },
           "bgcolor": "#E5ECF6",
           "radialaxis": {
            "gridcolor": "white",
            "linecolor": "white",
            "ticks": ""
           }
          },
          "scene": {
           "xaxis": {
            "backgroundcolor": "#E5ECF6",
            "gridcolor": "white",
            "gridwidth": 2,
            "linecolor": "white",
            "showbackground": true,
            "ticks": "",
            "zerolinecolor": "white"
           },
           "yaxis": {
            "backgroundcolor": "#E5ECF6",
            "gridcolor": "white",
            "gridwidth": 2,
            "linecolor": "white",
            "showbackground": true,
            "ticks": "",
            "zerolinecolor": "white"
           },
           "zaxis": {
            "backgroundcolor": "#E5ECF6",
            "gridcolor": "white",
            "gridwidth": 2,
            "linecolor": "white",
            "showbackground": true,
            "ticks": "",
            "zerolinecolor": "white"
           }
          },
          "shapedefaults": {
           "line": {
            "color": "#2a3f5f"
           }
          },
          "ternary": {
           "aaxis": {
            "gridcolor": "white",
            "linecolor": "white",
            "ticks": ""
           },
           "baxis": {
            "gridcolor": "white",
            "linecolor": "white",
            "ticks": ""
           },
           "bgcolor": "#E5ECF6",
           "caxis": {
            "gridcolor": "white",
            "linecolor": "white",
            "ticks": ""
           }
          },
          "title": {
           "x": 0.05
          },
          "xaxis": {
           "automargin": true,
           "gridcolor": "white",
           "linecolor": "white",
           "ticks": "",
           "title": {
            "standoff": 15
           },
           "zerolinecolor": "white",
           "zerolinewidth": 2
          },
          "yaxis": {
           "automargin": true,
           "gridcolor": "white",
           "linecolor": "white",
           "ticks": "",
           "title": {
            "standoff": 15
           },
           "zerolinecolor": "white",
           "zerolinewidth": 2
          }
         }
        },
        "title": {
         "text": "Localização dos nomes de citação - Professores com 'L'"
        },
        "xaxis": {
         "anchor": "y",
         "domain": [
          0,
          1
         ],
         "title": {
          "text": "PCA 1"
         }
        },
        "yaxis": {
         "anchor": "x",
         "domain": [
          0,
          1
         ],
         "title": {
          "text": "PCA 2"
         }
        }
       }
      }
     },
     "metadata": {},
     "output_type": "display_data"
    },
    {
     "name": "stdout",
     "output_type": "stream",
     "text": [
      "\n",
      "Professores e nomes de citação do grupo 'L':\n",
      "- Leandro Carlos de Souza  (PCA: -0.131, -0.283)\n",
      "    • CARLOS DE SOUZA, LEANDRO  (PCA: -0.131, -0.283)\n",
      "    • DE SOUZA, LEANDRO CARLOS  (PCA: -0.131, -0.283)\n",
      "    • DE SOUZA, LEANDRO C.  (PCA: -0.126, -0.271)\n",
      "    • SOUZA, LEANDRO  (PCA: -0.122, -0.263)\n",
      "    • SOUZA, LEANDRO CARLOS DE  (PCA: -0.131, -0.283)\n",
      "    • SOUZA, LEANDRO CARLOS  (PCA: -0.126, -0.271)\n",
      "    • SOUZA, L.C.  (PCA: -0.101, -0.216)\n",
      "    • SOUZA, LEANDRO C.  (PCA: -0.122, -0.263)\n",
      "- Liliane dos Santos Machado  (PCA: 0.713, 0.142)\n",
      "    • LILIANE DOS SANTOS MACHADO  (PCA: 0.713, 0.142)\n",
      "    • DOS SANTOS MACHADO, LILIANE  (PCA: 0.713, 0.142)\n",
      "    • MACHADO, LILIANEDOS SANTOS  (PCA: 0.347, -0.028)\n",
      "    • MACHADO, LILIANE S.  (PCA: 0.790, 0.024)\n",
      "    • MACHADO, LILIANE DOS SANTOS  (PCA: 0.713, 0.142)\n",
      "    • LILIANE S. MACHADO  (PCA: 0.790, 0.024)\n",
      "    • LILIANE DOS S. MACHADO  (PCA: 0.724, 0.171)\n",
      "    • MACHADO, LILIANE  (PCA: 0.790, 0.024)\n",
      "    • DOS S. MACHADO, LILIANE  (PCA: 0.724, 0.171)\n",
      "    • MACHADO, LILIANE SANTOS  (PCA: 0.736, 0.023)\n",
      "    • MACHADO, LILIANE DOS S.  (PCA: 0.724, 0.171)\n",
      "    • MACHADO, LILIANE S  (PCA: 0.790, 0.024)\n",
      "    • S. MACHADO, LILIANE  (PCA: 0.790, 0.024)\n",
      "- Lincoln David Nery e Silva  (PCA: -0.083, -0.169)\n",
      "    • SILVA, L. D. N. E.  (PCA: -0.070, -0.141)\n",
      "    • NERY E SILVA, LINCOLN DAVID  (PCA: -0.083, -0.169)\n",
      "    • L. DAVID  (PCA: -0.067, -0.136)\n",
      "    • SILVA, L. D. N.  (PCA: -0.070, -0.141)\n",
      "    • DAVID, LINCOLN  (PCA: -0.070, -0.143)\n",
      "    • DAVID, L.  (PCA: -0.067, -0.136)\n",
      "    • DAVID NERY E SILVA, LINCOLN  (PCA: -0.083, -0.169)\n",
      "    • SILVA, L. D.  (PCA: -0.070, -0.141)\n",
      "- Luciano Sales Barros  (PCA: -0.241, -0.602)\n",
      "    • BARROS, LUCIANO  (PCA: -0.254, -0.634)\n",
      "    • SALES BARROS, LUCIANO  (PCA: -0.241, -0.602)\n",
      "    • LUCIANO S. BARROS  (PCA: -0.254, -0.634)\n",
      "    • S. BARROS, LUCIANO  (PCA: -0.254, -0.634)\n",
      "    • BARROS, L. S.  (PCA: -0.218, -0.541)\n",
      "    • L. S. BARROS  (PCA: -0.218, -0.541)\n",
      "    • BARROS, L.S.  (PCA: -0.218, -0.541)\n",
      "    • BARROS, LUCIANO S.  (PCA: -0.254, -0.634)\n",
      "    • LUCIANO SALES BARROS  (PCA: -0.241, -0.602)\n",
      "    • BARROS, LUCIANO SALES  (PCA: -0.241, -0.602)\n",
      "- Lucidio dos Anjos Formiga Cabral  (PCA: -0.321, 0.589)\n",
      "    • CABRAL, LUCIDIO A  (PCA: -0.393, 0.498)\n",
      "    • CABRAL, LUCÍDIO DOS ANJOS F.  (PCA: -0.246, 0.508)\n",
      "    • DOS ANJOS FORMIGA CABRAL, LUCÍDIO  (PCA: -0.269, 0.515)\n",
      "    • LUCIDIO DOS A. F. CABRAL  (PCA: -0.272, 0.569)\n",
      "    • CABRAL, LUCIDIO A.F.  (PCA: -0.393, 0.498)\n",
      "    • CABRAL, LUCÍDIO A. F.  (PCA: -0.297, 0.366)\n",
      "    • CABRAL, LUCÍDIO DOS A. F.  (PCA: -0.198, 0.457)\n",
      "    • CABRAL, LUCIDIO A.  (PCA: -0.393, 0.498)\n",
      "    • CABRAL, L. A. F.  (PCA: -0.328, 0.397)\n",
      "    • CABRAL, LUCÍDIO ANJOS FORMIGA  (PCA: -0.335, 0.441)\n",
      "    • DOS ANJOS F. CABRAL, LUCÍDIO  (PCA: -0.246, 0.508)\n",
      "    • DOS ANJOS F. CABRAL, LUCIDIO  (PCA: -0.307, 0.598)\n",
      "    • CABRAL, LUCIDIO ANJOS FORMIGA  (PCA: -0.392, 0.520)\n",
      "    • CABRAL, LUCIDIO DOS A. F.  (PCA: -0.272, 0.569)\n",
      "    • CABRAL, LUCÍDIO DOS ANJOS FORMIGA  (PCA: -0.269, 0.515)\n",
      "    • CABRAL, LUCIDIO A. F.  (PCA: -0.393, 0.498)\n",
      "    • DOS ANJOS FORMIGA CABRAL, LUCIDIO  (PCA: -0.321, 0.589)\n"
     ]
    },
    {
     "data": {
      "application/vnd.plotly.v1+json": {
       "config": {
        "plotlyServerURL": "https://plot.ly"
       },
       "data": [
        {
         "hovertemplate": "%{text}",
         "legendgroup": "",
         "marker": {
          "color": "#636efa",
          "size": 10,
          "symbol": "circle"
         },
         "mode": "markers+text",
         "name": "",
         "orientation": "v",
         "showlegend": false,
         "text": [
          "Marcelo Iury de Sousa Oliveira",
          "OLIVEIRA, MARCELO IURY S.",
          "OLIVEIRA, MARCELO IURY DE SOUSA",
          "Moises Dantas dos Santos",
          "SANTOS, M. D",
          "SANTOS, MOISÉS DANTAS DOS",
          "SANTOS, M.D.",
          "SANTOS, M. D.",
          "DOS SANTOS, MOISÉS DANTAS",
          "MOISES DANTAS DOS SANTOS",
          "SANTOS, MOISÉS D."
         ],
         "textposition": "top center",
         "type": "scatter",
         "x": {
          "bdata": "l9LYCTQg7b+c+oVJqn/qv5fS2Ak0IO2/TSuckSRg0j9PUgrDvCbXP9H7hrT2gtY/T1IKw7wm1z9PUgrDvCbXP9H7hrT2gtY/TSuckSRg0j9y+gnlt0XSPw==",
          "dtype": "f8"
         },
         "xaxis": "x",
         "y": {
          "bdata": "5WLbnxgllj8bwaR3TJeSPx1j258YJZY/HcUnIoZv4L9ANwgCx3niP4C1ocVpPdy/QDcIAsd54j9ANwgCx3niP4C1ocVpPdy/HcUnIoZv4L/z7e2wqMC9Pw==",
          "dtype": "f8"
         },
         "yaxis": "y"
        }
       ],
       "layout": {
        "legend": {
         "tracegroupgap": 0
        },
        "template": {
         "data": {
          "bar": [
           {
            "error_x": {
             "color": "#2a3f5f"
            },
            "error_y": {
             "color": "#2a3f5f"
            },
            "marker": {
             "line": {
              "color": "#E5ECF6",
              "width": 0.5
             },
             "pattern": {
              "fillmode": "overlay",
              "size": 10,
              "solidity": 0.2
             }
            },
            "type": "bar"
           }
          ],
          "barpolar": [
           {
            "marker": {
             "line": {
              "color": "#E5ECF6",
              "width": 0.5
             },
             "pattern": {
              "fillmode": "overlay",
              "size": 10,
              "solidity": 0.2
             }
            },
            "type": "barpolar"
           }
          ],
          "carpet": [
           {
            "aaxis": {
             "endlinecolor": "#2a3f5f",
             "gridcolor": "white",
             "linecolor": "white",
             "minorgridcolor": "white",
             "startlinecolor": "#2a3f5f"
            },
            "baxis": {
             "endlinecolor": "#2a3f5f",
             "gridcolor": "white",
             "linecolor": "white",
             "minorgridcolor": "white",
             "startlinecolor": "#2a3f5f"
            },
            "type": "carpet"
           }
          ],
          "choropleth": [
           {
            "colorbar": {
             "outlinewidth": 0,
             "ticks": ""
            },
            "type": "choropleth"
           }
          ],
          "contour": [
           {
            "colorbar": {
             "outlinewidth": 0,
             "ticks": ""
            },
            "colorscale": [
             [
              0,
              "#0d0887"
             ],
             [
              0.1111111111111111,
              "#46039f"
             ],
             [
              0.2222222222222222,
              "#7201a8"
             ],
             [
              0.3333333333333333,
              "#9c179e"
             ],
             [
              0.4444444444444444,
              "#bd3786"
             ],
             [
              0.5555555555555556,
              "#d8576b"
             ],
             [
              0.6666666666666666,
              "#ed7953"
             ],
             [
              0.7777777777777778,
              "#fb9f3a"
             ],
             [
              0.8888888888888888,
              "#fdca26"
             ],
             [
              1,
              "#f0f921"
             ]
            ],
            "type": "contour"
           }
          ],
          "contourcarpet": [
           {
            "colorbar": {
             "outlinewidth": 0,
             "ticks": ""
            },
            "type": "contourcarpet"
           }
          ],
          "heatmap": [
           {
            "colorbar": {
             "outlinewidth": 0,
             "ticks": ""
            },
            "colorscale": [
             [
              0,
              "#0d0887"
             ],
             [
              0.1111111111111111,
              "#46039f"
             ],
             [
              0.2222222222222222,
              "#7201a8"
             ],
             [
              0.3333333333333333,
              "#9c179e"
             ],
             [
              0.4444444444444444,
              "#bd3786"
             ],
             [
              0.5555555555555556,
              "#d8576b"
             ],
             [
              0.6666666666666666,
              "#ed7953"
             ],
             [
              0.7777777777777778,
              "#fb9f3a"
             ],
             [
              0.8888888888888888,
              "#fdca26"
             ],
             [
              1,
              "#f0f921"
             ]
            ],
            "type": "heatmap"
           }
          ],
          "histogram": [
           {
            "marker": {
             "pattern": {
              "fillmode": "overlay",
              "size": 10,
              "solidity": 0.2
             }
            },
            "type": "histogram"
           }
          ],
          "histogram2d": [
           {
            "colorbar": {
             "outlinewidth": 0,
             "ticks": ""
            },
            "colorscale": [
             [
              0,
              "#0d0887"
             ],
             [
              0.1111111111111111,
              "#46039f"
             ],
             [
              0.2222222222222222,
              "#7201a8"
             ],
             [
              0.3333333333333333,
              "#9c179e"
             ],
             [
              0.4444444444444444,
              "#bd3786"
             ],
             [
              0.5555555555555556,
              "#d8576b"
             ],
             [
              0.6666666666666666,
              "#ed7953"
             ],
             [
              0.7777777777777778,
              "#fb9f3a"
             ],
             [
              0.8888888888888888,
              "#fdca26"
             ],
             [
              1,
              "#f0f921"
             ]
            ],
            "type": "histogram2d"
           }
          ],
          "histogram2dcontour": [
           {
            "colorbar": {
             "outlinewidth": 0,
             "ticks": ""
            },
            "colorscale": [
             [
              0,
              "#0d0887"
             ],
             [
              0.1111111111111111,
              "#46039f"
             ],
             [
              0.2222222222222222,
              "#7201a8"
             ],
             [
              0.3333333333333333,
              "#9c179e"
             ],
             [
              0.4444444444444444,
              "#bd3786"
             ],
             [
              0.5555555555555556,
              "#d8576b"
             ],
             [
              0.6666666666666666,
              "#ed7953"
             ],
             [
              0.7777777777777778,
              "#fb9f3a"
             ],
             [
              0.8888888888888888,
              "#fdca26"
             ],
             [
              1,
              "#f0f921"
             ]
            ],
            "type": "histogram2dcontour"
           }
          ],
          "mesh3d": [
           {
            "colorbar": {
             "outlinewidth": 0,
             "ticks": ""
            },
            "type": "mesh3d"
           }
          ],
          "parcoords": [
           {
            "line": {
             "colorbar": {
              "outlinewidth": 0,
              "ticks": ""
             }
            },
            "type": "parcoords"
           }
          ],
          "pie": [
           {
            "automargin": true,
            "type": "pie"
           }
          ],
          "scatter": [
           {
            "fillpattern": {
             "fillmode": "overlay",
             "size": 10,
             "solidity": 0.2
            },
            "type": "scatter"
           }
          ],
          "scatter3d": [
           {
            "line": {
             "colorbar": {
              "outlinewidth": 0,
              "ticks": ""
             }
            },
            "marker": {
             "colorbar": {
              "outlinewidth": 0,
              "ticks": ""
             }
            },
            "type": "scatter3d"
           }
          ],
          "scattercarpet": [
           {
            "marker": {
             "colorbar": {
              "outlinewidth": 0,
              "ticks": ""
             }
            },
            "type": "scattercarpet"
           }
          ],
          "scattergeo": [
           {
            "marker": {
             "colorbar": {
              "outlinewidth": 0,
              "ticks": ""
             }
            },
            "type": "scattergeo"
           }
          ],
          "scattergl": [
           {
            "marker": {
             "colorbar": {
              "outlinewidth": 0,
              "ticks": ""
             }
            },
            "type": "scattergl"
           }
          ],
          "scattermap": [
           {
            "marker": {
             "colorbar": {
              "outlinewidth": 0,
              "ticks": ""
             }
            },
            "type": "scattermap"
           }
          ],
          "scattermapbox": [
           {
            "marker": {
             "colorbar": {
              "outlinewidth": 0,
              "ticks": ""
             }
            },
            "type": "scattermapbox"
           }
          ],
          "scatterpolar": [
           {
            "marker": {
             "colorbar": {
              "outlinewidth": 0,
              "ticks": ""
             }
            },
            "type": "scatterpolar"
           }
          ],
          "scatterpolargl": [
           {
            "marker": {
             "colorbar": {
              "outlinewidth": 0,
              "ticks": ""
             }
            },
            "type": "scatterpolargl"
           }
          ],
          "scatterternary": [
           {
            "marker": {
             "colorbar": {
              "outlinewidth": 0,
              "ticks": ""
             }
            },
            "type": "scatterternary"
           }
          ],
          "surface": [
           {
            "colorbar": {
             "outlinewidth": 0,
             "ticks": ""
            },
            "colorscale": [
             [
              0,
              "#0d0887"
             ],
             [
              0.1111111111111111,
              "#46039f"
             ],
             [
              0.2222222222222222,
              "#7201a8"
             ],
             [
              0.3333333333333333,
              "#9c179e"
             ],
             [
              0.4444444444444444,
              "#bd3786"
             ],
             [
              0.5555555555555556,
              "#d8576b"
             ],
             [
              0.6666666666666666,
              "#ed7953"
             ],
             [
              0.7777777777777778,
              "#fb9f3a"
             ],
             [
              0.8888888888888888,
              "#fdca26"
             ],
             [
              1,
              "#f0f921"
             ]
            ],
            "type": "surface"
           }
          ],
          "table": [
           {
            "cells": {
             "fill": {
              "color": "#EBF0F8"
             },
             "line": {
              "color": "white"
             }
            },
            "header": {
             "fill": {
              "color": "#C8D4E3"
             },
             "line": {
              "color": "white"
             }
            },
            "type": "table"
           }
          ]
         },
         "layout": {
          "annotationdefaults": {
           "arrowcolor": "#2a3f5f",
           "arrowhead": 0,
           "arrowwidth": 1
          },
          "autotypenumbers": "strict",
          "coloraxis": {
           "colorbar": {
            "outlinewidth": 0,
            "ticks": ""
           }
          },
          "colorscale": {
           "diverging": [
            [
             0,
             "#8e0152"
            ],
            [
             0.1,
             "#c51b7d"
            ],
            [
             0.2,
             "#de77ae"
            ],
            [
             0.3,
             "#f1b6da"
            ],
            [
             0.4,
             "#fde0ef"
            ],
            [
             0.5,
             "#f7f7f7"
            ],
            [
             0.6,
             "#e6f5d0"
            ],
            [
             0.7,
             "#b8e186"
            ],
            [
             0.8,
             "#7fbc41"
            ],
            [
             0.9,
             "#4d9221"
            ],
            [
             1,
             "#276419"
            ]
           ],
           "sequential": [
            [
             0,
             "#0d0887"
            ],
            [
             0.1111111111111111,
             "#46039f"
            ],
            [
             0.2222222222222222,
             "#7201a8"
            ],
            [
             0.3333333333333333,
             "#9c179e"
            ],
            [
             0.4444444444444444,
             "#bd3786"
            ],
            [
             0.5555555555555556,
             "#d8576b"
            ],
            [
             0.6666666666666666,
             "#ed7953"
            ],
            [
             0.7777777777777778,
             "#fb9f3a"
            ],
            [
             0.8888888888888888,
             "#fdca26"
            ],
            [
             1,
             "#f0f921"
            ]
           ],
           "sequentialminus": [
            [
             0,
             "#0d0887"
            ],
            [
             0.1111111111111111,
             "#46039f"
            ],
            [
             0.2222222222222222,
             "#7201a8"
            ],
            [
             0.3333333333333333,
             "#9c179e"
            ],
            [
             0.4444444444444444,
             "#bd3786"
            ],
            [
             0.5555555555555556,
             "#d8576b"
            ],
            [
             0.6666666666666666,
             "#ed7953"
            ],
            [
             0.7777777777777778,
             "#fb9f3a"
            ],
            [
             0.8888888888888888,
             "#fdca26"
            ],
            [
             1,
             "#f0f921"
            ]
           ]
          },
          "colorway": [
           "#636efa",
           "#EF553B",
           "#00cc96",
           "#ab63fa",
           "#FFA15A",
           "#19d3f3",
           "#FF6692",
           "#B6E880",
           "#FF97FF",
           "#FECB52"
          ],
          "font": {
           "color": "#2a3f5f"
          },
          "geo": {
           "bgcolor": "white",
           "lakecolor": "white",
           "landcolor": "#E5ECF6",
           "showlakes": true,
           "showland": true,
           "subunitcolor": "white"
          },
          "hoverlabel": {
           "align": "left"
          },
          "hovermode": "closest",
          "mapbox": {
           "style": "light"
          },
          "paper_bgcolor": "white",
          "plot_bgcolor": "#E5ECF6",
          "polar": {
           "angularaxis": {
            "gridcolor": "white",
            "linecolor": "white",
            "ticks": ""
           },
           "bgcolor": "#E5ECF6",
           "radialaxis": {
            "gridcolor": "white",
            "linecolor": "white",
            "ticks": ""
           }
          },
          "scene": {
           "xaxis": {
            "backgroundcolor": "#E5ECF6",
            "gridcolor": "white",
            "gridwidth": 2,
            "linecolor": "white",
            "showbackground": true,
            "ticks": "",
            "zerolinecolor": "white"
           },
           "yaxis": {
            "backgroundcolor": "#E5ECF6",
            "gridcolor": "white",
            "gridwidth": 2,
            "linecolor": "white",
            "showbackground": true,
            "ticks": "",
            "zerolinecolor": "white"
           },
           "zaxis": {
            "backgroundcolor": "#E5ECF6",
            "gridcolor": "white",
            "gridwidth": 2,
            "linecolor": "white",
            "showbackground": true,
            "ticks": "",
            "zerolinecolor": "white"
           }
          },
          "shapedefaults": {
           "line": {
            "color": "#2a3f5f"
           }
          },
          "ternary": {
           "aaxis": {
            "gridcolor": "white",
            "linecolor": "white",
            "ticks": ""
           },
           "baxis": {
            "gridcolor": "white",
            "linecolor": "white",
            "ticks": ""
           },
           "bgcolor": "#E5ECF6",
           "caxis": {
            "gridcolor": "white",
            "linecolor": "white",
            "ticks": ""
           }
          },
          "title": {
           "x": 0.05
          },
          "xaxis": {
           "automargin": true,
           "gridcolor": "white",
           "linecolor": "white",
           "ticks": "",
           "title": {
            "standoff": 15
           },
           "zerolinecolor": "white",
           "zerolinewidth": 2
          },
          "yaxis": {
           "automargin": true,
           "gridcolor": "white",
           "linecolor": "white",
           "ticks": "",
           "title": {
            "standoff": 15
           },
           "zerolinecolor": "white",
           "zerolinewidth": 2
          }
         }
        },
        "title": {
         "text": "Localização dos nomes de citação - Professores com 'M'"
        },
        "xaxis": {
         "anchor": "y",
         "domain": [
          0,
          1
         ],
         "title": {
          "text": "PCA 1"
         }
        },
        "yaxis": {
         "anchor": "x",
         "domain": [
          0,
          1
         ],
         "title": {
          "text": "PCA 2"
         }
        }
       }
      }
     },
     "metadata": {},
     "output_type": "display_data"
    },
    {
     "name": "stdout",
     "output_type": "stream",
     "text": [
      "\n",
      "Professores e nomes de citação do grupo 'M':\n",
      "- Marcelo Iury de Sousa Oliveira  (PCA: -0.910, 0.022)\n",
      "    • OLIVEIRA, MARCELO IURY S.  (PCA: -0.828, 0.018)\n",
      "    • OLIVEIRA, MARCELO IURY DE SOUSA  (PCA: -0.910, 0.022)\n",
      "- Moises Dantas dos Santos  (PCA: 0.287, -0.514)\n",
      "    • SANTOS, M. D  (PCA: 0.362, 0.577)\n",
      "    • SANTOS, MOISÉS DANTAS DOS  (PCA: 0.352, -0.441)\n",
      "    • SANTOS, M.D.  (PCA: 0.362, 0.577)\n",
      "    • SANTOS, M. D.  (PCA: 0.362, 0.577)\n",
      "    • DOS SANTOS, MOISÉS DANTAS  (PCA: 0.352, -0.441)\n",
      "    • MOISES DANTAS DOS SANTOS  (PCA: 0.287, -0.514)\n",
      "    • SANTOS, MOISÉS D.  (PCA: 0.286, 0.116)\n"
     ]
    },
    {
     "data": {
      "application/vnd.plotly.v1+json": {
       "config": {
        "plotlyServerURL": "https://plot.ly"
       },
       "data": [
        {
         "hovertemplate": "%{text}",
         "legendgroup": "",
         "marker": {
          "color": "#636efa",
          "size": 10,
          "symbol": "circle"
         },
         "mode": "markers+text",
         "name": "",
         "orientation": "v",
         "showlegend": false,
         "text": [
          "Natasha Correia Queiroz Lino",
          "LINO, NATASHA C.Q.",
          "LINO, N. C. Q.",
          "LINO, NATASHA C Q",
          "LINO, NATASHA C. Q.",
          "LINO, NATASHA CORREIA QUEIROZ",
          "LINO, NATASHA"
         ],
         "textposition": "top center",
         "type": "scatter",
         "x": {
          "bdata": "0Qjjwtnq5j8SNjSYwDLTvwGWdlXJwM2/EDY0mMAy078QNjSYwDLTv9AI48LZ6uY/EDY0mMAy078=",
          "dtype": "f8"
         },
         "xaxis": "x",
         "y": {
          "bdata": "BgW9VJielj98FPxHIdzDP8TkR80KRuW/chT8RyHcwz9yFPxHIdzDP/EEvVSYnpY/chT8RyHcwz8=",
          "dtype": "f8"
         },
         "yaxis": "y"
        }
       ],
       "layout": {
        "legend": {
         "tracegroupgap": 0
        },
        "template": {
         "data": {
          "bar": [
           {
            "error_x": {
             "color": "#2a3f5f"
            },
            "error_y": {
             "color": "#2a3f5f"
            },
            "marker": {
             "line": {
              "color": "#E5ECF6",
              "width": 0.5
             },
             "pattern": {
              "fillmode": "overlay",
              "size": 10,
              "solidity": 0.2
             }
            },
            "type": "bar"
           }
          ],
          "barpolar": [
           {
            "marker": {
             "line": {
              "color": "#E5ECF6",
              "width": 0.5
             },
             "pattern": {
              "fillmode": "overlay",
              "size": 10,
              "solidity": 0.2
             }
            },
            "type": "barpolar"
           }
          ],
          "carpet": [
           {
            "aaxis": {
             "endlinecolor": "#2a3f5f",
             "gridcolor": "white",
             "linecolor": "white",
             "minorgridcolor": "white",
             "startlinecolor": "#2a3f5f"
            },
            "baxis": {
             "endlinecolor": "#2a3f5f",
             "gridcolor": "white",
             "linecolor": "white",
             "minorgridcolor": "white",
             "startlinecolor": "#2a3f5f"
            },
            "type": "carpet"
           }
          ],
          "choropleth": [
           {
            "colorbar": {
             "outlinewidth": 0,
             "ticks": ""
            },
            "type": "choropleth"
           }
          ],
          "contour": [
           {
            "colorbar": {
             "outlinewidth": 0,
             "ticks": ""
            },
            "colorscale": [
             [
              0,
              "#0d0887"
             ],
             [
              0.1111111111111111,
              "#46039f"
             ],
             [
              0.2222222222222222,
              "#7201a8"
             ],
             [
              0.3333333333333333,
              "#9c179e"
             ],
             [
              0.4444444444444444,
              "#bd3786"
             ],
             [
              0.5555555555555556,
              "#d8576b"
             ],
             [
              0.6666666666666666,
              "#ed7953"
             ],
             [
              0.7777777777777778,
              "#fb9f3a"
             ],
             [
              0.8888888888888888,
              "#fdca26"
             ],
             [
              1,
              "#f0f921"
             ]
            ],
            "type": "contour"
           }
          ],
          "contourcarpet": [
           {
            "colorbar": {
             "outlinewidth": 0,
             "ticks": ""
            },
            "type": "contourcarpet"
           }
          ],
          "heatmap": [
           {
            "colorbar": {
             "outlinewidth": 0,
             "ticks": ""
            },
            "colorscale": [
             [
              0,
              "#0d0887"
             ],
             [
              0.1111111111111111,
              "#46039f"
             ],
             [
              0.2222222222222222,
              "#7201a8"
             ],
             [
              0.3333333333333333,
              "#9c179e"
             ],
             [
              0.4444444444444444,
              "#bd3786"
             ],
             [
              0.5555555555555556,
              "#d8576b"
             ],
             [
              0.6666666666666666,
              "#ed7953"
             ],
             [
              0.7777777777777778,
              "#fb9f3a"
             ],
             [
              0.8888888888888888,
              "#fdca26"
             ],
             [
              1,
              "#f0f921"
             ]
            ],
            "type": "heatmap"
           }
          ],
          "histogram": [
           {
            "marker": {
             "pattern": {
              "fillmode": "overlay",
              "size": 10,
              "solidity": 0.2
             }
            },
            "type": "histogram"
           }
          ],
          "histogram2d": [
           {
            "colorbar": {
             "outlinewidth": 0,
             "ticks": ""
            },
            "colorscale": [
             [
              0,
              "#0d0887"
             ],
             [
              0.1111111111111111,
              "#46039f"
             ],
             [
              0.2222222222222222,
              "#7201a8"
             ],
             [
              0.3333333333333333,
              "#9c179e"
             ],
             [
              0.4444444444444444,
              "#bd3786"
             ],
             [
              0.5555555555555556,
              "#d8576b"
             ],
             [
              0.6666666666666666,
              "#ed7953"
             ],
             [
              0.7777777777777778,
              "#fb9f3a"
             ],
             [
              0.8888888888888888,
              "#fdca26"
             ],
             [
              1,
              "#f0f921"
             ]
            ],
            "type": "histogram2d"
           }
          ],
          "histogram2dcontour": [
           {
            "colorbar": {
             "outlinewidth": 0,
             "ticks": ""
            },
            "colorscale": [
             [
              0,
              "#0d0887"
             ],
             [
              0.1111111111111111,
              "#46039f"
             ],
             [
              0.2222222222222222,
              "#7201a8"
             ],
             [
              0.3333333333333333,
              "#9c179e"
             ],
             [
              0.4444444444444444,
              "#bd3786"
             ],
             [
              0.5555555555555556,
              "#d8576b"
             ],
             [
              0.6666666666666666,
              "#ed7953"
             ],
             [
              0.7777777777777778,
              "#fb9f3a"
             ],
             [
              0.8888888888888888,
              "#fdca26"
             ],
             [
              1,
              "#f0f921"
             ]
            ],
            "type": "histogram2dcontour"
           }
          ],
          "mesh3d": [
           {
            "colorbar": {
             "outlinewidth": 0,
             "ticks": ""
            },
            "type": "mesh3d"
           }
          ],
          "parcoords": [
           {
            "line": {
             "colorbar": {
              "outlinewidth": 0,
              "ticks": ""
             }
            },
            "type": "parcoords"
           }
          ],
          "pie": [
           {
            "automargin": true,
            "type": "pie"
           }
          ],
          "scatter": [
           {
            "fillpattern": {
             "fillmode": "overlay",
             "size": 10,
             "solidity": 0.2
            },
            "type": "scatter"
           }
          ],
          "scatter3d": [
           {
            "line": {
             "colorbar": {
              "outlinewidth": 0,
              "ticks": ""
             }
            },
            "marker": {
             "colorbar": {
              "outlinewidth": 0,
              "ticks": ""
             }
            },
            "type": "scatter3d"
           }
          ],
          "scattercarpet": [
           {
            "marker": {
             "colorbar": {
              "outlinewidth": 0,
              "ticks": ""
             }
            },
            "type": "scattercarpet"
           }
          ],
          "scattergeo": [
           {
            "marker": {
             "colorbar": {
              "outlinewidth": 0,
              "ticks": ""
             }
            },
            "type": "scattergeo"
           }
          ],
          "scattergl": [
           {
            "marker": {
             "colorbar": {
              "outlinewidth": 0,
              "ticks": ""
             }
            },
            "type": "scattergl"
           }
          ],
          "scattermap": [
           {
            "marker": {
             "colorbar": {
              "outlinewidth": 0,
              "ticks": ""
             }
            },
            "type": "scattermap"
           }
          ],
          "scattermapbox": [
           {
            "marker": {
             "colorbar": {
              "outlinewidth": 0,
              "ticks": ""
             }
            },
            "type": "scattermapbox"
           }
          ],
          "scatterpolar": [
           {
            "marker": {
             "colorbar": {
              "outlinewidth": 0,
              "ticks": ""
             }
            },
            "type": "scatterpolar"
           }
          ],
          "scatterpolargl": [
           {
            "marker": {
             "colorbar": {
              "outlinewidth": 0,
              "ticks": ""
             }
            },
            "type": "scatterpolargl"
           }
          ],
          "scatterternary": [
           {
            "marker": {
             "colorbar": {
              "outlinewidth": 0,
              "ticks": ""
             }
            },
            "type": "scatterternary"
           }
          ],
          "surface": [
           {
            "colorbar": {
             "outlinewidth": 0,
             "ticks": ""
            },
            "colorscale": [
             [
              0,
              "#0d0887"
             ],
             [
              0.1111111111111111,
              "#46039f"
             ],
             [
              0.2222222222222222,
              "#7201a8"
             ],
             [
              0.3333333333333333,
              "#9c179e"
             ],
             [
              0.4444444444444444,
              "#bd3786"
             ],
             [
              0.5555555555555556,
              "#d8576b"
             ],
             [
              0.6666666666666666,
              "#ed7953"
             ],
             [
              0.7777777777777778,
              "#fb9f3a"
             ],
             [
              0.8888888888888888,
              "#fdca26"
             ],
             [
              1,
              "#f0f921"
             ]
            ],
            "type": "surface"
           }
          ],
          "table": [
           {
            "cells": {
             "fill": {
              "color": "#EBF0F8"
             },
             "line": {
              "color": "white"
             }
            },
            "header": {
             "fill": {
              "color": "#C8D4E3"
             },
             "line": {
              "color": "white"
             }
            },
            "type": "table"
           }
          ]
         },
         "layout": {
          "annotationdefaults": {
           "arrowcolor": "#2a3f5f",
           "arrowhead": 0,
           "arrowwidth": 1
          },
          "autotypenumbers": "strict",
          "coloraxis": {
           "colorbar": {
            "outlinewidth": 0,
            "ticks": ""
           }
          },
          "colorscale": {
           "diverging": [
            [
             0,
             "#8e0152"
            ],
            [
             0.1,
             "#c51b7d"
            ],
            [
             0.2,
             "#de77ae"
            ],
            [
             0.3,
             "#f1b6da"
            ],
            [
             0.4,
             "#fde0ef"
            ],
            [
             0.5,
             "#f7f7f7"
            ],
            [
             0.6,
             "#e6f5d0"
            ],
            [
             0.7,
             "#b8e186"
            ],
            [
             0.8,
             "#7fbc41"
            ],
            [
             0.9,
             "#4d9221"
            ],
            [
             1,
             "#276419"
            ]
           ],
           "sequential": [
            [
             0,
             "#0d0887"
            ],
            [
             0.1111111111111111,
             "#46039f"
            ],
            [
             0.2222222222222222,
             "#7201a8"
            ],
            [
             0.3333333333333333,
             "#9c179e"
            ],
            [
             0.4444444444444444,
             "#bd3786"
            ],
            [
             0.5555555555555556,
             "#d8576b"
            ],
            [
             0.6666666666666666,
             "#ed7953"
            ],
            [
             0.7777777777777778,
             "#fb9f3a"
            ],
            [
             0.8888888888888888,
             "#fdca26"
            ],
            [
             1,
             "#f0f921"
            ]
           ],
           "sequentialminus": [
            [
             0,
             "#0d0887"
            ],
            [
             0.1111111111111111,
             "#46039f"
            ],
            [
             0.2222222222222222,
             "#7201a8"
            ],
            [
             0.3333333333333333,
             "#9c179e"
            ],
            [
             0.4444444444444444,
             "#bd3786"
            ],
            [
             0.5555555555555556,
             "#d8576b"
            ],
            [
             0.6666666666666666,
             "#ed7953"
            ],
            [
             0.7777777777777778,
             "#fb9f3a"
            ],
            [
             0.8888888888888888,
             "#fdca26"
            ],
            [
             1,
             "#f0f921"
            ]
           ]
          },
          "colorway": [
           "#636efa",
           "#EF553B",
           "#00cc96",
           "#ab63fa",
           "#FFA15A",
           "#19d3f3",
           "#FF6692",
           "#B6E880",
           "#FF97FF",
           "#FECB52"
          ],
          "font": {
           "color": "#2a3f5f"
          },
          "geo": {
           "bgcolor": "white",
           "lakecolor": "white",
           "landcolor": "#E5ECF6",
           "showlakes": true,
           "showland": true,
           "subunitcolor": "white"
          },
          "hoverlabel": {
           "align": "left"
          },
          "hovermode": "closest",
          "mapbox": {
           "style": "light"
          },
          "paper_bgcolor": "white",
          "plot_bgcolor": "#E5ECF6",
          "polar": {
           "angularaxis": {
            "gridcolor": "white",
            "linecolor": "white",
            "ticks": ""
           },
           "bgcolor": "#E5ECF6",
           "radialaxis": {
            "gridcolor": "white",
            "linecolor": "white",
            "ticks": ""
           }
          },
          "scene": {
           "xaxis": {
            "backgroundcolor": "#E5ECF6",
            "gridcolor": "white",
            "gridwidth": 2,
            "linecolor": "white",
            "showbackground": true,
            "ticks": "",
            "zerolinecolor": "white"
           },
           "yaxis": {
            "backgroundcolor": "#E5ECF6",
            "gridcolor": "white",
            "gridwidth": 2,
            "linecolor": "white",
            "showbackground": true,
            "ticks": "",
            "zerolinecolor": "white"
           },
           "zaxis": {
            "backgroundcolor": "#E5ECF6",
            "gridcolor": "white",
            "gridwidth": 2,
            "linecolor": "white",
            "showbackground": true,
            "ticks": "",
            "zerolinecolor": "white"
           }
          },
          "shapedefaults": {
           "line": {
            "color": "#2a3f5f"
           }
          },
          "ternary": {
           "aaxis": {
            "gridcolor": "white",
            "linecolor": "white",
            "ticks": ""
           },
           "baxis": {
            "gridcolor": "white",
            "linecolor": "white",
            "ticks": ""
           },
           "bgcolor": "#E5ECF6",
           "caxis": {
            "gridcolor": "white",
            "linecolor": "white",
            "ticks": ""
           }
          },
          "title": {
           "x": 0.05
          },
          "xaxis": {
           "automargin": true,
           "gridcolor": "white",
           "linecolor": "white",
           "ticks": "",
           "title": {
            "standoff": 15
           },
           "zerolinecolor": "white",
           "zerolinewidth": 2
          },
          "yaxis": {
           "automargin": true,
           "gridcolor": "white",
           "linecolor": "white",
           "ticks": "",
           "title": {
            "standoff": 15
           },
           "zerolinecolor": "white",
           "zerolinewidth": 2
          }
         }
        },
        "title": {
         "text": "Localização dos nomes de citação - Professores com 'N'"
        },
        "xaxis": {
         "anchor": "y",
         "domain": [
          0,
          1
         ],
         "title": {
          "text": "PCA 1"
         }
        },
        "yaxis": {
         "anchor": "x",
         "domain": [
          0,
          1
         ],
         "title": {
          "text": "PCA 2"
         }
        }
       }
      }
     },
     "metadata": {},
     "output_type": "display_data"
    },
    {
     "name": "stdout",
     "output_type": "stream",
     "text": [
      "\n",
      "Professores e nomes de citação do grupo 'N':\n",
      "- Natasha Correia Queiroz Lino  (PCA: 0.716, 0.022)\n",
      "    • LINO, NATASHA C.Q.  (PCA: -0.300, 0.155)\n",
      "    • LINO, N. C. Q.  (PCA: -0.232, -0.665)\n",
      "    • LINO, NATASHA C Q  (PCA: -0.300, 0.155)\n",
      "    • LINO, NATASHA C. Q.  (PCA: -0.300, 0.155)\n",
      "    • LINO, NATASHA CORREIA QUEIROZ  (PCA: 0.716, 0.022)\n",
      "    • LINO, NATASHA  (PCA: -0.300, 0.155)\n"
     ]
    },
    {
     "data": {
      "application/vnd.plotly.v1+json": {
       "config": {
        "plotlyServerURL": "https://plot.ly"
       },
       "data": [
        {
         "hovertemplate": "%{text}",
         "legendgroup": "",
         "marker": {
          "color": "#636efa",
          "size": 10,
          "symbol": "circle"
         },
         "mode": "markers+text",
         "name": "",
         "orientation": "v",
         "showlegend": false,
         "text": [
          "Raoni Kulesza",
          "ABÁSOLO, MARÍA JOSÉ, KULESZA, RAONI",
          "ABÁSOLO, M. J.",
          "MARÍA JOSÉ ABÁSOLO, RAONI KULESZA",
          "MARÍA JOSÉ ABÁSOLO",
          "KULESZA, R.",
          "KULESZA, RAONI",
          "ABÁSOLO, M. J., KULESZA, R.",
          "Roberto Quirino do Nascimento",
          "NASCIMENTO, ROBERTO QUIRINO",
          "QUIRINO DO NASCIMENTO, ROBERTO",
          "NASCIMENTO, ROBERTO QUIRINO DO",
          "DO NASCIMENTO, ROBERTO QUIRINO",
          "NASCIMENTO, R. Q."
         ],
         "textposition": "top center",
         "type": "scatter",
         "x": {
          "bdata": "5J+4T2tX4L/tErKkQL7jvwEudbl+wdW/7hKypEC+479HXqPWWEfav6qeCoVqK9y/5J+4T2tX4L812FG7pgzhv8mFk1ubVOc/GYPYP1wg5T/JhZNbm1TnP8mFk1ubVOc/yYWTW5tU5z8rciQBrL7ZPw==",
          "dtype": "f8"
         },
         "xaxis": "x",
         "y": {
          "bdata": "DOX34pnJ479IAW6kPyzKP1tWvdHw7+M/QQFupD8syj/S/DyaMqfmP5loXEp3veC/DOX34pnJ479JqIuqxI+4PyQV2jMKXJG/OubpbBFKib8kFdozClyRvyQV2jMKXJG/JBXaMwpckb+tDSp8ZAxxPw==",
          "dtype": "f8"
         },
         "yaxis": "y"
        }
       ],
       "layout": {
        "legend": {
         "tracegroupgap": 0
        },
        "template": {
         "data": {
          "bar": [
           {
            "error_x": {
             "color": "#2a3f5f"
            },
            "error_y": {
             "color": "#2a3f5f"
            },
            "marker": {
             "line": {
              "color": "#E5ECF6",
              "width": 0.5
             },
             "pattern": {
              "fillmode": "overlay",
              "size": 10,
              "solidity": 0.2
             }
            },
            "type": "bar"
           }
          ],
          "barpolar": [
           {
            "marker": {
             "line": {
              "color": "#E5ECF6",
              "width": 0.5
             },
             "pattern": {
              "fillmode": "overlay",
              "size": 10,
              "solidity": 0.2
             }
            },
            "type": "barpolar"
           }
          ],
          "carpet": [
           {
            "aaxis": {
             "endlinecolor": "#2a3f5f",
             "gridcolor": "white",
             "linecolor": "white",
             "minorgridcolor": "white",
             "startlinecolor": "#2a3f5f"
            },
            "baxis": {
             "endlinecolor": "#2a3f5f",
             "gridcolor": "white",
             "linecolor": "white",
             "minorgridcolor": "white",
             "startlinecolor": "#2a3f5f"
            },
            "type": "carpet"
           }
          ],
          "choropleth": [
           {
            "colorbar": {
             "outlinewidth": 0,
             "ticks": ""
            },
            "type": "choropleth"
           }
          ],
          "contour": [
           {
            "colorbar": {
             "outlinewidth": 0,
             "ticks": ""
            },
            "colorscale": [
             [
              0,
              "#0d0887"
             ],
             [
              0.1111111111111111,
              "#46039f"
             ],
             [
              0.2222222222222222,
              "#7201a8"
             ],
             [
              0.3333333333333333,
              "#9c179e"
             ],
             [
              0.4444444444444444,
              "#bd3786"
             ],
             [
              0.5555555555555556,
              "#d8576b"
             ],
             [
              0.6666666666666666,
              "#ed7953"
             ],
             [
              0.7777777777777778,
              "#fb9f3a"
             ],
             [
              0.8888888888888888,
              "#fdca26"
             ],
             [
              1,
              "#f0f921"
             ]
            ],
            "type": "contour"
           }
          ],
          "contourcarpet": [
           {
            "colorbar": {
             "outlinewidth": 0,
             "ticks": ""
            },
            "type": "contourcarpet"
           }
          ],
          "heatmap": [
           {
            "colorbar": {
             "outlinewidth": 0,
             "ticks": ""
            },
            "colorscale": [
             [
              0,
              "#0d0887"
             ],
             [
              0.1111111111111111,
              "#46039f"
             ],
             [
              0.2222222222222222,
              "#7201a8"
             ],
             [
              0.3333333333333333,
              "#9c179e"
             ],
             [
              0.4444444444444444,
              "#bd3786"
             ],
             [
              0.5555555555555556,
              "#d8576b"
             ],
             [
              0.6666666666666666,
              "#ed7953"
             ],
             [
              0.7777777777777778,
              "#fb9f3a"
             ],
             [
              0.8888888888888888,
              "#fdca26"
             ],
             [
              1,
              "#f0f921"
             ]
            ],
            "type": "heatmap"
           }
          ],
          "histogram": [
           {
            "marker": {
             "pattern": {
              "fillmode": "overlay",
              "size": 10,
              "solidity": 0.2
             }
            },
            "type": "histogram"
           }
          ],
          "histogram2d": [
           {
            "colorbar": {
             "outlinewidth": 0,
             "ticks": ""
            },
            "colorscale": [
             [
              0,
              "#0d0887"
             ],
             [
              0.1111111111111111,
              "#46039f"
             ],
             [
              0.2222222222222222,
              "#7201a8"
             ],
             [
              0.3333333333333333,
              "#9c179e"
             ],
             [
              0.4444444444444444,
              "#bd3786"
             ],
             [
              0.5555555555555556,
              "#d8576b"
             ],
             [
              0.6666666666666666,
              "#ed7953"
             ],
             [
              0.7777777777777778,
              "#fb9f3a"
             ],
             [
              0.8888888888888888,
              "#fdca26"
             ],
             [
              1,
              "#f0f921"
             ]
            ],
            "type": "histogram2d"
           }
          ],
          "histogram2dcontour": [
           {
            "colorbar": {
             "outlinewidth": 0,
             "ticks": ""
            },
            "colorscale": [
             [
              0,
              "#0d0887"
             ],
             [
              0.1111111111111111,
              "#46039f"
             ],
             [
              0.2222222222222222,
              "#7201a8"
             ],
             [
              0.3333333333333333,
              "#9c179e"
             ],
             [
              0.4444444444444444,
              "#bd3786"
             ],
             [
              0.5555555555555556,
              "#d8576b"
             ],
             [
              0.6666666666666666,
              "#ed7953"
             ],
             [
              0.7777777777777778,
              "#fb9f3a"
             ],
             [
              0.8888888888888888,
              "#fdca26"
             ],
             [
              1,
              "#f0f921"
             ]
            ],
            "type": "histogram2dcontour"
           }
          ],
          "mesh3d": [
           {
            "colorbar": {
             "outlinewidth": 0,
             "ticks": ""
            },
            "type": "mesh3d"
           }
          ],
          "parcoords": [
           {
            "line": {
             "colorbar": {
              "outlinewidth": 0,
              "ticks": ""
             }
            },
            "type": "parcoords"
           }
          ],
          "pie": [
           {
            "automargin": true,
            "type": "pie"
           }
          ],
          "scatter": [
           {
            "fillpattern": {
             "fillmode": "overlay",
             "size": 10,
             "solidity": 0.2
            },
            "type": "scatter"
           }
          ],
          "scatter3d": [
           {
            "line": {
             "colorbar": {
              "outlinewidth": 0,
              "ticks": ""
             }
            },
            "marker": {
             "colorbar": {
              "outlinewidth": 0,
              "ticks": ""
             }
            },
            "type": "scatter3d"
           }
          ],
          "scattercarpet": [
           {
            "marker": {
             "colorbar": {
              "outlinewidth": 0,
              "ticks": ""
             }
            },
            "type": "scattercarpet"
           }
          ],
          "scattergeo": [
           {
            "marker": {
             "colorbar": {
              "outlinewidth": 0,
              "ticks": ""
             }
            },
            "type": "scattergeo"
           }
          ],
          "scattergl": [
           {
            "marker": {
             "colorbar": {
              "outlinewidth": 0,
              "ticks": ""
             }
            },
            "type": "scattergl"
           }
          ],
          "scattermap": [
           {
            "marker": {
             "colorbar": {
              "outlinewidth": 0,
              "ticks": ""
             }
            },
            "type": "scattermap"
           }
          ],
          "scattermapbox": [
           {
            "marker": {
             "colorbar": {
              "outlinewidth": 0,
              "ticks": ""
             }
            },
            "type": "scattermapbox"
           }
          ],
          "scatterpolar": [
           {
            "marker": {
             "colorbar": {
              "outlinewidth": 0,
              "ticks": ""
             }
            },
            "type": "scatterpolar"
           }
          ],
          "scatterpolargl": [
           {
            "marker": {
             "colorbar": {
              "outlinewidth": 0,
              "ticks": ""
             }
            },
            "type": "scatterpolargl"
           }
          ],
          "scatterternary": [
           {
            "marker": {
             "colorbar": {
              "outlinewidth": 0,
              "ticks": ""
             }
            },
            "type": "scatterternary"
           }
          ],
          "surface": [
           {
            "colorbar": {
             "outlinewidth": 0,
             "ticks": ""
            },
            "colorscale": [
             [
              0,
              "#0d0887"
             ],
             [
              0.1111111111111111,
              "#46039f"
             ],
             [
              0.2222222222222222,
              "#7201a8"
             ],
             [
              0.3333333333333333,
              "#9c179e"
             ],
             [
              0.4444444444444444,
              "#bd3786"
             ],
             [
              0.5555555555555556,
              "#d8576b"
             ],
             [
              0.6666666666666666,
              "#ed7953"
             ],
             [
              0.7777777777777778,
              "#fb9f3a"
             ],
             [
              0.8888888888888888,
              "#fdca26"
             ],
             [
              1,
              "#f0f921"
             ]
            ],
            "type": "surface"
           }
          ],
          "table": [
           {
            "cells": {
             "fill": {
              "color": "#EBF0F8"
             },
             "line": {
              "color": "white"
             }
            },
            "header": {
             "fill": {
              "color": "#C8D4E3"
             },
             "line": {
              "color": "white"
             }
            },
            "type": "table"
           }
          ]
         },
         "layout": {
          "annotationdefaults": {
           "arrowcolor": "#2a3f5f",
           "arrowhead": 0,
           "arrowwidth": 1
          },
          "autotypenumbers": "strict",
          "coloraxis": {
           "colorbar": {
            "outlinewidth": 0,
            "ticks": ""
           }
          },
          "colorscale": {
           "diverging": [
            [
             0,
             "#8e0152"
            ],
            [
             0.1,
             "#c51b7d"
            ],
            [
             0.2,
             "#de77ae"
            ],
            [
             0.3,
             "#f1b6da"
            ],
            [
             0.4,
             "#fde0ef"
            ],
            [
             0.5,
             "#f7f7f7"
            ],
            [
             0.6,
             "#e6f5d0"
            ],
            [
             0.7,
             "#b8e186"
            ],
            [
             0.8,
             "#7fbc41"
            ],
            [
             0.9,
             "#4d9221"
            ],
            [
             1,
             "#276419"
            ]
           ],
           "sequential": [
            [
             0,
             "#0d0887"
            ],
            [
             0.1111111111111111,
             "#46039f"
            ],
            [
             0.2222222222222222,
             "#7201a8"
            ],
            [
             0.3333333333333333,
             "#9c179e"
            ],
            [
             0.4444444444444444,
             "#bd3786"
            ],
            [
             0.5555555555555556,
             "#d8576b"
            ],
            [
             0.6666666666666666,
             "#ed7953"
            ],
            [
             0.7777777777777778,
             "#fb9f3a"
            ],
            [
             0.8888888888888888,
             "#fdca26"
            ],
            [
             1,
             "#f0f921"
            ]
           ],
           "sequentialminus": [
            [
             0,
             "#0d0887"
            ],
            [
             0.1111111111111111,
             "#46039f"
            ],
            [
             0.2222222222222222,
             "#7201a8"
            ],
            [
             0.3333333333333333,
             "#9c179e"
            ],
            [
             0.4444444444444444,
             "#bd3786"
            ],
            [
             0.5555555555555556,
             "#d8576b"
            ],
            [
             0.6666666666666666,
             "#ed7953"
            ],
            [
             0.7777777777777778,
             "#fb9f3a"
            ],
            [
             0.8888888888888888,
             "#fdca26"
            ],
            [
             1,
             "#f0f921"
            ]
           ]
          },
          "colorway": [
           "#636efa",
           "#EF553B",
           "#00cc96",
           "#ab63fa",
           "#FFA15A",
           "#19d3f3",
           "#FF6692",
           "#B6E880",
           "#FF97FF",
           "#FECB52"
          ],
          "font": {
           "color": "#2a3f5f"
          },
          "geo": {
           "bgcolor": "white",
           "lakecolor": "white",
           "landcolor": "#E5ECF6",
           "showlakes": true,
           "showland": true,
           "subunitcolor": "white"
          },
          "hoverlabel": {
           "align": "left"
          },
          "hovermode": "closest",
          "mapbox": {
           "style": "light"
          },
          "paper_bgcolor": "white",
          "plot_bgcolor": "#E5ECF6",
          "polar": {
           "angularaxis": {
            "gridcolor": "white",
            "linecolor": "white",
            "ticks": ""
           },
           "bgcolor": "#E5ECF6",
           "radialaxis": {
            "gridcolor": "white",
            "linecolor": "white",
            "ticks": ""
           }
          },
          "scene": {
           "xaxis": {
            "backgroundcolor": "#E5ECF6",
            "gridcolor": "white",
            "gridwidth": 2,
            "linecolor": "white",
            "showbackground": true,
            "ticks": "",
            "zerolinecolor": "white"
           },
           "yaxis": {
            "backgroundcolor": "#E5ECF6",
            "gridcolor": "white",
            "gridwidth": 2,
            "linecolor": "white",
            "showbackground": true,
            "ticks": "",
            "zerolinecolor": "white"
           },
           "zaxis": {
            "backgroundcolor": "#E5ECF6",
            "gridcolor": "white",
            "gridwidth": 2,
            "linecolor": "white",
            "showbackground": true,
            "ticks": "",
            "zerolinecolor": "white"
           }
          },
          "shapedefaults": {
           "line": {
            "color": "#2a3f5f"
           }
          },
          "ternary": {
           "aaxis": {
            "gridcolor": "white",
            "linecolor": "white",
            "ticks": ""
           },
           "baxis": {
            "gridcolor": "white",
            "linecolor": "white",
            "ticks": ""
           },
           "bgcolor": "#E5ECF6",
           "caxis": {
            "gridcolor": "white",
            "linecolor": "white",
            "ticks": ""
           }
          },
          "title": {
           "x": 0.05
          },
          "xaxis": {
           "automargin": true,
           "gridcolor": "white",
           "linecolor": "white",
           "ticks": "",
           "title": {
            "standoff": 15
           },
           "zerolinecolor": "white",
           "zerolinewidth": 2
          },
          "yaxis": {
           "automargin": true,
           "gridcolor": "white",
           "linecolor": "white",
           "ticks": "",
           "title": {
            "standoff": 15
           },
           "zerolinecolor": "white",
           "zerolinewidth": 2
          }
         }
        },
        "title": {
         "text": "Localização dos nomes de citação - Professores com 'R'"
        },
        "xaxis": {
         "anchor": "y",
         "domain": [
          0,
          1
         ],
         "title": {
          "text": "PCA 1"
         }
        },
        "yaxis": {
         "anchor": "x",
         "domain": [
          0,
          1
         ],
         "title": {
          "text": "PCA 2"
         }
        }
       }
      }
     },
     "metadata": {},
     "output_type": "display_data"
    },
    {
     "name": "stdout",
     "output_type": "stream",
     "text": [
      "\n",
      "Professores e nomes de citação do grupo 'R':\n",
      "- Raoni Kulesza  (PCA: -0.511, -0.618)\n",
      "    • ABÁSOLO, MARÍA JOSÉ, KULESZA, RAONI  (PCA: -0.617, 0.204)\n",
      "    • ABÁSOLO, M. J.  (PCA: -0.340, 0.623)\n",
      "    • MARÍA JOSÉ ABÁSOLO, RAONI KULESZA  (PCA: -0.617, 0.204)\n",
      "    • MARÍA JOSÉ ABÁSOLO  (PCA: -0.411, 0.708)\n",
      "    • KULESZA, R.  (PCA: -0.440, -0.523)\n",
      "    • KULESZA, RAONI  (PCA: -0.511, -0.618)\n",
      "    • ABÁSOLO, M. J., KULESZA, R.  (PCA: -0.533, 0.096)\n",
      "- Roberto Quirino do Nascimento  (PCA: 0.729, -0.017)\n",
      "    • NASCIMENTO, ROBERTO QUIRINO  (PCA: 0.660, -0.012)\n",
      "    • QUIRINO DO NASCIMENTO, ROBERTO  (PCA: 0.729, -0.017)\n",
      "    • NASCIMENTO, ROBERTO QUIRINO DO  (PCA: 0.729, -0.017)\n",
      "    • DO NASCIMENTO, ROBERTO QUIRINO  (PCA: 0.729, -0.017)\n",
      "    • NASCIMENTO, R. Q.  (PCA: 0.402, 0.004)\n"
     ]
    },
    {
     "data": {
      "application/vnd.plotly.v1+json": {
       "config": {
        "plotlyServerURL": "https://plot.ly"
       },
       "data": [
        {
         "hovertemplate": "%{text}",
         "legendgroup": "",
         "marker": {
          "color": "#636efa",
          "size": 10,
          "symbol": "circle"
         },
         "mode": "markers+text",
         "name": "",
         "orientation": "v",
         "showlegend": false,
         "text": [
          "Sérgio de Carvalho Bezerra",
          "BEZERRA, SÉRGIO C.",
          "S.C.BEZERRA",
          "S. DE CARVALHO",
          "SÉRGIO DE CARVALHO BEZERRA",
          "S. CARVALHO",
          "DE CARVALHO BEZERRA, SÉRGIO",
          "BEZERRA, SÉRGIO",
          "BEZERRA,S. DE C"
         ],
         "textposition": "top center",
         "type": "scatter",
         "x": {
          "bdata": "fT06KncBwD/PAvyyRh/jv0+Sw0W5HOG/ShdDra9Y5z+OPToqdwHAP00B3xHqu+Y/jj06KncBwD/QAvyyRh/jv8F2kZhj07W/",
          "dtype": "f8"
         },
         "xaxis": "x",
         "y": {
          "bdata": "pP2MYIMksz+yhTonyEvTP1ZegFB4GNS/1amNhonVx7+i/YxggySzP1lJCSGM59U/ov2MYIMksz+zhTonyEvTP+FvEPKga+W/",
          "dtype": "f8"
         },
         "yaxis": "y"
        }
       ],
       "layout": {
        "legend": {
         "tracegroupgap": 0
        },
        "template": {
         "data": {
          "bar": [
           {
            "error_x": {
             "color": "#2a3f5f"
            },
            "error_y": {
             "color": "#2a3f5f"
            },
            "marker": {
             "line": {
              "color": "#E5ECF6",
              "width": 0.5
             },
             "pattern": {
              "fillmode": "overlay",
              "size": 10,
              "solidity": 0.2
             }
            },
            "type": "bar"
           }
          ],
          "barpolar": [
           {
            "marker": {
             "line": {
              "color": "#E5ECF6",
              "width": 0.5
             },
             "pattern": {
              "fillmode": "overlay",
              "size": 10,
              "solidity": 0.2
             }
            },
            "type": "barpolar"
           }
          ],
          "carpet": [
           {
            "aaxis": {
             "endlinecolor": "#2a3f5f",
             "gridcolor": "white",
             "linecolor": "white",
             "minorgridcolor": "white",
             "startlinecolor": "#2a3f5f"
            },
            "baxis": {
             "endlinecolor": "#2a3f5f",
             "gridcolor": "white",
             "linecolor": "white",
             "minorgridcolor": "white",
             "startlinecolor": "#2a3f5f"
            },
            "type": "carpet"
           }
          ],
          "choropleth": [
           {
            "colorbar": {
             "outlinewidth": 0,
             "ticks": ""
            },
            "type": "choropleth"
           }
          ],
          "contour": [
           {
            "colorbar": {
             "outlinewidth": 0,
             "ticks": ""
            },
            "colorscale": [
             [
              0,
              "#0d0887"
             ],
             [
              0.1111111111111111,
              "#46039f"
             ],
             [
              0.2222222222222222,
              "#7201a8"
             ],
             [
              0.3333333333333333,
              "#9c179e"
             ],
             [
              0.4444444444444444,
              "#bd3786"
             ],
             [
              0.5555555555555556,
              "#d8576b"
             ],
             [
              0.6666666666666666,
              "#ed7953"
             ],
             [
              0.7777777777777778,
              "#fb9f3a"
             ],
             [
              0.8888888888888888,
              "#fdca26"
             ],
             [
              1,
              "#f0f921"
             ]
            ],
            "type": "contour"
           }
          ],
          "contourcarpet": [
           {
            "colorbar": {
             "outlinewidth": 0,
             "ticks": ""
            },
            "type": "contourcarpet"
           }
          ],
          "heatmap": [
           {
            "colorbar": {
             "outlinewidth": 0,
             "ticks": ""
            },
            "colorscale": [
             [
              0,
              "#0d0887"
             ],
             [
              0.1111111111111111,
              "#46039f"
             ],
             [
              0.2222222222222222,
              "#7201a8"
             ],
             [
              0.3333333333333333,
              "#9c179e"
             ],
             [
              0.4444444444444444,
              "#bd3786"
             ],
             [
              0.5555555555555556,
              "#d8576b"
             ],
             [
              0.6666666666666666,
              "#ed7953"
             ],
             [
              0.7777777777777778,
              "#fb9f3a"
             ],
             [
              0.8888888888888888,
              "#fdca26"
             ],
             [
              1,
              "#f0f921"
             ]
            ],
            "type": "heatmap"
           }
          ],
          "histogram": [
           {
            "marker": {
             "pattern": {
              "fillmode": "overlay",
              "size": 10,
              "solidity": 0.2
             }
            },
            "type": "histogram"
           }
          ],
          "histogram2d": [
           {
            "colorbar": {
             "outlinewidth": 0,
             "ticks": ""
            },
            "colorscale": [
             [
              0,
              "#0d0887"
             ],
             [
              0.1111111111111111,
              "#46039f"
             ],
             [
              0.2222222222222222,
              "#7201a8"
             ],
             [
              0.3333333333333333,
              "#9c179e"
             ],
             [
              0.4444444444444444,
              "#bd3786"
             ],
             [
              0.5555555555555556,
              "#d8576b"
             ],
             [
              0.6666666666666666,
              "#ed7953"
             ],
             [
              0.7777777777777778,
              "#fb9f3a"
             ],
             [
              0.8888888888888888,
              "#fdca26"
             ],
             [
              1,
              "#f0f921"
             ]
            ],
            "type": "histogram2d"
           }
          ],
          "histogram2dcontour": [
           {
            "colorbar": {
             "outlinewidth": 0,
             "ticks": ""
            },
            "colorscale": [
             [
              0,
              "#0d0887"
             ],
             [
              0.1111111111111111,
              "#46039f"
             ],
             [
              0.2222222222222222,
              "#7201a8"
             ],
             [
              0.3333333333333333,
              "#9c179e"
             ],
             [
              0.4444444444444444,
              "#bd3786"
             ],
             [
              0.5555555555555556,
              "#d8576b"
             ],
             [
              0.6666666666666666,
              "#ed7953"
             ],
             [
              0.7777777777777778,
              "#fb9f3a"
             ],
             [
              0.8888888888888888,
              "#fdca26"
             ],
             [
              1,
              "#f0f921"
             ]
            ],
            "type": "histogram2dcontour"
           }
          ],
          "mesh3d": [
           {
            "colorbar": {
             "outlinewidth": 0,
             "ticks": ""
            },
            "type": "mesh3d"
           }
          ],
          "parcoords": [
           {
            "line": {
             "colorbar": {
              "outlinewidth": 0,
              "ticks": ""
             }
            },
            "type": "parcoords"
           }
          ],
          "pie": [
           {
            "automargin": true,
            "type": "pie"
           }
          ],
          "scatter": [
           {
            "fillpattern": {
             "fillmode": "overlay",
             "size": 10,
             "solidity": 0.2
            },
            "type": "scatter"
           }
          ],
          "scatter3d": [
           {
            "line": {
             "colorbar": {
              "outlinewidth": 0,
              "ticks": ""
             }
            },
            "marker": {
             "colorbar": {
              "outlinewidth": 0,
              "ticks": ""
             }
            },
            "type": "scatter3d"
           }
          ],
          "scattercarpet": [
           {
            "marker": {
             "colorbar": {
              "outlinewidth": 0,
              "ticks": ""
             }
            },
            "type": "scattercarpet"
           }
          ],
          "scattergeo": [
           {
            "marker": {
             "colorbar": {
              "outlinewidth": 0,
              "ticks": ""
             }
            },
            "type": "scattergeo"
           }
          ],
          "scattergl": [
           {
            "marker": {
             "colorbar": {
              "outlinewidth": 0,
              "ticks": ""
             }
            },
            "type": "scattergl"
           }
          ],
          "scattermap": [
           {
            "marker": {
             "colorbar": {
              "outlinewidth": 0,
              "ticks": ""
             }
            },
            "type": "scattermap"
           }
          ],
          "scattermapbox": [
           {
            "marker": {
             "colorbar": {
              "outlinewidth": 0,
              "ticks": ""
             }
            },
            "type": "scattermapbox"
           }
          ],
          "scatterpolar": [
           {
            "marker": {
             "colorbar": {
              "outlinewidth": 0,
              "ticks": ""
             }
            },
            "type": "scatterpolar"
           }
          ],
          "scatterpolargl": [
           {
            "marker": {
             "colorbar": {
              "outlinewidth": 0,
              "ticks": ""
             }
            },
            "type": "scatterpolargl"
           }
          ],
          "scatterternary": [
           {
            "marker": {
             "colorbar": {
              "outlinewidth": 0,
              "ticks": ""
             }
            },
            "type": "scatterternary"
           }
          ],
          "surface": [
           {
            "colorbar": {
             "outlinewidth": 0,
             "ticks": ""
            },
            "colorscale": [
             [
              0,
              "#0d0887"
             ],
             [
              0.1111111111111111,
              "#46039f"
             ],
             [
              0.2222222222222222,
              "#7201a8"
             ],
             [
              0.3333333333333333,
              "#9c179e"
             ],
             [
              0.4444444444444444,
              "#bd3786"
             ],
             [
              0.5555555555555556,
              "#d8576b"
             ],
             [
              0.6666666666666666,
              "#ed7953"
             ],
             [
              0.7777777777777778,
              "#fb9f3a"
             ],
             [
              0.8888888888888888,
              "#fdca26"
             ],
             [
              1,
              "#f0f921"
             ]
            ],
            "type": "surface"
           }
          ],
          "table": [
           {
            "cells": {
             "fill": {
              "color": "#EBF0F8"
             },
             "line": {
              "color": "white"
             }
            },
            "header": {
             "fill": {
              "color": "#C8D4E3"
             },
             "line": {
              "color": "white"
             }
            },
            "type": "table"
           }
          ]
         },
         "layout": {
          "annotationdefaults": {
           "arrowcolor": "#2a3f5f",
           "arrowhead": 0,
           "arrowwidth": 1
          },
          "autotypenumbers": "strict",
          "coloraxis": {
           "colorbar": {
            "outlinewidth": 0,
            "ticks": ""
           }
          },
          "colorscale": {
           "diverging": [
            [
             0,
             "#8e0152"
            ],
            [
             0.1,
             "#c51b7d"
            ],
            [
             0.2,
             "#de77ae"
            ],
            [
             0.3,
             "#f1b6da"
            ],
            [
             0.4,
             "#fde0ef"
            ],
            [
             0.5,
             "#f7f7f7"
            ],
            [
             0.6,
             "#e6f5d0"
            ],
            [
             0.7,
             "#b8e186"
            ],
            [
             0.8,
             "#7fbc41"
            ],
            [
             0.9,
             "#4d9221"
            ],
            [
             1,
             "#276419"
            ]
           ],
           "sequential": [
            [
             0,
             "#0d0887"
            ],
            [
             0.1111111111111111,
             "#46039f"
            ],
            [
             0.2222222222222222,
             "#7201a8"
            ],
            [
             0.3333333333333333,
             "#9c179e"
            ],
            [
             0.4444444444444444,
             "#bd3786"
            ],
            [
             0.5555555555555556,
             "#d8576b"
            ],
            [
             0.6666666666666666,
             "#ed7953"
            ],
            [
             0.7777777777777778,
             "#fb9f3a"
            ],
            [
             0.8888888888888888,
             "#fdca26"
            ],
            [
             1,
             "#f0f921"
            ]
           ],
           "sequentialminus": [
            [
             0,
             "#0d0887"
            ],
            [
             0.1111111111111111,
             "#46039f"
            ],
            [
             0.2222222222222222,
             "#7201a8"
            ],
            [
             0.3333333333333333,
             "#9c179e"
            ],
            [
             0.4444444444444444,
             "#bd3786"
            ],
            [
             0.5555555555555556,
             "#d8576b"
            ],
            [
             0.6666666666666666,
             "#ed7953"
            ],
            [
             0.7777777777777778,
             "#fb9f3a"
            ],
            [
             0.8888888888888888,
             "#fdca26"
            ],
            [
             1,
             "#f0f921"
            ]
           ]
          },
          "colorway": [
           "#636efa",
           "#EF553B",
           "#00cc96",
           "#ab63fa",
           "#FFA15A",
           "#19d3f3",
           "#FF6692",
           "#B6E880",
           "#FF97FF",
           "#FECB52"
          ],
          "font": {
           "color": "#2a3f5f"
          },
          "geo": {
           "bgcolor": "white",
           "lakecolor": "white",
           "landcolor": "#E5ECF6",
           "showlakes": true,
           "showland": true,
           "subunitcolor": "white"
          },
          "hoverlabel": {
           "align": "left"
          },
          "hovermode": "closest",
          "mapbox": {
           "style": "light"
          },
          "paper_bgcolor": "white",
          "plot_bgcolor": "#E5ECF6",
          "polar": {
           "angularaxis": {
            "gridcolor": "white",
            "linecolor": "white",
            "ticks": ""
           },
           "bgcolor": "#E5ECF6",
           "radialaxis": {
            "gridcolor": "white",
            "linecolor": "white",
            "ticks": ""
           }
          },
          "scene": {
           "xaxis": {
            "backgroundcolor": "#E5ECF6",
            "gridcolor": "white",
            "gridwidth": 2,
            "linecolor": "white",
            "showbackground": true,
            "ticks": "",
            "zerolinecolor": "white"
           },
           "yaxis": {
            "backgroundcolor": "#E5ECF6",
            "gridcolor": "white",
            "gridwidth": 2,
            "linecolor": "white",
            "showbackground": true,
            "ticks": "",
            "zerolinecolor": "white"
           },
           "zaxis": {
            "backgroundcolor": "#E5ECF6",
            "gridcolor": "white",
            "gridwidth": 2,
            "linecolor": "white",
            "showbackground": true,
            "ticks": "",
            "zerolinecolor": "white"
           }
          },
          "shapedefaults": {
           "line": {
            "color": "#2a3f5f"
           }
          },
          "ternary": {
           "aaxis": {
            "gridcolor": "white",
            "linecolor": "white",
            "ticks": ""
           },
           "baxis": {
            "gridcolor": "white",
            "linecolor": "white",
            "ticks": ""
           },
           "bgcolor": "#E5ECF6",
           "caxis": {
            "gridcolor": "white",
            "linecolor": "white",
            "ticks": ""
           }
          },
          "title": {
           "x": 0.05
          },
          "xaxis": {
           "automargin": true,
           "gridcolor": "white",
           "linecolor": "white",
           "ticks": "",
           "title": {
            "standoff": 15
           },
           "zerolinecolor": "white",
           "zerolinewidth": 2
          },
          "yaxis": {
           "automargin": true,
           "gridcolor": "white",
           "linecolor": "white",
           "ticks": "",
           "title": {
            "standoff": 15
           },
           "zerolinecolor": "white",
           "zerolinewidth": 2
          }
         }
        },
        "title": {
         "text": "Localização dos nomes de citação - Professores com 'S'"
        },
        "xaxis": {
         "anchor": "y",
         "domain": [
          0,
          1
         ],
         "title": {
          "text": "PCA 1"
         }
        },
        "yaxis": {
         "anchor": "x",
         "domain": [
          0,
          1
         ],
         "title": {
          "text": "PCA 2"
         }
        }
       }
      }
     },
     "metadata": {},
     "output_type": "display_data"
    },
    {
     "name": "stdout",
     "output_type": "stream",
     "text": [
      "\n",
      "Professores e nomes de citação do grupo 'S':\n",
      "- Sérgio de Carvalho Bezerra  (PCA: 0.125, 0.075)\n",
      "    • BEZERRA, SÉRGIO C.  (PCA: -0.598, 0.302)\n",
      "    • S.C.BEZERRA  (PCA: -0.535, -0.314)\n",
      "    • S. DE CARVALHO  (PCA: 0.730, -0.186)\n",
      "    • SÉRGIO DE CARVALHO BEZERRA  (PCA: 0.125, 0.075)\n",
      "    • S. CARVALHO  (PCA: 0.710, 0.342)\n",
      "    • DE CARVALHO BEZERRA, SÉRGIO  (PCA: 0.125, 0.075)\n",
      "    • BEZERRA, SÉRGIO  (PCA: -0.598, 0.302)\n",
      "    • BEZERRA,S. DE C  (PCA: -0.085, -0.669)\n"
     ]
    },
    {
     "data": {
      "application/vnd.plotly.v1+json": {
       "config": {
        "plotlyServerURL": "https://plot.ly"
       },
       "data": [
        {
         "hovertemplate": "%{text}",
         "legendgroup": "",
         "marker": {
          "color": "#636efa",
          "size": 10,
          "symbol": "circle"
         },
         "mode": "markers+text",
         "name": "",
         "orientation": "v",
         "showlegend": false,
         "text": [
          "Tatiana Araújo Simões",
          "SIMÕES, T.A.",
          "SIMÕES, TATIANA A.",
          "SIMOES, T. A.",
          "Teobaldo Leite Bulhões Júnior",
          "JÚNIOR, TEOBALDO L. BULHÕES",
          "BULHÕES, T.",
          "BULHÕES JÚNIOR, T. L.",
          "BULHÕES, TEOBALDO",
          "Thaís Gaudencio do Rêgo",
          "REGO, THAIS",
          "GAUDENCIO, THAÍS",
          "RÊGO, THAIS GAUDENCIO DO",
          "G. DO RÊGO, THAÍS",
          "REGO, THAIS G. DO",
          "DO RÃªGO, THAÃ­S G",
          "DO REGO, TG",
          "DO REGO, THAIS G.",
          "DO RÊGO, THAÍS GAUDENCIO",
          "RÊGO, THAIS G.",
          "RÊGO, THAÍS GAUDÊNCIO DO",
          "DO REGO, THAIS G",
          "DO RÊGO, T.G.",
          "DO REGO, THAÍS G.",
          "GAUDENCIO, THAIS",
          "RÊGO, THAÍS GAUDENCIO DO",
          "GAUDÊNCIO, THAÍS",
          "DO RÃªGO, THAÃ­S G.",
          "DO RÊGO, THAÍS G.",
          "RÊGO, THAIS GAUDÊNCIO",
          "Tiago Maritan Ugulino de Araújo",
          "ARAÚJO, TIAGO MARITAN U.",
          "DE ARAUJO, TIAGO MARITAN U.",
          "ARAUJO, TIAGO MARITAN UGULINO",
          "ARAÚJO, TIAGO MARITAN U. DE",
          "ARAÚJO, TIAGO M.U.",
          "ARAÚJO, TIAGO",
          "UGULINO DE ARAUJO, TIAGO MARITAN",
          "DE ARAUJO, TIAGO M.U.",
          "DE ARAÚJO, TIAGO MARITAN UGULINO",
          "ARAUJO, TIAGO MARITAN U.",
          "ARAÚJO, TIAGO MARITAN UGULINO",
          "UGULINO DE ARAÚJO, TIAGO MARITAN",
          "ARAÚJO, TIAGO M. U. DE",
          "DE ARAÚJO, TIAGO MARITAN",
          "MARITAN, TIAGO",
          "ARAÚJO, T. M. U. DE",
          "ARAÚJO, TIAGO MARITAN UGULINO DE",
          "ARAÚJO, TIAGO M.U. DE",
          "ARAUJO, TIAGO MARITAN UGULINO DE",
          "ARAÚJO, T. M. U."
         ],
         "textposition": "top center",
         "type": "scatter",
         "x": {
          "bdata": "jZ524TRSmT9J2DNEfGHAv1rC1AivSsC/3CuVuw7rvr+99xzhtefEvy7+wu9RrsW/R5WELhlcxL//yCd2UOjEv/3IJ3ZQ6MS/zStxtFNB47+P5CxlsEfXv5Qs+v+B9dm/2mRPXFqW4r9Y4i7nD7Xiv+jBL2fdwd6/3eWZc78k0b9YTJzJxTHVv+rBL2fdwd6/zytxtFNB47/mjziapqLcv3E9c9sO1uC/58EvZ93B3r9Je/CCMrngv9YY6WhVIOC/CNSG6O1R2L/PK3G0U0Hjv40FnUE0dNS/3eWZc78k0b9Y4i7nD7Xiv1fV0ES+QNq/HrF6QaW35D9P+BXJdQXiP+5sSTMELd8/1+dffPxm2z9KvO2Ow4rkP4vuXur8Jt4/i+5e6vwm3j+qX4VIQbHgP3T9Y8gvatg/H7F6QaW35D/Zza1kkY3YP+b6c03EG+I/H7F6QaW35D8sQD5ntdrhP0u87Y7DiuQ/Zt062kvv2z/QDlwRoybaPx+xekGlt+Q/LEA+Z7Xa4T+pX4VIQbHgP7IevJ+TItI/",
          "dtype": "f8"
         },
         "xaxis": "x",
         "y": {
          "bdata": "ZnKB0uai0j+1qjIAwJnUP7BO8sJP4NU/80rgAGKnyj83aqrZ/NrmP59IdbhW2+g/NCrStPtF5T9uOdyXyc7mP2s53JfJzuY/gNUrxKN63b+70LYnt4zOP5Zd+4yb0NC/kEdrfFZe0L9cXuvMJV7bv0nrwWFbwbo/fdBffd1auj/oT9c/8ry9P1DrwWFbwbo/gdUrxKN63b/BixIP9Yazv01IBW+Jt9W/TevBYVvBuj+j/DvXpyzTv0OVIo6mI8C/FXNXHWTRWz9/1SvEo3rdv06jdtkR572/gdBffd1auj9aXuvMJV7bv5wNR40jGbC/dNEUPOIaw78N4wLaTgi3vyOTRh+3N7q/gxSeodOFtr/UZ62Nzq/Av5xxwaiLO5u/nnHBqIs7m7/wEGsrtkbAvzaaNDjLtKi/dNEUPOIaw7/NP4luCMStv7All+yel7y/ddEUPOIaw7/FPbheDvezv9VnrY3Or8C/xzW6FA95tL+63lgdC8SGv3XRFDziGsO/xj24Xg73s7/tEGsrtkbAvyMgzkY1I7E/",
          "dtype": "f8"
         },
         "yaxis": "y"
        }
       ],
       "layout": {
        "legend": {
         "tracegroupgap": 0
        },
        "template": {
         "data": {
          "bar": [
           {
            "error_x": {
             "color": "#2a3f5f"
            },
            "error_y": {
             "color": "#2a3f5f"
            },
            "marker": {
             "line": {
              "color": "#E5ECF6",
              "width": 0.5
             },
             "pattern": {
              "fillmode": "overlay",
              "size": 10,
              "solidity": 0.2
             }
            },
            "type": "bar"
           }
          ],
          "barpolar": [
           {
            "marker": {
             "line": {
              "color": "#E5ECF6",
              "width": 0.5
             },
             "pattern": {
              "fillmode": "overlay",
              "size": 10,
              "solidity": 0.2
             }
            },
            "type": "barpolar"
           }
          ],
          "carpet": [
           {
            "aaxis": {
             "endlinecolor": "#2a3f5f",
             "gridcolor": "white",
             "linecolor": "white",
             "minorgridcolor": "white",
             "startlinecolor": "#2a3f5f"
            },
            "baxis": {
             "endlinecolor": "#2a3f5f",
             "gridcolor": "white",
             "linecolor": "white",
             "minorgridcolor": "white",
             "startlinecolor": "#2a3f5f"
            },
            "type": "carpet"
           }
          ],
          "choropleth": [
           {
            "colorbar": {
             "outlinewidth": 0,
             "ticks": ""
            },
            "type": "choropleth"
           }
          ],
          "contour": [
           {
            "colorbar": {
             "outlinewidth": 0,
             "ticks": ""
            },
            "colorscale": [
             [
              0,
              "#0d0887"
             ],
             [
              0.1111111111111111,
              "#46039f"
             ],
             [
              0.2222222222222222,
              "#7201a8"
             ],
             [
              0.3333333333333333,
              "#9c179e"
             ],
             [
              0.4444444444444444,
              "#bd3786"
             ],
             [
              0.5555555555555556,
              "#d8576b"
             ],
             [
              0.6666666666666666,
              "#ed7953"
             ],
             [
              0.7777777777777778,
              "#fb9f3a"
             ],
             [
              0.8888888888888888,
              "#fdca26"
             ],
             [
              1,
              "#f0f921"
             ]
            ],
            "type": "contour"
           }
          ],
          "contourcarpet": [
           {
            "colorbar": {
             "outlinewidth": 0,
             "ticks": ""
            },
            "type": "contourcarpet"
           }
          ],
          "heatmap": [
           {
            "colorbar": {
             "outlinewidth": 0,
             "ticks": ""
            },
            "colorscale": [
             [
              0,
              "#0d0887"
             ],
             [
              0.1111111111111111,
              "#46039f"
             ],
             [
              0.2222222222222222,
              "#7201a8"
             ],
             [
              0.3333333333333333,
              "#9c179e"
             ],
             [
              0.4444444444444444,
              "#bd3786"
             ],
             [
              0.5555555555555556,
              "#d8576b"
             ],
             [
              0.6666666666666666,
              "#ed7953"
             ],
             [
              0.7777777777777778,
              "#fb9f3a"
             ],
             [
              0.8888888888888888,
              "#fdca26"
             ],
             [
              1,
              "#f0f921"
             ]
            ],
            "type": "heatmap"
           }
          ],
          "histogram": [
           {
            "marker": {
             "pattern": {
              "fillmode": "overlay",
              "size": 10,
              "solidity": 0.2
             }
            },
            "type": "histogram"
           }
          ],
          "histogram2d": [
           {
            "colorbar": {
             "outlinewidth": 0,
             "ticks": ""
            },
            "colorscale": [
             [
              0,
              "#0d0887"
             ],
             [
              0.1111111111111111,
              "#46039f"
             ],
             [
              0.2222222222222222,
              "#7201a8"
             ],
             [
              0.3333333333333333,
              "#9c179e"
             ],
             [
              0.4444444444444444,
              "#bd3786"
             ],
             [
              0.5555555555555556,
              "#d8576b"
             ],
             [
              0.6666666666666666,
              "#ed7953"
             ],
             [
              0.7777777777777778,
              "#fb9f3a"
             ],
             [
              0.8888888888888888,
              "#fdca26"
             ],
             [
              1,
              "#f0f921"
             ]
            ],
            "type": "histogram2d"
           }
          ],
          "histogram2dcontour": [
           {
            "colorbar": {
             "outlinewidth": 0,
             "ticks": ""
            },
            "colorscale": [
             [
              0,
              "#0d0887"
             ],
             [
              0.1111111111111111,
              "#46039f"
             ],
             [
              0.2222222222222222,
              "#7201a8"
             ],
             [
              0.3333333333333333,
              "#9c179e"
             ],
             [
              0.4444444444444444,
              "#bd3786"
             ],
             [
              0.5555555555555556,
              "#d8576b"
             ],
             [
              0.6666666666666666,
              "#ed7953"
             ],
             [
              0.7777777777777778,
              "#fb9f3a"
             ],
             [
              0.8888888888888888,
              "#fdca26"
             ],
             [
              1,
              "#f0f921"
             ]
            ],
            "type": "histogram2dcontour"
           }
          ],
          "mesh3d": [
           {
            "colorbar": {
             "outlinewidth": 0,
             "ticks": ""
            },
            "type": "mesh3d"
           }
          ],
          "parcoords": [
           {
            "line": {
             "colorbar": {
              "outlinewidth": 0,
              "ticks": ""
             }
            },
            "type": "parcoords"
           }
          ],
          "pie": [
           {
            "automargin": true,
            "type": "pie"
           }
          ],
          "scatter": [
           {
            "fillpattern": {
             "fillmode": "overlay",
             "size": 10,
             "solidity": 0.2
            },
            "type": "scatter"
           }
          ],
          "scatter3d": [
           {
            "line": {
             "colorbar": {
              "outlinewidth": 0,
              "ticks": ""
             }
            },
            "marker": {
             "colorbar": {
              "outlinewidth": 0,
              "ticks": ""
             }
            },
            "type": "scatter3d"
           }
          ],
          "scattercarpet": [
           {
            "marker": {
             "colorbar": {
              "outlinewidth": 0,
              "ticks": ""
             }
            },
            "type": "scattercarpet"
           }
          ],
          "scattergeo": [
           {
            "marker": {
             "colorbar": {
              "outlinewidth": 0,
              "ticks": ""
             }
            },
            "type": "scattergeo"
           }
          ],
          "scattergl": [
           {
            "marker": {
             "colorbar": {
              "outlinewidth": 0,
              "ticks": ""
             }
            },
            "type": "scattergl"
           }
          ],
          "scattermap": [
           {
            "marker": {
             "colorbar": {
              "outlinewidth": 0,
              "ticks": ""
             }
            },
            "type": "scattermap"
           }
          ],
          "scattermapbox": [
           {
            "marker": {
             "colorbar": {
              "outlinewidth": 0,
              "ticks": ""
             }
            },
            "type": "scattermapbox"
           }
          ],
          "scatterpolar": [
           {
            "marker": {
             "colorbar": {
              "outlinewidth": 0,
              "ticks": ""
             }
            },
            "type": "scatterpolar"
           }
          ],
          "scatterpolargl": [
           {
            "marker": {
             "colorbar": {
              "outlinewidth": 0,
              "ticks": ""
             }
            },
            "type": "scatterpolargl"
           }
          ],
          "scatterternary": [
           {
            "marker": {
             "colorbar": {
              "outlinewidth": 0,
              "ticks": ""
             }
            },
            "type": "scatterternary"
           }
          ],
          "surface": [
           {
            "colorbar": {
             "outlinewidth": 0,
             "ticks": ""
            },
            "colorscale": [
             [
              0,
              "#0d0887"
             ],
             [
              0.1111111111111111,
              "#46039f"
             ],
             [
              0.2222222222222222,
              "#7201a8"
             ],
             [
              0.3333333333333333,
              "#9c179e"
             ],
             [
              0.4444444444444444,
              "#bd3786"
             ],
             [
              0.5555555555555556,
              "#d8576b"
             ],
             [
              0.6666666666666666,
              "#ed7953"
             ],
             [
              0.7777777777777778,
              "#fb9f3a"
             ],
             [
              0.8888888888888888,
              "#fdca26"
             ],
             [
              1,
              "#f0f921"
             ]
            ],
            "type": "surface"
           }
          ],
          "table": [
           {
            "cells": {
             "fill": {
              "color": "#EBF0F8"
             },
             "line": {
              "color": "white"
             }
            },
            "header": {
             "fill": {
              "color": "#C8D4E3"
             },
             "line": {
              "color": "white"
             }
            },
            "type": "table"
           }
          ]
         },
         "layout": {
          "annotationdefaults": {
           "arrowcolor": "#2a3f5f",
           "arrowhead": 0,
           "arrowwidth": 1
          },
          "autotypenumbers": "strict",
          "coloraxis": {
           "colorbar": {
            "outlinewidth": 0,
            "ticks": ""
           }
          },
          "colorscale": {
           "diverging": [
            [
             0,
             "#8e0152"
            ],
            [
             0.1,
             "#c51b7d"
            ],
            [
             0.2,
             "#de77ae"
            ],
            [
             0.3,
             "#f1b6da"
            ],
            [
             0.4,
             "#fde0ef"
            ],
            [
             0.5,
             "#f7f7f7"
            ],
            [
             0.6,
             "#e6f5d0"
            ],
            [
             0.7,
             "#b8e186"
            ],
            [
             0.8,
             "#7fbc41"
            ],
            [
             0.9,
             "#4d9221"
            ],
            [
             1,
             "#276419"
            ]
           ],
           "sequential": [
            [
             0,
             "#0d0887"
            ],
            [
             0.1111111111111111,
             "#46039f"
            ],
            [
             0.2222222222222222,
             "#7201a8"
            ],
            [
             0.3333333333333333,
             "#9c179e"
            ],
            [
             0.4444444444444444,
             "#bd3786"
            ],
            [
             0.5555555555555556,
             "#d8576b"
            ],
            [
             0.6666666666666666,
             "#ed7953"
            ],
            [
             0.7777777777777778,
             "#fb9f3a"
            ],
            [
             0.8888888888888888,
             "#fdca26"
            ],
            [
             1,
             "#f0f921"
            ]
           ],
           "sequentialminus": [
            [
             0,
             "#0d0887"
            ],
            [
             0.1111111111111111,
             "#46039f"
            ],
            [
             0.2222222222222222,
             "#7201a8"
            ],
            [
             0.3333333333333333,
             "#9c179e"
            ],
            [
             0.4444444444444444,
             "#bd3786"
            ],
            [
             0.5555555555555556,
             "#d8576b"
            ],
            [
             0.6666666666666666,
             "#ed7953"
            ],
            [
             0.7777777777777778,
             "#fb9f3a"
            ],
            [
             0.8888888888888888,
             "#fdca26"
            ],
            [
             1,
             "#f0f921"
            ]
           ]
          },
          "colorway": [
           "#636efa",
           "#EF553B",
           "#00cc96",
           "#ab63fa",
           "#FFA15A",
           "#19d3f3",
           "#FF6692",
           "#B6E880",
           "#FF97FF",
           "#FECB52"
          ],
          "font": {
           "color": "#2a3f5f"
          },
          "geo": {
           "bgcolor": "white",
           "lakecolor": "white",
           "landcolor": "#E5ECF6",
           "showlakes": true,
           "showland": true,
           "subunitcolor": "white"
          },
          "hoverlabel": {
           "align": "left"
          },
          "hovermode": "closest",
          "mapbox": {
           "style": "light"
          },
          "paper_bgcolor": "white",
          "plot_bgcolor": "#E5ECF6",
          "polar": {
           "angularaxis": {
            "gridcolor": "white",
            "linecolor": "white",
            "ticks": ""
           },
           "bgcolor": "#E5ECF6",
           "radialaxis": {
            "gridcolor": "white",
            "linecolor": "white",
            "ticks": ""
           }
          },
          "scene": {
           "xaxis": {
            "backgroundcolor": "#E5ECF6",
            "gridcolor": "white",
            "gridwidth": 2,
            "linecolor": "white",
            "showbackground": true,
            "ticks": "",
            "zerolinecolor": "white"
           },
           "yaxis": {
            "backgroundcolor": "#E5ECF6",
            "gridcolor": "white",
            "gridwidth": 2,
            "linecolor": "white",
            "showbackground": true,
            "ticks": "",
            "zerolinecolor": "white"
           },
           "zaxis": {
            "backgroundcolor": "#E5ECF6",
            "gridcolor": "white",
            "gridwidth": 2,
            "linecolor": "white",
            "showbackground": true,
            "ticks": "",
            "zerolinecolor": "white"
           }
          },
          "shapedefaults": {
           "line": {
            "color": "#2a3f5f"
           }
          },
          "ternary": {
           "aaxis": {
            "gridcolor": "white",
            "linecolor": "white",
            "ticks": ""
           },
           "baxis": {
            "gridcolor": "white",
            "linecolor": "white",
            "ticks": ""
           },
           "bgcolor": "#E5ECF6",
           "caxis": {
            "gridcolor": "white",
            "linecolor": "white",
            "ticks": ""
           }
          },
          "title": {
           "x": 0.05
          },
          "xaxis": {
           "automargin": true,
           "gridcolor": "white",
           "linecolor": "white",
           "ticks": "",
           "title": {
            "standoff": 15
           },
           "zerolinecolor": "white",
           "zerolinewidth": 2
          },
          "yaxis": {
           "automargin": true,
           "gridcolor": "white",
           "linecolor": "white",
           "ticks": "",
           "title": {
            "standoff": 15
           },
           "zerolinecolor": "white",
           "zerolinewidth": 2
          }
         }
        },
        "title": {
         "text": "Localização dos nomes de citação - Professores com 'T'"
        },
        "xaxis": {
         "anchor": "y",
         "domain": [
          0,
          1
         ],
         "title": {
          "text": "PCA 1"
         }
        },
        "yaxis": {
         "anchor": "x",
         "domain": [
          0,
          1
         ],
         "title": {
          "text": "PCA 2"
         }
        }
       }
      }
     },
     "metadata": {},
     "output_type": "display_data"
    },
    {
     "name": "stdout",
     "output_type": "stream",
     "text": [
      "\n",
      "Professores e nomes de citação do grupo 'T':\n",
      "- Tatiana Araújo Simões  (PCA: 0.025, 0.291)\n",
      "    • SIMÕES, T.A.  (PCA: -0.128, 0.322)\n",
      "    • SIMÕES, TATIANA A.  (PCA: -0.127, 0.342)\n",
      "    • SIMOES, T. A.  (PCA: -0.121, 0.208)\n",
      "- Teobaldo Leite Bulhões Júnior  (PCA: -0.163, 0.714)\n",
      "    • JÚNIOR, TEOBALDO L. BULHÕES  (PCA: -0.169, 0.777)\n",
      "    • BULHÕES, T.  (PCA: -0.159, 0.665)\n",
      "    • BULHÕES JÚNIOR, T. L.  (PCA: -0.163, 0.713)\n",
      "    • BULHÕES, TEOBALDO  (PCA: -0.163, 0.713)\n",
      "- Thaís Gaudencio do Rêgo  (PCA: -0.602, -0.461)\n",
      "    • REGO, THAIS  (PCA: -0.364, 0.239)\n",
      "    • GAUDENCIO, THAÍS  (PCA: -0.406, -0.263)\n",
      "    • RÊGO, THAIS GAUDENCIO DO  (PCA: -0.581, -0.256)\n",
      "    • G. DO RÊGO, THAÍS  (PCA: -0.585, -0.428)\n",
      "    • REGO, THAIS G. DO  (PCA: -0.481, 0.105)\n",
      "    • DO RÃªGO, THAÃ­S G  (PCA: -0.268, 0.103)\n",
      "    • DO REGO, TG  (PCA: -0.331, 0.116)\n",
      "    • DO REGO, THAIS G.  (PCA: -0.481, 0.105)\n",
      "    • DO RÊGO, THAÍS GAUDENCIO  (PCA: -0.602, -0.461)\n",
      "    • RÊGO, THAIS G.  (PCA: -0.447, -0.076)\n",
      "    • RÊGO, THAÍS GAUDÊNCIO DO  (PCA: -0.526, -0.339)\n",
      "    • DO REGO, THAIS G  (PCA: -0.481, 0.105)\n",
      "    • DO RÊGO, T.G.  (PCA: -0.523, -0.300)\n",
      "    • DO REGO, THAÍS G.  (PCA: -0.504, -0.126)\n",
      "    • GAUDENCIO, THAIS  (PCA: -0.380, 0.002)\n",
      "    • RÊGO, THAÍS GAUDENCIO DO  (PCA: -0.602, -0.461)\n",
      "    • GAUDÊNCIO, THAÍS  (PCA: -0.320, -0.117)\n",
      "    • DO RÃªGO, THAÃ­S G.  (PCA: -0.268, 0.103)\n",
      "    • DO RÊGO, THAÍS G.  (PCA: -0.585, -0.428)\n",
      "    • RÊGO, THAIS GAUDÊNCIO  (PCA: -0.410, -0.063)\n",
      "- Tiago Maritan Ugulino de Araújo  (PCA: 0.647, -0.149)\n",
      "    • ARAÚJO, TIAGO MARITAN U.  (PCA: 0.563, -0.090)\n",
      "    • DE ARAUJO, TIAGO MARITAN U.  (PCA: 0.487, -0.102)\n",
      "    • ARAUJO, TIAGO MARITAN UGULINO  (PCA: 0.428, -0.088)\n",
      "    • ARAÚJO, TIAGO MARITAN U. DE  (PCA: 0.642, -0.130)\n",
      "    • ARAÚJO, TIAGO M.U.  (PCA: 0.471, -0.027)\n",
      "    • ARAÚJO, TIAGO  (PCA: 0.471, -0.027)\n",
      "    • UGULINO DE ARAUJO, TIAGO MARITAN  (PCA: 0.522, -0.127)\n",
      "    • DE ARAUJO, TIAGO M.U.  (PCA: 0.381, -0.048)\n",
      "    • DE ARAÚJO, TIAGO MARITAN UGULINO  (PCA: 0.647, -0.149)\n",
      "    • ARAUJO, TIAGO MARITAN U.  (PCA: 0.384, -0.058)\n",
      "    • ARAÚJO, TIAGO MARITAN UGULINO  (PCA: 0.566, -0.112)\n",
      "    • UGULINO DE ARAÚJO, TIAGO MARITAN  (PCA: 0.647, -0.149)\n",
      "    • ARAÚJO, TIAGO M. U. DE  (PCA: 0.558, -0.078)\n",
      "    • DE ARAÚJO, TIAGO MARITAN  (PCA: 0.642, -0.130)\n",
      "    • MARITAN, TIAGO  (PCA: 0.436, -0.080)\n",
      "    • ARAÚJO, T. M. U. DE  (PCA: 0.409, -0.011)\n",
      "    • ARAÚJO, TIAGO MARITAN UGULINO DE  (PCA: 0.647, -0.149)\n",
      "    • ARAÚJO, TIAGO M.U. DE  (PCA: 0.558, -0.078)\n",
      "    • ARAUJO, TIAGO MARITAN UGULINO DE  (PCA: 0.522, -0.127)\n",
      "    • ARAÚJO, T. M. U.  (PCA: 0.283, 0.067)\n"
     ]
    },
    {
     "data": {
      "application/vnd.plotly.v1+json": {
       "config": {
        "plotlyServerURL": "https://plot.ly"
       },
       "data": [
        {
         "hovertemplate": "%{text}",
         "legendgroup": "",
         "marker": {
          "color": "#636efa",
          "size": 10,
          "symbol": "circle"
         },
         "mode": "markers+text",
         "name": "",
         "orientation": "v",
         "showlegend": false,
         "text": [
          "Vitor Meneghetti Ugulino de Araujo",
          "ARAUJO, V. M. U.",
          "ARAÚJO, VITOR MENEGHETTI UGULINO DE"
         ],
         "textposition": "top center",
         "type": "scatter",
         "x": {
          "bdata": "Xr10eEiuxb+CL6HuNkLpPykAhNCk1uO/",
          "dtype": "f8"
         },
         "xaxis": "x",
         "y": {
          "bdata": "lnitwIzw1L97F4ylaMe6P3zllC5lfcw/",
          "dtype": "f8"
         },
         "yaxis": "y"
        }
       ],
       "layout": {
        "legend": {
         "tracegroupgap": 0
        },
        "template": {
         "data": {
          "bar": [
           {
            "error_x": {
             "color": "#2a3f5f"
            },
            "error_y": {
             "color": "#2a3f5f"
            },
            "marker": {
             "line": {
              "color": "#E5ECF6",
              "width": 0.5
             },
             "pattern": {
              "fillmode": "overlay",
              "size": 10,
              "solidity": 0.2
             }
            },
            "type": "bar"
           }
          ],
          "barpolar": [
           {
            "marker": {
             "line": {
              "color": "#E5ECF6",
              "width": 0.5
             },
             "pattern": {
              "fillmode": "overlay",
              "size": 10,
              "solidity": 0.2
             }
            },
            "type": "barpolar"
           }
          ],
          "carpet": [
           {
            "aaxis": {
             "endlinecolor": "#2a3f5f",
             "gridcolor": "white",
             "linecolor": "white",
             "minorgridcolor": "white",
             "startlinecolor": "#2a3f5f"
            },
            "baxis": {
             "endlinecolor": "#2a3f5f",
             "gridcolor": "white",
             "linecolor": "white",
             "minorgridcolor": "white",
             "startlinecolor": "#2a3f5f"
            },
            "type": "carpet"
           }
          ],
          "choropleth": [
           {
            "colorbar": {
             "outlinewidth": 0,
             "ticks": ""
            },
            "type": "choropleth"
           }
          ],
          "contour": [
           {
            "colorbar": {
             "outlinewidth": 0,
             "ticks": ""
            },
            "colorscale": [
             [
              0,
              "#0d0887"
             ],
             [
              0.1111111111111111,
              "#46039f"
             ],
             [
              0.2222222222222222,
              "#7201a8"
             ],
             [
              0.3333333333333333,
              "#9c179e"
             ],
             [
              0.4444444444444444,
              "#bd3786"
             ],
             [
              0.5555555555555556,
              "#d8576b"
             ],
             [
              0.6666666666666666,
              "#ed7953"
             ],
             [
              0.7777777777777778,
              "#fb9f3a"
             ],
             [
              0.8888888888888888,
              "#fdca26"
             ],
             [
              1,
              "#f0f921"
             ]
            ],
            "type": "contour"
           }
          ],
          "contourcarpet": [
           {
            "colorbar": {
             "outlinewidth": 0,
             "ticks": ""
            },
            "type": "contourcarpet"
           }
          ],
          "heatmap": [
           {
            "colorbar": {
             "outlinewidth": 0,
             "ticks": ""
            },
            "colorscale": [
             [
              0,
              "#0d0887"
             ],
             [
              0.1111111111111111,
              "#46039f"
             ],
             [
              0.2222222222222222,
              "#7201a8"
             ],
             [
              0.3333333333333333,
              "#9c179e"
             ],
             [
              0.4444444444444444,
              "#bd3786"
             ],
             [
              0.5555555555555556,
              "#d8576b"
             ],
             [
              0.6666666666666666,
              "#ed7953"
             ],
             [
              0.7777777777777778,
              "#fb9f3a"
             ],
             [
              0.8888888888888888,
              "#fdca26"
             ],
             [
              1,
              "#f0f921"
             ]
            ],
            "type": "heatmap"
           }
          ],
          "histogram": [
           {
            "marker": {
             "pattern": {
              "fillmode": "overlay",
              "size": 10,
              "solidity": 0.2
             }
            },
            "type": "histogram"
           }
          ],
          "histogram2d": [
           {
            "colorbar": {
             "outlinewidth": 0,
             "ticks": ""
            },
            "colorscale": [
             [
              0,
              "#0d0887"
             ],
             [
              0.1111111111111111,
              "#46039f"
             ],
             [
              0.2222222222222222,
              "#7201a8"
             ],
             [
              0.3333333333333333,
              "#9c179e"
             ],
             [
              0.4444444444444444,
              "#bd3786"
             ],
             [
              0.5555555555555556,
              "#d8576b"
             ],
             [
              0.6666666666666666,
              "#ed7953"
             ],
             [
              0.7777777777777778,
              "#fb9f3a"
             ],
             [
              0.8888888888888888,
              "#fdca26"
             ],
             [
              1,
              "#f0f921"
             ]
            ],
            "type": "histogram2d"
           }
          ],
          "histogram2dcontour": [
           {
            "colorbar": {
             "outlinewidth": 0,
             "ticks": ""
            },
            "colorscale": [
             [
              0,
              "#0d0887"
             ],
             [
              0.1111111111111111,
              "#46039f"
             ],
             [
              0.2222222222222222,
              "#7201a8"
             ],
             [
              0.3333333333333333,
              "#9c179e"
             ],
             [
              0.4444444444444444,
              "#bd3786"
             ],
             [
              0.5555555555555556,
              "#d8576b"
             ],
             [
              0.6666666666666666,
              "#ed7953"
             ],
             [
              0.7777777777777778,
              "#fb9f3a"
             ],
             [
              0.8888888888888888,
              "#fdca26"
             ],
             [
              1,
              "#f0f921"
             ]
            ],
            "type": "histogram2dcontour"
           }
          ],
          "mesh3d": [
           {
            "colorbar": {
             "outlinewidth": 0,
             "ticks": ""
            },
            "type": "mesh3d"
           }
          ],
          "parcoords": [
           {
            "line": {
             "colorbar": {
              "outlinewidth": 0,
              "ticks": ""
             }
            },
            "type": "parcoords"
           }
          ],
          "pie": [
           {
            "automargin": true,
            "type": "pie"
           }
          ],
          "scatter": [
           {
            "fillpattern": {
             "fillmode": "overlay",
             "size": 10,
             "solidity": 0.2
            },
            "type": "scatter"
           }
          ],
          "scatter3d": [
           {
            "line": {
             "colorbar": {
              "outlinewidth": 0,
              "ticks": ""
             }
            },
            "marker": {
             "colorbar": {
              "outlinewidth": 0,
              "ticks": ""
             }
            },
            "type": "scatter3d"
           }
          ],
          "scattercarpet": [
           {
            "marker": {
             "colorbar": {
              "outlinewidth": 0,
              "ticks": ""
             }
            },
            "type": "scattercarpet"
           }
          ],
          "scattergeo": [
           {
            "marker": {
             "colorbar": {
              "outlinewidth": 0,
              "ticks": ""
             }
            },
            "type": "scattergeo"
           }
          ],
          "scattergl": [
           {
            "marker": {
             "colorbar": {
              "outlinewidth": 0,
              "ticks": ""
             }
            },
            "type": "scattergl"
           }
          ],
          "scattermap": [
           {
            "marker": {
             "colorbar": {
              "outlinewidth": 0,
              "ticks": ""
             }
            },
            "type": "scattermap"
           }
          ],
          "scattermapbox": [
           {
            "marker": {
             "colorbar": {
              "outlinewidth": 0,
              "ticks": ""
             }
            },
            "type": "scattermapbox"
           }
          ],
          "scatterpolar": [
           {
            "marker": {
             "colorbar": {
              "outlinewidth": 0,
              "ticks": ""
             }
            },
            "type": "scatterpolar"
           }
          ],
          "scatterpolargl": [
           {
            "marker": {
             "colorbar": {
              "outlinewidth": 0,
              "ticks": ""
             }
            },
            "type": "scatterpolargl"
           }
          ],
          "scatterternary": [
           {
            "marker": {
             "colorbar": {
              "outlinewidth": 0,
              "ticks": ""
             }
            },
            "type": "scatterternary"
           }
          ],
          "surface": [
           {
            "colorbar": {
             "outlinewidth": 0,
             "ticks": ""
            },
            "colorscale": [
             [
              0,
              "#0d0887"
             ],
             [
              0.1111111111111111,
              "#46039f"
             ],
             [
              0.2222222222222222,
              "#7201a8"
             ],
             [
              0.3333333333333333,
              "#9c179e"
             ],
             [
              0.4444444444444444,
              "#bd3786"
             ],
             [
              0.5555555555555556,
              "#d8576b"
             ],
             [
              0.6666666666666666,
              "#ed7953"
             ],
             [
              0.7777777777777778,
              "#fb9f3a"
             ],
             [
              0.8888888888888888,
              "#fdca26"
             ],
             [
              1,
              "#f0f921"
             ]
            ],
            "type": "surface"
           }
          ],
          "table": [
           {
            "cells": {
             "fill": {
              "color": "#EBF0F8"
             },
             "line": {
              "color": "white"
             }
            },
            "header": {
             "fill": {
              "color": "#C8D4E3"
             },
             "line": {
              "color": "white"
             }
            },
            "type": "table"
           }
          ]
         },
         "layout": {
          "annotationdefaults": {
           "arrowcolor": "#2a3f5f",
           "arrowhead": 0,
           "arrowwidth": 1
          },
          "autotypenumbers": "strict",
          "coloraxis": {
           "colorbar": {
            "outlinewidth": 0,
            "ticks": ""
           }
          },
          "colorscale": {
           "diverging": [
            [
             0,
             "#8e0152"
            ],
            [
             0.1,
             "#c51b7d"
            ],
            [
             0.2,
             "#de77ae"
            ],
            [
             0.3,
             "#f1b6da"
            ],
            [
             0.4,
             "#fde0ef"
            ],
            [
             0.5,
             "#f7f7f7"
            ],
            [
             0.6,
             "#e6f5d0"
            ],
            [
             0.7,
             "#b8e186"
            ],
            [
             0.8,
             "#7fbc41"
            ],
            [
             0.9,
             "#4d9221"
            ],
            [
             1,
             "#276419"
            ]
           ],
           "sequential": [
            [
             0,
             "#0d0887"
            ],
            [
             0.1111111111111111,
             "#46039f"
            ],
            [
             0.2222222222222222,
             "#7201a8"
            ],
            [
             0.3333333333333333,
             "#9c179e"
            ],
            [
             0.4444444444444444,
             "#bd3786"
            ],
            [
             0.5555555555555556,
             "#d8576b"
            ],
            [
             0.6666666666666666,
             "#ed7953"
            ],
            [
             0.7777777777777778,
             "#fb9f3a"
            ],
            [
             0.8888888888888888,
             "#fdca26"
            ],
            [
             1,
             "#f0f921"
            ]
           ],
           "sequentialminus": [
            [
             0,
             "#0d0887"
            ],
            [
             0.1111111111111111,
             "#46039f"
            ],
            [
             0.2222222222222222,
             "#7201a8"
            ],
            [
             0.3333333333333333,
             "#9c179e"
            ],
            [
             0.4444444444444444,
             "#bd3786"
            ],
            [
             0.5555555555555556,
             "#d8576b"
            ],
            [
             0.6666666666666666,
             "#ed7953"
            ],
            [
             0.7777777777777778,
             "#fb9f3a"
            ],
            [
             0.8888888888888888,
             "#fdca26"
            ],
            [
             1,
             "#f0f921"
            ]
           ]
          },
          "colorway": [
           "#636efa",
           "#EF553B",
           "#00cc96",
           "#ab63fa",
           "#FFA15A",
           "#19d3f3",
           "#FF6692",
           "#B6E880",
           "#FF97FF",
           "#FECB52"
          ],
          "font": {
           "color": "#2a3f5f"
          },
          "geo": {
           "bgcolor": "white",
           "lakecolor": "white",
           "landcolor": "#E5ECF6",
           "showlakes": true,
           "showland": true,
           "subunitcolor": "white"
          },
          "hoverlabel": {
           "align": "left"
          },
          "hovermode": "closest",
          "mapbox": {
           "style": "light"
          },
          "paper_bgcolor": "white",
          "plot_bgcolor": "#E5ECF6",
          "polar": {
           "angularaxis": {
            "gridcolor": "white",
            "linecolor": "white",
            "ticks": ""
           },
           "bgcolor": "#E5ECF6",
           "radialaxis": {
            "gridcolor": "white",
            "linecolor": "white",
            "ticks": ""
           }
          },
          "scene": {
           "xaxis": {
            "backgroundcolor": "#E5ECF6",
            "gridcolor": "white",
            "gridwidth": 2,
            "linecolor": "white",
            "showbackground": true,
            "ticks": "",
            "zerolinecolor": "white"
           },
           "yaxis": {
            "backgroundcolor": "#E5ECF6",
            "gridcolor": "white",
            "gridwidth": 2,
            "linecolor": "white",
            "showbackground": true,
            "ticks": "",
            "zerolinecolor": "white"
           },
           "zaxis": {
            "backgroundcolor": "#E5ECF6",
            "gridcolor": "white",
            "gridwidth": 2,
            "linecolor": "white",
            "showbackground": true,
            "ticks": "",
            "zerolinecolor": "white"
           }
          },
          "shapedefaults": {
           "line": {
            "color": "#2a3f5f"
           }
          },
          "ternary": {
           "aaxis": {
            "gridcolor": "white",
            "linecolor": "white",
            "ticks": ""
           },
           "baxis": {
            "gridcolor": "white",
            "linecolor": "white",
            "ticks": ""
           },
           "bgcolor": "#E5ECF6",
           "caxis": {
            "gridcolor": "white",
            "linecolor": "white",
            "ticks": ""
           }
          },
          "title": {
           "x": 0.05
          },
          "xaxis": {
           "automargin": true,
           "gridcolor": "white",
           "linecolor": "white",
           "ticks": "",
           "title": {
            "standoff": 15
           },
           "zerolinecolor": "white",
           "zerolinewidth": 2
          },
          "yaxis": {
           "automargin": true,
           "gridcolor": "white",
           "linecolor": "white",
           "ticks": "",
           "title": {
            "standoff": 15
           },
           "zerolinecolor": "white",
           "zerolinewidth": 2
          }
         }
        },
        "title": {
         "text": "Localização dos nomes de citação - Professores com 'V'"
        },
        "xaxis": {
         "anchor": "y",
         "domain": [
          0,
          1
         ],
         "title": {
          "text": "PCA 1"
         }
        },
        "yaxis": {
         "anchor": "x",
         "domain": [
          0,
          1
         ],
         "title": {
          "text": "PCA 2"
         }
        }
       }
      }
     },
     "metadata": {},
     "output_type": "display_data"
    },
    {
     "name": "stdout",
     "output_type": "stream",
     "text": [
      "\n",
      "Professores e nomes de citação do grupo 'V':\n",
      "- Vitor Meneghetti Ugulino de Araujo  (PCA: -0.169, -0.327)\n",
      "    • ARAUJO, V. M. U.  (PCA: 0.789, 0.105)\n",
      "    • ARAÚJO, VITOR MENEGHETTI UGULINO DE  (PCA: -0.620, 0.223)\n"
     ]
    },
    {
     "data": {
      "application/vnd.plotly.v1+json": {
       "config": {
        "plotlyServerURL": "https://plot.ly"
       },
       "data": [
        {
         "hovertemplate": "%{text}",
         "legendgroup": "",
         "marker": {
          "color": "#636efa",
          "size": 10,
          "symbol": "circle"
         },
         "mode": "markers+text",
         "name": "",
         "orientation": "v",
         "showlegend": false,
         "text": [
          "Yuri de Almeida Malheiros Barbosa",
          "MALHEIROS, YURI",
          "MALHEIROS, YURI B",
          "MALHEIROS, Y.",
          "MALHEIROS, Y",
          "MALHEIROS, YURI B.",
          "BARBOSA, Y. A. M.",
          "ALMEIDA, YURI A.",
          "BARBOSA, YURI DE ALMEIDA MALHEIROS",
          "Yuska Paola Costa Aguiar",
          "AGUIAR, YUSKA PAOLA COSTA",
          "AGUIAR, YUSKA P. C.",
          "YUSKA PAOLA COSTA AGUIAR",
          "YUSKA PAOLA COSTA",
          "YUSKA P. C. AGUIAR",
          "AGUIAR, YUSKA",
          "AGUIAR, YUSKA PAOLA",
          "YUSKA PAOLA AGUIAR",
          "COSTA AGUIAR, YUSKA PAOLA",
          "COSTA, YUSKA PAOLA",
          "AGUIAR, Y. P. C."
         ],
         "textposition": "top center",
         "type": "scatter",
         "x": {
          "bdata": "rKaZftpn5T9PSLfI3qXoP1NIt8jepeg/U8xeRFoE5T9XzF5EWgTlP1BIt8jepeg/0H84Nmbm0j+yP4Pe/kXgP6+mmX7aZ+U/okLo3q/z4b+iQujer/Phv6HDIEzBgdy/okLo3q/z4b+UXiy2iKTbv6HDIEzBgdy/ocMgTMGB3L8qkkestt7gvyqSR6y23uC/okLo3q/z4b+UXiy2iKTbv2YXUbrAH9G/",
          "dtype": "f8"
         },
         "xaxis": "x",
         "y": {
          "bdata": "xuSrcSOKlz/Qebb8LHqtv8d5tvwseq2/e2lGHJbBrb9faUYclsGtv895tvwseq2/HHt4mQKntD814hnirymaP8vkq3Ejipc/wCk7GzHJ0L/AKTsbMcnQv9x4K10Zl+A/wCk7GzHJ0L/rynQBerfjv9x4K10Zl+A/3HgrXRmX4D+GgTTA30q7P4aBNMDfSrs/wCk7GzHJ0L/rynQBerfjv5vFYFudyeQ/",
          "dtype": "f8"
         },
         "yaxis": "y"
        }
       ],
       "layout": {
        "legend": {
         "tracegroupgap": 0
        },
        "template": {
         "data": {
          "bar": [
           {
            "error_x": {
             "color": "#2a3f5f"
            },
            "error_y": {
             "color": "#2a3f5f"
            },
            "marker": {
             "line": {
              "color": "#E5ECF6",
              "width": 0.5
             },
             "pattern": {
              "fillmode": "overlay",
              "size": 10,
              "solidity": 0.2
             }
            },
            "type": "bar"
           }
          ],
          "barpolar": [
           {
            "marker": {
             "line": {
              "color": "#E5ECF6",
              "width": 0.5
             },
             "pattern": {
              "fillmode": "overlay",
              "size": 10,
              "solidity": 0.2
             }
            },
            "type": "barpolar"
           }
          ],
          "carpet": [
           {
            "aaxis": {
             "endlinecolor": "#2a3f5f",
             "gridcolor": "white",
             "linecolor": "white",
             "minorgridcolor": "white",
             "startlinecolor": "#2a3f5f"
            },
            "baxis": {
             "endlinecolor": "#2a3f5f",
             "gridcolor": "white",
             "linecolor": "white",
             "minorgridcolor": "white",
             "startlinecolor": "#2a3f5f"
            },
            "type": "carpet"
           }
          ],
          "choropleth": [
           {
            "colorbar": {
             "outlinewidth": 0,
             "ticks": ""
            },
            "type": "choropleth"
           }
          ],
          "contour": [
           {
            "colorbar": {
             "outlinewidth": 0,
             "ticks": ""
            },
            "colorscale": [
             [
              0,
              "#0d0887"
             ],
             [
              0.1111111111111111,
              "#46039f"
             ],
             [
              0.2222222222222222,
              "#7201a8"
             ],
             [
              0.3333333333333333,
              "#9c179e"
             ],
             [
              0.4444444444444444,
              "#bd3786"
             ],
             [
              0.5555555555555556,
              "#d8576b"
             ],
             [
              0.6666666666666666,
              "#ed7953"
             ],
             [
              0.7777777777777778,
              "#fb9f3a"
             ],
             [
              0.8888888888888888,
              "#fdca26"
             ],
             [
              1,
              "#f0f921"
             ]
            ],
            "type": "contour"
           }
          ],
          "contourcarpet": [
           {
            "colorbar": {
             "outlinewidth": 0,
             "ticks": ""
            },
            "type": "contourcarpet"
           }
          ],
          "heatmap": [
           {
            "colorbar": {
             "outlinewidth": 0,
             "ticks": ""
            },
            "colorscale": [
             [
              0,
              "#0d0887"
             ],
             [
              0.1111111111111111,
              "#46039f"
             ],
             [
              0.2222222222222222,
              "#7201a8"
             ],
             [
              0.3333333333333333,
              "#9c179e"
             ],
             [
              0.4444444444444444,
              "#bd3786"
             ],
             [
              0.5555555555555556,
              "#d8576b"
             ],
             [
              0.6666666666666666,
              "#ed7953"
             ],
             [
              0.7777777777777778,
              "#fb9f3a"
             ],
             [
              0.8888888888888888,
              "#fdca26"
             ],
             [
              1,
              "#f0f921"
             ]
            ],
            "type": "heatmap"
           }
          ],
          "histogram": [
           {
            "marker": {
             "pattern": {
              "fillmode": "overlay",
              "size": 10,
              "solidity": 0.2
             }
            },
            "type": "histogram"
           }
          ],
          "histogram2d": [
           {
            "colorbar": {
             "outlinewidth": 0,
             "ticks": ""
            },
            "colorscale": [
             [
              0,
              "#0d0887"
             ],
             [
              0.1111111111111111,
              "#46039f"
             ],
             [
              0.2222222222222222,
              "#7201a8"
             ],
             [
              0.3333333333333333,
              "#9c179e"
             ],
             [
              0.4444444444444444,
              "#bd3786"
             ],
             [
              0.5555555555555556,
              "#d8576b"
             ],
             [
              0.6666666666666666,
              "#ed7953"
             ],
             [
              0.7777777777777778,
              "#fb9f3a"
             ],
             [
              0.8888888888888888,
              "#fdca26"
             ],
             [
              1,
              "#f0f921"
             ]
            ],
            "type": "histogram2d"
           }
          ],
          "histogram2dcontour": [
           {
            "colorbar": {
             "outlinewidth": 0,
             "ticks": ""
            },
            "colorscale": [
             [
              0,
              "#0d0887"
             ],
             [
              0.1111111111111111,
              "#46039f"
             ],
             [
              0.2222222222222222,
              "#7201a8"
             ],
             [
              0.3333333333333333,
              "#9c179e"
             ],
             [
              0.4444444444444444,
              "#bd3786"
             ],
             [
              0.5555555555555556,
              "#d8576b"
             ],
             [
              0.6666666666666666,
              "#ed7953"
             ],
             [
              0.7777777777777778,
              "#fb9f3a"
             ],
             [
              0.8888888888888888,
              "#fdca26"
             ],
             [
              1,
              "#f0f921"
             ]
            ],
            "type": "histogram2dcontour"
           }
          ],
          "mesh3d": [
           {
            "colorbar": {
             "outlinewidth": 0,
             "ticks": ""
            },
            "type": "mesh3d"
           }
          ],
          "parcoords": [
           {
            "line": {
             "colorbar": {
              "outlinewidth": 0,
              "ticks": ""
             }
            },
            "type": "parcoords"
           }
          ],
          "pie": [
           {
            "automargin": true,
            "type": "pie"
           }
          ],
          "scatter": [
           {
            "fillpattern": {
             "fillmode": "overlay",
             "size": 10,
             "solidity": 0.2
            },
            "type": "scatter"
           }
          ],
          "scatter3d": [
           {
            "line": {
             "colorbar": {
              "outlinewidth": 0,
              "ticks": ""
             }
            },
            "marker": {
             "colorbar": {
              "outlinewidth": 0,
              "ticks": ""
             }
            },
            "type": "scatter3d"
           }
          ],
          "scattercarpet": [
           {
            "marker": {
             "colorbar": {
              "outlinewidth": 0,
              "ticks": ""
             }
            },
            "type": "scattercarpet"
           }
          ],
          "scattergeo": [
           {
            "marker": {
             "colorbar": {
              "outlinewidth": 0,
              "ticks": ""
             }
            },
            "type": "scattergeo"
           }
          ],
          "scattergl": [
           {
            "marker": {
             "colorbar": {
              "outlinewidth": 0,
              "ticks": ""
             }
            },
            "type": "scattergl"
           }
          ],
          "scattermap": [
           {
            "marker": {
             "colorbar": {
              "outlinewidth": 0,
              "ticks": ""
             }
            },
            "type": "scattermap"
           }
          ],
          "scattermapbox": [
           {
            "marker": {
             "colorbar": {
              "outlinewidth": 0,
              "ticks": ""
             }
            },
            "type": "scattermapbox"
           }
          ],
          "scatterpolar": [
           {
            "marker": {
             "colorbar": {
              "outlinewidth": 0,
              "ticks": ""
             }
            },
            "type": "scatterpolar"
           }
          ],
          "scatterpolargl": [
           {
            "marker": {
             "colorbar": {
              "outlinewidth": 0,
              "ticks": ""
             }
            },
            "type": "scatterpolargl"
           }
          ],
          "scatterternary": [
           {
            "marker": {
             "colorbar": {
              "outlinewidth": 0,
              "ticks": ""
             }
            },
            "type": "scatterternary"
           }
          ],
          "surface": [
           {
            "colorbar": {
             "outlinewidth": 0,
             "ticks": ""
            },
            "colorscale": [
             [
              0,
              "#0d0887"
             ],
             [
              0.1111111111111111,
              "#46039f"
             ],
             [
              0.2222222222222222,
              "#7201a8"
             ],
             [
              0.3333333333333333,
              "#9c179e"
             ],
             [
              0.4444444444444444,
              "#bd3786"
             ],
             [
              0.5555555555555556,
              "#d8576b"
             ],
             [
              0.6666666666666666,
              "#ed7953"
             ],
             [
              0.7777777777777778,
              "#fb9f3a"
             ],
             [
              0.8888888888888888,
              "#fdca26"
             ],
             [
              1,
              "#f0f921"
             ]
            ],
            "type": "surface"
           }
          ],
          "table": [
           {
            "cells": {
             "fill": {
              "color": "#EBF0F8"
             },
             "line": {
              "color": "white"
             }
            },
            "header": {
             "fill": {
              "color": "#C8D4E3"
             },
             "line": {
              "color": "white"
             }
            },
            "type": "table"
           }
          ]
         },
         "layout": {
          "annotationdefaults": {
           "arrowcolor": "#2a3f5f",
           "arrowhead": 0,
           "arrowwidth": 1
          },
          "autotypenumbers": "strict",
          "coloraxis": {
           "colorbar": {
            "outlinewidth": 0,
            "ticks": ""
           }
          },
          "colorscale": {
           "diverging": [
            [
             0,
             "#8e0152"
            ],
            [
             0.1,
             "#c51b7d"
            ],
            [
             0.2,
             "#de77ae"
            ],
            [
             0.3,
             "#f1b6da"
            ],
            [
             0.4,
             "#fde0ef"
            ],
            [
             0.5,
             "#f7f7f7"
            ],
            [
             0.6,
             "#e6f5d0"
            ],
            [
             0.7,
             "#b8e186"
            ],
            [
             0.8,
             "#7fbc41"
            ],
            [
             0.9,
             "#4d9221"
            ],
            [
             1,
             "#276419"
            ]
           ],
           "sequential": [
            [
             0,
             "#0d0887"
            ],
            [
             0.1111111111111111,
             "#46039f"
            ],
            [
             0.2222222222222222,
             "#7201a8"
            ],
            [
             0.3333333333333333,
             "#9c179e"
            ],
            [
             0.4444444444444444,
             "#bd3786"
            ],
            [
             0.5555555555555556,
             "#d8576b"
            ],
            [
             0.6666666666666666,
             "#ed7953"
            ],
            [
             0.7777777777777778,
             "#fb9f3a"
            ],
            [
             0.8888888888888888,
             "#fdca26"
            ],
            [
             1,
             "#f0f921"
            ]
           ],
           "sequentialminus": [
            [
             0,
             "#0d0887"
            ],
            [
             0.1111111111111111,
             "#46039f"
            ],
            [
             0.2222222222222222,
             "#7201a8"
            ],
            [
             0.3333333333333333,
             "#9c179e"
            ],
            [
             0.4444444444444444,
             "#bd3786"
            ],
            [
             0.5555555555555556,
             "#d8576b"
            ],
            [
             0.6666666666666666,
             "#ed7953"
            ],
            [
             0.7777777777777778,
             "#fb9f3a"
            ],
            [
             0.8888888888888888,
             "#fdca26"
            ],
            [
             1,
             "#f0f921"
            ]
           ]
          },
          "colorway": [
           "#636efa",
           "#EF553B",
           "#00cc96",
           "#ab63fa",
           "#FFA15A",
           "#19d3f3",
           "#FF6692",
           "#B6E880",
           "#FF97FF",
           "#FECB52"
          ],
          "font": {
           "color": "#2a3f5f"
          },
          "geo": {
           "bgcolor": "white",
           "lakecolor": "white",
           "landcolor": "#E5ECF6",
           "showlakes": true,
           "showland": true,
           "subunitcolor": "white"
          },
          "hoverlabel": {
           "align": "left"
          },
          "hovermode": "closest",
          "mapbox": {
           "style": "light"
          },
          "paper_bgcolor": "white",
          "plot_bgcolor": "#E5ECF6",
          "polar": {
           "angularaxis": {
            "gridcolor": "white",
            "linecolor": "white",
            "ticks": ""
           },
           "bgcolor": "#E5ECF6",
           "radialaxis": {
            "gridcolor": "white",
            "linecolor": "white",
            "ticks": ""
           }
          },
          "scene": {
           "xaxis": {
            "backgroundcolor": "#E5ECF6",
            "gridcolor": "white",
            "gridwidth": 2,
            "linecolor": "white",
            "showbackground": true,
            "ticks": "",
            "zerolinecolor": "white"
           },
           "yaxis": {
            "backgroundcolor": "#E5ECF6",
            "gridcolor": "white",
            "gridwidth": 2,
            "linecolor": "white",
            "showbackground": true,
            "ticks": "",
            "zerolinecolor": "white"
           },
           "zaxis": {
            "backgroundcolor": "#E5ECF6",
            "gridcolor": "white",
            "gridwidth": 2,
            "linecolor": "white",
            "showbackground": true,
            "ticks": "",
            "zerolinecolor": "white"
           }
          },
          "shapedefaults": {
           "line": {
            "color": "#2a3f5f"
           }
          },
          "ternary": {
           "aaxis": {
            "gridcolor": "white",
            "linecolor": "white",
            "ticks": ""
           },
           "baxis": {
            "gridcolor": "white",
            "linecolor": "white",
            "ticks": ""
           },
           "bgcolor": "#E5ECF6",
           "caxis": {
            "gridcolor": "white",
            "linecolor": "white",
            "ticks": ""
           }
          },
          "title": {
           "x": 0.05
          },
          "xaxis": {
           "automargin": true,
           "gridcolor": "white",
           "linecolor": "white",
           "ticks": "",
           "title": {
            "standoff": 15
           },
           "zerolinecolor": "white",
           "zerolinewidth": 2
          },
          "yaxis": {
           "automargin": true,
           "gridcolor": "white",
           "linecolor": "white",
           "ticks": "",
           "title": {
            "standoff": 15
           },
           "zerolinecolor": "white",
           "zerolinewidth": 2
          }
         }
        },
        "title": {
         "text": "Localização dos nomes de citação - Professores com 'Y'"
        },
        "xaxis": {
         "anchor": "y",
         "domain": [
          0,
          1
         ],
         "title": {
          "text": "PCA 1"
         }
        },
        "yaxis": {
         "anchor": "x",
         "domain": [
          0,
          1
         ],
         "title": {
          "text": "PCA 2"
         }
        }
       }
      }
     },
     "metadata": {},
     "output_type": "display_data"
    },
    {
     "name": "stdout",
     "output_type": "stream",
     "text": [
      "\n",
      "Professores e nomes de citação do grupo 'Y':\n",
      "- Yuri de Almeida Malheiros Barbosa  (PCA: 0.669, 0.023)\n",
      "    • MALHEIROS, YURI  (PCA: 0.770, -0.058)\n",
      "    • MALHEIROS, YURI B  (PCA: 0.770, -0.058)\n",
      "    • MALHEIROS, Y.  (PCA: 0.657, -0.058)\n",
      "    • MALHEIROS, Y  (PCA: 0.657, -0.058)\n",
      "    • MALHEIROS, YURI B.  (PCA: 0.770, -0.058)\n",
      "    • BARBOSA, Y. A. M.  (PCA: 0.295, 0.081)\n",
      "    • ALMEIDA, YURI A.  (PCA: 0.509, 0.026)\n",
      "    • BARBOSA, YURI DE ALMEIDA MALHEIROS  (PCA: 0.669, 0.023)\n",
      "- Yuska Paola Costa Aguiar  (PCA: -0.561, -0.262)\n",
      "    • AGUIAR, YUSKA PAOLA COSTA  (PCA: -0.561, -0.262)\n",
      "    • AGUIAR, YUSKA P. C.  (PCA: -0.445, 0.518)\n",
      "    • YUSKA PAOLA COSTA AGUIAR  (PCA: -0.561, -0.262)\n",
      "    • YUSKA PAOLA COSTA  (PCA: -0.432, -0.616)\n",
      "    • YUSKA P. C. AGUIAR  (PCA: -0.445, 0.518)\n",
      "    • AGUIAR, YUSKA  (PCA: -0.445, 0.518)\n",
      "    • AGUIAR, YUSKA PAOLA  (PCA: -0.527, 0.107)\n",
      "    • YUSKA PAOLA AGUIAR  (PCA: -0.527, 0.107)\n",
      "    • COSTA AGUIAR, YUSKA PAOLA  (PCA: -0.561, -0.262)\n",
      "    • COSTA, YUSKA PAOLA  (PCA: -0.432, -0.616)\n",
      "    • AGUIAR, Y. P. C.  (PCA: -0.268, 0.650)\n"
     ]
    }
   ],
   "source": [
    "grupos = defaultdict(list)\n",
    "for prof in professores:\n",
    "    nome = prof[\"identificacao\"][\"nome\"]\n",
    "    grupos[nome[0].upper()].append(prof)\n",
    "\n",
    "for letra, grupo in grupos.items():\n",
    "    nomes = []\n",
    "    for prof in grupo:\n",
    "        nome_professor = prof[\"identificacao\"][\"nome\"]\n",
    "        nomes.append(nome_professor)\n",
    "        nomes += prof[\"identificacao\"].get(\"nomes_citacao\", [])\n",
    "    if len(nomes) < 2:\n",
    "        continue\n",
    "\n",
    "    vectorizer = TfidfVectorizer()\n",
    "    X = vectorizer.fit_transform(nomes)\n",
    "    pca = PCA(n_components=2)\n",
    "    X_2d = pca.fit_transform(X.toarray())\n",
    "\n",
    "    fig = px.scatter(\n",
    "        x=X_2d[:, 0],\n",
    "        y=X_2d[:, 1],\n",
    "        text=nomes,\n",
    "        labels={\"x\": \"PCA 1\", \"y\": \"PCA 2\"},\n",
    "        title=f\"Localização dos nomes de citação - Professores com '{letra}'\",\n",
    "    )\n",
    "    fig.update_traces(marker=dict(size=10), textposition='top center', hovertemplate='%{text}')\n",
    "    fig.show()\n",
    "\n",
    "    print(f\"\\nProfessores e nomes de citação do grupo '{letra}':\")\n",
    "    idx = 0\n",
    "    for prof in grupo:\n",
    "        nome_professor = prof[\"identificacao\"][\"nome\"]\n",
    "        print(f\"- {nome_professor}  (PCA: {X_2d[idx, 0]:.3f}, {X_2d[idx, 1]:.3f})\")\n",
    "        idx += 1\n",
    "        nomes_citacao = prof[\"identificacao\"].get(\"nomes_citacao\", [])\n",
    "        for nome_citacao in nomes_citacao:\n",
    "            print(f\"    • {nome_citacao}  (PCA: {X_2d[idx, 0]:.3f}, {X_2d[idx, 1]:.3f})\")\n",
    "            idx += 1"
   ]
  }
 ],
 "metadata": {
  "kernelspec": {
   "display_name": "python-starter (3.13.5)",
   "language": "python",
   "name": "python3"
  },
  "language_info": {
   "codemirror_mode": {
    "name": "ipython",
    "version": 3
   },
   "file_extension": ".py",
   "mimetype": "text/x-python",
   "name": "python",
   "nbconvert_exporter": "python",
   "pygments_lexer": "ipython3",
   "version": "3.13.5"
  }
 },
 "nbformat": 4,
 "nbformat_minor": 5
}
