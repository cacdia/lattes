{
 "cells": [
  {
   "cell_type": "code",
   "execution_count": 119,
   "id": "47c4a209",
   "metadata": {},
   "outputs": [],
   "source": [
    "import json\n",
    "from sklearn.feature_extraction.text import TfidfVectorizer\n",
    "from sklearn.decomposition import PCA\n",
    "import matplotlib.pyplot as plt\n",
    "import plotly.express as px\n",
    "from rapidfuzz import fuzz\n",
    "from collections import defaultdict"
   ]
  },
  {
   "cell_type": "code",
   "execution_count": 120,
   "id": "44174e3b",
   "metadata": {},
   "outputs": [],
   "source": [
    "with open(\"../data/professores.json\", encoding=\"utf-8\") as f:\n",
    "    professores = json.load(f)"
   ]
  },
  {
   "cell_type": "code",
   "execution_count": 121,
   "id": "cff9416f",
   "metadata": {},
   "outputs": [],
   "source": [
    "def calcular_proximidade(professores):\n",
    "    resultados = []\n",
    "    for prof in professores:\n",
    "        nome = prof[\"identificacao\"][\"nome\"]\n",
    "        nomes_citacao = prof[\"identificacao\"].get(\"nomes_citacao\", [])\n",
    "        for nome_citacao in nomes_citacao:\n",
    "            score = fuzz.token_set_ratio(nome, nome_citacao)\n",
    "            resultados.append(\n",
    "                {\"nome\": nome, \"nome_citacao\": nome_citacao, \"proximidade\": score}\n",
    "            )\n",
    "    return resultados"
   ]
  },
  {
   "cell_type": "code",
   "execution_count": 122,
   "id": "a748c46d",
   "metadata": {},
   "outputs": [],
   "source": [
    "resultados = calcular_proximidade(professores)"
   ]
  },
  {
   "cell_type": "code",
   "execution_count": 123,
   "id": "950c5485",
   "metadata": {},
   "outputs": [
    {
     "name": "stdout",
     "output_type": "stream",
     "text": [
      "{'nome': 'Adriana Carla Damasceno', 'nome_citacao': 'DAMASCENO, ADRIANA C.', 'proximidade': 22.727272727272734}\n",
      "{'nome': 'Adriana Carla Damasceno', 'nome_citacao': 'ADRIANA DAMASCENO', 'proximidade': 15.0}\n",
      "{'nome': 'Adriana Carla Damasceno', 'nome_citacao': 'DAMASCENO, A. C.', 'proximidade': 25.641025641025635}\n",
      "{'nome': 'Adriana Carla Damasceno', 'nome_citacao': 'DAMASCENO, ADRIANA', 'proximidade': 14.63414634146342}\n",
      "{'nome': 'Alan Kelon Oliveira de Moraes', 'nome_citacao': 'MORAES, A.', 'proximidade': 20.51282051282051}\n",
      "{'nome': 'Alan Kelon Oliveira de Moraes', 'nome_citacao': 'MORAES, ALAN', 'proximidade': 19.512195121951223}\n",
      "{'nome': 'Alan Kelon Oliveira de Moraes', 'nome_citacao': 'MORAES, A. K. O.', 'proximidade': 31.111111111111114}\n",
      "{'nome': 'Alisson Vasconcelos de Brito', 'nome_citacao': 'BRITO, ALISSON V.', 'proximidade': 22.22222222222223}\n",
      "{'nome': 'Alisson Vasconcelos de Brito', 'nome_citacao': 'BRITO, ALISSON V', 'proximidade': 22.727272727272734}\n",
      "{'nome': 'Alisson Vasconcelos de Brito', 'nome_citacao': 'ALISSON, V.B.', 'proximidade': 14.63414634146342}\n",
      "{'nome': 'Alisson Vasconcelos de Brito', 'nome_citacao': 'VASCONCELOS BRITO, ALISSON', 'proximidade': 18.51851851851852}\n",
      "{'nome': 'Alisson Vasconcelos de Brito', 'nome_citacao': 'BRITO, ALISSON', 'proximidade': 14.285714285714292}\n",
      "{'nome': 'Alisson Vasconcelos de Brito', 'nome_citacao': 'BRITO, ALISSON VASCONCELOS DE', 'proximidade': 17.54385964912281}\n",
      "{'nome': 'Alisson Vasconcelos de Brito', 'nome_citacao': 'ALISSON VASCONCELOS BRITO', 'proximidade': 18.867924528301884}\n",
      "{'nome': 'Alisson Vasconcelos de Brito', 'nome_citacao': 'BRITO, ALISSON VASCONCELOS', 'proximidade': 18.51851851851852}\n",
      "{'nome': 'Alisson Vasconcelos de Brito', 'nome_citacao': 'DE BRITO, ALISSON VASCONCELOS', 'proximidade': 17.54385964912281}\n",
      "{'nome': 'Alisson Vasconcelos de Brito', 'nome_citacao': 'BRITO, A. V.', 'proximidade': 25.0}\n",
      "{'nome': 'Alvaro Francisco de Castro Medeiros', 'nome_citacao': 'MEDEIROS, A. F. C.', 'proximidade': 26.41509433962264}\n",
      "{'nome': 'Ana Paula Pintado Wyse', 'nome_citacao': 'WYSE, ANA PAULA P.', 'proximidade': 35.0}\n",
      "{'nome': 'Ana Paula Pintado Wyse', 'nome_citacao': 'WYSE, A. P.', 'proximidade': 30.303030303030297}\n",
      "{'nome': 'Ana Paula Pintado Wyse', 'nome_citacao': 'WYSE, A. P. P.', 'proximidade': 30.303030303030297}\n",
      "{'nome': 'Ana Paula Pintado Wyse', 'nome_citacao': 'WYSE, ANA PAULA', 'proximidade': 27.02702702702703}\n",
      "{'nome': 'Ana Paula Pintado Wyse', 'nome_citacao': 'WYSE, ANA PAULA PINTADO', 'proximidade': 31.111111111111114}\n",
      "{'nome': 'Anand Subramanian', 'nome_citacao': 'SUBRAMANIAN, ANAND', 'proximidade': 17.14285714285714}\n",
      "{'nome': 'Anand Subramanian', 'nome_citacao': 'SUBRAMANIAN, A.', 'proximidade': 18.75}\n",
      "{'nome': 'Andrei de Araujo Formiga', 'nome_citacao': 'FORMIGA, A. A.', 'proximidade': 17.14285714285714}\n",
      "{'nome': 'Andréa Vanessa Rocha', 'nome_citacao': 'ROCHA, ANDRÉA V.', 'proximidade': 27.77777777777777}\n",
      "{'nome': 'Andréa Vanessa Rocha', 'nome_citacao': 'ROCHA, ANDRÉA VANESSA', 'proximidade': 24.390243902439025}\n",
      "{'nome': 'Aparecido Jesuino de Souza', 'nome_citacao': 'DE SOUZA, A. J.', 'proximidade': 24.390243902439025}\n",
      "{'nome': 'Aparecido Jesuino de Souza', 'nome_citacao': 'J. DE SOUZA, A.', 'proximidade': 24.390243902439025}\n",
      "{'nome': 'Aparecido Jesuino de Souza', 'nome_citacao': 'SOUZA, APARECIDO J. DE', 'proximidade': 20.83333333333333}\n",
      "{'nome': 'Aparecido Jesuino de Souza', 'nome_citacao': 'DE SOUZA, APARECIDO J.', 'proximidade': 20.83333333333333}\n",
      "{'nome': 'Aparecido Jesuino de Souza', 'nome_citacao': 'A. J. DE SOUZA', 'proximidade': 25.0}\n",
      "{'nome': 'Aparecido Jesuino de Souza', 'nome_citacao': 'DE SOUZA, APARECIDO JESUINO', 'proximidade': 18.867924528301884}\n",
      "{'nome': 'Aparecido Jesuino de Souza', 'nome_citacao': 'A. J. DESOUZA', 'proximidade': 20.51282051282051}\n",
      "{'nome': 'Aparecido Jesuino de Souza', 'nome_citacao': 'SOUZA, APARECIDO J.', 'proximidade': 22.22222222222223}\n",
      "{'nome': 'Aparecido Jesuino de Souza', 'nome_citacao': 'SOUZA, A. J. DE', 'proximidade': 24.390243902439025}\n",
      "{'nome': 'Aparecido Jesuino de Souza', 'nome_citacao': 'DE SOUZA, APARECIDO', 'proximidade': 17.77777777777777}\n",
      "{'nome': 'Augusto de Holanda Barreto Martins Tavares', 'nome_citacao': 'AUGUSTO DE HOLANDA B. M. TAVARES', 'proximidade': 24.324324324324323}\n",
      "{'nome': 'Augusto de Holanda Barreto Martins Tavares', 'nome_citacao': 'TAVARES, AUGUSTO H.B.M.', 'proximidade': 18.461538461538467}\n",
      "{'nome': 'Augusto de Holanda Barreto Martins Tavares', 'nome_citacao': 'TAVARES, AUGUSTO H. B. M.', 'proximidade': 26.86567164179104}\n",
      "{'nome': 'Augusto de Holanda Barreto Martins Tavares', 'nome_citacao': 'DE HOLANDA BARRETO MARTINS TAVARES, AUGUSTO', 'proximidade': 21.17647058823529}\n",
      "{'nome': 'Augusto de Holanda Barreto Martins Tavares', 'nome_citacao': 'TAVARES, AUGUSTO', 'proximidade': 10.34482758620689}\n",
      "{'nome': 'Augusto de Holanda Barreto Martins Tavares', 'nome_citacao': 'TAVARES, AUGUSTO DE HOLANDA B. M.', 'proximidade': 24.0}\n",
      "{'nome': 'Augusto de Holanda Barreto Martins Tavares', 'nome_citacao': 'TAVARES, A. H. B. M.', 'proximidade': 29.032258064516128}\n",
      "{'nome': 'Bruno Jefferson de Sousa Pessoa', 'nome_citacao': 'PESSOA, BRUNO J.S.', 'proximidade': 24.48979591836735}\n",
      "{'nome': 'Bruno Jefferson de Sousa Pessoa', 'nome_citacao': 'PESSOA, BRUNO JEFFERSON DE S.', 'proximidade': 23.33333333333333}\n",
      "{'nome': 'Bruno Jefferson de Sousa Pessoa', 'nome_citacao': 'PESSOA, BRUNO JEFFERSON DE SOUSA', 'proximidade': 22.22222222222223}\n",
      "{'nome': 'Bruno Jefferson de Sousa Pessoa', 'nome_citacao': 'PESSOA, B. J. S.', 'proximidade': 29.787234042553195}\n",
      "{'nome': 'Bruno Petrato Bruck', 'nome_citacao': 'BRUCK, BRUNO P.', 'proximidade': 29.411764705882348}\n",
      "{'nome': 'Bruno Petrato Bruck', 'nome_citacao': 'BRUCK, BRUNO', 'proximidade': 19.354838709677423}\n",
      "{'nome': 'Bruno Petrato Bruck', 'nome_citacao': 'BRUCK, B.P.', 'proximidade': 20.0}\n",
      "{'nome': 'Bruno Petrato Bruck', 'nome_citacao': 'BRUCK, BRUNO PETRATO', 'proximidade': 25.641025641025635}\n",
      "{'nome': 'Camila Mara Vital Barros', 'nome_citacao': 'BARROS, CAMILA', 'proximidade': 21.05263157894737}\n",
      "{'nome': 'Camila Mara Vital Barros', 'nome_citacao': 'BARROS, CAMILA MARA VITAL', 'proximidade': 28.57142857142857}\n",
      "{'nome': 'Camila Mara Vital Barros', 'nome_citacao': 'MARA VITAL BARROS, CAMILA', 'proximidade': 28.57142857142857}\n",
      "{'nome': 'Camila Mara Vital Barros', 'nome_citacao': 'BARROS, C. M. V.', 'proximidade': 35.0}\n",
      "{'nome': 'Carlos Alberto Nunes Machado', 'nome_citacao': 'MACHADO, C. A. N.', 'proximidade': 31.111111111111114}\n",
      "{'nome': 'Carlos Alberto Nunes Machado', 'nome_citacao': 'MACHADO, CARLOS ALBERTO NUNES', 'proximidade': 24.56140350877193}\n",
      "{'nome': 'Carlos Eduardo Coelho Freire Batista', 'nome_citacao': 'BATISTA, CARLOS EDUARDO', 'proximidade': 16.949152542372886}\n",
      "{'nome': 'Carlos Eduardo Coelho Freire Batista', 'nome_citacao': 'BATISTA, CARLOS EDUARDO FREIRE', 'proximidade': 21.212121212121218}\n",
      "{'nome': 'Carlos Eduardo Coelho Freire Batista', 'nome_citacao': 'BATISTA, CARLOS E. C. F.', 'proximidade': 30.0}\n",
      "{'nome': 'Carlos Eduardo Coelho Freire Batista', 'nome_citacao': 'BATISTA, CARLOS EDUARDO COELHO FREIRE', 'proximidade': 24.657534246575338}\n",
      "{'nome': 'Carlos Eduardo Coelho Freire Batista', 'nome_citacao': 'BATISTA, C. E. C. F.', 'proximidade': 26.41509433962264}\n",
      "{'nome': 'Carlos Eduardo Coelho Freire Batista', 'nome_citacao': 'EDUARDO COELHO FREIRE BATISTA, CARLOS', 'proximidade': 24.657534246575338}\n",
      "{'nome': 'Carlos Eduardo Coelho Freire Batista', 'nome_citacao': 'BATISTA, CARLOS', 'proximidade': 11.764705882352942}\n",
      "{'nome': 'Christian Azambuja Pagot', 'nome_citacao': 'PAGOT, C. A.', 'proximidade': 27.77777777777777}\n",
      "{'nome': 'Christian Azambuja Pagot', 'nome_citacao': 'PAGOT, CHRISTIAN', 'proximidade': 15.0}\n",
      "{'nome': 'Clauirton de Albuquerque Siebra', 'nome_citacao': 'SIEBRA, C.', 'proximidade': 14.63414634146342}\n",
      "{'nome': 'Clauirton de Albuquerque Siebra', 'nome_citacao': 'SIEBRA, CLAUIRTON ALBUQUERQUE', 'proximidade': 16.66666666666667}\n",
      "{'nome': 'Clauirton de Albuquerque Siebra', 'nome_citacao': 'DE ALBUQUERQUE SIEBRA, CLAUIRTON', 'proximidade': 15.873015873015873}\n",
      "{'nome': 'Clauirton de Albuquerque Siebra', 'nome_citacao': 'SIEBRA, CLAUIRTON A.', 'proximidade': 19.607843137254903}\n",
      "{'nome': 'Clauirton de Albuquerque Siebra', 'nome_citacao': 'SIEBRA, CLAUIRTON', 'proximidade': 12.5}\n",
      "{'nome': 'Clauirton de Albuquerque Siebra', 'nome_citacao': 'SIEBRA, CLAUIRTON DE ALBUQUERQUE', 'proximidade': 15.873015873015873}\n",
      "{'nome': 'Clauirton de Albuquerque Siebra', 'nome_citacao': 'CLAUIRTON SIEBRA', 'proximidade': 12.765957446808514}\n",
      "{'nome': 'Clauirton de Albuquerque Siebra', 'nome_citacao': 'SIEBRA, C. A.', 'proximidade': 22.727272727272734}\n",
      "{'nome': 'Clauirton de Albuquerque Siebra', 'nome_citacao': 'CLAUIRTON DE ALBUQUERQUE SIEBRA', 'proximidade': 16.129032258064512}\n",
      "{'nome': 'Clauirton de Albuquerque Siebra', 'nome_citacao': 'SIEBRA, CLAUIRTON A', 'proximidade': 20.0}\n",
      "{'nome': 'Daniela Coelho Batista Guedes Pereira', 'nome_citacao': 'DANIELA COELHO BATISTA', 'proximidade': 16.949152542372886}\n",
      "{'nome': 'Daniela Coelho Batista Guedes Pereira', 'nome_citacao': 'DANIELA COELHO FREIRE BATISTA', 'proximidade': 18.181818181818187}\n",
      "{'nome': 'Daniela Coelho Batista Guedes Pereira', 'nome_citacao': 'BATISTA, D. C. F', 'proximidade': 22.64150943396227}\n",
      "{'nome': 'Daniela Coelho Batista Guedes Pereira', 'nome_citacao': 'DANIELA C. B. G. PEREIRA', 'proximidade': 29.508196721311478}\n",
      "{'nome': 'Danielle Rousy Dias Ricarte', 'nome_citacao': 'RICARTE, DANIELLE R. D.', 'proximidade': 28.0}\n",
      "{'nome': 'Danielle Rousy Dias Ricarte', 'nome_citacao': 'SILVA, DANIELLE', 'proximidade': 9.523809523809518}\n",
      "{'nome': 'Danielle Rousy Dias Ricarte', 'nome_citacao': 'DANIELLE ROUSY D. RICARTE', 'proximidade': 26.92307692307692}\n",
      "{'nome': 'Danielle Rousy Dias Ricarte', 'nome_citacao': 'SILVA, D. R. D.', 'proximidade': 20.51282051282051}\n",
      "{'nome': 'Danielle Rousy Dias Ricarte', 'nome_citacao': 'RICARTE, D. R. D', 'proximidade': 32.55813953488372}\n",
      "{'nome': 'Danielle Rousy Dias Ricarte', 'nome_citacao': 'RICARTE, DANIELLE ROUSY DIAS', 'proximidade': 25.454545454545453}\n",
      "{'nome': 'Danielle Rousy Dias Ricarte', 'nome_citacao': 'DANIELLE ROUSY DIAS RICARTE', 'proximidade': 25.925925925925924}\n",
      "{'nome': 'Danielle Rousy Dias Ricarte', 'nome_citacao': 'ROUSY DIAS DA SILVA, DANIELLE', 'proximidade': 21.42857142857143}\n",
      "{'nome': 'Danielle Rousy Dias Ricarte', 'nome_citacao': 'ROUSY DIAS RICARTE, DANIELLE', 'proximidade': 25.454545454545453}\n",
      "{'nome': 'Danielle Rousy Dias Ricarte', 'nome_citacao': 'RICARTE, DANIELLE ROUSY D.', 'proximidade': 26.41509433962264}\n",
      "{'nome': 'Danielle Rousy Dias Ricarte', 'nome_citacao': 'RICARTE, D. R. D.', 'proximidade': 24.390243902439025}\n",
      "{'nome': 'Davi Henrique dos Santos', 'nome_citacao': 'SANTOS, D.H.', 'proximidade': 22.22222222222223}\n",
      "{'nome': 'Davi Henrique dos Santos', 'nome_citacao': 'DOS SANTOS, DAVI', 'proximidade': 20.0}\n",
      "{'nome': 'Davi Henrique dos Santos', 'nome_citacao': 'DOS SANTOS, DAVI H.', 'proximidade': 23.25581395348837}\n",
      "{'nome': 'Davi Henrique dos Santos', 'nome_citacao': 'SANTOS, DAVI', 'proximidade': 16.66666666666667}\n",
      "{'nome': 'Davi Henrique dos Santos', 'nome_citacao': 'DOS SANTOS, DAVI HENRIQUE', 'proximidade': 20.40816326530613}\n",
      "{'nome': 'Davi Henrique dos Santos', 'nome_citacao': 'SANTOS, DAVID H. DO', 'proximidade': 23.25581395348837}\n",
      "{'nome': 'Davi Henrique dos Santos', 'nome_citacao': 'SANTOS, DAVI HENRIQUE DOS', 'proximidade': 20.40816326530613}\n",
      "{'nome': 'Davi Henrique dos Santos', 'nome_citacao': 'SANTOS, DAVI H. DOS', 'proximidade': 23.25581395348837}\n",
      "{'nome': 'Davi Henrique dos Santos', 'nome_citacao': 'SANTOS, DAVI H.', 'proximidade': 25.641025641025635}\n",
      "{'nome': 'Davi Henrique dos Santos', 'nome_citacao': 'SANTOS, D. H.', 'proximidade': 27.02702702702703}\n",
      "{'nome': 'Davi Henrique dos Santos', 'nome_citacao': 'H. SANTOS, DAVI', 'proximidade': 25.641025641025635}\n",
      "{'nome': 'Derzu Omaia', 'nome_citacao': 'OMAIA, DERZU', 'proximidade': 26.086956521739125}\n",
      "{'nome': 'Ed Porto Bezerra', 'nome_citacao': 'BEZERRA, ED', 'proximidade': 22.22222222222223}\n",
      "{'nome': 'Ed Porto Bezerra', 'nome_citacao': 'ED PORTO', 'proximidade': 25.0}\n",
      "{'nome': 'Ed Porto Bezerra', 'nome_citacao': 'BEZERRA ED', 'proximidade': 23.07692307692308}\n",
      "{'nome': 'Ed Porto Bezerra', 'nome_citacao': 'PORTO, ED', 'proximidade': 24.0}\n",
      "{'nome': 'Ed Porto Bezerra', 'nome_citacao': 'ED BEZERRA', 'proximidade': 23.07692307692308}\n",
      "{'nome': 'Ed Porto Bezerra', 'nome_citacao': 'ED PORTO BEZERRA', 'proximidade': 31.25}\n",
      "{'nome': 'Ed Porto Bezerra', 'nome_citacao': 'BEZERRA, E. P.', 'proximidade': 33.33333333333333}\n",
      "{'nome': 'Ed Porto Bezerra', 'nome_citacao': 'BEZERRA, ED PORTO', 'proximidade': 30.303030303030297}\n",
      "{'nome': 'Elizabet Maria Spohr de Medeiros', 'nome_citacao': 'MEDEIROS, E. M. S.', 'proximidade': 28.0}\n",
      "{'nome': 'Eudisley Gomes dos Anjos', 'nome_citacao': 'ANJOS, EUDISLEY', 'proximidade': 15.384615384615387}\n",
      "{'nome': 'Eudisley Gomes dos Anjos', 'nome_citacao': 'GOMES DOS ANJOS, EUDISLEY', 'proximidade': 20.40816326530613}\n",
      "{'nome': 'Eudisley Gomes dos Anjos', 'nome_citacao': 'ANJOS, E. G.', 'proximidade': 27.77777777777777}\n",
      "{'nome': 'Eudisley Gomes dos Anjos', 'nome_citacao': 'ANJOS, EUDISLEY GOMES DOS', 'proximidade': 20.40816326530613}\n",
      "{'nome': 'Ewerton Monteiro Salvador', 'nome_citacao': 'SALVADOR, EWERTON MONTEIRO', 'proximidade': 19.607843137254903}\n",
      "{'nome': 'Ewerton Monteiro Salvador', 'nome_citacao': 'SALVADOR, EWERTON M.', 'proximidade': 22.22222222222223}\n",
      "{'nome': 'Felipe Antonio Garcia Moreno', 'nome_citacao': 'MORENO, FELIPE GARCIA', 'proximidade': 20.40816326530613}\n",
      "{'nome': 'Felipe Antonio Garcia Moreno', 'nome_citacao': 'MORENO, FELIPE A. G.', 'proximidade': 29.16666666666667}\n",
      "{'nome': 'Felipe Antonio Garcia Moreno', 'nome_citacao': 'MORENO, F. A. G.', 'proximidade': 31.818181818181813}\n",
      "{'nome': 'Fernando Menezes Matos', 'nome_citacao': 'MATOS, F. M', 'proximidade': 30.303030303030297}\n",
      "{'nome': 'Fernando Menezes Matos', 'nome_citacao': 'MATOS, F.', 'proximidade': 19.354838709677423}\n",
      "{'nome': 'Fernando Menezes Matos', 'nome_citacao': 'MATOS, FERNANDO', 'proximidade': 16.21621621621621}\n",
      "{'nome': 'Fernando Menezes Matos', 'nome_citacao': 'MATOS, FERNANDO MENEZES', 'proximidade': 22.22222222222223}\n",
      "{'nome': 'Francisco de Assis Coutinho Souto', 'nome_citacao': 'SOUTO, FRANCISCO DE ASSIS COUTINHO', 'proximidade': 20.895522388059703}\n",
      "{'nome': 'Gilberto Farias de Sousa Filho', 'nome_citacao': 'SOUSA FILHO, G. F.', 'proximidade': 29.16666666666667}\n",
      "{'nome': 'Gilberto Farias de Sousa Filho', 'nome_citacao': 'FILHO, GILBERTO FARIAS DE SOUSA', 'proximidade': 22.950819672131146}\n",
      "{'nome': 'Gilberto Farias de Sousa Filho', 'nome_citacao': 'DE SOUSA FILHO, GILBERTO F.', 'proximidade': 24.56140350877193}\n",
      "{'nome': 'Gilberto Farias de Sousa Filho', 'nome_citacao': 'SOUSA FILHO, GILBERTO F.', 'proximidade': 25.925925925925924}\n",
      "{'nome': 'Gilberto Farias de Sousa Filho', 'nome_citacao': 'DE SOUSA FILHO, GILBERTO FARIAS', 'proximidade': 22.950819672131146}\n",
      "{'nome': 'Gilberto Farias de Sousa Filho', 'nome_citacao': 'SOUSA FILHO, GILBERTO FARIAS DE', 'proximidade': 22.950819672131146}\n",
      "{'nome': 'Gilberto Farias de Sousa Filho', 'nome_citacao': 'DE SOUSA, GILBERTO F.', 'proximidade': 23.529411764705884}\n",
      "{'nome': 'Giorgia de Oliveira Mattos', 'nome_citacao': 'MATTOS, GIORGIA', 'proximidade': 19.512195121951223}\n",
      "{'nome': 'Giorgia de Oliveira Mattos', 'nome_citacao': 'OLIVEIRA MATTOS, GIORGIA', 'proximidade': 20.0}\n",
      "{'nome': 'Giorgia de Oliveira Mattos', 'nome_citacao': 'O. MATTOS, GIORGIA', 'proximidade': 22.727272727272734}\n",
      "{'nome': 'Giorgia de Oliveira Mattos', 'nome_citacao': 'MATTOS, GIORGIA O.', 'proximidade': 22.727272727272734}\n",
      "{'nome': 'Giorgia de Oliveira Mattos', 'nome_citacao': 'MATTOS, GIORGIA DE OLIVEIRA', 'proximidade': 18.867924528301884}\n",
      "{'nome': 'Glêdson Elias da Silveira', 'nome_citacao': 'ELIAS, GLEDSON', 'proximidade': 20.51282051282051}\n",
      "{'nome': 'Glêdson Elias da Silveira', 'nome_citacao': 'ELIAS, G.', 'proximidade': 17.647058823529406}\n",
      "{'nome': 'Gustavo Charles Peixoto de Oliveira', 'nome_citacao': 'OLIVEIRA, GUSTAVO CHARLES PEIXOTO DE', 'proximidade': 19.718309859154928}\n",
      "{'nome': 'Gustavo Charles Peixoto de Oliveira', 'nome_citacao': 'OLIVEIRA, G. C. P.', 'proximidade': 26.41509433962264}\n",
      "{'nome': 'Gustavo Charles Peixoto de Oliveira', 'nome_citacao': 'PEIXOTO DE OLIVEIRA, GUSTAVO CHARLES', 'proximidade': 19.718309859154928}\n",
      "{'nome': 'Gustavo Charles Peixoto de Oliveira', 'nome_citacao': 'CHARLES PEIXOTO DE OLIVEIRA, GUSTAVO', 'proximidade': 19.718309859154928}\n",
      "{'nome': 'Gustavo Charles Peixoto de Oliveira', 'nome_citacao': 'OLIVEIRA, G.', 'proximidade': 12.765957446808514}\n",
      "{'nome': 'Gustavo Charles Peixoto de Oliveira', 'nome_citacao': 'OLIVEIRA, G. P.', 'proximidade': 20.0}\n",
      "{'nome': 'Gustavo Charles Peixoto de Oliveira', 'nome_citacao': 'OLIVEIRA, GUSTAVO P.', 'proximidade': 18.181818181818187}\n",
      "{'nome': 'Gustavo Charles Peixoto de Oliveira', 'nome_citacao': 'OLIVEIRA, G.P.', 'proximidade': 12.244897959183675}\n",
      "{'nome': 'Gustavo Charles Peixoto de Oliveira', 'nome_citacao': 'OLIVEIRA, GUSTAVO CHARLES', 'proximidade': 16.66666666666667}\n",
      "{'nome': 'Gustavo Charles Peixoto de Oliveira', 'nome_citacao': 'PEIXOTO DE OLIVEIRA, GUSTAVO', 'proximidade': 19.04761904761905}\n",
      "{'nome': 'Gustavo Henrique Matos Bezerra Motta', 'nome_citacao': 'GUSTAVO MOTTA', 'proximidade': 12.244897959183675}\n",
      "{'nome': 'Gustavo Henrique Matos Bezerra Motta', 'nome_citacao': 'MOTTA, GUSTAVO', 'proximidade': 12.0}\n",
      "{'nome': 'Gustavo Henrique Matos Bezerra Motta', 'nome_citacao': 'MOTTA, GUSTAVO H.M.B.', 'proximidade': 21.05263157894737}\n",
      "{'nome': 'Gustavo Henrique Matos Bezerra Motta', 'nome_citacao': 'MOTTA, GUSTAVO H. M. B.', 'proximidade': 30.508474576271183}\n",
      "{'nome': 'Gustavo Henrique Matos Bezerra Motta', 'nome_citacao': 'MOTTA, G. H. M. B.', 'proximidade': 33.33333333333333}\n",
      "{'nome': 'Gustavo Henrique Matos Bezerra Motta', 'nome_citacao': 'MATOS BEZERRA MOTTA, GUSTAVO HENRIQUE', 'proximidade': 24.657534246575338}\n",
      "{'nome': 'Gustavo Henrique Matos Bezerra Motta', 'nome_citacao': 'MOTTA, GUSTAVO HENRIQUE MATOS BEZERRA', 'proximidade': 24.657534246575338}\n",
      "{'nome': 'Hamilton Soares da Silva', 'nome_citacao': 'SILVA, H. S.', 'proximidade': 27.77777777777777}\n",
      "{'nome': 'Henrique Thadeu Baltar de Medeiros Cabral Moraes', 'nome_citacao': 'BALTAR, HTMCM', 'proximidade': 16.393442622950815}\n",
      "{'nome': 'Henrique Thadeu Baltar de Medeiros Cabral Moraes', 'nome_citacao': 'MCM BALTAR, HENRIQUE THADEU', 'proximidade': 21.33333333333333}\n",
      "{'nome': 'Henrique Thadeu Baltar de Medeiros Cabral Moraes', 'nome_citacao': 'C. M. BALTAR, HENRIQUE T. M.', 'proximidade': 24.657534246575338}\n",
      "{'nome': 'Henrique Thadeu Baltar de Medeiros Cabral Moraes', 'nome_citacao': 'BALTAR, H. T. M. C. M.', 'proximidade': 26.86567164179104}\n",
      "{'nome': 'Henrique Thadeu Baltar de Medeiros Cabral Moraes', 'nome_citacao': 'BALTAR, HENRIQUE THADEU M.C.M.', 'proximidade': 20.51282051282051}\n",
      "{'nome': 'Henrique Thadeu Baltar de Medeiros Cabral Moraes', 'nome_citacao': 'BALTAR, HENRIQUE T.M.C.M.', 'proximidade': 16.438356164383563}\n",
      "{'nome': 'Henrique Thadeu Baltar de Medeiros Cabral Moraes', 'nome_citacao': 'BALTAR, HENRIQUE T. M. C. M.', 'proximidade': 24.657534246575338}\n",
      "{'nome': 'Hugo Leonardo Davi de Souza Cavalcante', 'nome_citacao': 'CAVALCANTE, HUGO L. D. DE S.', 'proximidade': 27.272727272727266}\n",
      "{'nome': 'Hugo Leonardo Davi de Souza Cavalcante', 'nome_citacao': 'CAVALCANTE, HUGO L. D. DE SOUZA', 'proximidade': 26.086956521739125}\n",
      "{'nome': 'Hugo Leonardo Davi de Souza Cavalcante', 'nome_citacao': 'DE S.CAVALCANTE, HUGO L. D.', 'proximidade': 24.615384615384613}\n",
      "{'nome': 'Hugo Leonardo Davi de Souza Cavalcante', 'nome_citacao': 'S. CAVALCANTE, H', 'proximidade': 18.51851851851852}\n",
      "{'nome': 'Hugo Leonardo Davi de Souza Cavalcante', 'nome_citacao': 'CAVALCANTE, H. L. D. DE S.', 'proximidade': 28.125}\n",
      "{'nome': 'Hugo Leonardo Davi de Souza Cavalcante', 'nome_citacao': 'CAVALCANTE, H. L. D. D. S.', 'proximidade': 29.508196721311478}\n",
      "{'nome': 'Hugo Leonardo Davi de Souza Cavalcante', 'nome_citacao': 'DE S. CAVALCANTE, HUGO', 'proximidade': 23.33333333333333}\n",
      "{'nome': 'Hugo Leonardo Davi de Souza Cavalcante', 'nome_citacao': 'DE S. CAVALCANTE, HUGO L.D.', 'proximidade': 27.692307692307693}\n",
      "{'nome': 'Hugo Leonardo Davi de Souza Cavalcante', 'nome_citacao': 'DE\\xa0S.\\xa0CAVALCANTE, HUGO', 'proximidade': 10.0}\n",
      "{'nome': 'Hugo Leonardo Davi de Souza Cavalcante', 'nome_citacao': 'DE SOUZA CAVALCANTE, HUGO L. D.', 'proximidade': 26.086956521739125}\n",
      "{'nome': 'Hugo Leonardo Davi de Souza Cavalcante', 'nome_citacao': 'DESCAVALCANTE, H', 'proximidade': 11.111111111111114}\n",
      "{'nome': 'Hugo Leonardo Davi de Souza Cavalcante', 'nome_citacao': 'CAVALCANTE, HUGO', 'proximidade': 11.111111111111114}\n",
      "{'nome': 'Hugo Leonardo Davi de Souza Cavalcante', 'nome_citacao': 'CAVALCANTE, HUGO L.D. DE S.', 'proximidade': 27.692307692307693}\n",
      "{'nome': 'Hugo Leonardo Davi de Souza Cavalcante', 'nome_citacao': 'CAVALCANTE L. D., HUGO', 'proximidade': 23.33333333333333}\n",
      "{'nome': 'Hugo Leonardo Davi de Souza Cavalcante', 'nome_citacao': 'CAVALCANTE, H. L. D. D.', 'proximidade': 24.13793103448276}\n",
      "{'nome': 'Hugo Leonardo Davi de Souza Cavalcante', 'nome_citacao': 'DE&NBSP', 'proximidade': 8.888888888888886}\n",
      "{'nome': 'Hugo Leonardo Davi de Souza Cavalcante', 'nome_citacao': 'CAVALCANTE, HUGO L D DE S', 'proximidade': 28.57142857142857}\n",
      "{'nome': 'Hugo Leonardo Davi de Souza Cavalcante', 'nome_citacao': 'DE S. CAVALCANTE, HUGO L. D.', 'proximidade': 27.272727272727266}\n",
      "{'nome': 'Hugo Leonardo Davi de Souza Cavalcante', 'nome_citacao': 'L. D. CAVALCANTE, HUGO', 'proximidade': 23.33333333333333}\n",
      "{'nome': 'Hugo Leonardo Davi de Souza Cavalcante', 'nome_citacao': 'S.&NBSP', 'proximidade': 4.444444444444443}\n",
      "{'nome': 'Hugo Leonardo Davi de Souza Cavalcante', 'nome_citacao': 'L. D. CAVALVANTE, HUGO', 'proximidade': 23.33333333333333}\n",
      "{'nome': 'Iguatemi Eduardo da Fonseca', 'nome_citacao': 'DA FONSECA, IGUATEMI E.', 'proximidade': 20.0}\n",
      "{'nome': 'Iguatemi Eduardo da Fonseca', 'nome_citacao': 'FONSECA, IGUATEMI EDUARDO', 'proximidade': 19.230769230769226}\n",
      "{'nome': 'Iguatemi Eduardo da Fonseca', 'nome_citacao': 'IGUATEMI E. DA FONSECA', 'proximidade': 20.40816326530613}\n",
      "{'nome': 'Iguatemi Eduardo da Fonseca', 'nome_citacao': 'E. FONSECA, IGUATEMI', 'proximidade': 21.276595744680847}\n",
      "{'nome': 'Iguatemi Eduardo da Fonseca', 'nome_citacao': 'FONSECA, IGUATEMI', 'proximidade': 13.63636363636364}\n",
      "{'nome': 'Iguatemi Eduardo da Fonseca', 'nome_citacao': 'I. E. FONSECA', 'proximidade': 25.0}\n",
      "{'nome': 'Iguatemi Eduardo da Fonseca', 'nome_citacao': 'FONSECA, I.E.', 'proximidade': 15.0}\n",
      "{'nome': 'Iguatemi Eduardo da Fonseca', 'nome_citacao': 'DA FONSECA, IGUATEMI EDUARDO', 'proximidade': 18.181818181818187}\n",
      "{'nome': 'Iguatemi Eduardo da Fonseca', 'nome_citacao': 'IGUATEMI EDUARDO DA FONSECA', 'proximidade': 18.51851851851852}\n",
      "{'nome': 'Iguatemi Eduardo da Fonseca', 'nome_citacao': 'FONSECA, I. E.', 'proximidade': 24.390243902439025}\n",
      "{'nome': 'Iguatemi Eduardo da Fonseca', 'nome_citacao': 'FONSECA, IGUATEMI E.', 'proximidade': 21.276595744680847}\n",
      "{'nome': 'Jairo Rocha de Faria', 'nome_citacao': 'ROCHA DE FARIA, J.', 'proximidade': 26.315789473684205}\n",
      "{'nome': 'Jairo Rocha de Faria', 'nome_citacao': 'DEFARIA, J', 'proximidade': 20.0}\n",
      "{'nome': 'Jairo Rocha de Faria', 'nome_citacao': 'FARIA, JAIRO R. DE', 'proximidade': 26.315789473684205}\n",
      "{'nome': 'Jairo Rocha de Faria', 'nome_citacao': 'DE FARIA, J. ROCHA', 'proximidade': 26.315789473684205}\n",
      "{'nome': 'Jairo Rocha de Faria', 'nome_citacao': 'FARIA, JAIRO ROCHA DE', 'proximidade': 24.390243902439025}\n",
      "{'nome': 'Jairo Rocha de Faria', 'nome_citacao': 'FARIA, J. ROCHA DE', 'proximidade': 26.315789473684205}\n",
      "{'nome': 'Jairo Rocha de Faria', 'nome_citacao': 'DE FARIA, J. R.', 'proximidade': 28.57142857142857}\n",
      "{'nome': 'Jairo Rocha de Faria', 'nome_citacao': 'ROCHA DE FARIA, JAIRO', 'proximidade': 24.390243902439025}\n",
      "{'nome': 'Jairo Rocha de Faria', 'nome_citacao': 'DE FARIA, JAIRO ROCHA', 'proximidade': 24.390243902439025}\n",
      "{'nome': 'Josilene Aires Moreira', 'nome_citacao': 'JOSILENE MOREIRA', 'proximidade': 15.78947368421052}\n",
      "{'nome': 'Josilene Aires Moreira', 'nome_citacao': 'AIRES MOREIRA, JOSILENE', 'proximidade': 22.22222222222223}\n",
      "{'nome': 'Josilene Aires Moreira', 'nome_citacao': 'AIRES, JOSILENE', 'proximidade': 16.21621621621621}\n",
      "{'nome': 'Josilene Aires Moreira', 'nome_citacao': 'MOREIRA, JOSILENE A.', 'proximidade': 23.80952380952381}\n",
      "{'nome': 'Josilene Aires Moreira', 'nome_citacao': 'MOREIRA, JOSILENE', 'proximidade': 15.384615384615387}\n",
      "{'nome': 'Josilene Aires Moreira', 'nome_citacao': 'MOREIRA, JOCILENE', 'proximidade': 15.384615384615387}\n",
      "{'nome': 'Josilene Aires Moreira', 'nome_citacao': 'MOREIRA, JOSILENE AIRES', 'proximidade': 22.22222222222223}\n",
      "{'nome': 'José Antônio Gomes de Lima', 'nome_citacao': 'LIMA, J. A. G.', 'proximidade': 35.0}\n",
      "{'nome': 'José Antônio Gomes de Lima', 'nome_citacao': 'LIMA, JOSE ANTONIO GOMES DE', 'proximidade': 26.41509433962264}\n",
      "{'nome': 'José Miguel Aroztegui Massera', 'nome_citacao': 'AROZTEGUI, JOSÉ MIGUEL', 'proximidade': 19.607843137254903}\n",
      "{'nome': 'José Miguel Aroztegui Massera', 'nome_citacao': 'AROZTEGUI, MIGUEL', 'proximidade': 13.043478260869563}\n",
      "{'nome': 'José Miguel Aroztegui Massera', 'nome_citacao': 'AROZTEGUI, M.', 'proximidade': 14.285714285714292}\n",
      "{'nome': 'Kely Diana Villacorta Villacorta', 'nome_citacao': 'VILLACORTA, KELY DIANA', 'proximidade': 23.25581395348837}\n",
      "{'nome': 'Kely Diana Villacorta Villacorta', 'nome_citacao': 'VILLACORTA, KELY D. V.', 'proximidade': 23.25581395348837}\n",
      "{'nome': 'Kely Diana Villacorta Villacorta', 'nome_citacao': 'VILLACORTA, KELY D.V.', 'proximidade': 23.80952380952381}\n",
      "{'nome': 'Kely Diana Villacorta Villacorta', 'nome_citacao': 'VILLACORTA, K. D. V.', 'proximidade': 24.390243902439025}\n",
      "{'nome': 'Leandro Carlos de Souza', 'nome_citacao': 'CARLOS DE SOUZA, LEANDRO', 'proximidade': 21.276595744680847}\n",
      "{'nome': 'Leandro Carlos de Souza', 'nome_citacao': 'SOUZA, LEANDRO', 'proximidade': 16.21621621621621}\n",
      "{'nome': 'Leandro Carlos de Souza', 'nome_citacao': 'DE SOUZA, LEANDRO CARLOS', 'proximidade': 21.276595744680847}\n",
      "{'nome': 'Leandro Carlos de Souza', 'nome_citacao': 'DE SOUZA, LEANDRO C.', 'proximidade': 23.25581395348837}\n",
      "{'nome': 'Leandro Carlos de Souza', 'nome_citacao': 'SOUZA, LEANDRO CARLOS', 'proximidade': 22.727272727272734}\n",
      "{'nome': 'Leandro Carlos de Souza', 'nome_citacao': 'SOUZA, LEANDRO C.', 'proximidade': 25.0}\n",
      "{'nome': 'Leandro Carlos de Souza', 'nome_citacao': 'SOUZA, LEANDRO CARLOS DE', 'proximidade': 21.276595744680847}\n",
      "{'nome': 'Leandro Carlos de Souza', 'nome_citacao': 'SOUZA, L.C.', 'proximidade': 17.647058823529406}\n",
      "{'nome': 'Leonardo Vidal Batista', 'nome_citacao': 'VIDAL BATISTA, LEONARDO', 'proximidade': 22.22222222222223}\n",
      "{'nome': 'Leonardo Vidal Batista', 'nome_citacao': 'BATISTA, LEONARDO V.', 'proximidade': 23.80952380952381}\n",
      "{'nome': 'Leonardo Vidal Batista', 'nome_citacao': 'BATISTA, LEONARDO', 'proximidade': 15.384615384615387}\n",
      "{'nome': 'Leonardo Vidal Batista', 'nome_citacao': 'BATISTA, L. V.', 'proximidade': 27.77777777777777}\n",
      "{'nome': 'Leonardo Vidal Batista', 'nome_citacao': 'BATISTA, LEONARDO VIDAL', 'proximidade': 22.22222222222223}\n",
      "{'nome': 'Liliane dos Santos Machado', 'nome_citacao': 'MACHADO, LILIANE S', 'proximidade': 22.727272727272734}\n",
      "{'nome': 'Liliane dos Santos Machado', 'nome_citacao': 'DOS SANTOS MACHADO, LILIANE', 'proximidade': 18.867924528301884}\n",
      "{'nome': 'Liliane dos Santos Machado', 'nome_citacao': 'MACHADO, LILIANE SANTOS', 'proximidade': 20.40816326530613}\n",
      "{'nome': 'Liliane dos Santos Machado', 'nome_citacao': 'MACHADO, LILIANE DOS S.', 'proximidade': 20.40816326530613}\n",
      "{'nome': 'Liliane dos Santos Machado', 'nome_citacao': 'MACHADO, LILIANEDOS SANTOS', 'proximidade': 19.230769230769226}\n",
      "{'nome': 'Liliane dos Santos Machado', 'nome_citacao': 'MACHADO, LILIANE DOS SANTOS', 'proximidade': 18.867924528301884}\n",
      "{'nome': 'Liliane dos Santos Machado', 'nome_citacao': 'LILIANE DOS S. MACHADO', 'proximidade': 20.83333333333333}\n",
      "{'nome': 'Liliane dos Santos Machado', 'nome_citacao': 'MACHADO, LILIANE', 'proximidade': 14.285714285714292}\n",
      "{'nome': 'Liliane dos Santos Machado', 'nome_citacao': 'LILIANE DOS SANTOS MACHADO', 'proximidade': 19.230769230769226}\n",
      "{'nome': 'Liliane dos Santos Machado', 'nome_citacao': 'MACHADO, LILIANE S.', 'proximidade': 22.22222222222223}\n",
      "{'nome': 'Liliane dos Santos Machado', 'nome_citacao': 'S. MACHADO, LILIANE', 'proximidade': 22.22222222222223}\n",
      "{'nome': 'Liliane dos Santos Machado', 'nome_citacao': 'LILIANE S. MACHADO', 'proximidade': 22.727272727272734}\n",
      "{'nome': 'Liliane dos Santos Machado', 'nome_citacao': 'DOS S. MACHADO, LILIANE', 'proximidade': 20.40816326530613}\n",
      "{'nome': 'Lincoln David Nery e Silva', 'nome_citacao': 'DAVID NERY E SILVA, LINCOLN', 'proximidade': 26.41509433962264}\n",
      "{'nome': 'Lincoln David Nery e Silva', 'nome_citacao': 'SILVA, L. D. N. E.', 'proximidade': 31.818181818181813}\n",
      "{'nome': 'Lincoln David Nery e Silva', 'nome_citacao': 'DAVID, L.', 'proximidade': 17.14285714285714}\n",
      "{'nome': 'Lincoln David Nery e Silva', 'nome_citacao': 'DAVID, LINCOLN', 'proximidade': 20.0}\n",
      "{'nome': 'Lincoln David Nery e Silva', 'nome_citacao': 'SILVA, L. D. N.', 'proximidade': 34.14634146341463}\n",
      "{'nome': 'Lincoln David Nery e Silva', 'nome_citacao': 'SILVA, L. D.', 'proximidade': 26.315789473684205}\n",
      "{'nome': 'Lincoln David Nery e Silva', 'nome_citacao': 'L. DAVID', 'proximidade': 17.647058823529406}\n",
      "{'nome': 'Lincoln David Nery e Silva', 'nome_citacao': 'NERY E SILVA, LINCOLN DAVID', 'proximidade': 26.41509433962264}\n",
      "{'nome': 'Luciano Sales Barros', 'nome_citacao': 'BARROS, L.S.', 'proximidade': 25.0}\n",
      "{'nome': 'Luciano Sales Barros', 'nome_citacao': 'S. BARROS, LUCIANO', 'proximidade': 26.315789473684205}\n",
      "{'nome': 'Luciano Sales Barros', 'nome_citacao': 'LUCIANO S. BARROS', 'proximidade': 27.02702702702703}\n",
      "{'nome': 'Luciano Sales Barros', 'nome_citacao': 'LUCIANO SALES BARROS', 'proximidade': 25.0}\n",
      "{'nome': 'Luciano Sales Barros', 'nome_citacao': 'BARROS, LUCIANO S.', 'proximidade': 26.315789473684205}\n",
      "{'nome': 'Luciano Sales Barros', 'nome_citacao': 'SALES BARROS, LUCIANO', 'proximidade': 24.390243902439025}\n",
      "{'nome': 'Luciano Sales Barros', 'nome_citacao': 'L. S. BARROS', 'proximidade': 31.25}\n",
      "{'nome': 'Luciano Sales Barros', 'nome_citacao': 'BARROS, LUCIANO SALES', 'proximidade': 24.390243902439025}\n",
      "{'nome': 'Luciano Sales Barros', 'nome_citacao': 'BARROS, LUCIANO', 'proximidade': 17.14285714285714}\n",
      "{'nome': 'Luciano Sales Barros', 'nome_citacao': 'BARROS, L. S.', 'proximidade': 30.303030303030297}\n",
      "{'nome': 'Lucidio dos Anjos Formiga Cabral', 'nome_citacao': 'DOS ANJOS FORMIGA CABRAL, LUCÍDIO', 'proximidade': 21.538461538461533}\n",
      "{'nome': 'Lucidio dos Anjos Formiga Cabral', 'nome_citacao': 'CABRAL, LUCIDIO A.F.', 'proximidade': 19.230769230769226}\n",
      "{'nome': 'Lucidio dos Anjos Formiga Cabral', 'nome_citacao': 'CABRAL, LUCIDIO DOS A. F.', 'proximidade': 24.56140350877193}\n",
      "{'nome': 'Lucidio dos Anjos Formiga Cabral', 'nome_citacao': 'CABRAL, LUCÍDIO DOS ANJOS F.', 'proximidade': 23.33333333333333}\n",
      "{'nome': 'Lucidio dos Anjos Formiga Cabral', 'nome_citacao': 'DOS ANJOS FORMIGA CABRAL, LUCIDIO', 'proximidade': 21.538461538461533}\n",
      "{'nome': 'Lucidio dos Anjos Formiga Cabral', 'nome_citacao': 'DOS ANJOS F. CABRAL, LUCIDIO', 'proximidade': 23.33333333333333}\n",
      "{'nome': 'Lucidio dos Anjos Formiga Cabral', 'nome_citacao': 'CABRAL, LUCIDIO A', 'proximidade': 20.40816326530613}\n",
      "{'nome': 'Lucidio dos Anjos Formiga Cabral', 'nome_citacao': 'CABRAL, LUCIDIO A.', 'proximidade': 20.0}\n",
      "{'nome': 'Lucidio dos Anjos Formiga Cabral', 'nome_citacao': 'CABRAL, LUCÍDIO A. F.', 'proximidade': 26.41509433962264}\n",
      "{'nome': 'Lucidio dos Anjos Formiga Cabral', 'nome_citacao': 'LUCIDIO DOS A. F. CABRAL', 'proximidade': 25.0}\n",
      "{'nome': 'Lucidio dos Anjos Formiga Cabral', 'nome_citacao': 'CABRAL, LUCIDIO ANJOS FORMIGA', 'proximidade': 22.950819672131146}\n",
      "{'nome': 'Lucidio dos Anjos Formiga Cabral', 'nome_citacao': 'CABRAL, LUCÍDIO ANJOS FORMIGA', 'proximidade': 22.950819672131146}\n",
      "{'nome': 'Lucidio dos Anjos Formiga Cabral', 'nome_citacao': 'CABRAL, LUCÍDIO DOS ANJOS FORMIGA', 'proximidade': 21.538461538461533}\n",
      "{'nome': 'Lucidio dos Anjos Formiga Cabral', 'nome_citacao': 'DOS ANJOS F. CABRAL, LUCÍDIO', 'proximidade': 23.33333333333333}\n",
      "{'nome': 'Lucidio dos Anjos Formiga Cabral', 'nome_citacao': 'CABRAL, LUCÍDIO DOS A. F.', 'proximidade': 24.56140350877193}\n",
      "{'nome': 'Lucidio dos Anjos Formiga Cabral', 'nome_citacao': 'CABRAL, LUCIDIO A. F.', 'proximidade': 26.41509433962264}\n",
      "{'nome': 'Lucidio dos Anjos Formiga Cabral', 'nome_citacao': 'CABRAL, L. A. F.', 'proximidade': 29.16666666666667}\n",
      "{'nome': 'Marcelo Iury de Sousa Oliveira', 'nome_citacao': 'OLIVEIRA, MARCELO IURY S.', 'proximidade': 25.454545454545453}\n",
      "{'nome': 'Marcelo Iury de Sousa Oliveira', 'nome_citacao': 'OLIVEIRA, MARCELO IURY DE SOUSA', 'proximidade': 22.950819672131146}\n",
      "{'nome': 'Mardson Freitas de Amorim', 'nome_citacao': 'AMORIM, M F', 'proximidade': 27.77777777777777}\n",
      "{'nome': 'Mardson Freitas de Amorim', 'nome_citacao': 'AMORIM, M. F.', 'proximidade': 26.315789473684205}\n",
      "{'nome': 'Mardson Freitas de Amorim', 'nome_citacao': 'DE AMORIM, MARDSON FREITAS', 'proximidade': 19.607843137254903}\n",
      "{'nome': 'Mardson Freitas de Amorim', 'nome_citacao': 'AMORIM, MARDSON DE FREITAS', 'proximidade': 19.607843137254903}\n",
      "{'nome': 'Moises Dantas dos Santos', 'nome_citacao': 'SANTOS, MOISÉS DANTAS DOS', 'proximidade': 20.40816326530613}\n",
      "{'nome': 'Moises Dantas dos Santos', 'nome_citacao': 'DOS SANTOS, MOISÉS DANTAS', 'proximidade': 20.40816326530613}\n",
      "{'nome': 'Moises Dantas dos Santos', 'nome_citacao': 'SANTOS, M. D', 'proximidade': 27.77777777777777}\n",
      "{'nome': 'Moises Dantas dos Santos', 'nome_citacao': 'SANTOS, M. D.', 'proximidade': 27.02702702702703}\n",
      "{'nome': 'Moises Dantas dos Santos', 'nome_citacao': 'SANTOS, M.D.', 'proximidade': 16.66666666666667}\n",
      "{'nome': 'Moises Dantas dos Santos', 'nome_citacao': 'MOISES DANTAS DOS SANTOS', 'proximidade': 20.83333333333333}\n",
      "{'nome': 'Moises Dantas dos Santos', 'nome_citacao': 'SANTOS, MOISÉS D.', 'proximidade': 24.390243902439025}\n",
      "{'nome': 'Natasha Correia Queiroz Lino', 'nome_citacao': 'LINO, N. C. Q.', 'proximidade': 33.33333333333333}\n",
      "{'nome': 'Natasha Correia Queiroz Lino', 'nome_citacao': 'LINO, NATASHA', 'proximidade': 14.63414634146342}\n",
      "{'nome': 'Natasha Correia Queiroz Lino', 'nome_citacao': 'LINO, NATASHA C. Q.', 'proximidade': 29.787234042553195}\n",
      "{'nome': 'Natasha Correia Queiroz Lino', 'nome_citacao': 'LINO, NATASHA C.Q.', 'proximidade': 21.73913043478261}\n",
      "{'nome': 'Natasha Correia Queiroz Lino', 'nome_citacao': 'LINO, NATASHA C Q', 'proximidade': 31.111111111111114}\n",
      "{'nome': 'Natasha Correia Queiroz Lino', 'nome_citacao': 'LINO, NATASHA CORREIA QUEIROZ', 'proximidade': 24.56140350877193}\n",
      "{'nome': 'Raoni Kulesza', 'nome_citacao': 'ABÁSOLO, M. J., KULESZA, R.', 'proximidade': 15.0}\n",
      "{'nome': 'Raoni Kulesza', 'nome_citacao': 'MARÍA JOSÉ ABÁSOLO, RAONI KULESZA', 'proximidade': 13.043478260869563}\n",
      "{'nome': 'Raoni Kulesza', 'nome_citacao': 'KULESZA, RAONI', 'proximidade': 22.22222222222223}\n",
      "{'nome': 'Raoni Kulesza', 'nome_citacao': 'MARÍA JOSÉ ABÁSOLO', 'proximidade': 12.903225806451616}\n",
      "{'nome': 'Raoni Kulesza', 'nome_citacao': 'ABÁSOLO, MARÍA JOSÉ, KULESZA, RAONI', 'proximidade': 12.5}\n",
      "{'nome': 'Raoni Kulesza', 'nome_citacao': 'KULESZA, R.', 'proximidade': 25.0}\n",
      "{'nome': 'Raoni Kulesza', 'nome_citacao': 'ABÁSOLO, M. J.', 'proximidade': 7.407407407407405}\n",
      "{'nome': 'Roberto Quirino do Nascimento', 'nome_citacao': 'QUIRINO DO NASCIMENTO, ROBERTO', 'proximidade': 16.949152542372886}\n",
      "{'nome': 'Roberto Quirino do Nascimento', 'nome_citacao': 'NASCIMENTO, ROBERTO QUIRINO', 'proximidade': 17.85714285714286}\n",
      "{'nome': 'Roberto Quirino do Nascimento', 'nome_citacao': 'NASCIMENTO, R. Q.', 'proximidade': 21.73913043478261}\n",
      "{'nome': 'Roberto Quirino do Nascimento', 'nome_citacao': 'DO NASCIMENTO, ROBERTO QUIRINO', 'proximidade': 16.949152542372886}\n",
      "{'nome': 'Roberto Quirino do Nascimento', 'nome_citacao': 'NASCIMENTO, ROBERTO QUIRINO DO', 'proximidade': 16.949152542372886}\n",
      "{'nome': 'Ruy Alberto Pisani Altafim', 'nome_citacao': 'ALTAFIM, R. A. P', 'proximidade': 33.33333333333333}\n",
      "{'nome': 'Ruy Alberto Pisani Altafim', 'nome_citacao': 'ALTAFIM, R.A.P.', 'proximidade': 19.512195121951223}\n",
      "{'nome': 'Ruy Alberto Pisani Altafim', 'nome_citacao': 'ALTAFIM, RUY ALBERTO PISANI', 'proximidade': 26.41509433962264}\n",
      "{'nome': 'Ruy Alberto Pisani Altafim', 'nome_citacao': 'ALTAFIM, R. A. P.', 'proximidade': 32.55813953488372}\n",
      "{'nome': 'Ruy Alberto Pisani Altafim', 'nome_citacao': 'ALTAFIM, R A P', 'proximidade': 35.0}\n",
      "{'nome': 'Ruy Alberto Pisani Altafim', 'nome_citacao': 'PISANI ALTAFIM, RUY', 'proximidade': 26.66666666666667}\n",
      "{'nome': 'Ruy Alberto Pisani Altafim', 'nome_citacao': 'ALTAFIM, NULL', 'proximidade': 15.384615384615387}\n",
      "{'nome': 'Ruy Alberto Pisani Altafim', 'nome_citacao': 'ALTAFIMA, R. A. P', 'proximidade': 32.55813953488372}\n",
      "{'nome': 'Ruy Alberto Pisani Altafim', 'nome_citacao': 'ALTAFIM, RUY A. P.', 'proximidade': 31.818181818181813}\n",
      "{'nome': 'Ruy Alberto Pisani Altafim', 'nome_citacao': 'PISANI ALTAFIM, RUY ALBERTO', 'proximidade': 26.41509433962264}\n",
      "{'nome': 'Ruy Alberto Pisani Altafim', 'nome_citacao': 'ALTAFIM, RUY ALBERTO', 'proximidade': 21.73913043478261}\n",
      "{'nome': 'Ruy Alberto Pisani Altafim', 'nome_citacao': 'RUY ALBERTO PISANI ALTAFIM', 'proximidade': 26.92307692307692}\n",
      "{'nome': 'Rômulo Calado Pantaleão Camara', 'nome_citacao': 'CAMARA, RÔMULO', 'proximidade': 13.63636363636364}\n",
      "{'nome': 'Rômulo Calado Pantaleão Camara', 'nome_citacao': 'CAMARA, ROMULO', 'proximidade': 13.63636363636364}\n",
      "{'nome': 'Rômulo Calado Pantaleão Camara', 'nome_citacao': 'CAMARA, R. C. P.', 'proximidade': 30.434782608695656}\n",
      "{'nome': 'Sérgio de Carvalho Bezerra', 'nome_citacao': 'SÉRGIO DE CARVALHO BEZERRA', 'proximidade': 19.230769230769226}\n",
      "{'nome': 'Sérgio de Carvalho Bezerra', 'nome_citacao': 'S. DE CARVALHO', 'proximidade': 15.0}\n",
      "{'nome': 'Sérgio de Carvalho Bezerra', 'nome_citacao': 'DE CARVALHO BEZERRA, SÉRGIO', 'proximidade': 18.867924528301884}\n",
      "{'nome': 'Sérgio de Carvalho Bezerra', 'nome_citacao': 'S.C.BEZERRA', 'proximidade': 5.4054054054054035}\n",
      "{'nome': 'Sérgio de Carvalho Bezerra', 'nome_citacao': 'BEZERRA, SÉRGIO', 'proximidade': 14.63414634146342}\n",
      "{'nome': 'Sérgio de Carvalho Bezerra', 'nome_citacao': 'BEZERRA, SÉRGIO C.', 'proximidade': 22.727272727272734}\n",
      "{'nome': 'Sérgio de Carvalho Bezerra', 'nome_citacao': 'BEZERRA,S. DE C', 'proximidade': 19.512195121951223}\n",
      "{'nome': 'Sérgio de Carvalho Bezerra', 'nome_citacao': 'S. CARVALHO', 'proximidade': 16.21621621621621}\n",
      "{'nome': 'Tatiana Araújo Simões', 'nome_citacao': 'SIMOES, T. A.', 'proximidade': 29.411764705882348}\n",
      "{'nome': 'Tatiana Araújo Simões', 'nome_citacao': 'SIMÕES, T.A.', 'proximidade': 18.181818181818187}\n",
      "{'nome': 'Tatiana Araújo Simões', 'nome_citacao': 'SIMÕES, TATIANA A.', 'proximidade': 25.641025641025635}\n",
      "{'nome': 'Teobaldo Leite Bulhões Júnior', 'nome_citacao': 'BULHÕES JÚNIOR, T. L.', 'proximidade': 28.0}\n",
      "{'nome': 'Teobaldo Leite Bulhões Júnior', 'nome_citacao': 'JÚNIOR, TEOBALDO L. BULHÕES', 'proximidade': 25.0}\n",
      "{'nome': 'Teobaldo Leite Bulhões Júnior', 'nome_citacao': 'BULHÕES, TEOBALDO', 'proximidade': 17.391304347826093}\n",
      "{'nome': 'Teobaldo Leite Bulhões Júnior', 'nome_citacao': 'BULHÕES, T.', 'proximidade': 20.0}\n",
      "{'nome': 'Thaís Gaudencio do Rêgo', 'nome_citacao': 'DO RÊGO, T.G.', 'proximidade': 22.22222222222223}\n",
      "{'nome': 'Thaís Gaudencio do Rêgo', 'nome_citacao': 'G. DO RÊGO, THAÍS', 'proximidade': 25.0}\n",
      "{'nome': 'Thaís Gaudencio do Rêgo', 'nome_citacao': 'RÊGO, THAIS G.', 'proximidade': 27.02702702702703}\n",
      "{'nome': 'Thaís Gaudencio do Rêgo', 'nome_citacao': 'REGO, THAIS', 'proximidade': 17.647058823529406}\n",
      "{'nome': 'Thaís Gaudencio do Rêgo', 'nome_citacao': 'DO RÃªGO, THAÃ\\xadS G.', 'proximidade': 23.80952380952381}\n",
      "{'nome': 'Thaís Gaudencio do Rêgo', 'nome_citacao': 'RÊGO, THAIS GAUDÊNCIO', 'proximidade': 22.727272727272734}\n",
      "{'nome': 'Thaís Gaudencio do Rêgo', 'nome_citacao': 'RÊGO, THAÍS GAUDENCIO DO', 'proximidade': 21.276595744680847}\n",
      "{'nome': 'Thaís Gaudencio do Rêgo', 'nome_citacao': 'DO RÃªGO, THAÃ\\xadS G', 'proximidade': 24.390243902439025}\n",
      "{'nome': 'Thaís Gaudencio do Rêgo', 'nome_citacao': 'DO REGO, THAÍS G.', 'proximidade': 25.0}\n",
      "{'nome': 'Thaís Gaudencio do Rêgo', 'nome_citacao': 'GAUDENCIO, THAIS', 'proximidade': 15.384615384615387}\n",
      "{'nome': 'Thaís Gaudencio do Rêgo', 'nome_citacao': 'RÊGO, THAIS GAUDENCIO DO', 'proximidade': 21.276595744680847}\n",
      "{'nome': 'Thaís Gaudencio do Rêgo', 'nome_citacao': 'DO RÊGO, THAÍS G.', 'proximidade': 25.0}\n",
      "{'nome': 'Thaís Gaudencio do Rêgo', 'nome_citacao': 'GAUDÊNCIO, THAÍS', 'proximidade': 15.384615384615387}\n",
      "{'nome': 'Thaís Gaudencio do Rêgo', 'nome_citacao': 'DO REGO, THAIS G', 'proximidade': 25.641025641025635}\n",
      "{'nome': 'Thaís Gaudencio do Rêgo', 'nome_citacao': 'DO REGO, TG', 'proximidade': 23.529411764705884}\n",
      "{'nome': 'Thaís Gaudencio do Rêgo', 'nome_citacao': 'RÊGO, THAÍS GAUDÊNCIO DO', 'proximidade': 21.276595744680847}\n",
      "{'nome': 'Thaís Gaudencio do Rêgo', 'nome_citacao': 'REGO, THAIS G. DO', 'proximidade': 25.0}\n",
      "{'nome': 'Thaís Gaudencio do Rêgo', 'nome_citacao': 'DO REGO, THAIS G.', 'proximidade': 25.0}\n",
      "{'nome': 'Thaís Gaudencio do Rêgo', 'nome_citacao': 'DO RÊGO, THAÍS GAUDENCIO', 'proximidade': 21.276595744680847}\n",
      "{'nome': 'Thaís Gaudencio do Rêgo', 'nome_citacao': 'GAUDENCIO, THAÍS', 'proximidade': 15.384615384615387}\n",
      "{'nome': 'Tiago Maritan Ugulino de Araújo', 'nome_citacao': 'DE ARAÚJO, TIAGO MARITAN UGULINO', 'proximidade': 22.22222222222223}\n",
      "{'nome': 'Tiago Maritan Ugulino de Araújo', 'nome_citacao': 'DE ARAUJO, TIAGO MARITAN U.', 'proximidade': 24.13793103448276}\n",
      "{'nome': 'Tiago Maritan Ugulino de Araújo', 'nome_citacao': 'ARAÚJO, TIAGO M. U. DE', 'proximidade': 26.41509433962264}\n",
      "{'nome': 'Tiago Maritan Ugulino de Araújo', 'nome_citacao': 'MARITAN, TIAGO', 'proximidade': 13.333333333333329}\n",
      "{'nome': 'Tiago Maritan Ugulino de Araújo', 'nome_citacao': 'DE ARAUJO, TIAGO M.U.', 'proximidade': 19.230769230769226}\n",
      "{'nome': 'Tiago Maritan Ugulino de Araújo', 'nome_citacao': 'ARAÚJO, TIAGO MARITAN UGULINO', 'proximidade': 23.33333333333333}\n",
      "{'nome': 'Tiago Maritan Ugulino de Araújo', 'nome_citacao': 'ARAÚJO, TIAGO MARITAN U.', 'proximidade': 25.454545454545453}\n",
      "{'nome': 'Tiago Maritan Ugulino de Araújo', 'nome_citacao': 'ARAUJO, TIAGO MARITAN U.', 'proximidade': 25.454545454545453}\n",
      "{'nome': 'Tiago Maritan Ugulino de Araújo', 'nome_citacao': 'UGULINO DE ARAUJO, TIAGO MARITAN', 'proximidade': 22.22222222222223}\n",
      "{'nome': 'Tiago Maritan Ugulino de Araújo', 'nome_citacao': 'ARAÚJO, T. M. U. DE', 'proximidade': 28.0}\n",
      "{'nome': 'Tiago Maritan Ugulino de Araújo', 'nome_citacao': 'ARAÚJO, TIAGO M.U. DE', 'proximidade': 19.230769230769226}\n",
      "{'nome': 'Tiago Maritan Ugulino de Araújo', 'nome_citacao': 'ARAÚJO, T. M. U.', 'proximidade': 29.787234042553195}\n",
      "{'nome': 'Tiago Maritan Ugulino de Araújo', 'nome_citacao': 'UGULINO DE ARAÚJO, TIAGO MARITAN', 'proximidade': 22.22222222222223}\n",
      "{'nome': 'Tiago Maritan Ugulino de Araújo', 'nome_citacao': 'ARAÚJO, TIAGO', 'proximidade': 13.63636363636364}\n",
      "{'nome': 'Tiago Maritan Ugulino de Araújo', 'nome_citacao': 'DE ARAÚJO, TIAGO MARITAN', 'proximidade': 18.181818181818187}\n",
      "{'nome': 'Tiago Maritan Ugulino de Araújo', 'nome_citacao': 'ARAUJO, TIAGO MARITAN UGULINO', 'proximidade': 23.33333333333333}\n",
      "{'nome': 'Tiago Maritan Ugulino de Araújo', 'nome_citacao': 'ARAÚJO, TIAGO MARITAN U. DE', 'proximidade': 24.13793103448276}\n",
      "{'nome': 'Tiago Maritan Ugulino de Araújo', 'nome_citacao': 'ARAÚJO, TIAGO M.U.', 'proximidade': 20.40816326530613}\n",
      "{'nome': 'Tiago Maritan Ugulino de Araújo', 'nome_citacao': 'ARAÚJO, TIAGO MARITAN UGULINO DE', 'proximidade': 22.22222222222223}\n",
      "{'nome': 'Tiago Maritan Ugulino de Araújo', 'nome_citacao': 'ARAUJO, TIAGO MARITAN UGULINO DE', 'proximidade': 22.22222222222223}\n",
      "{'nome': 'Tiago Pereira do Nascimento', 'nome_citacao': 'NASCIMENTO, TIAGO', 'proximidade': 13.63636363636364}\n",
      "{'nome': 'Tiago Pereira do Nascimento', 'nome_citacao': 'P. NASCIMENTO, TIAGO', 'proximidade': 21.276595744680847}\n",
      "{'nome': 'Tiago Pereira do Nascimento', 'nome_citacao': 'NASCIMENTO, TIAGO P.', 'proximidade': 21.276595744680847}\n",
      "{'nome': 'Tiago Pereira do Nascimento', 'nome_citacao': 'NASCIMENTO, T. P.', 'proximidade': 22.727272727272734}\n",
      "{'nome': 'Tiago Pereira do Nascimento', 'nome_citacao': 'NASCIMENTO, TIAGO PEREIRA', 'proximidade': 19.230769230769226}\n",
      "{'nome': 'Tiago Pereira do Nascimento', 'nome_citacao': 'PEREIRA NASCIMENTO, TIAGO', 'proximidade': 19.230769230769226}\n",
      "{'nome': 'Tiago Pereira do Nascimento', 'nome_citacao': 'DO NASCIMENTO, TIAGO P.', 'proximidade': 20.0}\n",
      "{'nome': 'Tiago Pereira do Nascimento', 'nome_citacao': 'NASCIMENTO, TIAGO P. DO', 'proximidade': 20.0}\n",
      "{'nome': 'Tiago Pereira do Nascimento', 'nome_citacao': 'TIAGO P. NASCIMENTO', 'proximidade': 21.73913043478261}\n",
      "{'nome': 'Tiago Pereira do Nascimento', 'nome_citacao': 'TIAGO PEREIRA DO NASCIMENTO', 'proximidade': 18.51851851851852}\n",
      "{'nome': 'Valdecir Becker', 'nome_citacao': 'BECKER, V.', 'proximidade': 24.0}\n",
      "{'nome': 'Valdecir Becker', 'nome_citacao': 'BECKER, VALDECIR', 'proximidade': 19.354838709677423}\n",
      "{'nome': 'Verônica Maria Lima Silva', 'nome_citacao': 'SILVA, VERÔNICA MARIA LIMA', 'proximidade': 27.450980392156865}\n",
      "{'nome': 'Verônica Maria Lima Silva', 'nome_citacao': 'SILVA, VERONICA M. L.', 'proximidade': 30.434782608695656}\n",
      "{'nome': 'Verônica Maria Lima Silva', 'nome_citacao': 'MARIA LIMA SILVA, VERONICA', 'proximidade': 27.450980392156865}\n",
      "{'nome': 'Verônica Maria Lima Silva', 'nome_citacao': 'SILVA, VERONICA MARIA LIMA', 'proximidade': 27.450980392156865}\n",
      "{'nome': 'Verônica Maria Lima Silva', 'nome_citacao': 'SILVA, V. M. L.', 'proximidade': 35.0}\n",
      "{'nome': 'Verônica Maria Lima Silva', 'nome_citacao': 'SILVA, VERONICA MARIA L.', 'proximidade': 28.57142857142857}\n",
      "{'nome': 'Vitor Meneghetti Ugulino de Araujo', 'nome_citacao': 'ARAÚJO, VITOR MENEGHETTI UGULINO DE', 'proximidade': 20.289855072463766}\n",
      "{'nome': 'Vitor Meneghetti Ugulino de Araujo', 'nome_citacao': 'ARAUJO, V. M. U.', 'proximidade': 28.0}\n",
      "{'nome': 'Yuri de Almeida Malheiros Barbosa', 'nome_citacao': 'MALHEIROS, YURI B.', 'proximidade': 19.607843137254903}\n",
      "{'nome': 'Yuri de Almeida Malheiros Barbosa', 'nome_citacao': 'BARBOSA, YURI DE ALMEIDA MALHEIROS', 'proximidade': 20.895522388059703}\n",
      "{'nome': 'Yuri de Almeida Malheiros Barbosa', 'nome_citacao': 'MALHEIROS, Y', 'proximidade': 13.333333333333329}\n",
      "{'nome': 'Yuri de Almeida Malheiros Barbosa', 'nome_citacao': 'ALMEIDA, YURI A.', 'proximidade': 20.40816326530613}\n",
      "{'nome': 'Yuri de Almeida Malheiros Barbosa', 'nome_citacao': 'MALHEIROS, YURI B', 'proximidade': 20.0}\n",
      "{'nome': 'Yuri de Almeida Malheiros Barbosa', 'nome_citacao': 'BARBOSA, Y. A. M.', 'proximidade': 28.0}\n",
      "{'nome': 'Yuri de Almeida Malheiros Barbosa', 'nome_citacao': 'MALHEIROS, Y.', 'proximidade': 13.043478260869563}\n",
      "{'nome': 'Yuri de Almeida Malheiros Barbosa', 'nome_citacao': 'MALHEIROS, YURI', 'proximidade': 12.5}\n",
      "{'nome': 'Yuska Paola Costa Aguiar', 'nome_citacao': 'AGUIAR, YUSKA', 'proximidade': 16.21621621621621}\n",
      "{'nome': 'Yuska Paola Costa Aguiar', 'nome_citacao': 'COSTA AGUIAR, YUSKA PAOLA', 'proximidade': 28.57142857142857}\n",
      "{'nome': 'Yuska Paola Costa Aguiar', 'nome_citacao': 'AGUIAR, YUSKA PAOLA', 'proximidade': 23.25581395348837}\n",
      "{'nome': 'Yuska Paola Costa Aguiar', 'nome_citacao': 'AGUIAR, YUSKA PAOLA COSTA', 'proximidade': 28.57142857142857}\n",
      "{'nome': 'Yuska Paola Costa Aguiar', 'nome_citacao': 'YUSKA PAOLA COSTA AGUIAR', 'proximidade': 29.16666666666667}\n",
      "{'nome': 'Yuska Paola Costa Aguiar', 'nome_citacao': 'YUSKA PAOLA AGUIAR', 'proximidade': 23.80952380952381}\n",
      "{'nome': 'Yuska Paola Costa Aguiar', 'nome_citacao': 'AGUIAR, Y. P. C.', 'proximidade': 35.0}\n",
      "{'nome': 'Yuska Paola Costa Aguiar', 'nome_citacao': 'COSTA, YUSKA PAOLA', 'proximidade': 23.80952380952381}\n",
      "{'nome': 'Yuska Paola Costa Aguiar', 'nome_citacao': 'YUSKA PAOLA COSTA', 'proximidade': 24.390243902439025}\n",
      "{'nome': 'Yuska Paola Costa Aguiar', 'nome_citacao': 'YUSKA P. C. AGUIAR', 'proximidade': 33.33333333333333}\n",
      "{'nome': 'Yuska Paola Costa Aguiar', 'nome_citacao': 'AGUIAR, YUSKA P. C.', 'proximidade': 32.55813953488372}\n"
     ]
    }
   ],
   "source": [
    "for r in resultados[: len(resultados)]:\n",
    "    print(r)"
   ]
  },
  {
   "cell_type": "code",
   "execution_count": 124,
   "id": "fc220b5e",
   "metadata": {},
   "outputs": [],
   "source": [
    "nome_professor = \"Teobaldo Leite Bulhões Júnior\"\n",
    "dados_prof = [r for r in resultados if r[\"nome\"] == nome_professor]\n",
    "nomes = [nome_professor] + [d[\"nome_citacao\"] for d in dados_prof]\n",
    "\n",
    "vectorizer = TfidfVectorizer()\n",
    "X = vectorizer.fit_transform(nomes)\n",
    "\n",
    "\n",
    "pca = PCA(n_components=2)\n",
    "X_2d = pca.fit_transform(X.toarray())"
   ]
  },
  {
   "cell_type": "code",
   "execution_count": 125,
   "id": "0d2dbb64",
   "metadata": {},
   "outputs": [
    {
     "data": {
      "image/png": "[encoded data removed]",
      "text/plain": [
       "<Figure size 800x600 with 1 Axes>"
      ]
     },
     "metadata": {},
     "output_type": "display_data"
    }
   ],
   "source": [
    "plt.figure(figsize=(8, 6))\n",
    "plt.scatter(X_2d[:, 0], X_2d[:, 1], color=\"skyblue\")\n",
    "for i, nome in enumerate(nomes):\n",
    "    plt.text(X_2d[i, 0], X_2d[i, 1], nome, fontsize=10)\n",
    "plt.title(f\"Localização dos nomes de citação para {nome_professor}\")\n",
    "plt.xlabel(\"PCA 1\")\n",
    "plt.ylabel(\"PCA 2\")\n",
    "plt.tight_layout()\n",
    "plt.show()"
   ]
  },
  {
   "cell_type": "code",
   "execution_count": 126,
   "id": "5680cf94",
   "metadata": {},
   "outputs": [
    {
     "data": {
      "application/vnd.plotly.v1+json": {
       "config": {
        "plotlyServerURL": "https://plot.ly"
       },
       "data": [
        {
         "hovertemplate": "%{text}",
         "legendgroup": "",
         "marker": {
          "color": "#636efa",
          "size": 10,
          "symbol": "circle"
         },
         "mode": "markers+text",
         "name": "",
         "orientation": "v",
         "showlegend": false,
         "text": [
          "Adriana Carla Damasceno",
          "DAMASCENO, ADRIANA C.",
          "ADRIANA DAMASCENO",
          "DAMASCENO, A. C.",
          "DAMASCENO, ADRIANA",
          "Alan Kelon Oliveira de Moraes",
          "MORAES, A.",
          "MORAES, ALAN",
          "MORAES, A. K. O.",
          "Alisson Vasconcelos de Brito",
          "BRITO, ALISSON V.",
          "BRITO, ALISSON V",
          "ALISSON, V.B.",
          "VASCONCELOS BRITO, ALISSON",
          "BRITO, ALISSON",
          "BRITO, ALISSON VASCONCELOS DE",
          "ALISSON VASCONCELOS BRITO",
          "BRITO, ALISSON VASCONCELOS",
          "DE BRITO, ALISSON VASCONCELOS",
          "BRITO, A. V.",
          "Alvaro Francisco de Castro Medeiros",
          "MEDEIROS, A. F. C.",
          "Ana Paula Pintado Wyse",
          "WYSE, ANA PAULA P.",
          "WYSE, A. P.",
          "WYSE, A. P. P.",
          "WYSE, ANA PAULA",
          "WYSE, ANA PAULA PINTADO",
          "Anand Subramanian",
          "SUBRAMANIAN, ANAND",
          "SUBRAMANIAN, A.",
          "Andrei de Araujo Formiga",
          "FORMIGA, A. A.",
          "Andréa Vanessa Rocha",
          "ROCHA, ANDRÉA V.",
          "ROCHA, ANDRÉA VANESSA",
          "Aparecido Jesuino de Souza",
          "DE SOUZA, A. J.",
          "J. DE SOUZA, A.",
          "SOUZA, APARECIDO J. DE",
          "DE SOUZA, APARECIDO J.",
          "A. J. DE SOUZA",
          "DE SOUZA, APARECIDO JESUINO",
          "A. J. DESOUZA",
          "SOUZA, APARECIDO J.",
          "SOUZA, A. J. DE",
          "DE SOUZA, APARECIDO",
          "Augusto de Holanda Barreto Martins Tavares",
          "AUGUSTO DE HOLANDA B. M. TAVARES",
          "TAVARES, AUGUSTO H.B.M.",
          "TAVARES, AUGUSTO H. B. M.",
          "DE HOLANDA BARRETO MARTINS TAVARES, AUGUSTO",
          "TAVARES, AUGUSTO",
          "TAVARES, AUGUSTO DE HOLANDA B. M.",
          "TAVARES, A. H. B. M."
         ],
         "textposition": "top center",
         "type": "scatter",
         "x": {
          "bdata": "gZ6XbcJmrb99jwRXBymwv2yPBFcHKbC/h2XgENLFrL9rjwRXBymwv882oPMC1Lm/CBDH+Yxpqr/4KyF4da+qvwAQx/mMaaq/0BmHZ0/B5D99KqiI6kzoP30qqIjqTOg/5UjLpVfp4D8ZWQX1613pP30qqIjqTOg/0BmHZ0/B5D8ZWQX1613pPxlZBfXrXek/0BmHZ0/B5D/iSMulV+ngP92sHPM8B7e/oiglLZb7o79yCau77y6xv2Z+gD0Dk7G/RR3LpGZlr79FHcukZmWvv2Z+gD0Dk7G/cgmru+8usb8QbzKJfE6mvxBvMol8Tqa/oTavl5Vdpb+rV7LpVzm5v7Ame/+axaS/czdY/vjWpr9vLt1rdTumv3M3WP741qa/lepjmcXI2r/6sZttOn3cv/qxm206fdy/c+LIBXQB379z4sgFdAHfv/qxm206fdy/lepjmcXI2r8OvRJuePqgvzJFyNu92tu/+rGbbTp93L9z4sgFdAHfvyvtnlmgfcu/djcEj24Y0L8YaVZ5esTHvxhpVnl6xMe/K+2eWaB9y78YaVZ5esTHv3Y3BI9uGNC/YBKeyM3Wwr8=",
          "dtype": "f8"
         },
         "xaxis": "x",
         "y": {
          "bdata": "XV5XjGbt0b9A1igzARrUv0zWKDMBGtS/KRATNRB00b9H1igzARrUv/YO03gkjK6/2SSRCxqZyL/8FtWfNIPHv9IkkQsamci/OgGU4jMk1z/aYt3Uk6/IP9pi3dSTr8g/XdmYqj+Buj8envgDve3MP9pi3dSTr8g/OgGU4jMk1z8envgDve3MPx6e+AO97cw/OgGU4jMk1z9W2ZiqP4G6P8ZoSbO5hJy/ew1YF2Uxwb+16GoNt0zWvx5Tg9fw5da/3RNZKlLo07/dE1kqUujTvx5Tg9fw5da/tehqDbdM1r8Pyvj0VerHvw/K+PRV6se/6ypEk8Oyxr/lLkVAUYmIv8H5BHVxDMG/pYmchImwyL83y7C5XObHv6WJnISJsMi/mTgeZHOt4D/22IuSrxjjP/bYi5KvGOM/BQT8CNBe5D8GBPwI0F7kP/bYi5KvGOM/mTgeZHOt4D9MCkDhF+jAvy4iUDPzgeA/9tiLkq8Y4z8GBPwI0F7kP2CL756FSM+/J2Cl5VWPz7/uw82bAmLcv+7DzZsCYty/YYvvnoVIz7/uw82bAmLcvyZgpeVVj8+/nYaMy726178=",
          "dtype": "f8"
         },
         "yaxis": "y"
        }
       ],
       "layout": {
        "legend": {
         "tracegroupgap": 0
        },
        "template": {
         "data": {
          "bar": [
           {
            "error_x": {
             "color": "#2a3f5f"
            },
            "error_y": {
             "color": "#2a3f5f"
            },
            "marker": {
             "line": {
              "color": "#E5ECF6",
              "width": 0.5
             },
             "pattern": {
              "fillmode": "overlay",
              "size": 10,
              "solidity": 0.2
             }
            },
            "type": "bar"
           }
          ],
          "barpolar": [
           {
            "marker": {
             "line": {
              "color": "#E5ECF6",
              "width": 0.5
             },
             "pattern": {
              "fillmode": "overlay",
              "size": 10,
              "solidity": 0.2
             }
            },
            "type": "barpolar"
           }
          ],
          "carpet": [
           {
            "aaxis": {
             "endlinecolor": "#2a3f5f",
             "gridcolor": "white",
             "linecolor": "white",
             "minorgridcolor": "white",
             "startlinecolor": "#2a3f5f"
            },
            "baxis": {
             "endlinecolor": "#2a3f5f",
             "gridcolor": "white",
             "linecolor": "white",
             "minorgridcolor": "white",
             "startlinecolor": "#2a3f5f"
            },
            "type": "carpet"
           }
          ],
          "choropleth": [
           {
            "colorbar": {
             "outlinewidth": 0,
             "ticks": ""
            },
            "type": "choropleth"
           }
          ],
          "contour": [
           {
            "colorbar": {
             "outlinewidth": 0,
             "ticks": ""
            },
            "colorscale": [
             [
              0,
              "#0d0887"
             ],
             [
              0.1111111111111111,
              "#46039f"
             ],
             [
              0.2222222222222222,
              "#7201a8"
             ],
             [
              0.3333333333333333,
              "#9c179e"
             ],
             [
              0.4444444444444444,
              "#bd3786"
             ],
             [
              0.5555555555555556,
              "#d8576b"
             ],
             [
              0.6666666666666666,
              "#ed7953"
             ],
             [
              0.7777777777777778,
              "#fb9f3a"
             ],
             [
              0.8888888888888888,
              "#fdca26"
             ],
             [
              1,
              "#f0f921"
             ]
            ],
            "type": "contour"
           }
          ],
          "contourcarpet": [
           {
            "colorbar": {
             "outlinewidth": 0,
             "ticks": ""
            },
            "type": "contourcarpet"
           }
          ],
          "heatmap": [
           {
            "colorbar": {
             "outlinewidth": 0,
             "ticks": ""
            },
            "colorscale": [
             [
              0,
              "#0d0887"
             ],
             [
              0.1111111111111111,
              "#46039f"
             ],
             [
              0.2222222222222222,
              "#7201a8"
             ],
             [
              0.3333333333333333,
              "#9c179e"
             ],
             [
              0.4444444444444444,
              "#bd3786"
             ],
             [
              0.5555555555555556,
              "#d8576b"
             ],
             [
              0.6666666666666666,
              "#ed7953"
             ],
             [
              0.7777777777777778,
              "#fb9f3a"
             ],
             [
              0.8888888888888888,
              "#fdca26"
             ],
             [
              1,
              "#f0f921"
             ]
            ],
            "type": "heatmap"
           }
          ],
          "histogram": [
           {
            "marker": {
             "pattern": {
              "fillmode": "overlay",
              "size": 10,
              "solidity": 0.2
             }
            },
            "type": "histogram"
           }
          ],
          "histogram2d": [
           {
            "colorbar": {
             "outlinewidth": 0,
             "ticks": ""
            },
            "colorscale": [
             [
              0,
              "#0d0887"
             ],
             [
              0.1111111111111111,
              "#46039f"
             ],
             [
              0.2222222222222222,
              "#7201a8"
             ],
             [
              0.3333333333333333,
              "#9c179e"
             ],
             [
              0.4444444444444444,
              "#bd3786"
             ],
             [
              0.5555555555555556,
              "#d8576b"
             ],
             [
              0.6666666666666666,
              "#ed7953"
             ],
             [
              0.7777777777777778,
              "#fb9f3a"
             ],
             [
              0.8888888888888888,
              "#fdca26"
             ],
             [
              1,
              "#f0f921"
             ]
            ],
            "type": "histogram2d"
           }
          ],
          "histogram2dcontour": [
           {
            "colorbar": {
             "outlinewidth": 0,
             "ticks": ""
            },
            "colorscale": [
             [
              0,
              "#0d0887"
             ],
             [
              0.1111111111111111,
              "#46039f"
             ],
             [
              0.2222222222222222,
              "#7201a8"
             ],
             [
              0.3333333333333333,
              "#9c179e"
             ],
             [
              0.4444444444444444,
              "#bd3786"
             ],
             [
              0.5555555555555556,
              "#d8576b"
             ],
             [
              0.6666666666666666,
              "#ed7953"
             ],
             [
              0.7777777777777778,
              "#fb9f3a"
             ],
             [
              0.8888888888888888,
              "#fdca26"
             ],
             [
              1,
              "#f0f921"
             ]
            ],
            "type": "histogram2dcontour"
           }
          ],
          "mesh3d": [
           {
            "colorbar": {
             "outlinewidth": 0,
             "ticks": ""
            },
            "type": "mesh3d"
           }
          ],
          "parcoords": [
           {
            "line": {
             "colorbar": {
              "outlinewidth": 0,
              "ticks": ""
             }
            },
            "type": "parcoords"
           }
          ],
          "pie": [
           {
            "automargin": true,
            "type": "pie"
           }
          ],
          "scatter": [
           {
            "fillpattern": {
             "fillmode": "overlay",
             "size": 10,
             "solidity": 0.2
            },
            "type": "scatter"
           }
          ],
          "scatter3d": [
           {
            "line": {
             "colorbar": {
              "outlinewidth": 0,
              "ticks": ""
             }
            },
            "marker": {
             "colorbar": {
              "outlinewidth": 0,
              "ticks": ""
             }
            },
            "type": "scatter3d"
           }
          ],
          "scattercarpet": [
           {
            "marker": {
             "colorbar": {
              "outlinewidth": 0,
              "ticks": ""
             }
            },
            "type": "scattercarpet"
           }
          ],
          "scattergeo": [
           {
            "marker": {
             "colorbar": {
              "outlinewidth": 0,
              "ticks": ""
             }
            },
            "type": "scattergeo"
           }
          ],
          "scattergl": [
           {
            "marker": {
             "colorbar": {
              "outlinewidth": 0,
              "ticks": ""
             }
            },
            "type": "scattergl"
           }
          ],
          "scattermap": [
           {
            "marker": {
             "colorbar": {
              "outlinewidth": 0,
              "ticks": ""
             }
            },
            "type": "scattermap"
           }
          ],
          "scattermapbox": [
           {
            "marker": {
             "colorbar": {
              "outlinewidth": 0,
              "ticks": ""
             }
            },
            "type": "scattermapbox"
           }
          ],
          "scatterpolar": [
           {
            "marker": {
             "colorbar": {
              "outlinewidth": 0,
              "ticks": ""
             }
            },
            "type": "scatterpolar"
           }
          ],
          "scatterpolargl": [
           {
            "marker": {
             "colorbar": {
              "outlinewidth": 0,
              "ticks": ""
             }
            },
            "type": "scatterpolargl"
           }
          ],
          "scatterternary": [
           {
            "marker": {
             "colorbar": {
              "outlinewidth": 0,
              "ticks": ""
             }
            },
            "type": "scatterternary"
           }
          ],
          "surface": [
           {
            "colorbar": {
             "outlinewidth": 0,
             "ticks": ""
            },
            "colorscale": [
             [
              0,
              "#0d0887"
             ],
             [
              0.1111111111111111,
              "#46039f"
             ],
             [
              0.2222222222222222,
              "#7201a8"
             ],
             [
              0.3333333333333333,
              "#9c179e"
             ],
             [
              0.4444444444444444,
              "#bd3786"
             ],
             [
              0.5555555555555556,
              "#d8576b"
             ],
             [
              0.6666666666666666,
              "#ed7953"
             ],
             [
              0.7777777777777778,
              "#fb9f3a"
             ],
             [
              0.8888888888888888,
              "#fdca26"
             ],
             [
              1,
              "#f0f921"
             ]
            ],
            "type": "surface"
           }
          ],
          "table": [
           {
            "cells": {
             "fill": {
              "color": "#EBF0F8"
             },
             "line": {
              "color": "white"
             }
            },
            "header": {
             "fill": {
              "color": "#C8D4E3"
             },
             "line": {
              "color": "white"
             }
            },
            "type": "table"
           }
          ]
         },
         "layout": {
          "annotationdefaults": {
           "arrowcolor": "#2a3f5f",
           "arrowhead": 0,
           "arrowwidth": 1
          },
          "autotypenumbers": "strict",
          "coloraxis": {
           "colorbar": {
            "outlinewidth": 0,
            "ticks": ""
           }
          },
          "colorscale": {
           "diverging": [
            [
             0,
             "#8e0152"
            ],
            [
             0.1,
             "#c51b7d"
            ],
            [
             0.2,
             "#de77ae"
            ],
            [
             0.3,
             "#f1b6da"
            ],
            [
             0.4,
             "#fde0ef"
            ],
            [
             0.5,
             "#f7f7f7"
            ],
            [
             0.6,
             "#e6f5d0"
            ],
            [
             0.7,
             "#b8e186"
            ],
            [
             0.8,
             "#7fbc41"
            ],
            [
             0.9,
             "#4d9221"
            ],
            [
             1,
             "#276419"
            ]
           ],
           "sequential": [
            [
             0,
             "#0d0887"
            ],
            [
             0.1111111111111111,
             "#46039f"
            ],
            [
             0.2222222222222222,
             "#7201a8"
            ],
            [
             0.3333333333333333,
             "#9c179e"
            ],
            [
             0.4444444444444444,
             "#bd3786"
            ],
            [
             0.5555555555555556,
             "#d8576b"
            ],
            [
             0.6666666666666666,
             "#ed7953"
            ],
            [
             0.7777777777777778,
             "#fb9f3a"
            ],
            [
             0.8888888888888888,
             "#fdca26"
            ],
            [
             1,
             "#f0f921"
            ]
           ],
           "sequentialminus": [
            [
             0,
             "#0d0887"
            ],
            [
             0.1111111111111111,
             "#46039f"
            ],
            [
             0.2222222222222222,
             "#7201a8"
            ],
            [
             0.3333333333333333,
             "#9c179e"
            ],
            [
             0.4444444444444444,
             "#bd3786"
            ],
            [
             0.5555555555555556,
             "#d8576b"
            ],
            [
             0.6666666666666666,
             "#ed7953"
            ],
            [
             0.7777777777777778,
             "#fb9f3a"
            ],
            [
             0.8888888888888888,
             "#fdca26"
            ],
            [
             1,
             "#f0f921"
            ]
           ]
          },
          "colorway": [
           "#636efa",
           "#EF553B",
           "#00cc96",
           "#ab63fa",
           "#FFA15A",
           "#19d3f3",
           "#FF6692",
           "#B6E880",
           "#FF97FF",
           "#FECB52"
          ],
          "font": {
           "color": "#2a3f5f"
          },
          "geo": {
           "bgcolor": "white",
           "lakecolor": "white",
           "landcolor": "#E5ECF6",
           "showlakes": true,
           "showland": true,
           "subunitcolor": "white"
          },
          "hoverlabel": {
           "align": "left"
          },
          "hovermode": "closest",
          "mapbox": {
           "style": "light"
          },
          "paper_bgcolor": "white",
          "plot_bgcolor": "#E5ECF6",
          "polar": {
           "angularaxis": {
            "gridcolor": "white",
            "linecolor": "white",
            "ticks": ""
           },
           "bgcolor": "#E5ECF6",
           "radialaxis": {
            "gridcolor": "white",
            "linecolor": "white",
            "ticks": ""
           }
          },
          "scene": {
           "xaxis": {
            "backgroundcolor": "#E5ECF6",
            "gridcolor": "white",
            "gridwidth": 2,
            "linecolor": "white",
            "showbackground": true,
            "ticks": "",
            "zerolinecolor": "white"
           },
           "yaxis": {
            "backgroundcolor": "#E5ECF6",
            "gridcolor": "white",
            "gridwidth": 2,
            "linecolor": "white",
            "showbackground": true,
            "ticks": "",
            "zerolinecolor": "white"
           },
           "zaxis": {
            "backgroundcolor": "#E5ECF6",
            "gridcolor": "white",
            "gridwidth": 2,
            "linecolor": "white",
            "showbackground": true,
            "ticks": "",
            "zerolinecolor": "white"
           }
          },
          "shapedefaults": {
           "line": {
            "color": "#2a3f5f"
           }
          },
          "ternary": {
           "aaxis": {
            "gridcolor": "white",
            "linecolor": "white",
            "ticks": ""
           },
           "baxis": {
            "gridcolor": "white",
            "linecolor": "white",
            "ticks": ""
           },
           "bgcolor": "#E5ECF6",
           "caxis": {
            "gridcolor": "white",
            "linecolor": "white",
            "ticks": ""
           }
          },
          "title": {
           "x": 0.05
          },
          "xaxis": {
           "automargin": true,
           "gridcolor": "white",
           "linecolor": "white",
           "ticks": "",
           "title": {
            "standoff": 15
           },
           "zerolinecolor": "white",
           "zerolinewidth": 2
          },
          "yaxis": {
           "automargin": true,
           "gridcolor": "white",
           "linecolor": "white",
           "ticks": "",
           "title": {
            "standoff": 15
           },
           "zerolinecolor": "white",
           "zerolinewidth": 2
          }
         }
        },
        "title": {
         "text": "Localização dos nomes de citação - Professores com 'A'"
        },
        "xaxis": {
         "anchor": "y",
         "domain": [
          0,
          1
         ],
         "title": {
          "text": "PCA 1"
         }
        },
        "yaxis": {
         "anchor": "x",
         "domain": [
          0,
          1
         ],
         "title": {
          "text": "PCA 2"
         }
        }
       }
      }
     },
     "metadata": {},
     "output_type": "display_data"
    },
    {
     "name": "stdout",
     "output_type": "stream",
     "text": [
      "\n",
      "Professores e nomes de citação do grupo 'A':\n",
      "- Adriana Carla Damasceno  (PCA: -0.057, -0.280)\n",
      "    • DAMASCENO, ADRIANA C.  (PCA: -0.063, -0.314)\n",
      "    • ADRIANA DAMASCENO  (PCA: -0.063, -0.314)\n",
      "    • DAMASCENO, A. C.  (PCA: -0.056, -0.273)\n",
      "    • DAMASCENO, ADRIANA  (PCA: -0.063, -0.314)\n",
      "- Alan Kelon Oliveira de Moraes  (PCA: -0.101, -0.060)\n",
      "    • MORAES, A.  (PCA: -0.052, -0.192)\n",
      "    • MORAES, ALAN  (PCA: -0.052, -0.184)\n",
      "    • MORAES, A. K. O.  (PCA: -0.052, -0.192)\n",
      "- Alisson Vasconcelos de Brito  (PCA: 0.649, 0.362)\n",
      "    • BRITO, ALISSON V.  (PCA: 0.759, 0.193)\n",
      "    • BRITO, ALISSON V  (PCA: 0.759, 0.193)\n",
      "    • ALISSON, V.B.  (PCA: 0.528, 0.104)\n",
      "    • VASCONCELOS BRITO, ALISSON  (PCA: 0.793, 0.226)\n",
      "    • BRITO, ALISSON  (PCA: 0.759, 0.193)\n",
      "    • BRITO, ALISSON VASCONCELOS DE  (PCA: 0.649, 0.362)\n",
      "    • ALISSON VASCONCELOS BRITO  (PCA: 0.793, 0.226)\n",
      "    • BRITO, ALISSON VASCONCELOS  (PCA: 0.793, 0.226)\n",
      "    • DE BRITO, ALISSON VASCONCELOS  (PCA: 0.649, 0.362)\n",
      "    • BRITO, A. V.  (PCA: 0.528, 0.104)\n",
      "- Alvaro Francisco de Castro Medeiros  (PCA: -0.090, -0.028)\n",
      "    • MEDEIROS, A. F. C.  (PCA: -0.039, -0.134)\n",
      "- Ana Paula Pintado Wyse  (PCA: -0.067, -0.348)\n",
      "    • WYSE, ANA PAULA P.  (PCA: -0.069, -0.358)\n",
      "    • WYSE, A. P.  (PCA: -0.061, -0.311)\n",
      "    • WYSE, A. P. P.  (PCA: -0.061, -0.311)\n",
      "    • WYSE, ANA PAULA  (PCA: -0.069, -0.358)\n",
      "    • WYSE, ANA PAULA PINTADO  (PCA: -0.067, -0.348)\n",
      "- Anand Subramanian  (PCA: -0.044, -0.187)\n",
      "    • SUBRAMANIAN, ANAND  (PCA: -0.044, -0.187)\n",
      "    • SUBRAMANIAN, A.  (PCA: -0.042, -0.177)\n",
      "- Andrei de Araujo Formiga  (PCA: -0.099, -0.012)\n",
      "    • FORMIGA, A. A.  (PCA: -0.041, -0.133)\n",
      "- Andréa Vanessa Rocha  (PCA: -0.045, -0.193)\n",
      "    • ROCHA, ANDRÉA V.  (PCA: -0.043, -0.187)\n",
      "    • ROCHA, ANDRÉA VANESSA  (PCA: -0.045, -0.193)\n",
      "- Aparecido Jesuino de Souza  (PCA: -0.419, 0.521)\n",
      "    • DE SOUZA, A. J.  (PCA: -0.445, 0.597)\n",
      "    • J. DE SOUZA, A.  (PCA: -0.445, 0.597)\n",
      "    • SOUZA, APARECIDO J. DE  (PCA: -0.484, 0.637)\n",
      "    • DE SOUZA, APARECIDO J.  (PCA: -0.484, 0.637)\n",
      "    • A. J. DE SOUZA  (PCA: -0.445, 0.597)\n",
      "    • DE SOUZA, APARECIDO JESUINO  (PCA: -0.419, 0.521)\n",
      "    • A. J. DESOUZA  (PCA: -0.033, -0.132)\n",
      "    • SOUZA, APARECIDO J.  (PCA: -0.435, 0.516)\n",
      "    • SOUZA, A. J. DE  (PCA: -0.445, 0.597)\n",
      "    • DE SOUZA, APARECIDO  (PCA: -0.484, 0.637)\n",
      "- Augusto de Holanda Barreto Martins Tavares  (PCA: -0.215, -0.244)\n",
      "    • AUGUSTO DE HOLANDA B. M. TAVARES  (PCA: -0.251, -0.247)\n",
      "    • TAVARES, AUGUSTO H.B.M.  (PCA: -0.186, -0.443)\n",
      "    • TAVARES, AUGUSTO H. B. M.  (PCA: -0.186, -0.443)\n",
      "    • DE HOLANDA BARRETO MARTINS TAVARES, AUGUSTO  (PCA: -0.215, -0.244)\n",
      "    • TAVARES, AUGUSTO  (PCA: -0.186, -0.443)\n",
      "    • TAVARES, AUGUSTO DE HOLANDA B. M.  (PCA: -0.251, -0.247)\n",
      "    • TAVARES, A. H. B. M.  (PCA: -0.147, -0.371)\n"
     ]
    },
    {
     "data": {
      "application/vnd.plotly.v1+json": {
       "config": {
        "plotlyServerURL": "https://plot.ly"
       },
       "data": [
        {
         "hovertemplate": "%{text}",
         "legendgroup": "",
         "marker": {
          "color": "#636efa",
          "size": 10,
          "symbol": "circle"
         },
         "mode": "markers+text",
         "name": "",
         "orientation": "v",
         "showlegend": false,
         "text": [
          "Bruno Jefferson de Sousa Pessoa",
          "PESSOA, BRUNO J.S.",
          "PESSOA, BRUNO JEFFERSON DE S.",
          "PESSOA, BRUNO JEFFERSON DE SOUSA",
          "PESSOA, B. J. S.",
          "Bruno Petrato Bruck",
          "BRUCK, BRUNO P.",
          "BRUCK, BRUNO",
          "BRUCK, B.P.",
          "BRUCK, BRUNO PETRATO"
         ],
         "textposition": "top center",
         "type": "scatter",
         "x": {
          "bdata": "EoDpFjTQ479dXlJyhn3Zv6QPbjqp6eK/DYDpFjTQ47+0XkK2Kbjhv8SeRFhuQOE/62gQ40VV4T/raBDjRVXhP0OOAuGV1eM/xJ5EWG5A4T8=",
          "dtype": "f8"
         },
         "xaxis": "x",
         "y": {
          "bdata": "J5sjYw0l2r9DI1RhTVjgP0cqNdjewM2/HZsjYw0l2r9je5y1LFflPw+jyYiFLZW/xYX0qn9Ior/BhfSqf0iiv42CI/Urk4+/D6PJiIUtlb8=",
          "dtype": "f8"
         },
         "yaxis": "y"
        }
       ],
       "layout": {
        "legend": {
         "tracegroupgap": 0
        },
        "template": {
         "data": {
          "bar": [
           {
            "error_x": {
             "color": "#2a3f5f"
            },
            "error_y": {
             "color": "#2a3f5f"
            },
            "marker": {
             "line": {
              "color": "#E5ECF6",
              "width": 0.5
             },
             "pattern": {
              "fillmode": "overlay",
              "size": 10,
              "solidity": 0.2
             }
            },
            "type": "bar"
           }
          ],
          "barpolar": [
           {
            "marker": {
             "line": {
              "color": "#E5ECF6",
              "width": 0.5
             },
             "pattern": {
              "fillmode": "overlay",
              "size": 10,
              "solidity": 0.2
             }
            },
            "type": "barpolar"
           }
          ],
          "carpet": [
           {
            "aaxis": {
             "endlinecolor": "#2a3f5f",
             "gridcolor": "white",
             "linecolor": "white",
             "minorgridcolor": "white",
             "startlinecolor": "#2a3f5f"
            },
            "baxis": {
             "endlinecolor": "#2a3f5f",
             "gridcolor": "white",
             "linecolor": "white",
             "minorgridcolor": "white",
             "startlinecolor": "#2a3f5f"
            },
            "type": "carpet"
           }
          ],
          "choropleth": [
           {
            "colorbar": {
             "outlinewidth": 0,
             "ticks": ""
            },
            "type": "choropleth"
           }
          ],
          "contour": [
           {
            "colorbar": {
             "outlinewidth": 0,
             "ticks": ""
            },
            "colorscale": [
             [
              0,
              "#0d0887"
             ],
             [
              0.1111111111111111,
              "#46039f"
             ],
             [
              0.2222222222222222,
              "#7201a8"
             ],
             [
              0.3333333333333333,
              "#9c179e"
             ],
             [
              0.4444444444444444,
              "#bd3786"
             ],
             [
              0.5555555555555556,
              "#d8576b"
             ],
             [
              0.6666666666666666,
              "#ed7953"
             ],
             [
              0.7777777777777778,
              "#fb9f3a"
             ],
             [
              0.8888888888888888,
              "#fdca26"
             ],
             [
              1,
              "#f0f921"
             ]
            ],
            "type": "contour"
           }
          ],
          "contourcarpet": [
           {
            "colorbar": {
             "outlinewidth": 0,
             "ticks": ""
            },
            "type": "contourcarpet"
           }
          ],
          "heatmap": [
           {
            "colorbar": {
             "outlinewidth": 0,
             "ticks": ""
            },
            "colorscale": [
             [
              0,
              "#0d0887"
             ],
             [
              0.1111111111111111,
              "#46039f"
             ],
             [
              0.2222222222222222,
              "#7201a8"
             ],
             [
              0.3333333333333333,
              "#9c179e"
             ],
             [
              0.4444444444444444,
              "#bd3786"
             ],
             [
              0.5555555555555556,
              "#d8576b"
             ],
             [
              0.6666666666666666,
              "#ed7953"
             ],
             [
              0.7777777777777778,
              "#fb9f3a"
             ],
             [
              0.8888888888888888,
              "#fdca26"
             ],
             [
              1,
              "#f0f921"
             ]
            ],
            "type": "heatmap"
           }
          ],
          "histogram": [
           {
            "marker": {
             "pattern": {
              "fillmode": "overlay",
              "size": 10,
              "solidity": 0.2
             }
            },
            "type": "histogram"
           }
          ],
          "histogram2d": [
           {
            "colorbar": {
             "outlinewidth": 0,
             "ticks": ""
            },
            "colorscale": [
             [
              0,
              "#0d0887"
             ],
             [
              0.1111111111111111,
              "#46039f"
             ],
             [
              0.2222222222222222,
              "#7201a8"
             ],
             [
              0.3333333333333333,
              "#9c179e"
             ],
             [
              0.4444444444444444,
              "#bd3786"
             ],
             [
              0.5555555555555556,
              "#d8576b"
             ],
             [
              0.6666666666666666,
              "#ed7953"
             ],
             [
              0.7777777777777778,
              "#fb9f3a"
             ],
             [
              0.8888888888888888,
              "#fdca26"
             ],
             [
              1,
              "#f0f921"
             ]
            ],
            "type": "histogram2d"
           }
          ],
          "histogram2dcontour": [
           {
            "colorbar": {
             "outlinewidth": 0,
             "ticks": ""
            },
            "colorscale": [
             [
              0,
              "#0d0887"
             ],
             [
              0.1111111111111111,
              "#46039f"
             ],
             [
              0.2222222222222222,
              "#7201a8"
             ],
             [
              0.3333333333333333,
              "#9c179e"
             ],
             [
              0.4444444444444444,
              "#bd3786"
             ],
             [
              0.5555555555555556,
              "#d8576b"
             ],
             [
              0.6666666666666666,
              "#ed7953"
             ],
             [
              0.7777777777777778,
              "#fb9f3a"
             ],
             [
              0.8888888888888888,
              "#fdca26"
             ],
             [
              1,
              "#f0f921"
             ]
            ],
            "type": "histogram2dcontour"
           }
          ],
          "mesh3d": [
           {
            "colorbar": {
             "outlinewidth": 0,
             "ticks": ""
            },
            "type": "mesh3d"
           }
          ],
          "parcoords": [
           {
            "line": {
             "colorbar": {
              "outlinewidth": 0,
              "ticks": ""
             }
            },
            "type": "parcoords"
           }
          ],
          "pie": [
           {
            "automargin": true,
            "type": "pie"
           }
          ],
          "scatter": [
           {
            "fillpattern": {
             "fillmode": "overlay",
             "size": 10,
             "solidity": 0.2
            },
            "type": "scatter"
           }
          ],
          "scatter3d": [
           {
            "line": {
             "colorbar": {
              "outlinewidth": 0,
              "ticks": ""
             }
            },
            "marker": {
             "colorbar": {
              "outlinewidth": 0,
              "ticks": ""
             }
            },
            "type": "scatter3d"
           }
          ],
          "scattercarpet": [
           {
            "marker": {
             "colorbar": {
              "outlinewidth": 0,
              "ticks": ""
             }
            },
            "type": "scattercarpet"
           }
          ],
          "scattergeo": [
           {
            "marker": {
             "colorbar": {
              "outlinewidth": 0,
              "ticks": ""
             }
            },
            "type": "scattergeo"
           }
          ],
          "scattergl": [
           {
            "marker": {
             "colorbar": {
              "outlinewidth": 0,
              "ticks": ""
             }
            },
            "type": "scattergl"
           }
          ],
          "scattermap": [
           {
            "marker": {
             "colorbar": {
              "outlinewidth": 0,
              "ticks": ""
             }
            },
            "type": "scattermap"
           }
          ],
          "scattermapbox": [
           {
            "marker": {
             "colorbar": {
              "outlinewidth": 0,
              "ticks": ""
             }
            },
            "type": "scattermapbox"
           }
          ],
          "scatterpolar": [
           {
            "marker": {
             "colorbar": {
              "outlinewidth": 0,
              "ticks": ""
             }
            },
            "type": "scatterpolar"
           }
          ],
          "scatterpolargl": [
           {
            "marker": {
             "colorbar": {
              "outlinewidth": 0,
              "ticks": ""
             }
            },
            "type": "scatterpolargl"
           }
          ],
          "scatterternary": [
           {
            "marker": {
             "colorbar": {
              "outlinewidth": 0,
              "ticks": ""
             }
            },
            "type": "scatterternary"
           }
          ],
          "surface": [
           {
            "colorbar": {
             "outlinewidth": 0,
             "ticks": ""
            },
            "colorscale": [
             [
              0,
              "#0d0887"
             ],
             [
              0.1111111111111111,
              "#46039f"
             ],
             [
              0.2222222222222222,
              "#7201a8"
             ],
             [
              0.3333333333333333,
              "#9c179e"
             ],
             [
              0.4444444444444444,
              "#bd3786"
             ],
             [
              0.5555555555555556,
              "#d8576b"
             ],
             [
              0.6666666666666666,
              "#ed7953"
             ],
             [
              0.7777777777777778,
              "#fb9f3a"
             ],
             [
              0.8888888888888888,
              "#fdca26"
             ],
             [
              1,
              "#f0f921"
             ]
            ],
            "type": "surface"
           }
          ],
          "table": [
           {
            "cells": {
             "fill": {
              "color": "#EBF0F8"
             },
             "line": {
              "color": "white"
             }
            },
            "header": {
             "fill": {
              "color": "#C8D4E3"
             },
             "line": {
              "color": "white"
             }
            },
            "type": "table"
           }
          ]
         },
         "layout": {
          "annotationdefaults": {
           "arrowcolor": "#2a3f5f",
           "arrowhead": 0,
           "arrowwidth": 1
          },
          "autotypenumbers": "strict",
          "coloraxis": {
           "colorbar": {
            "outlinewidth": 0,
            "ticks": ""
           }
          },
          "colorscale": {
           "diverging": [
            [
             0,
             "#8e0152"
            ],
            [
             0.1,
             "#c51b7d"
            ],
            [
             0.2,
             "#de77ae"
            ],
            [
             0.3,
             "#f1b6da"
            ],
            [
             0.4,
             "#fde0ef"
            ],
            [
             0.5,
             "#f7f7f7"
            ],
            [
             0.6,
             "#e6f5d0"
            ],
            [
             0.7,
             "#b8e186"
            ],
            [
             0.8,
             "#7fbc41"
            ],
            [
             0.9,
             "#4d9221"
            ],
            [
             1,
             "#276419"
            ]
           ],
           "sequential": [
            [
             0,
             "#0d0887"
            ],
            [
             0.1111111111111111,
             "#46039f"
            ],
            [
             0.2222222222222222,
             "#7201a8"
            ],
            [
             0.3333333333333333,
             "#9c179e"
            ],
            [
             0.4444444444444444,
             "#bd3786"
            ],
            [
             0.5555555555555556,
             "#d8576b"
            ],
            [
             0.6666666666666666,
             "#ed7953"
            ],
            [
             0.7777777777777778,
             "#fb9f3a"
            ],
            [
             0.8888888888888888,
             "#fdca26"
            ],
            [
             1,
             "#f0f921"
            ]
           ],
           "sequentialminus": [
            [
             0,
             "#0d0887"
            ],
            [
             0.1111111111111111,
             "#46039f"
            ],
            [
             0.2222222222222222,
             "#7201a8"
            ],
            [
             0.3333333333333333,
             "#9c179e"
            ],
            [
             0.4444444444444444,
             "#bd3786"
            ],
            [
             0.5555555555555556,
             "#d8576b"
            ],
            [
             0.6666666666666666,
             "#ed7953"
            ],
            [
             0.7777777777777778,
             "#fb9f3a"
            ],
            [
             0.8888888888888888,
             "#fdca26"
            ],
            [
             1,
             "#f0f921"
            ]
           ]
          },
          "colorway": [
           "#636efa",
           "#EF553B",
           "#00cc96",
           "#ab63fa",
           "#FFA15A",
           "#19d3f3",
           "#FF6692",
           "#B6E880",
           "#FF97FF",
           "#FECB52"
          ],
          "font": {
           "color": "#2a3f5f"
          },
          "geo": {
           "bgcolor": "white",
           "lakecolor": "white",
           "landcolor": "#E5ECF6",
           "showlakes": true,
           "showland": true,
           "subunitcolor": "white"
          },
          "hoverlabel": {
           "align": "left"
          },
          "hovermode": "closest",
          "mapbox": {
           "style": "light"
          },
          "paper_bgcolor": "white",
          "plot_bgcolor": "#E5ECF6",
          "polar": {
           "angularaxis": {
            "gridcolor": "white",
            "linecolor": "white",
            "ticks": ""
           },
           "bgcolor": "#E5ECF6",
           "radialaxis": {
            "gridcolor": "white",
            "linecolor": "white",
            "ticks": ""
           }
          },
          "scene": {
           "xaxis": {
            "backgroundcolor": "#E5ECF6",
            "gridcolor": "white",
            "gridwidth": 2,
            "linecolor": "white",
            "showbackground": true,
            "ticks": "",
            "zerolinecolor": "white"
           },
           "yaxis": {
            "backgroundcolor": "#E5ECF6",
            "gridcolor": "white",
            "gridwidth": 2,
            "linecolor": "white",
            "showbackground": true,
            "ticks": "",
            "zerolinecolor": "white"
           },
           "zaxis": {
            "backgroundcolor": "#E5ECF6",
            "gridcolor": "white",
            "gridwidth": 2,
            "linecolor": "white",
            "showbackground": true,
            "ticks": "",
            "zerolinecolor": "white"
           }
          },
          "shapedefaults": {
           "line": {
            "color": "#2a3f5f"
           }
          },
          "ternary": {
           "aaxis": {
            "gridcolor": "white",
            "linecolor": "white",
            "ticks": ""
           },
           "baxis": {
            "gridcolor": "white",
            "linecolor": "white",
            "ticks": ""
           },
           "bgcolor": "#E5ECF6",
           "caxis": {
            "gridcolor": "white",
            "linecolor": "white",
            "ticks": ""
           }
          },
          "title": {
           "x": 0.05
          },
          "xaxis": {
           "automargin": true,
           "gridcolor": "white",
           "linecolor": "white",
           "ticks": "",
           "title": {
            "standoff": 15
           },
           "zerolinecolor": "white",
           "zerolinewidth": 2
          },
          "yaxis": {
           "automargin": true,
           "gridcolor": "white",
           "linecolor": "white",
           "ticks": "",
           "title": {
            "standoff": 15
           },
           "zerolinecolor": "white",
           "zerolinewidth": 2
          }
         }
        },
        "title": {
         "text": "Localização dos nomes de citação - Professores com 'B'"
        },
        "xaxis": {
         "anchor": "y",
         "domain": [
          0,
          1
         ],
         "title": {
          "text": "PCA 1"
         }
        },
        "yaxis": {
         "anchor": "x",
         "domain": [
          0,
          1
         ],
         "title": {
          "text": "PCA 2"
         }
        }
       }
      }
     },
     "metadata": {},
     "output_type": "display_data"
    },
    {
     "name": "stdout",
     "output_type": "stream",
     "text": [
      "\n",
      "Professores e nomes de citação do grupo 'B':\n",
      "- Bruno Jefferson de Sousa Pessoa  (PCA: -0.619, -0.409)\n",
      "    • PESSOA, BRUNO J.S.  (PCA: -0.398, 0.511)\n",
      "    • PESSOA, BRUNO JEFFERSON DE S.  (PCA: -0.591, -0.232)\n",
      "    • PESSOA, BRUNO JEFFERSON DE SOUSA  (PCA: -0.619, -0.409)\n",
      "    • PESSOA, B. J. S.  (PCA: -0.554, 0.667)\n",
      "- Bruno Petrato Bruck  (PCA: 0.539, -0.021)\n",
      "    • BRUCK, BRUNO P.  (PCA: 0.542, -0.036)\n",
      "    • BRUCK, BRUNO  (PCA: 0.542, -0.036)\n",
      "    • BRUCK, B.P.  (PCA: 0.620, -0.015)\n",
      "    • BRUCK, BRUNO PETRATO  (PCA: 0.539, -0.021)\n"
     ]
    },
    {
     "data": {
      "application/vnd.plotly.v1+json": {
       "config": {
        "plotlyServerURL": "https://plot.ly"
       },
       "data": [
        {
         "hovertemplate": "%{text}",
         "legendgroup": "",
         "marker": {
          "color": "#636efa",
          "size": 10,
          "symbol": "circle"
         },
         "mode": "markers+text",
         "name": "",
         "orientation": "v",
         "showlegend": false,
         "text": [
          "Camila Mara Vital Barros",
          "BARROS, CAMILA",
          "BARROS, CAMILA MARA VITAL",
          "MARA VITAL BARROS, CAMILA",
          "BARROS, C. M. V.",
          "Carlos Alberto Nunes Machado",
          "MACHADO, C. A. N.",
          "MACHADO, CARLOS ALBERTO NUNES",
          "Carlos Eduardo Coelho Freire Batista",
          "BATISTA, CARLOS EDUARDO",
          "BATISTA, CARLOS EDUARDO FREIRE",
          "BATISTA, CARLOS E. C. F.",
          "BATISTA, CARLOS EDUARDO COELHO FREIRE",
          "BATISTA, C. E. C. F.",
          "EDUARDO COELHO FREIRE BATISTA, CARLOS",
          "BATISTA, CARLOS",
          "Christian Azambuja Pagot",
          "PAGOT, C. A.",
          "PAGOT, CHRISTIAN",
          "Clauirton de Albuquerque Siebra",
          "SIEBRA, C.",
          "SIEBRA, CLAUIRTON ALBUQUERQUE",
          "DE ALBUQUERQUE SIEBRA, CLAUIRTON",
          "SIEBRA, CLAUIRTON A.",
          "SIEBRA, CLAUIRTON",
          "SIEBRA, CLAUIRTON DE ALBUQUERQUE",
          "CLAUIRTON SIEBRA",
          "SIEBRA, C. A.",
          "CLAUIRTON DE ALBUQUERQUE SIEBRA",
          "SIEBRA, CLAUIRTON A"
         ],
         "textposition": "top center",
         "type": "scatter",
         "x": {
          "bdata": "G+ea9rHnyb9BZ1EHtBDIvyLnmvax58m/G+ea9rHnyb/zKq/ikJzFv/mAa0Vxy9G/dAY/VlL9wr/5gGtFccvRvxhnfbfj8+K/N1LI8nXn4r+GwCEcHyjjv+6ORLGPGuK/GGd9t+Pz4r8iRDTI6M3cvxhnfbfj8+K/7o5EsY8a4r/5n9lb3JDAv9RO6DpnUcC/lWFH2DXwwL9MFsG7mGzjP+Jwr4Cr7t4/cktdN8zt4z9MFsG7mGzjP8GWyQ89tOQ/wZbJDz205D9MFsG7mGzjP8GWyQ89tOQ/4nCvgKvu3j9MFsG7mGzjP8GWyQ89tOQ/",
          "dtype": "f8"
         },
         "xaxis": "x",
         "y": {
          "bdata": "t53bmeMz6j847uIKfhbnP7id25njM+o/tZ3bmeMz6j/Z1AiPuyLjPxuOsNo9Z6A/4zREZ4gkwz/5jbDaPWegPxXvh9WyK9u/s74hI2NP2r+a/4CqWlDbv40zxDSw19e/Fe+H1bIr27+mcWhoXk/RvxXvh9WyK9u/jTPENLDX17+9VutAuIHMP02mHPIEz8s/RMunq4aCzT8dibWSR1XCv0ZAOXmcqLe/9fgvm3IHw78dibWSR1XCv60jbEypDcS/rSNsTKkNxL8dibWSR1XCv60jbEypDcS/SEA5eZyot78cibWSR1XCv60jbEypDcS/",
          "dtype": "f8"
         },
         "yaxis": "y"
        }
       ],
       "layout": {
        "legend": {
         "tracegroupgap": 0
        },
        "template": {
         "data": {
          "bar": [
           {
            "error_x": {
             "color": "#2a3f5f"
            },
            "error_y": {
             "color": "#2a3f5f"
            },
            "marker": {
             "line": {
              "color": "#E5ECF6",
              "width": 0.5
             },
             "pattern": {
              "fillmode": "overlay",
              "size": 10,
              "solidity": 0.2
             }
            },
            "type": "bar"
           }
          ],
          "barpolar": [
           {
            "marker": {
             "line": {
              "color": "#E5ECF6",
              "width": 0.5
             },
             "pattern": {
              "fillmode": "overlay",
              "size": 10,
              "solidity": 0.2
             }
            },
            "type": "barpolar"
           }
          ],
          "carpet": [
           {
            "aaxis": {
             "endlinecolor": "#2a3f5f",
             "gridcolor": "white",
             "linecolor": "white",
             "minorgridcolor": "white",
             "startlinecolor": "#2a3f5f"
            },
            "baxis": {
             "endlinecolor": "#2a3f5f",
             "gridcolor": "white",
             "linecolor": "white",
             "minorgridcolor": "white",
             "startlinecolor": "#2a3f5f"
            },
            "type": "carpet"
           }
          ],
          "choropleth": [
           {
            "colorbar": {
             "outlinewidth": 0,
             "ticks": ""
            },
            "type": "choropleth"
           }
          ],
          "contour": [
           {
            "colorbar": {
             "outlinewidth": 0,
             "ticks": ""
            },
            "colorscale": [
             [
              0,
              "#0d0887"
             ],
             [
              0.1111111111111111,
              "#46039f"
             ],
             [
              0.2222222222222222,
              "#7201a8"
             ],
             [
              0.3333333333333333,
              "#9c179e"
             ],
             [
              0.4444444444444444,
              "#bd3786"
             ],
             [
              0.5555555555555556,
              "#d8576b"
             ],
             [
              0.6666666666666666,
              "#ed7953"
             ],
             [
              0.7777777777777778,
              "#fb9f3a"
             ],
             [
              0.8888888888888888,
              "#fdca26"
             ],
             [
              1,
              "#f0f921"
             ]
            ],
            "type": "contour"
           }
          ],
          "contourcarpet": [
           {
            "colorbar": {
             "outlinewidth": 0,
             "ticks": ""
            },
            "type": "contourcarpet"
           }
          ],
          "heatmap": [
           {
            "colorbar": {
             "outlinewidth": 0,
             "ticks": ""
            },
            "colorscale": [
             [
              0,
              "#0d0887"
             ],
             [
              0.1111111111111111,
              "#46039f"
             ],
             [
              0.2222222222222222,
              "#7201a8"
             ],
             [
              0.3333333333333333,
              "#9c179e"
             ],
             [
              0.4444444444444444,
              "#bd3786"
             ],
             [
              0.5555555555555556,
              "#d8576b"
             ],
             [
              0.6666666666666666,
              "#ed7953"
             ],
             [
              0.7777777777777778,
              "#fb9f3a"
             ],
             [
              0.8888888888888888,
              "#fdca26"
             ],
             [
              1,
              "#f0f921"
             ]
            ],
            "type": "heatmap"
           }
          ],
          "histogram": [
           {
            "marker": {
             "pattern": {
              "fillmode": "overlay",
              "size": 10,
              "solidity": 0.2
             }
            },
            "type": "histogram"
           }
          ],
          "histogram2d": [
           {
            "colorbar": {
             "outlinewidth": 0,
             "ticks": ""
            },
            "colorscale": [
             [
              0,
              "#0d0887"
             ],
             [
              0.1111111111111111,
              "#46039f"
             ],
             [
              0.2222222222222222,
              "#7201a8"
             ],
             [
              0.3333333333333333,
              "#9c179e"
             ],
             [
              0.4444444444444444,
              "#bd3786"
             ],
             [
              0.5555555555555556,
              "#d8576b"
             ],
             [
              0.6666666666666666,
              "#ed7953"
             ],
             [
              0.7777777777777778,
              "#fb9f3a"
             ],
             [
              0.8888888888888888,
              "#fdca26"
             ],
             [
              1,
              "#f0f921"
             ]
            ],
            "type": "histogram2d"
           }
          ],
          "histogram2dcontour": [
           {
            "colorbar": {
             "outlinewidth": 0,
             "ticks": ""
            },
            "colorscale": [
             [
              0,
              "#0d0887"
             ],
             [
              0.1111111111111111,
              "#46039f"
             ],
             [
              0.2222222222222222,
              "#7201a8"
             ],
             [
              0.3333333333333333,
              "#9c179e"
             ],
             [
              0.4444444444444444,
              "#bd3786"
             ],
             [
              0.5555555555555556,
              "#d8576b"
             ],
             [
              0.6666666666666666,
              "#ed7953"
             ],
             [
              0.7777777777777778,
              "#fb9f3a"
             ],
             [
              0.8888888888888888,
              "#fdca26"
             ],
             [
              1,
              "#f0f921"
             ]
            ],
            "type": "histogram2dcontour"
           }
          ],
          "mesh3d": [
           {
            "colorbar": {
             "outlinewidth": 0,
             "ticks": ""
            },
            "type": "mesh3d"
           }
          ],
          "parcoords": [
           {
            "line": {
             "colorbar": {
              "outlinewidth": 0,
              "ticks": ""
             }
            },
            "type": "parcoords"
           }
          ],
          "pie": [
           {
            "automargin": true,
            "type": "pie"
           }
          ],
          "scatter": [
           {
            "fillpattern": {
             "fillmode": "overlay",
             "size": 10,
             "solidity": 0.2
            },
            "type": "scatter"
           }
          ],
          "scatter3d": [
           {
            "line": {
             "colorbar": {
              "outlinewidth": 0,
              "ticks": ""
             }
            },
            "marker": {
             "colorbar": {
              "outlinewidth": 0,
              "ticks": ""
             }
            },
            "type": "scatter3d"
           }
          ],
          "scattercarpet": [
           {
            "marker": {
             "colorbar": {
              "outlinewidth": 0,
              "ticks": ""
             }
            },
            "type": "scattercarpet"
           }
          ],
          "scattergeo": [
           {
            "marker": {
             "colorbar": {
              "outlinewidth": 0,
              "ticks": ""
             }
            },
            "type": "scattergeo"
           }
          ],
          "scattergl": [
           {
            "marker": {
             "colorbar": {
              "outlinewidth": 0,
              "ticks": ""
             }
            },
            "type": "scattergl"
           }
          ],
          "scattermap": [
           {
            "marker": {
             "colorbar": {
              "outlinewidth": 0,
              "ticks": ""
             }
            },
            "type": "scattermap"
           }
          ],
          "scattermapbox": [
           {
            "marker": {
             "colorbar": {
              "outlinewidth": 0,
              "ticks": ""
             }
            },
            "type": "scattermapbox"
           }
          ],
          "scatterpolar": [
           {
            "marker": {
             "colorbar": {
              "outlinewidth": 0,
              "ticks": ""
             }
            },
            "type": "scatterpolar"
           }
          ],
          "scatterpolargl": [
           {
            "marker": {
             "colorbar": {
              "outlinewidth": 0,
              "ticks": ""
             }
            },
            "type": "scatterpolargl"
           }
          ],
          "scatterternary": [
           {
            "marker": {
             "colorbar": {
              "outlinewidth": 0,
              "ticks": ""
             }
            },
            "type": "scatterternary"
           }
          ],
          "surface": [
           {
            "colorbar": {
             "outlinewidth": 0,
             "ticks": ""
            },
            "colorscale": [
             [
              0,
              "#0d0887"
             ],
             [
              0.1111111111111111,
              "#46039f"
             ],
             [
              0.2222222222222222,
              "#7201a8"
             ],
             [
              0.3333333333333333,
              "#9c179e"
             ],
             [
              0.4444444444444444,
              "#bd3786"
             ],
             [
              0.5555555555555556,
              "#d8576b"
             ],
             [
              0.6666666666666666,
              "#ed7953"
             ],
             [
              0.7777777777777778,
              "#fb9f3a"
             ],
             [
              0.8888888888888888,
              "#fdca26"
             ],
             [
              1,
              "#f0f921"
             ]
            ],
            "type": "surface"
           }
          ],
          "table": [
           {
            "cells": {
             "fill": {
              "color": "#EBF0F8"
             },
             "line": {
              "color": "white"
             }
            },
            "header": {
             "fill": {
              "color": "#C8D4E3"
             },
             "line": {
              "color": "white"
             }
            },
            "type": "table"
           }
          ]
         },
         "layout": {
          "annotationdefaults": {
           "arrowcolor": "#2a3f5f",
           "arrowhead": 0,
           "arrowwidth": 1
          },
          "autotypenumbers": "strict",
          "coloraxis": {
           "colorbar": {
            "outlinewidth": 0,
            "ticks": ""
           }
          },
          "colorscale": {
           "diverging": [
            [
             0,
             "#8e0152"
            ],
            [
             0.1,
             "#c51b7d"
            ],
            [
             0.2,
             "#de77ae"
            ],
            [
             0.3,
             "#f1b6da"
            ],
            [
             0.4,
             "#fde0ef"
            ],
            [
             0.5,
             "#f7f7f7"
            ],
            [
             0.6,
             "#e6f5d0"
            ],
            [
             0.7,
             "#b8e186"
            ],
            [
             0.8,
             "#7fbc41"
            ],
            [
             0.9,
             "#4d9221"
            ],
            [
             1,
             "#276419"
            ]
           ],
           "sequential": [
            [
             0,
             "#0d0887"
            ],
            [
             0.1111111111111111,
             "#46039f"
            ],
            [
             0.2222222222222222,
             "#7201a8"
            ],
            [
             0.3333333333333333,
             "#9c179e"
            ],
            [
             0.4444444444444444,
             "#bd3786"
            ],
            [
             0.5555555555555556,
             "#d8576b"
            ],
            [
             0.6666666666666666,
             "#ed7953"
            ],
            [
             0.7777777777777778,
             "#fb9f3a"
            ],
            [
             0.8888888888888888,
             "#fdca26"
            ],
            [
             1,
             "#f0f921"
            ]
           ],
           "sequentialminus": [
            [
             0,
             "#0d0887"
            ],
            [
             0.1111111111111111,
             "#46039f"
            ],
            [
             0.2222222222222222,
             "#7201a8"
            ],
            [
             0.3333333333333333,
             "#9c179e"
            ],
            [
             0.4444444444444444,
             "#bd3786"
            ],
            [
             0.5555555555555556,
             "#d8576b"
            ],
            [
             0.6666666666666666,
             "#ed7953"
            ],
            [
             0.7777777777777778,
             "#fb9f3a"
            ],
            [
             0.8888888888888888,
             "#fdca26"
            ],
            [
             1,
             "#f0f921"
            ]
           ]
          },
          "colorway": [
           "#636efa",
           "#EF553B",
           "#00cc96",
           "#ab63fa",
           "#FFA15A",
           "#19d3f3",
           "#FF6692",
           "#B6E880",
           "#FF97FF",
           "#FECB52"
          ],
          "font": {
           "color": "#2a3f5f"
          },
          "geo": {
           "bgcolor": "white",
           "lakecolor": "white",
           "landcolor": "#E5ECF6",
           "showlakes": true,
           "showland": true,
           "subunitcolor": "white"
          },
          "hoverlabel": {
           "align": "left"
          },
          "hovermode": "closest",
          "mapbox": {
           "style": "light"
          },
          "paper_bgcolor": "white",
          "plot_bgcolor": "#E5ECF6",
          "polar": {
           "angularaxis": {
            "gridcolor": "white",
            "linecolor": "white",
            "ticks": ""
           },
           "bgcolor": "#E5ECF6",
           "radialaxis": {
            "gridcolor": "white",
            "linecolor": "white",
            "ticks": ""
           }
          },
          "scene": {
           "xaxis": {
            "backgroundcolor": "#E5ECF6",
            "gridcolor": "white",
            "gridwidth": 2,
            "linecolor": "white",
            "showbackground": true,
            "ticks": "",
            "zerolinecolor": "white"
           },
           "yaxis": {
            "backgroundcolor": "#E5ECF6",
            "gridcolor": "white",
            "gridwidth": 2,
            "linecolor": "white",
            "showbackground": true,
            "ticks": "",
            "zerolinecolor": "white"
           },
           "zaxis": {
            "backgroundcolor": "#E5ECF6",
            "gridcolor": "white",
            "gridwidth": 2,
            "linecolor": "white",
            "showbackground": true,
            "ticks": "",
            "zerolinecolor": "white"
           }
          },
          "shapedefaults": {
           "line": {
            "color": "#2a3f5f"
           }
          },
          "ternary": {
           "aaxis": {
            "gridcolor": "white",
            "linecolor": "white",
            "ticks": ""
           },
           "baxis": {
            "gridcolor": "white",
            "linecolor": "white",
            "ticks": ""
           },
           "bgcolor": "#E5ECF6",
           "caxis": {
            "gridcolor": "white",
            "linecolor": "white",
            "ticks": ""
           }
          },
          "title": {
           "x": 0.05
          },
          "xaxis": {
           "automargin": true,
           "gridcolor": "white",
           "linecolor": "white",
           "ticks": "",
           "title": {
            "standoff": 15
           },
           "zerolinecolor": "white",
           "zerolinewidth": 2
          },
          "yaxis": {
           "automargin": true,
           "gridcolor": "white",
           "linecolor": "white",
           "ticks": "",
           "title": {
            "standoff": 15
           },
           "zerolinecolor": "white",
           "zerolinewidth": 2
          }
         }
        },
        "title": {
         "text": "Localização dos nomes de citação - Professores com 'C'"
        },
        "xaxis": {
         "anchor": "y",
         "domain": [
          0,
          1
         ],
         "title": {
          "text": "PCA 1"
         }
        },
        "yaxis": {
         "anchor": "x",
         "domain": [
          0,
          1
         ],
         "title": {
          "text": "PCA 2"
         }
        }
       }
      }
     },
     "metadata": {},
     "output_type": "display_data"
    },
    {
     "name": "stdout",
     "output_type": "stream",
     "text": [
      "\n",
      "Professores e nomes de citação do grupo 'C':\n",
      "- Camila Mara Vital Barros  (PCA: -0.202, 0.819)\n",
      "    • BARROS, CAMILA  (PCA: -0.188, 0.721)\n",
      "    • BARROS, CAMILA MARA VITAL  (PCA: -0.202, 0.819)\n",
      "    • MARA VITAL BARROS, CAMILA  (PCA: -0.202, 0.819)\n",
      "    • BARROS, C. M. V.  (PCA: -0.169, 0.598)\n",
      "- Carlos Alberto Nunes Machado  (PCA: -0.278, 0.032)\n",
      "    • MACHADO, C. A. N.  (PCA: -0.148, 0.150)\n",
      "    • MACHADO, CARLOS ALBERTO NUNES  (PCA: -0.278, 0.032)\n",
      "- Carlos Eduardo Coelho Freire Batista  (PCA: -0.592, -0.425)\n",
      "    • BATISTA, CARLOS EDUARDO  (PCA: -0.591, -0.411)\n",
      "    • BATISTA, CARLOS EDUARDO FREIRE  (PCA: -0.599, -0.427)\n",
      "    • BATISTA, CARLOS E. C. F.  (PCA: -0.566, -0.373)\n",
      "    • BATISTA, CARLOS EDUARDO COELHO FREIRE  (PCA: -0.592, -0.425)\n",
      "    • BATISTA, C. E. C. F.  (PCA: -0.450, -0.270)\n",
      "    • EDUARDO COELHO FREIRE BATISTA, CARLOS  (PCA: -0.592, -0.425)\n",
      "    • BATISTA, CARLOS  (PCA: -0.566, -0.373)\n",
      "- Christian Azambuja Pagot  (PCA: -0.129, 0.223)\n",
      "    • PAGOT, C. A.  (PCA: -0.127, 0.217)\n",
      "    • PAGOT, CHRISTIAN  (PCA: -0.132, 0.231)\n",
      "- Clauirton de Albuquerque Siebra  (PCA: 0.607, -0.143)\n",
      "    • SIEBRA, C.  (PCA: 0.483, -0.092)\n",
      "    • SIEBRA, CLAUIRTON ALBUQUERQUE  (PCA: 0.623, -0.149)\n",
      "    • DE ALBUQUERQUE SIEBRA, CLAUIRTON  (PCA: 0.607, -0.143)\n",
      "    • SIEBRA, CLAUIRTON A.  (PCA: 0.647, -0.157)\n",
      "    • SIEBRA, CLAUIRTON  (PCA: 0.647, -0.157)\n",
      "    • SIEBRA, CLAUIRTON DE ALBUQUERQUE  (PCA: 0.607, -0.143)\n",
      "    • CLAUIRTON SIEBRA  (PCA: 0.647, -0.157)\n",
      "    • SIEBRA, C. A.  (PCA: 0.483, -0.092)\n",
      "    • CLAUIRTON DE ALBUQUERQUE SIEBRA  (PCA: 0.607, -0.143)\n",
      "    • SIEBRA, CLAUIRTON A  (PCA: 0.647, -0.157)\n"
     ]
    },
    {
     "data": {
      "application/vnd.plotly.v1+json": {
       "config": {
        "plotlyServerURL": "https://plot.ly"
       },
       "data": [
        {
         "hovertemplate": "%{text}",
         "legendgroup": "",
         "marker": {
          "color": "#636efa",
          "size": 10,
          "symbol": "circle"
         },
         "mode": "markers+text",
         "name": "",
         "orientation": "v",
         "showlegend": false,
         "text": [
          "Daniela Coelho Batista Guedes Pereira",
          "DANIELA COELHO BATISTA",
          "DANIELA COELHO FREIRE BATISTA",
          "BATISTA, D. C. F",
          "DANIELA C. B. G. PEREIRA",
          "Danielle Rousy Dias Ricarte",
          "RICARTE, DANIELLE R. D.",
          "SILVA, DANIELLE",
          "DANIELLE ROUSY D. RICARTE",
          "SILVA, D. R. D.",
          "RICARTE, D. R. D",
          "RICARTE, DANIELLE ROUSY DIAS",
          "DANIELLE ROUSY DIAS RICARTE",
          "ROUSY DIAS DA SILVA, DANIELLE",
          "ROUSY DIAS RICARTE, DANIELLE",
          "RICARTE, DANIELLE ROUSY D.",
          "RICARTE, D. R. D.",
          "Davi Henrique dos Santos",
          "SANTOS, D.H.",
          "DOS SANTOS, DAVI",
          "DOS SANTOS, DAVI H.",
          "SANTOS, DAVI",
          "DOS SANTOS, DAVI HENRIQUE",
          "SANTOS, DAVID H. DO",
          "SANTOS, DAVI HENRIQUE DOS",
          "SANTOS, DAVI H. DOS",
          "SANTOS, DAVI H.",
          "SANTOS, D. H.",
          "H. SANTOS, DAVI",
          "Derzu Omaia",
          "OMAIA, DERZU"
         ],
         "textposition": "top center",
         "type": "scatter",
         "x": {
          "bdata": "2AXvj4Airb+H2VnAuMCtv8aPtwKtlKy/TF6VBkTXqb/DH/bUqjipv5Zm6MbifOW//ETg8TTH4r9UolCSd7bSv1Gxe1lz/eS/JBdMGxyLur98a7jBhsvdv5Zm6MbifOW/lmboxuJ85b+h64wHuh7av5Zm6MbifOW/UbF7WXP95L98a7jBhsvdv/614T1s1OI/sCt9PO5L3j+QTx32hcDkP5BPHfaFwOQ/Ad2wibPu4z/+teE9bNTiP0SE/qhoysM//rXhPWzU4j+QTx32hcDkPwHdsImz7uM/sCt9PO5L3j8B3bCJs+7jP+3xzdKTHqe/7fHN0pMep78=",
          "dtype": "f8"
         },
         "xaxis": "x",
         "y": {
          "bdata": "Pt30tQOS6D+d7xAX/KnpP/VT4uUU5Oc/FWffs2R14z+VCGqQqE7iP1ci2UBiINW/6+PIrhR9z79A+mBJI6S8P8l0k6DFEtS/0M3+Mr7Y0T8FY8XQXgvFv1ci2UBiINW/VyLZQGIg1b9rCe58f22gv1ci2UBiINW/yXSToMUS1L8FY8XQXgvFvwqNHjX8ncq/8LeBu1Rqub8II/op50rPvwgj+innSs+/7fHJrBOvy78KjR41/J3Kv3zrhIfE074/Co0eNfydyr8II/op50rPv+3xyawTr8u/8LeBu1Rqub/t8cmsE6/Lv+U3JhtnDNg/5TcmG2cM2D8=",
          "dtype": "f8"
         },
         "yaxis": "y"
        }
       ],
       "layout": {
        "legend": {
         "tracegroupgap": 0
        },
        "template": {
         "data": {
          "bar": [
           {
            "error_x": {
             "color": "#2a3f5f"
            },
            "error_y": {
             "color": "#2a3f5f"
            },
            "marker": {
             "line": {
              "color": "#E5ECF6",
              "width": 0.5
             },
             "pattern": {
              "fillmode": "overlay",
              "size": 10,
              "solidity": 0.2
             }
            },
            "type": "bar"
           }
          ],
          "barpolar": [
           {
            "marker": {
             "line": {
              "color": "#E5ECF6",
              "width": 0.5
             },
             "pattern": {
              "fillmode": "overlay",
              "size": 10,
              "solidity": 0.2
             }
            },
            "type": "barpolar"
           }
          ],
          "carpet": [
           {
            "aaxis": {
             "endlinecolor": "#2a3f5f",
             "gridcolor": "white",
             "linecolor": "white",
             "minorgridcolor": "white",
             "startlinecolor": "#2a3f5f"
            },
            "baxis": {
             "endlinecolor": "#2a3f5f",
             "gridcolor": "white",
             "linecolor": "white",
             "minorgridcolor": "white",
             "startlinecolor": "#2a3f5f"
            },
            "type": "carpet"
           }
          ],
          "choropleth": [
           {
            "colorbar": {
             "outlinewidth": 0,
             "ticks": ""
            },
            "type": "choropleth"
           }
          ],
          "contour": [
           {
            "colorbar": {
             "outlinewidth": 0,
             "ticks": ""
            },
            "colorscale": [
             [
              0,
              "#0d0887"
             ],
             [
              0.1111111111111111,
              "#46039f"
             ],
             [
              0.2222222222222222,
              "#7201a8"
             ],
             [
              0.3333333333333333,
              "#9c179e"
             ],
             [
              0.4444444444444444,
              "#bd3786"
             ],
             [
              0.5555555555555556,
              "#d8576b"
             ],
             [
              0.6666666666666666,
              "#ed7953"
             ],
             [
              0.7777777777777778,
              "#fb9f3a"
             ],
             [
              0.8888888888888888,
              "#fdca26"
             ],
             [
              1,
              "#f0f921"
             ]
            ],
            "type": "contour"
           }
          ],
          "contourcarpet": [
           {
            "colorbar": {
             "outlinewidth": 0,
             "ticks": ""
            },
            "type": "contourcarpet"
           }
          ],
          "heatmap": [
           {
            "colorbar": {
             "outlinewidth": 0,
             "ticks": ""
            },
            "colorscale": [
             [
              0,
              "#0d0887"
             ],
             [
              0.1111111111111111,
              "#46039f"
             ],
             [
              0.2222222222222222,
              "#7201a8"
             ],
             [
              0.3333333333333333,
              "#9c179e"
             ],
             [
              0.4444444444444444,
              "#bd3786"
             ],
             [
              0.5555555555555556,
              "#d8576b"
             ],
             [
              0.6666666666666666,
              "#ed7953"
             ],
             [
              0.7777777777777778,
              "#fb9f3a"
             ],
             [
              0.8888888888888888,
              "#fdca26"
             ],
             [
              1,
              "#f0f921"
             ]
            ],
            "type": "heatmap"
           }
          ],
          "histogram": [
           {
            "marker": {
             "pattern": {
              "fillmode": "overlay",
              "size": 10,
              "solidity": 0.2
             }
            },
            "type": "histogram"
           }
          ],
          "histogram2d": [
           {
            "colorbar": {
             "outlinewidth": 0,
             "ticks": ""
            },
            "colorscale": [
             [
              0,
              "#0d0887"
             ],
             [
              0.1111111111111111,
              "#46039f"
             ],
             [
              0.2222222222222222,
              "#7201a8"
             ],
             [
              0.3333333333333333,
              "#9c179e"
             ],
             [
              0.4444444444444444,
              "#bd3786"
             ],
             [
              0.5555555555555556,
              "#d8576b"
             ],
             [
              0.6666666666666666,
              "#ed7953"
             ],
             [
              0.7777777777777778,
              "#fb9f3a"
             ],
             [
              0.8888888888888888,
              "#fdca26"
             ],
             [
              1,
              "#f0f921"
             ]
            ],
            "type": "histogram2d"
           }
          ],
          "histogram2dcontour": [
           {
            "colorbar": {
             "outlinewidth": 0,
             "ticks": ""
            },
            "colorscale": [
             [
              0,
              "#0d0887"
             ],
             [
              0.1111111111111111,
              "#46039f"
             ],
             [
              0.2222222222222222,
              "#7201a8"
             ],
             [
              0.3333333333333333,
              "#9c179e"
             ],
             [
              0.4444444444444444,
              "#bd3786"
             ],
             [
              0.5555555555555556,
              "#d8576b"
             ],
             [
              0.6666666666666666,
              "#ed7953"
             ],
             [
              0.7777777777777778,
              "#fb9f3a"
             ],
             [
              0.8888888888888888,
              "#fdca26"
             ],
             [
              1,
              "#f0f921"
             ]
            ],
            "type": "histogram2dcontour"
           }
          ],
          "mesh3d": [
           {
            "colorbar": {
             "outlinewidth": 0,
             "ticks": ""
            },
            "type": "mesh3d"
           }
          ],
          "parcoords": [
           {
            "line": {
             "colorbar": {
              "outlinewidth": 0,
              "ticks": ""
             }
            },
            "type": "parcoords"
           }
          ],
          "pie": [
           {
            "automargin": true,
            "type": "pie"
           }
          ],
          "scatter": [
           {
            "fillpattern": {
             "fillmode": "overlay",
             "size": 10,
             "solidity": 0.2
            },
            "type": "scatter"
           }
          ],
          "scatter3d": [
           {
            "line": {
             "colorbar": {
              "outlinewidth": 0,
              "ticks": ""
             }
            },
            "marker": {
             "colorbar": {
              "outlinewidth": 0,
              "ticks": ""
             }
            },
            "type": "scatter3d"
           }
          ],
          "scattercarpet": [
           {
            "marker": {
             "colorbar": {
              "outlinewidth": 0,
              "ticks": ""
             }
            },
            "type": "scattercarpet"
           }
          ],
          "scattergeo": [
           {
            "marker": {
             "colorbar": {
              "outlinewidth": 0,
              "ticks": ""
             }
            },
            "type": "scattergeo"
           }
          ],
          "scattergl": [
           {
            "marker": {
             "colorbar": {
              "outlinewidth": 0,
              "ticks": ""
             }
            },
            "type": "scattergl"
           }
          ],
          "scattermap": [
           {
            "marker": {
             "colorbar": {
              "outlinewidth": 0,
              "ticks": ""
             }
            },
            "type": "scattermap"
           }
          ],
          "scattermapbox": [
           {
            "marker": {
             "colorbar": {
              "outlinewidth": 0,
              "ticks": ""
             }
            },
            "type": "scattermapbox"
           }
          ],
          "scatterpolar": [
           {
            "marker": {
             "colorbar": {
              "outlinewidth": 0,
              "ticks": ""
             }
            },
            "type": "scatterpolar"
           }
          ],
          "scatterpolargl": [
           {
            "marker": {
             "colorbar": {
              "outlinewidth": 0,
              "ticks": ""
             }
            },
            "type": "scatterpolargl"
           }
          ],
          "scatterternary": [
           {
            "marker": {
             "colorbar": {
              "outlinewidth": 0,
              "ticks": ""
             }
            },
            "type": "scatterternary"
           }
          ],
          "surface": [
           {
            "colorbar": {
             "outlinewidth": 0,
             "ticks": ""
            },
            "colorscale": [
             [
              0,
              "#0d0887"
             ],
             [
              0.1111111111111111,
              "#46039f"
             ],
             [
              0.2222222222222222,
              "#7201a8"
             ],
             [
              0.3333333333333333,
              "#9c179e"
             ],
             [
              0.4444444444444444,
              "#bd3786"
             ],
             [
              0.5555555555555556,
              "#d8576b"
             ],
             [
              0.6666666666666666,
              "#ed7953"
             ],
             [
              0.7777777777777778,
              "#fb9f3a"
             ],
             [
              0.8888888888888888,
              "#fdca26"
             ],
             [
              1,
              "#f0f921"
             ]
            ],
            "type": "surface"
           }
          ],
          "table": [
           {
            "cells": {
             "fill": {
              "color": "#EBF0F8"
             },
             "line": {
              "color": "white"
             }
            },
            "header": {
             "fill": {
              "color": "#C8D4E3"
             },
             "line": {
              "color": "white"
             }
            },
            "type": "table"
           }
          ]
         },
         "layout": {
          "annotationdefaults": {
           "arrowcolor": "#2a3f5f",
           "arrowhead": 0,
           "arrowwidth": 1
          },
          "autotypenumbers": "strict",
          "coloraxis": {
           "colorbar": {
            "outlinewidth": 0,
            "ticks": ""
           }
          },
          "colorscale": {
           "diverging": [
            [
             0,
             "#8e0152"
            ],
            [
             0.1,
             "#c51b7d"
            ],
            [
             0.2,
             "#de77ae"
            ],
            [
             0.3,
             "#f1b6da"
            ],
            [
             0.4,
             "#fde0ef"
            ],
            [
             0.5,
             "#f7f7f7"
            ],
            [
             0.6,
             "#e6f5d0"
            ],
            [
             0.7,
             "#b8e186"
            ],
            [
             0.8,
             "#7fbc41"
            ],
            [
             0.9,
             "#4d9221"
            ],
            [
             1,
             "#276419"
            ]
           ],
           "sequential": [
            [
             0,
             "#0d0887"
            ],
            [
             0.1111111111111111,
             "#46039f"
            ],
            [
             0.2222222222222222,
             "#7201a8"
            ],
            [
             0.3333333333333333,
             "#9c179e"
            ],
            [
             0.4444444444444444,
             "#bd3786"
            ],
            [
             0.5555555555555556,
             "#d8576b"
            ],
            [
             0.6666666666666666,
             "#ed7953"
            ],
            [
             0.7777777777777778,
             "#fb9f3a"
            ],
            [
             0.8888888888888888,
             "#fdca26"
            ],
            [
             1,
             "#f0f921"
            ]
           ],
           "sequentialminus": [
            [
             0,
             "#0d0887"
            ],
            [
             0.1111111111111111,
             "#46039f"
            ],
            [
             0.2222222222222222,
             "#7201a8"
            ],
            [
             0.3333333333333333,
             "#9c179e"
            ],
            [
             0.4444444444444444,
             "#bd3786"
            ],
            [
             0.5555555555555556,
             "#d8576b"
            ],
            [
             0.6666666666666666,
             "#ed7953"
            ],
            [
             0.7777777777777778,
             "#fb9f3a"
            ],
            [
             0.8888888888888888,
             "#fdca26"
            ],
            [
             1,
             "#f0f921"
            ]
           ]
          },
          "colorway": [
           "#636efa",
           "#EF553B",
           "#00cc96",
           "#ab63fa",
           "#FFA15A",
           "#19d3f3",
           "#FF6692",
           "#B6E880",
           "#FF97FF",
           "#FECB52"
          ],
          "font": {
           "color": "#2a3f5f"
          },
          "geo": {
           "bgcolor": "white",
           "lakecolor": "white",
           "landcolor": "#E5ECF6",
           "showlakes": true,
           "showland": true,
           "subunitcolor": "white"
          },
          "hoverlabel": {
           "align": "left"
          },
          "hovermode": "closest",
          "mapbox": {
           "style": "light"
          },
          "paper_bgcolor": "white",
          "plot_bgcolor": "#E5ECF6",
          "polar": {
           "angularaxis": {
            "gridcolor": "white",
            "linecolor": "white",
            "ticks": ""
           },
           "bgcolor": "#E5ECF6",
           "radialaxis": {
            "gridcolor": "white",
            "linecolor": "white",
            "ticks": ""
           }
          },
          "scene": {
           "xaxis": {
            "backgroundcolor": "#E5ECF6",
            "gridcolor": "white",
            "gridwidth": 2,
            "linecolor": "white",
            "showbackground": true,
            "ticks": "",
            "zerolinecolor": "white"
           },
           "yaxis": {
            "backgroundcolor": "#E5ECF6",
            "gridcolor": "white",
            "gridwidth": 2,
            "linecolor": "white",
            "showbackground": true,
            "ticks": "",
            "zerolinecolor": "white"
           },
           "zaxis": {
            "backgroundcolor": "#E5ECF6",
            "gridcolor": "white",
            "gridwidth": 2,
            "linecolor": "white",
            "showbackground": true,
            "ticks": "",
            "zerolinecolor": "white"
           }
          },
          "shapedefaults": {
           "line": {
            "color": "#2a3f5f"
           }
          },
          "ternary": {
           "aaxis": {
            "gridcolor": "white",
            "linecolor": "white",
            "ticks": ""
           },
           "baxis": {
            "gridcolor": "white",
            "linecolor": "white",
            "ticks": ""
           },
           "bgcolor": "#E5ECF6",
           "caxis": {
            "gridcolor": "white",
            "linecolor": "white",
            "ticks": ""
           }
          },
          "title": {
           "x": 0.05
          },
          "xaxis": {
           "automargin": true,
           "gridcolor": "white",
           "linecolor": "white",
           "ticks": "",
           "title": {
            "standoff": 15
           },
           "zerolinecolor": "white",
           "zerolinewidth": 2
          },
          "yaxis": {
           "automargin": true,
           "gridcolor": "white",
           "linecolor": "white",
           "ticks": "",
           "title": {
            "standoff": 15
           },
           "zerolinecolor": "white",
           "zerolinewidth": 2
          }
         }
        },
        "title": {
         "text": "Localização dos nomes de citação - Professores com 'D'"
        },
        "xaxis": {
         "anchor": "y",
         "domain": [
          0,
          1
         ],
         "title": {
          "text": "PCA 1"
         }
        },
        "yaxis": {
         "anchor": "x",
         "domain": [
          0,
          1
         ],
         "title": {
          "text": "PCA 2"
         }
        }
       }
      }
     },
     "metadata": {},
     "output_type": "display_data"
    },
    {
     "name": "stdout",
     "output_type": "stream",
     "text": [
      "\n",
      "Professores e nomes de citação do grupo 'D':\n",
      "- Daniela Coelho Batista Guedes Pereira  (PCA: -0.057, 0.768)\n",
      "    • DANIELA COELHO BATISTA  (PCA: -0.058, 0.802)\n",
      "    • DANIELA COELHO FREIRE BATISTA  (PCA: -0.056, 0.747)\n",
      "    • BATISTA, D. C. F  (PCA: -0.050, 0.608)\n",
      "    • DANIELA C. B. G. PEREIRA  (PCA: -0.049, 0.572)\n",
      "- Danielle Rousy Dias Ricarte  (PCA: -0.671, -0.330)\n",
      "    • RICARTE, DANIELLE R. D.  (PCA: -0.587, -0.246)\n",
      "    • SILVA, DANIELLE  (PCA: -0.292, 0.112)\n",
      "    • DANIELLE ROUSY D. RICARTE  (PCA: -0.656, -0.314)\n",
      "    • SILVA, D. R. D.  (PCA: -0.104, 0.279)\n",
      "    • RICARTE, D. R. D  (PCA: -0.466, -0.164)\n",
      "    • RICARTE, DANIELLE ROUSY DIAS  (PCA: -0.671, -0.330)\n",
      "    • DANIELLE ROUSY DIAS RICARTE  (PCA: -0.671, -0.330)\n",
      "    • ROUSY DIAS DA SILVA, DANIELLE  (PCA: -0.408, -0.032)\n",
      "    • ROUSY DIAS RICARTE, DANIELLE  (PCA: -0.671, -0.330)\n",
      "    • RICARTE, DANIELLE ROUSY D.  (PCA: -0.656, -0.314)\n",
      "    • RICARTE, D. R. D.  (PCA: -0.466, -0.164)\n",
      "- Davi Henrique dos Santos  (PCA: 0.588, -0.208)\n",
      "    • SANTOS, D.H.  (PCA: 0.473, -0.099)\n",
      "    • DOS SANTOS, DAVI  (PCA: 0.649, -0.244)\n",
      "    • DOS SANTOS, DAVI H.  (PCA: 0.649, -0.244)\n",
      "    • SANTOS, DAVI  (PCA: 0.623, -0.216)\n",
      "    • DOS SANTOS, DAVI HENRIQUE  (PCA: 0.588, -0.208)\n",
      "    • SANTOS, DAVID H. DO  (PCA: 0.155, 0.120)\n",
      "    • SANTOS, DAVI HENRIQUE DOS  (PCA: 0.588, -0.208)\n",
      "    • SANTOS, DAVI H. DOS  (PCA: 0.649, -0.244)\n",
      "    • SANTOS, DAVI H.  (PCA: 0.623, -0.216)\n",
      "    • SANTOS, D. H.  (PCA: 0.473, -0.099)\n",
      "    • H. SANTOS, DAVI  (PCA: 0.623, -0.216)\n",
      "- Derzu Omaia  (PCA: -0.045, 0.376)\n",
      "    • OMAIA, DERZU  (PCA: -0.045, 0.376)\n"
     ]
    },
    {
     "data": {
      "application/vnd.plotly.v1+json": {
       "config": {
        "plotlyServerURL": "https://plot.ly"
       },
       "data": [
        {
         "hovertemplate": "%{text}",
         "legendgroup": "",
         "marker": {
          "color": "#636efa",
          "size": 10,
          "symbol": "circle"
         },
         "mode": "markers+text",
         "name": "",
         "orientation": "v",
         "showlegend": false,
         "text": [
          "Ed Porto Bezerra",
          "BEZERRA, ED",
          "ED PORTO",
          "BEZERRA ED",
          "PORTO, ED",
          "ED BEZERRA",
          "ED PORTO BEZERRA",
          "BEZERRA, E. P.",
          "BEZERRA, ED PORTO",
          "Elizabet Maria Spohr de Medeiros",
          "MEDEIROS, E. M. S.",
          "Eudisley Gomes dos Anjos",
          "ANJOS, EUDISLEY",
          "GOMES DOS ANJOS, EUDISLEY",
          "ANJOS, E. G.",
          "ANJOS, EUDISLEY GOMES DOS",
          "Ewerton Monteiro Salvador",
          "SALVADOR, EWERTON MONTEIRO",
          "SALVADOR, EWERTON M."
         ],
         "textposition": "top center",
         "type": "scatter",
         "x": {
          "bdata": "2jM2aaLS4z8GlbXfzbThPyvL4ZLzadw/B5W138204T8oy+GS82ncPweVtd/NtOE/1zM2aaLS4z8byhe1hWzVP9czNmmi0uM/o6Nuq18Tzb+jo26rXxPNv3qIHMuDPea/lRkOQ2vs4796iBzLgz3mvxrwLUYn/+C/eogcy4M95r8JEViBl67WvwkRWIGXrta/qwkgDUS01b8=",
          "dtype": "f8"
         },
         "xaxis": "x",
         "y": {
          "bdata": "qt6pF2d7vL80pY+kuoq3v8Kd1pD/qLC/JKWPpLqKt7/RndaQ/6iwvymlj6S6ire/rN6pF2d7vL+S1vueXeqev6zeqRdne7y/O5Mq8zREyD85kyrzNETIP82hcvZhmN6/s2eSXSuQ2L/NoXL2YZjev9ZQuLpNktG/zaFy9mGY3r8L4ZCl7CfrPwzhkKXsJ+s/4VrdMLsn6T8=",
          "dtype": "f8"
         },
         "yaxis": "y"
        }
       ],
       "layout": {
        "legend": {
         "tracegroupgap": 0
        },
        "template": {
         "data": {
          "bar": [
           {
            "error_x": {
             "color": "#2a3f5f"
            },
            "error_y": {
             "color": "#2a3f5f"
            },
            "marker": {
             "line": {
              "color": "#E5ECF6",
              "width": 0.5
             },
             "pattern": {
              "fillmode": "overlay",
              "size": 10,
              "solidity": 0.2
             }
            },
            "type": "bar"
           }
          ],
          "barpolar": [
           {
            "marker": {
             "line": {
              "color": "#E5ECF6",
              "width": 0.5
             },
             "pattern": {
              "fillmode": "overlay",
              "size": 10,
              "solidity": 0.2
             }
            },
            "type": "barpolar"
           }
          ],
          "carpet": [
           {
            "aaxis": {
             "endlinecolor": "#2a3f5f",
             "gridcolor": "white",
             "linecolor": "white",
             "minorgridcolor": "white",
             "startlinecolor": "#2a3f5f"
            },
            "baxis": {
             "endlinecolor": "#2a3f5f",
             "gridcolor": "white",
             "linecolor": "white",
             "minorgridcolor": "white",
             "startlinecolor": "#2a3f5f"
            },
            "type": "carpet"
           }
          ],
          "choropleth": [
           {
            "colorbar": {
             "outlinewidth": 0,
             "ticks": ""
            },
            "type": "choropleth"
           }
          ],
          "contour": [
           {
            "colorbar": {
             "outlinewidth": 0,
             "ticks": ""
            },
            "colorscale": [
             [
              0,
              "#0d0887"
             ],
             [
              0.1111111111111111,
              "#46039f"
             ],
             [
              0.2222222222222222,
              "#7201a8"
             ],
             [
              0.3333333333333333,
              "#9c179e"
             ],
             [
              0.4444444444444444,
              "#bd3786"
             ],
             [
              0.5555555555555556,
              "#d8576b"
             ],
             [
              0.6666666666666666,
              "#ed7953"
             ],
             [
              0.7777777777777778,
              "#fb9f3a"
             ],
             [
              0.8888888888888888,
              "#fdca26"
             ],
             [
              1,
              "#f0f921"
             ]
            ],
            "type": "contour"
           }
          ],
          "contourcarpet": [
           {
            "colorbar": {
             "outlinewidth": 0,
             "ticks": ""
            },
            "type": "contourcarpet"
           }
          ],
          "heatmap": [
           {
            "colorbar": {
             "outlinewidth": 0,
             "ticks": ""
            },
            "colorscale": [
             [
              0,
              "#0d0887"
             ],
             [
              0.1111111111111111,
              "#46039f"
             ],
             [
              0.2222222222222222,
              "#7201a8"
             ],
             [
              0.3333333333333333,
              "#9c179e"
             ],
             [
              0.4444444444444444,
              "#bd3786"
             ],
             [
              0.5555555555555556,
              "#d8576b"
             ],
             [
              0.6666666666666666,
              "#ed7953"
             ],
             [
              0.7777777777777778,
              "#fb9f3a"
             ],
             [
              0.8888888888888888,
              "#fdca26"
             ],
             [
              1,
              "#f0f921"
             ]
            ],
            "type": "heatmap"
           }
          ],
          "histogram": [
           {
            "marker": {
             "pattern": {
              "fillmode": "overlay",
              "size": 10,
              "solidity": 0.2
             }
            },
            "type": "histogram"
           }
          ],
          "histogram2d": [
           {
            "colorbar": {
             "outlinewidth": 0,
             "ticks": ""
            },
            "colorscale": [
             [
              0,
              "#0d0887"
             ],
             [
              0.1111111111111111,
              "#46039f"
             ],
             [
              0.2222222222222222,
              "#7201a8"
             ],
             [
              0.3333333333333333,
              "#9c179e"
             ],
             [
              0.4444444444444444,
              "#bd3786"
             ],
             [
              0.5555555555555556,
              "#d8576b"
             ],
             [
              0.6666666666666666,
              "#ed7953"
             ],
             [
              0.7777777777777778,
              "#fb9f3a"
             ],
             [
              0.8888888888888888,
              "#fdca26"
             ],
             [
              1,
              "#f0f921"
             ]
            ],
            "type": "histogram2d"
           }
          ],
          "histogram2dcontour": [
           {
            "colorbar": {
             "outlinewidth": 0,
             "ticks": ""
            },
            "colorscale": [
             [
              0,
              "#0d0887"
             ],
             [
              0.1111111111111111,
              "#46039f"
             ],
             [
              0.2222222222222222,
              "#7201a8"
             ],
             [
              0.3333333333333333,
              "#9c179e"
             ],
             [
              0.4444444444444444,
              "#bd3786"
             ],
             [
              0.5555555555555556,
              "#d8576b"
             ],
             [
              0.6666666666666666,
              "#ed7953"
             ],
             [
              0.7777777777777778,
              "#fb9f3a"
             ],
             [
              0.8888888888888888,
              "#fdca26"
             ],
             [
              1,
              "#f0f921"
             ]
            ],
            "type": "histogram2dcontour"
           }
          ],
          "mesh3d": [
           {
            "colorbar": {
             "outlinewidth": 0,
             "ticks": ""
            },
            "type": "mesh3d"
           }
          ],
          "parcoords": [
           {
            "line": {
             "colorbar": {
              "outlinewidth": 0,
              "ticks": ""
             }
            },
            "type": "parcoords"
           }
          ],
          "pie": [
           {
            "automargin": true,
            "type": "pie"
           }
          ],
          "scatter": [
           {
            "fillpattern": {
             "fillmode": "overlay",
             "size": 10,
             "solidity": 0.2
            },
            "type": "scatter"
           }
          ],
          "scatter3d": [
           {
            "line": {
             "colorbar": {
              "outlinewidth": 0,
              "ticks": ""
             }
            },
            "marker": {
             "colorbar": {
              "outlinewidth": 0,
              "ticks": ""
             }
            },
            "type": "scatter3d"
           }
          ],
          "scattercarpet": [
           {
            "marker": {
             "colorbar": {
              "outlinewidth": 0,
              "ticks": ""
             }
            },
            "type": "scattercarpet"
           }
          ],
          "scattergeo": [
           {
            "marker": {
             "colorbar": {
              "outlinewidth": 0,
              "ticks": ""
             }
            },
            "type": "scattergeo"
           }
          ],
          "scattergl": [
           {
            "marker": {
             "colorbar": {
              "outlinewidth": 0,
              "ticks": ""
             }
            },
            "type": "scattergl"
           }
          ],
          "scattermap": [
           {
            "marker": {
             "colorbar": {
              "outlinewidth": 0,
              "ticks": ""
             }
            },
            "type": "scattermap"
           }
          ],
          "scattermapbox": [
           {
            "marker": {
             "colorbar": {
              "outlinewidth": 0,
              "ticks": ""
             }
            },
            "type": "scattermapbox"
           }
          ],
          "scatterpolar": [
           {
            "marker": {
             "colorbar": {
              "outlinewidth": 0,
              "ticks": ""
             }
            },
            "type": "scatterpolar"
           }
          ],
          "scatterpolargl": [
           {
            "marker": {
             "colorbar": {
              "outlinewidth": 0,
              "ticks": ""
             }
            },
            "type": "scatterpolargl"
           }
          ],
          "scatterternary": [
           {
            "marker": {
             "colorbar": {
              "outlinewidth": 0,
              "ticks": ""
             }
            },
            "type": "scatterternary"
           }
          ],
          "surface": [
           {
            "colorbar": {
             "outlinewidth": 0,
             "ticks": ""
            },
            "colorscale": [
             [
              0,
              "#0d0887"
             ],
             [
              0.1111111111111111,
              "#46039f"
             ],
             [
              0.2222222222222222,
              "#7201a8"
             ],
             [
              0.3333333333333333,
              "#9c179e"
             ],
             [
              0.4444444444444444,
              "#bd3786"
             ],
             [
              0.5555555555555556,
              "#d8576b"
             ],
             [
              0.6666666666666666,
              "#ed7953"
             ],
             [
              0.7777777777777778,
              "#fb9f3a"
             ],
             [
              0.8888888888888888,
              "#fdca26"
             ],
             [
              1,
              "#f0f921"
             ]
            ],
            "type": "surface"
           }
          ],
          "table": [
           {
            "cells": {
             "fill": {
              "color": "#EBF0F8"
             },
             "line": {
              "color": "white"
             }
            },
            "header": {
             "fill": {
              "color": "#C8D4E3"
             },
             "line": {
              "color": "white"
             }
            },
            "type": "table"
           }
          ]
         },
         "layout": {
          "annotationdefaults": {
           "arrowcolor": "#2a3f5f",
           "arrowhead": 0,
           "arrowwidth": 1
          },
          "autotypenumbers": "strict",
          "coloraxis": {
           "colorbar": {
            "outlinewidth": 0,
            "ticks": ""
           }
          },
          "colorscale": {
           "diverging": [
            [
             0,
             "#8e0152"
            ],
            [
             0.1,
             "#c51b7d"
            ],
            [
             0.2,
             "#de77ae"
            ],
            [
             0.3,
             "#f1b6da"
            ],
            [
             0.4,
             "#fde0ef"
            ],
            [
             0.5,
             "#f7f7f7"
            ],
            [
             0.6,
             "#e6f5d0"
            ],
            [
             0.7,
             "#b8e186"
            ],
            [
             0.8,
             "#7fbc41"
            ],
            [
             0.9,
             "#4d9221"
            ],
            [
             1,
             "#276419"
            ]
           ],
           "sequential": [
            [
             0,
             "#0d0887"
            ],
            [
             0.1111111111111111,
             "#46039f"
            ],
            [
             0.2222222222222222,
             "#7201a8"
            ],
            [
             0.3333333333333333,
             "#9c179e"
            ],
            [
             0.4444444444444444,
             "#bd3786"
            ],
            [
             0.5555555555555556,
             "#d8576b"
            ],
            [
             0.6666666666666666,
             "#ed7953"
            ],
            [
             0.7777777777777778,
             "#fb9f3a"
            ],
            [
             0.8888888888888888,
             "#fdca26"
            ],
            [
             1,
             "#f0f921"
            ]
           ],
           "sequentialminus": [
            [
             0,
             "#0d0887"
            ],
            [
             0.1111111111111111,
             "#46039f"
            ],
            [
             0.2222222222222222,
             "#7201a8"
            ],
            [
             0.3333333333333333,
             "#9c179e"
            ],
            [
             0.4444444444444444,
             "#bd3786"
            ],
            [
             0.5555555555555556,
             "#d8576b"
            ],
            [
             0.6666666666666666,
             "#ed7953"
            ],
            [
             0.7777777777777778,
             "#fb9f3a"
            ],
            [
             0.8888888888888888,
             "#fdca26"
            ],
            [
             1,
             "#f0f921"
            ]
           ]
          },
          "colorway": [
           "#636efa",
           "#EF553B",
           "#00cc96",
           "#ab63fa",
           "#FFA15A",
           "#19d3f3",
           "#FF6692",
           "#B6E880",
           "#FF97FF",
           "#FECB52"
          ],
          "font": {
           "color": "#2a3f5f"
          },
          "geo": {
           "bgcolor": "white",
           "lakecolor": "white",
           "landcolor": "#E5ECF6",
           "showlakes": true,
           "showland": true,
           "subunitcolor": "white"
          },
          "hoverlabel": {
           "align": "left"
          },
          "hovermode": "closest",
          "mapbox": {
           "style": "light"
          },
          "paper_bgcolor": "white",
          "plot_bgcolor": "#E5ECF6",
          "polar": {
           "angularaxis": {
            "gridcolor": "white",
            "linecolor": "white",
            "ticks": ""
           },
           "bgcolor": "#E5ECF6",
           "radialaxis": {
            "gridcolor": "white",
            "linecolor": "white",
            "ticks": ""
           }
          },
          "scene": {
           "xaxis": {
            "backgroundcolor": "#E5ECF6",
            "gridcolor": "white",
            "gridwidth": 2,
            "linecolor": "white",
            "showbackground": true,
            "ticks": "",
            "zerolinecolor": "white"
           },
           "yaxis": {
            "backgroundcolor": "#E5ECF6",
            "gridcolor": "white",
            "gridwidth": 2,
            "linecolor": "white",
            "showbackground": true,
            "ticks": "",
            "zerolinecolor": "white"
           },
           "zaxis": {
            "backgroundcolor": "#E5ECF6",
            "gridcolor": "white",
            "gridwidth": 2,
            "linecolor": "white",
            "showbackground": true,
            "ticks": "",
            "zerolinecolor": "white"
           }
          },
          "shapedefaults": {
           "line": {
            "color": "#2a3f5f"
           }
          },
          "ternary": {
           "aaxis": {
            "gridcolor": "white",
            "linecolor": "white",
            "ticks": ""
           },
           "baxis": {
            "gridcolor": "white",
            "linecolor": "white",
            "ticks": ""
           },
           "bgcolor": "#E5ECF6",
           "caxis": {
            "gridcolor": "white",
            "linecolor": "white",
            "ticks": ""
           }
          },
          "title": {
           "x": 0.05
          },
          "xaxis": {
           "automargin": true,
           "gridcolor": "white",
           "linecolor": "white",
           "ticks": "",
           "title": {
            "standoff": 15
           },
           "zerolinecolor": "white",
           "zerolinewidth": 2
          },
          "yaxis": {
           "automargin": true,
           "gridcolor": "white",
           "linecolor": "white",
           "ticks": "",
           "title": {
            "standoff": 15
           },
           "zerolinecolor": "white",
           "zerolinewidth": 2
          }
         }
        },
        "title": {
         "text": "Localização dos nomes de citação - Professores com 'E'"
        },
        "xaxis": {
         "anchor": "y",
         "domain": [
          0,
          1
         ],
         "title": {
          "text": "PCA 1"
         }
        },
        "yaxis": {
         "anchor": "x",
         "domain": [
          0,
          1
         ],
         "title": {
          "text": "PCA 2"
         }
        }
       }
      }
     },
     "metadata": {},
     "output_type": "display_data"
    },
    {
     "name": "stdout",
     "output_type": "stream",
     "text": [
      "\n",
      "Professores e nomes de citação do grupo 'E':\n",
      "- Ed Porto Bezerra  (PCA: 0.619, -0.111)\n",
      "    • BEZERRA, ED  (PCA: 0.553, -0.092)\n",
      "    • ED PORTO  (PCA: 0.444, -0.065)\n",
      "    • BEZERRA ED  (PCA: 0.553, -0.092)\n",
      "    • PORTO, ED  (PCA: 0.444, -0.065)\n",
      "    • ED BEZERRA  (PCA: 0.553, -0.092)\n",
      "    • ED PORTO BEZERRA  (PCA: 0.619, -0.111)\n",
      "    • BEZERRA, E. P.  (PCA: 0.335, -0.030)\n",
      "    • BEZERRA, ED PORTO  (PCA: 0.619, -0.111)\n",
      "- Elizabet Maria Spohr de Medeiros  (PCA: -0.227, 0.190)\n",
      "    • MEDEIROS, E. M. S.  (PCA: -0.227, 0.190)\n",
      "- Eudisley Gomes dos Anjos  (PCA: -0.695, -0.478)\n",
      "    • ANJOS, EUDISLEY  (PCA: -0.623, -0.384)\n",
      "    • GOMES DOS ANJOS, EUDISLEY  (PCA: -0.695, -0.478)\n",
      "    • ANJOS, E. G.  (PCA: -0.531, -0.275)\n",
      "    • ANJOS, EUDISLEY GOMES DOS  (PCA: -0.695, -0.478)\n",
      "- Ewerton Monteiro Salvador  (PCA: -0.354, 0.849)\n",
      "    • SALVADOR, EWERTON MONTEIRO  (PCA: -0.354, 0.849)\n",
      "    • SALVADOR, EWERTON M.  (PCA: -0.339, 0.786)\n"
     ]
    },
    {
     "data": {
      "application/vnd.plotly.v1+json": {
       "config": {
        "plotlyServerURL": "https://plot.ly"
       },
       "data": [
        {
         "hovertemplate": "%{text}",
         "legendgroup": "",
         "marker": {
          "color": "#636efa",
          "size": 10,
          "symbol": "circle"
         },
         "mode": "markers+text",
         "name": "",
         "orientation": "v",
         "showlegend": false,
         "text": [
          "Felipe Antonio Garcia Moreno",
          "MORENO, FELIPE GARCIA",
          "MORENO, FELIPE A. G.",
          "MORENO, F. A. G.",
          "Fernando Menezes Matos",
          "MATOS, F. M",
          "MATOS, F.",
          "MATOS, FERNANDO",
          "MATOS, FERNANDO MENEZES",
          "Francisco de Assis Coutinho Souto",
          "SOUTO, FRANCISCO DE ASSIS COUTINHO"
         ],
         "textposition": "top center",
         "type": "scatter",
         "x": {
          "bdata": "FSG3zAmh47/7vAjiXErlv0paOcyt/eS/YRGqFuTF4b/DJEmzyqDiP5SqQ1AKluE/lKpDUAqW4T8gjn+oxeriP8MkSbPKoOI/HcbrO+5Sx78dxus77lLHvw==",
          "dtype": "f8"
         },
         "xaxis": "x",
         "y": {
          "bdata": "5zpWiYiZ0r/9dErgXffUv509NfvNbtS/6wwLIFstz7+SdYEuKpTCvwv8M8o2msC/C/wzyjaawL/U2UQDid7Cv5R1gS4qlMK/n9TM2wEN7j+f1MzbAQ3uPw==",
          "dtype": "f8"
         },
         "yaxis": "y"
        }
       ],
       "layout": {
        "legend": {
         "tracegroupgap": 0
        },
        "template": {
         "data": {
          "bar": [
           {
            "error_x": {
             "color": "#2a3f5f"
            },
            "error_y": {
             "color": "#2a3f5f"
            },
            "marker": {
             "line": {
              "color": "#E5ECF6",
              "width": 0.5
             },
             "pattern": {
              "fillmode": "overlay",
              "size": 10,
              "solidity": 0.2
             }
            },
            "type": "bar"
           }
          ],
          "barpolar": [
           {
            "marker": {
             "line": {
              "color": "#E5ECF6",
              "width": 0.5
             },
             "pattern": {
              "fillmode": "overlay",
              "size": 10,
              "solidity": 0.2
             }
            },
            "type": "barpolar"
           }
          ],
          "carpet": [
           {
            "aaxis": {
             "endlinecolor": "#2a3f5f",
             "gridcolor": "white",
             "linecolor": "white",
             "minorgridcolor": "white",
             "startlinecolor": "#2a3f5f"
            },
            "baxis": {
             "endlinecolor": "#2a3f5f",
             "gridcolor": "white",
             "linecolor": "white",
             "minorgridcolor": "white",
             "startlinecolor": "#2a3f5f"
            },
            "type": "carpet"
           }
          ],
          "choropleth": [
           {
            "colorbar": {
             "outlinewidth": 0,
             "ticks": ""
            },
            "type": "choropleth"
           }
          ],
          "contour": [
           {
            "colorbar": {
             "outlinewidth": 0,
             "ticks": ""
            },
            "colorscale": [
             [
              0,
              "#0d0887"
             ],
             [
              0.1111111111111111,
              "#46039f"
             ],
             [
              0.2222222222222222,
              "#7201a8"
             ],
             [
              0.3333333333333333,
              "#9c179e"
             ],
             [
              0.4444444444444444,
              "#bd3786"
             ],
             [
              0.5555555555555556,
              "#d8576b"
             ],
             [
              0.6666666666666666,
              "#ed7953"
             ],
             [
              0.7777777777777778,
              "#fb9f3a"
             ],
             [
              0.8888888888888888,
              "#fdca26"
             ],
             [
              1,
              "#f0f921"
             ]
            ],
            "type": "contour"
           }
          ],
          "contourcarpet": [
           {
            "colorbar": {
             "outlinewidth": 0,
             "ticks": ""
            },
            "type": "contourcarpet"
           }
          ],
          "heatmap": [
           {
            "colorbar": {
             "outlinewidth": 0,
             "ticks": ""
            },
            "colorscale": [
             [
              0,
              "#0d0887"
             ],
             [
              0.1111111111111111,
              "#46039f"
             ],
             [
              0.2222222222222222,
              "#7201a8"
             ],
             [
              0.3333333333333333,
              "#9c179e"
             ],
             [
              0.4444444444444444,
              "#bd3786"
             ],
             [
              0.5555555555555556,
              "#d8576b"
             ],
             [
              0.6666666666666666,
              "#ed7953"
             ],
             [
              0.7777777777777778,
              "#fb9f3a"
             ],
             [
              0.8888888888888888,
              "#fdca26"
             ],
             [
              1,
              "#f0f921"
             ]
            ],
            "type": "heatmap"
           }
          ],
          "histogram": [
           {
            "marker": {
             "pattern": {
              "fillmode": "overlay",
              "size": 10,
              "solidity": 0.2
             }
            },
            "type": "histogram"
           }
          ],
          "histogram2d": [
           {
            "colorbar": {
             "outlinewidth": 0,
             "ticks": ""
            },
            "colorscale": [
             [
              0,
              "#0d0887"
             ],
             [
              0.1111111111111111,
              "#46039f"
             ],
             [
              0.2222222222222222,
              "#7201a8"
             ],
             [
              0.3333333333333333,
              "#9c179e"
             ],
             [
              0.4444444444444444,
              "#bd3786"
             ],
             [
              0.5555555555555556,
              "#d8576b"
             ],
             [
              0.6666666666666666,
              "#ed7953"
             ],
             [
              0.7777777777777778,
              "#fb9f3a"
             ],
             [
              0.8888888888888888,
              "#fdca26"
             ],
             [
              1,
              "#f0f921"
             ]
            ],
            "type": "histogram2d"
           }
          ],
          "histogram2dcontour": [
           {
            "colorbar": {
             "outlinewidth": 0,
             "ticks": ""
            },
            "colorscale": [
             [
              0,
              "#0d0887"
             ],
             [
              0.1111111111111111,
              "#46039f"
             ],
             [
              0.2222222222222222,
              "#7201a8"
             ],
             [
              0.3333333333333333,
              "#9c179e"
             ],
             [
              0.4444444444444444,
              "#bd3786"
             ],
             [
              0.5555555555555556,
              "#d8576b"
             ],
             [
              0.6666666666666666,
              "#ed7953"
             ],
             [
              0.7777777777777778,
              "#fb9f3a"
             ],
             [
              0.8888888888888888,
              "#fdca26"
             ],
             [
              1,
              "#f0f921"
             ]
            ],
            "type": "histogram2dcontour"
           }
          ],
          "mesh3d": [
           {
            "colorbar": {
             "outlinewidth": 0,
             "ticks": ""
            },
            "type": "mesh3d"
           }
          ],
          "parcoords": [
           {
            "line": {
             "colorbar": {
              "outlinewidth": 0,
              "ticks": ""
             }
            },
            "type": "parcoords"
           }
          ],
          "pie": [
           {
            "automargin": true,
            "type": "pie"
           }
          ],
          "scatter": [
           {
            "fillpattern": {
             "fillmode": "overlay",
             "size": 10,
             "solidity": 0.2
            },
            "type": "scatter"
           }
          ],
          "scatter3d": [
           {
            "line": {
             "colorbar": {
              "outlinewidth": 0,
              "ticks": ""
             }
            },
            "marker": {
             "colorbar": {
              "outlinewidth": 0,
              "ticks": ""
             }
            },
            "type": "scatter3d"
           }
          ],
          "scattercarpet": [
           {
            "marker": {
             "colorbar": {
              "outlinewidth": 0,
              "ticks": ""
             }
            },
            "type": "scattercarpet"
           }
          ],
          "scattergeo": [
           {
            "marker": {
             "colorbar": {
              "outlinewidth": 0,
              "ticks": ""
             }
            },
            "type": "scattergeo"
           }
          ],
          "scattergl": [
           {
            "marker": {
             "colorbar": {
              "outlinewidth": 0,
              "ticks": ""
             }
            },
            "type": "scattergl"
           }
          ],
          "scattermap": [
           {
            "marker": {
             "colorbar": {
              "outlinewidth": 0,
              "ticks": ""
             }
            },
            "type": "scattermap"
           }
          ],
          "scattermapbox": [
           {
            "marker": {
             "colorbar": {
              "outlinewidth": 0,
              "ticks": ""
             }
            },
            "type": "scattermapbox"
           }
          ],
          "scatterpolar": [
           {
            "marker": {
             "colorbar": {
              "outlinewidth": 0,
              "ticks": ""
             }
            },
            "type": "scatterpolar"
           }
          ],
          "scatterpolargl": [
           {
            "marker": {
             "colorbar": {
              "outlinewidth": 0,
              "ticks": ""
             }
            },
            "type": "scatterpolargl"
           }
          ],
          "scatterternary": [
           {
            "marker": {
             "colorbar": {
              "outlinewidth": 0,
              "ticks": ""
             }
            },
            "type": "scatterternary"
           }
          ],
          "surface": [
           {
            "colorbar": {
             "outlinewidth": 0,
             "ticks": ""
            },
            "colorscale": [
             [
              0,
              "#0d0887"
             ],
             [
              0.1111111111111111,
              "#46039f"
             ],
             [
              0.2222222222222222,
              "#7201a8"
             ],
             [
              0.3333333333333333,
              "#9c179e"
             ],
             [
              0.4444444444444444,
              "#bd3786"
             ],
             [
              0.5555555555555556,
              "#d8576b"
             ],
             [
              0.6666666666666666,
              "#ed7953"
             ],
             [
              0.7777777777777778,
              "#fb9f3a"
             ],
             [
              0.8888888888888888,
              "#fdca26"
             ],
             [
              1,
              "#f0f921"
             ]
            ],
            "type": "surface"
           }
          ],
          "table": [
           {
            "cells": {
             "fill": {
              "color": "#EBF0F8"
             },
             "line": {
              "color": "white"
             }
            },
            "header": {
             "fill": {
              "color": "#C8D4E3"
             },
             "line": {
              "color": "white"
             }
            },
            "type": "table"
           }
          ]
         },
         "layout": {
          "annotationdefaults": {
           "arrowcolor": "#2a3f5f",
           "arrowhead": 0,
           "arrowwidth": 1
          },
          "autotypenumbers": "strict",
          "coloraxis": {
           "colorbar": {
            "outlinewidth": 0,
            "ticks": ""
           }
          },
          "colorscale": {
           "diverging": [
            [
             0,
             "#8e0152"
            ],
            [
             0.1,
             "#c51b7d"
            ],
            [
             0.2,
             "#de77ae"
            ],
            [
             0.3,
             "#f1b6da"
            ],
            [
             0.4,
             "#fde0ef"
            ],
            [
             0.5,
             "#f7f7f7"
            ],
            [
             0.6,
             "#e6f5d0"
            ],
            [
             0.7,
             "#b8e186"
            ],
            [
             0.8,
             "#7fbc41"
            ],
            [
             0.9,
             "#4d9221"
            ],
            [
             1,
             "#276419"
            ]
           ],
           "sequential": [
            [
             0,
             "#0d0887"
            ],
            [
             0.1111111111111111,
             "#46039f"
            ],
            [
             0.2222222222222222,
             "#7201a8"
            ],
            [
             0.3333333333333333,
             "#9c179e"
            ],
            [
             0.4444444444444444,
             "#bd3786"
            ],
            [
             0.5555555555555556,
             "#d8576b"
            ],
            [
             0.6666666666666666,
             "#ed7953"
            ],
            [
             0.7777777777777778,
             "#fb9f3a"
            ],
            [
             0.8888888888888888,
             "#fdca26"
            ],
            [
             1,
             "#f0f921"
            ]
           ],
           "sequentialminus": [
            [
             0,
             "#0d0887"
            ],
            [
             0.1111111111111111,
             "#46039f"
            ],
            [
             0.2222222222222222,
             "#7201a8"
            ],
            [
             0.3333333333333333,
             "#9c179e"
            ],
            [
             0.4444444444444444,
             "#bd3786"
            ],
            [
             0.5555555555555556,
             "#d8576b"
            ],
            [
             0.6666666666666666,
             "#ed7953"
            ],
            [
             0.7777777777777778,
             "#fb9f3a"
            ],
            [
             0.8888888888888888,
             "#fdca26"
            ],
            [
             1,
             "#f0f921"
            ]
           ]
          },
          "colorway": [
           "#636efa",
           "#EF553B",
           "#00cc96",
           "#ab63fa",
           "#FFA15A",
           "#19d3f3",
           "#FF6692",
           "#B6E880",
           "#FF97FF",
           "#FECB52"
          ],
          "font": {
           "color": "#2a3f5f"
          },
          "geo": {
           "bgcolor": "white",
           "lakecolor": "white",
           "landcolor": "#E5ECF6",
           "showlakes": true,
           "showland": true,
           "subunitcolor": "white"
          },
          "hoverlabel": {
           "align": "left"
          },
          "hovermode": "closest",
          "mapbox": {
           "style": "light"
          },
          "paper_bgcolor": "white",
          "plot_bgcolor": "#E5ECF6",
          "polar": {
           "angularaxis": {
            "gridcolor": "white",
            "linecolor": "white",
            "ticks": ""
           },
           "bgcolor": "#E5ECF6",
           "radialaxis": {
            "gridcolor": "white",
            "linecolor": "white",
            "ticks": ""
           }
          },
          "scene": {
           "xaxis": {
            "backgroundcolor": "#E5ECF6",
            "gridcolor": "white",
            "gridwidth": 2,
            "linecolor": "white",
            "showbackground": true,
            "ticks": "",
            "zerolinecolor": "white"
           },
           "yaxis": {
            "backgroundcolor": "#E5ECF6",
            "gridcolor": "white",
            "gridwidth": 2,
            "linecolor": "white",
            "showbackground": true,
            "ticks": "",
            "zerolinecolor": "white"
           },
           "zaxis": {
            "backgroundcolor": "#E5ECF6",
            "gridcolor": "white",
            "gridwidth": 2,
            "linecolor": "white",
            "showbackground": true,
            "ticks": "",
            "zerolinecolor": "white"
           }
          },
          "shapedefaults": {
           "line": {
            "color": "#2a3f5f"
           }
          },
          "ternary": {
           "aaxis": {
            "gridcolor": "white",
            "linecolor": "white",
            "ticks": ""
           },
           "baxis": {
            "gridcolor": "white",
            "linecolor": "white",
            "ticks": ""
           },
           "bgcolor": "#E5ECF6",
           "caxis": {
            "gridcolor": "white",
            "linecolor": "white",
            "ticks": ""
           }
          },
          "title": {
           "x": 0.05
          },
          "xaxis": {
           "automargin": true,
           "gridcolor": "white",
           "linecolor": "white",
           "ticks": "",
           "title": {
            "standoff": 15
           },
           "zerolinecolor": "white",
           "zerolinewidth": 2
          },
          "yaxis": {
           "automargin": true,
           "gridcolor": "white",
           "linecolor": "white",
           "ticks": "",
           "title": {
            "standoff": 15
           },
           "zerolinecolor": "white",
           "zerolinewidth": 2
          }
         }
        },
        "title": {
         "text": "Localização dos nomes de citação - Professores com 'F'"
        },
        "xaxis": {
         "anchor": "y",
         "domain": [
          0,
          1
         ],
         "title": {
          "text": "PCA 1"
         }
        },
        "yaxis": {
         "anchor": "x",
         "domain": [
          0,
          1
         ],
         "title": {
          "text": "PCA 2"
         }
        }
       }
      }
     },
     "metadata": {},
     "output_type": "display_data"
    },
    {
     "name": "stdout",
     "output_type": "stream",
     "text": [
      "\n",
      "Professores e nomes de citação do grupo 'F':\n",
      "- Felipe Antonio Garcia Moreno  (PCA: -0.613, -0.291)\n",
      "    • MORENO, FELIPE GARCIA  (PCA: -0.665, -0.328)\n",
      "    • MORENO, FELIPE A. G.  (PCA: -0.656, -0.319)\n",
      "    • MORENO, F. A. G.  (PCA: -0.555, -0.244)\n",
      "- Fernando Menezes Matos  (PCA: 0.582, -0.145)\n",
      "    • MATOS, F. M  (PCA: 0.550, -0.130)\n",
      "    • MATOS, F.  (PCA: 0.550, -0.130)\n",
      "    • MATOS, FERNANDO  (PCA: 0.591, -0.147)\n",
      "    • MATOS, FERNANDO MENEZES  (PCA: 0.582, -0.145)\n",
      "- Francisco de Assis Coutinho Souto  (PCA: -0.182, 0.939)\n",
      "    • SOUTO, FRANCISCO DE ASSIS COUTINHO  (PCA: -0.182, 0.939)\n"
     ]
    },
    {
     "data": {
      "application/vnd.plotly.v1+json": {
       "config": {
        "plotlyServerURL": "https://plot.ly"
       },
       "data": [
        {
         "hovertemplate": "%{text}",
         "legendgroup": "",
         "marker": {
          "color": "#636efa",
          "size": 10,
          "symbol": "circle"
         },
         "mode": "markers+text",
         "name": "",
         "orientation": "v",
         "showlegend": false,
         "text": [
          "Gilberto Farias de Sousa Filho",
          "SOUSA FILHO, G. F.",
          "FILHO, GILBERTO FARIAS DE SOUSA",
          "DE SOUSA FILHO, GILBERTO F.",
          "SOUSA FILHO, GILBERTO F.",
          "DE SOUSA FILHO, GILBERTO FARIAS",
          "SOUSA FILHO, GILBERTO FARIAS DE",
          "DE SOUSA, GILBERTO F.",
          "Giorgia de Oliveira Mattos",
          "MATTOS, GIORGIA",
          "OLIVEIRA MATTOS, GIORGIA",
          "O. MATTOS, GIORGIA",
          "MATTOS, GIORGIA O.",
          "MATTOS, GIORGIA DE OLIVEIRA",
          "Glêdson Elias da Silveira",
          "ELIAS, GLEDSON",
          "ELIAS, G.",
          "Gustavo Charles Peixoto de Oliveira",
          "OLIVEIRA, GUSTAVO CHARLES PEIXOTO DE",
          "OLIVEIRA, G. C. P.",
          "PEIXOTO DE OLIVEIRA, GUSTAVO CHARLES",
          "CHARLES PEIXOTO DE OLIVEIRA, GUSTAVO",
          "OLIVEIRA, G.",
          "OLIVEIRA, G. P.",
          "OLIVEIRA, GUSTAVO P.",
          "OLIVEIRA, G.P.",
          "OLIVEIRA, GUSTAVO CHARLES",
          "PEIXOTO DE OLIVEIRA, GUSTAVO",
          "Gustavo Henrique Matos Bezerra Motta",
          "GUSTAVO MOTTA",
          "MOTTA, GUSTAVO",
          "MOTTA, GUSTAVO H.M.B.",
          "MOTTA, GUSTAVO H. M. B.",
          "MOTTA, G. H. M. B.",
          "MATOS BEZERRA MOTTA, GUSTAVO HENRIQUE",
          "MOTTA, GUSTAVO HENRIQUE MATOS BEZERRA"
         ],
         "textposition": "top center",
         "type": "scatter",
         "x": {
          "bdata": "WsEaIfbn6T/tqoJEnjjlP1rBGiH25+k/CPlbhP4u6T+jtH+S5CfpP1zBGiH25+k/XsEaIfbn6T/t8JBmlgnlP32hsBzJmL2/3IMvrJVPnL87fYOCFbHKv9iDL6yVT5y/6oMvrJVPnL91obAcyZi9v4qSzsiF/Ks/C342r1kDrT8XG2MmYrStP4TfAl9bidO/hN8CX1uJ078+OJezKCLYv4TfAl9bidO/hN8CX1uJ0788OJezKCLYvzw4l7MoIti/GZ49KQfP3b8+OJezKCLYv0PzA91ubNq/Kkudg1vR0b+4PRx1fLzHvzHnj0Hi7tK/MeePQeLu0r8x549B4u7SvzHnj0Hi7tK/tuzarM+Gw7+6PRx1fLzHv7o9HHV8vMe/",
          "dtype": "f8"
         },
         "xaxis": "x",
         "y": {
          "bdata": "3VgiRix8dz9ruUSO5niqPwlYIkYsfHc/EOkO6jUWTb+c+2J/LFqqP21XIkYsfHc/CFgiRix8dz/3WWnXlfmPv2OI88Ui2OK/kA6Kh5vr278zPJzqkRXjv5QOioeb69u/kQ6Kh5vr279iiPPFItjivwp6hsCuM6k/kuuYM3dFqj+l8oHVxvqqP7j5VIBb072/uPlUgFvTvb/NZJDMRrHbv7j5VIBb072/uvlUgFvTvb/PZJDMRrHbv89kkMxGsdu/Qw96pQtWrb/PZJDMRrHbvyL34gTAvbC/YYuGDzrVvL/EUIClsubiP9+gDY8zyuY/36ANjzPK5j/goA2PM8rmP+CgDY8zyuY/TYp9cDA15D/FUIClsubiP8VQgKWy5uI/",
          "dtype": "f8"
         },
         "yaxis": "y"
        }
       ],
       "layout": {
        "legend": {
         "tracegroupgap": 0
        },
        "template": {
         "data": {
          "bar": [
           {
            "error_x": {
             "color": "#2a3f5f"
            },
            "error_y": {
             "color": "#2a3f5f"
            },
            "marker": {
             "line": {
              "color": "#E5ECF6",
              "width": 0.5
             },
             "pattern": {
              "fillmode": "overlay",
              "size": 10,
              "solidity": 0.2
             }
            },
            "type": "bar"
           }
          ],
          "barpolar": [
           {
            "marker": {
             "line": {
              "color": "#E5ECF6",
              "width": 0.5
             },
             "pattern": {
              "fillmode": "overlay",
              "size": 10,
              "solidity": 0.2
             }
            },
            "type": "barpolar"
           }
          ],
          "carpet": [
           {
            "aaxis": {
             "endlinecolor": "#2a3f5f",
             "gridcolor": "white",
             "linecolor": "white",
             "minorgridcolor": "white",
             "startlinecolor": "#2a3f5f"
            },
            "baxis": {
             "endlinecolor": "#2a3f5f",
             "gridcolor": "white",
             "linecolor": "white",
             "minorgridcolor": "white",
             "startlinecolor": "#2a3f5f"
            },
            "type": "carpet"
           }
          ],
          "choropleth": [
           {
            "colorbar": {
             "outlinewidth": 0,
             "ticks": ""
            },
            "type": "choropleth"
           }
          ],
          "contour": [
           {
            "colorbar": {
             "outlinewidth": 0,
             "ticks": ""
            },
            "colorscale": [
             [
              0,
              "#0d0887"
             ],
             [
              0.1111111111111111,
              "#46039f"
             ],
             [
              0.2222222222222222,
              "#7201a8"
             ],
             [
              0.3333333333333333,
              "#9c179e"
             ],
             [
              0.4444444444444444,
              "#bd3786"
             ],
             [
              0.5555555555555556,
              "#d8576b"
             ],
             [
              0.6666666666666666,
              "#ed7953"
             ],
             [
              0.7777777777777778,
              "#fb9f3a"
             ],
             [
              0.8888888888888888,
              "#fdca26"
             ],
             [
              1,
              "#f0f921"
             ]
            ],
            "type": "contour"
           }
          ],
          "contourcarpet": [
           {
            "colorbar": {
             "outlinewidth": 0,
             "ticks": ""
            },
            "type": "contourcarpet"
           }
          ],
          "heatmap": [
           {
            "colorbar": {
             "outlinewidth": 0,
             "ticks": ""
            },
            "colorscale": [
             [
              0,
              "#0d0887"
             ],
             [
              0.1111111111111111,
              "#46039f"
             ],
             [
              0.2222222222222222,
              "#7201a8"
             ],
             [
              0.3333333333333333,
              "#9c179e"
             ],
             [
              0.4444444444444444,
              "#bd3786"
             ],
             [
              0.5555555555555556,
              "#d8576b"
             ],
             [
              0.6666666666666666,
              "#ed7953"
             ],
             [
              0.7777777777777778,
              "#fb9f3a"
             ],
             [
              0.8888888888888888,
              "#fdca26"
             ],
             [
              1,
              "#f0f921"
             ]
            ],
            "type": "heatmap"
           }
          ],
          "histogram": [
           {
            "marker": {
             "pattern": {
              "fillmode": "overlay",
              "size": 10,
              "solidity": 0.2
             }
            },
            "type": "histogram"
           }
          ],
          "histogram2d": [
           {
            "colorbar": {
             "outlinewidth": 0,
             "ticks": ""
            },
            "colorscale": [
             [
              0,
              "#0d0887"
             ],
             [
              0.1111111111111111,
              "#46039f"
             ],
             [
              0.2222222222222222,
              "#7201a8"
             ],
             [
              0.3333333333333333,
              "#9c179e"
             ],
             [
              0.4444444444444444,
              "#bd3786"
             ],
             [
              0.5555555555555556,
              "#d8576b"
             ],
             [
              0.6666666666666666,
              "#ed7953"
             ],
             [
              0.7777777777777778,
              "#fb9f3a"
             ],
             [
              0.8888888888888888,
              "#fdca26"
             ],
             [
              1,
              "#f0f921"
             ]
            ],
            "type": "histogram2d"
           }
          ],
          "histogram2dcontour": [
           {
            "colorbar": {
             "outlinewidth": 0,
             "ticks": ""
            },
            "colorscale": [
             [
              0,
              "#0d0887"
             ],
             [
              0.1111111111111111,
              "#46039f"
             ],
             [
              0.2222222222222222,
              "#7201a8"
             ],
             [
              0.3333333333333333,
              "#9c179e"
             ],
             [
              0.4444444444444444,
              "#bd3786"
             ],
             [
              0.5555555555555556,
              "#d8576b"
             ],
             [
              0.6666666666666666,
              "#ed7953"
             ],
             [
              0.7777777777777778,
              "#fb9f3a"
             ],
             [
              0.8888888888888888,
              "#fdca26"
             ],
             [
              1,
              "#f0f921"
             ]
            ],
            "type": "histogram2dcontour"
           }
          ],
          "mesh3d": [
           {
            "colorbar": {
             "outlinewidth": 0,
             "ticks": ""
            },
            "type": "mesh3d"
           }
          ],
          "parcoords": [
           {
            "line": {
             "colorbar": {
              "outlinewidth": 0,
              "ticks": ""
             }
            },
            "type": "parcoords"
           }
          ],
          "pie": [
           {
            "automargin": true,
            "type": "pie"
           }
          ],
          "scatter": [
           {
            "fillpattern": {
             "fillmode": "overlay",
             "size": 10,
             "solidity": 0.2
            },
            "type": "scatter"
           }
          ],
          "scatter3d": [
           {
            "line": {
             "colorbar": {
              "outlinewidth": 0,
              "ticks": ""
             }
            },
            "marker": {
             "colorbar": {
              "outlinewidth": 0,
              "ticks": ""
             }
            },
            "type": "scatter3d"
           }
          ],
          "scattercarpet": [
           {
            "marker": {
             "colorbar": {
              "outlinewidth": 0,
              "ticks": ""
             }
            },
            "type": "scattercarpet"
           }
          ],
          "scattergeo": [
           {
            "marker": {
             "colorbar": {
              "outlinewidth": 0,
              "ticks": ""
             }
            },
            "type": "scattergeo"
           }
          ],
          "scattergl": [
           {
            "marker": {
             "colorbar": {
              "outlinewidth": 0,
              "ticks": ""
             }
            },
            "type": "scattergl"
           }
          ],
          "scattermap": [
           {
            "marker": {
             "colorbar": {
              "outlinewidth": 0,
              "ticks": ""
             }
            },
            "type": "scattermap"
           }
          ],
          "scattermapbox": [
           {
            "marker": {
             "colorbar": {
              "outlinewidth": 0,
              "ticks": ""
             }
            },
            "type": "scattermapbox"
           }
          ],
          "scatterpolar": [
           {
            "marker": {
             "colorbar": {
              "outlinewidth": 0,
              "ticks": ""
             }
            },
            "type": "scatterpolar"
           }
          ],
          "scatterpolargl": [
           {
            "marker": {
             "colorbar": {
              "outlinewidth": 0,
              "ticks": ""
             }
            },
            "type": "scatterpolargl"
           }
          ],
          "scatterternary": [
           {
            "marker": {
             "colorbar": {
              "outlinewidth": 0,
              "ticks": ""
             }
            },
            "type": "scatterternary"
           }
          ],
          "surface": [
           {
            "colorbar": {
             "outlinewidth": 0,
             "ticks": ""
            },
            "colorscale": [
             [
              0,
              "#0d0887"
             ],
             [
              0.1111111111111111,
              "#46039f"
             ],
             [
              0.2222222222222222,
              "#7201a8"
             ],
             [
              0.3333333333333333,
              "#9c179e"
             ],
             [
              0.4444444444444444,
              "#bd3786"
             ],
             [
              0.5555555555555556,
              "#d8576b"
             ],
             [
              0.6666666666666666,
              "#ed7953"
             ],
             [
              0.7777777777777778,
              "#fb9f3a"
             ],
             [
              0.8888888888888888,
              "#fdca26"
             ],
             [
              1,
              "#f0f921"
             ]
            ],
            "type": "surface"
           }
          ],
          "table": [
           {
            "cells": {
             "fill": {
              "color": "#EBF0F8"
             },
             "line": {
              "color": "white"
             }
            },
            "header": {
             "fill": {
              "color": "#C8D4E3"
             },
             "line": {
              "color": "white"
             }
            },
            "type": "table"
           }
          ]
         },
         "layout": {
          "annotationdefaults": {
           "arrowcolor": "#2a3f5f",
           "arrowhead": 0,
           "arrowwidth": 1
          },
          "autotypenumbers": "strict",
          "coloraxis": {
           "colorbar": {
            "outlinewidth": 0,
            "ticks": ""
           }
          },
          "colorscale": {
           "diverging": [
            [
             0,
             "#8e0152"
            ],
            [
             0.1,
             "#c51b7d"
            ],
            [
             0.2,
             "#de77ae"
            ],
            [
             0.3,
             "#f1b6da"
            ],
            [
             0.4,
             "#fde0ef"
            ],
            [
             0.5,
             "#f7f7f7"
            ],
            [
             0.6,
             "#e6f5d0"
            ],
            [
             0.7,
             "#b8e186"
            ],
            [
             0.8,
             "#7fbc41"
            ],
            [
             0.9,
             "#4d9221"
            ],
            [
             1,
             "#276419"
            ]
           ],
           "sequential": [
            [
             0,
             "#0d0887"
            ],
            [
             0.1111111111111111,
             "#46039f"
            ],
            [
             0.2222222222222222,
             "#7201a8"
            ],
            [
             0.3333333333333333,
             "#9c179e"
            ],
            [
             0.4444444444444444,
             "#bd3786"
            ],
            [
             0.5555555555555556,
             "#d8576b"
            ],
            [
             0.6666666666666666,
             "#ed7953"
            ],
            [
             0.7777777777777778,
             "#fb9f3a"
            ],
            [
             0.8888888888888888,
             "#fdca26"
            ],
            [
             1,
             "#f0f921"
            ]
           ],
           "sequentialminus": [
            [
             0,
             "#0d0887"
            ],
            [
             0.1111111111111111,
             "#46039f"
            ],
            [
             0.2222222222222222,
             "#7201a8"
            ],
            [
             0.3333333333333333,
             "#9c179e"
            ],
            [
             0.4444444444444444,
             "#bd3786"
            ],
            [
             0.5555555555555556,
             "#d8576b"
            ],
            [
             0.6666666666666666,
             "#ed7953"
            ],
            [
             0.7777777777777778,
             "#fb9f3a"
            ],
            [
             0.8888888888888888,
             "#fdca26"
            ],
            [
             1,
             "#f0f921"
            ]
           ]
          },
          "colorway": [
           "#636efa",
           "#EF553B",
           "#00cc96",
           "#ab63fa",
           "#FFA15A",
           "#19d3f3",
           "#FF6692",
           "#B6E880",
           "#FF97FF",
           "#FECB52"
          ],
          "font": {
           "color": "#2a3f5f"
          },
          "geo": {
           "bgcolor": "white",
           "lakecolor": "white",
           "landcolor": "#E5ECF6",
           "showlakes": true,
           "showland": true,
           "subunitcolor": "white"
          },
          "hoverlabel": {
           "align": "left"
          },
          "hovermode": "closest",
          "mapbox": {
           "style": "light"
          },
          "paper_bgcolor": "white",
          "plot_bgcolor": "#E5ECF6",
          "polar": {
           "angularaxis": {
            "gridcolor": "white",
            "linecolor": "white",
            "ticks": ""
           },
           "bgcolor": "#E5ECF6",
           "radialaxis": {
            "gridcolor": "white",
            "linecolor": "white",
            "ticks": ""
           }
          },
          "scene": {
           "xaxis": {
            "backgroundcolor": "#E5ECF6",
            "gridcolor": "white",
            "gridwidth": 2,
            "linecolor": "white",
            "showbackground": true,
            "ticks": "",
            "zerolinecolor": "white"
           },
           "yaxis": {
            "backgroundcolor": "#E5ECF6",
            "gridcolor": "white",
            "gridwidth": 2,
            "linecolor": "white",
            "showbackground": true,
            "ticks": "",
            "zerolinecolor": "white"
           },
           "zaxis": {
            "backgroundcolor": "#E5ECF6",
            "gridcolor": "white",
            "gridwidth": 2,
            "linecolor": "white",
            "showbackground": true,
            "ticks": "",
            "zerolinecolor": "white"
           }
          },
          "shapedefaults": {
           "line": {
            "color": "#2a3f5f"
           }
          },
          "ternary": {
           "aaxis": {
            "gridcolor": "white",
            "linecolor": "white",
            "ticks": ""
           },
           "baxis": {
            "gridcolor": "white",
            "linecolor": "white",
            "ticks": ""
           },
           "bgcolor": "#E5ECF6",
           "caxis": {
            "gridcolor": "white",
            "linecolor": "white",
            "ticks": ""
           }
          },
          "title": {
           "x": 0.05
          },
          "xaxis": {
           "automargin": true,
           "gridcolor": "white",
           "linecolor": "white",
           "ticks": "",
           "title": {
            "standoff": 15
           },
           "zerolinecolor": "white",
           "zerolinewidth": 2
          },
          "yaxis": {
           "automargin": true,
           "gridcolor": "white",
           "linecolor": "white",
           "ticks": "",
           "title": {
            "standoff": 15
           },
           "zerolinecolor": "white",
           "zerolinewidth": 2
          }
         }
        },
        "title": {
         "text": "Localização dos nomes de citação - Professores com 'G'"
        },
        "xaxis": {
         "anchor": "y",
         "domain": [
          0,
          1
         ],
         "title": {
          "text": "PCA 1"
         }
        },
        "yaxis": {
         "anchor": "x",
         "domain": [
          0,
          1
         ],
         "title": {
          "text": "PCA 2"
         }
        }
       }
      }
     },
     "metadata": {},
     "output_type": "display_data"
    },
    {
     "name": "stdout",
     "output_type": "stream",
     "text": [
      "\n",
      "Professores e nomes de citação do grupo 'G':\n",
      "- Gilberto Farias de Sousa Filho  (PCA: 0.810, 0.006)\n",
      "    • SOUSA FILHO, G. F.  (PCA: 0.663, 0.052)\n",
      "    • FILHO, GILBERTO FARIAS DE SOUSA  (PCA: 0.810, 0.006)\n",
      "    • DE SOUSA FILHO, GILBERTO F.  (PCA: 0.787, -0.001)\n",
      "    • SOUSA FILHO, GILBERTO F.  (PCA: 0.786, 0.051)\n",
      "    • DE SOUSA FILHO, GILBERTO FARIAS  (PCA: 0.810, 0.006)\n",
      "    • SOUSA FILHO, GILBERTO FARIAS DE  (PCA: 0.810, 0.006)\n",
      "    • DE SOUSA, GILBERTO F.  (PCA: 0.657, -0.016)\n",
      "- Giorgia de Oliveira Mattos  (PCA: -0.116, -0.589)\n",
      "    • MATTOS, GIORGIA  (PCA: -0.028, -0.436)\n",
      "    • OLIVEIRA MATTOS, GIORGIA  (PCA: -0.209, -0.596)\n",
      "    • O. MATTOS, GIORGIA  (PCA: -0.028, -0.436)\n",
      "    • MATTOS, GIORGIA O.  (PCA: -0.028, -0.436)\n",
      "    • MATTOS, GIORGIA DE OLIVEIRA  (PCA: -0.116, -0.589)\n",
      "- Glêdson Elias da Silveira  (PCA: 0.055, 0.049)\n",
      "    • ELIAS, GLEDSON  (PCA: 0.057, 0.051)\n",
      "    • ELIAS, G.  (PCA: 0.058, 0.053)\n",
      "- Gustavo Charles Peixoto de Oliveira  (PCA: -0.305, -0.117)\n",
      "    • OLIVEIRA, GUSTAVO CHARLES PEIXOTO DE  (PCA: -0.305, -0.117)\n",
      "    • OLIVEIRA, G. C. P.  (PCA: -0.377, -0.433)\n",
      "    • PEIXOTO DE OLIVEIRA, GUSTAVO CHARLES  (PCA: -0.305, -0.117)\n",
      "    • CHARLES PEIXOTO DE OLIVEIRA, GUSTAVO  (PCA: -0.305, -0.117)\n",
      "    • OLIVEIRA, G.  (PCA: -0.377, -0.433)\n",
      "    • OLIVEIRA, G. P.  (PCA: -0.377, -0.433)\n",
      "    • OLIVEIRA, GUSTAVO P.  (PCA: -0.466, -0.057)\n",
      "    • OLIVEIRA, G.P.  (PCA: -0.377, -0.433)\n",
      "    • OLIVEIRA, GUSTAVO CHARLES  (PCA: -0.413, -0.065)\n",
      "    • PEIXOTO DE OLIVEIRA, GUSTAVO  (PCA: -0.278, -0.113)\n",
      "- Gustavo Henrique Matos Bezerra Motta  (PCA: -0.185, 0.591)\n",
      "    • GUSTAVO MOTTA  (PCA: -0.296, 0.712)\n",
      "    • MOTTA, GUSTAVO  (PCA: -0.296, 0.712)\n",
      "    • MOTTA, GUSTAVO H.M.B.  (PCA: -0.296, 0.712)\n",
      "    • MOTTA, GUSTAVO H. M. B.  (PCA: -0.296, 0.712)\n",
      "    • MOTTA, G. H. M. B.  (PCA: -0.153, 0.631)\n",
      "    • MATOS BEZERRA MOTTA, GUSTAVO HENRIQUE  (PCA: -0.185, 0.591)\n",
      "    • MOTTA, GUSTAVO HENRIQUE MATOS BEZERRA  (PCA: -0.185, 0.591)\n"
     ]
    },
    {
     "data": {
      "application/vnd.plotly.v1+json": {
       "config": {
        "plotlyServerURL": "https://plot.ly"
       },
       "data": [
        {
         "hovertemplate": "%{text}",
         "legendgroup": "",
         "marker": {
          "color": "#636efa",
          "size": 10,
          "symbol": "circle"
         },
         "mode": "markers+text",
         "name": "",
         "orientation": "v",
         "showlegend": false,
         "text": [
          "Hamilton Soares da Silva",
          "SILVA, H. S.",
          "Henrique Thadeu Baltar de Medeiros Cabral Moraes",
          "BALTAR, HTMCM",
          "MCM BALTAR, HENRIQUE THADEU",
          "C. M. BALTAR, HENRIQUE T. M.",
          "BALTAR, H. T. M. C. M.",
          "BALTAR, HENRIQUE THADEU M.C.M.",
          "BALTAR, HENRIQUE T.M.C.M.",
          "BALTAR, HENRIQUE T. M. C. M.",
          "Hugo Leonardo Davi de Souza Cavalcante",
          "CAVALCANTE, HUGO L. D. DE S.",
          "CAVALCANTE, HUGO L. D. DE SOUZA",
          "DE S.CAVALCANTE, HUGO L. D.",
          "S. CAVALCANTE, H",
          "CAVALCANTE, H. L. D. DE S.",
          "CAVALCANTE, H. L. D. D. S.",
          "DE S. CAVALCANTE, HUGO",
          "DE S. CAVALCANTE, HUGO L.D.",
          "DE S. CAVALCANTE, HUGO",
          "DE SOUZA CAVALCANTE, HUGO L. D.",
          "DESCAVALCANTE, H",
          "CAVALCANTE, HUGO",
          "CAVALCANTE, HUGO L.D. DE S.",
          "CAVALCANTE L. D., HUGO",
          "CAVALCANTE, H. L. D. D.",
          "DE&NBSP",
          "CAVALCANTE, HUGO L D DE S",
          "DE S. CAVALCANTE, HUGO L. D.",
          "L. D. CAVALCANTE, HUGO",
          "S.&NBSP",
          "L. D. CAVALVANTE, HUGO"
         ],
         "textposition": "top center",
         "type": "scatter",
         "x": {
          "bdata": "hhNc3zOM1b+GE1zfM4zVvys52vbxjuC/1q7zhdep4b9AEdyL6T7mv6+FPqfpWOq/Ytodog3H5r/4sTW1J7vov6+FPqfpWOq/r4U+p+lY6r9Qdg01GYW4PwTjFhCUT+A/SPog9qDC0z8E4xYQlE/gPzLP1Yuw0dE/dkbkgXov1z8yz9WLsNHRPwTjFhCUT+A/BOMWEJRP4D8E4xYQlE/gP0j6IPagwtM/4skNAXoc1L9PE++b3eHbPwTjFhCUT+A/TxPvm93h2z8yz9WLsNHRP1iEFTGpSsS/BOMWEJRP4D8E4xYQlE/gP08T75vd4ds/f67nb7Zq1b8zhu8B2264vw==",
          "dtype": "f8"
         },
         "xaxis": "x",
         "y": {
          "bdata": "ugVPkAjs4D+5BU+QCOzgP9eE68pvn7O/s8tHO3zCgT/MIzM8Z0LKv/j3ikUIide/eZDnIGXoyr+y2/4yi+TSv/j3ikUIide/+PeKRQiJ17+8jGKj13HGP5dF0Uzc97O/wLoOZK1rsj+XRdFM3PezvyD4mO9XIcK/rJkgcQ+yF78g+JjvVyHCv5lF0Uzc97O/mUXRTNz3s7+ZRdFM3Pezv8C6DmSta7I/Dxd/6V142D9UE2VrdwLGv5lF0Uzc97O/VBNla3cCxr8g+JjvVyHCv3YYsWn5nOY/mUXRTNz3s7+ZRdFM3Pezv1ITZWt3Asa/j3Z/409T6D+Q/p56zzvMPw==",
          "dtype": "f8"
         },
         "yaxis": "y"
        }
       ],
       "layout": {
        "legend": {
         "tracegroupgap": 0
        },
        "template": {
         "data": {
          "bar": [
           {
            "error_x": {
             "color": "#2a3f5f"
            },
            "error_y": {
             "color": "#2a3f5f"
            },
            "marker": {
             "line": {
              "color": "#E5ECF6",
              "width": 0.5
             },
             "pattern": {
              "fillmode": "overlay",
              "size": 10,
              "solidity": 0.2
             }
            },
            "type": "bar"
           }
          ],
          "barpolar": [
           {
            "marker": {
             "line": {
              "color": "#E5ECF6",
              "width": 0.5
             },
             "pattern": {
              "fillmode": "overlay",
              "size": 10,
              "solidity": 0.2
             }
            },
            "type": "barpolar"
           }
          ],
          "carpet": [
           {
            "aaxis": {
             "endlinecolor": "#2a3f5f",
             "gridcolor": "white",
             "linecolor": "white",
             "minorgridcolor": "white",
             "startlinecolor": "#2a3f5f"
            },
            "baxis": {
             "endlinecolor": "#2a3f5f",
             "gridcolor": "white",
             "linecolor": "white",
             "minorgridcolor": "white",
             "startlinecolor": "#2a3f5f"
            },
            "type": "carpet"
           }
          ],
          "choropleth": [
           {
            "colorbar": {
             "outlinewidth": 0,
             "ticks": ""
            },
            "type": "choropleth"
           }
          ],
          "contour": [
           {
            "colorbar": {
             "outlinewidth": 0,
             "ticks": ""
            },
            "colorscale": [
             [
              0,
              "#0d0887"
             ],
             [
              0.1111111111111111,
              "#46039f"
             ],
             [
              0.2222222222222222,
              "#7201a8"
             ],
             [
              0.3333333333333333,
              "#9c179e"
             ],
             [
              0.4444444444444444,
              "#bd3786"
             ],
             [
              0.5555555555555556,
              "#d8576b"
             ],
             [
              0.6666666666666666,
              "#ed7953"
             ],
             [
              0.7777777777777778,
              "#fb9f3a"
             ],
             [
              0.8888888888888888,
              "#fdca26"
             ],
             [
              1,
              "#f0f921"
             ]
            ],
            "type": "contour"
           }
          ],
          "contourcarpet": [
           {
            "colorbar": {
             "outlinewidth": 0,
             "ticks": ""
            },
            "type": "contourcarpet"
           }
          ],
          "heatmap": [
           {
            "colorbar": {
             "outlinewidth": 0,
             "ticks": ""
            },
            "colorscale": [
             [
              0,
              "#0d0887"
             ],
             [
              0.1111111111111111,
              "#46039f"
             ],
             [
              0.2222222222222222,
              "#7201a8"
             ],
             [
              0.3333333333333333,
              "#9c179e"
             ],
             [
              0.4444444444444444,
              "#bd3786"
             ],
             [
              0.5555555555555556,
              "#d8576b"
             ],
             [
              0.6666666666666666,
              "#ed7953"
             ],
             [
              0.7777777777777778,
              "#fb9f3a"
             ],
             [
              0.8888888888888888,
              "#fdca26"
             ],
             [
              1,
              "#f0f921"
             ]
            ],
            "type": "heatmap"
           }
          ],
          "histogram": [
           {
            "marker": {
             "pattern": {
              "fillmode": "overlay",
              "size": 10,
              "solidity": 0.2
             }
            },
            "type": "histogram"
           }
          ],
          "histogram2d": [
           {
            "colorbar": {
             "outlinewidth": 0,
             "ticks": ""
            },
            "colorscale": [
             [
              0,
              "#0d0887"
             ],
             [
              0.1111111111111111,
              "#46039f"
             ],
             [
              0.2222222222222222,
              "#7201a8"
             ],
             [
              0.3333333333333333,
              "#9c179e"
             ],
             [
              0.4444444444444444,
              "#bd3786"
             ],
             [
              0.5555555555555556,
              "#d8576b"
             ],
             [
              0.6666666666666666,
              "#ed7953"
             ],
             [
              0.7777777777777778,
              "#fb9f3a"
             ],
             [
              0.8888888888888888,
              "#fdca26"
             ],
             [
              1,
              "#f0f921"
             ]
            ],
            "type": "histogram2d"
           }
          ],
          "histogram2dcontour": [
           {
            "colorbar": {
             "outlinewidth": 0,
             "ticks": ""
            },
            "colorscale": [
             [
              0,
              "#0d0887"
             ],
             [
              0.1111111111111111,
              "#46039f"
             ],
             [
              0.2222222222222222,
              "#7201a8"
             ],
             [
              0.3333333333333333,
              "#9c179e"
             ],
             [
              0.4444444444444444,
              "#bd3786"
             ],
             [
              0.5555555555555556,
              "#d8576b"
             ],
             [
              0.6666666666666666,
              "#ed7953"
             ],
             [
              0.7777777777777778,
              "#fb9f3a"
             ],
             [
              0.8888888888888888,
              "#fdca26"
             ],
             [
              1,
              "#f0f921"
             ]
            ],
            "type": "histogram2dcontour"
           }
          ],
          "mesh3d": [
           {
            "colorbar": {
             "outlinewidth": 0,
             "ticks": ""
            },
            "type": "mesh3d"
           }
          ],
          "parcoords": [
           {
            "line": {
             "colorbar": {
              "outlinewidth": 0,
              "ticks": ""
             }
            },
            "type": "parcoords"
           }
          ],
          "pie": [
           {
            "automargin": true,
            "type": "pie"
           }
          ],
          "scatter": [
           {
            "fillpattern": {
             "fillmode": "overlay",
             "size": 10,
             "solidity": 0.2
            },
            "type": "scatter"
           }
          ],
          "scatter3d": [
           {
            "line": {
             "colorbar": {
              "outlinewidth": 0,
              "ticks": ""
             }
            },
            "marker": {
             "colorbar": {
              "outlinewidth": 0,
              "ticks": ""
             }
            },
            "type": "scatter3d"
           }
          ],
          "scattercarpet": [
           {
            "marker": {
             "colorbar": {
              "outlinewidth": 0,
              "ticks": ""
             }
            },
            "type": "scattercarpet"
           }
          ],
          "scattergeo": [
           {
            "marker": {
             "colorbar": {
              "outlinewidth": 0,
              "ticks": ""
             }
            },
            "type": "scattergeo"
           }
          ],
          "scattergl": [
           {
            "marker": {
             "colorbar": {
              "outlinewidth": 0,
              "ticks": ""
             }
            },
            "type": "scattergl"
           }
          ],
          "scattermap": [
           {
            "marker": {
             "colorbar": {
              "outlinewidth": 0,
              "ticks": ""
             }
            },
            "type": "scattermap"
           }
          ],
          "scattermapbox": [
           {
            "marker": {
             "colorbar": {
              "outlinewidth": 0,
              "ticks": ""
             }
            },
            "type": "scattermapbox"
           }
          ],
          "scatterpolar": [
           {
            "marker": {
             "colorbar": {
              "outlinewidth": 0,
              "ticks": ""
             }
            },
            "type": "scatterpolar"
           }
          ],
          "scatterpolargl": [
           {
            "marker": {
             "colorbar": {
              "outlinewidth": 0,
              "ticks": ""
             }
            },
            "type": "scatterpolargl"
           }
          ],
          "scatterternary": [
           {
            "marker": {
             "colorbar": {
              "outlinewidth": 0,
              "ticks": ""
             }
            },
            "type": "scatterternary"
           }
          ],
          "surface": [
           {
            "colorbar": {
             "outlinewidth": 0,
             "ticks": ""
            },
            "colorscale": [
             [
              0,
              "#0d0887"
             ],
             [
              0.1111111111111111,
              "#46039f"
             ],
             [
              0.2222222222222222,
              "#7201a8"
             ],
             [
              0.3333333333333333,
              "#9c179e"
             ],
             [
              0.4444444444444444,
              "#bd3786"
             ],
             [
              0.5555555555555556,
              "#d8576b"
             ],
             [
              0.6666666666666666,
              "#ed7953"
             ],
             [
              0.7777777777777778,
              "#fb9f3a"
             ],
             [
              0.8888888888888888,
              "#fdca26"
             ],
             [
              1,
              "#f0f921"
             ]
            ],
            "type": "surface"
           }
          ],
          "table": [
           {
            "cells": {
             "fill": {
              "color": "#EBF0F8"
             },
             "line": {
              "color": "white"
             }
            },
            "header": {
             "fill": {
              "color": "#C8D4E3"
             },
             "line": {
              "color": "white"
             }
            },
            "type": "table"
           }
          ]
         },
         "layout": {
          "annotationdefaults": {
           "arrowcolor": "#2a3f5f",
           "arrowhead": 0,
           "arrowwidth": 1
          },
          "autotypenumbers": "strict",
          "coloraxis": {
           "colorbar": {
            "outlinewidth": 0,
            "ticks": ""
           }
          },
          "colorscale": {
           "diverging": [
            [
             0,
             "#8e0152"
            ],
            [
             0.1,
             "#c51b7d"
            ],
            [
             0.2,
             "#de77ae"
            ],
            [
             0.3,
             "#f1b6da"
            ],
            [
             0.4,
             "#fde0ef"
            ],
            [
             0.5,
             "#f7f7f7"
            ],
            [
             0.6,
             "#e6f5d0"
            ],
            [
             0.7,
             "#b8e186"
            ],
            [
             0.8,
             "#7fbc41"
            ],
            [
             0.9,
             "#4d9221"
            ],
            [
             1,
             "#276419"
            ]
           ],
           "sequential": [
            [
             0,
             "#0d0887"
            ],
            [
             0.1111111111111111,
             "#46039f"
            ],
            [
             0.2222222222222222,
             "#7201a8"
            ],
            [
             0.3333333333333333,
             "#9c179e"
            ],
            [
             0.4444444444444444,
             "#bd3786"
            ],
            [
             0.5555555555555556,
             "#d8576b"
            ],
            [
             0.6666666666666666,
             "#ed7953"
            ],
            [
             0.7777777777777778,
             "#fb9f3a"
            ],
            [
             0.8888888888888888,
             "#fdca26"
            ],
            [
             1,
             "#f0f921"
            ]
           ],
           "sequentialminus": [
            [
             0,
             "#0d0887"
            ],
            [
             0.1111111111111111,
             "#46039f"
            ],
            [
             0.2222222222222222,
             "#7201a8"
            ],
            [
             0.3333333333333333,
             "#9c179e"
            ],
            [
             0.4444444444444444,
             "#bd3786"
            ],
            [
             0.5555555555555556,
             "#d8576b"
            ],
            [
             0.6666666666666666,
             "#ed7953"
            ],
            [
             0.7777777777777778,
             "#fb9f3a"
            ],
            [
             0.8888888888888888,
             "#fdca26"
            ],
            [
             1,
             "#f0f921"
            ]
           ]
          },
          "colorway": [
           "#636efa",
           "#EF553B",
           "#00cc96",
           "#ab63fa",
           "#FFA15A",
           "#19d3f3",
           "#FF6692",
           "#B6E880",
           "#FF97FF",
           "#FECB52"
          ],
          "font": {
           "color": "#2a3f5f"
          },
          "geo": {
           "bgcolor": "white",
           "lakecolor": "white",
           "landcolor": "#E5ECF6",
           "showlakes": true,
           "showland": true,
           "subunitcolor": "white"
          },
          "hoverlabel": {
           "align": "left"
          },
          "hovermode": "closest",
          "mapbox": {
           "style": "light"
          },
          "paper_bgcolor": "white",
          "plot_bgcolor": "#E5ECF6",
          "polar": {
           "angularaxis": {
            "gridcolor": "white",
            "linecolor": "white",
            "ticks": ""
           },
           "bgcolor": "#E5ECF6",
           "radialaxis": {
            "gridcolor": "white",
            "linecolor": "white",
            "ticks": ""
           }
          },
          "scene": {
           "xaxis": {
            "backgroundcolor": "#E5ECF6",
            "gridcolor": "white",
            "gridwidth": 2,
            "linecolor": "white",
            "showbackground": true,
            "ticks": "",
            "zerolinecolor": "white"
           },
           "yaxis": {
            "backgroundcolor": "#E5ECF6",
            "gridcolor": "white",
            "gridwidth": 2,
            "linecolor": "white",
            "showbackground": true,
            "ticks": "",
            "zerolinecolor": "white"
           },
           "zaxis": {
            "backgroundcolor": "#E5ECF6",
            "gridcolor": "white",
            "gridwidth": 2,
            "linecolor": "white",
            "showbackground": true,
            "ticks": "",
            "zerolinecolor": "white"
           }
          },
          "shapedefaults": {
           "line": {
            "color": "#2a3f5f"
           }
          },
          "ternary": {
           "aaxis": {
            "gridcolor": "white",
            "linecolor": "white",
            "ticks": ""
           },
           "baxis": {
            "gridcolor": "white",
            "linecolor": "white",
            "ticks": ""
           },
           "bgcolor": "#E5ECF6",
           "caxis": {
            "gridcolor": "white",
            "linecolor": "white",
            "ticks": ""
           }
          },
          "title": {
           "x": 0.05
          },
          "xaxis": {
           "automargin": true,
           "gridcolor": "white",
           "linecolor": "white",
           "ticks": "",
           "title": {
            "standoff": 15
           },
           "zerolinecolor": "white",
           "zerolinewidth": 2
          },
          "yaxis": {
           "automargin": true,
           "gridcolor": "white",
           "linecolor": "white",
           "ticks": "",
           "title": {
            "standoff": 15
           },
           "zerolinecolor": "white",
           "zerolinewidth": 2
          }
         }
        },
        "title": {
         "text": "Localização dos nomes de citação - Professores com 'H'"
        },
        "xaxis": {
         "anchor": "y",
         "domain": [
          0,
          1
         ],
         "title": {
          "text": "PCA 1"
         }
        },
        "yaxis": {
         "anchor": "x",
         "domain": [
          0,
          1
         ],
         "title": {
          "text": "PCA 2"
         }
        }
       }
      }
     },
     "metadata": {},
     "output_type": "display_data"
    },
    {
     "name": "stdout",
     "output_type": "stream",
     "text": [
      "\n",
      "Professores e nomes de citação do grupo 'H':\n",
      "- Hamilton Soares da Silva  (PCA: -0.337, 0.529)\n",
      "    • SILVA, H. S.  (PCA: -0.337, 0.529)\n",
      "- Henrique Thadeu Baltar de Medeiros Cabral Moraes  (PCA: -0.517, -0.077)\n",
      "    • BALTAR, HTMCM  (PCA: -0.552, 0.009)\n",
      "    • MCM BALTAR, HENRIQUE THADEU  (PCA: -0.695, -0.205)\n",
      "    • C. M. BALTAR, HENRIQUE T. M.  (PCA: -0.823, -0.368)\n",
      "    • BALTAR, H. T. M. C. M.  (PCA: -0.712, -0.210)\n",
      "    • BALTAR, HENRIQUE THADEU M.C.M.  (PCA: -0.773, -0.295)\n",
      "    • BALTAR, HENRIQUE T.M.C.M.  (PCA: -0.823, -0.368)\n",
      "    • BALTAR, HENRIQUE T. M. C. M.  (PCA: -0.823, -0.368)\n",
      "- Hugo Leonardo Davi de Souza Cavalcante  (PCA: 0.096, 0.175)\n",
      "    • CAVALCANTE, HUGO L. D. DE S.  (PCA: 0.510, -0.078)\n",
      "    • CAVALCANTE, HUGO L. D. DE SOUZA  (PCA: 0.309, 0.072)\n",
      "    • DE S.CAVALCANTE, HUGO L. D.  (PCA: 0.510, -0.078)\n",
      "    • S. CAVALCANTE, H  (PCA: 0.278, -0.142)\n",
      "    • CAVALCANTE, H. L. D. DE S.  (PCA: 0.362, -0.000)\n",
      "    • CAVALCANTE, H. L. D. D. S.  (PCA: 0.278, -0.142)\n",
      "    • DE S. CAVALCANTE, HUGO  (PCA: 0.510, -0.078)\n",
      "    • DE S. CAVALCANTE, HUGO L.D.  (PCA: 0.510, -0.078)\n",
      "    • DE S. CAVALCANTE, HUGO  (PCA: 0.510, -0.078)\n",
      "    • DE SOUZA CAVALCANTE, HUGO L. D.  (PCA: 0.309, 0.072)\n",
      "    • DESCAVALCANTE, H  (PCA: -0.314, 0.382)\n",
      "    • CAVALCANTE, HUGO  (PCA: 0.436, -0.172)\n",
      "    • CAVALCANTE, HUGO L.D. DE S.  (PCA: 0.510, -0.078)\n",
      "    • CAVALCANTE L. D., HUGO  (PCA: 0.436, -0.172)\n",
      "    • CAVALCANTE, H. L. D. D.  (PCA: 0.278, -0.142)\n",
      "    • DE&NBSP  (PCA: -0.159, 0.707)\n",
      "    • CAVALCANTE, HUGO L D DE S  (PCA: 0.510, -0.078)\n",
      "    • DE S. CAVALCANTE, HUGO L. D.  (PCA: 0.510, -0.078)\n",
      "    • L. D. CAVALCANTE, HUGO  (PCA: 0.436, -0.172)\n",
      "    • S.&NBSP  (PCA: -0.335, 0.760)\n",
      "    • L. D. CAVALVANTE, HUGO  (PCA: -0.095, 0.221)\n"
     ]
    },
    {
     "data": {
      "application/vnd.plotly.v1+json": {
       "config": {
        "plotlyServerURL": "https://plot.ly"
       },
       "data": [
        {
         "hovertemplate": "%{text}",
         "legendgroup": "",
         "marker": {
          "color": "#636efa",
          "size": 10,
          "symbol": "circle"
         },
         "mode": "markers+text",
         "name": "",
         "orientation": "v",
         "showlegend": false,
         "text": [
          "Iguatemi Eduardo da Fonseca",
          "DA FONSECA, IGUATEMI E.",
          "FONSECA, IGUATEMI EDUARDO",
          "IGUATEMI E. DA FONSECA",
          "E. FONSECA, IGUATEMI",
          "FONSECA, IGUATEMI",
          "I. E. FONSECA",
          "FONSECA, I.E.",
          "DA FONSECA, IGUATEMI EDUARDO",
          "IGUATEMI EDUARDO DA FONSECA",
          "FONSECA, I. E.",
          "FONSECA, IGUATEMI E."
         ],
         "textposition": "top center",
         "type": "scatter",
         "x": {
          "bdata": "xUkHVy0g4b/J8d7v3ODRvzzmVRv799C/yfHe79zg0b8b8opGBTHIPxvyikYFMcg/4S49L4rd4z/hLj0vit3jP8NJB1ctIOG/w0kHVy0g4b/hLj0vit3jPxvyikYFMcg/",
          "dtype": "f8"
         },
         "xaxis": "x",
         "y": {
          "bdata": "XvdPCyBAy7/q8qlpYRzHP0UkMZMZSMW/7PKpaWEcxz9o3d3Ww7HbP2jd3dbDsds/AgKRBtA50r8CApEG0DnSv1r3TwsgQMu/WvdPCyBAy78CApEG0DnSv2jd3dbDsds/",
          "dtype": "f8"
         },
         "yaxis": "y"
        }
       ],
       "layout": {
        "legend": {
         "tracegroupgap": 0
        },
        "template": {
         "data": {
          "bar": [
           {
            "error_x": {
             "color": "#2a3f5f"
            },
            "error_y": {
             "color": "#2a3f5f"
            },
            "marker": {
             "line": {
              "color": "#E5ECF6",
              "width": 0.5
             },
             "pattern": {
              "fillmode": "overlay",
              "size": 10,
              "solidity": 0.2
             }
            },
            "type": "bar"
           }
          ],
          "barpolar": [
           {
            "marker": {
             "line": {
              "color": "#E5ECF6",
              "width": 0.5
             },
             "pattern": {
              "fillmode": "overlay",
              "size": 10,
              "solidity": 0.2
             }
            },
            "type": "barpolar"
           }
          ],
          "carpet": [
           {
            "aaxis": {
             "endlinecolor": "#2a3f5f",
             "gridcolor": "white",
             "linecolor": "white",
             "minorgridcolor": "white",
             "startlinecolor": "#2a3f5f"
            },
            "baxis": {
             "endlinecolor": "#2a3f5f",
             "gridcolor": "white",
             "linecolor": "white",
             "minorgridcolor": "white",
             "startlinecolor": "#2a3f5f"
            },
            "type": "carpet"
           }
          ],
          "choropleth": [
           {
            "colorbar": {
             "outlinewidth": 0,
             "ticks": ""
            },
            "type": "choropleth"
           }
          ],
          "contour": [
           {
            "colorbar": {
             "outlinewidth": 0,
             "ticks": ""
            },
            "colorscale": [
             [
              0,
              "#0d0887"
             ],
             [
              0.1111111111111111,
              "#46039f"
             ],
             [
              0.2222222222222222,
              "#7201a8"
             ],
             [
              0.3333333333333333,
              "#9c179e"
             ],
             [
              0.4444444444444444,
              "#bd3786"
             ],
             [
              0.5555555555555556,
              "#d8576b"
             ],
             [
              0.6666666666666666,
              "#ed7953"
             ],
             [
              0.7777777777777778,
              "#fb9f3a"
             ],
             [
              0.8888888888888888,
              "#fdca26"
             ],
             [
              1,
              "#f0f921"
             ]
            ],
            "type": "contour"
           }
          ],
          "contourcarpet": [
           {
            "colorbar": {
             "outlinewidth": 0,
             "ticks": ""
            },
            "type": "contourcarpet"
           }
          ],
          "heatmap": [
           {
            "colorbar": {
             "outlinewidth": 0,
             "ticks": ""
            },
            "colorscale": [
             [
              0,
              "#0d0887"
             ],
             [
              0.1111111111111111,
              "#46039f"
             ],
             [
              0.2222222222222222,
              "#7201a8"
             ],
             [
              0.3333333333333333,
              "#9c179e"
             ],
             [
              0.4444444444444444,
              "#bd3786"
             ],
             [
              0.5555555555555556,
              "#d8576b"
             ],
             [
              0.6666666666666666,
              "#ed7953"
             ],
             [
              0.7777777777777778,
              "#fb9f3a"
             ],
             [
              0.8888888888888888,
              "#fdca26"
             ],
             [
              1,
              "#f0f921"
             ]
            ],
            "type": "heatmap"
           }
          ],
          "histogram": [
           {
            "marker": {
             "pattern": {
              "fillmode": "overlay",
              "size": 10,
              "solidity": 0.2
             }
            },
            "type": "histogram"
           }
          ],
          "histogram2d": [
           {
            "colorbar": {
             "outlinewidth": 0,
             "ticks": ""
            },
            "colorscale": [
             [
              0,
              "#0d0887"
             ],
             [
              0.1111111111111111,
              "#46039f"
             ],
             [
              0.2222222222222222,
              "#7201a8"
             ],
             [
              0.3333333333333333,
              "#9c179e"
             ],
             [
              0.4444444444444444,
              "#bd3786"
             ],
             [
              0.5555555555555556,
              "#d8576b"
             ],
             [
              0.6666666666666666,
              "#ed7953"
             ],
             [
              0.7777777777777778,
              "#fb9f3a"
             ],
             [
              0.8888888888888888,
              "#fdca26"
             ],
             [
              1,
              "#f0f921"
             ]
            ],
            "type": "histogram2d"
           }
          ],
          "histogram2dcontour": [
           {
            "colorbar": {
             "outlinewidth": 0,
             "ticks": ""
            },
            "colorscale": [
             [
              0,
              "#0d0887"
             ],
             [
              0.1111111111111111,
              "#46039f"
             ],
             [
              0.2222222222222222,
              "#7201a8"
             ],
             [
              0.3333333333333333,
              "#9c179e"
             ],
             [
              0.4444444444444444,
              "#bd3786"
             ],
             [
              0.5555555555555556,
              "#d8576b"
             ],
             [
              0.6666666666666666,
              "#ed7953"
             ],
             [
              0.7777777777777778,
              "#fb9f3a"
             ],
             [
              0.8888888888888888,
              "#fdca26"
             ],
             [
              1,
              "#f0f921"
             ]
            ],
            "type": "histogram2dcontour"
           }
          ],
          "mesh3d": [
           {
            "colorbar": {
             "outlinewidth": 0,
             "ticks": ""
            },
            "type": "mesh3d"
           }
          ],
          "parcoords": [
           {
            "line": {
             "colorbar": {
              "outlinewidth": 0,
              "ticks": ""
             }
            },
            "type": "parcoords"
           }
          ],
          "pie": [
           {
            "automargin": true,
            "type": "pie"
           }
          ],
          "scatter": [
           {
            "fillpattern": {
             "fillmode": "overlay",
             "size": 10,
             "solidity": 0.2
            },
            "type": "scatter"
           }
          ],
          "scatter3d": [
           {
            "line": {
             "colorbar": {
              "outlinewidth": 0,
              "ticks": ""
             }
            },
            "marker": {
             "colorbar": {
              "outlinewidth": 0,
              "ticks": ""
             }
            },
            "type": "scatter3d"
           }
          ],
          "scattercarpet": [
           {
            "marker": {
             "colorbar": {
              "outlinewidth": 0,
              "ticks": ""
             }
            },
            "type": "scattercarpet"
           }
          ],
          "scattergeo": [
           {
            "marker": {
             "colorbar": {
              "outlinewidth": 0,
              "ticks": ""
             }
            },
            "type": "scattergeo"
           }
          ],
          "scattergl": [
           {
            "marker": {
             "colorbar": {
              "outlinewidth": 0,
              "ticks": ""
             }
            },
            "type": "scattergl"
           }
          ],
          "scattermap": [
           {
            "marker": {
             "colorbar": {
              "outlinewidth": 0,
              "ticks": ""
             }
            },
            "type": "scattermap"
           }
          ],
          "scattermapbox": [
           {
            "marker": {
             "colorbar": {
              "outlinewidth": 0,
              "ticks": ""
             }
            },
            "type": "scattermapbox"
           }
          ],
          "scatterpolar": [
           {
            "marker": {
             "colorbar": {
              "outlinewidth": 0,
              "ticks": ""
             }
            },
            "type": "scatterpolar"
           }
          ],
          "scatterpolargl": [
           {
            "marker": {
             "colorbar": {
              "outlinewidth": 0,
              "ticks": ""
             }
            },
            "type": "scatterpolargl"
           }
          ],
          "scatterternary": [
           {
            "marker": {
             "colorbar": {
              "outlinewidth": 0,
              "ticks": ""
             }
            },
            "type": "scatterternary"
           }
          ],
          "surface": [
           {
            "colorbar": {
             "outlinewidth": 0,
             "ticks": ""
            },
            "colorscale": [
             [
              0,
              "#0d0887"
             ],
             [
              0.1111111111111111,
              "#46039f"
             ],
             [
              0.2222222222222222,
              "#7201a8"
             ],
             [
              0.3333333333333333,
              "#9c179e"
             ],
             [
              0.4444444444444444,
              "#bd3786"
             ],
             [
              0.5555555555555556,
              "#d8576b"
             ],
             [
              0.6666666666666666,
              "#ed7953"
             ],
             [
              0.7777777777777778,
              "#fb9f3a"
             ],
             [
              0.8888888888888888,
              "#fdca26"
             ],
             [
              1,
              "#f0f921"
             ]
            ],
            "type": "surface"
           }
          ],
          "table": [
           {
            "cells": {
             "fill": {
              "color": "#EBF0F8"
             },
             "line": {
              "color": "white"
             }
            },
            "header": {
             "fill": {
              "color": "#C8D4E3"
             },
             "line": {
              "color": "white"
             }
            },
            "type": "table"
           }
          ]
         },
         "layout": {
          "annotationdefaults": {
           "arrowcolor": "#2a3f5f",
           "arrowhead": 0,
           "arrowwidth": 1
          },
          "autotypenumbers": "strict",
          "coloraxis": {
           "colorbar": {
            "outlinewidth": 0,
            "ticks": ""
           }
          },
          "colorscale": {
           "diverging": [
            [
             0,
             "#8e0152"
            ],
            [
             0.1,
             "#c51b7d"
            ],
            [
             0.2,
             "#de77ae"
            ],
            [
             0.3,
             "#f1b6da"
            ],
            [
             0.4,
             "#fde0ef"
            ],
            [
             0.5,
             "#f7f7f7"
            ],
            [
             0.6,
             "#e6f5d0"
            ],
            [
             0.7,
             "#b8e186"
            ],
            [
             0.8,
             "#7fbc41"
            ],
            [
             0.9,
             "#4d9221"
            ],
            [
             1,
             "#276419"
            ]
           ],
           "sequential": [
            [
             0,
             "#0d0887"
            ],
            [
             0.1111111111111111,
             "#46039f"
            ],
            [
             0.2222222222222222,
             "#7201a8"
            ],
            [
             0.3333333333333333,
             "#9c179e"
            ],
            [
             0.4444444444444444,
             "#bd3786"
            ],
            [
             0.5555555555555556,
             "#d8576b"
            ],
            [
             0.6666666666666666,
             "#ed7953"
            ],
            [
             0.7777777777777778,
             "#fb9f3a"
            ],
            [
             0.8888888888888888,
             "#fdca26"
            ],
            [
             1,
             "#f0f921"
            ]
           ],
           "sequentialminus": [
            [
             0,
             "#0d0887"
            ],
            [
             0.1111111111111111,
             "#46039f"
            ],
            [
             0.2222222222222222,
             "#7201a8"
            ],
            [
             0.3333333333333333,
             "#9c179e"
            ],
            [
             0.4444444444444444,
             "#bd3786"
            ],
            [
             0.5555555555555556,
             "#d8576b"
            ],
            [
             0.6666666666666666,
             "#ed7953"
            ],
            [
             0.7777777777777778,
             "#fb9f3a"
            ],
            [
             0.8888888888888888,
             "#fdca26"
            ],
            [
             1,
             "#f0f921"
            ]
           ]
          },
          "colorway": [
           "#636efa",
           "#EF553B",
           "#00cc96",
           "#ab63fa",
           "#FFA15A",
           "#19d3f3",
           "#FF6692",
           "#B6E880",
           "#FF97FF",
           "#FECB52"
          ],
          "font": {
           "color": "#2a3f5f"
          },
          "geo": {
           "bgcolor": "white",
           "lakecolor": "white",
           "landcolor": "#E5ECF6",
           "showlakes": true,
           "showland": true,
           "subunitcolor": "white"
          },
          "hoverlabel": {
           "align": "left"
          },
          "hovermode": "closest",
          "mapbox": {
           "style": "light"
          },
          "paper_bgcolor": "white",
          "plot_bgcolor": "#E5ECF6",
          "polar": {
           "angularaxis": {
            "gridcolor": "white",
            "linecolor": "white",
            "ticks": ""
           },
           "bgcolor": "#E5ECF6",
           "radialaxis": {
            "gridcolor": "white",
            "linecolor": "white",
            "ticks": ""
           }
          },
          "scene": {
           "xaxis": {
            "backgroundcolor": "#E5ECF6",
            "gridcolor": "white",
            "gridwidth": 2,
            "linecolor": "white",
            "showbackground": true,
            "ticks": "",
            "zerolinecolor": "white"
           },
           "yaxis": {
            "backgroundcolor": "#E5ECF6",
            "gridcolor": "white",
            "gridwidth": 2,
            "linecolor": "white",
            "showbackground": true,
            "ticks": "",
            "zerolinecolor": "white"
           },
           "zaxis": {
            "backgroundcolor": "#E5ECF6",
            "gridcolor": "white",
            "gridwidth": 2,
            "linecolor": "white",
            "showbackground": true,
            "ticks": "",
            "zerolinecolor": "white"
           }
          },
          "shapedefaults": {
           "line": {
            "color": "#2a3f5f"
           }
          },
          "ternary": {
           "aaxis": {
            "gridcolor": "white",
            "linecolor": "white",
            "ticks": ""
           },
           "baxis": {
            "gridcolor": "white",
            "linecolor": "white",
            "ticks": ""
           },
           "bgcolor": "#E5ECF6",
           "caxis": {
            "gridcolor": "white",
            "linecolor": "white",
            "ticks": ""
           }
          },
          "title": {
           "x": 0.05
          },
          "xaxis": {
           "automargin": true,
           "gridcolor": "white",
           "linecolor": "white",
           "ticks": "",
           "title": {
            "standoff": 15
           },
           "zerolinecolor": "white",
           "zerolinewidth": 2
          },
          "yaxis": {
           "automargin": true,
           "gridcolor": "white",
           "linecolor": "white",
           "ticks": "",
           "title": {
            "standoff": 15
           },
           "zerolinecolor": "white",
           "zerolinewidth": 2
          }
         }
        },
        "title": {
         "text": "Localização dos nomes de citação - Professores com 'I'"
        },
        "xaxis": {
         "anchor": "y",
         "domain": [
          0,
          1
         ],
         "title": {
          "text": "PCA 1"
         }
        },
        "yaxis": {
         "anchor": "x",
         "domain": [
          0,
          1
         ],
         "title": {
          "text": "PCA 2"
         }
        }
       }
      }
     },
     "metadata": {},
     "output_type": "display_data"
    },
    {
     "name": "stdout",
     "output_type": "stream",
     "text": [
      "\n",
      "Professores e nomes de citação do grupo 'I':\n",
      "- Iguatemi Eduardo da Fonseca  (PCA: -0.535, -0.213)\n",
      "    • DA FONSECA, IGUATEMI E.  (PCA: -0.279, 0.181)\n",
      "    • FONSECA, IGUATEMI EDUARDO  (PCA: -0.265, -0.166)\n",
      "    • IGUATEMI E. DA FONSECA  (PCA: -0.279, 0.181)\n",
      "    • E. FONSECA, IGUATEMI  (PCA: 0.189, 0.433)\n",
      "    • FONSECA, IGUATEMI  (PCA: 0.189, 0.433)\n",
      "    • I. E. FONSECA  (PCA: 0.621, -0.285)\n",
      "    • FONSECA, I.E.  (PCA: 0.621, -0.285)\n",
      "    • DA FONSECA, IGUATEMI EDUARDO  (PCA: -0.535, -0.213)\n",
      "    • IGUATEMI EDUARDO DA FONSECA  (PCA: -0.535, -0.213)\n",
      "    • FONSECA, I. E.  (PCA: 0.621, -0.285)\n",
      "    • FONSECA, IGUATEMI E.  (PCA: 0.189, 0.433)\n"
     ]
    },
    {
     "data": {
      "application/vnd.plotly.v1+json": {
       "config": {
        "plotlyServerURL": "https://plot.ly"
       },
       "data": [
        {
         "hovertemplate": "%{text}",
         "legendgroup": "",
         "marker": {
          "color": "#636efa",
          "size": 10,
          "symbol": "circle"
         },
         "mode": "markers+text",
         "name": "",
         "orientation": "v",
         "showlegend": false,
         "text": [
          "Jairo Rocha de Faria",
          "ROCHA DE FARIA, J.",
          "DEFARIA, J",
          "FARIA, JAIRO R. DE",
          "DE FARIA, J. ROCHA",
          "FARIA, JAIRO ROCHA DE",
          "FARIA, J. ROCHA DE",
          "DE FARIA, J. R.",
          "ROCHA DE FARIA, JAIRO",
          "DE FARIA, JAIRO ROCHA",
          "Josilene Aires Moreira",
          "JOSILENE MOREIRA",
          "AIRES MOREIRA, JOSILENE",
          "AIRES, JOSILENE",
          "MOREIRA, JOSILENE A.",
          "MOREIRA, JOSILENE",
          "MOREIRA, JOCILENE",
          "MOREIRA, JOSILENE AIRES",
          "José Antônio Gomes de Lima",
          "LIMA, J. A. G.",
          "LIMA, JOSE ANTONIO GOMES DE",
          "José Miguel Aroztegui Massera",
          "AROZTEGUI, JOSÉ MIGUEL",
          "AROZTEGUI, MIGUEL",
          "AROZTEGUI, M."
         ],
         "textposition": "top center",
         "type": "scatter",
         "x": {
          "bdata": "LMNFatsm5T+Uz4mayA/kP4q8MncEcLe//QxjhvXG4T+Uz4mayA/kPyzDRWrbJuU/lM+JmsgP5D/WyotORrTgPyzDRWrbJuU/LMNFatsm5T+4psWyWhPmv0R+UCe3EeW/uKbFsloT5r93Ha4oJ6Dhv0R+UCe3EeW/RH5QJ7cR5b/k9bAhY3HUv7qmxbJaE+a/qm5F802PlT+TCeXoLIi2v3doz9su05o/ySRfQU2Nwb+Dr+ZGYT7Cv0+8UAXgRcK/x1apc3z2wL8=",
          "dtype": "f8"
         },
         "xaxis": "x",
         "y": {
          "bdata": "QvAdp60ezb8Nc+h8ecDJv3tRIRZJN80/OfLq8jTAxL8Fc+h8ecDJv0XwHaetHs2/BHPofHnAyb98lyFeubTAv0XwHaetHs2/RfAdp60ezb/zE/ObHvTXvxuhaQ107NW/8xPzmx70179+WTrEDHvQvxuhaQ107NW/G6FpDXTs1b8ZBi32EKKFv/IT85se9Ne/3vWecTaP1z++xs7dcpbUP2DHZIUvjtA/suEoMTdf6D9FmP8bNDjqP1BIFhp9Iuk/wADg5YfP5T8=",
          "dtype": "f8"
         },
         "yaxis": "y"
        }
       ],
       "layout": {
        "legend": {
         "tracegroupgap": 0
        },
        "template": {
         "data": {
          "bar": [
           {
            "error_x": {
             "color": "#2a3f5f"
            },
            "error_y": {
             "color": "#2a3f5f"
            },
            "marker": {
             "line": {
              "color": "#E5ECF6",
              "width": 0.5
             },
             "pattern": {
              "fillmode": "overlay",
              "size": 10,
              "solidity": 0.2
             }
            },
            "type": "bar"
           }
          ],
          "barpolar": [
           {
            "marker": {
             "line": {
              "color": "#E5ECF6",
              "width": 0.5
             },
             "pattern": {
              "fillmode": "overlay",
              "size": 10,
              "solidity": 0.2
             }
            },
            "type": "barpolar"
           }
          ],
          "carpet": [
           {
            "aaxis": {
             "endlinecolor": "#2a3f5f",
             "gridcolor": "white",
             "linecolor": "white",
             "minorgridcolor": "white",
             "startlinecolor": "#2a3f5f"
            },
            "baxis": {
             "endlinecolor": "#2a3f5f",
             "gridcolor": "white",
             "linecolor": "white",
             "minorgridcolor": "white",
             "startlinecolor": "#2a3f5f"
            },
            "type": "carpet"
           }
          ],
          "choropleth": [
           {
            "colorbar": {
             "outlinewidth": 0,
             "ticks": ""
            },
            "type": "choropleth"
           }
          ],
          "contour": [
           {
            "colorbar": {
             "outlinewidth": 0,
             "ticks": ""
            },
            "colorscale": [
             [
              0,
              "#0d0887"
             ],
             [
              0.1111111111111111,
              "#46039f"
             ],
             [
              0.2222222222222222,
              "#7201a8"
             ],
             [
              0.3333333333333333,
              "#9c179e"
             ],
             [
              0.4444444444444444,
              "#bd3786"
             ],
             [
              0.5555555555555556,
              "#d8576b"
             ],
             [
              0.6666666666666666,
              "#ed7953"
             ],
             [
              0.7777777777777778,
              "#fb9f3a"
             ],
             [
              0.8888888888888888,
              "#fdca26"
             ],
             [
              1,
              "#f0f921"
             ]
            ],
            "type": "contour"
           }
          ],
          "contourcarpet": [
           {
            "colorbar": {
             "outlinewidth": 0,
             "ticks": ""
            },
            "type": "contourcarpet"
           }
          ],
          "heatmap": [
           {
            "colorbar": {
             "outlinewidth": 0,
             "ticks": ""
            },
            "colorscale": [
             [
              0,
              "#0d0887"
             ],
             [
              0.1111111111111111,
              "#46039f"
             ],
             [
              0.2222222222222222,
              "#7201a8"
             ],
             [
              0.3333333333333333,
              "#9c179e"
             ],
             [
              0.4444444444444444,
              "#bd3786"
             ],
             [
              0.5555555555555556,
              "#d8576b"
             ],
             [
              0.6666666666666666,
              "#ed7953"
             ],
             [
              0.7777777777777778,
              "#fb9f3a"
             ],
             [
              0.8888888888888888,
              "#fdca26"
             ],
             [
              1,
              "#f0f921"
             ]
            ],
            "type": "heatmap"
           }
          ],
          "histogram": [
           {
            "marker": {
             "pattern": {
              "fillmode": "overlay",
              "size": 10,
              "solidity": 0.2
             }
            },
            "type": "histogram"
           }
          ],
          "histogram2d": [
           {
            "colorbar": {
             "outlinewidth": 0,
             "ticks": ""
            },
            "colorscale": [
             [
              0,
              "#0d0887"
             ],
             [
              0.1111111111111111,
              "#46039f"
             ],
             [
              0.2222222222222222,
              "#7201a8"
             ],
             [
              0.3333333333333333,
              "#9c179e"
             ],
             [
              0.4444444444444444,
              "#bd3786"
             ],
             [
              0.5555555555555556,
              "#d8576b"
             ],
             [
              0.6666666666666666,
              "#ed7953"
             ],
             [
              0.7777777777777778,
              "#fb9f3a"
             ],
             [
              0.8888888888888888,
              "#fdca26"
             ],
             [
              1,
              "#f0f921"
             ]
            ],
            "type": "histogram2d"
           }
          ],
          "histogram2dcontour": [
           {
            "colorbar": {
             "outlinewidth": 0,
             "ticks": ""
            },
            "colorscale": [
             [
              0,
              "#0d0887"
             ],
             [
              0.1111111111111111,
              "#46039f"
             ],
             [
              0.2222222222222222,
              "#7201a8"
             ],
             [
              0.3333333333333333,
              "#9c179e"
             ],
             [
              0.4444444444444444,
              "#bd3786"
             ],
             [
              0.5555555555555556,
              "#d8576b"
             ],
             [
              0.6666666666666666,
              "#ed7953"
             ],
             [
              0.7777777777777778,
              "#fb9f3a"
             ],
             [
              0.8888888888888888,
              "#fdca26"
             ],
             [
              1,
              "#f0f921"
             ]
            ],
            "type": "histogram2dcontour"
           }
          ],
          "mesh3d": [
           {
            "colorbar": {
             "outlinewidth": 0,
             "ticks": ""
            },
            "type": "mesh3d"
           }
          ],
          "parcoords": [
           {
            "line": {
             "colorbar": {
              "outlinewidth": 0,
              "ticks": ""
             }
            },
            "type": "parcoords"
           }
          ],
          "pie": [
           {
            "automargin": true,
            "type": "pie"
           }
          ],
          "scatter": [
           {
            "fillpattern": {
             "fillmode": "overlay",
             "size": 10,
             "solidity": 0.2
            },
            "type": "scatter"
           }
          ],
          "scatter3d": [
           {
            "line": {
             "colorbar": {
              "outlinewidth": 0,
              "ticks": ""
             }
            },
            "marker": {
             "colorbar": {
              "outlinewidth": 0,
              "ticks": ""
             }
            },
            "type": "scatter3d"
           }
          ],
          "scattercarpet": [
           {
            "marker": {
             "colorbar": {
              "outlinewidth": 0,
              "ticks": ""
             }
            },
            "type": "scattercarpet"
           }
          ],
          "scattergeo": [
           {
            "marker": {
             "colorbar": {
              "outlinewidth": 0,
              "ticks": ""
             }
            },
            "type": "scattergeo"
           }
          ],
          "scattergl": [
           {
            "marker": {
             "colorbar": {
              "outlinewidth": 0,
              "ticks": ""
             }
            },
            "type": "scattergl"
           }
          ],
          "scattermap": [
           {
            "marker": {
             "colorbar": {
              "outlinewidth": 0,
              "ticks": ""
             }
            },
            "type": "scattermap"
           }
          ],
          "scattermapbox": [
           {
            "marker": {
             "colorbar": {
              "outlinewidth": 0,
              "ticks": ""
             }
            },
            "type": "scattermapbox"
           }
          ],
          "scatterpolar": [
           {
            "marker": {
             "colorbar": {
              "outlinewidth": 0,
              "ticks": ""
             }
            },
            "type": "scatterpolar"
           }
          ],
          "scatterpolargl": [
           {
            "marker": {
             "colorbar": {
              "outlinewidth": 0,
              "ticks": ""
             }
            },
            "type": "scatterpolargl"
           }
          ],
          "scatterternary": [
           {
            "marker": {
             "colorbar": {
              "outlinewidth": 0,
              "ticks": ""
             }
            },
            "type": "scatterternary"
           }
          ],
          "surface": [
           {
            "colorbar": {
             "outlinewidth": 0,
             "ticks": ""
            },
            "colorscale": [
             [
              0,
              "#0d0887"
             ],
             [
              0.1111111111111111,
              "#46039f"
             ],
             [
              0.2222222222222222,
              "#7201a8"
             ],
             [
              0.3333333333333333,
              "#9c179e"
             ],
             [
              0.4444444444444444,
              "#bd3786"
             ],
             [
              0.5555555555555556,
              "#d8576b"
             ],
             [
              0.6666666666666666,
              "#ed7953"
             ],
             [
              0.7777777777777778,
              "#fb9f3a"
             ],
             [
              0.8888888888888888,
              "#fdca26"
             ],
             [
              1,
              "#f0f921"
             ]
            ],
            "type": "surface"
           }
          ],
          "table": [
           {
            "cells": {
             "fill": {
              "color": "#EBF0F8"
             },
             "line": {
              "color": "white"
             }
            },
            "header": {
             "fill": {
              "color": "#C8D4E3"
             },
             "line": {
              "color": "white"
             }
            },
            "type": "table"
           }
          ]
         },
         "layout": {
          "annotationdefaults": {
           "arrowcolor": "#2a3f5f",
           "arrowhead": 0,
           "arrowwidth": 1
          },
          "autotypenumbers": "strict",
          "coloraxis": {
           "colorbar": {
            "outlinewidth": 0,
            "ticks": ""
           }
          },
          "colorscale": {
           "diverging": [
            [
             0,
             "#8e0152"
            ],
            [
             0.1,
             "#c51b7d"
            ],
            [
             0.2,
             "#de77ae"
            ],
            [
             0.3,
             "#f1b6da"
            ],
            [
             0.4,
             "#fde0ef"
            ],
            [
             0.5,
             "#f7f7f7"
            ],
            [
             0.6,
             "#e6f5d0"
            ],
            [
             0.7,
             "#b8e186"
            ],
            [
             0.8,
             "#7fbc41"
            ],
            [
             0.9,
             "#4d9221"
            ],
            [
             1,
             "#276419"
            ]
           ],
           "sequential": [
            [
             0,
             "#0d0887"
            ],
            [
             0.1111111111111111,
             "#46039f"
            ],
            [
             0.2222222222222222,
             "#7201a8"
            ],
            [
             0.3333333333333333,
             "#9c179e"
            ],
            [
             0.4444444444444444,
             "#bd3786"
            ],
            [
             0.5555555555555556,
             "#d8576b"
            ],
            [
             0.6666666666666666,
             "#ed7953"
            ],
            [
             0.7777777777777778,
             "#fb9f3a"
            ],
            [
             0.8888888888888888,
             "#fdca26"
            ],
            [
             1,
             "#f0f921"
            ]
           ],
           "sequentialminus": [
            [
             0,
             "#0d0887"
            ],
            [
             0.1111111111111111,
             "#46039f"
            ],
            [
             0.2222222222222222,
             "#7201a8"
            ],
            [
             0.3333333333333333,
             "#9c179e"
            ],
            [
             0.4444444444444444,
             "#bd3786"
            ],
            [
             0.5555555555555556,
             "#d8576b"
            ],
            [
             0.6666666666666666,
             "#ed7953"
            ],
            [
             0.7777777777777778,
             "#fb9f3a"
            ],
            [
             0.8888888888888888,
             "#fdca26"
            ],
            [
             1,
             "#f0f921"
            ]
           ]
          },
          "colorway": [
           "#636efa",
           "#EF553B",
           "#00cc96",
           "#ab63fa",
           "#FFA15A",
           "#19d3f3",
           "#FF6692",
           "#B6E880",
           "#FF97FF",
           "#FECB52"
          ],
          "font": {
           "color": "#2a3f5f"
          },
          "geo": {
           "bgcolor": "white",
           "lakecolor": "white",
           "landcolor": "#E5ECF6",
           "showlakes": true,
           "showland": true,
           "subunitcolor": "white"
          },
          "hoverlabel": {
           "align": "left"
          },
          "hovermode": "closest",
          "mapbox": {
           "style": "light"
          },
          "paper_bgcolor": "white",
          "plot_bgcolor": "#E5ECF6",
          "polar": {
           "angularaxis": {
            "gridcolor": "white",
            "linecolor": "white",
            "ticks": ""
           },
           "bgcolor": "#E5ECF6",
           "radialaxis": {
            "gridcolor": "white",
            "linecolor": "white",
            "ticks": ""
           }
          },
          "scene": {
           "xaxis": {
            "backgroundcolor": "#E5ECF6",
            "gridcolor": "white",
            "gridwidth": 2,
            "linecolor": "white",
            "showbackground": true,
            "ticks": "",
            "zerolinecolor": "white"
           },
           "yaxis": {
            "backgroundcolor": "#E5ECF6",
            "gridcolor": "white",
            "gridwidth": 2,
            "linecolor": "white",
            "showbackground": true,
            "ticks": "",
            "zerolinecolor": "white"
           },
           "zaxis": {
            "backgroundcolor": "#E5ECF6",
            "gridcolor": "white",
            "gridwidth": 2,
            "linecolor": "white",
            "showbackground": true,
            "ticks": "",
            "zerolinecolor": "white"
           }
          },
          "shapedefaults": {
           "line": {
            "color": "#2a3f5f"
           }
          },
          "ternary": {
           "aaxis": {
            "gridcolor": "white",
            "linecolor": "white",
            "ticks": ""
           },
           "baxis": {
            "gridcolor": "white",
            "linecolor": "white",
            "ticks": ""
           },
           "bgcolor": "#E5ECF6",
           "caxis": {
            "gridcolor": "white",
            "linecolor": "white",
            "ticks": ""
           }
          },
          "title": {
           "x": 0.05
          },
          "xaxis": {
           "automargin": true,
           "gridcolor": "white",
           "linecolor": "white",
           "ticks": "",
           "title": {
            "standoff": 15
           },
           "zerolinecolor": "white",
           "zerolinewidth": 2
          },
          "yaxis": {
           "automargin": true,
           "gridcolor": "white",
           "linecolor": "white",
           "ticks": "",
           "title": {
            "standoff": 15
           },
           "zerolinecolor": "white",
           "zerolinewidth": 2
          }
         }
        },
        "title": {
         "text": "Localização dos nomes de citação - Professores com 'J'"
        },
        "xaxis": {
         "anchor": "y",
         "domain": [
          0,
          1
         ],
         "title": {
          "text": "PCA 1"
         }
        },
        "yaxis": {
         "anchor": "x",
         "domain": [
          0,
          1
         ],
         "title": {
          "text": "PCA 2"
         }
        }
       }
      }
     },
     "metadata": {},
     "output_type": "display_data"
    },
    {
     "name": "stdout",
     "output_type": "stream",
     "text": [
      "\n",
      "Professores e nomes de citação do grupo 'J':\n",
      "- Jairo Rocha de Faria  (PCA: 0.661, -0.227)\n",
      "    • ROCHA DE FARIA, J.  (PCA: 0.627, -0.201)\n",
      "    • DEFARIA, J  (PCA: -0.092, 0.228)\n",
      "    • FARIA, JAIRO R. DE  (PCA: 0.556, -0.162)\n",
      "    • DE FARIA, J. ROCHA  (PCA: 0.627, -0.201)\n",
      "    • FARIA, JAIRO ROCHA DE  (PCA: 0.661, -0.227)\n",
      "    • FARIA, J. ROCHA DE  (PCA: 0.627, -0.201)\n",
      "    • DE FARIA, J. R.  (PCA: 0.522, -0.131)\n",
      "    • ROCHA DE FARIA, JAIRO  (PCA: 0.661, -0.227)\n",
      "    • DE FARIA, JAIRO ROCHA  (PCA: 0.661, -0.227)\n",
      "- Josilene Aires Moreira  (PCA: -0.690, -0.374)\n",
      "    • JOSILENE MOREIRA  (PCA: -0.658, -0.343)\n",
      "    • AIRES MOREIRA, JOSILENE  (PCA: -0.690, -0.374)\n",
      "    • AIRES, JOSILENE  (PCA: -0.551, -0.258)\n",
      "    • MOREIRA, JOSILENE A.  (PCA: -0.658, -0.343)\n",
      "    • MOREIRA, JOSILENE  (PCA: -0.658, -0.343)\n",
      "    • MOREIRA, JOCILENE  (PCA: -0.319, -0.011)\n",
      "    • MOREIRA, JOSILENE AIRES  (PCA: -0.690, -0.374)\n",
      "- José Antônio Gomes de Lima  (PCA: 0.021, 0.368)\n",
      "    • LIMA, J. A. G.  (PCA: -0.088, 0.322)\n",
      "    • LIMA, JOSE ANTONIO GOMES DE  (PCA: 0.026, 0.259)\n",
      "- José Miguel Aroztegui Massera  (PCA: -0.137, 0.762)\n",
      "    • AROZTEGUI, JOSÉ MIGUEL  (PCA: -0.143, 0.819)\n",
      "    • AROZTEGUI, MIGUEL  (PCA: -0.143, 0.785)\n",
      "    • AROZTEGUI, M.  (PCA: -0.133, 0.682)\n"
     ]
    },
    {
     "data": {
      "application/vnd.plotly.v1+json": {
       "config": {
        "plotlyServerURL": "https://plot.ly"
       },
       "data": [
        {
         "hovertemplate": "%{text}",
         "legendgroup": "",
         "marker": {
          "color": "#636efa",
          "size": 10,
          "symbol": "circle"
         },
         "mode": "markers+text",
         "name": "",
         "orientation": "v",
         "showlegend": false,
         "text": [
          "Kely Diana Villacorta Villacorta",
          "VILLACORTA, KELY DIANA",
          "VILLACORTA, KELY D. V.",
          "VILLACORTA, KELY D.V.",
          "VILLACORTA, K. D. V."
         ],
         "textposition": "top center",
         "type": "scatter",
         "x": {
          "bdata": "teNhIVtj0D+hraduBsLgP2Bycm8xtsK/YXJybzG2wr+SzD6PNjHfvw==",
          "dtype": "f8"
         },
         "xaxis": "x",
         "y": {
          "bdata": "yianC2eTyb8KmlR8W3i3v5hWDP4woNY/mFYM/jCg1j9O8y+Xl5javw==",
          "dtype": "f8"
         },
         "yaxis": "y"
        }
       ],
       "layout": {
        "legend": {
         "tracegroupgap": 0
        },
        "template": {
         "data": {
          "bar": [
           {
            "error_x": {
             "color": "#2a3f5f"
            },
            "error_y": {
             "color": "#2a3f5f"
            },
            "marker": {
             "line": {
              "color": "#E5ECF6",
              "width": 0.5
             },
             "pattern": {
              "fillmode": "overlay",
              "size": 10,
              "solidity": 0.2
             }
            },
            "type": "bar"
           }
          ],
          "barpolar": [
           {
            "marker": {
             "line": {
              "color": "#E5ECF6",
              "width": 0.5
             },
             "pattern": {
              "fillmode": "overlay",
              "size": 10,
              "solidity": 0.2
             }
            },
            "type": "barpolar"
           }
          ],
          "carpet": [
           {
            "aaxis": {
             "endlinecolor": "#2a3f5f",
             "gridcolor": "white",
             "linecolor": "white",
             "minorgridcolor": "white",
             "startlinecolor": "#2a3f5f"
            },
            "baxis": {
             "endlinecolor": "#2a3f5f",
             "gridcolor": "white",
             "linecolor": "white",
             "minorgridcolor": "white",
             "startlinecolor": "#2a3f5f"
            },
            "type": "carpet"
           }
          ],
          "choropleth": [
           {
            "colorbar": {
             "outlinewidth": 0,
             "ticks": ""
            },
            "type": "choropleth"
           }
          ],
          "contour": [
           {
            "colorbar": {
             "outlinewidth": 0,
             "ticks": ""
            },
            "colorscale": [
             [
              0,
              "#0d0887"
             ],
             [
              0.1111111111111111,
              "#46039f"
             ],
             [
              0.2222222222222222,
              "#7201a8"
             ],
             [
              0.3333333333333333,
              "#9c179e"
             ],
             [
              0.4444444444444444,
              "#bd3786"
             ],
             [
              0.5555555555555556,
              "#d8576b"
             ],
             [
              0.6666666666666666,
              "#ed7953"
             ],
             [
              0.7777777777777778,
              "#fb9f3a"
             ],
             [
              0.8888888888888888,
              "#fdca26"
             ],
             [
              1,
              "#f0f921"
             ]
            ],
            "type": "contour"
           }
          ],
          "contourcarpet": [
           {
            "colorbar": {
             "outlinewidth": 0,
             "ticks": ""
            },
            "type": "contourcarpet"
           }
          ],
          "heatmap": [
           {
            "colorbar": {
             "outlinewidth": 0,
             "ticks": ""
            },
            "colorscale": [
             [
              0,
              "#0d0887"
             ],
             [
              0.1111111111111111,
              "#46039f"
             ],
             [
              0.2222222222222222,
              "#7201a8"
             ],
             [
              0.3333333333333333,
              "#9c179e"
             ],
             [
              0.4444444444444444,
              "#bd3786"
             ],
             [
              0.5555555555555556,
              "#d8576b"
             ],
             [
              0.6666666666666666,
              "#ed7953"
             ],
             [
              0.7777777777777778,
              "#fb9f3a"
             ],
             [
              0.8888888888888888,
              "#fdca26"
             ],
             [
              1,
              "#f0f921"
             ]
            ],
            "type": "heatmap"
           }
          ],
          "histogram": [
           {
            "marker": {
             "pattern": {
              "fillmode": "overlay",
              "size": 10,
              "solidity": 0.2
             }
            },
            "type": "histogram"
           }
          ],
          "histogram2d": [
           {
            "colorbar": {
             "outlinewidth": 0,
             "ticks": ""
            },
            "colorscale": [
             [
              0,
              "#0d0887"
             ],
             [
              0.1111111111111111,
              "#46039f"
             ],
             [
              0.2222222222222222,
              "#7201a8"
             ],
             [
              0.3333333333333333,
              "#9c179e"
             ],
             [
              0.4444444444444444,
              "#bd3786"
             ],
             [
              0.5555555555555556,
              "#d8576b"
             ],
             [
              0.6666666666666666,
              "#ed7953"
             ],
             [
              0.7777777777777778,
              "#fb9f3a"
             ],
             [
              0.8888888888888888,
              "#fdca26"
             ],
             [
              1,
              "#f0f921"
             ]
            ],
            "type": "histogram2d"
           }
          ],
          "histogram2dcontour": [
           {
            "colorbar": {
             "outlinewidth": 0,
             "ticks": ""
            },
            "colorscale": [
             [
              0,
              "#0d0887"
             ],
             [
              0.1111111111111111,
              "#46039f"
             ],
             [
              0.2222222222222222,
              "#7201a8"
             ],
             [
              0.3333333333333333,
              "#9c179e"
             ],
             [
              0.4444444444444444,
              "#bd3786"
             ],
             [
              0.5555555555555556,
              "#d8576b"
             ],
             [
              0.6666666666666666,
              "#ed7953"
             ],
             [
              0.7777777777777778,
              "#fb9f3a"
             ],
             [
              0.8888888888888888,
              "#fdca26"
             ],
             [
              1,
              "#f0f921"
             ]
            ],
            "type": "histogram2dcontour"
           }
          ],
          "mesh3d": [
           {
            "colorbar": {
             "outlinewidth": 0,
             "ticks": ""
            },
            "type": "mesh3d"
           }
          ],
          "parcoords": [
           {
            "line": {
             "colorbar": {
              "outlinewidth": 0,
              "ticks": ""
             }
            },
            "type": "parcoords"
           }
          ],
          "pie": [
           {
            "automargin": true,
            "type": "pie"
           }
          ],
          "scatter": [
           {
            "fillpattern": {
             "fillmode": "overlay",
             "size": 10,
             "solidity": 0.2
            },
            "type": "scatter"
           }
          ],
          "scatter3d": [
           {
            "line": {
             "colorbar": {
              "outlinewidth": 0,
              "ticks": ""
             }
            },
            "marker": {
             "colorbar": {
              "outlinewidth": 0,
              "ticks": ""
             }
            },
            "type": "scatter3d"
           }
          ],
          "scattercarpet": [
           {
            "marker": {
             "colorbar": {
              "outlinewidth": 0,
              "ticks": ""
             }
            },
            "type": "scattercarpet"
           }
          ],
          "scattergeo": [
           {
            "marker": {
             "colorbar": {
              "outlinewidth": 0,
              "ticks": ""
             }
            },
            "type": "scattergeo"
           }
          ],
          "scattergl": [
           {
            "marker": {
             "colorbar": {
              "outlinewidth": 0,
              "ticks": ""
             }
            },
            "type": "scattergl"
           }
          ],
          "scattermap": [
           {
            "marker": {
             "colorbar": {
              "outlinewidth": 0,
              "ticks": ""
             }
            },
            "type": "scattermap"
           }
          ],
          "scattermapbox": [
           {
            "marker": {
             "colorbar": {
              "outlinewidth": 0,
              "ticks": ""
             }
            },
            "type": "scattermapbox"
           }
          ],
          "scatterpolar": [
           {
            "marker": {
             "colorbar": {
              "outlinewidth": 0,
              "ticks": ""
             }
            },
            "type": "scatterpolar"
           }
          ],
          "scatterpolargl": [
           {
            "marker": {
             "colorbar": {
              "outlinewidth": 0,
              "ticks": ""
             }
            },
            "type": "scatterpolargl"
           }
          ],
          "scatterternary": [
           {
            "marker": {
             "colorbar": {
              "outlinewidth": 0,
              "ticks": ""
             }
            },
            "type": "scatterternary"
           }
          ],
          "surface": [
           {
            "colorbar": {
             "outlinewidth": 0,
             "ticks": ""
            },
            "colorscale": [
             [
              0,
              "#0d0887"
             ],
             [
              0.1111111111111111,
              "#46039f"
             ],
             [
              0.2222222222222222,
              "#7201a8"
             ],
             [
              0.3333333333333333,
              "#9c179e"
             ],
             [
              0.4444444444444444,
              "#bd3786"
             ],
             [
              0.5555555555555556,
              "#d8576b"
             ],
             [
              0.6666666666666666,
              "#ed7953"
             ],
             [
              0.7777777777777778,
              "#fb9f3a"
             ],
             [
              0.8888888888888888,
              "#fdca26"
             ],
             [
              1,
              "#f0f921"
             ]
            ],
            "type": "surface"
           }
          ],
          "table": [
           {
            "cells": {
             "fill": {
              "color": "#EBF0F8"
             },
             "line": {
              "color": "white"
             }
            },
            "header": {
             "fill": {
              "color": "#C8D4E3"
             },
             "line": {
              "color": "white"
             }
            },
            "type": "table"
           }
          ]
         },
         "layout": {
          "annotationdefaults": {
           "arrowcolor": "#2a3f5f",
           "arrowhead": 0,
           "arrowwidth": 1
          },
          "autotypenumbers": "strict",
          "coloraxis": {
           "colorbar": {
            "outlinewidth": 0,
            "ticks": ""
           }
          },
          "colorscale": {
           "diverging": [
            [
             0,
             "#8e0152"
            ],
            [
             0.1,
             "#c51b7d"
            ],
            [
             0.2,
             "#de77ae"
            ],
            [
             0.3,
             "#f1b6da"
            ],
            [
             0.4,
             "#fde0ef"
            ],
            [
             0.5,
             "#f7f7f7"
            ],
            [
             0.6,
             "#e6f5d0"
            ],
            [
             0.7,
             "#b8e186"
            ],
            [
             0.8,
             "#7fbc41"
            ],
            [
             0.9,
             "#4d9221"
            ],
            [
             1,
             "#276419"
            ]
           ],
           "sequential": [
            [
             0,
             "#0d0887"
            ],
            [
             0.1111111111111111,
             "#46039f"
            ],
            [
             0.2222222222222222,
             "#7201a8"
            ],
            [
             0.3333333333333333,
             "#9c179e"
            ],
            [
             0.4444444444444444,
             "#bd3786"
            ],
            [
             0.5555555555555556,
             "#d8576b"
            ],
            [
             0.6666666666666666,
             "#ed7953"
            ],
            [
             0.7777777777777778,
             "#fb9f3a"
            ],
            [
             0.8888888888888888,
             "#fdca26"
            ],
            [
             1,
             "#f0f921"
            ]
           ],
           "sequentialminus": [
            [
             0,
             "#0d0887"
            ],
            [
             0.1111111111111111,
             "#46039f"
            ],
            [
             0.2222222222222222,
             "#7201a8"
            ],
            [
             0.3333333333333333,
             "#9c179e"
            ],
            [
             0.4444444444444444,
             "#bd3786"
            ],
            [
             0.5555555555555556,
             "#d8576b"
            ],
            [
             0.6666666666666666,
             "#ed7953"
            ],
            [
             0.7777777777777778,
             "#fb9f3a"
            ],
            [
             0.8888888888888888,
             "#fdca26"
            ],
            [
             1,
             "#f0f921"
            ]
           ]
          },
          "colorway": [
           "#636efa",
           "#EF553B",
           "#00cc96",
           "#ab63fa",
           "#FFA15A",
           "#19d3f3",
           "#FF6692",
           "#B6E880",
           "#FF97FF",
           "#FECB52"
          ],
          "font": {
           "color": "#2a3f5f"
          },
          "geo": {
           "bgcolor": "white",
           "lakecolor": "white",
           "landcolor": "#E5ECF6",
           "showlakes": true,
           "showland": true,
           "subunitcolor": "white"
          },
          "hoverlabel": {
           "align": "left"
          },
          "hovermode": "closest",
          "mapbox": {
           "style": "light"
          },
          "paper_bgcolor": "white",
          "plot_bgcolor": "#E5ECF6",
          "polar": {
           "angularaxis": {
            "gridcolor": "white",
            "linecolor": "white",
            "ticks": ""
           },
           "bgcolor": "#E5ECF6",
           "radialaxis": {
            "gridcolor": "white",
            "linecolor": "white",
            "ticks": ""
           }
          },
          "scene": {
           "xaxis": {
            "backgroundcolor": "#E5ECF6",
            "gridcolor": "white",
            "gridwidth": 2,
            "linecolor": "white",
            "showbackground": true,
            "ticks": "",
            "zerolinecolor": "white"
           },
           "yaxis": {
            "backgroundcolor": "#E5ECF6",
            "gridcolor": "white",
            "gridwidth": 2,
            "linecolor": "white",
            "showbackground": true,
            "ticks": "",
            "zerolinecolor": "white"
           },
           "zaxis": {
            "backgroundcolor": "#E5ECF6",
            "gridcolor": "white",
            "gridwidth": 2,
            "linecolor": "white",
            "showbackground": true,
            "ticks": "",
            "zerolinecolor": "white"
           }
          },
          "shapedefaults": {
           "line": {
            "color": "#2a3f5f"
           }
          },
          "ternary": {
           "aaxis": {
            "gridcolor": "white",
            "linecolor": "white",
            "ticks": ""
           },
           "baxis": {
            "gridcolor": "white",
            "linecolor": "white",
            "ticks": ""
           },
           "bgcolor": "#E5ECF6",
           "caxis": {
            "gridcolor": "white",
            "linecolor": "white",
            "ticks": ""
           }
          },
          "title": {
           "x": 0.05
          },
          "xaxis": {
           "automargin": true,
           "gridcolor": "white",
           "linecolor": "white",
           "ticks": "",
           "title": {
            "standoff": 15
           },
           "zerolinecolor": "white",
           "zerolinewidth": 2
          },
          "yaxis": {
           "automargin": true,
           "gridcolor": "white",
           "linecolor": "white",
           "ticks": "",
           "title": {
            "standoff": 15
           },
           "zerolinecolor": "white",
           "zerolinewidth": 2
          }
         }
        },
        "title": {
         "text": "Localização dos nomes de citação - Professores com 'K'"
        },
        "xaxis": {
         "anchor": "y",
         "domain": [
          0,
          1
         ],
         "title": {
          "text": "PCA 1"
         }
        },
        "yaxis": {
         "anchor": "x",
         "domain": [
          0,
          1
         ],
         "title": {
          "text": "PCA 2"
         }
        }
       }
      }
     },
     "metadata": {},
     "output_type": "display_data"
    },
    {
     "name": "stdout",
     "output_type": "stream",
     "text": [
      "\n",
      "Professores e nomes de citação do grupo 'K':\n",
      "- Kely Diana Villacorta Villacorta  (PCA: 0.256, -0.200)\n",
      "    • VILLACORTA, KELY DIANA  (PCA: 0.524, -0.092)\n",
      "    • VILLACORTA, KELY D. V.  (PCA: -0.146, 0.354)\n",
      "    • VILLACORTA, KELY D.V.  (PCA: -0.146, 0.354)\n",
      "    • VILLACORTA, K. D. V.  (PCA: -0.487, -0.416)\n"
     ]
    },
    {
     "data": {
      "application/vnd.plotly.v1+json": {
       "config": {
        "plotlyServerURL": "https://plot.ly"
       },
       "data": [
        {
         "hovertemplate": "%{text}",
         "legendgroup": "",
         "marker": {
          "color": "#636efa",
          "size": 10,
          "symbol": "circle"
         },
         "mode": "markers+text",
         "name": "",
         "orientation": "v",
         "showlegend": false,
         "text": [
          "Leandro Carlos de Souza",
          "CARLOS DE SOUZA, LEANDRO",
          "SOUZA, LEANDRO",
          "DE SOUZA, LEANDRO CARLOS",
          "DE SOUZA, LEANDRO C.",
          "SOUZA, LEANDRO CARLOS",
          "SOUZA, LEANDRO C.",
          "SOUZA, LEANDRO CARLOS DE",
          "SOUZA, L.C.",
          "Leonardo Vidal Batista",
          "VIDAL BATISTA, LEONARDO",
          "BATISTA, LEONARDO V.",
          "BATISTA, LEONARDO",
          "BATISTA, L. V.",
          "BATISTA, LEONARDO VIDAL",
          "Liliane dos Santos Machado",
          "MACHADO, LILIANE S",
          "DOS SANTOS MACHADO, LILIANE",
          "MACHADO, LILIANE SANTOS",
          "MACHADO, LILIANE DOS S.",
          "MACHADO, LILIANEDOS SANTOS",
          "MACHADO, LILIANE DOS SANTOS",
          "LILIANE DOS S. MACHADO",
          "MACHADO, LILIANE",
          "LILIANE DOS SANTOS MACHADO",
          "MACHADO, LILIANE S.",
          "S. MACHADO, LILIANE",
          "LILIANE S. MACHADO",
          "DOS S. MACHADO, LILIANE",
          "Lincoln David Nery e Silva",
          "DAVID NERY E SILVA, LINCOLN",
          "SILVA, L. D. N. E.",
          "DAVID, L.",
          "DAVID, LINCOLN",
          "SILVA, L. D. N.",
          "SILVA, L. D.",
          "L. DAVID",
          "NERY E SILVA, LINCOLN DAVID",
          "Luciano Sales Barros",
          "BARROS, L.S.",
          "S. BARROS, LUCIANO",
          "LUCIANO S. BARROS",
          "LUCIANO SALES BARROS",
          "BARROS, LUCIANO S.",
          "SALES BARROS, LUCIANO",
          "L. S. BARROS",
          "BARROS, LUCIANO SALES",
          "BARROS, LUCIANO",
          "BARROS, L. S.",
          "Lucidio dos Anjos Formiga Cabral",
          "DOS ANJOS FORMIGA CABRAL, LUCÍDIO",
          "CABRAL, LUCIDIO A.F.",
          "CABRAL, LUCIDIO DOS A. F.",
          "CABRAL, LUCÍDIO DOS ANJOS F.",
          "DOS ANJOS FORMIGA CABRAL, LUCIDIO",
          "DOS ANJOS F. CABRAL, LUCIDIO",
          "CABRAL, LUCIDIO A",
          "CABRAL, LUCIDIO A.",
          "CABRAL, LUCÍDIO A. F.",
          "LUCIDIO DOS A. F. CABRAL",
          "CABRAL, LUCIDIO ANJOS FORMIGA",
          "CABRAL, LUCÍDIO ANJOS FORMIGA",
          "CABRAL, LUCÍDIO DOS ANJOS FORMIGA",
          "DOS ANJOS F. CABRAL, LUCÍDIO",
          "CABRAL, LUCÍDIO DOS A. F.",
          "CABRAL, LUCIDIO A. F.",
          "CABRAL, L. A. F."
         ],
         "textposition": "top center",
         "type": "scatter",
         "x": {
          "bdata": "/wUtt66rw78SBi23rqvDv8VhQiR7VMK/DAYtt66rw7/Qq1LNBNvCv8mrUs0E28K/yGFCJHtUwr8QBi23rqvDv5cdrAH1dr6/RGlcd8Rstr9LaVx3xGy2v3Rmsb5MOba/fGaxvkw5tr/TorEkEt2zv09pXHfEbLa/nKIZXLN65z+MU5H6KIPpP5uiGVyzeuc/h77opSDI5z8XXqQwr+vnP7ELb1OdXNY/nKIZXLN65z8XXqQwr+vnP4xTkfoog+k/nKIZXLN65z+MU5H6KIPpP4xTkfoog+k/jFOR+iiD6T8XXqQwr+vnP4+saDpf7Li/j6xoOl/suL/MkDEnmfe0v9gy1vGTIrS/H5+9+fc0tb/MkDEnmfe0v8yQMSeZ97S/2DLW8ZMitL+PrGg6X+y4vz9sqlxdEdK/Q/qss2NV0L+1bHmam/rSv7VseZqb+tK/P2yqXF0R0r+1bHmam/rSvz9sqlxdEdK/Q/qss2NV0L8/bKpcXRHSv7VseZqb+tK/Q/qss2NV0L8WbOAKzQ3Qv2FXHT2Encq/HgC75fJx1b9F7wKpvSDKvwQyQ2Edw8e/FmzgCs0N0L+HSeO/4ELOvxwAu+XycdW/HQC75fJx1b9jqWXx1UnQv0TvAqm9IMq/VTlX84E61b/3aiFBsxnSv2FXHT2Encq/AjJDYR3Dx7+ZqJb4sGXCvx4Au+XycdW/p2/gXGsN0r8=",
          "dtype": "f8"
         },
         "xaxis": "x",
         "y": {
          "bdata": "kKFIARj40L+RoUgBGPjQv2z0nJk0ic+/iqFIARj40L8yGf4pkz3QvywZ/imTPdC/afScmTSJz7+KoUgBGPjQv3N1CApWA8q/bQ3vLcVmwr9xDe8txWbCv/5KX3LAOsK/A0tfcsA6wr9/sJC47DnAv28N7y3FZsK/1u/8KnHgtj91ELjjWF2kv9Pv/Cpx4LY/PrxhZoqhor9WuBk+giO+P/+1zeaWqKy/0+/8KnHgtj9WuBk+giO+P3YQuONYXaS/0+/8KnHgtj91ELjjWF2kv3UQuONYXaS/dRC441hdpL9WuBk+giO+P/XPNGCSisS/9c80YJKKxL/tllM9eyzBv27vuoT5dsC/jUIACxViwb/tllM9eyzBv+2WUz17LMG/bu+6hPl2wL/1zzRgkorEv5IZ0AFXfuG/45tZeZB+37/PkdfokGfiv8+R1+iQZ+K/khnQAVd+4b/PkdfokGfiv5IZ0AFXfuG/45tZeZB+37+SGdABV37hv8+R1+iQZ+K/45tZeZB+378ZtnUQVlbkP/XgiFdKy+E/7F1s14aG4T8IPKEIOI/jP/VwePAJguE/GbZ1EFZW5D8hsAiOI5vkP+5dbNeGhuE/7F1s14aG4T/xmqIt+fvZPwk8oQg4j+M/xNoOoHU94j///rghGAjfP/bgiFdKy+E/9XB48AmC4T+E1Ip0bnzfP+5dbNeGhuE/WjOvQeQ03D8=",
          "dtype": "f8"
         },
         "yaxis": "y"
        }
       ],
       "layout": {
        "legend": {
         "tracegroupgap": 0
        },
        "template": {
         "data": {
          "bar": [
           {
            "error_x": {
             "color": "#2a3f5f"
            },
            "error_y": {
             "color": "#2a3f5f"
            },
            "marker": {
             "line": {
              "color": "#E5ECF6",
              "width": 0.5
             },
             "pattern": {
              "fillmode": "overlay",
              "size": 10,
              "solidity": 0.2
             }
            },
            "type": "bar"
           }
          ],
          "barpolar": [
           {
            "marker": {
             "line": {
              "color": "#E5ECF6",
              "width": 0.5
             },
             "pattern": {
              "fillmode": "overlay",
              "size": 10,
              "solidity": 0.2
             }
            },
            "type": "barpolar"
           }
          ],
          "carpet": [
           {
            "aaxis": {
             "endlinecolor": "#2a3f5f",
             "gridcolor": "white",
             "linecolor": "white",
             "minorgridcolor": "white",
             "startlinecolor": "#2a3f5f"
            },
            "baxis": {
             "endlinecolor": "#2a3f5f",
             "gridcolor": "white",
             "linecolor": "white",
             "minorgridcolor": "white",
             "startlinecolor": "#2a3f5f"
            },
            "type": "carpet"
           }
          ],
          "choropleth": [
           {
            "colorbar": {
             "outlinewidth": 0,
             "ticks": ""
            },
            "type": "choropleth"
           }
          ],
          "contour": [
           {
            "colorbar": {
             "outlinewidth": 0,
             "ticks": ""
            },
            "colorscale": [
             [
              0,
              "#0d0887"
             ],
             [
              0.1111111111111111,
              "#46039f"
             ],
             [
              0.2222222222222222,
              "#7201a8"
             ],
             [
              0.3333333333333333,
              "#9c179e"
             ],
             [
              0.4444444444444444,
              "#bd3786"
             ],
             [
              0.5555555555555556,
              "#d8576b"
             ],
             [
              0.6666666666666666,
              "#ed7953"
             ],
             [
              0.7777777777777778,
              "#fb9f3a"
             ],
             [
              0.8888888888888888,
              "#fdca26"
             ],
             [
              1,
              "#f0f921"
             ]
            ],
            "type": "contour"
           }
          ],
          "contourcarpet": [
           {
            "colorbar": {
             "outlinewidth": 0,
             "ticks": ""
            },
            "type": "contourcarpet"
           }
          ],
          "heatmap": [
           {
            "colorbar": {
             "outlinewidth": 0,
             "ticks": ""
            },
            "colorscale": [
             [
              0,
              "#0d0887"
             ],
             [
              0.1111111111111111,
              "#46039f"
             ],
             [
              0.2222222222222222,
              "#7201a8"
             ],
             [
              0.3333333333333333,
              "#9c179e"
             ],
             [
              0.4444444444444444,
              "#bd3786"
             ],
             [
              0.5555555555555556,
              "#d8576b"
             ],
             [
              0.6666666666666666,
              "#ed7953"
             ],
             [
              0.7777777777777778,
              "#fb9f3a"
             ],
             [
              0.8888888888888888,
              "#fdca26"
             ],
             [
              1,
              "#f0f921"
             ]
            ],
            "type": "heatmap"
           }
          ],
          "histogram": [
           {
            "marker": {
             "pattern": {
              "fillmode": "overlay",
              "size": 10,
              "solidity": 0.2
             }
            },
            "type": "histogram"
           }
          ],
          "histogram2d": [
           {
            "colorbar": {
             "outlinewidth": 0,
             "ticks": ""
            },
            "colorscale": [
             [
              0,
              "#0d0887"
             ],
             [
              0.1111111111111111,
              "#46039f"
             ],
             [
              0.2222222222222222,
              "#7201a8"
             ],
             [
              0.3333333333333333,
              "#9c179e"
             ],
             [
              0.4444444444444444,
              "#bd3786"
             ],
             [
              0.5555555555555556,
              "#d8576b"
             ],
             [
              0.6666666666666666,
              "#ed7953"
             ],
             [
              0.7777777777777778,
              "#fb9f3a"
             ],
             [
              0.8888888888888888,
              "#fdca26"
             ],
             [
              1,
              "#f0f921"
             ]
            ],
            "type": "histogram2d"
           }
          ],
          "histogram2dcontour": [
           {
            "colorbar": {
             "outlinewidth": 0,
             "ticks": ""
            },
            "colorscale": [
             [
              0,
              "#0d0887"
             ],
             [
              0.1111111111111111,
              "#46039f"
             ],
             [
              0.2222222222222222,
              "#7201a8"
             ],
             [
              0.3333333333333333,
              "#9c179e"
             ],
             [
              0.4444444444444444,
              "#bd3786"
             ],
             [
              0.5555555555555556,
              "#d8576b"
             ],
             [
              0.6666666666666666,
              "#ed7953"
             ],
             [
              0.7777777777777778,
              "#fb9f3a"
             ],
             [
              0.8888888888888888,
              "#fdca26"
             ],
             [
              1,
              "#f0f921"
             ]
            ],
            "type": "histogram2dcontour"
           }
          ],
          "mesh3d": [
           {
            "colorbar": {
             "outlinewidth": 0,
             "ticks": ""
            },
            "type": "mesh3d"
           }
          ],
          "parcoords": [
           {
            "line": {
             "colorbar": {
              "outlinewidth": 0,
              "ticks": ""
             }
            },
            "type": "parcoords"
           }
          ],
          "pie": [
           {
            "automargin": true,
            "type": "pie"
           }
          ],
          "scatter": [
           {
            "fillpattern": {
             "fillmode": "overlay",
             "size": 10,
             "solidity": 0.2
            },
            "type": "scatter"
           }
          ],
          "scatter3d": [
           {
            "line": {
             "colorbar": {
              "outlinewidth": 0,
              "ticks": ""
             }
            },
            "marker": {
             "colorbar": {
              "outlinewidth": 0,
              "ticks": ""
             }
            },
            "type": "scatter3d"
           }
          ],
          "scattercarpet": [
           {
            "marker": {
             "colorbar": {
              "outlinewidth": 0,
              "ticks": ""
             }
            },
            "type": "scattercarpet"
           }
          ],
          "scattergeo": [
           {
            "marker": {
             "colorbar": {
              "outlinewidth": 0,
              "ticks": ""
             }
            },
            "type": "scattergeo"
           }
          ],
          "scattergl": [
           {
            "marker": {
             "colorbar": {
              "outlinewidth": 0,
              "ticks": ""
             }
            },
            "type": "scattergl"
           }
          ],
          "scattermap": [
           {
            "marker": {
             "colorbar": {
              "outlinewidth": 0,
              "ticks": ""
             }
            },
            "type": "scattermap"
           }
          ],
          "scattermapbox": [
           {
            "marker": {
             "colorbar": {
              "outlinewidth": 0,
              "ticks": ""
             }
            },
            "type": "scattermapbox"
           }
          ],
          "scatterpolar": [
           {
            "marker": {
             "colorbar": {
              "outlinewidth": 0,
              "ticks": ""
             }
            },
            "type": "scatterpolar"
           }
          ],
          "scatterpolargl": [
           {
            "marker": {
             "colorbar": {
              "outlinewidth": 0,
              "ticks": ""
             }
            },
            "type": "scatterpolargl"
           }
          ],
          "scatterternary": [
           {
            "marker": {
             "colorbar": {
              "outlinewidth": 0,
              "ticks": ""
             }
            },
            "type": "scatterternary"
           }
          ],
          "surface": [
           {
            "colorbar": {
             "outlinewidth": 0,
             "ticks": ""
            },
            "colorscale": [
             [
              0,
              "#0d0887"
             ],
             [
              0.1111111111111111,
              "#46039f"
             ],
             [
              0.2222222222222222,
              "#7201a8"
             ],
             [
              0.3333333333333333,
              "#9c179e"
             ],
             [
              0.4444444444444444,
              "#bd3786"
             ],
             [
              0.5555555555555556,
              "#d8576b"
             ],
             [
              0.6666666666666666,
              "#ed7953"
             ],
             [
              0.7777777777777778,
              "#fb9f3a"
             ],
             [
              0.8888888888888888,
              "#fdca26"
             ],
             [
              1,
              "#f0f921"
             ]
            ],
            "type": "surface"
           }
          ],
          "table": [
           {
            "cells": {
             "fill": {
              "color": "#EBF0F8"
             },
             "line": {
              "color": "white"
             }
            },
            "header": {
             "fill": {
              "color": "#C8D4E3"
             },
             "line": {
              "color": "white"
             }
            },
            "type": "table"
           }
          ]
         },
         "layout": {
          "annotationdefaults": {
           "arrowcolor": "#2a3f5f",
           "arrowhead": 0,
           "arrowwidth": 1
          },
          "autotypenumbers": "strict",
          "coloraxis": {
           "colorbar": {
            "outlinewidth": 0,
            "ticks": ""
           }
          },
          "colorscale": {
           "diverging": [
            [
             0,
             "#8e0152"
            ],
            [
             0.1,
             "#c51b7d"
            ],
            [
             0.2,
             "#de77ae"
            ],
            [
             0.3,
             "#f1b6da"
            ],
            [
             0.4,
             "#fde0ef"
            ],
            [
             0.5,
             "#f7f7f7"
            ],
            [
             0.6,
             "#e6f5d0"
            ],
            [
             0.7,
             "#b8e186"
            ],
            [
             0.8,
             "#7fbc41"
            ],
            [
             0.9,
             "#4d9221"
            ],
            [
             1,
             "#276419"
            ]
           ],
           "sequential": [
            [
             0,
             "#0d0887"
            ],
            [
             0.1111111111111111,
             "#46039f"
            ],
            [
             0.2222222222222222,
             "#7201a8"
            ],
            [
             0.3333333333333333,
             "#9c179e"
            ],
            [
             0.4444444444444444,
             "#bd3786"
            ],
            [
             0.5555555555555556,
             "#d8576b"
            ],
            [
             0.6666666666666666,
             "#ed7953"
            ],
            [
             0.7777777777777778,
             "#fb9f3a"
            ],
            [
             0.8888888888888888,
             "#fdca26"
            ],
            [
             1,
             "#f0f921"
            ]
           ],
           "sequentialminus": [
            [
             0,
             "#0d0887"
            ],
            [
             0.1111111111111111,
             "#46039f"
            ],
            [
             0.2222222222222222,
             "#7201a8"
            ],
            [
             0.3333333333333333,
             "#9c179e"
            ],
            [
             0.4444444444444444,
             "#bd3786"
            ],
            [
             0.5555555555555556,
             "#d8576b"
            ],
            [
             0.6666666666666666,
             "#ed7953"
            ],
            [
             0.7777777777777778,
             "#fb9f3a"
            ],
            [
             0.8888888888888888,
             "#fdca26"
            ],
            [
             1,
             "#f0f921"
            ]
           ]
          },
          "colorway": [
           "#636efa",
           "#EF553B",
           "#00cc96",
           "#ab63fa",
           "#FFA15A",
           "#19d3f3",
           "#FF6692",
           "#B6E880",
           "#FF97FF",
           "#FECB52"
          ],
          "font": {
           "color": "#2a3f5f"
          },
          "geo": {
           "bgcolor": "white",
           "lakecolor": "white",
           "landcolor": "#E5ECF6",
           "showlakes": true,
           "showland": true,
           "subunitcolor": "white"
          },
          "hoverlabel": {
           "align": "left"
          },
          "hovermode": "closest",
          "mapbox": {
           "style": "light"
          },
          "paper_bgcolor": "white",
          "plot_bgcolor": "#E5ECF6",
          "polar": {
           "angularaxis": {
            "gridcolor": "white",
            "linecolor": "white",
            "ticks": ""
           },
           "bgcolor": "#E5ECF6",
           "radialaxis": {
            "gridcolor": "white",
            "linecolor": "white",
            "ticks": ""
           }
          },
          "scene": {
           "xaxis": {
            "backgroundcolor": "#E5ECF6",
            "gridcolor": "white",
            "gridwidth": 2,
            "linecolor": "white",
            "showbackground": true,
            "ticks": "",
            "zerolinecolor": "white"
           },
           "yaxis": {
            "backgroundcolor": "#E5ECF6",
            "gridcolor": "white",
            "gridwidth": 2,
            "linecolor": "white",
            "showbackground": true,
            "ticks": "",
            "zerolinecolor": "white"
           },
           "zaxis": {
            "backgroundcolor": "#E5ECF6",
            "gridcolor": "white",
            "gridwidth": 2,
            "linecolor": "white",
            "showbackground": true,
            "ticks": "",
            "zerolinecolor": "white"
           }
          },
          "shapedefaults": {
           "line": {
            "color": "#2a3f5f"
           }
          },
          "ternary": {
           "aaxis": {
            "gridcolor": "white",
            "linecolor": "white",
            "ticks": ""
           },
           "baxis": {
            "gridcolor": "white",
            "linecolor": "white",
            "ticks": ""
           },
           "bgcolor": "#E5ECF6",
           "caxis": {
            "gridcolor": "white",
            "linecolor": "white",
            "ticks": ""
           }
          },
          "title": {
           "x": 0.05
          },
          "xaxis": {
           "automargin": true,
           "gridcolor": "white",
           "linecolor": "white",
           "ticks": "",
           "title": {
            "standoff": 15
           },
           "zerolinecolor": "white",
           "zerolinewidth": 2
          },
          "yaxis": {
           "automargin": true,
           "gridcolor": "white",
           "linecolor": "white",
           "ticks": "",
           "title": {
            "standoff": 15
           },
           "zerolinecolor": "white",
           "zerolinewidth": 2
          }
         }
        },
        "title": {
         "text": "Localização dos nomes de citação - Professores com 'L'"
        },
        "xaxis": {
         "anchor": "y",
         "domain": [
          0,
          1
         ],
         "title": {
          "text": "PCA 1"
         }
        },
        "yaxis": {
         "anchor": "x",
         "domain": [
          0,
          1
         ],
         "title": {
          "text": "PCA 2"
         }
        }
       }
      }
     },
     "metadata": {},
     "output_type": "display_data"
    },
    {
     "name": "stdout",
     "output_type": "stream",
     "text": [
      "\n",
      "Professores e nomes de citação do grupo 'L':\n",
      "- Leandro Carlos de Souza  (PCA: -0.154, -0.265)\n",
      "    • CARLOS DE SOUZA, LEANDRO  (PCA: -0.154, -0.265)\n",
      "    • SOUZA, LEANDRO  (PCA: -0.143, -0.246)\n",
      "    • DE SOUZA, LEANDRO CARLOS  (PCA: -0.154, -0.265)\n",
      "    • DE SOUZA, LEANDRO C.  (PCA: -0.147, -0.254)\n",
      "    • SOUZA, LEANDRO CARLOS  (PCA: -0.147, -0.254)\n",
      "    • SOUZA, LEANDRO C.  (PCA: -0.143, -0.246)\n",
      "    • SOUZA, LEANDRO CARLOS DE  (PCA: -0.154, -0.265)\n",
      "    • SOUZA, L.C.  (PCA: -0.119, -0.203)\n",
      "- Leonardo Vidal Batista  (PCA: -0.088, -0.144)\n",
      "    • VIDAL BATISTA, LEONARDO  (PCA: -0.088, -0.144)\n",
      "    • BATISTA, LEONARDO V.  (PCA: -0.087, -0.142)\n",
      "    • BATISTA, LEONARDO  (PCA: -0.087, -0.142)\n",
      "    • BATISTA, L. V.  (PCA: -0.078, -0.127)\n",
      "    • BATISTA, LEONARDO VIDAL  (PCA: -0.088, -0.144)\n",
      "- Liliane dos Santos Machado  (PCA: 0.734, 0.089)\n",
      "    • MACHADO, LILIANE S  (PCA: 0.797, -0.040)\n",
      "    • DOS SANTOS MACHADO, LILIANE  (PCA: 0.734, 0.089)\n",
      "    • MACHADO, LILIANE SANTOS  (PCA: 0.743, -0.036)\n",
      "    • MACHADO, LILIANE DOS S.  (PCA: 0.748, 0.118)\n",
      "    • MACHADO, LILIANEDOS SANTOS  (PCA: 0.349, -0.056)\n",
      "    • MACHADO, LILIANE DOS SANTOS  (PCA: 0.734, 0.089)\n",
      "    • LILIANE DOS S. MACHADO  (PCA: 0.748, 0.118)\n",
      "    • MACHADO, LILIANE  (PCA: 0.797, -0.040)\n",
      "    • LILIANE DOS SANTOS MACHADO  (PCA: 0.734, 0.089)\n",
      "    • MACHADO, LILIANE S.  (PCA: 0.797, -0.040)\n",
      "    • S. MACHADO, LILIANE  (PCA: 0.797, -0.040)\n",
      "    • LILIANE S. MACHADO  (PCA: 0.797, -0.040)\n",
      "    • DOS S. MACHADO, LILIANE  (PCA: 0.748, 0.118)\n",
      "- Lincoln David Nery e Silva  (PCA: -0.097, -0.160)\n",
      "    • DAVID NERY E SILVA, LINCOLN  (PCA: -0.097, -0.160)\n",
      "    • SILVA, L. D. N. E.  (PCA: -0.082, -0.134)\n",
      "    • DAVID, L.  (PCA: -0.079, -0.129)\n",
      "    • DAVID, LINCOLN  (PCA: -0.083, -0.136)\n",
      "    • SILVA, L. D. N.  (PCA: -0.082, -0.134)\n",
      "    • SILVA, L. D.  (PCA: -0.082, -0.134)\n",
      "    • L. DAVID  (PCA: -0.079, -0.129)\n",
      "    • NERY E SILVA, LINCOLN DAVID  (PCA: -0.097, -0.160)\n",
      "- Luciano Sales Barros  (PCA: -0.282, -0.547)\n",
      "    • BARROS, L.S.  (PCA: -0.255, -0.492)\n",
      "    • S. BARROS, LUCIANO  (PCA: -0.297, -0.575)\n",
      "    • LUCIANO S. BARROS  (PCA: -0.297, -0.575)\n",
      "    • LUCIANO SALES BARROS  (PCA: -0.282, -0.547)\n",
      "    • BARROS, LUCIANO S.  (PCA: -0.297, -0.575)\n",
      "    • SALES BARROS, LUCIANO  (PCA: -0.282, -0.547)\n",
      "    • L. S. BARROS  (PCA: -0.255, -0.492)\n",
      "    • BARROS, LUCIANO SALES  (PCA: -0.282, -0.547)\n",
      "    • BARROS, LUCIANO  (PCA: -0.297, -0.575)\n",
      "    • BARROS, L. S.  (PCA: -0.255, -0.492)\n",
      "- Lucidio dos Anjos Formiga Cabral  (PCA: -0.251, 0.636)\n",
      "    • DOS ANJOS FORMIGA CABRAL, LUCÍDIO  (PCA: -0.208, 0.556)\n",
      "    • CABRAL, LUCIDIO A.F.  (PCA: -0.335, 0.548)\n",
      "    • CABRAL, LUCIDIO DOS A. F.  (PCA: -0.204, 0.611)\n",
      "    • CABRAL, LUCÍDIO DOS ANJOS F.  (PCA: -0.186, 0.547)\n",
      "    • DOS ANJOS FORMIGA CABRAL, LUCIDIO  (PCA: -0.251, 0.636)\n",
      "    • DOS ANJOS F. CABRAL, LUCIDIO  (PCA: -0.236, 0.644)\n",
      "    • CABRAL, LUCIDIO A  (PCA: -0.335, 0.548)\n",
      "    • CABRAL, LUCIDIO A.  (PCA: -0.335, 0.548)\n",
      "    • CABRAL, LUCÍDIO A. F.  (PCA: -0.255, 0.406)\n",
      "    • LUCIDIO DOS A. F. CABRAL  (PCA: -0.204, 0.611)\n",
      "    • CABRAL, LUCIDIO ANJOS FORMIGA  (PCA: -0.332, 0.570)\n",
      "    • CABRAL, LUCÍDIO ANJOS FORMIGA  (PCA: -0.283, 0.485)\n",
      "    • CABRAL, LUCÍDIO DOS ANJOS FORMIGA  (PCA: -0.208, 0.556)\n",
      "    • DOS ANJOS F. CABRAL, LUCÍDIO  (PCA: -0.186, 0.547)\n",
      "    • CABRAL, LUCÍDIO DOS A. F.  (PCA: -0.144, 0.492)\n",
      "    • CABRAL, LUCIDIO A. F.  (PCA: -0.335, 0.548)\n",
      "    • CABRAL, L. A. F.  (PCA: -0.282, 0.441)\n"
     ]
    },
    {
     "data": {
      "application/vnd.plotly.v1+json": {
       "config": {
        "plotlyServerURL": "https://plot.ly"
       },
       "data": [
        {
         "hovertemplate": "%{text}",
         "legendgroup": "",
         "marker": {
          "color": "#636efa",
          "size": 10,
          "symbol": "circle"
         },
         "mode": "markers+text",
         "name": "",
         "orientation": "v",
         "showlegend": false,
         "text": [
          "Marcelo Iury de Sousa Oliveira",
          "OLIVEIRA, MARCELO IURY S.",
          "OLIVEIRA, MARCELO IURY DE SOUSA",
          "Mardson Freitas de Amorim",
          "AMORIM, M F",
          "AMORIM, M. F.",
          "DE AMORIM, MARDSON FREITAS",
          "AMORIM, MARDSON DE FREITAS",
          "Moises Dantas dos Santos",
          "SANTOS, MOISÉS DANTAS DOS",
          "DOS SANTOS, MOISÉS DANTAS",
          "SANTOS, M. D",
          "SANTOS, M. D.",
          "SANTOS, M.D.",
          "MOISES DANTAS DOS SANTOS",
          "SANTOS, MOISÉS D."
         ],
         "textposition": "top center",
         "type": "scatter",
         "x": {
          "bdata": "t3fijgMz17/6QA2ctI/Qv7l34o4DM9e/GbkiLGOj5b9Kcb2yZr7gv0pxvbJmvuC/GbkiLGOj5b8ZuSIsY6Plv/fRPzSNz90/f+V81EUM4T9/5XzURQzhP0SvM8+qHuE/RK8zz6oe4T9FrzPPqh7hP/fRPzSNz90/ovbu93Y73T8=",
          "dtype": "f8"
         },
         "xaxis": "x",
         "y": {
          "bdata": "csGJmcRV6r+5zw4bP0fqv3XBiZnEVeq/vIG/QppG1j8Yp0LfObPZPxinQt85s9k/vIG/QppG1j+8gb9CmkbWPzwWc7xodLA/nEWJVH3ctD+cRYlUfdy0PziH1/P8XLY/OIfX8/xctj81h9fz/Fy2PzwWc7xodLA/LPqDWHX0sD8=",
          "dtype": "f8"
         },
         "yaxis": "y"
        }
       ],
       "layout": {
        "legend": {
         "tracegroupgap": 0
        },
        "template": {
         "data": {
          "bar": [
           {
            "error_x": {
             "color": "#2a3f5f"
            },
            "error_y": {
             "color": "#2a3f5f"
            },
            "marker": {
             "line": {
              "color": "#E5ECF6",
              "width": 0.5
             },
             "pattern": {
              "fillmode": "overlay",
              "size": 10,
              "solidity": 0.2
             }
            },
            "type": "bar"
           }
          ],
          "barpolar": [
           {
            "marker": {
             "line": {
              "color": "#E5ECF6",
              "width": 0.5
             },
             "pattern": {
              "fillmode": "overlay",
              "size": 10,
              "solidity": 0.2
             }
            },
            "type": "barpolar"
           }
          ],
          "carpet": [
           {
            "aaxis": {
             "endlinecolor": "#2a3f5f",
             "gridcolor": "white",
             "linecolor": "white",
             "minorgridcolor": "white",
             "startlinecolor": "#2a3f5f"
            },
            "baxis": {
             "endlinecolor": "#2a3f5f",
             "gridcolor": "white",
             "linecolor": "white",
             "minorgridcolor": "white",
             "startlinecolor": "#2a3f5f"
            },
            "type": "carpet"
           }
          ],
          "choropleth": [
           {
            "colorbar": {
             "outlinewidth": 0,
             "ticks": ""
            },
            "type": "choropleth"
           }
          ],
          "contour": [
           {
            "colorbar": {
             "outlinewidth": 0,
             "ticks": ""
            },
            "colorscale": [
             [
              0,
              "#0d0887"
             ],
             [
              0.1111111111111111,
              "#46039f"
             ],
             [
              0.2222222222222222,
              "#7201a8"
             ],
             [
              0.3333333333333333,
              "#9c179e"
             ],
             [
              0.4444444444444444,
              "#bd3786"
             ],
             [
              0.5555555555555556,
              "#d8576b"
             ],
             [
              0.6666666666666666,
              "#ed7953"
             ],
             [
              0.7777777777777778,
              "#fb9f3a"
             ],
             [
              0.8888888888888888,
              "#fdca26"
             ],
             [
              1,
              "#f0f921"
             ]
            ],
            "type": "contour"
           }
          ],
          "contourcarpet": [
           {
            "colorbar": {
             "outlinewidth": 0,
             "ticks": ""
            },
            "type": "contourcarpet"
           }
          ],
          "heatmap": [
           {
            "colorbar": {
             "outlinewidth": 0,
             "ticks": ""
            },
            "colorscale": [
             [
              0,
              "#0d0887"
             ],
             [
              0.1111111111111111,
              "#46039f"
             ],
             [
              0.2222222222222222,
              "#7201a8"
             ],
             [
              0.3333333333333333,
              "#9c179e"
             ],
             [
              0.4444444444444444,
              "#bd3786"
             ],
             [
              0.5555555555555556,
              "#d8576b"
             ],
             [
              0.6666666666666666,
              "#ed7953"
             ],
             [
              0.7777777777777778,
              "#fb9f3a"
             ],
             [
              0.8888888888888888,
              "#fdca26"
             ],
             [
              1,
              "#f0f921"
             ]
            ],
            "type": "heatmap"
           }
          ],
          "histogram": [
           {
            "marker": {
             "pattern": {
              "fillmode": "overlay",
              "size": 10,
              "solidity": 0.2
             }
            },
            "type": "histogram"
           }
          ],
          "histogram2d": [
           {
            "colorbar": {
             "outlinewidth": 0,
             "ticks": ""
            },
            "colorscale": [
             [
              0,
              "#0d0887"
             ],
             [
              0.1111111111111111,
              "#46039f"
             ],
             [
              0.2222222222222222,
              "#7201a8"
             ],
             [
              0.3333333333333333,
              "#9c179e"
             ],
             [
              0.4444444444444444,
              "#bd3786"
             ],
             [
              0.5555555555555556,
              "#d8576b"
             ],
             [
              0.6666666666666666,
              "#ed7953"
             ],
             [
              0.7777777777777778,
              "#fb9f3a"
             ],
             [
              0.8888888888888888,
              "#fdca26"
             ],
             [
              1,
              "#f0f921"
             ]
            ],
            "type": "histogram2d"
           }
          ],
          "histogram2dcontour": [
           {
            "colorbar": {
             "outlinewidth": 0,
             "ticks": ""
            },
            "colorscale": [
             [
              0,
              "#0d0887"
             ],
             [
              0.1111111111111111,
              "#46039f"
             ],
             [
              0.2222222222222222,
              "#7201a8"
             ],
             [
              0.3333333333333333,
              "#9c179e"
             ],
             [
              0.4444444444444444,
              "#bd3786"
             ],
             [
              0.5555555555555556,
              "#d8576b"
             ],
             [
              0.6666666666666666,
              "#ed7953"
             ],
             [
              0.7777777777777778,
              "#fb9f3a"
             ],
             [
              0.8888888888888888,
              "#fdca26"
             ],
             [
              1,
              "#f0f921"
             ]
            ],
            "type": "histogram2dcontour"
           }
          ],
          "mesh3d": [
           {
            "colorbar": {
             "outlinewidth": 0,
             "ticks": ""
            },
            "type": "mesh3d"
           }
          ],
          "parcoords": [
           {
            "line": {
             "colorbar": {
              "outlinewidth": 0,
              "ticks": ""
             }
            },
            "type": "parcoords"
           }
          ],
          "pie": [
           {
            "automargin": true,
            "type": "pie"
           }
          ],
          "scatter": [
           {
            "fillpattern": {
             "fillmode": "overlay",
             "size": 10,
             "solidity": 0.2
            },
            "type": "scatter"
           }
          ],
          "scatter3d": [
           {
            "line": {
             "colorbar": {
              "outlinewidth": 0,
              "ticks": ""
             }
            },
            "marker": {
             "colorbar": {
              "outlinewidth": 0,
              "ticks": ""
             }
            },
            "type": "scatter3d"
           }
          ],
          "scattercarpet": [
           {
            "marker": {
             "colorbar": {
              "outlinewidth": 0,
              "ticks": ""
             }
            },
            "type": "scattercarpet"
           }
          ],
          "scattergeo": [
           {
            "marker": {
             "colorbar": {
              "outlinewidth": 0,
              "ticks": ""
             }
            },
            "type": "scattergeo"
           }
          ],
          "scattergl": [
           {
            "marker": {
             "colorbar": {
              "outlinewidth": 0,
              "ticks": ""
             }
            },
            "type": "scattergl"
           }
          ],
          "scattermap": [
           {
            "marker": {
             "colorbar": {
              "outlinewidth": 0,
              "ticks": ""
             }
            },
            "type": "scattermap"
           }
          ],
          "scattermapbox": [
           {
            "marker": {
             "colorbar": {
              "outlinewidth": 0,
              "ticks": ""
             }
            },
            "type": "scattermapbox"
           }
          ],
          "scatterpolar": [
           {
            "marker": {
             "colorbar": {
              "outlinewidth": 0,
              "ticks": ""
             }
            },
            "type": "scatterpolar"
           }
          ],
          "scatterpolargl": [
           {
            "marker": {
             "colorbar": {
              "outlinewidth": 0,
              "ticks": ""
             }
            },
            "type": "scatterpolargl"
           }
          ],
          "scatterternary": [
           {
            "marker": {
             "colorbar": {
              "outlinewidth": 0,
              "ticks": ""
             }
            },
            "type": "scatterternary"
           }
          ],
          "surface": [
           {
            "colorbar": {
             "outlinewidth": 0,
             "ticks": ""
            },
            "colorscale": [
             [
              0,
              "#0d0887"
             ],
             [
              0.1111111111111111,
              "#46039f"
             ],
             [
              0.2222222222222222,
              "#7201a8"
             ],
             [
              0.3333333333333333,
              "#9c179e"
             ],
             [
              0.4444444444444444,
              "#bd3786"
             ],
             [
              0.5555555555555556,
              "#d8576b"
             ],
             [
              0.6666666666666666,
              "#ed7953"
             ],
             [
              0.7777777777777778,
              "#fb9f3a"
             ],
             [
              0.8888888888888888,
              "#fdca26"
             ],
             [
              1,
              "#f0f921"
             ]
            ],
            "type": "surface"
           }
          ],
          "table": [
           {
            "cells": {
             "fill": {
              "color": "#EBF0F8"
             },
             "line": {
              "color": "white"
             }
            },
            "header": {
             "fill": {
              "color": "#C8D4E3"
             },
             "line": {
              "color": "white"
             }
            },
            "type": "table"
           }
          ]
         },
         "layout": {
          "annotationdefaults": {
           "arrowcolor": "#2a3f5f",
           "arrowhead": 0,
           "arrowwidth": 1
          },
          "autotypenumbers": "strict",
          "coloraxis": {
           "colorbar": {
            "outlinewidth": 0,
            "ticks": ""
           }
          },
          "colorscale": {
           "diverging": [
            [
             0,
             "#8e0152"
            ],
            [
             0.1,
             "#c51b7d"
            ],
            [
             0.2,
             "#de77ae"
            ],
            [
             0.3,
             "#f1b6da"
            ],
            [
             0.4,
             "#fde0ef"
            ],
            [
             0.5,
             "#f7f7f7"
            ],
            [
             0.6,
             "#e6f5d0"
            ],
            [
             0.7,
             "#b8e186"
            ],
            [
             0.8,
             "#7fbc41"
            ],
            [
             0.9,
             "#4d9221"
            ],
            [
             1,
             "#276419"
            ]
           ],
           "sequential": [
            [
             0,
             "#0d0887"
            ],
            [
             0.1111111111111111,
             "#46039f"
            ],
            [
             0.2222222222222222,
             "#7201a8"
            ],
            [
             0.3333333333333333,
             "#9c179e"
            ],
            [
             0.4444444444444444,
             "#bd3786"
            ],
            [
             0.5555555555555556,
             "#d8576b"
            ],
            [
             0.6666666666666666,
             "#ed7953"
            ],
            [
             0.7777777777777778,
             "#fb9f3a"
            ],
            [
             0.8888888888888888,
             "#fdca26"
            ],
            [
             1,
             "#f0f921"
            ]
           ],
           "sequentialminus": [
            [
             0,
             "#0d0887"
            ],
            [
             0.1111111111111111,
             "#46039f"
            ],
            [
             0.2222222222222222,
             "#7201a8"
            ],
            [
             0.3333333333333333,
             "#9c179e"
            ],
            [
             0.4444444444444444,
             "#bd3786"
            ],
            [
             0.5555555555555556,
             "#d8576b"
            ],
            [
             0.6666666666666666,
             "#ed7953"
            ],
            [
             0.7777777777777778,
             "#fb9f3a"
            ],
            [
             0.8888888888888888,
             "#fdca26"
            ],
            [
             1,
             "#f0f921"
            ]
           ]
          },
          "colorway": [
           "#636efa",
           "#EF553B",
           "#00cc96",
           "#ab63fa",
           "#FFA15A",
           "#19d3f3",
           "#FF6692",
           "#B6E880",
           "#FF97FF",
           "#FECB52"
          ],
          "font": {
           "color": "#2a3f5f"
          },
          "geo": {
           "bgcolor": "white",
           "lakecolor": "white",
           "landcolor": "#E5ECF6",
           "showlakes": true,
           "showland": true,
           "subunitcolor": "white"
          },
          "hoverlabel": {
           "align": "left"
          },
          "hovermode": "closest",
          "mapbox": {
           "style": "light"
          },
          "paper_bgcolor": "white",
          "plot_bgcolor": "#E5ECF6",
          "polar": {
           "angularaxis": {
            "gridcolor": "white",
            "linecolor": "white",
            "ticks": ""
           },
           "bgcolor": "#E5ECF6",
           "radialaxis": {
            "gridcolor": "white",
            "linecolor": "white",
            "ticks": ""
           }
          },
          "scene": {
           "xaxis": {
            "backgroundcolor": "#E5ECF6",
            "gridcolor": "white",
            "gridwidth": 2,
            "linecolor": "white",
            "showbackground": true,
            "ticks": "",
            "zerolinecolor": "white"
           },
           "yaxis": {
            "backgroundcolor": "#E5ECF6",
            "gridcolor": "white",
            "gridwidth": 2,
            "linecolor": "white",
            "showbackground": true,
            "ticks": "",
            "zerolinecolor": "white"
           },
           "zaxis": {
            "backgroundcolor": "#E5ECF6",
            "gridcolor": "white",
            "gridwidth": 2,
            "linecolor": "white",
            "showbackground": true,
            "ticks": "",
            "zerolinecolor": "white"
           }
          },
          "shapedefaults": {
           "line": {
            "color": "#2a3f5f"
           }
          },
          "ternary": {
           "aaxis": {
            "gridcolor": "white",
            "linecolor": "white",
            "ticks": ""
           },
           "baxis": {
            "gridcolor": "white",
            "linecolor": "white",
            "ticks": ""
           },
           "bgcolor": "#E5ECF6",
           "caxis": {
            "gridcolor": "white",
            "linecolor": "white",
            "ticks": ""
           }
          },
          "title": {
           "x": 0.05
          },
          "xaxis": {
           "automargin": true,
           "gridcolor": "white",
           "linecolor": "white",
           "ticks": "",
           "title": {
            "standoff": 15
           },
           "zerolinecolor": "white",
           "zerolinewidth": 2
          },
          "yaxis": {
           "automargin": true,
           "gridcolor": "white",
           "linecolor": "white",
           "ticks": "",
           "title": {
            "standoff": 15
           },
           "zerolinecolor": "white",
           "zerolinewidth": 2
          }
         }
        },
        "title": {
         "text": "Localização dos nomes de citação - Professores com 'M'"
        },
        "xaxis": {
         "anchor": "y",
         "domain": [
          0,
          1
         ],
         "title": {
          "text": "PCA 1"
         }
        },
        "yaxis": {
         "anchor": "x",
         "domain": [
          0,
          1
         ],
         "title": {
          "text": "PCA 2"
         }
        }
       }
      }
     },
     "metadata": {},
     "output_type": "display_data"
    },
    {
     "name": "stdout",
     "output_type": "stream",
     "text": [
      "\n",
      "Professores e nomes de citação do grupo 'M':\n",
      "- Marcelo Iury de Sousa Oliveira  (PCA: -0.362, -0.823)\n",
      "    • OLIVEIRA, MARCELO IURY S.  (PCA: -0.259, -0.821)\n",
      "    • OLIVEIRA, MARCELO IURY DE SOUSA  (PCA: -0.362, -0.823)\n",
      "- Mardson Freitas de Amorim  (PCA: -0.676, 0.348)\n",
      "    • AMORIM, M F  (PCA: -0.523, 0.402)\n",
      "    • AMORIM, M. F.  (PCA: -0.523, 0.402)\n",
      "    • DE AMORIM, MARDSON FREITAS  (PCA: -0.676, 0.348)\n",
      "    • AMORIM, MARDSON DE FREITAS  (PCA: -0.676, 0.348)\n",
      "- Moises Dantas dos Santos  (PCA: 0.466, 0.064)\n",
      "    • SANTOS, MOISÉS DANTAS DOS  (PCA: 0.533, 0.081)\n",
      "    • DOS SANTOS, MOISÉS DANTAS  (PCA: 0.533, 0.081)\n",
      "    • SANTOS, M. D  (PCA: 0.535, 0.087)\n",
      "    • SANTOS, M. D.  (PCA: 0.535, 0.087)\n",
      "    • SANTOS, M.D.  (PCA: 0.535, 0.087)\n",
      "    • MOISES DANTAS DOS SANTOS  (PCA: 0.466, 0.064)\n",
      "    • SANTOS, MOISÉS D.  (PCA: 0.457, 0.066)\n"
     ]
    },
    {
     "data": {
      "application/vnd.plotly.v1+json": {
       "config": {
        "plotlyServerURL": "https://plot.ly"
       },
       "data": [
        {
         "hovertemplate": "%{text}",
         "legendgroup": "",
         "marker": {
          "color": "#636efa",
          "size": 10,
          "symbol": "circle"
         },
         "mode": "markers+text",
         "name": "",
         "orientation": "v",
         "showlegend": false,
         "text": [
          "Natasha Correia Queiroz Lino",
          "LINO, N. C. Q.",
          "LINO, NATASHA",
          "LINO, NATASHA C. Q.",
          "LINO, NATASHA C.Q.",
          "LINO, NATASHA C Q",
          "LINO, NATASHA CORREIA QUEIROZ"
         ],
         "textposition": "top center",
         "type": "scatter",
         "x": {
          "bdata": "0Ajjwtnq5j8ClnZVycDNvw82NJjAMtO/DzY0mMAy078PNjSYwDLTvw82NJjAMtO/zwjjwtnq5j8=",
          "dtype": "f8"
         },
         "xaxis": "x",
         "y": {
          "bdata": "5wS9VJielj/A5EfNCkblv3AU/Ech3MM/cBT8RyHcwz9wFPxHIdzDP3AU/Ech3MM/5QS9VJielj8=",
          "dtype": "f8"
         },
         "yaxis": "y"
        }
       ],
       "layout": {
        "legend": {
         "tracegroupgap": 0
        },
        "template": {
         "data": {
          "bar": [
           {
            "error_x": {
             "color": "#2a3f5f"
            },
            "error_y": {
             "color": "#2a3f5f"
            },
            "marker": {
             "line": {
              "color": "#E5ECF6",
              "width": 0.5
             },
             "pattern": {
              "fillmode": "overlay",
              "size": 10,
              "solidity": 0.2
             }
            },
            "type": "bar"
           }
          ],
          "barpolar": [
           {
            "marker": {
             "line": {
              "color": "#E5ECF6",
              "width": 0.5
             },
             "pattern": {
              "fillmode": "overlay",
              "size": 10,
              "solidity": 0.2
             }
            },
            "type": "barpolar"
           }
          ],
          "carpet": [
           {
            "aaxis": {
             "endlinecolor": "#2a3f5f",
             "gridcolor": "white",
             "linecolor": "white",
             "minorgridcolor": "white",
             "startlinecolor": "#2a3f5f"
            },
            "baxis": {
             "endlinecolor": "#2a3f5f",
             "gridcolor": "white",
             "linecolor": "white",
             "minorgridcolor": "white",
             "startlinecolor": "#2a3f5f"
            },
            "type": "carpet"
           }
          ],
          "choropleth": [
           {
            "colorbar": {
             "outlinewidth": 0,
             "ticks": ""
            },
            "type": "choropleth"
           }
          ],
          "contour": [
           {
            "colorbar": {
             "outlinewidth": 0,
             "ticks": ""
            },
            "colorscale": [
             [
              0,
              "#0d0887"
             ],
             [
              0.1111111111111111,
              "#46039f"
             ],
             [
              0.2222222222222222,
              "#7201a8"
             ],
             [
              0.3333333333333333,
              "#9c179e"
             ],
             [
              0.4444444444444444,
              "#bd3786"
             ],
             [
              0.5555555555555556,
              "#d8576b"
             ],
             [
              0.6666666666666666,
              "#ed7953"
             ],
             [
              0.7777777777777778,
              "#fb9f3a"
             ],
             [
              0.8888888888888888,
              "#fdca26"
             ],
             [
              1,
              "#f0f921"
             ]
            ],
            "type": "contour"
           }
          ],
          "contourcarpet": [
           {
            "colorbar": {
             "outlinewidth": 0,
             "ticks": ""
            },
            "type": "contourcarpet"
           }
          ],
          "heatmap": [
           {
            "colorbar": {
             "outlinewidth": 0,
             "ticks": ""
            },
            "colorscale": [
             [
              0,
              "#0d0887"
             ],
             [
              0.1111111111111111,
              "#46039f"
             ],
             [
              0.2222222222222222,
              "#7201a8"
             ],
             [
              0.3333333333333333,
              "#9c179e"
             ],
             [
              0.4444444444444444,
              "#bd3786"
             ],
             [
              0.5555555555555556,
              "#d8576b"
             ],
             [
              0.6666666666666666,
              "#ed7953"
             ],
             [
              0.7777777777777778,
              "#fb9f3a"
             ],
             [
              0.8888888888888888,
              "#fdca26"
             ],
             [
              1,
              "#f0f921"
             ]
            ],
            "type": "heatmap"
           }
          ],
          "histogram": [
           {
            "marker": {
             "pattern": {
              "fillmode": "overlay",
              "size": 10,
              "solidity": 0.2
             }
            },
            "type": "histogram"
           }
          ],
          "histogram2d": [
           {
            "colorbar": {
             "outlinewidth": 0,
             "ticks": ""
            },
            "colorscale": [
             [
              0,
              "#0d0887"
             ],
             [
              0.1111111111111111,
              "#46039f"
             ],
             [
              0.2222222222222222,
              "#7201a8"
             ],
             [
              0.3333333333333333,
              "#9c179e"
             ],
             [
              0.4444444444444444,
              "#bd3786"
             ],
             [
              0.5555555555555556,
              "#d8576b"
             ],
             [
              0.6666666666666666,
              "#ed7953"
             ],
             [
              0.7777777777777778,
              "#fb9f3a"
             ],
             [
              0.8888888888888888,
              "#fdca26"
             ],
             [
              1,
              "#f0f921"
             ]
            ],
            "type": "histogram2d"
           }
          ],
          "histogram2dcontour": [
           {
            "colorbar": {
             "outlinewidth": 0,
             "ticks": ""
            },
            "colorscale": [
             [
              0,
              "#0d0887"
             ],
             [
              0.1111111111111111,
              "#46039f"
             ],
             [
              0.2222222222222222,
              "#7201a8"
             ],
             [
              0.3333333333333333,
              "#9c179e"
             ],
             [
              0.4444444444444444,
              "#bd3786"
             ],
             [
              0.5555555555555556,
              "#d8576b"
             ],
             [
              0.6666666666666666,
              "#ed7953"
             ],
             [
              0.7777777777777778,
              "#fb9f3a"
             ],
             [
              0.8888888888888888,
              "#fdca26"
             ],
             [
              1,
              "#f0f921"
             ]
            ],
            "type": "histogram2dcontour"
           }
          ],
          "mesh3d": [
           {
            "colorbar": {
             "outlinewidth": 0,
             "ticks": ""
            },
            "type": "mesh3d"
           }
          ],
          "parcoords": [
           {
            "line": {
             "colorbar": {
              "outlinewidth": 0,
              "ticks": ""
             }
            },
            "type": "parcoords"
           }
          ],
          "pie": [
           {
            "automargin": true,
            "type": "pie"
           }
          ],
          "scatter": [
           {
            "fillpattern": {
             "fillmode": "overlay",
             "size": 10,
             "solidity": 0.2
            },
            "type": "scatter"
           }
          ],
          "scatter3d": [
           {
            "line": {
             "colorbar": {
              "outlinewidth": 0,
              "ticks": ""
             }
            },
            "marker": {
             "colorbar": {
              "outlinewidth": 0,
              "ticks": ""
             }
            },
            "type": "scatter3d"
           }
          ],
          "scattercarpet": [
           {
            "marker": {
             "colorbar": {
              "outlinewidth": 0,
              "ticks": ""
             }
            },
            "type": "scattercarpet"
           }
          ],
          "scattergeo": [
           {
            "marker": {
             "colorbar": {
              "outlinewidth": 0,
              "ticks": ""
             }
            },
            "type": "scattergeo"
           }
          ],
          "scattergl": [
           {
            "marker": {
             "colorbar": {
              "outlinewidth": 0,
              "ticks": ""
             }
            },
            "type": "scattergl"
           }
          ],
          "scattermap": [
           {
            "marker": {
             "colorbar": {
              "outlinewidth": 0,
              "ticks": ""
             }
            },
            "type": "scattermap"
           }
          ],
          "scattermapbox": [
           {
            "marker": {
             "colorbar": {
              "outlinewidth": 0,
              "ticks": ""
             }
            },
            "type": "scattermapbox"
           }
          ],
          "scatterpolar": [
           {
            "marker": {
             "colorbar": {
              "outlinewidth": 0,
              "ticks": ""
             }
            },
            "type": "scatterpolar"
           }
          ],
          "scatterpolargl": [
           {
            "marker": {
             "colorbar": {
              "outlinewidth": 0,
              "ticks": ""
             }
            },
            "type": "scatterpolargl"
           }
          ],
          "scatterternary": [
           {
            "marker": {
             "colorbar": {
              "outlinewidth": 0,
              "ticks": ""
             }
            },
            "type": "scatterternary"
           }
          ],
          "surface": [
           {
            "colorbar": {
             "outlinewidth": 0,
             "ticks": ""
            },
            "colorscale": [
             [
              0,
              "#0d0887"
             ],
             [
              0.1111111111111111,
              "#46039f"
             ],
             [
              0.2222222222222222,
              "#7201a8"
             ],
             [
              0.3333333333333333,
              "#9c179e"
             ],
             [
              0.4444444444444444,
              "#bd3786"
             ],
             [
              0.5555555555555556,
              "#d8576b"
             ],
             [
              0.6666666666666666,
              "#ed7953"
             ],
             [
              0.7777777777777778,
              "#fb9f3a"
             ],
             [
              0.8888888888888888,
              "#fdca26"
             ],
             [
              1,
              "#f0f921"
             ]
            ],
            "type": "surface"
           }
          ],
          "table": [
           {
            "cells": {
             "fill": {
              "color": "#EBF0F8"
             },
             "line": {
              "color": "white"
             }
            },
            "header": {
             "fill": {
              "color": "#C8D4E3"
             },
             "line": {
              "color": "white"
             }
            },
            "type": "table"
           }
          ]
         },
         "layout": {
          "annotationdefaults": {
           "arrowcolor": "#2a3f5f",
           "arrowhead": 0,
           "arrowwidth": 1
          },
          "autotypenumbers": "strict",
          "coloraxis": {
           "colorbar": {
            "outlinewidth": 0,
            "ticks": ""
           }
          },
          "colorscale": {
           "diverging": [
            [
             0,
             "#8e0152"
            ],
            [
             0.1,
             "#c51b7d"
            ],
            [
             0.2,
             "#de77ae"
            ],
            [
             0.3,
             "#f1b6da"
            ],
            [
             0.4,
             "#fde0ef"
            ],
            [
             0.5,
             "#f7f7f7"
            ],
            [
             0.6,
             "#e6f5d0"
            ],
            [
             0.7,
             "#b8e186"
            ],
            [
             0.8,
             "#7fbc41"
            ],
            [
             0.9,
             "#4d9221"
            ],
            [
             1,
             "#276419"
            ]
           ],
           "sequential": [
            [
             0,
             "#0d0887"
            ],
            [
             0.1111111111111111,
             "#46039f"
            ],
            [
             0.2222222222222222,
             "#7201a8"
            ],
            [
             0.3333333333333333,
             "#9c179e"
            ],
            [
             0.4444444444444444,
             "#bd3786"
            ],
            [
             0.5555555555555556,
             "#d8576b"
            ],
            [
             0.6666666666666666,
             "#ed7953"
            ],
            [
             0.7777777777777778,
             "#fb9f3a"
            ],
            [
             0.8888888888888888,
             "#fdca26"
            ],
            [
             1,
             "#f0f921"
            ]
           ],
           "sequentialminus": [
            [
             0,
             "#0d0887"
            ],
            [
             0.1111111111111111,
             "#46039f"
            ],
            [
             0.2222222222222222,
             "#7201a8"
            ],
            [
             0.3333333333333333,
             "#9c179e"
            ],
            [
             0.4444444444444444,
             "#bd3786"
            ],
            [
             0.5555555555555556,
             "#d8576b"
            ],
            [
             0.6666666666666666,
             "#ed7953"
            ],
            [
             0.7777777777777778,
             "#fb9f3a"
            ],
            [
             0.8888888888888888,
             "#fdca26"
            ],
            [
             1,
             "#f0f921"
            ]
           ]
          },
          "colorway": [
           "#636efa",
           "#EF553B",
           "#00cc96",
           "#ab63fa",
           "#FFA15A",
           "#19d3f3",
           "#FF6692",
           "#B6E880",
           "#FF97FF",
           "#FECB52"
          ],
          "font": {
           "color": "#2a3f5f"
          },
          "geo": {
           "bgcolor": "white",
           "lakecolor": "white",
           "landcolor": "#E5ECF6",
           "showlakes": true,
           "showland": true,
           "subunitcolor": "white"
          },
          "hoverlabel": {
           "align": "left"
          },
          "hovermode": "closest",
          "mapbox": {
           "style": "light"
          },
          "paper_bgcolor": "white",
          "plot_bgcolor": "#E5ECF6",
          "polar": {
           "angularaxis": {
            "gridcolor": "white",
            "linecolor": "white",
            "ticks": ""
           },
           "bgcolor": "#E5ECF6",
           "radialaxis": {
            "gridcolor": "white",
            "linecolor": "white",
            "ticks": ""
           }
          },
          "scene": {
           "xaxis": {
            "backgroundcolor": "#E5ECF6",
            "gridcolor": "white",
            "gridwidth": 2,
            "linecolor": "white",
            "showbackground": true,
            "ticks": "",
            "zerolinecolor": "white"
           },
           "yaxis": {
            "backgroundcolor": "#E5ECF6",
            "gridcolor": "white",
            "gridwidth": 2,
            "linecolor": "white",
            "showbackground": true,
            "ticks": "",
            "zerolinecolor": "white"
           },
           "zaxis": {
            "backgroundcolor": "#E5ECF6",
            "gridcolor": "white",
            "gridwidth": 2,
            "linecolor": "white",
            "showbackground": true,
            "ticks": "",
            "zerolinecolor": "white"
           }
          },
          "shapedefaults": {
           "line": {
            "color": "#2a3f5f"
           }
          },
          "ternary": {
           "aaxis": {
            "gridcolor": "white",
            "linecolor": "white",
            "ticks": ""
           },
           "baxis": {
            "gridcolor": "white",
            "linecolor": "white",
            "ticks": ""
           },
           "bgcolor": "#E5ECF6",
           "caxis": {
            "gridcolor": "white",
            "linecolor": "white",
            "ticks": ""
           }
          },
          "title": {
           "x": 0.05
          },
          "xaxis": {
           "automargin": true,
           "gridcolor": "white",
           "linecolor": "white",
           "ticks": "",
           "title": {
            "standoff": 15
           },
           "zerolinecolor": "white",
           "zerolinewidth": 2
          },
          "yaxis": {
           "automargin": true,
           "gridcolor": "white",
           "linecolor": "white",
           "ticks": "",
           "title": {
            "standoff": 15
           },
           "zerolinecolor": "white",
           "zerolinewidth": 2
          }
         }
        },
        "title": {
         "text": "Localização dos nomes de citação - Professores com 'N'"
        },
        "xaxis": {
         "anchor": "y",
         "domain": [
          0,
          1
         ],
         "title": {
          "text": "PCA 1"
         }
        },
        "yaxis": {
         "anchor": "x",
         "domain": [
          0,
          1
         ],
         "title": {
          "text": "PCA 2"
         }
        }
       }
      }
     },
     "metadata": {},
     "output_type": "display_data"
    },
    {
     "name": "stdout",
     "output_type": "stream",
     "text": [
      "\n",
      "Professores e nomes de citação do grupo 'N':\n",
      "- Natasha Correia Queiroz Lino  (PCA: 0.716, 0.022)\n",
      "    • LINO, N. C. Q.  (PCA: -0.232, -0.665)\n",
      "    • LINO, NATASHA  (PCA: -0.300, 0.155)\n",
      "    • LINO, NATASHA C. Q.  (PCA: -0.300, 0.155)\n",
      "    • LINO, NATASHA C.Q.  (PCA: -0.300, 0.155)\n",
      "    • LINO, NATASHA C Q  (PCA: -0.300, 0.155)\n",
      "    • LINO, NATASHA CORREIA QUEIROZ  (PCA: 0.716, 0.022)\n"
     ]
    },
    {
     "data": {
      "application/vnd.plotly.v1+json": {
       "config": {
        "plotlyServerURL": "https://plot.ly"
       },
       "data": [
        {
         "hovertemplate": "%{text}",
         "legendgroup": "",
         "marker": {
          "color": "#636efa",
          "size": 10,
          "symbol": "circle"
         },
         "mode": "markers+text",
         "name": "",
         "orientation": "v",
         "showlegend": false,
         "text": [
          "Raoni Kulesza",
          "ABÁSOLO, M. J., KULESZA, R.",
          "MARÍA JOSÉ ABÁSOLO, RAONI KULESZA",
          "KULESZA, RAONI",
          "MARÍA JOSÉ ABÁSOLO",
          "ABÁSOLO, MARÍA JOSÉ, KULESZA, RAONI",
          "KULESZA, R.",
          "ABÁSOLO, M. J.",
          "Roberto Quirino do Nascimento",
          "QUIRINO DO NASCIMENTO, ROBERTO",
          "NASCIMENTO, ROBERTO QUIRINO",
          "NASCIMENTO, R. Q.",
          "DO NASCIMENTO, ROBERTO QUIRINO",
          "NASCIMENTO, ROBERTO QUIRINO DO",
          "Ruy Alberto Pisani Altafim",
          "ALTAFIM, R. A. P",
          "ALTAFIM, R.A.P.",
          "ALTAFIM, RUY ALBERTO PISANI",
          "ALTAFIM, R. A. P.",
          "ALTAFIM, R A P",
          "PISANI ALTAFIM, RUY",
          "ALTAFIM, NULL",
          "ALTAFIMA, R. A. P",
          "ALTAFIM, RUY A. P.",
          "PISANI ALTAFIM, RUY ALBERTO",
          "ALTAFIM, RUY ALBERTO",
          "RUY ALBERTO PISANI ALTAFIM",
          "Rômulo Calado Pantaleão Camara",
          "CAMARA, RÔMULO",
          "CAMARA, ROMULO",
          "CAMARA, R. C. P."
         ],
         "textposition": "top center",
         "type": "scatter",
         "x": {
          "bdata": "ibn7UCqx1r/hCkDFzuDXv4fXdOHBSdq/hLn7UCqx1r+Zi3EB21TTv4/XdOHBSdq/3K2VL2GY1L/WpZ5u0ljRvyG50Vul9eC/IbnRW6X14L+JszoBMr/fv4VET2/oMde/IbnRW6X14L8hudFbpfXgv6PEX/imFuQ/AhQStxML4T8CFBK3EwvhP6TEX/imFuQ/AhQStxML4T8CFBK3EwvhP3fncybP7uI/F4IKtANNyj9eGZMb23DAv23Y+ogol+I/pMRf+KYW5D9353Mmz+7iP6TEX/imFuQ/G9caHjvzxb8VPoOlflvHv24urbvqt8W/BLIWNlROx78=",
          "dtype": "f8"
         },
         "xaxis": "x",
         "y": {
          "bdata": "Smi23WYh4T8/5/WBIPDhP1PcidaukeQ/S2i23WYh4T9d1mzBfuHaP1HcidaukeQ/9uoymr/L3T9upARShXvWP3va1iIYUOa/e9rWIhhQ5r8B7sjEP1Xkv9YscIz5Mdm/e9rWIhhQ5r972tYiGFDmv3qXJV1YurG/pC0nSweaqb+eLSdLB5qpv3eXJV1YurG/nS0nSweaqb+dLSdLB5qpv3VUE26vKrC/OI+ukuqJcL8p49424H+mPxB7BVG4tq6/d5clXVi6sb9wVBNuryqwv3eXJV1YurG/odVl+z+5sT/nGNjhLkyzP7DBzGdCdLE/Dz/dAKM8sz8=",
          "dtype": "f8"
         },
         "yaxis": "y"
        }
       ],
       "layout": {
        "legend": {
         "tracegroupgap": 0
        },
        "template": {
         "data": {
          "bar": [
           {
            "error_x": {
             "color": "#2a3f5f"
            },
            "error_y": {
             "color": "#2a3f5f"
            },
            "marker": {
             "line": {
              "color": "#E5ECF6",
              "width": 0.5
             },
             "pattern": {
              "fillmode": "overlay",
              "size": 10,
              "solidity": 0.2
             }
            },
            "type": "bar"
           }
          ],
          "barpolar": [
           {
            "marker": {
             "line": {
              "color": "#E5ECF6",
              "width": 0.5
             },
             "pattern": {
              "fillmode": "overlay",
              "size": 10,
              "solidity": 0.2
             }
            },
            "type": "barpolar"
           }
          ],
          "carpet": [
           {
            "aaxis": {
             "endlinecolor": "#2a3f5f",
             "gridcolor": "white",
             "linecolor": "white",
             "minorgridcolor": "white",
             "startlinecolor": "#2a3f5f"
            },
            "baxis": {
             "endlinecolor": "#2a3f5f",
             "gridcolor": "white",
             "linecolor": "white",
             "minorgridcolor": "white",
             "startlinecolor": "#2a3f5f"
            },
            "type": "carpet"
           }
          ],
          "choropleth": [
           {
            "colorbar": {
             "outlinewidth": 0,
             "ticks": ""
            },
            "type": "choropleth"
           }
          ],
          "contour": [
           {
            "colorbar": {
             "outlinewidth": 0,
             "ticks": ""
            },
            "colorscale": [
             [
              0,
              "#0d0887"
             ],
             [
              0.1111111111111111,
              "#46039f"
             ],
             [
              0.2222222222222222,
              "#7201a8"
             ],
             [
              0.3333333333333333,
              "#9c179e"
             ],
             [
              0.4444444444444444,
              "#bd3786"
             ],
             [
              0.5555555555555556,
              "#d8576b"
             ],
             [
              0.6666666666666666,
              "#ed7953"
             ],
             [
              0.7777777777777778,
              "#fb9f3a"
             ],
             [
              0.8888888888888888,
              "#fdca26"
             ],
             [
              1,
              "#f0f921"
             ]
            ],
            "type": "contour"
           }
          ],
          "contourcarpet": [
           {
            "colorbar": {
             "outlinewidth": 0,
             "ticks": ""
            },
            "type": "contourcarpet"
           }
          ],
          "heatmap": [
           {
            "colorbar": {
             "outlinewidth": 0,
             "ticks": ""
            },
            "colorscale": [
             [
              0,
              "#0d0887"
             ],
             [
              0.1111111111111111,
              "#46039f"
             ],
             [
              0.2222222222222222,
              "#7201a8"
             ],
             [
              0.3333333333333333,
              "#9c179e"
             ],
             [
              0.4444444444444444,
              "#bd3786"
             ],
             [
              0.5555555555555556,
              "#d8576b"
             ],
             [
              0.6666666666666666,
              "#ed7953"
             ],
             [
              0.7777777777777778,
              "#fb9f3a"
             ],
             [
              0.8888888888888888,
              "#fdca26"
             ],
             [
              1,
              "#f0f921"
             ]
            ],
            "type": "heatmap"
           }
          ],
          "histogram": [
           {
            "marker": {
             "pattern": {
              "fillmode": "overlay",
              "size": 10,
              "solidity": 0.2
             }
            },
            "type": "histogram"
           }
          ],
          "histogram2d": [
           {
            "colorbar": {
             "outlinewidth": 0,
             "ticks": ""
            },
            "colorscale": [
             [
              0,
              "#0d0887"
             ],
             [
              0.1111111111111111,
              "#46039f"
             ],
             [
              0.2222222222222222,
              "#7201a8"
             ],
             [
              0.3333333333333333,
              "#9c179e"
             ],
             [
              0.4444444444444444,
              "#bd3786"
             ],
             [
              0.5555555555555556,
              "#d8576b"
             ],
             [
              0.6666666666666666,
              "#ed7953"
             ],
             [
              0.7777777777777778,
              "#fb9f3a"
             ],
             [
              0.8888888888888888,
              "#fdca26"
             ],
             [
              1,
              "#f0f921"
             ]
            ],
            "type": "histogram2d"
           }
          ],
          "histogram2dcontour": [
           {
            "colorbar": {
             "outlinewidth": 0,
             "ticks": ""
            },
            "colorscale": [
             [
              0,
              "#0d0887"
             ],
             [
              0.1111111111111111,
              "#46039f"
             ],
             [
              0.2222222222222222,
              "#7201a8"
             ],
             [
              0.3333333333333333,
              "#9c179e"
             ],
             [
              0.4444444444444444,
              "#bd3786"
             ],
             [
              0.5555555555555556,
              "#d8576b"
             ],
             [
              0.6666666666666666,
              "#ed7953"
             ],
             [
              0.7777777777777778,
              "#fb9f3a"
             ],
             [
              0.8888888888888888,
              "#fdca26"
             ],
             [
              1,
              "#f0f921"
             ]
            ],
            "type": "histogram2dcontour"
           }
          ],
          "mesh3d": [
           {
            "colorbar": {
             "outlinewidth": 0,
             "ticks": ""
            },
            "type": "mesh3d"
           }
          ],
          "parcoords": [
           {
            "line": {
             "colorbar": {
              "outlinewidth": 0,
              "ticks": ""
             }
            },
            "type": "parcoords"
           }
          ],
          "pie": [
           {
            "automargin": true,
            "type": "pie"
           }
          ],
          "scatter": [
           {
            "fillpattern": {
             "fillmode": "overlay",
             "size": 10,
             "solidity": 0.2
            },
            "type": "scatter"
           }
          ],
          "scatter3d": [
           {
            "line": {
             "colorbar": {
              "outlinewidth": 0,
              "ticks": ""
             }
            },
            "marker": {
             "colorbar": {
              "outlinewidth": 0,
              "ticks": ""
             }
            },
            "type": "scatter3d"
           }
          ],
          "scattercarpet": [
           {
            "marker": {
             "colorbar": {
              "outlinewidth": 0,
              "ticks": ""
             }
            },
            "type": "scattercarpet"
           }
          ],
          "scattergeo": [
           {
            "marker": {
             "colorbar": {
              "outlinewidth": 0,
              "ticks": ""
             }
            },
            "type": "scattergeo"
           }
          ],
          "scattergl": [
           {
            "marker": {
             "colorbar": {
              "outlinewidth": 0,
              "ticks": ""
             }
            },
            "type": "scattergl"
           }
          ],
          "scattermap": [
           {
            "marker": {
             "colorbar": {
              "outlinewidth": 0,
              "ticks": ""
             }
            },
            "type": "scattermap"
           }
          ],
          "scattermapbox": [
           {
            "marker": {
             "colorbar": {
              "outlinewidth": 0,
              "ticks": ""
             }
            },
            "type": "scattermapbox"
           }
          ],
          "scatterpolar": [
           {
            "marker": {
             "colorbar": {
              "outlinewidth": 0,
              "ticks": ""
             }
            },
            "type": "scatterpolar"
           }
          ],
          "scatterpolargl": [
           {
            "marker": {
             "colorbar": {
              "outlinewidth": 0,
              "ticks": ""
             }
            },
            "type": "scatterpolargl"
           }
          ],
          "scatterternary": [
           {
            "marker": {
             "colorbar": {
              "outlinewidth": 0,
              "ticks": ""
             }
            },
            "type": "scatterternary"
           }
          ],
          "surface": [
           {
            "colorbar": {
             "outlinewidth": 0,
             "ticks": ""
            },
            "colorscale": [
             [
              0,
              "#0d0887"
             ],
             [
              0.1111111111111111,
              "#46039f"
             ],
             [
              0.2222222222222222,
              "#7201a8"
             ],
             [
              0.3333333333333333,
              "#9c179e"
             ],
             [
              0.4444444444444444,
              "#bd3786"
             ],
             [
              0.5555555555555556,
              "#d8576b"
             ],
             [
              0.6666666666666666,
              "#ed7953"
             ],
             [
              0.7777777777777778,
              "#fb9f3a"
             ],
             [
              0.8888888888888888,
              "#fdca26"
             ],
             [
              1,
              "#f0f921"
             ]
            ],
            "type": "surface"
           }
          ],
          "table": [
           {
            "cells": {
             "fill": {
              "color": "#EBF0F8"
             },
             "line": {
              "color": "white"
             }
            },
            "header": {
             "fill": {
              "color": "#C8D4E3"
             },
             "line": {
              "color": "white"
             }
            },
            "type": "table"
           }
          ]
         },
         "layout": {
          "annotationdefaults": {
           "arrowcolor": "#2a3f5f",
           "arrowhead": 0,
           "arrowwidth": 1
          },
          "autotypenumbers": "strict",
          "coloraxis": {
           "colorbar": {
            "outlinewidth": 0,
            "ticks": ""
           }
          },
          "colorscale": {
           "diverging": [
            [
             0,
             "#8e0152"
            ],
            [
             0.1,
             "#c51b7d"
            ],
            [
             0.2,
             "#de77ae"
            ],
            [
             0.3,
             "#f1b6da"
            ],
            [
             0.4,
             "#fde0ef"
            ],
            [
             0.5,
             "#f7f7f7"
            ],
            [
             0.6,
             "#e6f5d0"
            ],
            [
             0.7,
             "#b8e186"
            ],
            [
             0.8,
             "#7fbc41"
            ],
            [
             0.9,
             "#4d9221"
            ],
            [
             1,
             "#276419"
            ]
           ],
           "sequential": [
            [
             0,
             "#0d0887"
            ],
            [
             0.1111111111111111,
             "#46039f"
            ],
            [
             0.2222222222222222,
             "#7201a8"
            ],
            [
             0.3333333333333333,
             "#9c179e"
            ],
            [
             0.4444444444444444,
             "#bd3786"
            ],
            [
             0.5555555555555556,
             "#d8576b"
            ],
            [
             0.6666666666666666,
             "#ed7953"
            ],
            [
             0.7777777777777778,
             "#fb9f3a"
            ],
            [
             0.8888888888888888,
             "#fdca26"
            ],
            [
             1,
             "#f0f921"
            ]
           ],
           "sequentialminus": [
            [
             0,
             "#0d0887"
            ],
            [
             0.1111111111111111,
             "#46039f"
            ],
            [
             0.2222222222222222,
             "#7201a8"
            ],
            [
             0.3333333333333333,
             "#9c179e"
            ],
            [
             0.4444444444444444,
             "#bd3786"
            ],
            [
             0.5555555555555556,
             "#d8576b"
            ],
            [
             0.6666666666666666,
             "#ed7953"
            ],
            [
             0.7777777777777778,
             "#fb9f3a"
            ],
            [
             0.8888888888888888,
             "#fdca26"
            ],
            [
             1,
             "#f0f921"
            ]
           ]
          },
          "colorway": [
           "#636efa",
           "#EF553B",
           "#00cc96",
           "#ab63fa",
           "#FFA15A",
           "#19d3f3",
           "#FF6692",
           "#B6E880",
           "#FF97FF",
           "#FECB52"
          ],
          "font": {
           "color": "#2a3f5f"
          },
          "geo": {
           "bgcolor": "white",
           "lakecolor": "white",
           "landcolor": "#E5ECF6",
           "showlakes": true,
           "showland": true,
           "subunitcolor": "white"
          },
          "hoverlabel": {
           "align": "left"
          },
          "hovermode": "closest",
          "mapbox": {
           "style": "light"
          },
          "paper_bgcolor": "white",
          "plot_bgcolor": "#E5ECF6",
          "polar": {
           "angularaxis": {
            "gridcolor": "white",
            "linecolor": "white",
            "ticks": ""
           },
           "bgcolor": "#E5ECF6",
           "radialaxis": {
            "gridcolor": "white",
            "linecolor": "white",
            "ticks": ""
           }
          },
          "scene": {
           "xaxis": {
            "backgroundcolor": "#E5ECF6",
            "gridcolor": "white",
            "gridwidth": 2,
            "linecolor": "white",
            "showbackground": true,
            "ticks": "",
            "zerolinecolor": "white"
           },
           "yaxis": {
            "backgroundcolor": "#E5ECF6",
            "gridcolor": "white",
            "gridwidth": 2,
            "linecolor": "white",
            "showbackground": true,
            "ticks": "",
            "zerolinecolor": "white"
           },
           "zaxis": {
            "backgroundcolor": "#E5ECF6",
            "gridcolor": "white",
            "gridwidth": 2,
            "linecolor": "white",
            "showbackground": true,
            "ticks": "",
            "zerolinecolor": "white"
           }
          },
          "shapedefaults": {
           "line": {
            "color": "#2a3f5f"
           }
          },
          "ternary": {
           "aaxis": {
            "gridcolor": "white",
            "linecolor": "white",
            "ticks": ""
           },
           "baxis": {
            "gridcolor": "white",
            "linecolor": "white",
            "ticks": ""
           },
           "bgcolor": "#E5ECF6",
           "caxis": {
            "gridcolor": "white",
            "linecolor": "white",
            "ticks": ""
           }
          },
          "title": {
           "x": 0.05
          },
          "xaxis": {
           "automargin": true,
           "gridcolor": "white",
           "linecolor": "white",
           "ticks": "",
           "title": {
            "standoff": 15
           },
           "zerolinecolor": "white",
           "zerolinewidth": 2
          },
          "yaxis": {
           "automargin": true,
           "gridcolor": "white",
           "linecolor": "white",
           "ticks": "",
           "title": {
            "standoff": 15
           },
           "zerolinecolor": "white",
           "zerolinewidth": 2
          }
         }
        },
        "title": {
         "text": "Localização dos nomes de citação - Professores com 'R'"
        },
        "xaxis": {
         "anchor": "y",
         "domain": [
          0,
          1
         ],
         "title": {
          "text": "PCA 1"
         }
        },
        "yaxis": {
         "anchor": "x",
         "domain": [
          0,
          1
         ],
         "title": {
          "text": "PCA 2"
         }
        }
       }
      }
     },
     "metadata": {},
     "output_type": "display_data"
    },
    {
     "name": "stdout",
     "output_type": "stream",
     "text": [
      "\n",
      "Professores e nomes de citação do grupo 'R':\n",
      "- Raoni Kulesza  (PCA: -0.355, 0.535)\n",
      "    • ABÁSOLO, M. J., KULESZA, R.  (PCA: -0.373, 0.561)\n",
      "    • MARÍA JOSÉ ABÁSOLO, RAONI KULESZA  (PCA: -0.411, 0.643)\n",
      "    • KULESZA, RAONI  (PCA: -0.355, 0.535)\n",
      "    • MARÍA JOSÉ ABÁSOLO  (PCA: -0.302, 0.420)\n",
      "    • ABÁSOLO, MARÍA JOSÉ, KULESZA, RAONI  (PCA: -0.411, 0.643)\n",
      "    • KULESZA, R.  (PCA: -0.322, 0.466)\n",
      "    • ABÁSOLO, M. J.  (PCA: -0.271, 0.351)\n",
      "- Roberto Quirino do Nascimento  (PCA: -0.530, -0.697)\n",
      "    • QUIRINO DO NASCIMENTO, ROBERTO  (PCA: -0.530, -0.697)\n",
      "    • NASCIMENTO, ROBERTO QUIRINO  (PCA: -0.496, -0.635)\n",
      "    • NASCIMENTO, R. Q.  (PCA: -0.362, -0.394)\n",
      "    • DO NASCIMENTO, ROBERTO QUIRINO  (PCA: -0.530, -0.697)\n",
      "    • NASCIMENTO, ROBERTO QUIRINO DO  (PCA: -0.530, -0.697)\n",
      "- Ruy Alberto Pisani Altafim  (PCA: 0.628, -0.069)\n",
      "    • ALTAFIM, R. A. P  (PCA: 0.533, -0.050)\n",
      "    • ALTAFIM, R.A.P.  (PCA: 0.533, -0.050)\n",
      "    • ALTAFIM, RUY ALBERTO PISANI  (PCA: 0.628, -0.069)\n",
      "    • ALTAFIM, R. A. P.  (PCA: 0.533, -0.050)\n",
      "    • ALTAFIM, R A P  (PCA: 0.533, -0.050)\n",
      "    • PISANI ALTAFIM, RUY  (PCA: 0.592, -0.063)\n",
      "    • ALTAFIM, NULL  (PCA: 0.205, -0.004)\n",
      "    • ALTAFIMA, R. A. P  (PCA: -0.128, 0.044)\n",
      "    • ALTAFIM, RUY A. P.  (PCA: 0.581, -0.060)\n",
      "    • PISANI ALTAFIM, RUY ALBERTO  (PCA: 0.628, -0.069)\n",
      "    • ALTAFIM, RUY ALBERTO  (PCA: 0.592, -0.063)\n",
      "    • RUY ALBERTO PISANI ALTAFIM  (PCA: 0.628, -0.069)\n",
      "- Rômulo Calado Pantaleão Camara  (PCA: -0.171, 0.069)\n",
      "    • CAMARA, RÔMULO  (PCA: -0.182, 0.075)\n",
      "    • CAMARA, ROMULO  (PCA: -0.170, 0.068)\n",
      "    • CAMARA, R. C. P.  (PCA: -0.182, 0.075)\n"
     ]
    },
    {
     "data": {
      "application/vnd.plotly.v1+json": {
       "config": {
        "plotlyServerURL": "https://plot.ly"
       },
       "data": [
        {
         "hovertemplate": "%{text}",
         "legendgroup": "",
         "marker": {
          "color": "#636efa",
          "size": 10,
          "symbol": "circle"
         },
         "mode": "markers+text",
         "name": "",
         "orientation": "v",
         "showlegend": false,
         "text": [
          "Sérgio de Carvalho Bezerra",
          "SÉRGIO DE CARVALHO BEZERRA",
          "S. DE CARVALHO",
          "DE CARVALHO BEZERRA, SÉRGIO",
          "S.C.BEZERRA",
          "BEZERRA, SÉRGIO",
          "BEZERRA, SÉRGIO C.",
          "BEZERRA,S. DE C",
          "S. CARVALHO"
         ],
         "textposition": "top center",
         "type": "scatter",
         "x": {
          "bdata": "mD06KncBwD+VPToqdwHAP00XQ62vWOc/lj06KncBwD9UksNFuRzhv9IC/LJGH+O/0gL8skYf47/QdpGYY9O1v1IB3xHqu+Y/",
          "dtype": "f8"
         },
         "xaxis": "x",
         "y": {
          "bdata": "mP2MYIMksz+k/YxggySzP9OpjYaJ1ce/mP2MYIMksz9JXoBQeBjUv7CFOifIS9M/sIU6J8hL0z/kbxDyoGvlv2VJCSGM59U/",
          "dtype": "f8"
         },
         "yaxis": "y"
        }
       ],
       "layout": {
        "legend": {
         "tracegroupgap": 0
        },
        "template": {
         "data": {
          "bar": [
           {
            "error_x": {
             "color": "#2a3f5f"
            },
            "error_y": {
             "color": "#2a3f5f"
            },
            "marker": {
             "line": {
              "color": "#E5ECF6",
              "width": 0.5
             },
             "pattern": {
              "fillmode": "overlay",
              "size": 10,
              "solidity": 0.2
             }
            },
            "type": "bar"
           }
          ],
          "barpolar": [
           {
            "marker": {
             "line": {
              "color": "#E5ECF6",
              "width": 0.5
             },
             "pattern": {
              "fillmode": "overlay",
              "size": 10,
              "solidity": 0.2
             }
            },
            "type": "barpolar"
           }
          ],
          "carpet": [
           {
            "aaxis": {
             "endlinecolor": "#2a3f5f",
             "gridcolor": "white",
             "linecolor": "white",
             "minorgridcolor": "white",
             "startlinecolor": "#2a3f5f"
            },
            "baxis": {
             "endlinecolor": "#2a3f5f",
             "gridcolor": "white",
             "linecolor": "white",
             "minorgridcolor": "white",
             "startlinecolor": "#2a3f5f"
            },
            "type": "carpet"
           }
          ],
          "choropleth": [
           {
            "colorbar": {
             "outlinewidth": 0,
             "ticks": ""
            },
            "type": "choropleth"
           }
          ],
          "contour": [
           {
            "colorbar": {
             "outlinewidth": 0,
             "ticks": ""
            },
            "colorscale": [
             [
              0,
              "#0d0887"
             ],
             [
              0.1111111111111111,
              "#46039f"
             ],
             [
              0.2222222222222222,
              "#7201a8"
             ],
             [
              0.3333333333333333,
              "#9c179e"
             ],
             [
              0.4444444444444444,
              "#bd3786"
             ],
             [
              0.5555555555555556,
              "#d8576b"
             ],
             [
              0.6666666666666666,
              "#ed7953"
             ],
             [
              0.7777777777777778,
              "#fb9f3a"
             ],
             [
              0.8888888888888888,
              "#fdca26"
             ],
             [
              1,
              "#f0f921"
             ]
            ],
            "type": "contour"
           }
          ],
          "contourcarpet": [
           {
            "colorbar": {
             "outlinewidth": 0,
             "ticks": ""
            },
            "type": "contourcarpet"
           }
          ],
          "heatmap": [
           {
            "colorbar": {
             "outlinewidth": 0,
             "ticks": ""
            },
            "colorscale": [
             [
              0,
              "#0d0887"
             ],
             [
              0.1111111111111111,
              "#46039f"
             ],
             [
              0.2222222222222222,
              "#7201a8"
             ],
             [
              0.3333333333333333,
              "#9c179e"
             ],
             [
              0.4444444444444444,
              "#bd3786"
             ],
             [
              0.5555555555555556,
              "#d8576b"
             ],
             [
              0.6666666666666666,
              "#ed7953"
             ],
             [
              0.7777777777777778,
              "#fb9f3a"
             ],
             [
              0.8888888888888888,
              "#fdca26"
             ],
             [
              1,
              "#f0f921"
             ]
            ],
            "type": "heatmap"
           }
          ],
          "histogram": [
           {
            "marker": {
             "pattern": {
              "fillmode": "overlay",
              "size": 10,
              "solidity": 0.2
             }
            },
            "type": "histogram"
           }
          ],
          "histogram2d": [
           {
            "colorbar": {
             "outlinewidth": 0,
             "ticks": ""
            },
            "colorscale": [
             [
              0,
              "#0d0887"
             ],
             [
              0.1111111111111111,
              "#46039f"
             ],
             [
              0.2222222222222222,
              "#7201a8"
             ],
             [
              0.3333333333333333,
              "#9c179e"
             ],
             [
              0.4444444444444444,
              "#bd3786"
             ],
             [
              0.5555555555555556,
              "#d8576b"
             ],
             [
              0.6666666666666666,
              "#ed7953"
             ],
             [
              0.7777777777777778,
              "#fb9f3a"
             ],
             [
              0.8888888888888888,
              "#fdca26"
             ],
             [
              1,
              "#f0f921"
             ]
            ],
            "type": "histogram2d"
           }
          ],
          "histogram2dcontour": [
           {
            "colorbar": {
             "outlinewidth": 0,
             "ticks": ""
            },
            "colorscale": [
             [
              0,
              "#0d0887"
             ],
             [
              0.1111111111111111,
              "#46039f"
             ],
             [
              0.2222222222222222,
              "#7201a8"
             ],
             [
              0.3333333333333333,
              "#9c179e"
             ],
             [
              0.4444444444444444,
              "#bd3786"
             ],
             [
              0.5555555555555556,
              "#d8576b"
             ],
             [
              0.6666666666666666,
              "#ed7953"
             ],
             [
              0.7777777777777778,
              "#fb9f3a"
             ],
             [
              0.8888888888888888,
              "#fdca26"
             ],
             [
              1,
              "#f0f921"
             ]
            ],
            "type": "histogram2dcontour"
           }
          ],
          "mesh3d": [
           {
            "colorbar": {
             "outlinewidth": 0,
             "ticks": ""
            },
            "type": "mesh3d"
           }
          ],
          "parcoords": [
           {
            "line": {
             "colorbar": {
              "outlinewidth": 0,
              "ticks": ""
             }
            },
            "type": "parcoords"
           }
          ],
          "pie": [
           {
            "automargin": true,
            "type": "pie"
           }
          ],
          "scatter": [
           {
            "fillpattern": {
             "fillmode": "overlay",
             "size": 10,
             "solidity": 0.2
            },
            "type": "scatter"
           }
          ],
          "scatter3d": [
           {
            "line": {
             "colorbar": {
              "outlinewidth": 0,
              "ticks": ""
             }
            },
            "marker": {
             "colorbar": {
              "outlinewidth": 0,
              "ticks": ""
             }
            },
            "type": "scatter3d"
           }
          ],
          "scattercarpet": [
           {
            "marker": {
             "colorbar": {
              "outlinewidth": 0,
              "ticks": ""
             }
            },
            "type": "scattercarpet"
           }
          ],
          "scattergeo": [
           {
            "marker": {
             "colorbar": {
              "outlinewidth": 0,
              "ticks": ""
             }
            },
            "type": "scattergeo"
           }
          ],
          "scattergl": [
           {
            "marker": {
             "colorbar": {
              "outlinewidth": 0,
              "ticks": ""
             }
            },
            "type": "scattergl"
           }
          ],
          "scattermap": [
           {
            "marker": {
             "colorbar": {
              "outlinewidth": 0,
              "ticks": ""
             }
            },
            "type": "scattermap"
           }
          ],
          "scattermapbox": [
           {
            "marker": {
             "colorbar": {
              "outlinewidth": 0,
              "ticks": ""
             }
            },
            "type": "scattermapbox"
           }
          ],
          "scatterpolar": [
           {
            "marker": {
             "colorbar": {
              "outlinewidth": 0,
              "ticks": ""
             }
            },
            "type": "scatterpolar"
           }
          ],
          "scatterpolargl": [
           {
            "marker": {
             "colorbar": {
              "outlinewidth": 0,
              "ticks": ""
             }
            },
            "type": "scatterpolargl"
           }
          ],
          "scatterternary": [
           {
            "marker": {
             "colorbar": {
              "outlinewidth": 0,
              "ticks": ""
             }
            },
            "type": "scatterternary"
           }
          ],
          "surface": [
           {
            "colorbar": {
             "outlinewidth": 0,
             "ticks": ""
            },
            "colorscale": [
             [
              0,
              "#0d0887"
             ],
             [
              0.1111111111111111,
              "#46039f"
             ],
             [
              0.2222222222222222,
              "#7201a8"
             ],
             [
              0.3333333333333333,
              "#9c179e"
             ],
             [
              0.4444444444444444,
              "#bd3786"
             ],
             [
              0.5555555555555556,
              "#d8576b"
             ],
             [
              0.6666666666666666,
              "#ed7953"
             ],
             [
              0.7777777777777778,
              "#fb9f3a"
             ],
             [
              0.8888888888888888,
              "#fdca26"
             ],
             [
              1,
              "#f0f921"
             ]
            ],
            "type": "surface"
           }
          ],
          "table": [
           {
            "cells": {
             "fill": {
              "color": "#EBF0F8"
             },
             "line": {
              "color": "white"
             }
            },
            "header": {
             "fill": {
              "color": "#C8D4E3"
             },
             "line": {
              "color": "white"
             }
            },
            "type": "table"
           }
          ]
         },
         "layout": {
          "annotationdefaults": {
           "arrowcolor": "#2a3f5f",
           "arrowhead": 0,
           "arrowwidth": 1
          },
          "autotypenumbers": "strict",
          "coloraxis": {
           "colorbar": {
            "outlinewidth": 0,
            "ticks": ""
           }
          },
          "colorscale": {
           "diverging": [
            [
             0,
             "#8e0152"
            ],
            [
             0.1,
             "#c51b7d"
            ],
            [
             0.2,
             "#de77ae"
            ],
            [
             0.3,
             "#f1b6da"
            ],
            [
             0.4,
             "#fde0ef"
            ],
            [
             0.5,
             "#f7f7f7"
            ],
            [
             0.6,
             "#e6f5d0"
            ],
            [
             0.7,
             "#b8e186"
            ],
            [
             0.8,
             "#7fbc41"
            ],
            [
             0.9,
             "#4d9221"
            ],
            [
             1,
             "#276419"
            ]
           ],
           "sequential": [
            [
             0,
             "#0d0887"
            ],
            [
             0.1111111111111111,
             "#46039f"
            ],
            [
             0.2222222222222222,
             "#7201a8"
            ],
            [
             0.3333333333333333,
             "#9c179e"
            ],
            [
             0.4444444444444444,
             "#bd3786"
            ],
            [
             0.5555555555555556,
             "#d8576b"
            ],
            [
             0.6666666666666666,
             "#ed7953"
            ],
            [
             0.7777777777777778,
             "#fb9f3a"
            ],
            [
             0.8888888888888888,
             "#fdca26"
            ],
            [
             1,
             "#f0f921"
            ]
           ],
           "sequentialminus": [
            [
             0,
             "#0d0887"
            ],
            [
             0.1111111111111111,
             "#46039f"
            ],
            [
             0.2222222222222222,
             "#7201a8"
            ],
            [
             0.3333333333333333,
             "#9c179e"
            ],
            [
             0.4444444444444444,
             "#bd3786"
            ],
            [
             0.5555555555555556,
             "#d8576b"
            ],
            [
             0.6666666666666666,
             "#ed7953"
            ],
            [
             0.7777777777777778,
             "#fb9f3a"
            ],
            [
             0.8888888888888888,
             "#fdca26"
            ],
            [
             1,
             "#f0f921"
            ]
           ]
          },
          "colorway": [
           "#636efa",
           "#EF553B",
           "#00cc96",
           "#ab63fa",
           "#FFA15A",
           "#19d3f3",
           "#FF6692",
           "#B6E880",
           "#FF97FF",
           "#FECB52"
          ],
          "font": {
           "color": "#2a3f5f"
          },
          "geo": {
           "bgcolor": "white",
           "lakecolor": "white",
           "landcolor": "#E5ECF6",
           "showlakes": true,
           "showland": true,
           "subunitcolor": "white"
          },
          "hoverlabel": {
           "align": "left"
          },
          "hovermode": "closest",
          "mapbox": {
           "style": "light"
          },
          "paper_bgcolor": "white",
          "plot_bgcolor": "#E5ECF6",
          "polar": {
           "angularaxis": {
            "gridcolor": "white",
            "linecolor": "white",
            "ticks": ""
           },
           "bgcolor": "#E5ECF6",
           "radialaxis": {
            "gridcolor": "white",
            "linecolor": "white",
            "ticks": ""
           }
          },
          "scene": {
           "xaxis": {
            "backgroundcolor": "#E5ECF6",
            "gridcolor": "white",
            "gridwidth": 2,
            "linecolor": "white",
            "showbackground": true,
            "ticks": "",
            "zerolinecolor": "white"
           },
           "yaxis": {
            "backgroundcolor": "#E5ECF6",
            "gridcolor": "white",
            "gridwidth": 2,
            "linecolor": "white",
            "showbackground": true,
            "ticks": "",
            "zerolinecolor": "white"
           },
           "zaxis": {
            "backgroundcolor": "#E5ECF6",
            "gridcolor": "white",
            "gridwidth": 2,
            "linecolor": "white",
            "showbackground": true,
            "ticks": "",
            "zerolinecolor": "white"
           }
          },
          "shapedefaults": {
           "line": {
            "color": "#2a3f5f"
           }
          },
          "ternary": {
           "aaxis": {
            "gridcolor": "white",
            "linecolor": "white",
            "ticks": ""
           },
           "baxis": {
            "gridcolor": "white",
            "linecolor": "white",
            "ticks": ""
           },
           "bgcolor": "#E5ECF6",
           "caxis": {
            "gridcolor": "white",
            "linecolor": "white",
            "ticks": ""
           }
          },
          "title": {
           "x": 0.05
          },
          "xaxis": {
           "automargin": true,
           "gridcolor": "white",
           "linecolor": "white",
           "ticks": "",
           "title": {
            "standoff": 15
           },
           "zerolinecolor": "white",
           "zerolinewidth": 2
          },
          "yaxis": {
           "automargin": true,
           "gridcolor": "white",
           "linecolor": "white",
           "ticks": "",
           "title": {
            "standoff": 15
           },
           "zerolinecolor": "white",
           "zerolinewidth": 2
          }
         }
        },
        "title": {
         "text": "Localização dos nomes de citação - Professores com 'S'"
        },
        "xaxis": {
         "anchor": "y",
         "domain": [
          0,
          1
         ],
         "title": {
          "text": "PCA 1"
         }
        },
        "yaxis": {
         "anchor": "x",
         "domain": [
          0,
          1
         ],
         "title": {
          "text": "PCA 2"
         }
        }
       }
      }
     },
     "metadata": {},
     "output_type": "display_data"
    },
    {
     "name": "stdout",
     "output_type": "stream",
     "text": [
      "\n",
      "Professores e nomes de citação do grupo 'S':\n",
      "- Sérgio de Carvalho Bezerra  (PCA: 0.125, 0.075)\n",
      "    • SÉRGIO DE CARVALHO BEZERRA  (PCA: 0.125, 0.075)\n",
      "    • S. DE CARVALHO  (PCA: 0.730, -0.186)\n",
      "    • DE CARVALHO BEZERRA, SÉRGIO  (PCA: 0.125, 0.075)\n",
      "    • S.C.BEZERRA  (PCA: -0.535, -0.314)\n",
      "    • BEZERRA, SÉRGIO  (PCA: -0.598, 0.302)\n",
      "    • BEZERRA, SÉRGIO C.  (PCA: -0.598, 0.302)\n",
      "    • BEZERRA,S. DE C  (PCA: -0.085, -0.669)\n",
      "    • S. CARVALHO  (PCA: 0.710, 0.342)\n"
     ]
    },
    {
     "data": {
      "application/vnd.plotly.v1+json": {
       "config": {
        "plotlyServerURL": "https://plot.ly"
       },
       "data": [
        {
         "hovertemplate": "%{text}",
         "legendgroup": "",
         "marker": {
          "color": "#636efa",
          "size": 10,
          "symbol": "circle"
         },
         "mode": "markers+text",
         "name": "",
         "orientation": "v",
         "showlegend": false,
         "text": [
          "Tatiana Araújo Simões",
          "SIMOES, T. A.",
          "SIMÕES, T.A.",
          "SIMÕES, TATIANA A.",
          "Teobaldo Leite Bulhões Júnior",
          "BULHÕES JÚNIOR, T. L.",
          "JÚNIOR, TEOBALDO L. BULHÕES",
          "BULHÕES, TEOBALDO",
          "BULHÕES, T.",
          "Thaís Gaudencio do Rêgo",
          "DO RÊGO, T.G.",
          "G. DO RÊGO, THAÍS",
          "RÊGO, THAIS G.",
          "REGO, THAIS",
          "DO RÃªGO, THAÃ­S G.",
          "RÊGO, THAIS GAUDÊNCIO",
          "RÊGO, THAÍS GAUDENCIO DO",
          "DO RÃªGO, THAÃ­S G",
          "DO REGO, THAÍS G.",
          "GAUDENCIO, THAIS",
          "RÊGO, THAIS GAUDENCIO DO",
          "DO RÊGO, THAÍS G.",
          "GAUDÊNCIO, THAÍS",
          "DO REGO, THAIS G",
          "DO REGO, TG",
          "RÊGO, THAÍS GAUDÊNCIO DO",
          "REGO, THAIS G. DO",
          "DO REGO, THAIS G.",
          "DO RÊGO, THAÍS GAUDENCIO",
          "GAUDENCIO, THAÍS",
          "Tiago Maritan Ugulino de Araújo",
          "DE ARAÚJO, TIAGO MARITAN UGULINO",
          "DE ARAUJO, TIAGO MARITAN U.",
          "ARAÚJO, TIAGO M. U. DE",
          "MARITAN, TIAGO",
          "DE ARAUJO, TIAGO M.U.",
          "ARAÚJO, TIAGO MARITAN UGULINO",
          "ARAÚJO, TIAGO MARITAN U.",
          "ARAUJO, TIAGO MARITAN U.",
          "UGULINO DE ARAUJO, TIAGO MARITAN",
          "ARAÚJO, T. M. U. DE",
          "ARAÚJO, TIAGO M.U. DE",
          "ARAÚJO, T. M. U.",
          "UGULINO DE ARAÚJO, TIAGO MARITAN",
          "ARAÚJO, TIAGO",
          "DE ARAÚJO, TIAGO MARITAN",
          "ARAUJO, TIAGO MARITAN UGULINO",
          "ARAÚJO, TIAGO MARITAN U. DE",
          "ARAÚJO, TIAGO M.U.",
          "ARAÚJO, TIAGO MARITAN UGULINO DE",
          "ARAUJO, TIAGO MARITAN UGULINO DE",
          "Tiago Pereira do Nascimento",
          "NASCIMENTO, TIAGO",
          "P. NASCIMENTO, TIAGO",
          "NASCIMENTO, TIAGO P.",
          "NASCIMENTO, T. P.",
          "NASCIMENTO, TIAGO PEREIRA",
          "PEREIRA NASCIMENTO, TIAGO",
          "DO NASCIMENTO, TIAGO P.",
          "NASCIMENTO, TIAGO P. DO",
          "TIAGO P. NASCIMENTO",
          "TIAGO PEREIRA DO NASCIMENTO"
         ],
         "textposition": "top center",
         "type": "scatter",
         "x": {
          "bdata": "iSNiq2bVqD/EbwnBfP+8v1TsaRaOS76/tJQMwOTxvb9XQhPKbrrDv9m5FZ+gucO/RgL2RoJ1xL/YuRWfoLnDv4qiZ/V1NMO/1u5ymD4w478ltbjhxZ7gvwYuTAxQqOK/J6ti8Y+i3L82xuNY1/TWv91V2JFkQNC/prgzkWc92r/W7nKYPjDjv99V2JFkQNC/GsyoZqfG379NHbo4HBDYvy32RK4cc+K/Bi5MDFCo4r+NWUPWHVLUv3gW9XoWHN6/0oYME+921L/ck36NUb7gv3gW9XoWHN6/eBb1ehYc3r/X7nKYPjDjvyLIytBI3tm/c9A97gPK5D9z0D3uA8rkP1lmz/3TNt4/iTgRp5qm4T+Qox5b5g7aP1ZPLVdKvtY/A81awabv4T857pdL5cbhPyen/JFjzNY/jIhGJ4BZ4D8Q7GiCLkTcP4k4EaeapuE/ZULDmuwT1D9z0D3uA8rkP2gV9ZCcDt0//lcbP1uQ5D9OUaYjshraP/5XGz9bkOQ/aBX1kJwO3T920D3uA8rkP4uIRieAWeA/hpS36C8Lvb81hjGLrDi6PzWGMYusOLo/NYYxi6w4uj9HvsGojSm6vyTyS0WOLps/JPJLRY4umz+i6D7BEoW7v6LoPsEShbu/NYYxi6w4uj+LlLfoLwu9vw==",
          "dtype": "f8"
         },
         "xaxis": "x",
         "y": {
          "bdata": "rc8Dxm8dw7+nYBhi/k6ivx9y28CzP62/vXUBMEQ2sL+GtMf1LsGuv1sqc1mpu66/8aVyciY1sL9aKnNZqbuuv4qqMzGghK2/JK8diTV30L8lOirIkWnDv/pVZs8iSMy/TSKiuE9Hz7/9PaQpbKbGv3R4EQ+R7J2/ZfeufAr5zL8mrx2JNXfQv3Z4EQ+R7J2/l+yahbXNxL9yb5AQyO7Kv87oqg3jjM+//FVmzyJIzL8y9DqKJaLFv24caBRFU8O/UxMjEZHUsb/YDm6t/VvLv24caBRFU8O/bhxoFEVTw78mrx2JNXfQvwtxPntBvcy//et2RzPW0L/963ZHM9bQv6wxJdKFzcG/s51zcH9rxL8PE3Cyiz2NP9oTMCZJ8bC/dQ6Q5k1yyL8mEOl0O0XBv6Ksa+78ZKa/UJk5DksgyL/vcv/ZCPPUv7Odc3B/a8S/txy9JvFa0L/963ZHM9bQvz9Q1HgrGKG/fzpowD/QzL9bYH3pM9G8v386aMA/0My/QlDUeCsYob/863ZHM9bQv02ZOQ5LIMi/LHCwyUr85D8RVX127inpPxBVfXbuKek/EVV9du4p6T/IwYanv/TnPxyLAK4AxeY/HIsArgDF5j8se7Kr5B7lPyx7sqvkHuU/EFV9du4p6T8scLDJSvzkPw==",
          "dtype": "f8"
         },
         "yaxis": "y"
        }
       ],
       "layout": {
        "legend": {
         "tracegroupgap": 0
        },
        "template": {
         "data": {
          "bar": [
           {
            "error_x": {
             "color": "#2a3f5f"
            },
            "error_y": {
             "color": "#2a3f5f"
            },
            "marker": {
             "line": {
              "color": "#E5ECF6",
              "width": 0.5
             },
             "pattern": {
              "fillmode": "overlay",
              "size": 10,
              "solidity": 0.2
             }
            },
            "type": "bar"
           }
          ],
          "barpolar": [
           {
            "marker": {
             "line": {
              "color": "#E5ECF6",
              "width": 0.5
             },
             "pattern": {
              "fillmode": "overlay",
              "size": 10,
              "solidity": 0.2
             }
            },
            "type": "barpolar"
           }
          ],
          "carpet": [
           {
            "aaxis": {
             "endlinecolor": "#2a3f5f",
             "gridcolor": "white",
             "linecolor": "white",
             "minorgridcolor": "white",
             "startlinecolor": "#2a3f5f"
            },
            "baxis": {
             "endlinecolor": "#2a3f5f",
             "gridcolor": "white",
             "linecolor": "white",
             "minorgridcolor": "white",
             "startlinecolor": "#2a3f5f"
            },
            "type": "carpet"
           }
          ],
          "choropleth": [
           {
            "colorbar": {
             "outlinewidth": 0,
             "ticks": ""
            },
            "type": "choropleth"
           }
          ],
          "contour": [
           {
            "colorbar": {
             "outlinewidth": 0,
             "ticks": ""
            },
            "colorscale": [
             [
              0,
              "#0d0887"
             ],
             [
              0.1111111111111111,
              "#46039f"
             ],
             [
              0.2222222222222222,
              "#7201a8"
             ],
             [
              0.3333333333333333,
              "#9c179e"
             ],
             [
              0.4444444444444444,
              "#bd3786"
             ],
             [
              0.5555555555555556,
              "#d8576b"
             ],
             [
              0.6666666666666666,
              "#ed7953"
             ],
             [
              0.7777777777777778,
              "#fb9f3a"
             ],
             [
              0.8888888888888888,
              "#fdca26"
             ],
             [
              1,
              "#f0f921"
             ]
            ],
            "type": "contour"
           }
          ],
          "contourcarpet": [
           {
            "colorbar": {
             "outlinewidth": 0,
             "ticks": ""
            },
            "type": "contourcarpet"
           }
          ],
          "heatmap": [
           {
            "colorbar": {
             "outlinewidth": 0,
             "ticks": ""
            },
            "colorscale": [
             [
              0,
              "#0d0887"
             ],
             [
              0.1111111111111111,
              "#46039f"
             ],
             [
              0.2222222222222222,
              "#7201a8"
             ],
             [
              0.3333333333333333,
              "#9c179e"
             ],
             [
              0.4444444444444444,
              "#bd3786"
             ],
             [
              0.5555555555555556,
              "#d8576b"
             ],
             [
              0.6666666666666666,
              "#ed7953"
             ],
             [
              0.7777777777777778,
              "#fb9f3a"
             ],
             [
              0.8888888888888888,
              "#fdca26"
             ],
             [
              1,
              "#f0f921"
             ]
            ],
            "type": "heatmap"
           }
          ],
          "histogram": [
           {
            "marker": {
             "pattern": {
              "fillmode": "overlay",
              "size": 10,
              "solidity": 0.2
             }
            },
            "type": "histogram"
           }
          ],
          "histogram2d": [
           {
            "colorbar": {
             "outlinewidth": 0,
             "ticks": ""
            },
            "colorscale": [
             [
              0,
              "#0d0887"
             ],
             [
              0.1111111111111111,
              "#46039f"
             ],
             [
              0.2222222222222222,
              "#7201a8"
             ],
             [
              0.3333333333333333,
              "#9c179e"
             ],
             [
              0.4444444444444444,
              "#bd3786"
             ],
             [
              0.5555555555555556,
              "#d8576b"
             ],
             [
              0.6666666666666666,
              "#ed7953"
             ],
             [
              0.7777777777777778,
              "#fb9f3a"
             ],
             [
              0.8888888888888888,
              "#fdca26"
             ],
             [
              1,
              "#f0f921"
             ]
            ],
            "type": "histogram2d"
           }
          ],
          "histogram2dcontour": [
           {
            "colorbar": {
             "outlinewidth": 0,
             "ticks": ""
            },
            "colorscale": [
             [
              0,
              "#0d0887"
             ],
             [
              0.1111111111111111,
              "#46039f"
             ],
             [
              0.2222222222222222,
              "#7201a8"
             ],
             [
              0.3333333333333333,
              "#9c179e"
             ],
             [
              0.4444444444444444,
              "#bd3786"
             ],
             [
              0.5555555555555556,
              "#d8576b"
             ],
             [
              0.6666666666666666,
              "#ed7953"
             ],
             [
              0.7777777777777778,
              "#fb9f3a"
             ],
             [
              0.8888888888888888,
              "#fdca26"
             ],
             [
              1,
              "#f0f921"
             ]
            ],
            "type": "histogram2dcontour"
           }
          ],
          "mesh3d": [
           {
            "colorbar": {
             "outlinewidth": 0,
             "ticks": ""
            },
            "type": "mesh3d"
           }
          ],
          "parcoords": [
           {
            "line": {
             "colorbar": {
              "outlinewidth": 0,
              "ticks": ""
             }
            },
            "type": "parcoords"
           }
          ],
          "pie": [
           {
            "automargin": true,
            "type": "pie"
           }
          ],
          "scatter": [
           {
            "fillpattern": {
             "fillmode": "overlay",
             "size": 10,
             "solidity": 0.2
            },
            "type": "scatter"
           }
          ],
          "scatter3d": [
           {
            "line": {
             "colorbar": {
              "outlinewidth": 0,
              "ticks": ""
             }
            },
            "marker": {
             "colorbar": {
              "outlinewidth": 0,
              "ticks": ""
             }
            },
            "type": "scatter3d"
           }
          ],
          "scattercarpet": [
           {
            "marker": {
             "colorbar": {
              "outlinewidth": 0,
              "ticks": ""
             }
            },
            "type": "scattercarpet"
           }
          ],
          "scattergeo": [
           {
            "marker": {
             "colorbar": {
              "outlinewidth": 0,
              "ticks": ""
             }
            },
            "type": "scattergeo"
           }
          ],
          "scattergl": [
           {
            "marker": {
             "colorbar": {
              "outlinewidth": 0,
              "ticks": ""
             }
            },
            "type": "scattergl"
           }
          ],
          "scattermap": [
           {
            "marker": {
             "colorbar": {
              "outlinewidth": 0,
              "ticks": ""
             }
            },
            "type": "scattermap"
           }
          ],
          "scattermapbox": [
           {
            "marker": {
             "colorbar": {
              "outlinewidth": 0,
              "ticks": ""
             }
            },
            "type": "scattermapbox"
           }
          ],
          "scatterpolar": [
           {
            "marker": {
             "colorbar": {
              "outlinewidth": 0,
              "ticks": ""
             }
            },
            "type": "scatterpolar"
           }
          ],
          "scatterpolargl": [
           {
            "marker": {
             "colorbar": {
              "outlinewidth": 0,
              "ticks": ""
             }
            },
            "type": "scatterpolargl"
           }
          ],
          "scatterternary": [
           {
            "marker": {
             "colorbar": {
              "outlinewidth": 0,
              "ticks": ""
             }
            },
            "type": "scatterternary"
           }
          ],
          "surface": [
           {
            "colorbar": {
             "outlinewidth": 0,
             "ticks": ""
            },
            "colorscale": [
             [
              0,
              "#0d0887"
             ],
             [
              0.1111111111111111,
              "#46039f"
             ],
             [
              0.2222222222222222,
              "#7201a8"
             ],
             [
              0.3333333333333333,
              "#9c179e"
             ],
             [
              0.4444444444444444,
              "#bd3786"
             ],
             [
              0.5555555555555556,
              "#d8576b"
             ],
             [
              0.6666666666666666,
              "#ed7953"
             ],
             [
              0.7777777777777778,
              "#fb9f3a"
             ],
             [
              0.8888888888888888,
              "#fdca26"
             ],
             [
              1,
              "#f0f921"
             ]
            ],
            "type": "surface"
           }
          ],
          "table": [
           {
            "cells": {
             "fill": {
              "color": "#EBF0F8"
             },
             "line": {
              "color": "white"
             }
            },
            "header": {
             "fill": {
              "color": "#C8D4E3"
             },
             "line": {
              "color": "white"
             }
            },
            "type": "table"
           }
          ]
         },
         "layout": {
          "annotationdefaults": {
           "arrowcolor": "#2a3f5f",
           "arrowhead": 0,
           "arrowwidth": 1
          },
          "autotypenumbers": "strict",
          "coloraxis": {
           "colorbar": {
            "outlinewidth": 0,
            "ticks": ""
           }
          },
          "colorscale": {
           "diverging": [
            [
             0,
             "#8e0152"
            ],
            [
             0.1,
             "#c51b7d"
            ],
            [
             0.2,
             "#de77ae"
            ],
            [
             0.3,
             "#f1b6da"
            ],
            [
             0.4,
             "#fde0ef"
            ],
            [
             0.5,
             "#f7f7f7"
            ],
            [
             0.6,
             "#e6f5d0"
            ],
            [
             0.7,
             "#b8e186"
            ],
            [
             0.8,
             "#7fbc41"
            ],
            [
             0.9,
             "#4d9221"
            ],
            [
             1,
             "#276419"
            ]
           ],
           "sequential": [
            [
             0,
             "#0d0887"
            ],
            [
             0.1111111111111111,
             "#46039f"
            ],
            [
             0.2222222222222222,
             "#7201a8"
            ],
            [
             0.3333333333333333,
             "#9c179e"
            ],
            [
             0.4444444444444444,
             "#bd3786"
            ],
            [
             0.5555555555555556,
             "#d8576b"
            ],
            [
             0.6666666666666666,
             "#ed7953"
            ],
            [
             0.7777777777777778,
             "#fb9f3a"
            ],
            [
             0.8888888888888888,
             "#fdca26"
            ],
            [
             1,
             "#f0f921"
            ]
           ],
           "sequentialminus": [
            [
             0,
             "#0d0887"
            ],
            [
             0.1111111111111111,
             "#46039f"
            ],
            [
             0.2222222222222222,
             "#7201a8"
            ],
            [
             0.3333333333333333,
             "#9c179e"
            ],
            [
             0.4444444444444444,
             "#bd3786"
            ],
            [
             0.5555555555555556,
             "#d8576b"
            ],
            [
             0.6666666666666666,
             "#ed7953"
            ],
            [
             0.7777777777777778,
             "#fb9f3a"
            ],
            [
             0.8888888888888888,
             "#fdca26"
            ],
            [
             1,
             "#f0f921"
            ]
           ]
          },
          "colorway": [
           "#636efa",
           "#EF553B",
           "#00cc96",
           "#ab63fa",
           "#FFA15A",
           "#19d3f3",
           "#FF6692",
           "#B6E880",
           "#FF97FF",
           "#FECB52"
          ],
          "font": {
           "color": "#2a3f5f"
          },
          "geo": {
           "bgcolor": "white",
           "lakecolor": "white",
           "landcolor": "#E5ECF6",
           "showlakes": true,
           "showland": true,
           "subunitcolor": "white"
          },
          "hoverlabel": {
           "align": "left"
          },
          "hovermode": "closest",
          "mapbox": {
           "style": "light"
          },
          "paper_bgcolor": "white",
          "plot_bgcolor": "#E5ECF6",
          "polar": {
           "angularaxis": {
            "gridcolor": "white",
            "linecolor": "white",
            "ticks": ""
           },
           "bgcolor": "#E5ECF6",
           "radialaxis": {
            "gridcolor": "white",
            "linecolor": "white",
            "ticks": ""
           }
          },
          "scene": {
           "xaxis": {
            "backgroundcolor": "#E5ECF6",
            "gridcolor": "white",
            "gridwidth": 2,
            "linecolor": "white",
            "showbackground": true,
            "ticks": "",
            "zerolinecolor": "white"
           },
           "yaxis": {
            "backgroundcolor": "#E5ECF6",
            "gridcolor": "white",
            "gridwidth": 2,
            "linecolor": "white",
            "showbackground": true,
            "ticks": "",
            "zerolinecolor": "white"
           },
           "zaxis": {
            "backgroundcolor": "#E5ECF6",
            "gridcolor": "white",
            "gridwidth": 2,
            "linecolor": "white",
            "showbackground": true,
            "ticks": "",
            "zerolinecolor": "white"
           }
          },
          "shapedefaults": {
           "line": {
            "color": "#2a3f5f"
           }
          },
          "ternary": {
           "aaxis": {
            "gridcolor": "white",
            "linecolor": "white",
            "ticks": ""
           },
           "baxis": {
            "gridcolor": "white",
            "linecolor": "white",
            "ticks": ""
           },
           "bgcolor": "#E5ECF6",
           "caxis": {
            "gridcolor": "white",
            "linecolor": "white",
            "ticks": ""
           }
          },
          "title": {
           "x": 0.05
          },
          "xaxis": {
           "automargin": true,
           "gridcolor": "white",
           "linecolor": "white",
           "ticks": "",
           "title": {
            "standoff": 15
           },
           "zerolinecolor": "white",
           "zerolinewidth": 2
          },
          "yaxis": {
           "automargin": true,
           "gridcolor": "white",
           "linecolor": "white",
           "ticks": "",
           "title": {
            "standoff": 15
           },
           "zerolinecolor": "white",
           "zerolinewidth": 2
          }
         }
        },
        "title": {
         "text": "Localização dos nomes de citação - Professores com 'T'"
        },
        "xaxis": {
         "anchor": "y",
         "domain": [
          0,
          1
         ],
         "title": {
          "text": "PCA 1"
         }
        },
        "yaxis": {
         "anchor": "x",
         "domain": [
          0,
          1
         ],
         "title": {
          "text": "PCA 2"
         }
        }
       }
      }
     },
     "metadata": {},
     "output_type": "display_data"
    },
    {
     "name": "stdout",
     "output_type": "stream",
     "text": [
      "\n",
      "Professores e nomes de citação do grupo 'T':\n",
      "- Tatiana Araújo Simões  (PCA: 0.049, -0.149)\n",
      "    • SIMOES, T. A.  (PCA: -0.113, -0.036)\n",
      "    • SIMÕES, T.A.  (PCA: -0.118, -0.057)\n",
      "    • SIMÕES, TATIANA A.  (PCA: -0.117, -0.063)\n",
      "- Teobaldo Leite Bulhões Júnior  (PCA: -0.154, -0.060)\n",
      "    • BULHÕES JÚNIOR, T. L.  (PCA: -0.154, -0.060)\n",
      "    • JÚNIOR, TEOBALDO L. BULHÕES  (PCA: -0.160, -0.063)\n",
      "    • BULHÕES, TEOBALDO  (PCA: -0.154, -0.060)\n",
      "    • BULHÕES, T.  (PCA: -0.150, -0.058)\n",
      "- Thaís Gaudencio do Rêgo  (PCA: -0.600, -0.257)\n",
      "    • DO RÊGO, T.G.  (PCA: -0.519, -0.152)\n",
      "    • G. DO RÊGO, THAÍS  (PCA: -0.583, -0.221)\n",
      "    • RÊGO, THAIS G.  (PCA: -0.447, -0.244)\n",
      "    • REGO, THAIS  (PCA: -0.359, -0.177)\n",
      "    • DO RÃªGO, THAÃ­S G.  (PCA: -0.254, -0.029)\n",
      "    • RÊGO, THAIS GAUDÊNCIO  (PCA: -0.410, -0.226)\n",
      "    • RÊGO, THAÍS GAUDENCIO DO  (PCA: -0.600, -0.257)\n",
      "    • DO RÃªGO, THAÃ­S G  (PCA: -0.254, -0.029)\n",
      "    • DO REGO, THAÍS G.  (PCA: -0.496, -0.163)\n",
      "    • GAUDENCIO, THAIS  (PCA: -0.376, -0.210)\n",
      "    • RÊGO, THAIS GAUDENCIO DO  (PCA: -0.577, -0.246)\n",
      "    • DO RÊGO, THAÍS G.  (PCA: -0.583, -0.221)\n",
      "    • GAUDÊNCIO, THAÍS  (PCA: -0.318, -0.169)\n",
      "    • DO REGO, THAIS G  (PCA: -0.470, -0.151)\n",
      "    • DO REGO, TG  (PCA: -0.320, -0.070)\n",
      "    • RÊGO, THAÍS GAUDÊNCIO DO  (PCA: -0.523, -0.214)\n",
      "    • REGO, THAIS G. DO  (PCA: -0.470, -0.151)\n",
      "    • DO REGO, THAIS G.  (PCA: -0.470, -0.151)\n",
      "    • DO RÊGO, THAÍS GAUDENCIO  (PCA: -0.600, -0.257)\n",
      "    • GAUDENCIO, THAÍS  (PCA: -0.404, -0.225)\n",
      "- Tiago Maritan Ugulino de Araújo  (PCA: 0.650, -0.263)\n",
      "    • DE ARAÚJO, TIAGO MARITAN UGULINO  (PCA: 0.650, -0.263)\n",
      "    • DE ARAUJO, TIAGO MARITAN U.  (PCA: 0.472, -0.139)\n",
      "    • ARAÚJO, TIAGO M. U. DE  (PCA: 0.552, -0.160)\n",
      "    • MARITAN, TIAGO  (PCA: 0.407, 0.014)\n",
      "    • DE ARAUJO, TIAGO M.U.  (PCA: 0.355, -0.066)\n",
      "    • ARAÚJO, TIAGO MARITAN UGULINO  (PCA: 0.561, -0.191)\n",
      "    • ARAÚJO, TIAGO MARITAN U.  (PCA: 0.556, -0.135)\n",
      "    • ARAUJO, TIAGO MARITAN U.  (PCA: 0.356, -0.044)\n",
      "    • UGULINO DE ARAUJO, TIAGO MARITAN  (PCA: 0.511, -0.188)\n",
      "    • ARAÚJO, T. M. U. DE  (PCA: 0.442, -0.327)\n",
      "    • ARAÚJO, TIAGO M.U. DE  (PCA: 0.552, -0.160)\n",
      "    • ARAÚJO, T. M. U.  (PCA: 0.314, -0.256)\n",
      "    • UGULINO DE ARAÚJO, TIAGO MARITAN  (PCA: 0.650, -0.263)\n",
      "    • ARAÚJO, TIAGO  (PCA: 0.454, -0.033)\n",
      "    • DE ARAÚJO, TIAGO MARITAN  (PCA: 0.643, -0.225)\n",
      "    • ARAUJO, TIAGO MARITAN UGULINO  (PCA: 0.408, -0.113)\n",
      "    • ARAÚJO, TIAGO MARITAN U. DE  (PCA: 0.643, -0.225)\n",
      "    • ARAÚJO, TIAGO M.U.  (PCA: 0.454, -0.033)\n",
      "    • ARAÚJO, TIAGO MARITAN UGULINO DE  (PCA: 0.650, -0.263)\n",
      "    • ARAUJO, TIAGO MARITAN UGULINO DE  (PCA: 0.511, -0.188)\n",
      "- Tiago Pereira do Nascimento  (PCA: -0.113, 0.656)\n",
      "    • NASCIMENTO, TIAGO  (PCA: 0.102, 0.786)\n",
      "    • P. NASCIMENTO, TIAGO  (PCA: 0.102, 0.786)\n",
      "    • NASCIMENTO, TIAGO P.  (PCA: 0.102, 0.786)\n",
      "    • NASCIMENTO, T. P.  (PCA: -0.102, 0.749)\n",
      "    • NASCIMENTO, TIAGO PEREIRA  (PCA: 0.027, 0.712)\n",
      "    • PEREIRA NASCIMENTO, TIAGO  (PCA: 0.027, 0.712)\n",
      "    • DO NASCIMENTO, TIAGO P.  (PCA: -0.107, 0.660)\n",
      "    • NASCIMENTO, TIAGO P. DO  (PCA: -0.107, 0.660)\n",
      "    • TIAGO P. NASCIMENTO  (PCA: 0.102, 0.786)\n",
      "    • TIAGO PEREIRA DO NASCIMENTO  (PCA: -0.113, 0.656)\n"
     ]
    },
    {
     "data": {
      "application/vnd.plotly.v1+json": {
       "config": {
        "plotlyServerURL": "https://plot.ly"
       },
       "data": [
        {
         "hovertemplate": "%{text}",
         "legendgroup": "",
         "marker": {
          "color": "#636efa",
          "size": 10,
          "symbol": "circle"
         },
         "mode": "markers+text",
         "name": "",
         "orientation": "v",
         "showlegend": false,
         "text": [
          "Valdecir Becker",
          "BECKER, V.",
          "BECKER, VALDECIR",
          "Verônica Maria Lima Silva",
          "SILVA, VERÔNICA MARIA LIMA",
          "SILVA, VERONICA M. L.",
          "MARIA LIMA SILVA, VERONICA",
          "SILVA, VERONICA MARIA LIMA",
          "SILVA, V. M. L.",
          "SILVA, VERONICA MARIA L.",
          "Vitor Meneghetti Ugulino de Araujo",
          "ARAÚJO, VITOR MENEGHETTI UGULINO DE",
          "ARAUJO, V. M. U."
         ],
         "textposition": "top center",
         "type": "scatter",
         "x": {
          "bdata": "ri/ppZgE578Her/Idn/kv68v6aWYBOe/07n5CG1Q2z/UufkIbVDbP68StDuAJ9o/BAiSR+k74j8ECJJH6TviP8lZVlf8/dI/MCFVbrNs4D9adxU24FbbvxJEb3a2bdi/XdRHynu51L8=",
          "dtype": "f8"
         },
         "xaxis": "x",
         "y": {
          "bdata": "MHL4RoDL4D+PLdAfHG3bPzJy+EaAy+A/9e4J8rK8sD/17gnysrywP8iitCWg+64/HMDDAP2Xuz8cwMMA/Ze7P/Wy4krEnJc/IUiqsklWtz91BBjOSRnqv6eLPtdylOa/Nf96oM6Y3r8=",
          "dtype": "f8"
         },
         "yaxis": "y"
        }
       ],
       "layout": {
        "legend": {
         "tracegroupgap": 0
        },
        "template": {
         "data": {
          "bar": [
           {
            "error_x": {
             "color": "#2a3f5f"
            },
            "error_y": {
             "color": "#2a3f5f"
            },
            "marker": {
             "line": {
              "color": "#E5ECF6",
              "width": 0.5
             },
             "pattern": {
              "fillmode": "overlay",
              "size": 10,
              "solidity": 0.2
             }
            },
            "type": "bar"
           }
          ],
          "barpolar": [
           {
            "marker": {
             "line": {
              "color": "#E5ECF6",
              "width": 0.5
             },
             "pattern": {
              "fillmode": "overlay",
              "size": 10,
              "solidity": 0.2
             }
            },
            "type": "barpolar"
           }
          ],
          "carpet": [
           {
            "aaxis": {
             "endlinecolor": "#2a3f5f",
             "gridcolor": "white",
             "linecolor": "white",
             "minorgridcolor": "white",
             "startlinecolor": "#2a3f5f"
            },
            "baxis": {
             "endlinecolor": "#2a3f5f",
             "gridcolor": "white",
             "linecolor": "white",
             "minorgridcolor": "white",
             "startlinecolor": "#2a3f5f"
            },
            "type": "carpet"
           }
          ],
          "choropleth": [
           {
            "colorbar": {
             "outlinewidth": 0,
             "ticks": ""
            },
            "type": "choropleth"
           }
          ],
          "contour": [
           {
            "colorbar": {
             "outlinewidth": 0,
             "ticks": ""
            },
            "colorscale": [
             [
              0,
              "#0d0887"
             ],
             [
              0.1111111111111111,
              "#46039f"
             ],
             [
              0.2222222222222222,
              "#7201a8"
             ],
             [
              0.3333333333333333,
              "#9c179e"
             ],
             [
              0.4444444444444444,
              "#bd3786"
             ],
             [
              0.5555555555555556,
              "#d8576b"
             ],
             [
              0.6666666666666666,
              "#ed7953"
             ],
             [
              0.7777777777777778,
              "#fb9f3a"
             ],
             [
              0.8888888888888888,
              "#fdca26"
             ],
             [
              1,
              "#f0f921"
             ]
            ],
            "type": "contour"
           }
          ],
          "contourcarpet": [
           {
            "colorbar": {
             "outlinewidth": 0,
             "ticks": ""
            },
            "type": "contourcarpet"
           }
          ],
          "heatmap": [
           {
            "colorbar": {
             "outlinewidth": 0,
             "ticks": ""
            },
            "colorscale": [
             [
              0,
              "#0d0887"
             ],
             [
              0.1111111111111111,
              "#46039f"
             ],
             [
              0.2222222222222222,
              "#7201a8"
             ],
             [
              0.3333333333333333,
              "#9c179e"
             ],
             [
              0.4444444444444444,
              "#bd3786"
             ],
             [
              0.5555555555555556,
              "#d8576b"
             ],
             [
              0.6666666666666666,
              "#ed7953"
             ],
             [
              0.7777777777777778,
              "#fb9f3a"
             ],
             [
              0.8888888888888888,
              "#fdca26"
             ],
             [
              1,
              "#f0f921"
             ]
            ],
            "type": "heatmap"
           }
          ],
          "histogram": [
           {
            "marker": {
             "pattern": {
              "fillmode": "overlay",
              "size": 10,
              "solidity": 0.2
             }
            },
            "type": "histogram"
           }
          ],
          "histogram2d": [
           {
            "colorbar": {
             "outlinewidth": 0,
             "ticks": ""
            },
            "colorscale": [
             [
              0,
              "#0d0887"
             ],
             [
              0.1111111111111111,
              "#46039f"
             ],
             [
              0.2222222222222222,
              "#7201a8"
             ],
             [
              0.3333333333333333,
              "#9c179e"
             ],
             [
              0.4444444444444444,
              "#bd3786"
             ],
             [
              0.5555555555555556,
              "#d8576b"
             ],
             [
              0.6666666666666666,
              "#ed7953"
             ],
             [
              0.7777777777777778,
              "#fb9f3a"
             ],
             [
              0.8888888888888888,
              "#fdca26"
             ],
             [
              1,
              "#f0f921"
             ]
            ],
            "type": "histogram2d"
           }
          ],
          "histogram2dcontour": [
           {
            "colorbar": {
             "outlinewidth": 0,
             "ticks": ""
            },
            "colorscale": [
             [
              0,
              "#0d0887"
             ],
             [
              0.1111111111111111,
              "#46039f"
             ],
             [
              0.2222222222222222,
              "#7201a8"
             ],
             [
              0.3333333333333333,
              "#9c179e"
             ],
             [
              0.4444444444444444,
              "#bd3786"
             ],
             [
              0.5555555555555556,
              "#d8576b"
             ],
             [
              0.6666666666666666,
              "#ed7953"
             ],
             [
              0.7777777777777778,
              "#fb9f3a"
             ],
             [
              0.8888888888888888,
              "#fdca26"
             ],
             [
              1,
              "#f0f921"
             ]
            ],
            "type": "histogram2dcontour"
           }
          ],
          "mesh3d": [
           {
            "colorbar": {
             "outlinewidth": 0,
             "ticks": ""
            },
            "type": "mesh3d"
           }
          ],
          "parcoords": [
           {
            "line": {
             "colorbar": {
              "outlinewidth": 0,
              "ticks": ""
             }
            },
            "type": "parcoords"
           }
          ],
          "pie": [
           {
            "automargin": true,
            "type": "pie"
           }
          ],
          "scatter": [
           {
            "fillpattern": {
             "fillmode": "overlay",
             "size": 10,
             "solidity": 0.2
            },
            "type": "scatter"
           }
          ],
          "scatter3d": [
           {
            "line": {
             "colorbar": {
              "outlinewidth": 0,
              "ticks": ""
             }
            },
            "marker": {
             "colorbar": {
              "outlinewidth": 0,
              "ticks": ""
             }
            },
            "type": "scatter3d"
           }
          ],
          "scattercarpet": [
           {
            "marker": {
             "colorbar": {
              "outlinewidth": 0,
              "ticks": ""
             }
            },
            "type": "scattercarpet"
           }
          ],
          "scattergeo": [
           {
            "marker": {
             "colorbar": {
              "outlinewidth": 0,
              "ticks": ""
             }
            },
            "type": "scattergeo"
           }
          ],
          "scattergl": [
           {
            "marker": {
             "colorbar": {
              "outlinewidth": 0,
              "ticks": ""
             }
            },
            "type": "scattergl"
           }
          ],
          "scattermap": [
           {
            "marker": {
             "colorbar": {
              "outlinewidth": 0,
              "ticks": ""
             }
            },
            "type": "scattermap"
           }
          ],
          "scattermapbox": [
           {
            "marker": {
             "colorbar": {
              "outlinewidth": 0,
              "ticks": ""
             }
            },
            "type": "scattermapbox"
           }
          ],
          "scatterpolar": [
           {
            "marker": {
             "colorbar": {
              "outlinewidth": 0,
              "ticks": ""
             }
            },
            "type": "scatterpolar"
           }
          ],
          "scatterpolargl": [
           {
            "marker": {
             "colorbar": {
              "outlinewidth": 0,
              "ticks": ""
             }
            },
            "type": "scatterpolargl"
           }
          ],
          "scatterternary": [
           {
            "marker": {
             "colorbar": {
              "outlinewidth": 0,
              "ticks": ""
             }
            },
            "type": "scatterternary"
           }
          ],
          "surface": [
           {
            "colorbar": {
             "outlinewidth": 0,
             "ticks": ""
            },
            "colorscale": [
             [
              0,
              "#0d0887"
             ],
             [
              0.1111111111111111,
              "#46039f"
             ],
             [
              0.2222222222222222,
              "#7201a8"
             ],
             [
              0.3333333333333333,
              "#9c179e"
             ],
             [
              0.4444444444444444,
              "#bd3786"
             ],
             [
              0.5555555555555556,
              "#d8576b"
             ],
             [
              0.6666666666666666,
              "#ed7953"
             ],
             [
              0.7777777777777778,
              "#fb9f3a"
             ],
             [
              0.8888888888888888,
              "#fdca26"
             ],
             [
              1,
              "#f0f921"
             ]
            ],
            "type": "surface"
           }
          ],
          "table": [
           {
            "cells": {
             "fill": {
              "color": "#EBF0F8"
             },
             "line": {
              "color": "white"
             }
            },
            "header": {
             "fill": {
              "color": "#C8D4E3"
             },
             "line": {
              "color": "white"
             }
            },
            "type": "table"
           }
          ]
         },
         "layout": {
          "annotationdefaults": {
           "arrowcolor": "#2a3f5f",
           "arrowhead": 0,
           "arrowwidth": 1
          },
          "autotypenumbers": "strict",
          "coloraxis": {
           "colorbar": {
            "outlinewidth": 0,
            "ticks": ""
           }
          },
          "colorscale": {
           "diverging": [
            [
             0,
             "#8e0152"
            ],
            [
             0.1,
             "#c51b7d"
            ],
            [
             0.2,
             "#de77ae"
            ],
            [
             0.3,
             "#f1b6da"
            ],
            [
             0.4,
             "#fde0ef"
            ],
            [
             0.5,
             "#f7f7f7"
            ],
            [
             0.6,
             "#e6f5d0"
            ],
            [
             0.7,
             "#b8e186"
            ],
            [
             0.8,
             "#7fbc41"
            ],
            [
             0.9,
             "#4d9221"
            ],
            [
             1,
             "#276419"
            ]
           ],
           "sequential": [
            [
             0,
             "#0d0887"
            ],
            [
             0.1111111111111111,
             "#46039f"
            ],
            [
             0.2222222222222222,
             "#7201a8"
            ],
            [
             0.3333333333333333,
             "#9c179e"
            ],
            [
             0.4444444444444444,
             "#bd3786"
            ],
            [
             0.5555555555555556,
             "#d8576b"
            ],
            [
             0.6666666666666666,
             "#ed7953"
            ],
            [
             0.7777777777777778,
             "#fb9f3a"
            ],
            [
             0.8888888888888888,
             "#fdca26"
            ],
            [
             1,
             "#f0f921"
            ]
           ],
           "sequentialminus": [
            [
             0,
             "#0d0887"
            ],
            [
             0.1111111111111111,
             "#46039f"
            ],
            [
             0.2222222222222222,
             "#7201a8"
            ],
            [
             0.3333333333333333,
             "#9c179e"
            ],
            [
             0.4444444444444444,
             "#bd3786"
            ],
            [
             0.5555555555555556,
             "#d8576b"
            ],
            [
             0.6666666666666666,
             "#ed7953"
            ],
            [
             0.7777777777777778,
             "#fb9f3a"
            ],
            [
             0.8888888888888888,
             "#fdca26"
            ],
            [
             1,
             "#f0f921"
            ]
           ]
          },
          "colorway": [
           "#636efa",
           "#EF553B",
           "#00cc96",
           "#ab63fa",
           "#FFA15A",
           "#19d3f3",
           "#FF6692",
           "#B6E880",
           "#FF97FF",
           "#FECB52"
          ],
          "font": {
           "color": "#2a3f5f"
          },
          "geo": {
           "bgcolor": "white",
           "lakecolor": "white",
           "landcolor": "#E5ECF6",
           "showlakes": true,
           "showland": true,
           "subunitcolor": "white"
          },
          "hoverlabel": {
           "align": "left"
          },
          "hovermode": "closest",
          "mapbox": {
           "style": "light"
          },
          "paper_bgcolor": "white",
          "plot_bgcolor": "#E5ECF6",
          "polar": {
           "angularaxis": {
            "gridcolor": "white",
            "linecolor": "white",
            "ticks": ""
           },
           "bgcolor": "#E5ECF6",
           "radialaxis": {
            "gridcolor": "white",
            "linecolor": "white",
            "ticks": ""
           }
          },
          "scene": {
           "xaxis": {
            "backgroundcolor": "#E5ECF6",
            "gridcolor": "white",
            "gridwidth": 2,
            "linecolor": "white",
            "showbackground": true,
            "ticks": "",
            "zerolinecolor": "white"
           },
           "yaxis": {
            "backgroundcolor": "#E5ECF6",
            "gridcolor": "white",
            "gridwidth": 2,
            "linecolor": "white",
            "showbackground": true,
            "ticks": "",
            "zerolinecolor": "white"
           },
           "zaxis": {
            "backgroundcolor": "#E5ECF6",
            "gridcolor": "white",
            "gridwidth": 2,
            "linecolor": "white",
            "showbackground": true,
            "ticks": "",
            "zerolinecolor": "white"
           }
          },
          "shapedefaults": {
           "line": {
            "color": "#2a3f5f"
           }
          },
          "ternary": {
           "aaxis": {
            "gridcolor": "white",
            "linecolor": "white",
            "ticks": ""
           },
           "baxis": {
            "gridcolor": "white",
            "linecolor": "white",
            "ticks": ""
           },
           "bgcolor": "#E5ECF6",
           "caxis": {
            "gridcolor": "white",
            "linecolor": "white",
            "ticks": ""
           }
          },
          "title": {
           "x": 0.05
          },
          "xaxis": {
           "automargin": true,
           "gridcolor": "white",
           "linecolor": "white",
           "ticks": "",
           "title": {
            "standoff": 15
           },
           "zerolinecolor": "white",
           "zerolinewidth": 2
          },
          "yaxis": {
           "automargin": true,
           "gridcolor": "white",
           "linecolor": "white",
           "ticks": "",
           "title": {
            "standoff": 15
           },
           "zerolinecolor": "white",
           "zerolinewidth": 2
          }
         }
        },
        "title": {
         "text": "Localização dos nomes de citação - Professores com 'V'"
        },
        "xaxis": {
         "anchor": "y",
         "domain": [
          0,
          1
         ],
         "title": {
          "text": "PCA 1"
         }
        },
        "yaxis": {
         "anchor": "x",
         "domain": [
          0,
          1
         ],
         "title": {
          "text": "PCA 2"
         }
        }
       }
      }
     },
     "metadata": {},
     "output_type": "display_data"
    },
    {
     "name": "stdout",
     "output_type": "stream",
     "text": [
      "\n",
      "Professores e nomes de citação do grupo 'V':\n",
      "- Valdecir Becker  (PCA: -0.719, 0.525)\n",
      "    • BECKER, V.  (PCA: -0.641, 0.429)\n",
      "    • BECKER, VALDECIR  (PCA: -0.719, 0.525)\n",
      "- Verônica Maria Lima Silva  (PCA: 0.427, 0.065)\n",
      "    • SILVA, VERÔNICA MARIA LIMA  (PCA: 0.427, 0.065)\n",
      "    • SILVA, VERONICA M. L.  (PCA: 0.409, 0.061)\n",
      "    • MARIA LIMA SILVA, VERONICA  (PCA: 0.570, 0.108)\n",
      "    • SILVA, VERONICA MARIA LIMA  (PCA: 0.570, 0.108)\n",
      "    • SILVA, V. M. L.  (PCA: 0.297, 0.023)\n",
      "    • SILVA, VERONICA MARIA L.  (PCA: 0.513, 0.091)\n",
      "- Vitor Meneghetti Ugulino de Araujo  (PCA: -0.427, -0.816)\n",
      "    • ARAÚJO, VITOR MENEGHETTI UGULINO DE  (PCA: -0.382, -0.706)\n",
      "    • ARAUJO, V. M. U.  (PCA: -0.324, -0.478)\n"
     ]
    },
    {
     "data": {
      "application/vnd.plotly.v1+json": {
       "config": {
        "plotlyServerURL": "https://plot.ly"
       },
       "data": [
        {
         "hovertemplate": "%{text}",
         "legendgroup": "",
         "marker": {
          "color": "#636efa",
          "size": 10,
          "symbol": "circle"
         },
         "mode": "markers+text",
         "name": "",
         "orientation": "v",
         "showlegend": false,
         "text": [
          "Yuri de Almeida Malheiros Barbosa",
          "MALHEIROS, YURI B.",
          "BARBOSA, YURI DE ALMEIDA MALHEIROS",
          "MALHEIROS, Y",
          "ALMEIDA, YURI A.",
          "MALHEIROS, YURI B",
          "BARBOSA, Y. A. M.",
          "MALHEIROS, Y.",
          "MALHEIROS, YURI",
          "Yuska Paola Costa Aguiar",
          "AGUIAR, YUSKA",
          "COSTA AGUIAR, YUSKA PAOLA",
          "AGUIAR, YUSKA PAOLA",
          "AGUIAR, YUSKA PAOLA COSTA",
          "YUSKA PAOLA COSTA AGUIAR",
          "YUSKA PAOLA AGUIAR",
          "AGUIAR, Y. P. C.",
          "COSTA, YUSKA PAOLA",
          "YUSKA PAOLA COSTA",
          "YUSKA P. C. AGUIAR",
          "AGUIAR, YUSKA P. C."
         ],
         "textposition": "top center",
         "type": "scatter",
         "x": {
          "bdata": "q6aZftpn5T9USLfI3qXoP66mmX7aZ+U/YMxeRFoE5T+zP4Pe/kXgP1VIt8jepeg/0n84Nmbm0j9dzF5EWgTlP1RIt8jepeg/pkLo3q/z4b+ewyBMwYHcv6ZC6N6v8+G/KpJHrLbe4L+mQujer/Phv6ZC6N6v8+G/KpJHrLbe4L9eF1G6wB/Rv6BeLLaIpNu/oF4stoik27+ewyBMwYHcv57DIEzBgdy/",
          "dtype": "f8"
         },
         "xaxis": "x",
         "y": {
          "bdata": "D+WrcSOKlz8Uerb8LHqtv1Xlq3Ejipc/jmlGHJbBrb+74hnirymaPw96tvwseq2/YHt4mQKntD+eaUYclsGtvwt6tvwseq2/vyk7GzHJ0L/beCtdGZfgP78pOxsxydC/doE0wN9Kuz+/KTsbMcnQv78pOxsxydC/doE0wN9Kuz+axWBbncnkP+jKdAF6t+O/6Mp0AXq347/beCtdGZfgP9t4K10Zl+A/",
          "dtype": "f8"
         },
         "yaxis": "y"
        }
       ],
       "layout": {
        "legend": {
         "tracegroupgap": 0
        },
        "template": {
         "data": {
          "bar": [
           {
            "error_x": {
             "color": "#2a3f5f"
            },
            "error_y": {
             "color": "#2a3f5f"
            },
            "marker": {
             "line": {
              "color": "#E5ECF6",
              "width": 0.5
             },
             "pattern": {
              "fillmode": "overlay",
              "size": 10,
              "solidity": 0.2
             }
            },
            "type": "bar"
           }
          ],
          "barpolar": [
           {
            "marker": {
             "line": {
              "color": "#E5ECF6",
              "width": 0.5
             },
             "pattern": {
              "fillmode": "overlay",
              "size": 10,
              "solidity": 0.2
             }
            },
            "type": "barpolar"
           }
          ],
          "carpet": [
           {
            "aaxis": {
             "endlinecolor": "#2a3f5f",
             "gridcolor": "white",
             "linecolor": "white",
             "minorgridcolor": "white",
             "startlinecolor": "#2a3f5f"
            },
            "baxis": {
             "endlinecolor": "#2a3f5f",
             "gridcolor": "white",
             "linecolor": "white",
             "minorgridcolor": "white",
             "startlinecolor": "#2a3f5f"
            },
            "type": "carpet"
           }
          ],
          "choropleth": [
           {
            "colorbar": {
             "outlinewidth": 0,
             "ticks": ""
            },
            "type": "choropleth"
           }
          ],
          "contour": [
           {
            "colorbar": {
             "outlinewidth": 0,
             "ticks": ""
            },
            "colorscale": [
             [
              0,
              "#0d0887"
             ],
             [
              0.1111111111111111,
              "#46039f"
             ],
             [
              0.2222222222222222,
              "#7201a8"
             ],
             [
              0.3333333333333333,
              "#9c179e"
             ],
             [
              0.4444444444444444,
              "#bd3786"
             ],
             [
              0.5555555555555556,
              "#d8576b"
             ],
             [
              0.6666666666666666,
              "#ed7953"
             ],
             [
              0.7777777777777778,
              "#fb9f3a"
             ],
             [
              0.8888888888888888,
              "#fdca26"
             ],
             [
              1,
              "#f0f921"
             ]
            ],
            "type": "contour"
           }
          ],
          "contourcarpet": [
           {
            "colorbar": {
             "outlinewidth": 0,
             "ticks": ""
            },
            "type": "contourcarpet"
           }
          ],
          "heatmap": [
           {
            "colorbar": {
             "outlinewidth": 0,
             "ticks": ""
            },
            "colorscale": [
             [
              0,
              "#0d0887"
             ],
             [
              0.1111111111111111,
              "#46039f"
             ],
             [
              0.2222222222222222,
              "#7201a8"
             ],
             [
              0.3333333333333333,
              "#9c179e"
             ],
             [
              0.4444444444444444,
              "#bd3786"
             ],
             [
              0.5555555555555556,
              "#d8576b"
             ],
             [
              0.6666666666666666,
              "#ed7953"
             ],
             [
              0.7777777777777778,
              "#fb9f3a"
             ],
             [
              0.8888888888888888,
              "#fdca26"
             ],
             [
              1,
              "#f0f921"
             ]
            ],
            "type": "heatmap"
           }
          ],
          "histogram": [
           {
            "marker": {
             "pattern": {
              "fillmode": "overlay",
              "size": 10,
              "solidity": 0.2
             }
            },
            "type": "histogram"
           }
          ],
          "histogram2d": [
           {
            "colorbar": {
             "outlinewidth": 0,
             "ticks": ""
            },
            "colorscale": [
             [
              0,
              "#0d0887"
             ],
             [
              0.1111111111111111,
              "#46039f"
             ],
             [
              0.2222222222222222,
              "#7201a8"
             ],
             [
              0.3333333333333333,
              "#9c179e"
             ],
             [
              0.4444444444444444,
              "#bd3786"
             ],
             [
              0.5555555555555556,
              "#d8576b"
             ],
             [
              0.6666666666666666,
              "#ed7953"
             ],
             [
              0.7777777777777778,
              "#fb9f3a"
             ],
             [
              0.8888888888888888,
              "#fdca26"
             ],
             [
              1,
              "#f0f921"
             ]
            ],
            "type": "histogram2d"
           }
          ],
          "histogram2dcontour": [
           {
            "colorbar": {
             "outlinewidth": 0,
             "ticks": ""
            },
            "colorscale": [
             [
              0,
              "#0d0887"
             ],
             [
              0.1111111111111111,
              "#46039f"
             ],
             [
              0.2222222222222222,
              "#7201a8"
             ],
             [
              0.3333333333333333,
              "#9c179e"
             ],
             [
              0.4444444444444444,
              "#bd3786"
             ],
             [
              0.5555555555555556,
              "#d8576b"
             ],
             [
              0.6666666666666666,
              "#ed7953"
             ],
             [
              0.7777777777777778,
              "#fb9f3a"
             ],
             [
              0.8888888888888888,
              "#fdca26"
             ],
             [
              1,
              "#f0f921"
             ]
            ],
            "type": "histogram2dcontour"
           }
          ],
          "mesh3d": [
           {
            "colorbar": {
             "outlinewidth": 0,
             "ticks": ""
            },
            "type": "mesh3d"
           }
          ],
          "parcoords": [
           {
            "line": {
             "colorbar": {
              "outlinewidth": 0,
              "ticks": ""
             }
            },
            "type": "parcoords"
           }
          ],
          "pie": [
           {
            "automargin": true,
            "type": "pie"
           }
          ],
          "scatter": [
           {
            "fillpattern": {
             "fillmode": "overlay",
             "size": 10,
             "solidity": 0.2
            },
            "type": "scatter"
           }
          ],
          "scatter3d": [
           {
            "line": {
             "colorbar": {
              "outlinewidth": 0,
              "ticks": ""
             }
            },
            "marker": {
             "colorbar": {
              "outlinewidth": 0,
              "ticks": ""
             }
            },
            "type": "scatter3d"
           }
          ],
          "scattercarpet": [
           {
            "marker": {
             "colorbar": {
              "outlinewidth": 0,
              "ticks": ""
             }
            },
            "type": "scattercarpet"
           }
          ],
          "scattergeo": [
           {
            "marker": {
             "colorbar": {
              "outlinewidth": 0,
              "ticks": ""
             }
            },
            "type": "scattergeo"
           }
          ],
          "scattergl": [
           {
            "marker": {
             "colorbar": {
              "outlinewidth": 0,
              "ticks": ""
             }
            },
            "type": "scattergl"
           }
          ],
          "scattermap": [
           {
            "marker": {
             "colorbar": {
              "outlinewidth": 0,
              "ticks": ""
             }
            },
            "type": "scattermap"
           }
          ],
          "scattermapbox": [
           {
            "marker": {
             "colorbar": {
              "outlinewidth": 0,
              "ticks": ""
             }
            },
            "type": "scattermapbox"
           }
          ],
          "scatterpolar": [
           {
            "marker": {
             "colorbar": {
              "outlinewidth": 0,
              "ticks": ""
             }
            },
            "type": "scatterpolar"
           }
          ],
          "scatterpolargl": [
           {
            "marker": {
             "colorbar": {
              "outlinewidth": 0,
              "ticks": ""
             }
            },
            "type": "scatterpolargl"
           }
          ],
          "scatterternary": [
           {
            "marker": {
             "colorbar": {
              "outlinewidth": 0,
              "ticks": ""
             }
            },
            "type": "scatterternary"
           }
          ],
          "surface": [
           {
            "colorbar": {
             "outlinewidth": 0,
             "ticks": ""
            },
            "colorscale": [
             [
              0,
              "#0d0887"
             ],
             [
              0.1111111111111111,
              "#46039f"
             ],
             [
              0.2222222222222222,
              "#7201a8"
             ],
             [
              0.3333333333333333,
              "#9c179e"
             ],
             [
              0.4444444444444444,
              "#bd3786"
             ],
             [
              0.5555555555555556,
              "#d8576b"
             ],
             [
              0.6666666666666666,
              "#ed7953"
             ],
             [
              0.7777777777777778,
              "#fb9f3a"
             ],
             [
              0.8888888888888888,
              "#fdca26"
             ],
             [
              1,
              "#f0f921"
             ]
            ],
            "type": "surface"
           }
          ],
          "table": [
           {
            "cells": {
             "fill": {
              "color": "#EBF0F8"
             },
             "line": {
              "color": "white"
             }
            },
            "header": {
             "fill": {
              "color": "#C8D4E3"
             },
             "line": {
              "color": "white"
             }
            },
            "type": "table"
           }
          ]
         },
         "layout": {
          "annotationdefaults": {
           "arrowcolor": "#2a3f5f",
           "arrowhead": 0,
           "arrowwidth": 1
          },
          "autotypenumbers": "strict",
          "coloraxis": {
           "colorbar": {
            "outlinewidth": 0,
            "ticks": ""
           }
          },
          "colorscale": {
           "diverging": [
            [
             0,
             "#8e0152"
            ],
            [
             0.1,
             "#c51b7d"
            ],
            [
             0.2,
             "#de77ae"
            ],
            [
             0.3,
             "#f1b6da"
            ],
            [
             0.4,
             "#fde0ef"
            ],
            [
             0.5,
             "#f7f7f7"
            ],
            [
             0.6,
             "#e6f5d0"
            ],
            [
             0.7,
             "#b8e186"
            ],
            [
             0.8,
             "#7fbc41"
            ],
            [
             0.9,
             "#4d9221"
            ],
            [
             1,
             "#276419"
            ]
           ],
           "sequential": [
            [
             0,
             "#0d0887"
            ],
            [
             0.1111111111111111,
             "#46039f"
            ],
            [
             0.2222222222222222,
             "#7201a8"
            ],
            [
             0.3333333333333333,
             "#9c179e"
            ],
            [
             0.4444444444444444,
             "#bd3786"
            ],
            [
             0.5555555555555556,
             "#d8576b"
            ],
            [
             0.6666666666666666,
             "#ed7953"
            ],
            [
             0.7777777777777778,
             "#fb9f3a"
            ],
            [
             0.8888888888888888,
             "#fdca26"
            ],
            [
             1,
             "#f0f921"
            ]
           ],
           "sequentialminus": [
            [
             0,
             "#0d0887"
            ],
            [
             0.1111111111111111,
             "#46039f"
            ],
            [
             0.2222222222222222,
             "#7201a8"
            ],
            [
             0.3333333333333333,
             "#9c179e"
            ],
            [
             0.4444444444444444,
             "#bd3786"
            ],
            [
             0.5555555555555556,
             "#d8576b"
            ],
            [
             0.6666666666666666,
             "#ed7953"
            ],
            [
             0.7777777777777778,
             "#fb9f3a"
            ],
            [
             0.8888888888888888,
             "#fdca26"
            ],
            [
             1,
             "#f0f921"
            ]
           ]
          },
          "colorway": [
           "#636efa",
           "#EF553B",
           "#00cc96",
           "#ab63fa",
           "#FFA15A",
           "#19d3f3",
           "#FF6692",
           "#B6E880",
           "#FF97FF",
           "#FECB52"
          ],
          "font": {
           "color": "#2a3f5f"
          },
          "geo": {
           "bgcolor": "white",
           "lakecolor": "white",
           "landcolor": "#E5ECF6",
           "showlakes": true,
           "showland": true,
           "subunitcolor": "white"
          },
          "hoverlabel": {
           "align": "left"
          },
          "hovermode": "closest",
          "mapbox": {
           "style": "light"
          },
          "paper_bgcolor": "white",
          "plot_bgcolor": "#E5ECF6",
          "polar": {
           "angularaxis": {
            "gridcolor": "white",
            "linecolor": "white",
            "ticks": ""
           },
           "bgcolor": "#E5ECF6",
           "radialaxis": {
            "gridcolor": "white",
            "linecolor": "white",
            "ticks": ""
           }
          },
          "scene": {
           "xaxis": {
            "backgroundcolor": "#E5ECF6",
            "gridcolor": "white",
            "gridwidth": 2,
            "linecolor": "white",
            "showbackground": true,
            "ticks": "",
            "zerolinecolor": "white"
           },
           "yaxis": {
            "backgroundcolor": "#E5ECF6",
            "gridcolor": "white",
            "gridwidth": 2,
            "linecolor": "white",
            "showbackground": true,
            "ticks": "",
            "zerolinecolor": "white"
           },
           "zaxis": {
            "backgroundcolor": "#E5ECF6",
            "gridcolor": "white",
            "gridwidth": 2,
            "linecolor": "white",
            "showbackground": true,
            "ticks": "",
            "zerolinecolor": "white"
           }
          },
          "shapedefaults": {
           "line": {
            "color": "#2a3f5f"
           }
          },
          "ternary": {
           "aaxis": {
            "gridcolor": "white",
            "linecolor": "white",
            "ticks": ""
           },
           "baxis": {
            "gridcolor": "white",
            "linecolor": "white",
            "ticks": ""
           },
           "bgcolor": "#E5ECF6",
           "caxis": {
            "gridcolor": "white",
            "linecolor": "white",
            "ticks": ""
           }
          },
          "title": {
           "x": 0.05
          },
          "xaxis": {
           "automargin": true,
           "gridcolor": "white",
           "linecolor": "white",
           "ticks": "",
           "title": {
            "standoff": 15
           },
           "zerolinecolor": "white",
           "zerolinewidth": 2
          },
          "yaxis": {
           "automargin": true,
           "gridcolor": "white",
           "linecolor": "white",
           "ticks": "",
           "title": {
            "standoff": 15
           },
           "zerolinecolor": "white",
           "zerolinewidth": 2
          }
         }
        },
        "title": {
         "text": "Localização dos nomes de citação - Professores com 'Y'"
        },
        "xaxis": {
         "anchor": "y",
         "domain": [
          0,
          1
         ],
         "title": {
          "text": "PCA 1"
         }
        },
        "yaxis": {
         "anchor": "x",
         "domain": [
          0,
          1
         ],
         "title": {
          "text": "PCA 2"
         }
        }
       }
      }
     },
     "metadata": {},
     "output_type": "display_data"
    },
    {
     "name": "stdout",
     "output_type": "stream",
     "text": [
      "\n",
      "Professores e nomes de citação do grupo 'Y':\n",
      "- Yuri de Almeida Malheiros Barbosa  (PCA: 0.669, 0.023)\n",
      "    • MALHEIROS, YURI B.  (PCA: 0.770, -0.058)\n",
      "    • BARBOSA, YURI DE ALMEIDA MALHEIROS  (PCA: 0.669, 0.023)\n",
      "    • MALHEIROS, Y  (PCA: 0.657, -0.058)\n",
      "    • ALMEIDA, YURI A.  (PCA: 0.509, 0.026)\n",
      "    • MALHEIROS, YURI B  (PCA: 0.770, -0.058)\n",
      "    • BARBOSA, Y. A. M.  (PCA: 0.295, 0.081)\n",
      "    • MALHEIROS, Y.  (PCA: 0.657, -0.058)\n",
      "    • MALHEIROS, YURI  (PCA: 0.770, -0.058)\n",
      "- Yuska Paola Costa Aguiar  (PCA: -0.561, -0.262)\n",
      "    • AGUIAR, YUSKA  (PCA: -0.445, 0.518)\n",
      "    • COSTA AGUIAR, YUSKA PAOLA  (PCA: -0.561, -0.262)\n",
      "    • AGUIAR, YUSKA PAOLA  (PCA: -0.527, 0.107)\n",
      "    • AGUIAR, YUSKA PAOLA COSTA  (PCA: -0.561, -0.262)\n",
      "    • YUSKA PAOLA COSTA AGUIAR  (PCA: -0.561, -0.262)\n",
      "    • YUSKA PAOLA AGUIAR  (PCA: -0.527, 0.107)\n",
      "    • AGUIAR, Y. P. C.  (PCA: -0.268, 0.650)\n",
      "    • COSTA, YUSKA PAOLA  (PCA: -0.432, -0.616)\n",
      "    • YUSKA PAOLA COSTA  (PCA: -0.432, -0.616)\n",
      "    • YUSKA P. C. AGUIAR  (PCA: -0.445, 0.518)\n",
      "    • AGUIAR, YUSKA P. C.  (PCA: -0.445, 0.518)\n"
     ]
    }
   ],
   "source": [
    "grupos = defaultdict(list)\n",
    "for prof in professores:\n",
    "    nome = prof[\"identificacao\"][\"nome\"]\n",
    "    grupos[nome[0].upper()].append(prof)\n",
    "\n",
    "for letra, grupo in grupos.items():\n",
    "    nomes = []\n",
    "    for prof in grupo:\n",
    "        nome_professor = prof[\"identificacao\"][\"nome\"]\n",
    "        nomes.append(nome_professor)\n",
    "        nomes += prof[\"identificacao\"].get(\"nomes_citacao\", [])\n",
    "    if len(nomes) < 2:\n",
    "        continue\n",
    "\n",
    "    vectorizer = TfidfVectorizer()\n",
    "    X = vectorizer.fit_transform(nomes)\n",
    "    pca = PCA(n_components=2)\n",
    "    X_2d = pca.fit_transform(X.toarray())\n",
    "\n",
    "    fig = px.scatter(\n",
    "        x=X_2d[:, 0],\n",
    "        y=X_2d[:, 1],\n",
    "        text=nomes,\n",
    "        labels={\"x\": \"PCA 1\", \"y\": \"PCA 2\"},\n",
    "        title=f\"Localização dos nomes de citação - Professores com '{letra}'\",\n",
    "    )\n",
    "    fig.update_traces(marker=dict(size=10), textposition='top center', hovertemplate='%{text}')\n",
    "    fig.show()\n",
    "\n",
    "    print(f\"\\nProfessores e nomes de citação do grupo '{letra}':\")\n",
    "    idx = 0\n",
    "    for prof in grupo:\n",
    "        nome_professor = prof[\"identificacao\"][\"nome\"]\n",
    "        print(f\"- {nome_professor}  (PCA: {X_2d[idx, 0]:.3f}, {X_2d[idx, 1]:.3f})\")\n",
    "        idx += 1\n",
    "        nomes_citacao = prof[\"identificacao\"].get(\"nomes_citacao\", [])\n",
    "        for nome_citacao in nomes_citacao:\n",
    "            print(f\"    • {nome_citacao}  (PCA: {X_2d[idx, 0]:.3f}, {X_2d[idx, 1]:.3f})\")\n",
    "            idx += 1"
   ]
  }
 ],
 "metadata": {
  "kernelspec": {
   "display_name": "python-starter (3.13.5)",
   "language": "python",
   "name": "python3"
  },
  "language_info": {
   "codemirror_mode": {
    "name": "ipython",
    "version": 3
   },
   "file_extension": ".py",
   "mimetype": "text/x-python",
   "name": "python",
   "nbconvert_exporter": "python",
   "pygments_lexer": "ipython3",
   "version": "3.13.5"
  }
 },
 "nbformat": 4,
 "nbformat_minor": 5
}
